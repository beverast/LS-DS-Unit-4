{
 "cells": [
  {
   "cell_type": "markdown",
   "metadata": {
    "colab_type": "text",
    "id": "HJzTIkYAsLxw"
   },
   "source": [
    "# Lets Use Libraries!\n",
    "\n",
    "The objective of the last two days has been to familiarize you with the fundamentals of neural networks: terminology, structure of networks, forward propagation, error/cost functions, backpropagation, epochs, and gradient descent. We have tried to reinforce these topics by requiring to you code some of the simplest neural networks by hand including Perceptrons (single node neural networks) and Multi-Layer Perceptrons also known as Feed-Forward Neural Networks. Continuing to do things by hand would not be the best use of our limited time. You're ready to graduate from doing things by hand and start using some powerful libraries to build cutting-edge predictive models. "
   ]
  },
  {
   "cell_type": "markdown",
   "metadata": {
    "colab_type": "text",
    "id": "MFYCXc5KdkPE"
   },
   "source": [
    "# Keras\n",
    "\n",
    "> \"Keras is a high-level neural networks API, written in Python and capable of running on top of TensorFlow, CNTK, or Theano. It was developed with a focus on enabling fast experimentation. Being able to go from idea to result with the least possible delay is key to doing good research. Use Keras if you need a deep learning library that:\n",
    "\n",
    "> Allows for easy and fast prototyping (through user friendliness, modularity, and extensibility).\n",
    "Supports both convolutional networks and recurrent networks, as well as combinations of the two.\n",
    "Runs seamlessly on CPU and GPU.\" \n",
    "\n",
    "## Installation\n",
    "\n",
    "The Keras API is particularly straightforward and it already comes pre-installed on Google Colab! \n",
    "\n",
    "<img src=\"http://www.ryanleeallred.com/wp-content/uploads/2019/04/pip-freeze-keras.png\" width=\"300\">\n",
    "\n",
    "If you're not on Google Colab you'll need to install one of the \"backend\" engines that Keras runs on top of. I recommend Tensorflow:\n",
    "\n",
    "> `pip install tensorflow`\n",
    "\n",
    "Google Colab does not have the latest Tensorflow 2.0 installation, so you'll need to upgrade to that if you want to experiment with it. However Tensorflow 2.0 was just released last month and is still in \"alpha\" so if you **really** want to use the latest and greatest be prepared for odd bugs that you don't have control over every once in a while. <https://www.tensorflow.org/install/>"
   ]
  },
  {
   "cell_type": "code",
   "execution_count": 1,
   "metadata": {
    "colab": {},
    "colab_type": "code",
    "id": "QEncs0SOsFMT"
   },
   "outputs": [
    {
     "data": {
      "text/plain": [
       "'1.14.0'"
      ]
     },
     "execution_count": 1,
     "metadata": {},
     "output_type": "execute_result"
    }
   ],
   "source": [
    "# Use pip freeze to see what packages/libraries your notebook has access to\n",
    "# !pip freeze\n",
    "import tensorflow\n",
    "tensorflow.__version__"
   ]
  },
  {
   "cell_type": "markdown",
   "metadata": {
    "colab_type": "text",
    "id": "VxgUUpIKn54a"
   },
   "source": [
    "## Our First Keras Model - Perceptron, Batch epochs\n",
    "\n",
    "1) Load Data\n",
    "\n",
    "2) Define Model\n",
    "\n",
    "3) Compile Model\n",
    "\n",
    "4) Fit Model\n",
    "\n",
    "5) Evaluate Model"
   ]
  },
  {
   "cell_type": "markdown",
   "metadata": {
    "colab_type": "text",
    "id": "Md5D67XwqVAf"
   },
   "source": [
    "### Load Data\n",
    "\n",
    "Our life is going to be easier if our data is already cleaned up and numeric, so lets use this dataset from Jason Brownlee that is already numeric and has no column headers so we'll need to slice off the last column of data to act as our y values."
   ]
  },
  {
   "cell_type": "code",
   "execution_count": 7,
   "metadata": {
    "colab": {
     "base_uri": "https://localhost:8080/",
     "height": 109,
     "resources": {
      "http://localhost:8080/nbextensions/google.colab/files.js": {
       "data": "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",
       "headers": [
        [
         "content-type",
         "application/javascript"
        ]
       ],
       "ok": true,
       "status": 200,
       "status_text": ""
      }
     }
    },
    "colab_type": "code",
    "id": "bn09phMBpY1J",
    "outputId": "1c45fb6a-e3cb-4ec1-fb85-de52b3c60bae"
   },
   "outputs": [],
   "source": [
    "import numpy as np\n",
    "import pandas as pd\n",
    "\n",
    "url =\"https://raw.githubusercontent.com/jbrownlee/Datasets/master/pima-indians-diabetes.data.csv\"\n",
    "dataset = pd.read_csv(url, header=None)"
   ]
  },
  {
   "cell_type": "code",
   "execution_count": 11,
   "metadata": {
    "colab": {
     "base_uri": "https://localhost:8080/",
     "height": 725
    },
    "colab_type": "code",
    "id": "FKuofD3Pogil",
    "outputId": "16c2f4fa-93c8-491d-b339-9f35f7918621"
   },
   "outputs": [
    {
     "name": "stdout",
     "output_type": "stream",
     "text": [
      "(768, 8)\n",
      "[[  6.    148.     72.    ...  33.6     0.627  50.   ]\n",
      " [  1.     85.     66.    ...  26.6     0.351  31.   ]\n",
      " [  8.    183.     64.    ...  23.3     0.672  32.   ]\n",
      " ...\n",
      " [  5.    121.     72.    ...  26.2     0.245  30.   ]\n",
      " [  1.    126.     60.    ...  30.1     0.349  47.   ]\n",
      " [  1.     93.     70.    ...  30.4     0.315  23.   ]]\n"
     ]
    }
   ],
   "source": [
    "# Split into X and Y variables\n",
    "X = dataset.values[:,0:8]\n",
    "print(X.shape)\n",
    "print(X)"
   ]
  },
  {
   "cell_type": "code",
   "execution_count": 13,
   "metadata": {
    "colab": {
     "base_uri": "https://localhost:8080/",
     "height": 725
    },
    "colab_type": "code",
    "id": "FKuofD3Pogil",
    "outputId": "16c2f4fa-93c8-491d-b339-9f35f7918621"
   },
   "outputs": [
    {
     "name": "stdout",
     "output_type": "stream",
     "text": [
      "(768,)\n",
      "[1. 0. 1. 0. 1. 0. 1. 0. 1. 1.]\n"
     ]
    }
   ],
   "source": [
    "Y = dataset.values[:,-1]\n",
    "print(Y.shape)\n",
    "print(Y[:10])"
   ]
  },
  {
   "cell_type": "markdown",
   "metadata": {
    "colab_type": "text",
    "id": "o0xMqOyTs5xt"
   },
   "source": [
    "### Define Model"
   ]
  },
  {
   "cell_type": "code",
   "execution_count": 14,
   "metadata": {
    "colab": {},
    "colab_type": "code",
    "id": "Bp9USczrfu6M"
   },
   "outputs": [],
   "source": [
    "from tensorflow.keras.models import Sequential\n",
    "from tensorflow.keras.layers import Dense\n",
    "\n",
    "np.random.seed(42)"
   ]
  },
  {
   "cell_type": "markdown",
   "metadata": {
    "colab_type": "text",
    "id": "wAzHLg27thoN"
   },
   "source": [
    "I'll instantiate my model as a \"sequential\" model. This just means that I'm going to tell Keras what my model's architecture should be one layer at a time."
   ]
  },
  {
   "cell_type": "code",
   "execution_count": 15,
   "metadata": {
    "colab": {},
    "colab_type": "code",
    "id": "DSNsL49Xp6KI"
   },
   "outputs": [],
   "source": [
    "# https://keras.io/getting-started/sequential-model-guide/\n",
    "model = Sequential()"
   ]
  },
  {
   "cell_type": "markdown",
   "metadata": {
    "colab_type": "text",
    "id": "ZCYX6QzJtvpG"
   },
   "source": [
    "Adding a \"Dense\" layer to our model is how we add \"vanilla\" perceptron-based layers to our neural network. These are also called \"fully-connected\" or \"densely-connected\" layers. They're used as a layer type in lots of other Neural Net Architectures but they're not referred to as perceptrons or multi-layer perceptrons very often in those situations even though that's what they are.\n",
    "\n",
    " > [\"Just your regular densely-connected NN layer.\"](https://keras.io/layers/core/)\n",
    " \n",
    " The first argument is how many neurons we want to have in that layer. To create a perceptron model we will just set it to 1. We will tell it that there will be 8 inputs coming into this layer from our dataset and set it to use the sigmoid activation function."
   ]
  },
  {
   "cell_type": "code",
   "execution_count": 16,
   "metadata": {
    "colab": {
     "base_uri": "https://localhost:8080/",
     "height": 89
    },
    "colab_type": "code",
    "id": "GNzOLidxtvFa",
    "outputId": "35b1457d-0189-49f1-aa6d-3ef15b29bd6e"
   },
   "outputs": [
    {
     "name": "stderr",
     "output_type": "stream",
     "text": [
      "WARNING: Logging before flag parsing goes to stderr.\n",
      "W0717 12:49:38.966604 140031646500672 deprecation.py:506] From /home/joseph/.local/lib/python3.7/site-packages/tensorflow/python/ops/init_ops.py:1251: calling VarianceScaling.__init__ (from tensorflow.python.ops.init_ops) with dtype is deprecated and will be removed in a future version.\n",
      "Instructions for updating:\n",
      "Call initializer instance with the dtype argument instead of passing it to the constructor\n"
     ]
    }
   ],
   "source": [
    "model.add(Dense(1, input_dim=8, activation='sigmoid'))"
   ]
  },
  {
   "cell_type": "markdown",
   "metadata": {
    "colab_type": "text",
    "id": "EnI3jwKMtBL2"
   },
   "source": [
    "### Compile Model\n",
    "Using binary_crossentropy as the loss function here is just telling keras that I'm doing binary classification so that it can use the appropriate loss function accordingly. If we were predicting non-binary categories we might assign something like `categorical_crossentropy`. We're also telling keras that we want it to report model accuracy as our main error metric for each epoch. We will also be able to see the overall accuracy once the model has finished training."
   ]
  },
  {
   "cell_type": "code",
   "execution_count": 17,
   "metadata": {
    "colab": {},
    "colab_type": "code",
    "id": "qp6xwYaqurRO"
   },
   "outputs": [
    {
     "name": "stderr",
     "output_type": "stream",
     "text": [
      "W0717 12:51:25.937570 140031646500672 deprecation.py:323] From /home/joseph/.local/lib/python3.7/site-packages/tensorflow/python/ops/nn_impl.py:180: add_dispatch_support.<locals>.wrapper (from tensorflow.python.ops.array_ops) is deprecated and will be removed in a future version.\n",
      "Instructions for updating:\n",
      "Use tf.where in 2.0, which has the same broadcast rule as np.where\n"
     ]
    }
   ],
   "source": [
    "model.compile(loss='binary_crossentropy', optimizer='adam', metrics=['accuracy'])"
   ]
  },
  {
   "cell_type": "markdown",
   "metadata": {
    "colab_type": "text",
    "id": "5dW8SZ2Ls9SX"
   },
   "source": [
    "### Fit Model\n",
    "\n",
    "Lets train it up! `model.fit()` has a `batch_size` parameter that we can use if we want to do mini-batch epochs, but since this tabular dataset is pretty small we're just going to delete that parameter. Keras' default `batch_size` is `None` so omiting it will tell Keras to do batch epochs. "
   ]
  },
  {
   "cell_type": "code",
   "execution_count": 18,
   "metadata": {
    "colab": {
     "base_uri": "https://localhost:8080/",
     "height": 5288
    },
    "colab_type": "code",
    "id": "nJxdmX_-u5MJ",
    "outputId": "ae78a80d-5b9a-46e0-a8c2-45b41e40bdfd"
   },
   "outputs": [
    {
     "name": "stdout",
     "output_type": "stream",
     "text": [
      "Epoch 1/150\n",
      "768/768 [==============================] - 0s 167us/sample - loss: 45.5434 - acc: 0.3503\n",
      "Epoch 2/150\n",
      "768/768 [==============================] - 0s 35us/sample - loss: 40.5069 - acc: 0.3529\n",
      "Epoch 3/150\n",
      "768/768 [==============================] - 0s 34us/sample - loss: 35.4617 - acc: 0.3542\n",
      "Epoch 4/150\n",
      "768/768 [==============================] - 0s 34us/sample - loss: 30.5112 - acc: 0.3633\n",
      "Epoch 5/150\n",
      "768/768 [==============================] - 0s 33us/sample - loss: 25.7455 - acc: 0.3932\n",
      "Epoch 6/150\n",
      "768/768 [==============================] - 0s 34us/sample - loss: 21.4586 - acc: 0.4089\n",
      "Epoch 7/150\n",
      "768/768 [==============================] - 0s 33us/sample - loss: 17.8252 - acc: 0.4297\n",
      "Epoch 8/150\n",
      "768/768 [==============================] - 0s 34us/sample - loss: 14.8054 - acc: 0.4518\n",
      "Epoch 9/150\n",
      "768/768 [==============================] - 0s 33us/sample - loss: 12.3041 - acc: 0.4818\n",
      "Epoch 10/150\n",
      "768/768 [==============================] - 0s 34us/sample - loss: 10.3648 - acc: 0.5156\n",
      "Epoch 11/150\n",
      "768/768 [==============================] - 0s 33us/sample - loss: 8.8655 - acc: 0.5456\n",
      "Epoch 12/150\n",
      "768/768 [==============================] - 0s 34us/sample - loss: 7.6597 - acc: 0.5664\n",
      "Epoch 13/150\n",
      "768/768 [==============================] - 0s 33us/sample - loss: 6.6910 - acc: 0.5755\n",
      "Epoch 14/150\n",
      "768/768 [==============================] - 0s 35us/sample - loss: 5.9433 - acc: 0.5938\n",
      "Epoch 15/150\n",
      "768/768 [==============================] - 0s 33us/sample - loss: 5.3754 - acc: 0.6029\n",
      "Epoch 16/150\n",
      "768/768 [==============================] - 0s 37us/sample - loss: 4.9656 - acc: 0.6081\n",
      "Epoch 17/150\n",
      "768/768 [==============================] - 0s 34us/sample - loss: 4.5966 - acc: 0.6198\n",
      "Epoch 18/150\n",
      "768/768 [==============================] - 0s 32us/sample - loss: 4.2710 - acc: 0.6289\n",
      "Epoch 19/150\n",
      "768/768 [==============================] - 0s 34us/sample - loss: 3.9757 - acc: 0.6328\n",
      "Epoch 20/150\n",
      "768/768 [==============================] - 0s 33us/sample - loss: 3.7051 - acc: 0.6406\n",
      "Epoch 21/150\n",
      "768/768 [==============================] - 0s 32us/sample - loss: 3.4669 - acc: 0.6367\n",
      "Epoch 22/150\n",
      "768/768 [==============================] - 0s 33us/sample - loss: 3.2653 - acc: 0.6406\n",
      "Epoch 23/150\n",
      "768/768 [==============================] - 0s 32us/sample - loss: 3.0906 - acc: 0.6419\n",
      "Epoch 24/150\n",
      "768/768 [==============================] - 0s 32us/sample - loss: 2.9610 - acc: 0.6302\n",
      "Epoch 25/150\n",
      "768/768 [==============================] - 0s 33us/sample - loss: 2.8376 - acc: 0.6315\n",
      "Epoch 26/150\n",
      "768/768 [==============================] - 0s 32us/sample - loss: 2.7480 - acc: 0.6367\n",
      "Epoch 27/150\n",
      "768/768 [==============================] - 0s 31us/sample - loss: 2.6889 - acc: 0.6367\n",
      "Epoch 28/150\n",
      "768/768 [==============================] - 0s 32us/sample - loss: 2.6408 - acc: 0.6328\n",
      "Epoch 29/150\n",
      "768/768 [==============================] - 0s 33us/sample - loss: 2.5970 - acc: 0.6406\n",
      "Epoch 30/150\n",
      "768/768 [==============================] - 0s 31us/sample - loss: 2.5638 - acc: 0.6393\n",
      "Epoch 31/150\n",
      "768/768 [==============================] - 0s 38us/sample - loss: 2.5185 - acc: 0.6406\n",
      "Epoch 32/150\n",
      "768/768 [==============================] - 0s 33us/sample - loss: 2.4878 - acc: 0.6393\n",
      "Epoch 33/150\n",
      "768/768 [==============================] - 0s 32us/sample - loss: 2.4520 - acc: 0.6406\n",
      "Epoch 34/150\n",
      "768/768 [==============================] - 0s 32us/sample - loss: 2.4175 - acc: 0.6497\n",
      "Epoch 35/150\n",
      "768/768 [==============================] - 0s 49us/sample - loss: 2.3909 - acc: 0.6445\n",
      "Epoch 36/150\n",
      "768/768 [==============================] - 0s 35us/sample - loss: 2.3510 - acc: 0.6432\n",
      "Epoch 37/150\n",
      "768/768 [==============================] - 0s 33us/sample - loss: 2.3259 - acc: 0.6458\n",
      "Epoch 38/150\n",
      "768/768 [==============================] - 0s 33us/sample - loss: 2.2862 - acc: 0.6523\n",
      "Epoch 39/150\n",
      "768/768 [==============================] - 0s 33us/sample - loss: 2.2519 - acc: 0.6484\n",
      "Epoch 40/150\n",
      "768/768 [==============================] - 0s 33us/sample - loss: 2.2246 - acc: 0.6406\n",
      "Epoch 41/150\n",
      "768/768 [==============================] - 0s 32us/sample - loss: 2.1930 - acc: 0.6484\n",
      "Epoch 42/150\n",
      "768/768 [==============================] - 0s 32us/sample - loss: 2.1536 - acc: 0.6484\n",
      "Epoch 43/150\n",
      "768/768 [==============================] - 0s 34us/sample - loss: 2.1185 - acc: 0.6523\n",
      "Epoch 44/150\n",
      "768/768 [==============================] - 0s 31us/sample - loss: 2.0876 - acc: 0.6536\n",
      "Epoch 45/150\n",
      "768/768 [==============================] - 0s 33us/sample - loss: 2.0534 - acc: 0.6497\n",
      "Epoch 46/150\n",
      "768/768 [==============================] - 0s 34us/sample - loss: 2.0236 - acc: 0.6523\n",
      "Epoch 47/150\n",
      "768/768 [==============================] - 0s 33us/sample - loss: 1.9824 - acc: 0.6471\n",
      "Epoch 48/150\n",
      "768/768 [==============================] - 0s 32us/sample - loss: 1.9524 - acc: 0.6536\n",
      "Epoch 49/150\n",
      "768/768 [==============================] - 0s 34us/sample - loss: 1.9133 - acc: 0.6523\n",
      "Epoch 50/150\n",
      "768/768 [==============================] - 0s 32us/sample - loss: 1.8856 - acc: 0.6523\n",
      "Epoch 51/150\n",
      "768/768 [==============================] - 0s 33us/sample - loss: 1.8470 - acc: 0.6497\n",
      "Epoch 52/150\n",
      "768/768 [==============================] - 0s 32us/sample - loss: 1.8141 - acc: 0.6576\n",
      "Epoch 53/150\n",
      "768/768 [==============================] - 0s 32us/sample - loss: 1.7794 - acc: 0.6589\n",
      "Epoch 54/150\n",
      "768/768 [==============================] - 0s 32us/sample - loss: 1.7507 - acc: 0.6576\n",
      "Epoch 55/150\n",
      "768/768 [==============================] - 0s 31us/sample - loss: 1.7202 - acc: 0.6497\n",
      "Epoch 56/150\n",
      "768/768 [==============================] - 0s 32us/sample - loss: 1.6805 - acc: 0.6628\n",
      "Epoch 57/150\n",
      "768/768 [==============================] - 0s 32us/sample - loss: 1.6513 - acc: 0.6576\n",
      "Epoch 58/150\n",
      "768/768 [==============================] - 0s 32us/sample - loss: 1.6179 - acc: 0.6589\n",
      "Epoch 59/150\n",
      "768/768 [==============================] - 0s 34us/sample - loss: 1.5839 - acc: 0.6667\n",
      "Epoch 60/150\n",
      "768/768 [==============================] - 0s 32us/sample - loss: 1.5475 - acc: 0.6693\n",
      "Epoch 61/150\n",
      "768/768 [==============================] - 0s 33us/sample - loss: 1.5201 - acc: 0.6667\n",
      "Epoch 62/150\n",
      "768/768 [==============================] - 0s 34us/sample - loss: 1.4854 - acc: 0.6693\n",
      "Epoch 63/150\n",
      "768/768 [==============================] - 0s 32us/sample - loss: 1.4638 - acc: 0.6589\n",
      "Epoch 64/150\n",
      "768/768 [==============================] - 0s 32us/sample - loss: 1.4246 - acc: 0.6823\n",
      "Epoch 65/150\n",
      "768/768 [==============================] - 0s 33us/sample - loss: 1.3965 - acc: 0.6732\n",
      "Epoch 66/150\n",
      "768/768 [==============================] - 0s 31us/sample - loss: 1.3640 - acc: 0.6732\n",
      "Epoch 67/150\n",
      "768/768 [==============================] - 0s 33us/sample - loss: 1.3380 - acc: 0.6771\n",
      "Epoch 68/150\n",
      "768/768 [==============================] - 0s 34us/sample - loss: 1.3010 - acc: 0.6758\n",
      "Epoch 69/150\n",
      "768/768 [==============================] - 0s 31us/sample - loss: 1.2752 - acc: 0.6797\n",
      "Epoch 70/150\n",
      "768/768 [==============================] - 0s 32us/sample - loss: 1.2482 - acc: 0.6771\n",
      "Epoch 71/150\n",
      "768/768 [==============================] - 0s 34us/sample - loss: 1.2206 - acc: 0.6823\n",
      "Epoch 72/150\n",
      "768/768 [==============================] - 0s 32us/sample - loss: 1.1916 - acc: 0.6758\n",
      "Epoch 73/150\n",
      "768/768 [==============================] - 0s 35us/sample - loss: 1.1677 - acc: 0.6849\n",
      "Epoch 74/150\n",
      "768/768 [==============================] - 0s 35us/sample - loss: 1.1371 - acc: 0.6732\n",
      "Epoch 75/150\n",
      "768/768 [==============================] - 0s 31us/sample - loss: 1.1214 - acc: 0.6862\n",
      "Epoch 76/150\n",
      "768/768 [==============================] - 0s 32us/sample - loss: 1.0920 - acc: 0.6771\n",
      "Epoch 77/150\n",
      "768/768 [==============================] - 0s 33us/sample - loss: 1.0665 - acc: 0.6836\n",
      "Epoch 78/150\n",
      "768/768 [==============================] - 0s 32us/sample - loss: 1.0382 - acc: 0.6940\n",
      "Epoch 79/150\n",
      "768/768 [==============================] - 0s 35us/sample - loss: 1.0166 - acc: 0.6914\n",
      "Epoch 80/150\n",
      "768/768 [==============================] - 0s 31us/sample - loss: 0.9933 - acc: 0.6849\n",
      "Epoch 81/150\n",
      "768/768 [==============================] - 0s 33us/sample - loss: 0.9717 - acc: 0.6940\n",
      "Epoch 82/150\n",
      "768/768 [==============================] - 0s 34us/sample - loss: 0.9510 - acc: 0.6901\n",
      "Epoch 83/150\n",
      "768/768 [==============================] - 0s 31us/sample - loss: 0.9361 - acc: 0.6875\n",
      "Epoch 84/150\n",
      "768/768 [==============================] - 0s 32us/sample - loss: 0.9143 - acc: 0.6979\n",
      "Epoch 85/150\n",
      "768/768 [==============================] - 0s 35us/sample - loss: 0.8917 - acc: 0.6966\n",
      "Epoch 86/150\n",
      "768/768 [==============================] - 0s 34us/sample - loss: 0.8851 - acc: 0.7070\n",
      "Epoch 87/150\n",
      "768/768 [==============================] - 0s 33us/sample - loss: 0.8638 - acc: 0.6992\n",
      "Epoch 88/150\n",
      "768/768 [==============================] - 0s 33us/sample - loss: 0.8437 - acc: 0.6927\n",
      "Epoch 89/150\n",
      "768/768 [==============================] - 0s 33us/sample - loss: 0.8309 - acc: 0.6940\n",
      "Epoch 90/150\n",
      "768/768 [==============================] - 0s 32us/sample - loss: 0.8162 - acc: 0.6888\n",
      "Epoch 91/150\n",
      "768/768 [==============================] - 0s 33us/sample - loss: 0.8026 - acc: 0.6979\n",
      "Epoch 92/150\n",
      "768/768 [==============================] - 0s 31us/sample - loss: 0.7894 - acc: 0.7070\n",
      "Epoch 93/150\n",
      "768/768 [==============================] - 0s 33us/sample - loss: 0.7745 - acc: 0.6901\n",
      "Epoch 94/150\n",
      "768/768 [==============================] - 0s 34us/sample - loss: 0.7777 - acc: 0.7005\n",
      "Epoch 95/150\n",
      "768/768 [==============================] - 0s 33us/sample - loss: 0.7506 - acc: 0.7018\n",
      "Epoch 96/150\n",
      "768/768 [==============================] - 0s 33us/sample - loss: 0.7429 - acc: 0.7005\n",
      "Epoch 97/150\n",
      "768/768 [==============================] - 0s 32us/sample - loss: 0.7362 - acc: 0.6901\n",
      "Epoch 98/150\n",
      "768/768 [==============================] - 0s 32us/sample - loss: 0.7296 - acc: 0.7044\n",
      "Epoch 99/150\n",
      "768/768 [==============================] - 0s 36us/sample - loss: 0.7134 - acc: 0.7005\n",
      "Epoch 100/150\n",
      "768/768 [==============================] - 0s 33us/sample - loss: 0.7021 - acc: 0.7018\n",
      "Epoch 101/150\n",
      "768/768 [==============================] - 0s 33us/sample - loss: 0.6963 - acc: 0.6979\n",
      "Epoch 102/150\n",
      "768/768 [==============================] - 0s 35us/sample - loss: 0.6925 - acc: 0.6927\n",
      "Epoch 103/150\n",
      "768/768 [==============================] - 0s 33us/sample - loss: 0.6833 - acc: 0.6927\n",
      "Epoch 104/150\n",
      "768/768 [==============================] - 0s 35us/sample - loss: 0.6763 - acc: 0.7109\n",
      "Epoch 105/150\n",
      "768/768 [==============================] - 0s 33us/sample - loss: 0.6709 - acc: 0.6992\n",
      "Epoch 106/150\n",
      "768/768 [==============================] - 0s 35us/sample - loss: 0.6661 - acc: 0.6966\n",
      "Epoch 107/150\n",
      "768/768 [==============================] - 0s 32us/sample - loss: 0.6609 - acc: 0.6992\n",
      "Epoch 108/150\n",
      "768/768 [==============================] - 0s 35us/sample - loss: 0.6586 - acc: 0.6953\n",
      "Epoch 109/150\n",
      "768/768 [==============================] - 0s 35us/sample - loss: 0.6550 - acc: 0.7135\n",
      "Epoch 110/150\n",
      "768/768 [==============================] - 0s 33us/sample - loss: 0.6517 - acc: 0.6992\n",
      "Epoch 111/150\n",
      "768/768 [==============================] - 0s 31us/sample - loss: 0.6428 - acc: 0.7070\n",
      "Epoch 112/150\n",
      "768/768 [==============================] - 0s 33us/sample - loss: 0.6414 - acc: 0.7096\n",
      "Epoch 113/150\n",
      "768/768 [==============================] - 0s 32us/sample - loss: 0.6407 - acc: 0.7018\n",
      "Epoch 114/150\n",
      "768/768 [==============================] - 0s 32us/sample - loss: 0.6362 - acc: 0.7044\n",
      "Epoch 115/150\n",
      "768/768 [==============================] - 0s 32us/sample - loss: 0.6267 - acc: 0.7044\n",
      "Epoch 116/150\n",
      "768/768 [==============================] - 0s 32us/sample - loss: 0.6452 - acc: 0.6862\n",
      "Epoch 117/150\n",
      "768/768 [==============================] - 0s 32us/sample - loss: 0.6418 - acc: 0.6940\n",
      "Epoch 118/150\n",
      "768/768 [==============================] - 0s 33us/sample - loss: 0.6208 - acc: 0.7083\n",
      "Epoch 119/150\n",
      "768/768 [==============================] - 0s 33us/sample - loss: 0.6244 - acc: 0.6992\n",
      "Epoch 120/150\n",
      "768/768 [==============================] - 0s 33us/sample - loss: 0.6202 - acc: 0.7018\n",
      "Epoch 121/150\n",
      "768/768 [==============================] - 0s 33us/sample - loss: 0.6177 - acc: 0.6979\n",
      "Epoch 122/150\n",
      "768/768 [==============================] - 0s 32us/sample - loss: 0.6142 - acc: 0.6966\n",
      "Epoch 123/150\n",
      "768/768 [==============================] - 0s 33us/sample - loss: 0.6141 - acc: 0.7044\n",
      "Epoch 124/150\n",
      "768/768 [==============================] - 0s 35us/sample - loss: 0.6093 - acc: 0.7070\n",
      "Epoch 125/150\n",
      "768/768 [==============================] - 0s 33us/sample - loss: 0.6102 - acc: 0.7057\n",
      "Epoch 126/150\n",
      "768/768 [==============================] - 0s 32us/sample - loss: 0.6140 - acc: 0.7031\n",
      "Epoch 127/150\n",
      "768/768 [==============================] - 0s 33us/sample - loss: 0.6072 - acc: 0.7083\n",
      "Epoch 128/150\n",
      "768/768 [==============================] - 0s 32us/sample - loss: 0.6109 - acc: 0.7005\n",
      "Epoch 129/150\n",
      "768/768 [==============================] - 0s 33us/sample - loss: 0.6160 - acc: 0.6979\n",
      "Epoch 130/150\n",
      "768/768 [==============================] - 0s 34us/sample - loss: 0.6030 - acc: 0.7109\n",
      "Epoch 131/150\n",
      "768/768 [==============================] - 0s 32us/sample - loss: 0.6064 - acc: 0.7070\n",
      "Epoch 132/150\n",
      "768/768 [==============================] - 0s 32us/sample - loss: 0.6039 - acc: 0.7057\n",
      "Epoch 133/150\n",
      "768/768 [==============================] - 0s 31us/sample - loss: 0.6009 - acc: 0.7083\n",
      "Epoch 134/150\n",
      "768/768 [==============================] - 0s 32us/sample - loss: 0.5962 - acc: 0.7135\n",
      "Epoch 135/150\n",
      "768/768 [==============================] - 0s 34us/sample - loss: 0.5989 - acc: 0.7083\n",
      "Epoch 136/150\n",
      "768/768 [==============================] - 0s 32us/sample - loss: 0.5968 - acc: 0.7070\n",
      "Epoch 137/150\n",
      "768/768 [==============================] - 0s 32us/sample - loss: 0.6098 - acc: 0.6901\n",
      "Epoch 138/150\n",
      "768/768 [==============================] - 0s 33us/sample - loss: 0.6006 - acc: 0.6966\n",
      "Epoch 139/150\n",
      "768/768 [==============================] - 0s 34us/sample - loss: 0.6026 - acc: 0.7070\n",
      "Epoch 140/150\n",
      "768/768 [==============================] - 0s 32us/sample - loss: 0.6030 - acc: 0.6901\n",
      "Epoch 141/150\n",
      "768/768 [==============================] - 0s 36us/sample - loss: 0.5950 - acc: 0.6966\n",
      "Epoch 142/150\n",
      "768/768 [==============================] - 0s 31us/sample - loss: 0.5923 - acc: 0.7057\n",
      "Epoch 143/150\n",
      "768/768 [==============================] - 0s 31us/sample - loss: 0.5911 - acc: 0.7018\n",
      "Epoch 144/150\n",
      "768/768 [==============================] - 0s 34us/sample - loss: 0.5901 - acc: 0.7227\n",
      "Epoch 145/150\n",
      "768/768 [==============================] - 0s 32us/sample - loss: 0.5950 - acc: 0.7005\n",
      "Epoch 146/150\n",
      "768/768 [==============================] - 0s 33us/sample - loss: 0.6094 - acc: 0.6862\n",
      "Epoch 147/150\n",
      "768/768 [==============================] - 0s 32us/sample - loss: 0.5911 - acc: 0.7122\n",
      "Epoch 148/150\n",
      "768/768 [==============================] - 0s 31us/sample - loss: 0.5893 - acc: 0.7031\n",
      "Epoch 149/150\n",
      "768/768 [==============================] - 0s 33us/sample - loss: 0.5909 - acc: 0.7109\n",
      "Epoch 150/150\n",
      "768/768 [==============================] - 0s 32us/sample - loss: 0.5932 - acc: 0.7070\n"
     ]
    },
    {
     "data": {
      "text/plain": [
       "<tensorflow.python.keras.callbacks.History at 0x7f5b54df8630>"
      ]
     },
     "execution_count": 18,
     "metadata": {},
     "output_type": "execute_result"
    }
   ],
   "source": [
    "model.fit(X, Y, epochs=150)"
   ]
  },
  {
   "cell_type": "markdown",
   "metadata": {
    "colab_type": "text",
    "id": "BSybwWEJtGFm"
   },
   "source": [
    "### Evaluate Model"
   ]
  },
  {
   "cell_type": "code",
   "execution_count": 19,
   "metadata": {
    "colab": {
     "base_uri": "https://localhost:8080/",
     "height": 52
    },
    "colab_type": "code",
    "id": "34wh8z9MvFMp",
    "outputId": "f55fa2e8-59fe-4072-a8d3-6f2b9b8aa9c0"
   },
   "outputs": [
    {
     "name": "stdout",
     "output_type": "stream",
     "text": [
      "768/768 [==============================] - 0s 48us/sample - loss: 0.5870 - acc: 0.7214\n",
      "acc: 72.13541865348816\n"
     ]
    }
   ],
   "source": [
    "scores = model.evaluate(X, Y)\n",
    "print(f\"{model.metrics_names[1]}: {scores[1]*100}\")"
   ]
  },
  {
   "cell_type": "markdown",
   "metadata": {
    "colab_type": "text",
    "id": "AIJoRBxHy27n"
   },
   "source": [
    "# Keras Perceptron Model in 4 lines of code:"
   ]
  },
  {
   "cell_type": "code",
   "execution_count": 24,
   "metadata": {
    "colab": {
     "base_uri": "https://localhost:8080/",
     "height": 5216
    },
    "colab_type": "code",
    "id": "TQxyONqKvFxB",
    "outputId": "12966e66-2297-4f82-85b3-c275a9c38563"
   },
   "outputs": [
    {
     "name": "stdout",
     "output_type": "stream",
     "text": [
      "Epoch 1/150\n",
      "768/768 [==============================] - 0s 134us/sample - loss: 51.3864 - acc: 0.3503\n",
      "Epoch 2/150\n",
      "768/768 [==============================] - 0s 34us/sample - loss: 46.3026 - acc: 0.3503\n",
      "Epoch 3/150\n",
      "768/768 [==============================] - 0s 34us/sample - loss: 41.2591 - acc: 0.3503\n",
      "Epoch 4/150\n",
      "768/768 [==============================] - 0s 35us/sample - loss: 36.1319 - acc: 0.3503\n",
      "Epoch 5/150\n",
      "768/768 [==============================] - 0s 34us/sample - loss: 31.1071 - acc: 0.3516\n",
      "Epoch 6/150\n",
      "768/768 [==============================] - 0s 34us/sample - loss: 26.1084 - acc: 0.3542\n",
      "Epoch 7/150\n",
      "768/768 [==============================] - 0s 34us/sample - loss: 21.5824 - acc: 0.3711\n",
      "Epoch 8/150\n",
      "768/768 [==============================] - 0s 34us/sample - loss: 18.0910 - acc: 0.3867\n",
      "Epoch 9/150\n",
      "768/768 [==============================] - 0s 34us/sample - loss: 15.5045 - acc: 0.4128\n",
      "Epoch 10/150\n",
      "768/768 [==============================] - 0s 37us/sample - loss: 13.7280 - acc: 0.4323\n",
      "Epoch 11/150\n",
      "768/768 [==============================] - 0s 36us/sample - loss: 12.4511 - acc: 0.4609\n",
      "Epoch 12/150\n",
      "768/768 [==============================] - 0s 39us/sample - loss: 11.4956 - acc: 0.4922\n",
      "Epoch 13/150\n",
      "768/768 [==============================] - 0s 37us/sample - loss: 10.7796 - acc: 0.5104\n",
      "Epoch 14/150\n",
      "768/768 [==============================] - 0s 34us/sample - loss: 10.1494 - acc: 0.5221\n",
      "Epoch 15/150\n",
      "768/768 [==============================] - 0s 33us/sample - loss: 9.6039 - acc: 0.5299\n",
      "Epoch 16/150\n",
      "768/768 [==============================] - 0s 34us/sample - loss: 9.0901 - acc: 0.5417\n",
      "Epoch 17/150\n",
      "768/768 [==============================] - 0s 32us/sample - loss: 8.6242 - acc: 0.5534\n",
      "Epoch 18/150\n",
      "768/768 [==============================] - 0s 32us/sample - loss: 8.2064 - acc: 0.5625\n",
      "Epoch 19/150\n",
      "768/768 [==============================] - 0s 33us/sample - loss: 7.8221 - acc: 0.5664\n",
      "Epoch 20/150\n",
      "768/768 [==============================] - 0s 34us/sample - loss: 7.4615 - acc: 0.5729\n",
      "Epoch 21/150\n",
      "768/768 [==============================] - 0s 33us/sample - loss: 7.1495 - acc: 0.5820\n",
      "Epoch 22/150\n",
      "768/768 [==============================] - 0s 36us/sample - loss: 6.8725 - acc: 0.5807\n",
      "Epoch 23/150\n",
      "768/768 [==============================] - 0s 35us/sample - loss: 6.6450 - acc: 0.5898\n",
      "Epoch 24/150\n",
      "768/768 [==============================] - 0s 35us/sample - loss: 6.4439 - acc: 0.6042\n",
      "Epoch 25/150\n",
      "768/768 [==============================] - 0s 33us/sample - loss: 6.2806 - acc: 0.6146\n",
      "Epoch 26/150\n",
      "768/768 [==============================] - 0s 33us/sample - loss: 6.1430 - acc: 0.6224\n",
      "Epoch 27/150\n",
      "768/768 [==============================] - 0s 34us/sample - loss: 6.0308 - acc: 0.6211\n",
      "Epoch 28/150\n",
      "768/768 [==============================] - 0s 32us/sample - loss: 5.9197 - acc: 0.6263\n",
      "Epoch 29/150\n",
      "768/768 [==============================] - 0s 33us/sample - loss: 5.8231 - acc: 0.6315\n",
      "Epoch 30/150\n",
      "768/768 [==============================] - 0s 34us/sample - loss: 5.7302 - acc: 0.6354\n",
      "Epoch 31/150\n",
      "768/768 [==============================] - 0s 33us/sample - loss: 5.6507 - acc: 0.6380\n",
      "Epoch 32/150\n",
      "768/768 [==============================] - 0s 33us/sample - loss: 5.5726 - acc: 0.6406\n",
      "Epoch 33/150\n",
      "768/768 [==============================] - 0s 33us/sample - loss: 5.5042 - acc: 0.6406\n",
      "Epoch 34/150\n",
      "768/768 [==============================] - 0s 33us/sample - loss: 5.4306 - acc: 0.6432\n",
      "Epoch 35/150\n",
      "768/768 [==============================] - 0s 33us/sample - loss: 5.3593 - acc: 0.6458\n",
      "Epoch 36/150\n",
      "768/768 [==============================] - 0s 34us/sample - loss: 5.2910 - acc: 0.6458\n",
      "Epoch 37/150\n",
      "768/768 [==============================] - 0s 34us/sample - loss: 5.2266 - acc: 0.6458\n",
      "Epoch 38/150\n",
      "768/768 [==============================] - 0s 34us/sample - loss: 5.1694 - acc: 0.6497\n",
      "Epoch 39/150\n",
      "768/768 [==============================] - 0s 35us/sample - loss: 5.1109 - acc: 0.6471\n",
      "Epoch 40/150\n",
      "768/768 [==============================] - 0s 32us/sample - loss: 5.0481 - acc: 0.6458\n",
      "Epoch 41/150\n",
      "768/768 [==============================] - 0s 32us/sample - loss: 4.9943 - acc: 0.6445\n",
      "Epoch 42/150\n",
      "768/768 [==============================] - 0s 33us/sample - loss: 4.9278 - acc: 0.6458\n",
      "Epoch 43/150\n",
      "768/768 [==============================] - 0s 32us/sample - loss: 4.8676 - acc: 0.6458\n",
      "Epoch 44/150\n",
      "768/768 [==============================] - 0s 32us/sample - loss: 4.8084 - acc: 0.6445\n",
      "Epoch 45/150\n",
      "768/768 [==============================] - 0s 32us/sample - loss: 4.7477 - acc: 0.6458\n",
      "Epoch 46/150\n",
      "768/768 [==============================] - 0s 35us/sample - loss: 4.6960 - acc: 0.6471\n",
      "Epoch 47/150\n",
      "768/768 [==============================] - 0s 34us/sample - loss: 4.6257 - acc: 0.6432\n",
      "Epoch 48/150\n",
      "768/768 [==============================] - 0s 33us/sample - loss: 4.5746 - acc: 0.6458\n",
      "Epoch 49/150\n",
      "768/768 [==============================] - 0s 34us/sample - loss: 4.5073 - acc: 0.6419\n",
      "Epoch 50/150\n",
      "768/768 [==============================] - 0s 34us/sample - loss: 4.4550 - acc: 0.6445\n",
      "Epoch 51/150\n",
      "768/768 [==============================] - 0s 34us/sample - loss: 4.3882 - acc: 0.6380\n",
      "Epoch 52/150\n",
      "768/768 [==============================] - 0s 33us/sample - loss: 4.3456 - acc: 0.6393\n",
      "Epoch 53/150\n",
      "768/768 [==============================] - 0s 32us/sample - loss: 4.2695 - acc: 0.6393\n",
      "Epoch 54/150\n",
      "768/768 [==============================] - 0s 34us/sample - loss: 4.2115 - acc: 0.6406\n",
      "Epoch 55/150\n",
      "768/768 [==============================] - 0s 34us/sample - loss: 4.1462 - acc: 0.6406\n",
      "Epoch 56/150\n",
      "768/768 [==============================] - 0s 32us/sample - loss: 4.0937 - acc: 0.6406\n",
      "Epoch 57/150\n",
      "768/768 [==============================] - 0s 34us/sample - loss: 4.0303 - acc: 0.6419\n",
      "Epoch 58/150\n",
      "768/768 [==============================] - 0s 34us/sample - loss: 3.9673 - acc: 0.6380\n",
      "Epoch 59/150\n",
      "768/768 [==============================] - 0s 35us/sample - loss: 3.9100 - acc: 0.6406\n",
      "Epoch 60/150\n",
      "768/768 [==============================] - 0s 35us/sample - loss: 3.8578 - acc: 0.6315\n",
      "Epoch 61/150\n",
      "768/768 [==============================] - 0s 34us/sample - loss: 3.7903 - acc: 0.6393\n",
      "Epoch 62/150\n",
      "768/768 [==============================] - 0s 33us/sample - loss: 3.7241 - acc: 0.6419\n",
      "Epoch 63/150\n",
      "768/768 [==============================] - 0s 34us/sample - loss: 3.6628 - acc: 0.6406\n",
      "Epoch 64/150\n",
      "768/768 [==============================] - 0s 36us/sample - loss: 3.6104 - acc: 0.6341\n",
      "Epoch 65/150\n",
      "768/768 [==============================] - 0s 31us/sample - loss: 3.5455 - acc: 0.6354\n",
      "Epoch 66/150\n",
      "768/768 [==============================] - 0s 34us/sample - loss: 3.4840 - acc: 0.6380\n",
      "Epoch 67/150\n",
      "768/768 [==============================] - 0s 33us/sample - loss: 3.4289 - acc: 0.6419\n",
      "Epoch 68/150\n",
      "768/768 [==============================] - 0s 33us/sample - loss: 3.3686 - acc: 0.6393\n",
      "Epoch 69/150\n",
      "768/768 [==============================] - 0s 33us/sample - loss: 3.2992 - acc: 0.6393\n",
      "Epoch 70/150\n",
      "768/768 [==============================] - 0s 32us/sample - loss: 3.2469 - acc: 0.6445\n",
      "Epoch 71/150\n",
      "768/768 [==============================] - 0s 34us/sample - loss: 3.1835 - acc: 0.6406\n",
      "Epoch 72/150\n",
      "768/768 [==============================] - 0s 32us/sample - loss: 3.1273 - acc: 0.6354\n",
      "Epoch 73/150\n",
      "768/768 [==============================] - 0s 34us/sample - loss: 3.0643 - acc: 0.6445\n",
      "Epoch 74/150\n",
      "768/768 [==============================] - 0s 33us/sample - loss: 3.0050 - acc: 0.6510\n",
      "Epoch 75/150\n",
      "768/768 [==============================] - 0s 32us/sample - loss: 2.9485 - acc: 0.6393\n",
      "Epoch 76/150\n",
      "768/768 [==============================] - 0s 32us/sample - loss: 2.8928 - acc: 0.6406\n",
      "Epoch 77/150\n",
      "768/768 [==============================] - 0s 32us/sample - loss: 2.8303 - acc: 0.6458\n",
      "Epoch 78/150\n",
      "768/768 [==============================] - 0s 33us/sample - loss: 2.7891 - acc: 0.6471\n",
      "Epoch 79/150\n",
      "768/768 [==============================] - 0s 33us/sample - loss: 2.7161 - acc: 0.6432\n",
      "Epoch 80/150\n",
      "768/768 [==============================] - 0s 32us/sample - loss: 2.6610 - acc: 0.6445\n",
      "Epoch 81/150\n",
      "768/768 [==============================] - 0s 33us/sample - loss: 2.6100 - acc: 0.6432\n",
      "Epoch 82/150\n",
      "768/768 [==============================] - 0s 34us/sample - loss: 2.5552 - acc: 0.6419\n",
      "Epoch 83/150\n",
      "768/768 [==============================] - 0s 33us/sample - loss: 2.4973 - acc: 0.6419\n",
      "Epoch 84/150\n",
      "768/768 [==============================] - 0s 33us/sample - loss: 2.4474 - acc: 0.6445\n",
      "Epoch 85/150\n",
      "768/768 [==============================] - 0s 33us/sample - loss: 2.3896 - acc: 0.6419\n",
      "Epoch 86/150\n",
      "768/768 [==============================] - 0s 32us/sample - loss: 2.3394 - acc: 0.6458\n",
      "Epoch 87/150\n",
      "768/768 [==============================] - 0s 33us/sample - loss: 2.2900 - acc: 0.6406\n",
      "Epoch 88/150\n",
      "768/768 [==============================] - 0s 33us/sample - loss: 2.2457 - acc: 0.6471\n",
      "Epoch 89/150\n",
      "768/768 [==============================] - 0s 33us/sample - loss: 2.2006 - acc: 0.6354\n",
      "Epoch 90/150\n",
      "768/768 [==============================] - 0s 35us/sample - loss: 2.1418 - acc: 0.6393\n",
      "Epoch 91/150\n",
      "768/768 [==============================] - 0s 33us/sample - loss: 2.0996 - acc: 0.6380\n",
      "Epoch 92/150\n",
      "768/768 [==============================] - 0s 34us/sample - loss: 2.0626 - acc: 0.6393\n",
      "Epoch 93/150\n",
      "768/768 [==============================] - 0s 33us/sample - loss: 2.0097 - acc: 0.6471\n",
      "Epoch 94/150\n",
      "768/768 [==============================] - 0s 32us/sample - loss: 1.9671 - acc: 0.6380\n",
      "Epoch 95/150\n",
      "768/768 [==============================] - 0s 32us/sample - loss: 1.9274 - acc: 0.6393\n",
      "Epoch 96/150\n",
      "768/768 [==============================] - 0s 32us/sample - loss: 1.8898 - acc: 0.6393\n",
      "Epoch 97/150\n",
      "768/768 [==============================] - 0s 35us/sample - loss: 1.8492 - acc: 0.6484\n",
      "Epoch 98/150\n",
      "768/768 [==============================] - 0s 33us/sample - loss: 1.8063 - acc: 0.6406\n",
      "Epoch 99/150\n",
      "768/768 [==============================] - 0s 33us/sample - loss: 1.7650 - acc: 0.6471\n",
      "Epoch 100/150\n",
      "768/768 [==============================] - 0s 32us/sample - loss: 1.7258 - acc: 0.6497\n",
      "Epoch 101/150\n",
      "768/768 [==============================] - 0s 33us/sample - loss: 1.6891 - acc: 0.6445\n",
      "Epoch 102/150\n",
      "768/768 [==============================] - 0s 34us/sample - loss: 1.6499 - acc: 0.6523\n",
      "Epoch 103/150\n",
      "768/768 [==============================] - 0s 34us/sample - loss: 1.6142 - acc: 0.6432\n",
      "Epoch 104/150\n",
      "768/768 [==============================] - 0s 33us/sample - loss: 1.5837 - acc: 0.6523\n",
      "Epoch 105/150\n",
      "768/768 [==============================] - 0s 32us/sample - loss: 1.5521 - acc: 0.6458\n",
      "Epoch 106/150\n",
      "768/768 [==============================] - 0s 32us/sample - loss: 1.5268 - acc: 0.6471\n",
      "Epoch 107/150\n",
      "768/768 [==============================] - 0s 34us/sample - loss: 1.4887 - acc: 0.6432\n",
      "Epoch 108/150\n",
      "768/768 [==============================] - 0s 32us/sample - loss: 1.4464 - acc: 0.6523\n",
      "Epoch 109/150\n",
      "768/768 [==============================] - 0s 34us/sample - loss: 1.4197 - acc: 0.6523\n",
      "Epoch 110/150\n",
      "768/768 [==============================] - 0s 32us/sample - loss: 1.3900 - acc: 0.6510\n",
      "Epoch 111/150\n",
      "768/768 [==============================] - 0s 32us/sample - loss: 1.3584 - acc: 0.6458\n",
      "Epoch 112/150\n",
      "768/768 [==============================] - 0s 33us/sample - loss: 1.3320 - acc: 0.6419\n",
      "Epoch 113/150\n",
      "768/768 [==============================] - 0s 33us/sample - loss: 1.3086 - acc: 0.6458\n",
      "Epoch 114/150\n",
      "768/768 [==============================] - 0s 33us/sample - loss: 1.2803 - acc: 0.6458\n",
      "Epoch 115/150\n",
      "768/768 [==============================] - 0s 34us/sample - loss: 1.2602 - acc: 0.6419\n",
      "Epoch 116/150\n",
      "768/768 [==============================] - 0s 32us/sample - loss: 1.2322 - acc: 0.6445\n",
      "Epoch 117/150\n",
      "768/768 [==============================] - 0s 32us/sample - loss: 1.2054 - acc: 0.6458\n",
      "Epoch 118/150\n",
      "768/768 [==============================] - 0s 33us/sample - loss: 1.1758 - acc: 0.6484\n",
      "Epoch 119/150\n",
      "768/768 [==============================] - 0s 34us/sample - loss: 1.1557 - acc: 0.6510\n",
      "Epoch 120/150\n",
      "768/768 [==============================] - 0s 32us/sample - loss: 1.1320 - acc: 0.6484\n",
      "Epoch 121/150\n",
      "768/768 [==============================] - 0s 34us/sample - loss: 1.1129 - acc: 0.6497\n",
      "Epoch 122/150\n",
      "768/768 [==============================] - 0s 31us/sample - loss: 1.1006 - acc: 0.6602\n",
      "Epoch 123/150\n",
      "768/768 [==============================] - 0s 32us/sample - loss: 1.0760 - acc: 0.6536\n",
      "Epoch 124/150\n",
      "768/768 [==============================] - 0s 35us/sample - loss: 1.0553 - acc: 0.6589\n",
      "Epoch 125/150\n",
      "768/768 [==============================] - 0s 32us/sample - loss: 1.0381 - acc: 0.6589\n",
      "Epoch 126/150\n",
      "768/768 [==============================] - 0s 33us/sample - loss: 1.0221 - acc: 0.6615\n",
      "Epoch 127/150\n",
      "768/768 [==============================] - 0s 32us/sample - loss: 0.9969 - acc: 0.6536\n",
      "Epoch 128/150\n",
      "768/768 [==============================] - 0s 32us/sample - loss: 0.9817 - acc: 0.6523\n",
      "Epoch 129/150\n",
      "768/768 [==============================] - 0s 33us/sample - loss: 0.9661 - acc: 0.6523\n",
      "Epoch 130/150\n",
      "768/768 [==============================] - 0s 34us/sample - loss: 0.9554 - acc: 0.6523\n",
      "Epoch 131/150\n",
      "768/768 [==============================] - 0s 33us/sample - loss: 0.9382 - acc: 0.6445\n",
      "Epoch 132/150\n",
      "768/768 [==============================] - 0s 33us/sample - loss: 0.9205 - acc: 0.6536\n",
      "Epoch 133/150\n",
      "768/768 [==============================] - 0s 35us/sample - loss: 0.9031 - acc: 0.6549\n",
      "Epoch 134/150\n",
      "768/768 [==============================] - 0s 32us/sample - loss: 0.8897 - acc: 0.6523\n",
      "Epoch 135/150\n",
      "768/768 [==============================] - 0s 32us/sample - loss: 0.8782 - acc: 0.6497\n",
      "Epoch 136/150\n",
      "768/768 [==============================] - 0s 33us/sample - loss: 0.8650 - acc: 0.6549\n",
      "Epoch 137/150\n",
      "768/768 [==============================] - 0s 32us/sample - loss: 0.8548 - acc: 0.6536\n",
      "Epoch 138/150\n",
      "768/768 [==============================] - 0s 33us/sample - loss: 0.8372 - acc: 0.6497\n",
      "Epoch 139/150\n",
      "768/768 [==============================] - 0s 33us/sample - loss: 0.8299 - acc: 0.6523\n",
      "Epoch 140/150\n",
      "768/768 [==============================] - 0s 33us/sample - loss: 0.8103 - acc: 0.6602\n",
      "Epoch 141/150\n",
      "768/768 [==============================] - 0s 33us/sample - loss: 0.8004 - acc: 0.6589\n",
      "Epoch 142/150\n",
      "768/768 [==============================] - 0s 32us/sample - loss: 0.7907 - acc: 0.6549\n",
      "Epoch 143/150\n",
      "768/768 [==============================] - 0s 32us/sample - loss: 0.7853 - acc: 0.6602\n",
      "Epoch 144/150\n",
      "768/768 [==============================] - 0s 33us/sample - loss: 0.7709 - acc: 0.6602\n",
      "Epoch 145/150\n",
      "768/768 [==============================] - 0s 33us/sample - loss: 0.7612 - acc: 0.6589\n",
      "Epoch 146/150\n",
      "768/768 [==============================] - 0s 32us/sample - loss: 0.7494 - acc: 0.6602\n",
      "Epoch 147/150\n",
      "768/768 [==============================] - 0s 34us/sample - loss: 0.7481 - acc: 0.6523\n",
      "Epoch 148/150\n",
      "768/768 [==============================] - 0s 32us/sample - loss: 0.7438 - acc: 0.6641\n",
      "Epoch 149/150\n",
      "768/768 [==============================] - 0s 32us/sample - loss: 0.7238 - acc: 0.6667\n",
      "Epoch 150/150\n",
      "768/768 [==============================] - 0s 33us/sample - loss: 0.7226 - acc: 0.6536\n"
     ]
    },
    {
     "data": {
      "text/plain": [
       "<tensorflow.python.keras.callbacks.History at 0x7f5b4408b048>"
      ]
     },
     "execution_count": 24,
     "metadata": {},
     "output_type": "execute_result"
    }
   ],
   "source": [
    "model = Sequential()\n",
    "model.add(Dense(1, input_dim=8, activation='sigmoid'))\n",
    "model.compile(loss='binary_crossentropy', optimizer='adam', metrics=['accuracy'])\n",
    "model.fit(X, Y, epochs=150, batch_size=32)"
   ]
  },
  {
   "cell_type": "code",
   "execution_count": 25,
   "metadata": {
    "colab": {
     "base_uri": "https://localhost:8080/",
     "height": 69
    },
    "colab_type": "code",
    "id": "Z1wfKUxszPKa",
    "outputId": "0cdacd1d-6e5a-4bbe-fabb-568cd94724be"
   },
   "outputs": [
    {
     "name": "stdout",
     "output_type": "stream",
     "text": [
      "768/768 [==============================] - 0s 57us/sample - loss: 0.7048 - acc: 0.6706\n",
      "acc: 67.05729365348816\n"
     ]
    }
   ],
   "source": [
    "# evaluate the model\n",
    "scores = model.evaluate(X, Y)\n",
    "print(f\"{model.metrics_names[1]}: {scores[1]*100}\")"
   ]
  },
  {
   "cell_type": "markdown",
   "metadata": {
    "colab_type": "text",
    "id": "zHYB7k9q3O8T"
   },
   "source": [
    "### Why are we getting such different results if we re-run the model?\n",
    "\n",
    "<https://machinelearningmastery.com/randomness-in-machine-learning/>"
   ]
  },
  {
   "cell_type": "markdown",
   "metadata": {
    "colab_type": "text",
    "id": "ueDVpctAzvy8"
   },
   "source": [
    "# What architecture should we try?"
   ]
  },
  {
   "cell_type": "code",
   "execution_count": 43,
   "metadata": {
    "colab": {},
    "colab_type": "code",
    "id": "6W2Sc7-LzQo_"
   },
   "outputs": [
    {
     "name": "stdout",
     "output_type": "stream",
     "text": [
      "Model: \"sequential_7\"\n",
      "_________________________________________________________________\n",
      "Layer (type)                 Output Shape              Param #   \n",
      "=================================================================\n",
      "dense_13 (Dense)             (None, 10)                90        \n",
      "_________________________________________________________________\n",
      "dense_14 (Dense)             (None, 3)                 33        \n",
      "_________________________________________________________________\n",
      "dense_15 (Dense)             (None, 1)                 4         \n",
      "=================================================================\n",
      "Total params: 127\n",
      "Trainable params: 127\n",
      "Non-trainable params: 0\n",
      "_________________________________________________________________\n"
     ]
    }
   ],
   "source": [
    "# Model initialization\n",
    "model_improved = Sequential()\n",
    "\n",
    "# Input + 1 (first) hidden layer\n",
    "model_improved.add(Dense(10, input_dim=8, activation='relu'))\n",
    "\n",
    "# Second hidden layer\n",
    "model_improved.add(Dense(3, activation='sigmoid'))\n",
    "\n",
    "# Output layer (use only one output node for binary classification)\n",
    "model_improved.add(Dense(1, activation='sigmoid'))\n",
    "\n",
    "model_improved.summary()"
   ]
  },
  {
   "cell_type": "code",
   "execution_count": 44,
   "metadata": {},
   "outputs": [],
   "source": [
    "model_improved.compile(loss='binary_crossentropy',\n",
    "                       optimizer='adam',\n",
    "                       metrics=['accuracy'])"
   ]
  },
  {
   "cell_type": "code",
   "execution_count": 45,
   "metadata": {},
   "outputs": [
    {
     "data": {
      "text/plain": [
       "<tensorflow.python.keras.callbacks.History at 0x7f5ae6c45588>"
      ]
     },
     "execution_count": 45,
     "metadata": {},
     "output_type": "execute_result"
    }
   ],
   "source": [
    "model_improved.fit(X, Y, epochs=200, batch_size=32, verbose=0)"
   ]
  },
  {
   "cell_type": "code",
   "execution_count": 46,
   "metadata": {},
   "outputs": [
    {
     "name": "stdout",
     "output_type": "stream",
     "text": [
      "768/768 [==============================] - 0s 87us/sample - loss: 0.5407 - acc: 0.7292\n",
      "acc: 72.91666865348816\n"
     ]
    }
   ],
   "source": [
    "# evaluate the model\n",
    "scores = model_improved.evaluate(X, Y)\n",
    "print(f\"{model_improved.metrics_names[1]}: {scores[1]*100}\")"
   ]
  },
  {
   "cell_type": "markdown",
   "metadata": {
    "colab_type": "text",
    "id": "tcjMuxtn6wIQ"
   },
   "source": [
    "# Activation Functions\n",
    "\n",
    "What is an activation function and how does it work?\n",
    "\n",
    "- Takes in a weighted sum of inputs + a bias from the previous layer and outputs an \"activation\" value.\n",
    "- Based its inputs the neuron decides how 'activated' it should be. This can be thought of as the neuron deciding how strongly to fire. You can also think of it as if the neuron is deciding how much of the signal that it has received to pass onto the next layer. \n",
    "- Our choice of activation function does not only affect signal that is passed forward but also affects the backpropagation algorithm. It affects how we update weights in reverse order since activated weight/input sums become the inputs of the next layer. \n"
   ]
  },
  {
   "cell_type": "markdown",
   "metadata": {
    "colab_type": "text",
    "id": "n_b0u8Ch60bA"
   },
   "source": [
    "## Step Function\n",
    "\n",
    "![Heaviside Step Function](https://upload.wikimedia.org/wikipedia/commons/thumb/d/d9/Dirac_distribution_CDF.svg/325px-Dirac_distribution_CDF.svg.png)\n",
    "\n",
    "All or nothing, a little extreme, which is fine, but makes updating weights through backpropagation impossible. Why? remember that during backpropagation we use derivatives in order to determine how much to update or not update weights. What is the derivative of the step function?"
   ]
  },
  {
   "cell_type": "markdown",
   "metadata": {
    "colab_type": "text",
    "id": "vKR0YhIVEnXZ"
   },
   "source": [
    "## Linear Function\n",
    "\n",
    "![Linear Function](http://www.roconnell.net/Parent%20function/linear.gif)\n",
    "\n",
    "The linear function takes the opposite tact from the step function and passes the signal onto the next layer by a constant factor. There are problems with this but the biggest problems again lie in backpropagation. The derivative of any linear function is a horizontal line which would indicate that we should update all weights by a constant amount every time -which on balance wouldn't change the behavior of our network. Linear functions are typically only used for very simple tasks where interpretability is important, but if interpretability is your highest priority, you probably shouldn't be using neural networks in the first place."
   ]
  },
  {
   "cell_type": "markdown",
   "metadata": {
    "colab_type": "text",
    "id": "JFurIVL6EkQ8"
   },
   "source": [
    "## Sigmoid Function\n",
    "\n",
    "![Sigmoid Function](https://upload.wikimedia.org/wikipedia/commons/thumb/8/88/Logistic-curve.svg/480px-Logistic-curve.svg.png)\n",
    "\n",
    "The sigmoid function works great as an activation function! it's continuously differentiable, its derivative doesn't have a constant slope, and having the higher slope in the middle pushes y value predictions towards extremes which is particularly useful for binary classification problems. I mean, this is why we use it as the squishifier in logistic regression as well. It constrains output, but over repeated epochs pushes predictions towards a strong binary prediction. \n",
    "\n",
    "What's the biggest problem with the sigmoid function? The fact that its slope gets pretty flat so quickly after its departure from zero. This means that updating weights based on its gradient really diminishes the size of our weight updates as our model gets more confident about its classifications. This is why even after so many iterations with our test score example we couldn't reach the levels of fit that our gradient descent based model could reach in just a few epochs."
   ]
  },
  {
   "cell_type": "markdown",
   "metadata": {
    "colab_type": "text",
    "id": "hm6p1HWbEhYi"
   },
   "source": [
    "## Tanh Function\n",
    "\n",
    "![Tanh Function](http://mathworld.wolfram.com/images/interactive/TanhReal.gif)\n",
    "\n",
    "What if the sigmoid function didn't get so flat quite as soon when moving away from zero and was a little bit steeper in the middle? That's basically the Tanh function. The Tanh function can actually be created by scaling the sigmoid function by 2 in the y dimension and subtracting 1 from all values. It has basically the same properties as the sigmoid, still struggles from diminishingly flat gradients as we move away from 0, but its derivative is higher around 0 causing weights to move to the extremes a little faster. "
   ]
  },
  {
   "cell_type": "markdown",
   "metadata": {
    "colab_type": "text",
    "id": "sFOn_L6gEcz1"
   },
   "source": [
    "## ReLU Function\n",
    "\n",
    "![ReLU Function](https://cdn-images-1.medium.com/max/937/1*oePAhrm74RNnNEolprmTaQ.png)\n",
    "\n",
    "ReLU stands for Rectified Linear Units it is by far the most commonly used activation function in modern neural networks. It doesn't activate neurons that are being passed a negative signal and passes on positive signals. Think about why this might be useful. Remember how a lot of our initial weights got set to negative numbers by chance? This would have dealt with those negative weights a lot faster than the sigmoid function updating. What does the derivative of this function look like? It looks like the step function! This means that not all neurons are activated. With sigmoid basically all of our neurons are passing some amount of signal even if it's small making it hard for the network to differentiate important and less important connections. ReLU turns off a portion of our less important neurons which decreases computational load, but also helps the network learn what the most important connections are faster. \n",
    "\n",
    "What's the problem with relu? Well the left half of its derivative function shows that for neurons that are initialized with weights that cause them to have no activation, our gradient will not update those neuron's weights, this can lead to dead neurons that never fire and whose weights never get updated. We would probably want to update the weights of neurons that didn't fire even if it's just by a little bit in case we got unlucky with our initial weights and want to give those neurons a chance of turning back on in the future."
   ]
  },
  {
   "cell_type": "markdown",
   "metadata": {
    "colab_type": "text",
    "id": "XWdvWOBIETwk"
   },
   "source": [
    "## Leaky ReLU\n",
    "\n",
    "![Leaky ReLU](https://cdn-images-1.medium.com/max/1600/1*ypsvQH7kvtI2BhzR2eT_Sw.png)\n",
    "\n",
    "Leaky ReLU accomplishes exactly that! it avoids having a gradient of 0 on the left side of its derivative function. This means that even \"dead\" neurons have a chance of being revived over enough iterations. In some specifications the slope of the leaky left-hand side can also be experimented with as a hyperparameter of the model!"
   ]
  },
  {
   "cell_type": "markdown",
   "metadata": {
    "colab_type": "text",
    "id": "FcAxkNFREMFb"
   },
   "source": [
    "## Softmax Function\n",
    "\n",
    "![Softmax Function](https://cdn-images-1.medium.com/max/800/1*670CdxchunD-yAuUWdI7Bw.png)\n",
    "\n",
    "Like the sigmoid function but more useful for multi-class classification problems. The softmax function can take any set of inputs and translate them into probabilities that sum up to 1. This means that we can throw any list of outputs at it and it will translate them into probabilities, this is extremely useful for multi-class classification problems. Like MNIST for example..."
   ]
  },
  {
   "cell_type": "markdown",
   "metadata": {
    "colab_type": "text",
    "id": "23-XRRXKHs34"
   },
   "source": [
    "## Major takeaways\n",
    "\n",
    "- ReLU is generally better at obtaining the optimal model fit.\n",
    "- Sigmoid and its derivatives are usually better at classification problems.\n",
    "- Softmax for multi-class classification problems. \n",
    "\n",
    "You'll typically see ReLU used for all initial layers and then the final layer being sigmoid or softmax for classification problems. But you can experiment and tune these selections as hyperparameters as well!"
   ]
  },
  {
   "cell_type": "markdown",
   "metadata": {
    "colab_type": "text",
    "id": "TWuoXZCCKCI7"
   },
   "source": [
    "## MNIST with Keras \n",
    "\n",
    "### This will be a good chance to bring up dropout regularization. :)"
   ]
  },
  {
   "cell_type": "code",
   "execution_count": 47,
   "metadata": {
    "colab": {},
    "colab_type": "code",
    "id": "jmJ_5azs04pU"
   },
   "outputs": [],
   "source": [
    "# Imports\n",
    "from tensorflow import keras\n",
    "from tensorflow.keras.datasets import mnist\n",
    "from tensorflow.keras.models import Sequential\n",
    "from tensorflow.keras.layers import Dense\n",
    "\n",
    "import numpy as np"
   ]
  },
  {
   "cell_type": "code",
   "execution_count": 48,
   "metadata": {},
   "outputs": [
    {
     "name": "stdout",
     "output_type": "stream",
     "text": [
      "Downloading data from https://storage.googleapis.com/tensorflow/tf-keras-datasets/mnist.npz\n",
      "11493376/11490434 [==============================] - 4s 0us/step\n"
     ]
    }
   ],
   "source": [
    "# Fetch & clean data\n",
    "batch_size = 64\n",
    "num_class = 10\n",
    "epochs = 150\n",
    "\n",
    "(X_train, y_train), (X_test, y_test) = mnist.load_data()"
   ]
  },
  {
   "cell_type": "code",
   "execution_count": 49,
   "metadata": {},
   "outputs": [
    {
     "data": {
      "text/plain": [
       "(60000, 28, 28)"
      ]
     },
     "execution_count": 49,
     "metadata": {},
     "output_type": "execute_result"
    }
   ],
   "source": [
    "X_train.shape"
   ]
  },
  {
   "cell_type": "code",
   "execution_count": 50,
   "metadata": {},
   "outputs": [],
   "source": [
    "# 28x28 = 784\n",
    "X_train = X_train.reshape(60_000, 784)\n",
    "X_test = X_test.reshape(10_000, 784)"
   ]
  },
  {
   "cell_type": "code",
   "execution_count": 51,
   "metadata": {},
   "outputs": [],
   "source": [
    "X_train = X_train.astype('float32')\n",
    "X_test = X_test.astype('float32')"
   ]
  },
  {
   "cell_type": "code",
   "execution_count": 52,
   "metadata": {},
   "outputs": [],
   "source": [
    "y_train = keras.utils.to_categorical(y_train, num_class)\n",
    "y_test = keras.utils.to_categorical(y_test, num_class)"
   ]
  },
  {
   "cell_type": "code",
   "execution_count": 53,
   "metadata": {},
   "outputs": [
    {
     "data": {
      "text/plain": [
       "array([0., 0., 0., 0., 0., 1., 0., 0., 0., 0.], dtype=float32)"
      ]
     },
     "execution_count": 53,
     "metadata": {},
     "output_type": "execute_result"
    }
   ],
   "source": [
    "y_train[0]"
   ]
  },
  {
   "cell_type": "code",
   "execution_count": 55,
   "metadata": {},
   "outputs": [
    {
     "name": "stdout",
     "output_type": "stream",
     "text": [
      "Model: \"sequential_9\"\n",
      "_________________________________________________________________\n",
      "Layer (type)                 Output Shape              Param #   \n",
      "=================================================================\n",
      "dense_19 (Dense)             (None, 16)                12560     \n",
      "_________________________________________________________________\n",
      "dense_20 (Dense)             (None, 16)                272       \n",
      "_________________________________________________________________\n",
      "dense_21 (Dense)             (None, 10)                170       \n",
      "=================================================================\n",
      "Total params: 13,002\n",
      "Trainable params: 13,002\n",
      "Non-trainable params: 0\n",
      "_________________________________________________________________\n"
     ]
    }
   ],
   "source": [
    "# Construct model\n",
    "mnist_model = Sequential()\n",
    "\n",
    "# Input + Hidden\n",
    "mnist_model.add(Dense(16, input_dim=784, activation='relu'))\n",
    "mnist_model.add(Dense(16, activation='relu'))\n",
    "# Output\n",
    "mnist_model.add(Dense(num_class, activation='softmax'))\n",
    "\n",
    "mnist_model.compile(loss='categorical_crossentropy',\n",
    "                    optimizer='adam',\n",
    "                    metrics=['accuracy'])\n",
    "mnist_model.summary()"
   ]
  },
  {
   "cell_type": "code",
   "execution_count": 57,
   "metadata": {},
   "outputs": [
    {
     "name": "stdout",
     "output_type": "stream",
     "text": [
      "10000/10000 [==============================] - 0s 25us/sample - loss: 0.3414 - acc: 0.9064\n",
      "acc: 90.64000248908997\n"
     ]
    }
   ],
   "source": [
    "history = mnist_model.fit(X_train, y_train, epochs=epochs, batch_size=batch_size, validation_split=.1, verbose=0)\n",
    "scores = mnist_model.evaluate(X_test, y_test)\n",
    "print(f'{mnist_model.metrics_names[1]}: {scores[1]*100}')"
   ]
  },
  {
   "cell_type": "markdown",
   "metadata": {
    "colab_type": "text",
    "id": "CKmx8153w9Ci"
   },
   "source": [
    "## What if we use dropout techniques to prevent overfitting? How does that affect our model?\n",
    "\n",
    "![Regularization](https://upload.wikimedia.org/wikipedia/commons/thumb/0/02/Regularization.svg/354px-Regularization.svg.png)"
   ]
  },
  {
   "cell_type": "code",
   "execution_count": null,
   "metadata": {
    "colab": {},
    "colab_type": "code",
    "id": "CWDopERJ16yJ"
   },
   "outputs": [],
   "source": [
    "### Try it with dropout\n",
    "def prepare_data(X):\n",
    "    # Reshape X\n",
    "    X = X.reshape(60_000, 784)\n",
    "    X_test = X_test.reshape(10_000, 784)\n",
    "    \n",
    "    # Convert to float\n",
    "    X_train = X_train.astype('float32')\n",
    "    X_test = X_test.astype('float32')\n",
    "    \n",
    "    # etc\n",
    "    \n",
    "    \n",
    "    return X_prepared\n",
    "\n",
    "y_pred = mnist_model.predict_classes(X_test)"
   ]
  }
 ],
 "metadata": {
  "colab": {
   "collapsed_sections": [],
   "name": "LS_DS_433_Keras_Lecture.ipynb",
   "provenance": [],
   "version": "0.3.2"
  },
  "kernelspec": {
   "display_name": "Python 3",
   "language": "python",
   "name": "python3"
  },
  "language_info": {
   "codemirror_mode": {
    "name": "ipython",
    "version": 3
   },
   "file_extension": ".py",
   "mimetype": "text/x-python",
   "name": "python",
   "nbconvert_exporter": "python",
   "pygments_lexer": "ipython3",
   "version": "3.7.3"
  }
 },
 "nbformat": 4,
 "nbformat_minor": 4
}
