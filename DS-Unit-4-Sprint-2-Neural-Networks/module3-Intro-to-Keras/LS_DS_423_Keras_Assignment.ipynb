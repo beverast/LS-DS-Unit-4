{
 "cells": [
  {
   "cell_type": "markdown",
   "metadata": {
    "colab_type": "text",
    "id": "pBQsZEJmubLs"
   },
   "source": [
    "## Use the Keras Library to build a Multi-Layer Perceptron Model on the Boston Housing dataset\n",
    "\n",
    "- The Boston Housing dataset comes with the Keras library so use Keras to import it into your notebook. \n",
    "- Normalize the data (all features should have roughly the same scale)\n",
    "- Import the type of model and layers that you will need from Keras.\n",
    "- Instantiate a model object and use `model.add()` to add layers to your model\n",
    "- Since this is a regression model you will have a single output node in the final layer.\n",
    "- Use activation functions that are appropriate for this task\n",
    "- Compile your model\n",
    "- Fit your model and report its accuracy in terms of Mean Squared Error\n",
    "- Use the history object that is returned from model.fit to make graphs of the model's loss or train/validation accuracies by epoch. \n",
    "- Run this same data through a linear regression model. Which achieves higher accuracy?\n",
    "- Do a little bit of feature engineering and see how that affects your neural network model. (you will need to change your model to accept more inputs)\n",
    "- After feature engineering, which model sees a greater accuracy boost due to the new features?\n",
    "-------------------"
   ]
  },
  {
   "cell_type": "markdown",
   "metadata": {},
   "source": [
    "### Import Boston Housing dataset using Keras"
   ]
  },
  {
   "cell_type": "code",
   "execution_count": 76,
   "metadata": {
    "colab": {},
    "colab_type": "code",
    "id": "8NLTAR87uYJ-"
   },
   "outputs": [],
   "source": [
    "from keras.datasets import boston_housing\n",
    "\n",
    "(X_train, y_train), (X_test, y_test) = boston_housing.load_data()"
   ]
  },
  {
   "cell_type": "markdown",
   "metadata": {},
   "source": [
    "### Normalize the data\n",
    "\n",
    "Neural networks are able to converge with data that hasn't been normalized. But, normalizing the data can cause the model to converge more quickly. Normalization is more important for traditional statistical models, and very important for distance-based clustering algorithms."
   ]
  },
  {
   "cell_type": "code",
   "execution_count": 77,
   "metadata": {},
   "outputs": [],
   "source": [
    "import numpy as np\n",
    "\n",
    "X_train = (X_train / np.amax(X_train, axis=0)).astype('float32')\n",
    "X_test = (X_test / np.amax(X_test, axis=0)).astype('float32')\n",
    "\n",
    "y_train = (y_train / np.amax(y_train, axis=0)).astype('float32')\n",
    "y_test = (y_test / np.amax(y_train, axis=0)).astype('float32')"
   ]
  },
  {
   "cell_type": "code",
   "execution_count": 78,
   "metadata": {},
   "outputs": [
    {
     "data": {
      "text/plain": [
       "(404, 13)"
      ]
     },
     "execution_count": 78,
     "metadata": {},
     "output_type": "execute_result"
    }
   ],
   "source": [
    "X_train.shape"
   ]
  },
  {
   "cell_type": "markdown",
   "metadata": {},
   "source": [
    "### Import the type of model and layers that you will need from Keras"
   ]
  },
  {
   "cell_type": "code",
   "execution_count": 79,
   "metadata": {},
   "outputs": [],
   "source": [
    "from tensorflow import keras\n",
    "from tensorflow.keras.models import Sequential\n",
    "from tensorflow.keras.layers import Dense"
   ]
  },
  {
   "cell_type": "markdown",
   "metadata": {},
   "source": [
    "### Instantiate a model object"
   ]
  },
  {
   "cell_type": "code",
   "execution_count": 80,
   "metadata": {},
   "outputs": [],
   "source": [
    "model = Sequential()\n",
    "\n",
    "# Input layer + hidden layer\n",
    "model.add(Dense(10, input_dim=13, activation='sigmoid'))\n",
    "model.add(Dense(10, activation='relu'))\n",
    "# Output layer (no activation for output layer in regression problems)\n",
    "model.add(Dense(1))"
   ]
  },
  {
   "cell_type": "markdown",
   "metadata": {},
   "source": [
    "### Compile the model"
   ]
  },
  {
   "cell_type": "code",
   "execution_count": 81,
   "metadata": {},
   "outputs": [
    {
     "name": "stdout",
     "output_type": "stream",
     "text": [
      "Model: \"sequential_1\"\n",
      "_________________________________________________________________\n",
      "Layer (type)                 Output Shape              Param #   \n",
      "=================================================================\n",
      "dense_3 (Dense)              (None, 10)                140       \n",
      "_________________________________________________________________\n",
      "dense_4 (Dense)              (None, 10)                110       \n",
      "_________________________________________________________________\n",
      "dense_5 (Dense)              (None, 1)                 11        \n",
      "=================================================================\n",
      "Total params: 261\n",
      "Trainable params: 261\n",
      "Non-trainable params: 0\n",
      "_________________________________________________________________\n"
     ]
    }
   ],
   "source": [
    "model.compile(loss='mean_squared_error',\n",
    "              optimizer='sgd',\n",
    "              metrics=['mean_squared_error', 'accuracy'])\n",
    "model.summary()"
   ]
  },
  {
   "cell_type": "markdown",
   "metadata": {},
   "source": [
    "### Fit your model and report its accuracy in terms of Mean Squared Error"
   ]
  },
  {
   "cell_type": "code",
   "execution_count": 82,
   "metadata": {},
   "outputs": [
    {
     "name": "stdout",
     "output_type": "stream",
     "text": [
      "102/102 [==============================] - 0s 316us/sample - loss: 594.9763 - mean_squared_error: 594.9763 - acc: 0.0000e+00\n",
      "mean_squared_error: 594.976318359375\n"
     ]
    }
   ],
   "source": [
    "history = model.fit(X_train, y_train, epochs=100, verbose=0)\n",
    "scores = model.evaluate(X_test, y_test)\n",
    "print(f'{model.metrics_names[1]}: {scores[1]}')"
   ]
  },
  {
   "cell_type": "markdown",
   "metadata": {},
   "source": [
    "### Graph the model's loss or train/validation accuracies by epoch"
   ]
  },
  {
   "cell_type": "code",
   "execution_count": 83,
   "metadata": {},
   "outputs": [],
   "source": [
    "# pandas is needed for altair to read the history data\n",
    "import altair.vegalite.v2 as alt\n",
    "import pandas as pd"
   ]
  },
  {
   "cell_type": "code",
   "execution_count": 84,
   "metadata": {},
   "outputs": [
    {
     "data": {
      "text/html": [
       "<div>\n",
       "<style scoped>\n",
       "    .dataframe tbody tr th:only-of-type {\n",
       "        vertical-align: middle;\n",
       "    }\n",
       "\n",
       "    .dataframe tbody tr th {\n",
       "        vertical-align: top;\n",
       "    }\n",
       "\n",
       "    .dataframe thead th {\n",
       "        text-align: right;\n",
       "    }\n",
       "</style>\n",
       "<table border=\"1\" class=\"dataframe\">\n",
       "  <thead>\n",
       "    <tr style=\"text-align: right;\">\n",
       "      <th></th>\n",
       "      <th>loss</th>\n",
       "      <th>mean_squared_error</th>\n",
       "      <th>acc</th>\n",
       "      <th>epoch</th>\n",
       "    </tr>\n",
       "  </thead>\n",
       "  <tbody>\n",
       "    <tr>\n",
       "      <th>0</th>\n",
       "      <td>0.449899</td>\n",
       "      <td>0.449899</td>\n",
       "      <td>0.0</td>\n",
       "      <td>0</td>\n",
       "    </tr>\n",
       "    <tr>\n",
       "      <th>1</th>\n",
       "      <td>0.061148</td>\n",
       "      <td>0.061148</td>\n",
       "      <td>0.0</td>\n",
       "      <td>1</td>\n",
       "    </tr>\n",
       "    <tr>\n",
       "      <th>2</th>\n",
       "      <td>0.036428</td>\n",
       "      <td>0.036428</td>\n",
       "      <td>0.0</td>\n",
       "      <td>2</td>\n",
       "    </tr>\n",
       "    <tr>\n",
       "      <th>3</th>\n",
       "      <td>0.034205</td>\n",
       "      <td>0.034205</td>\n",
       "      <td>0.0</td>\n",
       "      <td>3</td>\n",
       "    </tr>\n",
       "    <tr>\n",
       "      <th>4</th>\n",
       "      <td>0.033974</td>\n",
       "      <td>0.033974</td>\n",
       "      <td>0.0</td>\n",
       "      <td>4</td>\n",
       "    </tr>\n",
       "  </tbody>\n",
       "</table>\n",
       "</div>"
      ],
      "text/plain": [
       "       loss  mean_squared_error  acc  epoch\n",
       "0  0.449899            0.449899  0.0      0\n",
       "1  0.061148            0.061148  0.0      1\n",
       "2  0.036428            0.036428  0.0      2\n",
       "3  0.034205            0.034205  0.0      3\n",
       "4  0.033974            0.033974  0.0      4"
      ]
     },
     "execution_count": 84,
     "metadata": {},
     "output_type": "execute_result"
    }
   ],
   "source": [
    "history_df = pd.DataFrame(history.history)\n",
    "history_df['epoch'] = history.epoch\n",
    "history_df.head()"
   ]
  },
  {
   "cell_type": "code",
   "execution_count": 85,
   "metadata": {},
   "outputs": [
    {
     "data": {
      "text/html": [
       "<div>\n",
       "<style scoped>\n",
       "    .dataframe tbody tr th:only-of-type {\n",
       "        vertical-align: middle;\n",
       "    }\n",
       "\n",
       "    .dataframe tbody tr th {\n",
       "        vertical-align: top;\n",
       "    }\n",
       "\n",
       "    .dataframe thead th {\n",
       "        text-align: right;\n",
       "    }\n",
       "</style>\n",
       "<table border=\"1\" class=\"dataframe\">\n",
       "  <thead>\n",
       "    <tr style=\"text-align: right;\">\n",
       "      <th></th>\n",
       "      <th>loss</th>\n",
       "      <th>mean_squared_error</th>\n",
       "      <th>acc</th>\n",
       "      <th>epoch</th>\n",
       "    </tr>\n",
       "  </thead>\n",
       "  <tbody>\n",
       "    <tr>\n",
       "      <th>count</th>\n",
       "      <td>100.000000</td>\n",
       "      <td>100.000000</td>\n",
       "      <td>100.000000</td>\n",
       "      <td>100.000000</td>\n",
       "    </tr>\n",
       "    <tr>\n",
       "      <th>mean</th>\n",
       "      <td>0.036053</td>\n",
       "      <td>0.036053</td>\n",
       "      <td>0.000965</td>\n",
       "      <td>49.500000</td>\n",
       "    </tr>\n",
       "    <tr>\n",
       "      <th>std</th>\n",
       "      <td>0.041932</td>\n",
       "      <td>0.041932</td>\n",
       "      <td>0.001213</td>\n",
       "      <td>29.011492</td>\n",
       "    </tr>\n",
       "    <tr>\n",
       "      <th>min</th>\n",
       "      <td>0.029281</td>\n",
       "      <td>0.029281</td>\n",
       "      <td>0.000000</td>\n",
       "      <td>0.000000</td>\n",
       "    </tr>\n",
       "    <tr>\n",
       "      <th>25%</th>\n",
       "      <td>0.030363</td>\n",
       "      <td>0.030363</td>\n",
       "      <td>0.000000</td>\n",
       "      <td>24.750000</td>\n",
       "    </tr>\n",
       "    <tr>\n",
       "      <th>50%</th>\n",
       "      <td>0.031479</td>\n",
       "      <td>0.031479</td>\n",
       "      <td>0.000000</td>\n",
       "      <td>49.500000</td>\n",
       "    </tr>\n",
       "    <tr>\n",
       "      <th>75%</th>\n",
       "      <td>0.032788</td>\n",
       "      <td>0.032788</td>\n",
       "      <td>0.002475</td>\n",
       "      <td>74.250000</td>\n",
       "    </tr>\n",
       "    <tr>\n",
       "      <th>max</th>\n",
       "      <td>0.449899</td>\n",
       "      <td>0.449899</td>\n",
       "      <td>0.002475</td>\n",
       "      <td>99.000000</td>\n",
       "    </tr>\n",
       "  </tbody>\n",
       "</table>\n",
       "</div>"
      ],
      "text/plain": [
       "             loss  mean_squared_error         acc       epoch\n",
       "count  100.000000          100.000000  100.000000  100.000000\n",
       "mean     0.036053            0.036053    0.000965   49.500000\n",
       "std      0.041932            0.041932    0.001213   29.011492\n",
       "min      0.029281            0.029281    0.000000    0.000000\n",
       "25%      0.030363            0.030363    0.000000   24.750000\n",
       "50%      0.031479            0.031479    0.000000   49.500000\n",
       "75%      0.032788            0.032788    0.002475   74.250000\n",
       "max      0.449899            0.449899    0.002475   99.000000"
      ]
     },
     "execution_count": 85,
     "metadata": {},
     "output_type": "execute_result"
    }
   ],
   "source": [
    "history_df.describe()"
   ]
  },
  {
   "cell_type": "code",
   "execution_count": 86,
   "metadata": {},
   "outputs": [
    {
     "data": {
      "application/vnd.vegalite.v2+json": {
       "$schema": "https://vega.github.io/schema/vega-lite/v2.6.0.json",
       "config": {
        "view": {
         "height": 300,
         "width": 400
        }
       },
       "data": {
        "name": "data-f0857b13d3e0fd7b55b1293337f757cb"
       },
       "datasets": {
        "data-f0857b13d3e0fd7b55b1293337f757cb": [
         {
          "acc": 0,
          "epoch": 0,
          "loss": 0.4498986417409217,
          "mean_squared_error": 0.4498986601829529
         },
         {
          "acc": 0,
          "epoch": 1,
          "loss": 0.06114793047401132,
          "mean_squared_error": 0.06114793196320534
         },
         {
          "acc": 0,
          "epoch": 2,
          "loss": 0.0364278245090258,
          "mean_squared_error": 0.036427829414606094
         },
         {
          "acc": 0,
          "epoch": 3,
          "loss": 0.03420475612182428,
          "mean_squared_error": 0.03420475870370865
         },
         {
          "acc": 0,
          "epoch": 4,
          "loss": 0.033974194124636085,
          "mean_squared_error": 0.03397419676184654
         },
         {
          "acc": 0,
          "epoch": 5,
          "loss": 0.03401322391732495,
          "mean_squared_error": 0.03401322662830353
         },
         {
          "acc": 0,
          "epoch": 6,
          "loss": 0.03390081680499681,
          "mean_squared_error": 0.03390081971883774
         },
         {
          "acc": 0,
          "epoch": 7,
          "loss": 0.03385929711679421,
          "mean_squared_error": 0.03385929390788078
         },
         {
          "acc": 0,
          "epoch": 8,
          "loss": 0.033745671189067385,
          "mean_squared_error": 0.033745668828487396
         },
         {
          "acc": 0,
          "epoch": 9,
          "loss": 0.03376702949552253,
          "mean_squared_error": 0.03376702964305878
         },
         {
          "acc": 0,
          "epoch": 10,
          "loss": 0.033637874012831415,
          "mean_squared_error": 0.0336378738284111
         },
         {
          "acc": 0,
          "epoch": 11,
          "loss": 0.03358127750308797,
          "mean_squared_error": 0.03358127549290657
         },
         {
          "acc": 0,
          "epoch": 12,
          "loss": 0.033533947745172106,
          "mean_squared_error": 0.03353394195437431
         },
         {
          "acc": 0,
          "epoch": 13,
          "loss": 0.033459225282220555,
          "mean_squared_error": 0.03345922753214836
         },
         {
          "acc": 0,
          "epoch": 14,
          "loss": 0.033441911220993145,
          "mean_squared_error": 0.03344191238284111
         },
         {
          "acc": 0,
          "epoch": 15,
          "loss": 0.033347540175413144,
          "mean_squared_error": 0.033347539603710175
         },
         {
          "acc": 0,
          "epoch": 16,
          "loss": 0.03334823062661851,
          "mean_squared_error": 0.03334823250770569
         },
         {
          "acc": 0,
          "epoch": 17,
          "loss": 0.03327284849221163,
          "mean_squared_error": 0.03327284753322601
         },
         {
          "acc": 0,
          "epoch": 18,
          "loss": 0.0332534838246532,
          "mean_squared_error": 0.03325348719954491
         },
         {
          "acc": 0,
          "epoch": 19,
          "loss": 0.03309644873041918,
          "mean_squared_error": 0.033096447587013245
         },
         {
          "acc": 0,
          "epoch": 20,
          "loss": 0.03304118618811711,
          "mean_squared_error": 0.03304118663072586
         },
         {
          "acc": 0,
          "epoch": 21,
          "loss": 0.03298136785552643,
          "mean_squared_error": 0.03298136591911316
         },
         {
          "acc": 0,
          "epoch": 22,
          "loss": 0.032968707843729766,
          "mean_squared_error": 0.032968707382678986
         },
         {
          "acc": 0,
          "epoch": 23,
          "loss": 0.03288138255772024,
          "mean_squared_error": 0.03288138657808304
         },
         {
          "acc": 0,
          "epoch": 24,
          "loss": 0.032821801325103435,
          "mean_squared_error": 0.03282180055975914
         },
         {
          "acc": 0,
          "epoch": 25,
          "loss": 0.03277663768518089,
          "mean_squared_error": 0.032776638865470886
         },
         {
          "acc": 0,
          "epoch": 26,
          "loss": 0.03275256780999722,
          "mean_squared_error": 0.032752569764852524
         },
         {
          "acc": 0,
          "epoch": 27,
          "loss": 0.03263400406530588,
          "mean_squared_error": 0.032634004950523376
         },
         {
          "acc": 0,
          "epoch": 28,
          "loss": 0.03261877109508703,
          "mean_squared_error": 0.032618772238492966
         },
         {
          "acc": 0,
          "epoch": 29,
          "loss": 0.032582548861899,
          "mean_squared_error": 0.03258255124092102
         },
         {
          "acc": 0,
          "epoch": 30,
          "loss": 0.03250134562944422,
          "mean_squared_error": 0.03250134363770485
         },
         {
          "acc": 0,
          "epoch": 31,
          "loss": 0.032435495793671894,
          "mean_squared_error": 0.032435499131679535
         },
         {
          "acc": 0,
          "epoch": 32,
          "loss": 0.03242294040351811,
          "mean_squared_error": 0.03242293745279312
         },
         {
          "acc": 0,
          "epoch": 33,
          "loss": 0.03236598200579681,
          "mean_squared_error": 0.03236598148941994
         },
         {
          "acc": 0,
          "epoch": 34,
          "loss": 0.032292150329835345,
          "mean_squared_error": 0.03229214996099472
         },
         {
          "acc": 0,
          "epoch": 35,
          "loss": 0.03227277889405147,
          "mean_squared_error": 0.03227277845144272
         },
         {
          "acc": 0,
          "epoch": 36,
          "loss": 0.03215507351525939,
          "mean_squared_error": 0.032155074179172516
         },
         {
          "acc": 0,
          "epoch": 37,
          "loss": 0.032170031413362166,
          "mean_squared_error": 0.03217003494501114
         },
         {
          "acc": 0,
          "epoch": 38,
          "loss": 0.03215584856006178,
          "mean_squared_error": 0.0321558453142643
         },
         {
          "acc": 0,
          "epoch": 39,
          "loss": 0.03208873581399422,
          "mean_squared_error": 0.032088737934827805
         },
         {
          "acc": 0,
          "epoch": 40,
          "loss": 0.031948480312481965,
          "mean_squared_error": 0.031948480755090714
         },
         {
          "acc": 0,
          "epoch": 41,
          "loss": 0.031887163343553494,
          "mean_squared_error": 0.03188716247677803
         },
         {
          "acc": 0,
          "epoch": 42,
          "loss": 0.03187574164960349,
          "mean_squared_error": 0.031875740736722946
         },
         {
          "acc": 0,
          "epoch": 43,
          "loss": 0.03182434452937381,
          "mean_squared_error": 0.03182434290647507
         },
         {
          "acc": 0,
          "epoch": 44,
          "loss": 0.031741872356079594,
          "mean_squared_error": 0.03174187242984772
         },
         {
          "acc": 0,
          "epoch": 45,
          "loss": 0.03175268862580899,
          "mean_squared_error": 0.03175269067287445
         },
         {
          "acc": 0,
          "epoch": 46,
          "loss": 0.03164118631641463,
          "mean_squared_error": 0.03164118900895119
         },
         {
          "acc": 0,
          "epoch": 47,
          "loss": 0.031610363190717035,
          "mean_squared_error": 0.031610362231731415
         },
         {
          "acc": 0,
          "epoch": 48,
          "loss": 0.03155932332029437,
          "mean_squared_error": 0.03155932202935219
         },
         {
          "acc": 0,
          "epoch": 49,
          "loss": 0.0314948439303011,
          "mean_squared_error": 0.03149484470486641
         },
         {
          "acc": 0,
          "epoch": 50,
          "loss": 0.031463458617724996,
          "mean_squared_error": 0.03146345913410187
         },
         {
          "acc": 0,
          "epoch": 51,
          "loss": 0.03145819183180828,
          "mean_squared_error": 0.03145819157361984
         },
         {
          "acc": 0,
          "epoch": 52,
          "loss": 0.03133017988414458,
          "mean_squared_error": 0.031330179423093796
         },
         {
          "acc": 0,
          "epoch": 53,
          "loss": 0.031316836724186885,
          "mean_squared_error": 0.03131683170795441
         },
         {
          "acc": 0,
          "epoch": 54,
          "loss": 0.03130169168557271,
          "mean_squared_error": 0.03130168840289116
         },
         {
          "acc": 0,
          "epoch": 55,
          "loss": 0.031243670916203226,
          "mean_squared_error": 0.031243668869137764
         },
         {
          "acc": 0.002475247485563159,
          "epoch": 56,
          "loss": 0.031191627762400278,
          "mean_squared_error": 0.0311916284263134
         },
         {
          "acc": 0,
          "epoch": 57,
          "loss": 0.031141551783179292,
          "mean_squared_error": 0.031141553074121475
         },
         {
          "acc": 0,
          "epoch": 58,
          "loss": 0.031114175288689018,
          "mean_squared_error": 0.03111417405307293
         },
         {
          "acc": 0,
          "epoch": 59,
          "loss": 0.03108880290816916,
          "mean_squared_error": 0.031088802963495255
         },
         {
          "acc": 0,
          "epoch": 60,
          "loss": 0.03105402782116786,
          "mean_squared_error": 0.031054027378559113
         },
         {
          "acc": 0.002475247485563159,
          "epoch": 61,
          "loss": 0.0309105416999595,
          "mean_squared_error": 0.030910542234778404
         },
         {
          "acc": 0.002475247485563159,
          "epoch": 62,
          "loss": 0.030883914394543903,
          "mean_squared_error": 0.030883915722370148
         },
         {
          "acc": 0.002475247485563159,
          "epoch": 63,
          "loss": 0.030827199450076215,
          "mean_squared_error": 0.030827201902866364
         },
         {
          "acc": 0.002475247485563159,
          "epoch": 64,
          "loss": 0.03088259663764793,
          "mean_squared_error": 0.030882595106959343
         },
         {
          "acc": 0.002475247485563159,
          "epoch": 65,
          "loss": 0.03079715559240615,
          "mean_squared_error": 0.03079715557396412
         },
         {
          "acc": 0.002475247485563159,
          "epoch": 66,
          "loss": 0.030680516458088808,
          "mean_squared_error": 0.030680516734719276
         },
         {
          "acc": 0.002475247485563159,
          "epoch": 67,
          "loss": 0.03065123925409695,
          "mean_squared_error": 0.030651239678263664
         },
         {
          "acc": 0.002475247485563159,
          "epoch": 68,
          "loss": 0.03065525338348776,
          "mean_squared_error": 0.030655253678560257
         },
         {
          "acc": 0.002475247485563159,
          "epoch": 69,
          "loss": 0.030605212241263672,
          "mean_squared_error": 0.030605211853981018
         },
         {
          "acc": 0,
          "epoch": 70,
          "loss": 0.03054570705436244,
          "mean_squared_error": 0.030545709654688835
         },
         {
          "acc": 0.002475247485563159,
          "epoch": 71,
          "loss": 0.030508034779588775,
          "mean_squared_error": 0.03050803393125534
         },
         {
          "acc": 0.002475247485563159,
          "epoch": 72,
          "loss": 0.030457480580057247,
          "mean_squared_error": 0.030457479879260063
         },
         {
          "acc": 0.002475247485563159,
          "epoch": 73,
          "loss": 0.03038386163292545,
          "mean_squared_error": 0.03038386069238186
         },
         {
          "acc": 0.002475247485563159,
          "epoch": 74,
          "loss": 0.030408914191740574,
          "mean_squared_error": 0.030408911406993866
         },
         {
          "acc": 0.002475247485563159,
          "epoch": 75,
          "loss": 0.030301479567395578,
          "mean_squared_error": 0.03030148148536682
         },
         {
          "acc": 0.002475247485563159,
          "epoch": 76,
          "loss": 0.03023195015912009,
          "mean_squared_error": 0.03023195080459118
         },
         {
          "acc": 0.002475247485563159,
          "epoch": 77,
          "loss": 0.030251941210267568,
          "mean_squared_error": 0.030251942574977875
         },
         {
          "acc": 0.002475247485563159,
          "epoch": 78,
          "loss": 0.030215765985817013,
          "mean_squared_error": 0.030215764418244362
         },
         {
          "acc": 0.002475247485563159,
          "epoch": 79,
          "loss": 0.030145906686487766,
          "mean_squared_error": 0.030145909637212753
         },
         {
          "acc": 0.002475247485563159,
          "epoch": 80,
          "loss": 0.03004818330380586,
          "mean_squared_error": 0.030048182234168053
         },
         {
          "acc": 0.002475247485563159,
          "epoch": 81,
          "loss": 0.03006077583621044,
          "mean_squared_error": 0.030060773715376854
         },
         {
          "acc": 0.002475247485563159,
          "epoch": 82,
          "loss": 0.03004488964924718,
          "mean_squared_error": 0.030044889077544212
         },
         {
          "acc": 0.002475247485563159,
          "epoch": 83,
          "loss": 0.02996386985967655,
          "mean_squared_error": 0.029963871464133263
         },
         {
          "acc": 0.002475247485563159,
          "epoch": 84,
          "loss": 0.029880246405701825,
          "mean_squared_error": 0.02988024801015854
         },
         {
          "acc": 0.002475247485563159,
          "epoch": 85,
          "loss": 0.029855040962448214,
          "mean_squared_error": 0.029855040833353996
         },
         {
          "acc": 0.002475247485563159,
          "epoch": 86,
          "loss": 0.029895103324462872,
          "mean_squared_error": 0.029895102605223656
         },
         {
          "acc": 0.002475247485563159,
          "epoch": 87,
          "loss": 0.029828595200387557,
          "mean_squared_error": 0.029828593134880066
         },
         {
          "acc": 0.002475247485563159,
          "epoch": 88,
          "loss": 0.02974405829416643,
          "mean_squared_error": 0.02974405698478222
         },
         {
          "acc": 0.002475247485563159,
          "epoch": 89,
          "loss": 0.029714516004418382,
          "mean_squared_error": 0.029714519158005714
         },
         {
          "acc": 0.002475247485563159,
          "epoch": 90,
          "loss": 0.029686745956982716,
          "mean_squared_error": 0.02968674898147583
         },
         {
          "acc": 0.002475247485563159,
          "epoch": 91,
          "loss": 0.029655270518200234,
          "mean_squared_error": 0.029655268415808678
         },
         {
          "acc": 0.002475247485563159,
          "epoch": 92,
          "loss": 0.029676489421341677,
          "mean_squared_error": 0.029676489531993866
         },
         {
          "acc": 0.002475247485563159,
          "epoch": 93,
          "loss": 0.02953866948511931,
          "mean_squared_error": 0.029538672417402267
         },
         {
          "acc": 0.002475247485563159,
          "epoch": 94,
          "loss": 0.029599862007221374,
          "mean_squared_error": 0.029599860310554504
         },
         {
          "acc": 0.002475247485563159,
          "epoch": 95,
          "loss": 0.029460002105719973,
          "mean_squared_error": 0.0294599998742342
         },
         {
          "acc": 0.002475247485563159,
          "epoch": 96,
          "loss": 0.0294485659993226,
          "mean_squared_error": 0.02944856882095337
         },
         {
          "acc": 0.002475247485563159,
          "epoch": 97,
          "loss": 0.02937041147436836,
          "mean_squared_error": 0.029370412230491638
         },
         {
          "acc": 0.002475247485563159,
          "epoch": 98,
          "loss": 0.029371580422514736,
          "mean_squared_error": 0.029371580109000206
         },
         {
          "acc": 0.002475247485563159,
          "epoch": 99,
          "loss": 0.029281474908094594,
          "mean_squared_error": 0.02928147464990616
         }
        ]
       },
       "encoding": {
        "x": {
         "field": "epoch",
         "type": "quantitative"
        },
        "y": {
         "field": "mean_squared_error",
         "type": "quantitative"
        }
       },
       "mark": {
        "opacity": 0.3,
        "type": "area"
       }
      },
      "image/png": "[encoded data removed]",
      "text/plain": [
       "<VegaLite 2 object>\n",
       "\n",
       "If you see this message, it means the renderer has not been properly enabled\n",
       "for the frontend that you are using. For more information, see\n",
       "https://altair-viz.github.io/user_guide/troubleshooting.html\n"
      ]
     },
     "execution_count": 86,
     "metadata": {},
     "output_type": "execute_result"
    }
   ],
   "source": [
    "alt.Chart(history_df).mark_area(opacity=0.3).encode(\n",
    "    x='epoch',\n",
    "    y='mean_squared_error'\n",
    ")"
   ]
  },
  {
   "cell_type": "markdown",
   "metadata": {},
   "source": [
    "### Run this same data through a linear regression model. Which achieves higher accuracy?\n",
    "\n",
    "Since this is not a classification task, the accuracy metric cannot be used for this estimator. Instead, a metric such as `'neg_mean_squared_error'` can be used."
   ]
  },
  {
   "cell_type": "code",
   "execution_count": 87,
   "metadata": {},
   "outputs": [
    {
     "data": {
      "text/plain": [
       "LinearRegression(copy_X=True, fit_intercept=True, n_jobs=-1, normalize=True)"
      ]
     },
     "execution_count": 87,
     "metadata": {},
     "output_type": "execute_result"
    }
   ],
   "source": [
    "from sklearn.linear_model import LinearRegression\n",
    "from sklearn.model_selection import cross_val_score\n",
    "\n",
    "reg = LinearRegression(normalize=True, n_jobs=-1)\n",
    "reg.fit(X_train, y_train)"
   ]
  },
  {
   "cell_type": "code",
   "execution_count": 89,
   "metadata": {},
   "outputs": [
    {
     "name": "stdout",
     "output_type": "stream",
     "text": [
      "Neural network MSE:  594.9763\n",
      "OLS/Linear regression MSE:  21.814922904968263\n"
     ]
    }
   ],
   "source": [
    "reg_neg_mae = abs(cross_val_score(reg, X_test, y_test, cv=5, scoring='neg_mean_squared_error'))\n",
    "reg_mae = reg_neg_mae.mean()\n",
    "print(\"Neural network MSE: \", scores[1])\n",
    "print(\"OLS/Linear regression MSE: \", reg_mae)"
   ]
  },
  {
   "cell_type": "markdown",
   "metadata": {},
   "source": [
    "### Perform feature engineering and see how that affects your neural network model"
   ]
  },
  {
   "cell_type": "code",
   "execution_count": 129,
   "metadata": {},
   "outputs": [
    {
     "data": {
      "text/plain": [
       "((506, 13), (506, 1))"
      ]
     },
     "execution_count": 129,
     "metadata": {},
     "output_type": "execute_result"
    }
   ],
   "source": [
    "(X_train, y_train), (X_test, y_test) = boston_housing.load_data()\n",
    "\n",
    "boston_df = pd.concat([pd.DataFrame(X_train), pd.DataFrame(X_test)])\n",
    "boston_y = pd.concat([pd.DataFrame(y_train), pd.DataFrame(y_test)])\n",
    "boston_df.shape, boston_y.shape\n",
    "#boston_df.head()"
   ]
  },
  {
   "cell_type": "code",
   "execution_count": 131,
   "metadata": {},
   "outputs": [],
   "source": [
    "boston_df.corr()\n",
    "#Create interaction terms for these pairs w/ high corr. coefs:\n",
    "# 17, 24, 27, 47, 46, 67, 89\n",
    "boston_df[17] = boston_df[1] * boston_df[7]\n",
    "boston_df[24] = boston_df[2] * boston_df[4]\n",
    "boston_df[27] = boston_df[2] * boston_df[7]\n",
    "boston_df[47] = boston_df[4] * boston_df[7]\n",
    "boston_df[46] = boston_df[4] * boston_df[6]\n",
    "boston_df[67] = boston_df[6] * boston_df[7]\n",
    "boston_df[89] = boston_df[8] * boston_df[9]"
   ]
  },
  {
   "cell_type": "code",
   "execution_count": 132,
   "metadata": {},
   "outputs": [
    {
     "data": {
      "text/plain": [
       "(404, 20)"
      ]
     },
     "execution_count": 132,
     "metadata": {},
     "output_type": "execute_result"
    }
   ],
   "source": [
    "from sklearn.model_selection import train_test_split\n",
    "\n",
    "X_train, X_test, y_train, y_test = train_test_split(boston_df, boston_y, test_size=0.2, random_state=42)\n",
    "\n",
    "X_train = X_train.to_numpy()\n",
    "X_test = X_test.to_numpy()\n",
    "X_train.shape"
   ]
  },
  {
   "cell_type": "code",
   "execution_count": 133,
   "metadata": {},
   "outputs": [
    {
     "name": "stdout",
     "output_type": "stream",
     "text": [
      "102/102 [==============================] - 0s 350us/sample - loss: 91.5482 - mean_squared_error: 91.5482 - acc: 0.0000e+00\n",
      "mean_squared_error: 91.54815673828125\n"
     ]
    }
   ],
   "source": [
    "# Reinitialize model with new input dimensions\n",
    "model = Sequential()\n",
    "\n",
    "# Input layer + hidden layer\n",
    "model.add(Dense(10, input_dim=20, activation='sigmoid'))\n",
    "model.add(Dense(10, activation='relu'))\n",
    "# Output layer (no activation for output layer in regression problems)\n",
    "model.add(Dense(1))\n",
    "\n",
    "# Recompile the model\n",
    "model.compile(loss='mean_squared_error',\n",
    "              optimizer='sgd',\n",
    "              metrics=['mean_squared_error', 'accuracy'])\n",
    "\n",
    "# Fit and score model\n",
    "history = model.fit(X_train, y_train, epochs=100, verbose=0)\n",
    "scores = model.evaluate(X_test, y_test)\n",
    "print(f'{model.metrics_names[1]}: {scores[1]}')"
   ]
  },
  {
   "cell_type": "markdown",
   "metadata": {
    "colab_type": "text",
    "id": "SfcFnOONyuNm"
   },
   "source": [
    "## Use the Keras Library to build an image recognition network using the Fashion-MNIST dataset (also comes with keras)\n",
    "\n",
    "- Load and preprocess the image data similar to how we preprocessed the MNIST data in class.\n",
    "- Make sure to one-hot encode your category labels\n",
    "- Make sure to have your final layer have as many nodes as the number of classes that you want to predict.\n",
    "- Try different hyperparameters. What is the highest accuracy that you are able to achieve.\n",
    "- Use the history object that is returned from model.fit to make graphs of the model's loss or train/validation accuracies by epoch. \n",
    "- Remember that neural networks fall prey to randomness so you may need to run your model multiple times (or use Cross Validation) in order to tell if a change to a hyperparameter is truly producing better results."
   ]
  },
  {
   "cell_type": "code",
   "execution_count": null,
   "metadata": {
    "colab": {},
    "colab_type": "code",
    "id": "szi6-IpuzaH1"
   },
   "outputs": [],
   "source": [
    "##### Your Code Here #####"
   ]
  },
  {
   "cell_type": "markdown",
   "metadata": {
    "colab_type": "text",
    "id": "zv_3xNMjzdLI"
   },
   "source": [
    "## Stretch Goals:\n",
    "\n",
    "- Use Hyperparameter Tuning to make the accuracy of your models as high as possible. (error as low as possible)\n",
    "- Use Cross Validation techniques to get more consistent results with your model.\n",
    "- Use GridSearchCV to try different combinations of hyperparameters. \n",
    "- Start looking into other types of Keras layers for CNNs and RNNs maybe try and build a CNN model for fashion-MNIST to see how the results compare."
   ]
  }
 ],
 "metadata": {
  "colab": {
   "name": "LS_DS_433_Keras_Assignment.ipynb",
   "provenance": [],
   "version": "0.3.2"
  },
  "kernelspec": {
   "display_name": "Python 3",
   "language": "python",
   "name": "python3"
  },
  "language_info": {
   "codemirror_mode": {
    "name": "ipython",
    "version": 3
   },
   "file_extension": ".py",
   "mimetype": "text/x-python",
   "name": "python",
   "nbconvert_exporter": "python",
   "pygments_lexer": "ipython3",
   "version": "3.7.3"
  }
 },
 "nbformat": 4,
 "nbformat_minor": 4
}
