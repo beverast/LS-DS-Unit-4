{
 "cells": [
  {
   "cell_type": "code",
   "execution_count": 1,
   "metadata": {},
   "outputs": [],
   "source": [
    "import warnings\n",
    "warnings.filterwarnings('ignore')"
   ]
  },
  {
   "cell_type": "markdown",
   "metadata": {},
   "source": [
    "<img align=\"left\" src=\"https://lever-client-logos.s3.amazonaws.com/864372b1-534c-480e-acd5-9711f850815c-1524247202159.png\" width=200>\n",
    "<br></br>\n",
    "<br></br>\n",
    "\n",
    "# Topic Modeling\n",
    "## *Data Science Unit 4 Sprint 1 Lesson 4*\n",
    "On Monday we talked about summarizing your documents using just token counts. Today, we're going to learn about a much more sophiscated approach - learning 'topics' from documents. Topics are a latent structure. They are not directly observable in the data, but we know they're there by reading them.\n",
    "\n",
    "> **latent**: existing but not yet developed or manifest; hidden or concealed.\n",
    "\n",
    "## Use Cases\n",
    "Primary use case: what the hell are your documents about? Who might want to know that in industry - \n",
    "* Identifing common themes in customer reviews\n",
    "* Discoverying the needle in a haystack \n",
    "* Monitoring communications (Email - State Department) \n",
    "\n",
    "## Learning Objectives\n",
    "*At the end of the lesson you should be able to:*\n",
    "* <a href=\"#p1\">Part 1</a>: Describe how an LDA Model words\n",
    "* <a href=\"#p2\">Part 2</a>: Estimate a LDA Model with Gensim\n",
    "* <a href=\"#p3\">Part 3</a>: Interpret LDA results\n",
    "* <a href=\"#p4\">Part 4</a>: Select the appropriate number of topics"
   ]
  },
  {
   "cell_type": "markdown",
   "metadata": {},
   "source": [
    "## Part 1: Latent Dirchilet Allocation (LDA) Models\n",
    "<a id=\"#p1\"></a>\n",
    "\n",
    "LDA is a \"generative probabilistic model\". \n",
    "\n",
    "Let's play with a modoel available [here](https://lettier.com/projects/lda-topic-modeling/)"
   ]
  },
  {
   "cell_type": "markdown",
   "metadata": {},
   "source": [
    "## Part 2: Estimating LDA Models with Gensim\n",
    "<a id=\"#p1\"></a>\n",
    "\n",
    "### A Litterary Introduction: *Jane Austen V. Charlotte Bronte*\n",
    "Despite being born nearly forty years apart, modern fans often pit Jane Austen & Charlotte Bronte against one another in a battle for litterary  supremacy. The battle centers around the topics of education for women, courting, and marriage. The authors' similiar backgrounds naturally draw comparisons, but the modern fascination is probably due to novelility of British women publishing novels during the early 19th century. \n",
    "\n",
    "Can we help close a litterary battle for supremacy and simply acknowledge that the authors addressed different topics and deserve to be acknowledged as excellent authors each in their own right?\n",
    "\n",
    "We're going to apply Latent Dirichlet Allocation a machine learning alogrithm for topic modeling to each of the author's novels to compare the distribution of topics in their novels."
   ]
  },
  {
   "cell_type": "code",
   "execution_count": 92,
   "metadata": {},
   "outputs": [],
   "source": [
    "import numpy as np\n",
    "import gensim\n",
    "import os\n",
    "import re\n",
    "\n",
    "# changed import from smart_open to file_or_filename\n",
    "from gensim.utils import file_or_filename, simple_preprocess\n",
    "from gensim.parsing.preprocessing import STOPWORDS\n",
    "from gensim import corpora\n",
    "\n",
    "from gensim.models.ldamulticore import LdaMulticore\n",
    "\n",
    "import pandas as pd\n",
    "import matplotlib.pyplot as plt"
   ]
  },
  {
   "cell_type": "markdown",
   "metadata": {},
   "source": [
    "### Novel Data\n",
    "I grabbed the novel data pre-split into a bunch of smaller chuncks"
   ]
  },
  {
   "cell_type": "code",
   "execution_count": 6,
   "metadata": {},
   "outputs": [],
   "source": [
    "path = './data/austen-brontë-split'"
   ]
  },
  {
   "cell_type": "markdown",
   "metadata": {},
   "source": [
    "### Text Preprocessing\n",
    "**Challenge**: update the function `tokenize` with any technique you have learned so far this week. "
   ]
  },
  {
   "cell_type": "code",
   "execution_count": 7,
   "metadata": {},
   "outputs": [],
   "source": [
    "titles = [t[:-4] for t in os.listdir(path)]"
   ]
  },
  {
   "cell_type": "code",
   "execution_count": 8,
   "metadata": {},
   "outputs": [],
   "source": [
    "STOPWORDS = set(STOPWORDS).union(set(['said', 'mr', 'mrs']))\n",
    "\n",
    "def tokenize(text):\n",
    "    return [token for token in simple_preprocess(text) if token not in STOPWORDS]"
   ]
  },
  {
   "cell_type": "code",
   "execution_count": 9,
   "metadata": {},
   "outputs": [
    {
     "data": {
      "text/plain": [
       "['hello', 'world', 'test', 'tokenization', 'method']"
      ]
     },
     "execution_count": 9,
     "metadata": {},
     "output_type": "execute_result"
    }
   ],
   "source": [
    "tokenize(\"Hello World! This a test of the tokenization method\")"
   ]
  },
  {
   "cell_type": "markdown",
   "metadata": {},
   "source": [
    "### Author DataFrame\n"
   ]
  },
  {
   "cell_type": "code",
   "execution_count": 10,
   "metadata": {},
   "outputs": [],
   "source": [
    "df = pd.DataFrame(index=titles)"
   ]
  },
  {
   "cell_type": "code",
   "execution_count": 11,
   "metadata": {},
   "outputs": [
    {
     "data": {
      "text/html": [
       "<div>\n",
       "<style scoped>\n",
       "    .dataframe tbody tr th:only-of-type {\n",
       "        vertical-align: middle;\n",
       "    }\n",
       "\n",
       "    .dataframe tbody tr th {\n",
       "        vertical-align: top;\n",
       "    }\n",
       "\n",
       "    .dataframe thead th {\n",
       "        text-align: right;\n",
       "    }\n",
       "</style>\n",
       "<table border=\"1\" class=\"dataframe\">\n",
       "  <thead>\n",
       "    <tr style=\"text-align: right;\">\n",
       "      <th></th>\n",
       "    </tr>\n",
       "  </thead>\n",
       "  <tbody>\n",
       "    <tr>\n",
       "      <th>Austen_Emma0000</th>\n",
       "    </tr>\n",
       "    <tr>\n",
       "      <th>Austen_Emma0001</th>\n",
       "    </tr>\n",
       "    <tr>\n",
       "      <th>Austen_Emma0002</th>\n",
       "    </tr>\n",
       "    <tr>\n",
       "      <th>Austen_Emma0003</th>\n",
       "    </tr>\n",
       "    <tr>\n",
       "      <th>Austen_Emma0004</th>\n",
       "    </tr>\n",
       "  </tbody>\n",
       "</table>\n",
       "</div>"
      ],
      "text/plain": [
       "Empty DataFrame\n",
       "Columns: []\n",
       "Index: [Austen_Emma0000, Austen_Emma0001, Austen_Emma0002, Austen_Emma0003, Austen_Emma0004]"
      ]
     },
     "execution_count": 11,
     "metadata": {},
     "output_type": "execute_result"
    }
   ],
   "source": [
    "df.head()"
   ]
  },
  {
   "cell_type": "code",
   "execution_count": 12,
   "metadata": {},
   "outputs": [],
   "source": [
    "df['author'] = df.reset_index()['index'].apply(lambda x: x.split('_')[0]).tolist()\n",
    "df['book'] = df.reset_index()['index'].apply(lambda x: x.split('_')[1][:-4]).tolist()\n",
    "df['section'] = df.reset_index()['index'].apply(lambda x: x[-4:]).tolist()\n",
    "df['section'] = df['section'].astype('int')"
   ]
  },
  {
   "cell_type": "code",
   "execution_count": 13,
   "metadata": {},
   "outputs": [],
   "source": [
    "df['author'] = df['author'].map({'Austen':1, 'CBronte':0})"
   ]
  },
  {
   "cell_type": "code",
   "execution_count": 14,
   "metadata": {},
   "outputs": [
    {
     "data": {
      "text/plain": [
       "0    441\n",
       "1    372\n",
       "Name: author, dtype: int64"
      ]
     },
     "execution_count": 14,
     "metadata": {},
     "output_type": "execute_result"
    }
   ],
   "source": [
    "df.author.value_counts()"
   ]
  },
  {
   "cell_type": "code",
   "execution_count": 15,
   "metadata": {},
   "outputs": [
    {
     "data": {
      "text/html": [
       "<div>\n",
       "<style scoped>\n",
       "    .dataframe tbody tr th:only-of-type {\n",
       "        vertical-align: middle;\n",
       "    }\n",
       "\n",
       "    .dataframe tbody tr th {\n",
       "        vertical-align: top;\n",
       "    }\n",
       "\n",
       "    .dataframe thead th {\n",
       "        text-align: right;\n",
       "    }\n",
       "</style>\n",
       "<table border=\"1\" class=\"dataframe\">\n",
       "  <thead>\n",
       "    <tr style=\"text-align: right;\">\n",
       "      <th></th>\n",
       "      <th>author</th>\n",
       "      <th>book</th>\n",
       "      <th>section</th>\n",
       "    </tr>\n",
       "  </thead>\n",
       "  <tbody>\n",
       "    <tr>\n",
       "      <th>Austen_Emma0000</th>\n",
       "      <td>1</td>\n",
       "      <td>Emma</td>\n",
       "      <td>0</td>\n",
       "    </tr>\n",
       "    <tr>\n",
       "      <th>Austen_Emma0001</th>\n",
       "      <td>1</td>\n",
       "      <td>Emma</td>\n",
       "      <td>1</td>\n",
       "    </tr>\n",
       "    <tr>\n",
       "      <th>Austen_Emma0002</th>\n",
       "      <td>1</td>\n",
       "      <td>Emma</td>\n",
       "      <td>2</td>\n",
       "    </tr>\n",
       "    <tr>\n",
       "      <th>Austen_Emma0003</th>\n",
       "      <td>1</td>\n",
       "      <td>Emma</td>\n",
       "      <td>3</td>\n",
       "    </tr>\n",
       "    <tr>\n",
       "      <th>Austen_Emma0004</th>\n",
       "      <td>1</td>\n",
       "      <td>Emma</td>\n",
       "      <td>4</td>\n",
       "    </tr>\n",
       "  </tbody>\n",
       "</table>\n",
       "</div>"
      ],
      "text/plain": [
       "                 author  book  section\n",
       "Austen_Emma0000       1  Emma        0\n",
       "Austen_Emma0001       1  Emma        1\n",
       "Austen_Emma0002       1  Emma        2\n",
       "Austen_Emma0003       1  Emma        3\n",
       "Austen_Emma0004       1  Emma        4"
      ]
     },
     "execution_count": 15,
     "metadata": {},
     "output_type": "execute_result"
    }
   ],
   "source": [
    "df.head()"
   ]
  },
  {
   "cell_type": "markdown",
   "metadata": {},
   "source": [
    "### Streaming Documents\n",
    "Here we use a new pythonic thingy: the `yield` statement in our fucntion. This allows us to iterate over a bunch of documents without actually reading them into memory. You can see how we use this fucntion later on. "
   ]
  },
  {
   "cell_type": "code",
   "execution_count": 43,
   "metadata": {},
   "outputs": [],
   "source": [
    "def doc_stream(path):\n",
    "    for f in os.listdir(path):\n",
    "        with open(os.path.join(path,f)) as t:\n",
    "            text = t.read().strip('\\n')\n",
    "            # tokens = tokenize(str(text))\n",
    "            yield tokenize(str(text))"
   ]
  },
  {
   "cell_type": "markdown",
   "metadata": {},
   "source": [
    "### Gensim LDA Topic Modeling"
   ]
  },
  {
   "cell_type": "markdown",
   "metadata": {},
   "source": [
    "* Possible stretch goal: Named Entity Recognition preprocessing\n",
    "\n",
    "https://medium.com/@lettier/how-does-lda-work-ill-explain-using-emoji-108abf40fa7d\n",
    "\n",
    "Word - Topic Matrix calculation: chinese restaurant process\n",
    "\n",
    "Two popular sampling processes are variational Bayes and Gibbs Sampling\n",
    "\n",
    "alpha parameter: number of word topics\n",
    "\n",
    "beta parameter: number of document topics"
   ]
  },
  {
   "cell_type": "code",
   "execution_count": 44,
   "metadata": {},
   "outputs": [],
   "source": [
    "# A Dictionary Representation of all the words in our corpus\n",
    "id2word = corpora.Dictionary(doc_stream(path))"
   ]
  },
  {
   "cell_type": "code",
   "execution_count": 45,
   "metadata": {},
   "outputs": [
    {
     "data": {
      "text/plain": [
       "[(2753, 1), (3986, 2), (6601, 1), (6818, 1)]"
      ]
     },
     "execution_count": 45,
     "metadata": {},
     "output_type": "execute_result"
    }
   ],
   "source": [
    "id2word.doc2bow(tokenize(\"This is a sample message Darcy England England\"))"
   ]
  },
  {
   "cell_type": "code",
   "execution_count": 46,
   "metadata": {},
   "outputs": [
    {
     "name": "stdout",
     "output_type": "stream",
     "text": [
      "Dictionary(22095 unique tokens: ['able', 'accepted', 'acquaintance', 'activity', 'actual']...)\n"
     ]
    }
   ],
   "source": [
    "print(id2word)"
   ]
  },
  {
   "cell_type": "code",
   "execution_count": 48,
   "metadata": {},
   "outputs": [
    {
     "data": {
      "text/plain": [
       "(22095, 22095)"
      ]
     },
     "execution_count": 48,
     "metadata": {},
     "output_type": "execute_result"
    }
   ],
   "source": [
    "len(id2word), len(id2word.keys())"
   ]
  },
  {
   "cell_type": "code",
   "execution_count": 49,
   "metadata": {},
   "outputs": [
    {
     "data": {
      "text/plain": [
       "56"
      ]
     },
     "execution_count": 49,
     "metadata": {},
     "output_type": "execute_result"
    }
   ],
   "source": [
    "import sys\n",
    "\n",
    "sys.getsizeof(id2word)"
   ]
  },
  {
   "cell_type": "code",
   "execution_count": 50,
   "metadata": {
    "collapsed": true,
    "jupyter": {
     "outputs_hidden": true
    }
   },
   "outputs": [
    {
     "data": {
      "text/plain": [
       "['_abc_impl',\n",
       " '_adapt_by_suffix',\n",
       " '_load_specials',\n",
       " '_save_specials',\n",
       " '_smart_save',\n",
       " 'add_documents',\n",
       " 'cfs',\n",
       " 'compactify',\n",
       " 'dfs',\n",
       " 'doc2bow',\n",
       " 'doc2idx',\n",
       " 'filter_extremes',\n",
       " 'filter_n_most_frequent',\n",
       " 'filter_tokens',\n",
       " 'from_corpus',\n",
       " 'from_documents',\n",
       " 'get',\n",
       " 'id2token',\n",
       " 'items',\n",
       " 'iteritems',\n",
       " 'iterkeys',\n",
       " 'itervalues',\n",
       " 'keys',\n",
       " 'load',\n",
       " 'load_from_text',\n",
       " 'merge_with',\n",
       " 'num_docs',\n",
       " 'num_nnz',\n",
       " 'num_pos',\n",
       " 'patch_with_special_tokens',\n",
       " 'save',\n",
       " 'save_as_text',\n",
       " 'token2id',\n",
       " 'values']"
      ]
     },
     "execution_count": 50,
     "metadata": {},
     "output_type": "execute_result"
    }
   ],
   "source": [
    "dir(id2word)[33:]"
   ]
  },
  {
   "cell_type": "code",
   "execution_count": 51,
   "metadata": {},
   "outputs": [],
   "source": [
    "# Let's remove extreme values from the dataset\n",
    "id2word.filter_extremes(no_below=10, no_above=0.75)"
   ]
  },
  {
   "cell_type": "code",
   "execution_count": 52,
   "metadata": {},
   "outputs": [],
   "source": [
    "# a bag of words(bow) representation of our corpus\n",
    "# Note: we haven't actually read any text into memory here\n",
    "corpus = [id2word.doc2bow(text) for text in doc_stream(path)]"
   ]
  },
  {
   "cell_type": "code",
   "execution_count": 55,
   "metadata": {},
   "outputs": [
    {
     "data": {
      "text/plain": [
       "[(0, 1),\n",
       " (20, 1),\n",
       " (40, 1),\n",
       " (60, 1),\n",
       " (80, 1),\n",
       " (100, 1),\n",
       " (120, 1),\n",
       " (140, 1),\n",
       " (160, 2),\n",
       " (180, 1),\n",
       " (200, 1),\n",
       " (220, 1),\n",
       " (240, 1),\n",
       " (260, 3),\n",
       " (280, 1)]"
      ]
     },
     "execution_count": 55,
     "metadata": {},
     "output_type": "execute_result"
    }
   ],
   "source": [
    "corpus[0][::20]"
   ]
  },
  {
   "cell_type": "code",
   "execution_count": 56,
   "metadata": {},
   "outputs": [],
   "source": [
    "# random_state won't always return the same results\n",
    "# passes is the number of iterations of the sampling algorithm\n",
    "lda = LdaMulticore(corpus=corpus,\n",
    "                   id2word=id2word,\n",
    "                   random_state=723812,\n",
    "                   num_topics = 15,\n",
    "                   passes=10,\n",
    "                   workers=4\n",
    "                  )"
   ]
  },
  {
   "cell_type": "code",
   "execution_count": 68,
   "metadata": {
    "collapsed": true,
    "jupyter": {
     "outputs_hidden": true
    }
   },
   "outputs": [
    {
     "data": {
      "text/plain": [
       "['_adapt_by_suffix',\n",
       " '_apply',\n",
       " '_load_specials',\n",
       " '_save_specials',\n",
       " '_smart_save',\n",
       " 'alpha',\n",
       " 'batch',\n",
       " 'bound',\n",
       " 'callbacks',\n",
       " 'chunksize',\n",
       " 'clear',\n",
       " 'decay',\n",
       " 'diff',\n",
       " 'dispatcher',\n",
       " 'distributed',\n",
       " 'do_estep',\n",
       " 'do_mstep',\n",
       " 'dtype',\n",
       " 'eta',\n",
       " 'eval_every',\n",
       " 'expElogbeta',\n",
       " 'gamma_threshold',\n",
       " 'get_document_topics',\n",
       " 'get_term_topics',\n",
       " 'get_topic_terms',\n",
       " 'get_topics',\n",
       " 'id2word',\n",
       " 'inference',\n",
       " 'init_dir_prior',\n",
       " 'iterations',\n",
       " 'load',\n",
       " 'log_perplexity',\n",
       " 'minimum_phi_value',\n",
       " 'minimum_probability',\n",
       " 'num_terms',\n",
       " 'num_topics',\n",
       " 'num_updates',\n",
       " 'numworkers',\n",
       " 'offset',\n",
       " 'optimize_alpha',\n",
       " 'optimize_eta',\n",
       " 'passes',\n",
       " 'per_word_topics',\n",
       " 'print_topic',\n",
       " 'print_topics',\n",
       " 'random_state',\n",
       " 'save',\n",
       " 'show_topic',\n",
       " 'show_topics',\n",
       " 'state',\n",
       " 'sync_state',\n",
       " 'top_topics',\n",
       " 'update',\n",
       " 'update_alpha',\n",
       " 'update_eta',\n",
       " 'update_every',\n",
       " 'workers']"
      ]
     },
     "execution_count": 68,
     "metadata": {},
     "output_type": "execute_result"
    }
   ],
   "source": [
    "dir(lda)[28:]"
   ]
  },
  {
   "cell_type": "code",
   "execution_count": 69,
   "metadata": {},
   "outputs": [
    {
     "data": {
      "text/plain": [
       "[(0,\n",
       "  '0.009*\"tea\" + 0.008*\"england\" + 0.008*\"light\" + 0.007*\"hearth\" + 0.007*\"home\" + 0.006*\"frances\" + 0.006*\"old\" + 0.004*\"grandmother\" + 0.004*\"took\" + 0.004*\"like\"'),\n",
       " (1,\n",
       "  '0.046*\"jane\" + 0.025*\"sir\" + 0.018*\"shall\" + 0.016*\"miss\" + 0.012*\"know\" + 0.010*\"think\" + 0.009*\"love\" + 0.009*\"dear\" + 0.009*\"come\" + 0.008*\"oh\"'),\n",
       " (2,\n",
       "  '0.009*\"weston\" + 0.008*\"thing\" + 0.008*\"emma\" + 0.006*\"day\" + 0.006*\"soon\" + 0.006*\"frank\" + 0.005*\"churchill\" + 0.005*\"coming\" + 0.005*\"think\" + 0.005*\"man\"'),\n",
       " (3,\n",
       "  '0.024*\"marianne\" + 0.024*\"elinor\" + 0.010*\"willoughby\" + 0.010*\"sister\" + 0.010*\"jennings\" + 0.008*\"dashwood\" + 0.007*\"miss\" + 0.006*\"mother\" + 0.006*\"know\" + 0.006*\"john\"'),\n",
       " (4,\n",
       "  '0.013*\"elizabeth\" + 0.009*\"darcy\" + 0.007*\"bennet\" + 0.006*\"miss\" + 0.006*\"jane\" + 0.006*\"bingley\" + 0.006*\"know\" + 0.006*\"sister\" + 0.005*\"think\" + 0.005*\"soon\"'),\n",
       " (5,\n",
       "  '0.013*\"pounds\" + 0.013*\"thousand\" + 0.011*\"father\" + 0.009*\"dashwood\" + 0.008*\"thing\" + 0.007*\"years\" + 0.007*\"mother\" + 0.006*\"emma\" + 0.006*\"sure\" + 0.006*\"sisters\"'),\n",
       " (6,\n",
       "  '0.014*\"room\" + 0.013*\"weston\" + 0.009*\"thing\" + 0.009*\"like\" + 0.008*\"dancing\" + 0.007*\"know\" + 0.007*\"sir\" + 0.007*\"dance\" + 0.006*\"couple\" + 0.006*\"passage\"'),\n",
       " (7,\n",
       "  '0.018*\"emma\" + 0.012*\"miss\" + 0.011*\"harriet\" + 0.008*\"weston\" + 0.008*\"knightley\" + 0.008*\"elton\" + 0.008*\"think\" + 0.008*\"thing\" + 0.006*\"know\" + 0.006*\"woodhouse\"'),\n",
       " (8,\n",
       "  '0.016*\"elinor\" + 0.015*\"edward\" + 0.011*\"lucy\" + 0.008*\"mother\" + 0.008*\"think\" + 0.007*\"ferrars\" + 0.006*\"marianne\" + 0.006*\"dashwood\" + 0.006*\"know\" + 0.005*\"miss\"'),\n",
       " (9,\n",
       "  '0.007*\"miss\" + 0.005*\"madame\" + 0.005*\"like\" + 0.005*\"dr\" + 0.004*\"paul\" + 0.004*\"thought\" + 0.004*\"know\" + 0.004*\"think\" + 0.004*\"day\" + 0.004*\"half\"'),\n",
       " (10,\n",
       "  '0.007*\"like\" + 0.005*\"thought\" + 0.004*\"night\" + 0.004*\"day\" + 0.004*\"know\" + 0.004*\"long\" + 0.004*\"saw\" + 0.004*\"rochester\" + 0.003*\"house\" + 0.003*\"hand\"'),\n",
       " (11,\n",
       "  '0.016*\"pelet\" + 0.010*\"madame\" + 0.008*\"monsieur\" + 0.008*\"reuter\" + 0.007*\"vous\" + 0.006*\"thought\" + 0.004*\"mdlle\" + 0.004*\"que\" + 0.004*\"young\" + 0.004*\"et\"'),\n",
       " (12,\n",
       "  '0.007*\"like\" + 0.007*\"madame\" + 0.007*\"bretton\" + 0.006*\"graham\" + 0.006*\"room\" + 0.005*\"miss\" + 0.005*\"long\" + 0.004*\"thought\" + 0.004*\"papa\" + 0.004*\"know\"'),\n",
       " (13,\n",
       "  '0.014*\"monsieur\" + 0.012*\"mdlle\" + 0.008*\"english\" + 0.008*\"henri\" + 0.006*\"reuter\" + 0.005*\"looked\" + 0.005*\"est\" + 0.005*\"vous\" + 0.005*\"mademoiselle\" + 0.004*\"hand\"'),\n",
       " (14,\n",
       "  '0.010*\"marianne\" + 0.007*\"sister\" + 0.007*\"margaret\" + 0.006*\"elinor\" + 0.005*\"shall\" + 0.005*\"opinion\" + 0.005*\"sir\" + 0.004*\"sure\" + 0.004*\"willoughby\" + 0.004*\"love\"')]"
      ]
     },
     "execution_count": 69,
     "metadata": {},
     "output_type": "execute_result"
    }
   ],
   "source": [
    "lda.print_topics()"
   ]
  },
  {
   "cell_type": "code",
   "execution_count": 57,
   "metadata": {},
   "outputs": [],
   "source": [
    "words = [re.findall(r'\"([^\"]*)\"',t[1]) for t in lda.print_topics()]"
   ]
  },
  {
   "cell_type": "code",
   "execution_count": 62,
   "metadata": {},
   "outputs": [
    {
     "data": {
      "text/plain": [
       "[['tea',\n",
       "  'england',\n",
       "  'light',\n",
       "  'hearth',\n",
       "  'home',\n",
       "  'frances',\n",
       "  'old',\n",
       "  'grandmother',\n",
       "  'took',\n",
       "  'like'],\n",
       " ['like',\n",
       "  'thought',\n",
       "  'night',\n",
       "  'day',\n",
       "  'know',\n",
       "  'long',\n",
       "  'saw',\n",
       "  'rochester',\n",
       "  'house',\n",
       "  'hand']]"
      ]
     },
     "execution_count": 62,
     "metadata": {},
     "output_type": "execute_result"
    }
   ],
   "source": [
    "words[::5][::2]"
   ]
  },
  {
   "cell_type": "code",
   "execution_count": 72,
   "metadata": {},
   "outputs": [],
   "source": [
    "topics = [' '.join(t[0:5]) for t in words]"
   ]
  },
  {
   "cell_type": "code",
   "execution_count": 73,
   "metadata": {},
   "outputs": [
    {
     "name": "stdout",
     "output_type": "stream",
     "text": [
      "tea england light hearth home\n"
     ]
    }
   ],
   "source": [
    "print(topics[0])"
   ]
  },
  {
   "cell_type": "markdown",
   "metadata": {},
   "source": [
    "## Part 3: Interpret LDA Results\n",
    "<a id=\"#p3\"></a>\n",
    "\n",
    "### Topic Distance Visualization\n",
    "\n",
    "This is helpful for inspecting if you have too many/too few topics. Also, you can inspect each topic and see what each topic is about."
   ]
  },
  {
   "cell_type": "code",
   "execution_count": 74,
   "metadata": {},
   "outputs": [],
   "source": [
    "import pyLDAvis.gensim\n",
    "\n",
    "pyLDAvis.enable_notebook()"
   ]
  },
  {
   "cell_type": "code",
   "execution_count": 75,
   "metadata": {},
   "outputs": [
    {
     "data": {
      "text/html": [
       "\n",
       "<link rel=\"stylesheet\" type=\"text/css\" href=\"https://cdn.rawgit.com/bmabey/pyLDAvis/files/ldavis.v1.0.0.css\">\n",
       "\n",
       "\n",
       "<div id=\"ldavis_el10161407297711102161802572614\"></div>\n",
       "<script type=\"text/javascript\">\n",
       "\n",
       "var ldavis_el10161407297711102161802572614_data = {\"mdsDat\": {\"x\": [-0.06347161981742916, 0.0836307322958656, 0.08548618338141019, -0.09524856847053577, 0.10603293076884446, -0.12444782638326127, 0.10941607800053355, -0.1217255116784109, 0.07708016674621289, 0.06494103189700469, -0.1225366879520487, 0.08103901525884853, 0.05553297940047328, -0.03368015198121201, -0.1020487514662957], \"y\": [-0.005238586153317961, 0.03554960183211674, -0.03220527849757814, -0.013952738828807489, 0.07975470591965503, 0.016651796391526627, 0.07841696157908658, 0.05632114991662908, -0.07616361828937271, -0.05389308307903719, 0.06335570195878373, -0.06501710031914205, 0.07888596392609919, -0.1250192190358868, -0.037446257320754614], \"topics\": [1, 2, 3, 4, 5, 6, 7, 8, 9, 10, 11, 12, 13, 14, 15], \"cluster\": [1, 1, 1, 1, 1, 1, 1, 1, 1, 1, 1, 1, 1, 1, 1], \"Freq\": [32.06867218017578, 16.238122940063477, 15.331347465515137, 10.557547569274902, 6.615864276885986, 6.529393196105957, 4.536302089691162, 1.8429338932037354, 1.7614390850067139, 1.5838779211044312, 1.4480464458465576, 0.48055705428123474, 0.4364928603172302, 0.4115610718727112, 0.15784074366092682]}, \"tinfo\": {\"Category\": [\"Default\", \"Default\", \"Default\", \"Default\", \"Default\", \"Default\", \"Default\", \"Default\", \"Default\", \"Default\", \"Default\", \"Default\", \"Default\", \"Default\", \"Default\", \"Default\", \"Default\", \"Default\", \"Default\", \"Default\", \"Default\", \"Default\", \"Default\", \"Default\", \"Default\", \"Default\", \"Default\", \"Default\", \"Default\", \"Default\", \"Topic1\", \"Topic1\", \"Topic1\", \"Topic1\", \"Topic1\", \"Topic1\", \"Topic1\", \"Topic1\", \"Topic1\", \"Topic1\", \"Topic1\", \"Topic1\", \"Topic1\", \"Topic1\", \"Topic1\", \"Topic1\", \"Topic1\", \"Topic1\", \"Topic1\", \"Topic1\", \"Topic1\", \"Topic1\", \"Topic1\", \"Topic1\", \"Topic1\", \"Topic1\", \"Topic1\", \"Topic1\", \"Topic1\", \"Topic1\", \"Topic1\", \"Topic1\", \"Topic1\", \"Topic1\", \"Topic1\", \"Topic1\", \"Topic1\", \"Topic1\", \"Topic1\", \"Topic1\", \"Topic1\", \"Topic1\", \"Topic1\", \"Topic1\", \"Topic1\", \"Topic1\", \"Topic1\", \"Topic1\", \"Topic1\", \"Topic1\", \"Topic1\", \"Topic1\", \"Topic1\", \"Topic1\", \"Topic1\", \"Topic1\", \"Topic1\", \"Topic1\", \"Topic1\", \"Topic1\", \"Topic1\", \"Topic1\", \"Topic1\", \"Topic1\", \"Topic1\", \"Topic1\", \"Topic1\", \"Topic1\", \"Topic1\", \"Topic1\", \"Topic1\", \"Topic1\", \"Topic1\", \"Topic1\", \"Topic1\", \"Topic1\", \"Topic1\", \"Topic1\", \"Topic1\", \"Topic1\", \"Topic1\", \"Topic1\", \"Topic1\", \"Topic1\", \"Topic1\", \"Topic1\", \"Topic1\", \"Topic1\", \"Topic1\", \"Topic1\", \"Topic2\", \"Topic2\", \"Topic2\", \"Topic2\", \"Topic2\", \"Topic2\", \"Topic2\", \"Topic2\", \"Topic2\", \"Topic2\", \"Topic2\", \"Topic2\", \"Topic2\", \"Topic2\", \"Topic2\", \"Topic2\", \"Topic2\", \"Topic2\", \"Topic2\", \"Topic2\", \"Topic2\", \"Topic2\", \"Topic2\", \"Topic2\", \"Topic2\", \"Topic2\", \"Topic2\", \"Topic2\", \"Topic2\", \"Topic2\", \"Topic2\", \"Topic2\", \"Topic2\", \"Topic2\", \"Topic2\", \"Topic2\", \"Topic2\", \"Topic2\", \"Topic2\", \"Topic2\", \"Topic2\", \"Topic2\", \"Topic2\", \"Topic2\", \"Topic2\", \"Topic2\", \"Topic2\", \"Topic2\", \"Topic2\", \"Topic2\", \"Topic2\", \"Topic2\", \"Topic2\", \"Topic2\", \"Topic2\", \"Topic2\", \"Topic2\", \"Topic2\", \"Topic2\", \"Topic2\", \"Topic2\", \"Topic2\", \"Topic3\", \"Topic3\", \"Topic3\", \"Topic3\", \"Topic3\", \"Topic3\", \"Topic3\", \"Topic3\", \"Topic3\", \"Topic3\", \"Topic3\", \"Topic3\", \"Topic3\", \"Topic3\", \"Topic3\", \"Topic3\", \"Topic3\", \"Topic3\", \"Topic3\", \"Topic3\", \"Topic3\", \"Topic3\", \"Topic3\", \"Topic3\", \"Topic3\", \"Topic3\", \"Topic3\", \"Topic3\", \"Topic3\", \"Topic3\", \"Topic3\", \"Topic3\", \"Topic3\", \"Topic3\", \"Topic3\", \"Topic3\", \"Topic3\", \"Topic3\", \"Topic3\", \"Topic3\", \"Topic3\", \"Topic3\", \"Topic3\", \"Topic3\", \"Topic3\", \"Topic3\", \"Topic3\", \"Topic3\", \"Topic3\", \"Topic3\", \"Topic3\", \"Topic3\", \"Topic3\", \"Topic3\", \"Topic3\", \"Topic3\", \"Topic3\", \"Topic4\", \"Topic4\", \"Topic4\", \"Topic4\", \"Topic4\", \"Topic4\", \"Topic4\", \"Topic4\", \"Topic4\", \"Topic4\", \"Topic4\", \"Topic4\", \"Topic4\", \"Topic4\", \"Topic4\", \"Topic4\", \"Topic4\", \"Topic4\", \"Topic4\", \"Topic4\", \"Topic4\", \"Topic4\", \"Topic4\", \"Topic4\", \"Topic4\", \"Topic4\", \"Topic4\", \"Topic4\", \"Topic4\", \"Topic4\", \"Topic4\", \"Topic4\", \"Topic4\", \"Topic4\", \"Topic4\", \"Topic4\", \"Topic4\", \"Topic4\", \"Topic4\", \"Topic4\", \"Topic4\", \"Topic4\", \"Topic4\", \"Topic4\", \"Topic4\", \"Topic4\", \"Topic4\", \"Topic4\", \"Topic4\", \"Topic4\", \"Topic4\", \"Topic4\", \"Topic4\", \"Topic4\", \"Topic4\", \"Topic4\", \"Topic4\", \"Topic4\", \"Topic4\", \"Topic4\", \"Topic4\", \"Topic4\", \"Topic4\", \"Topic4\", \"Topic4\", \"Topic4\", \"Topic4\", \"Topic4\", \"Topic5\", \"Topic5\", \"Topic5\", \"Topic5\", \"Topic5\", \"Topic5\", \"Topic5\", \"Topic5\", \"Topic5\", \"Topic5\", \"Topic5\", \"Topic5\", \"Topic5\", \"Topic5\", \"Topic5\", \"Topic5\", \"Topic5\", \"Topic5\", \"Topic5\", \"Topic5\", \"Topic5\", \"Topic5\", \"Topic5\", \"Topic5\", \"Topic5\", \"Topic5\", \"Topic5\", \"Topic5\", \"Topic5\", \"Topic5\", \"Topic5\", \"Topic5\", \"Topic5\", \"Topic5\", \"Topic5\", \"Topic5\", \"Topic5\", \"Topic5\", \"Topic5\", \"Topic5\", \"Topic5\", \"Topic5\", \"Topic5\", \"Topic5\", \"Topic5\", \"Topic5\", \"Topic5\", \"Topic5\", \"Topic5\", \"Topic5\", \"Topic5\", \"Topic5\", \"Topic5\", \"Topic5\", \"Topic5\", \"Topic5\", \"Topic5\", \"Topic5\", \"Topic6\", \"Topic6\", \"Topic6\", \"Topic6\", \"Topic6\", \"Topic6\", \"Topic6\", \"Topic6\", \"Topic6\", \"Topic6\", \"Topic6\", \"Topic6\", \"Topic6\", \"Topic6\", \"Topic6\", \"Topic6\", \"Topic6\", \"Topic6\", \"Topic6\", \"Topic6\", \"Topic6\", \"Topic6\", \"Topic6\", \"Topic6\", \"Topic6\", \"Topic6\", \"Topic6\", \"Topic6\", \"Topic6\", \"Topic6\", \"Topic6\", \"Topic6\", \"Topic6\", \"Topic6\", \"Topic6\", \"Topic6\", \"Topic6\", \"Topic6\", \"Topic6\", \"Topic6\", \"Topic6\", \"Topic6\", \"Topic6\", \"Topic6\", \"Topic6\", \"Topic6\", \"Topic6\", \"Topic6\", \"Topic6\", \"Topic6\", \"Topic6\", \"Topic6\", \"Topic6\", \"Topic6\", \"Topic6\", \"Topic6\", \"Topic6\", \"Topic6\", \"Topic6\", \"Topic6\", \"Topic6\", \"Topic6\", \"Topic6\", \"Topic6\", \"Topic6\", \"Topic6\", \"Topic6\", \"Topic6\", \"Topic7\", \"Topic7\", \"Topic7\", \"Topic7\", \"Topic7\", \"Topic7\", \"Topic7\", \"Topic7\", \"Topic7\", \"Topic7\", \"Topic7\", \"Topic7\", \"Topic7\", \"Topic7\", \"Topic7\", \"Topic7\", \"Topic7\", \"Topic7\", \"Topic7\", \"Topic7\", \"Topic7\", \"Topic7\", \"Topic7\", \"Topic7\", \"Topic7\", \"Topic7\", \"Topic7\", \"Topic7\", \"Topic7\", \"Topic7\", \"Topic7\", \"Topic7\", \"Topic7\", \"Topic7\", \"Topic7\", \"Topic7\", \"Topic7\", \"Topic7\", \"Topic7\", \"Topic7\", \"Topic7\", \"Topic7\", \"Topic7\", \"Topic7\", \"Topic7\", \"Topic7\", \"Topic7\", \"Topic7\", \"Topic7\", \"Topic7\", \"Topic7\", \"Topic7\", \"Topic7\", \"Topic7\", \"Topic7\", \"Topic7\", \"Topic7\", \"Topic7\", \"Topic7\", \"Topic7\", \"Topic7\", \"Topic7\", \"Topic7\", \"Topic7\", \"Topic7\", \"Topic7\", \"Topic8\", \"Topic8\", \"Topic8\", \"Topic8\", \"Topic8\", \"Topic8\", \"Topic8\", \"Topic8\", \"Topic8\", \"Topic8\", \"Topic8\", \"Topic8\", \"Topic8\", \"Topic8\", \"Topic8\", \"Topic8\", \"Topic8\", \"Topic8\", \"Topic8\", \"Topic8\", \"Topic8\", \"Topic8\", \"Topic8\", \"Topic8\", \"Topic8\", \"Topic8\", \"Topic8\", \"Topic8\", \"Topic8\", \"Topic8\", \"Topic8\", \"Topic8\", \"Topic8\", \"Topic8\", \"Topic8\", \"Topic8\", \"Topic8\", \"Topic8\", \"Topic8\", \"Topic8\", \"Topic8\", \"Topic8\", \"Topic8\", \"Topic8\", \"Topic8\", \"Topic8\", \"Topic8\", \"Topic8\", \"Topic8\", \"Topic8\", \"Topic8\", \"Topic8\", \"Topic8\", \"Topic8\", \"Topic8\", \"Topic8\", \"Topic8\", \"Topic8\", \"Topic8\", \"Topic8\", \"Topic8\", \"Topic8\", \"Topic8\", \"Topic8\", \"Topic8\", \"Topic8\", \"Topic9\", \"Topic9\", \"Topic9\", \"Topic9\", \"Topic9\", \"Topic9\", \"Topic9\", \"Topic9\", \"Topic9\", \"Topic9\", \"Topic9\", \"Topic9\", \"Topic9\", \"Topic9\", \"Topic9\", \"Topic9\", \"Topic9\", \"Topic9\", \"Topic9\", \"Topic9\", \"Topic9\", \"Topic9\", \"Topic9\", \"Topic9\", \"Topic9\", \"Topic9\", \"Topic9\", \"Topic9\", \"Topic9\", \"Topic9\", \"Topic9\", \"Topic9\", \"Topic9\", \"Topic9\", \"Topic9\", \"Topic9\", \"Topic9\", \"Topic9\", \"Topic9\", \"Topic9\", \"Topic9\", \"Topic9\", \"Topic9\", \"Topic9\", \"Topic9\", \"Topic9\", \"Topic9\", \"Topic9\", \"Topic9\", \"Topic9\", \"Topic9\", \"Topic9\", \"Topic9\", \"Topic9\", \"Topic9\", \"Topic9\", \"Topic9\", \"Topic9\", \"Topic9\", \"Topic9\", \"Topic9\", \"Topic9\", \"Topic9\", \"Topic9\", \"Topic10\", \"Topic10\", \"Topic10\", \"Topic10\", \"Topic10\", \"Topic10\", \"Topic10\", \"Topic10\", \"Topic10\", \"Topic10\", \"Topic10\", \"Topic10\", \"Topic10\", \"Topic10\", \"Topic10\", \"Topic10\", \"Topic10\", \"Topic10\", \"Topic10\", \"Topic10\", \"Topic10\", \"Topic10\", \"Topic10\", \"Topic10\", \"Topic10\", \"Topic10\", \"Topic10\", \"Topic10\", \"Topic10\", \"Topic10\", \"Topic10\", \"Topic10\", \"Topic10\", \"Topic10\", \"Topic10\", \"Topic10\", \"Topic10\", \"Topic10\", \"Topic10\", \"Topic10\", \"Topic10\", \"Topic10\", \"Topic10\", \"Topic10\", \"Topic10\", \"Topic10\", \"Topic10\", \"Topic10\", \"Topic10\", \"Topic10\", \"Topic10\", \"Topic10\", \"Topic10\", \"Topic10\", \"Topic10\", \"Topic10\", \"Topic10\", \"Topic10\", \"Topic10\", \"Topic10\", \"Topic10\", \"Topic10\", \"Topic10\", \"Topic10\", \"Topic10\", \"Topic10\", \"Topic10\", \"Topic10\", \"Topic10\", \"Topic10\", \"Topic10\", \"Topic10\", \"Topic10\", \"Topic10\", \"Topic11\", \"Topic11\", \"Topic11\", \"Topic11\", \"Topic11\", \"Topic11\", \"Topic11\", \"Topic11\", \"Topic11\", \"Topic11\", \"Topic11\", \"Topic11\", \"Topic11\", \"Topic11\", \"Topic11\", \"Topic11\", \"Topic11\", \"Topic11\", \"Topic11\", \"Topic11\", \"Topic11\", \"Topic11\", \"Topic11\", \"Topic11\", \"Topic11\", \"Topic11\", \"Topic11\", \"Topic11\", \"Topic11\", \"Topic11\", \"Topic11\", \"Topic11\", \"Topic11\", \"Topic11\", \"Topic11\", \"Topic11\", \"Topic11\", \"Topic11\", \"Topic11\", \"Topic11\", \"Topic11\", \"Topic11\", \"Topic11\", \"Topic11\", \"Topic11\", \"Topic11\", \"Topic11\", \"Topic11\", \"Topic11\", \"Topic11\", \"Topic11\", \"Topic11\", \"Topic11\", \"Topic11\", \"Topic11\", \"Topic11\", \"Topic11\", \"Topic11\", \"Topic11\", \"Topic11\", \"Topic11\", \"Topic11\", \"Topic11\", \"Topic11\", \"Topic12\", \"Topic12\", \"Topic12\", \"Topic12\", \"Topic12\", \"Topic12\", \"Topic12\", \"Topic12\", \"Topic12\", \"Topic12\", \"Topic12\", \"Topic12\", \"Topic12\", \"Topic12\", \"Topic12\", \"Topic12\", \"Topic12\", \"Topic12\", \"Topic12\", \"Topic12\", \"Topic12\", \"Topic12\", \"Topic12\", \"Topic12\", \"Topic12\", \"Topic12\", \"Topic12\", \"Topic12\", \"Topic12\", \"Topic12\", \"Topic12\", \"Topic12\", \"Topic12\", \"Topic12\", \"Topic12\", \"Topic12\", \"Topic12\", \"Topic12\", \"Topic12\", \"Topic12\", \"Topic12\", \"Topic12\", \"Topic12\", \"Topic12\", \"Topic12\", \"Topic12\", \"Topic12\", \"Topic12\", \"Topic12\", \"Topic12\", \"Topic12\", \"Topic12\", \"Topic12\", \"Topic12\", \"Topic12\", \"Topic12\", \"Topic12\", \"Topic12\", \"Topic12\", \"Topic12\", \"Topic12\", \"Topic12\", \"Topic12\", \"Topic12\", \"Topic12\", \"Topic12\", \"Topic12\", \"Topic12\", \"Topic12\", \"Topic12\", \"Topic13\", \"Topic13\", \"Topic13\", \"Topic13\", \"Topic13\", \"Topic13\", \"Topic13\", \"Topic13\", \"Topic13\", \"Topic13\", \"Topic13\", \"Topic13\", \"Topic13\", \"Topic13\", \"Topic13\", \"Topic13\", \"Topic13\", \"Topic13\", \"Topic13\", \"Topic13\", \"Topic13\", \"Topic13\", \"Topic13\", \"Topic13\", \"Topic13\", \"Topic13\", \"Topic13\", \"Topic13\", \"Topic13\", \"Topic13\", \"Topic13\", \"Topic13\", \"Topic13\", \"Topic13\", \"Topic13\", \"Topic13\", \"Topic13\", \"Topic13\", \"Topic13\", \"Topic13\", \"Topic13\", \"Topic13\", \"Topic13\", \"Topic13\", \"Topic13\", \"Topic13\", \"Topic13\", \"Topic13\", \"Topic13\", \"Topic13\", \"Topic13\", \"Topic13\", \"Topic13\", \"Topic13\", \"Topic13\", \"Topic13\", \"Topic13\", \"Topic13\", \"Topic13\", \"Topic13\", \"Topic13\", \"Topic13\", \"Topic13\", \"Topic13\", \"Topic13\", \"Topic13\", \"Topic13\", \"Topic13\", \"Topic13\", \"Topic13\", \"Topic13\", \"Topic13\", \"Topic13\", \"Topic13\", \"Topic14\", \"Topic14\", \"Topic14\", \"Topic14\", \"Topic14\", \"Topic14\", \"Topic14\", \"Topic14\", \"Topic14\", \"Topic14\", \"Topic14\", \"Topic14\", \"Topic14\", \"Topic14\", \"Topic14\", \"Topic14\", \"Topic14\", \"Topic14\", \"Topic14\", \"Topic14\", \"Topic14\", \"Topic14\", \"Topic14\", \"Topic14\", \"Topic14\", \"Topic14\", \"Topic14\", \"Topic14\", \"Topic14\", \"Topic14\", \"Topic14\", \"Topic14\", \"Topic14\", \"Topic14\", \"Topic14\", \"Topic14\", \"Topic14\", \"Topic14\", \"Topic14\", \"Topic14\", \"Topic14\", \"Topic14\", \"Topic14\", \"Topic14\", \"Topic14\", \"Topic14\", \"Topic14\", \"Topic14\", \"Topic14\", \"Topic14\", \"Topic14\", \"Topic14\", \"Topic14\", \"Topic14\", \"Topic14\", \"Topic14\", \"Topic14\", \"Topic14\", \"Topic14\", \"Topic14\", \"Topic14\", \"Topic14\", \"Topic14\", \"Topic15\", \"Topic15\", \"Topic15\", \"Topic15\", \"Topic15\", \"Topic15\", \"Topic15\", \"Topic15\", \"Topic15\", \"Topic15\", \"Topic15\", \"Topic15\", \"Topic15\", \"Topic15\", \"Topic15\", \"Topic15\", \"Topic15\", \"Topic15\", \"Topic15\", \"Topic15\", \"Topic15\", \"Topic15\", \"Topic15\", \"Topic15\", \"Topic15\", \"Topic15\", \"Topic15\", \"Topic15\", \"Topic15\", \"Topic15\", \"Topic15\", \"Topic15\", \"Topic15\", \"Topic15\", \"Topic15\", \"Topic15\", \"Topic15\", \"Topic15\", \"Topic15\", \"Topic15\", \"Topic15\", \"Topic15\", \"Topic15\", \"Topic15\", \"Topic15\", \"Topic15\", \"Topic15\", \"Topic15\", \"Topic15\", \"Topic15\", \"Topic15\", \"Topic15\", \"Topic15\", \"Topic15\", \"Topic15\", \"Topic15\", \"Topic15\", \"Topic15\", \"Topic15\", \"Topic15\", \"Topic15\", \"Topic15\"], \"Freq\": [927.0, 858.0, 685.0, 1538.0, 567.0, 1439.0, 1340.0, 596.0, 886.0, 924.0, 785.0, 428.0, 1316.0, 1147.0, 632.0, 508.0, 493.0, 666.0, 585.0, 479.0, 615.0, 587.0, 524.0, 925.0, 827.0, 909.0, 835.0, 402.0, 1064.0, 308.0, 150.62240600585938, 98.95768737792969, 28.762935638427734, 29.505693435668945, 31.315425872802734, 16.981409072875977, 18.838699340820312, 17.8408203125, 19.690141677856445, 14.97904109954834, 13.996253967285156, 17.722871780395508, 14.840924263000488, 14.840800285339355, 108.6290283203125, 17.587215423583984, 14.82112979888916, 14.795191764831543, 11.039620399475098, 26.83561134338379, 11.000998497009277, 11.92135238647461, 11.00088882446289, 13.769100189208984, 10.975146293640137, 38.559104919433594, 10.95661449432373, 21.940929412841797, 10.93749713897705, 12.749011993408203, 91.81845092773438, 324.20477294921875, 54.46333312988281, 27.838115692138672, 38.2801513671875, 21.629758834838867, 79.04988861083984, 27.500030517578125, 63.773258209228516, 39.67180252075195, 79.94542694091797, 154.6509246826172, 38.50294494628906, 173.50149536132812, 72.14423370361328, 116.53145599365234, 37.421932220458984, 377.8264465332031, 141.23817443847656, 50.16759490966797, 98.0442123413086, 119.55488586425781, 47.939937591552734, 85.41954803466797, 279.6924743652344, 615.2186889648438, 74.41156005859375, 94.14006805419922, 311.49713134765625, 274.6811218261719, 290.97857666015625, 141.92369079589844, 308.7367248535156, 149.26116943359375, 138.16258239746094, 289.7310791015625, 203.62193298339844, 430.6280822753906, 319.0877990722656, 325.02423095703125, 201.20974731445312, 359.4599304199219, 283.22113037109375, 367.5463562011719, 265.046142578125, 292.2524719238281, 241.5439453125, 197.3064727783203, 364.16070556640625, 275.92816162109375, 233.00428771972656, 229.548095703125, 262.9591369628906, 260.76226806640625, 278.1150817871094, 215.50645446777344, 224.02264404296875, 223.16046142578125, 211.72067260742188, 207.9071502685547, 166.73153686523438, 188.5778350830078, 294.88836669921875, 92.11758422851562, 309.7306213378906, 70.92208099365234, 399.2535095214844, 55.41864013671875, 93.52729034423828, 616.5438842773438, 38.034690856933594, 37.98401641845703, 123.96865844726562, 47.27140426635742, 30.23344612121582, 31.136098861694336, 168.25790405273438, 50.866004943847656, 23.463008880615234, 82.77033233642578, 24.249656677246094, 23.298473358154297, 38.89330291748047, 69.3988037109375, 13.679716110229492, 64.07099914550781, 33.601219177246094, 24.314847946166992, 10.681163787841797, 13.185352325439453, 31.55838966369629, 85.41957092285156, 41.986976623535156, 257.7911071777344, 179.93356323242188, 298.4534606933594, 91.31199645996094, 207.10726928710938, 91.8810043334961, 80.85865783691406, 246.19540405273438, 63.745391845703125, 143.3914337158203, 300.5802307128906, 288.52276611328125, 171.47421264648438, 246.2782745361328, 173.43069458007812, 150.05841064453125, 194.4442596435547, 183.06060791015625, 140.51036071777344, 144.57034301757812, 170.11558532714844, 159.61203002929688, 153.93600463867188, 137.81141662597656, 121.13549041748047, 115.27228546142578, 132.2861785888672, 125.01683807373047, 124.88041687011719, 490.4431457519531, 46.746376037597656, 357.633056640625, 780.0900268554688, 16.955907821655273, 44.82207489013672, 10.73391056060791, 18.71660041809082, 278.9377746582031, 135.4147491455078, 339.91131591796875, 51.876312255859375, 69.84598541259766, 32.714202880859375, 137.91712951660156, 108.20574951171875, 191.17759704589844, 363.09515380859375, 30.677995681762695, 22.396228790283203, 25.656179428100586, 68.34525299072266, 14.1414213180542, 9.436009407043457, 54.50141906738281, 47.672828674316406, 184.78163146972656, 17.66741180419922, 25.44222640991211, 13.4385404586792, 23.470840454101562, 64.92738342285156, 84.76334381103516, 176.9031524658203, 221.81968688964844, 35.44062805175781, 330.6959228515625, 537.4810180664062, 59.5097541809082, 170.23348999023438, 332.85498046875, 232.61500549316406, 166.85719299316406, 182.28599548339844, 279.6634521484375, 214.20068359375, 159.41336059570312, 202.27647399902344, 160.18167114257812, 162.0364227294922, 199.24147033691406, 176.23419189453125, 120.21839141845703, 153.4563751220703, 168.84237670898438, 153.94578552246094, 136.14837646484375, 75.4800796508789, 11.26720905303955, 73.35154724121094, 26.4089298248291, 204.14208984375, 185.7585906982422, 61.90283203125, 104.7559814453125, 12.593791007995605, 46.314212799072266, 8.853331565856934, 129.61643981933594, 14.383068084716797, 22.271089553833008, 87.68358612060547, 14.554055213928223, 20.441722869873047, 30.064706802368164, 28.77694320678711, 11.619524002075195, 9.657613754272461, 6.845651626586914, 10.373136520385742, 15.043106079101562, 8.427386283874512, 7.183013916015625, 11.643237113952637, 12.611992835998535, 8.266928672790527, 14.64999771118164, 15.756387710571289, 20.367137908935547, 205.58360290527344, 21.58384132385254, 111.99983978271484, 32.58758544921875, 77.3158187866211, 29.19103240966797, 28.45816993713379, 104.3957290649414, 64.05391693115234, 42.60405349731445, 173.68145751953125, 88.61689758300781, 219.36476135253906, 50.5015869140625, 113.7682113647461, 65.82279968261719, 113.86445617675781, 142.08604431152344, 114.29444122314453, 99.312255859375, 104.29926300048828, 90.09391784667969, 79.8879623413086, 131.08474731445312, 148.0594482421875, 76.22831726074219, 106.68012237548828, 117.994384765625, 97.95209503173828, 97.76254272460938, 118.17999267578125, 89.40898132324219, 84.62800598144531, 85.43368530273438, 87.7337646484375, 81.91371154785156, 75.84638214111328, 26.535480499267578, 16.991289138793945, 197.60340881347656, 17.871244430541992, 15.591480255126953, 13.625771522521973, 74.19802856445312, 454.78826904296875, 14.361917495727539, 183.30633544921875, 20.32598114013672, 27.057872772216797, 11.18370246887207, 10.809982299804688, 70.36246490478516, 452.9333190917969, 20.245758056640625, 91.14376068115234, 152.76942443847656, 18.640918731689453, 6.7583818435668945, 7.570078372955322, 5.2283034324646, 7.1984639167785645, 5.55721378326416, 16.691631317138672, 4.614048480987549, 9.216816902160645, 35.686485290527344, 11.811978340148926, 109.99899291992188, 187.61135864257812, 12.281530380249023, 62.55125045776367, 36.61907958984375, 122.4194107055664, 68.59918212890625, 110.96111297607422, 35.37510681152344, 89.36097717285156, 99.93421173095703, 125.72846984863281, 96.10850524902344, 85.45927429199219, 77.50784301757812, 111.95616149902344, 83.9083023071289, 88.95528411865234, 67.75546264648438, 62.87495040893555, 45.983726501464844, 85.51847839355469, 72.86459350585938, 64.43489837646484, 67.23622131347656, 71.72850799560547, 64.21212768554688, 16.11625862121582, 28.475414276123047, 46.48802185058594, 16.570941925048828, 29.697961807250977, 53.81379318237305, 10.26468563079834, 7.056301116943359, 8.943881034851074, 33.12500762939453, 19.931474685668945, 9.229440689086914, 7.772197723388672, 48.746036529541016, 36.82345199584961, 9.352079391479492, 7.858340263366699, 51.6333122253418, 14.518796920776367, 65.20082092285156, 11.01124382019043, 6.159632205963135, 49.90851593017578, 7.760400295257568, 12.651944160461426, 10.497108459472656, 11.52841854095459, 12.68858814239502, 38.42180252075195, 14.298654556274414, 33.8953857421875, 54.484317779541016, 19.603992462158203, 13.65105152130127, 78.9034652709961, 15.355835914611816, 47.09855270385742, 86.14075469970703, 60.66541290283203, 43.97633743286133, 28.334566116333008, 59.054542541503906, 61.732154846191406, 17.72098731994629, 99.81816864013672, 47.97779083251953, 38.55945587158203, 36.4091682434082, 25.03762435913086, 44.029701232910156, 127.58578491210938, 62.156761169433594, 49.9436149597168, 52.07637405395508, 95.9268798828125, 66.60472106933594, 74.36885070800781, 74.22113800048828, 68.19428253173828, 71.32917022705078, 56.65992736816406, 57.4905891418457, 51.02863693237305, 55.132144927978516, 52.506553649902344, 49.30131530761719, 48.70479965209961, 48.355960845947266, 41.3211555480957, 92.60443878173828, 37.20522689819336, 201.48411560058594, 9.881338119506836, 21.036447525024414, 7.092837333679199, 15.823848724365234, 7.08588171005249, 39.81049728393555, 5.24296760559082, 6.919917106628418, 8.277853965759277, 5.054858684539795, 143.6671905517578, 3.9316604137420654, 17.414403915405273, 9.14549446105957, 14.14658260345459, 5.610142707824707, 46.48558044433594, 4.12340784072876, 4.058139324188232, 9.789965629577637, 78.72877502441406, 5.119349956512451, 212.1726531982422, 4.751284599304199, 4.6653151512146, 5.3125739097595215, 34.13498306274414, 30.326248168945312, 20.17994499206543, 9.329835891723633, 8.709574699401855, 14.182466506958008, 56.25407028198242, 58.10015106201172, 99.23333740234375, 35.92935562133789, 84.38589477539062, 41.43330383300781, 32.761566162109375, 22.02783203125, 27.2601318359375, 30.10666847229004, 19.65447998046875, 97.70269775390625, 30.49043846130371, 56.15998840332031, 65.40035247802734, 66.8904037475586, 52.118736267089844, 74.40562438964844, 51.37337112426758, 70.23174285888672, 39.04326248168945, 53.061553955078125, 39.105655670166016, 44.63713073730469, 44.17654800415039, 48.34235763549805, 44.25437927246094, 44.75889205932617, 39.609954833984375, 39.14454650878906, 40.24394607543945, 64.67765808105469, 9.267009735107422, 8.2354154586792, 22.911365509033203, 29.96282386779785, 5.909903526306152, 4.636592864990234, 9.789576530456543, 14.183059692382812, 3.5216453075408936, 7.32282829284668, 3.2345130443573, 4.425425052642822, 76.29306030273438, 4.045964241027832, 3.6531124114990234, 5.690242767333984, 3.865992546081543, 2.6677069664001465, 3.6142454147338867, 7.068454265594482, 26.3624267578125, 11.863466262817383, 3.072274923324585, 4.501946926116943, 2.47507381439209, 2.6847684383392334, 2.6607449054718018, 3.0854201316833496, 25.117431640625, 9.26848316192627, 8.293335914611816, 15.527600288391113, 24.4034366607666, 41.25637435913086, 13.85461711883545, 11.40285873413086, 7.336949348449707, 10.04372501373291, 8.620719909667969, 11.442503929138184, 10.537113189697266, 17.586435317993164, 7.708738327026367, 20.0155086517334, 26.41751480102539, 9.216534614562988, 18.03685188293457, 23.290264129638672, 11.202241897583008, 17.582813262939453, 17.9038028717041, 17.301057815551758, 19.445072174072266, 22.26690673828125, 17.081937789916992, 14.560192108154297, 20.6177921295166, 20.02427864074707, 15.377163887023926, 19.275407791137695, 17.144412994384766, 14.937026023864746, 14.824853897094727, 14.753046035766602, 11.757140159606934, 3.292449951171875, 4.460147857666016, 3.5893006324768066, 12.325301170349121, 232.93893432617188, 6.74030065536499, 2.8426740169525146, 3.8904240131378174, 3.155787229537964, 11.792665481567383, 2.9412293434143066, 4.100927829742432, 128.1643524169922, 3.0861549377441406, 13.02639389038086, 7.489523887634277, 3.0781948566436768, 2.177734613418579, 2.4805819988250732, 3.842521905899048, 5.7135515213012695, 5.766469478607178, 8.561454772949219, 4.1828789710998535, 19.187028884887695, 2.4264907836914062, 2.3541200160980225, 1.931484341621399, 2.896010398864746, 10.633551597595215, 4.5810322761535645, 15.51718807220459, 12.061758041381836, 90.27909851074219, 21.078092575073242, 45.82230758666992, 45.69518280029297, 42.39340591430664, 82.07770538330078, 39.669151306152344, 28.995412826538086, 45.32210922241211, 36.32725524902344, 58.58188247680664, 19.799531936645508, 25.06859588623047, 24.59575843811035, 48.927398681640625, 12.188532829284668, 28.756969451904297, 21.753400802612305, 27.384496688842773, 17.501068115234375, 26.492816925048828, 19.83364486694336, 26.807483673095703, 27.862369537353516, 22.285558700561523, 22.99504280090332, 22.763561248779297, 18.53636932373047, 18.811355590820312, 18.696819305419922, 5.6178507804870605, 6.521700382232666, 3.160179615020752, 2.890378475189209, 3.5093579292297363, 3.9834632873535156, 3.84563946723938, 2.5624396800994873, 2.341813325881958, 3.9822001457214355, 2.5544228553771973, 2.3493099212646484, 4.163175582885742, 3.0209062099456787, 2.522693395614624, 2.8126349449157715, 2.1828205585479736, 2.694164276123047, 2.8664045333862305, 1.7112607955932617, 2.055934429168701, 2.338824510574341, 1.708328127861023, 1.6795438528060913, 2.534160852432251, 1.9771755933761597, 1.6713576316833496, 2.5458860397338867, 4.78127908706665, 2.2850983142852783, 4.564057350158691, 11.028596878051758, 24.445796966552734, 3.7148900032043457, 25.243539810180664, 40.392520904541016, 17.704999923706055, 23.350614547729492, 11.476545333862305, 8.13443660736084, 6.782787799835205, 37.14535140991211, 34.76924514770508, 5.9307942390441895, 11.18830680847168, 7.532988548278809, 17.961963653564453, 4.517312526702881, 16.08222007751465, 27.938169479370117, 11.106196403503418, 25.488046646118164, 16.36183738708496, 22.4062442779541, 8.749646186828613, 17.881006240844727, 20.783842086791992, 22.799104690551758, 9.98582649230957, 15.225293159484863, 13.357401847839355, 17.87908172607422, 18.242780685424805, 15.341423988342285, 15.601117134094238, 19.071514129638672, 14.340991020202637, 15.412068367004395, 18.77695655822754, 13.529224395751953, 13.73298168182373, 15.638330459594727, 13.694235801696777, 13.784906387329102, 66.50537109375, 6.6743083000183105, 6.93237829208374, 7.234673023223877, 12.161724090576172, 31.62428092956543, 5.701780319213867, 3.5624074935913086, 4.640565872192383, 10.33176326751709, 3.6668686866760254, 16.792034149169922, 5.773226737976074, 2.741957187652588, 3.111783504486084, 3.993499517440796, 2.815387487411499, 27.330516815185547, 2.874856472015381, 2.569194793701172, 2.3457276821136475, 6.652286052703857, 2.500279188156128, 5.0025954246521, 2.572444438934326, 3.545377731323242, 3.2566444873809814, 2.769071578979492, 5.103933334350586, 8.157428741455078, 8.42870044708252, 5.101046085357666, 7.185741424560547, 12.67477798461914, 14.985284805297852, 12.577512741088867, 16.84652328491211, 31.77052116394043, 40.677001953125, 7.779172420501709, 13.317296981811523, 14.069530487060547, 14.48483657836914, 8.634947776794434, 11.064451217651367, 7.0565009117126465, 7.958263874053955, 10.387545585632324, 23.789203643798828, 10.859792709350586, 14.086990356445312, 11.686322212219238, 14.139533042907715, 15.089125633239746, 13.829144477844238, 13.178351402282715, 14.391111373901367, 12.936551094055176, 13.08137035369873, 12.129612922668457, 11.505547523498535, 11.152822494506836, 11.230960845947266, 10.931649208068848, 17.96116828918457, 4.34344482421875, 17.611024856567383, 1.5682404041290283, 2.494706630706787, 5.826955318450928, 1.5409013032913208, 1.6913434267044067, 1.5390920639038086, 1.697495698928833, 1.3425898551940918, 1.0544801950454712, 1.1201263666152954, 0.8743912577629089, 0.8787677884101868, 0.8761675953865051, 2.532363176345825, 0.8122934699058533, 1.423227071762085, 0.8678867220878601, 0.8752446174621582, 0.8733770847320557, 0.8778002858161926, 0.8754509687423706, 0.8775467276573181, 5.124682903289795, 0.8769255876541138, 0.8275009989738464, 1.7005200386047363, 3.00711727142334, 3.3165183067321777, 5.7971720695495605, 5.008474349975586, 4.170568943023682, 3.61263108253479, 1.5568140745162964, 3.3676300048828125, 11.741167068481445, 1.6824088096618652, 7.601767539978027, 8.047002792358398, 4.542287826538086, 7.772519588470459, 15.700407981872559, 9.780082702636719, 2.2225756645202637, 2.82413911819458, 3.344874143600464, 6.359422206878662, 4.793135643005371, 11.086601257324219, 9.756033897399902, 7.93591833114624, 8.372686386108398, 5.8348307609558105, 6.063501834869385, 8.902424812316895, 5.477332592010498, 7.129778861999512, 4.822576522827148, 6.180347919464111, 5.532608509063721, 5.285362243652344, 6.823794364929199, 6.043053150177002, 5.519393444061279, 5.554195404052734, 5.067530155181885, 5.498361587524414, 5.2096381187438965, 8.354947090148926, 2.368960380554199, 1.4559972286224365, 1.4627950191497803, 1.226808786392212, 1.421917200088501, 1.4709101915359497, 1.4281095266342163, 1.1674381494522095, 1.4268208742141724, 1.93962824344635, 2.1461362838745117, 1.4283983707427979, 1.5250834226608276, 1.4278546571731567, 2.035670757293701, 1.4132485389709473, 1.0301839113235474, 2.2171542644500732, 1.959764838218689, 1.431941270828247, 1.4281784296035767, 0.7615260481834412, 0.770555853843689, 0.759253203868866, 0.7632692456245422, 0.7519484758377075, 0.75698322057724, 0.7500972151756287, 1.217262625694275, 4.220237731933594, 2.024566888809204, 1.398087501525879, 1.453202486038208, 1.7013461589813232, 2.070829153060913, 2.883047580718994, 1.9961740970611572, 3.2174923419952393, 12.049622535705566, 4.879572868347168, 2.90311598777771, 5.344192981719971, 5.744133472442627, 8.539009094238281, 4.575966835021973, 4.899045944213867, 7.586176872253418, 4.179503917694092, 3.730625629425049, 2.8423635959625244, 3.481947898864746, 2.6184537410736084, 2.854583740234375, 5.670329570770264, 5.5984907150268555, 6.134366512298584, 5.010103702545166, 3.903799295425415, 4.131661415100098, 4.621429920196533, 4.7476487159729, 3.695479393005371, 4.229050159454346, 4.914217472076416, 4.237942695617676, 4.250661373138428, 3.9256982803344727, 4.2223124504089355, 3.454130172729492, 3.5294389724731445, 3.507274866104126, 3.557501792907715, 3.524782180786133, 6.534183502197266, 7.187264442443848, 9.555514335632324, 1.4466036558151245, 7.006587028503418, 1.4632644653320312, 1.7970991134643555, 1.162673830986023, 2.6553547382354736, 3.4723448753356934, 1.3848299980163574, 7.75551176071167, 1.472088098526001, 1.464585542678833, 1.4734067916870117, 3.4267873764038086, 2.181739330291748, 5.643414497375488, 1.4878398180007935, 1.4706538915634155, 1.419294834136963, 2.1955559253692627, 2.1241366863250732, 2.336488962173462, 4.49376106262207, 0.76402747631073, 1.4706387519836426, 0.7571470737457275, 0.7565447092056274, 0.7580820322036743, 1.1365801095962524, 1.415734052658081, 2.9143643379211426, 2.132209062576294, 4.240743637084961, 15.33012866973877, 2.3409640789031982, 2.9635567665100098, 16.290756225585938, 10.814770698547363, 3.2569475173950195, 8.016180992126465, 2.4823269844055176, 2.8831214904785156, 10.205443382263184, 6.043451309204102, 5.142755508422852, 8.684887886047363, 4.41469144821167, 6.508211135864258, 5.511935234069824, 6.586637496948242, 5.502360820770264, 4.824726581573486, 4.868072509765625, 4.495835781097412, 3.9402925968170166, 3.6763927936553955, 3.5973377227783203, 3.7261087894439697, 3.9870336055755615, 3.6898486614227295, 3.8352181911468506, 1.940826416015625, 1.1555588245391846, 1.1531221866607666, 1.1549924612045288, 1.154868245124817, 1.1571944952011108, 0.9286364912986755, 1.1526345014572144, 1.1531896591186523, 1.714587688446045, 0.595505952835083, 0.5944221019744873, 0.5966419577598572, 0.5953882932662964, 1.1537961959838867, 0.5973336100578308, 0.595402717590332, 1.7177138328552246, 1.1485017538070679, 0.5952108502388, 0.595886766910553, 0.6000359654426575, 1.15483820438385, 0.5776726603507996, 3.386005163192749, 0.5954278707504272, 0.5970536470413208, 0.5934368968009949, 0.5957933068275452, 0.5946751236915588, 3.817854642868042, 3.9573919773101807, 1.1560962200164795, 1.6855964660644531, 2.875551462173462, 1.7133026123046875, 1.15619695186615, 1.718254566192627, 1.154819369316101, 3.4115960597991943, 1.1610430479049683, 3.1553735733032227, 0.8424883484840393, 2.5950570106506348, 1.7390834093093872, 1.1663199663162231, 1.7631241083145142, 1.877586007118225, 1.7790296077728271, 1.7854292392730713, 1.7757107019424438, 1.8348102569580078, 1.8476529121398926, 1.540061354637146, 1.3725333213806152, 1.333785891532898, 1.3024219274520874, 1.2571247816085815, 1.262349247932434, 1.2859030961990356, 1.2560229301452637, 1.2495189905166626], \"Term\": [\"jane\", \"emma\", \"elinor\", \"miss\", \"marianne\", \"know\", \"like\", \"sir\", \"room\", \"shall\", \"thing\", \"weston\", \"think\", \"thought\", \"elizabeth\", \"father\", \"home\", \"mother\", \"sister\", \"old\", \"sure\", \"dear\", \"harriet\", \"soon\", \"great\", \"man\", \"come\", \"madame\", \"day\", \"light\", \"hunsden\", \"crimsworth\", \"eshton\", \"oliver\", \"poole\", \"storey\", \"wake\", \"heath\", \"ideal\", \"wages\", \"surgeon\", \"turf\", \"wicket\", \"demon\", \"frances\", \"missionary\", \"mountain\", \"current\", \"waves\", \"moor\", \"bells\", \"paced\", \"beating\", \"visions\", \"strained\", \"hannah\", \"mentally\", \"victor\", \"vengeance\", \"marsh\", \"thornfield\", \"rochester\", \"rivers\", \"midnight\", \"german\", \"dawn\", \"ingram\", \"glorious\", \"diana\", \"dog\", \"sky\", \"st\", \"mental\", \"god\", \"blood\", \"ll\", \"fields\", \"night\", \"master\", \"frame\", \"ere\", \"hall\", \"mason\", \"human\", \"face\", \"like\", \"eyre\", \"adele\", \"hand\", \"door\", \"life\", \"rose\", \"heart\", \"strange\", \"dark\", \"eyes\", \"asked\", \"thought\", \"house\", \"saw\", \"eye\", \"long\", \"looked\", \"day\", \"felt\", \"come\", \"heard\", \"hour\", \"know\", \"man\", \"look\", \"john\", \"room\", \"shall\", \"think\", \"mind\", \"came\", \"way\", \"yes\", \"left\", \"lydia\", \"wickham\", \"bingley\", \"gardiner\", \"bennet\", \"netherfield\", \"darcy\", \"meryton\", \"lizzy\", \"elizabeth\", \"forster\", \"bourgh\", \"catherine\", \"rosings\", \"phillips\", \"officers\", \"collins\", \"pemberley\", \"brighton\", \"longbourn\", \"hunsford\", \"derbyshire\", \"hertfordshire\", \"kitty\", \"lucases\", \"lucas\", \"fitzwilliam\", \"regiment\", \"judgement\", \"kent\", \"hurst\", \"charlotte\", \"ladyship\", \"sister\", \"family\", \"jane\", \"aunt\", \"lady\", \"sisters\", \"uncle\", \"soon\", \"daughters\", \"letter\", \"miss\", \"know\", \"dear\", \"think\", \"mother\", \"father\", \"shall\", \"man\", \"hope\", \"young\", \"day\", \"room\", \"great\", \"away\", \"friend\", \"replied\", \"long\", \"house\", \"thought\", \"harriet\", \"taylor\", \"knightley\", \"emma\", \"weymouth\", \"donwell\", \"brunswick\", \"connexion\", \"woodhouse\", \"bates\", \"elton\", \"goddard\", \"perry\", \"surprize\", \"hartfield\", \"highbury\", \"churchill\", \"weston\", \"enscombe\", \"campbells\", \"maple\", \"martin\", \"coles\", \"westons\", \"isabella\", \"cole\", \"frank\", \"eltons\", \"surprized\", \"vicarage\", \"abbey\", \"randalls\", \"smith\", \"body\", \"fairfax\", \"campbell\", \"thing\", \"miss\", \"extremely\", \"friend\", \"think\", \"great\", \"father\", \"dear\", \"know\", \"jane\", \"oh\", \"man\", \"sure\", \"young\", \"thought\", \"soon\", \"poor\", \"shall\", \"like\", \"day\", \"better\", \"polly\", \"naughty\", \"paulina\", \"godmother\", \"bretton\", \"graham\", \"bassompierre\", \"bessie\", \"scotch\", \"snowe\", \"clasp\", \"papa\", \"missis\", \"burns\", \"reed\", \"doll\", \"count\", \"nursery\", \"gateshead\", \"portress\", \"scarlet\", \"pet\", \"crib\", \"seal\", \"trained\", \"pack\", \"concert\", \"ribbon\", \"cat\", \"tiny\", \"carre\", \"prayers\", \"madame\", \"rosine\", \"dr\", \"georgiana\", \"beck\", \"cup\", \"lowood\", \"child\", \"paul\", \"emanuel\", \"room\", \"stood\", \"like\", \"breakfast\", \"door\", \"white\", \"hand\", \"long\", \"eyes\", \"knew\", \"night\", \"old\", \"lucy\", \"thought\", \"miss\", \"round\", \"come\", \"day\", \"came\", \"looked\", \"know\", \"look\", \"face\", \"saw\", \"think\", \"way\", \"palmer\", \"cleveland\", \"berkeley\", \"willoughby\", \"middletons\", \"allenham\", \"combe\", \"barton\", \"marianne\", \"tomorrow\", \"jennings\", \"devonshire\", \"dashwoods\", \"exeter\", \"monstrous\", \"middleton\", \"elinor\", \"steeles\", \"brandon\", \"dashwood\", \"margaret\", \"employments\", \"recovery\", \"persuading\", \"lessen\", \"luckily\", \"steele\", \"sprung\", \"beau\", \"cottage\", \"calmness\", \"colonel\", \"sister\", \"delaford\", \"town\", \"ma\", \"mother\", \"edward\", \"john\", \"ferrars\", \"sir\", \"thing\", \"miss\", \"soon\", \"house\", \"lady\", \"know\", \"room\", \"day\", \"moment\", \"morning\", \"spirits\", \"think\", \"come\", \"dear\", \"away\", \"shall\", \"came\", \"zelie\", \"pierre\", \"brocklehurst\", \"paletot\", \"les\", \"temple\", \"belle\", \"vaguely\", \"toilette\", \"ce\", \"qu\", \"grec\", \"heated\", \"teachers\", \"pas\", \"butter\", \"orange\", \"et\", \"petite\", \"ginevra\", \"cela\", \"englishwoman\", \"fanshawe\", \"braided\", \"robe\", \"curled\", \"stage\", \"comme\", \"je\", \"elle\", \"helen\", \"est\", \"une\", \"moi\", \"paul\", \"alley\", \"emanuel\", \"dr\", \"pupils\", \"la\", \"que\", \"dress\", \"garden\", \"ne\", \"madame\", \"beck\", \"mademoiselle\", \"vous\", \"classe\", \"hair\", \"miss\", \"lucy\", \"school\", \"monsieur\", \"like\", \"half\", \"thought\", \"know\", \"day\", \"think\", \"john\", \"looked\", \"took\", \"man\", \"came\", \"seen\", \"look\", \"eyes\", \"fanny\", \"ferrars\", \"norland\", \"edward\", \"harley\", \"steele\", \"oxford\", \"delaford\", \"expenses\", \"robert\", \"sons\", \"liberality\", \"assertion\", \"nineteen\", \"lucy\", \"unkindness\", \"income\", \"eighteen\", \"morton\", \"tempt\", \"brandon\", \"fettered\", \"betraying\", \"steeles\", \"dashwood\", \"integrity\", \"elinor\", \"continuance\", \"raillery\", \"seventeen\", \"engagement\", \"middleton\", \"exceedingly\", \"expense\", \"offended\", \"smallest\", \"brother\", \"colonel\", \"mother\", \"year\", \"marianne\", \"jennings\", \"fortune\", \"pounds\", \"thousand\", \"living\", \"cottage\", \"think\", \"sisters\", \"sister\", \"thing\", \"great\", \"lady\", \"know\", \"sure\", \"miss\", \"replied\", \"soon\", \"family\", \"john\", \"heart\", \"thought\", \"house\", \"man\", \"world\", \"woman\", \"henri\", \"mdlle\", \"maitresse\", \"oui\", \"directress\", \"reuter\", \"instruction\", \"composition\", \"mais\", \"bien\", \"giddy\", \"elle\", \"suis\", \"recreation\", \"monsieur\", \"demoiselles\", \"avail\", \"garret\", \"date\", \"reviving\", \"considerate\", \"tout\", \"est\", \"en\", \"schools\", \"bon\", \"silvery\", \"compact\", \"heroic\", \"whispers\", \"vous\", \"il\", \"estrade\", \"teacher\", \"mademoiselle\", \"english\", \"lesson\", \"pas\", \"ne\", \"lace\", \"le\", \"je\", \"lessons\", \"pupils\", \"addressing\", \"smile\", \"looked\", \"que\", \"read\", \"hand\", \"pelet\", \"word\", \"speak\", \"eye\", \"eyes\", \"thought\", \"letter\", \"school\", \"know\", \"like\", \"words\", \"think\", \"room\", \"voice\", \"tell\", \"saw\", \"ireland\", \"advocate\", \"madness\", \"wisely\", \"dixon\", \"jane\", \"helped\", \"deaf\", \"monday\", \"committed\", \"campbell\", \"unwell\", \"shaking\", \"sir\", \"frantic\", \"helen\", \"loves\", \"crib\", \"horseback\", \"privileged\", \"india\", \"surprized\", \"south\", \"obliging\", \"grieve\", \"says\", \"tiresome\", \"meditated\", \"anticipate\", \"writes\", \"die\", \"sees\", \"news\", \"yesterday\", \"shall\", \"afraid\", \"love\", \"dear\", \"oh\", \"miss\", \"yes\", \"hear\", \"come\", \"sure\", \"know\", \"married\", \"going\", \"fairfax\", \"think\", \"thank\", \"better\", \"elton\", \"mother\", \"wife\", \"thing\", \"leave\", \"soon\", \"like\", \"heard\", \"emma\", \"long\", \"wish\", \"john\", \"away\", \"gardens\", \"apples\", \"complaints\", \"porter\", \"imaginary\", \"hurrying\", \"earlier\", \"odious\", \"december\", \"missis\", \"warmer\", \"killed\", \"yards\", \"airs\", \"begins\", \"bank\", \"introducing\", \"stopt\", \"apple\", \"dispersed\", \"bond\", \"rapidity\", \"immense\", \"glasses\", \"staid\", \"september\", \"barely\", \"gravel\", \"abbey\", \"unnatural\", \"later\", \"randalls\", \"churchill\", \"ride\", \"frank\", \"weston\", \"london\", \"coming\", \"morrow\", \"miles\", \"disappointed\", \"thing\", \"emma\", \"lines\", \"hartfield\", \"martin\", \"elton\", \"enscombe\", \"going\", \"day\", \"son\", \"soon\", \"letter\", \"man\", \"highbury\", \"half\", \"come\", \"think\", \"aunt\", \"father\", \"leave\", \"great\", \"shall\", \"dear\", \"john\", \"thought\", \"morning\", \"way\", \"miss\", \"hour\", \"till\", \"know\", \"away\", \"house\", \"pelet\", \"jeune\", \"director\", \"belgian\", \"zoraide\", \"reuter\", \"demoiselles\", \"flemish\", \"ou\", \"une\", \"neighbouring\", \"que\", \"rome\", \"fascinating\", \"femme\", \"continental\", \"effected\", \"vous\", \"dit\", \"agent\", \"moderation\", \"mais\", \"sits\", \"comme\", \"prettily\", \"exchanged\", \"maitresse\", \"spiritual\", \"caroline\", \"pere\", \"il\", \"moi\", \"silas\", \"establishment\", \"et\", \"je\", \"mdlle\", \"monsieur\", \"madame\", \"le\", \"est\", \"features\", \"pupils\", \"lessons\", \"la\", \"bien\", \"lesson\", \"ah\", \"thought\", \"french\", \"course\", \"english\", \"old\", \"young\", \"face\", \"mind\", \"like\", \"think\", \"know\", \"man\", \"eyes\", \"having\", \"mother\", \"look\", \"pounds\", \"sum\", \"thousand\", \"amply\", \"comfortably\", \"estate\", \"tidings\", \"repent\", \"stock\", \"generosity\", \"reasonably\", \"provision\", \"speculation\", \"rung\", \"awkwardness\", \"generations\", \"henry\", \"prosperous\", \"advisable\", \"permanently\", \"darker\", \"including\", \"recommending\", \"horseback\", \"fortunes\", \"isabella\", \"prettily\", \"dimensions\", \"assurances\", \"nephew\", \"property\", \"martin\", \"diana\", \"snow\", \"parting\", \"reconciled\", \"norland\", \"dashwood\", \"sing\", \"fortune\", \"sisters\", \"comfortable\", \"son\", \"father\", \"years\", \"secured\", \"spare\", \"respectable\", \"marry\", \"uncle\", \"thing\", \"mother\", \"home\", \"sure\", \"body\", \"read\", \"emma\", \"wife\", \"john\", \"live\", \"young\", \"present\", \"sort\", \"know\", \"man\", \"half\", \"way\", \"woodhouse\", \"miss\", \"day\", \"margaret\", \"watchful\", \"varying\", \"propensities\", \"stubborn\", \"offending\", \"disapprobation\", \"begins\", \"essential\", \"lasting\", \"assisted\", \"speedily\", \"drawings\", \"sickly\", \"imaginary\", \"matrimony\", \"combe\", \"guilty\", \"practice\", \"satisfactory\", \"attach\", \"conjectures\", \"prosperous\", \"requires\", \"joyful\", \"speedy\", \"engrossed\", \"happening\", \"reckoned\", \"maintained\", \"mason\", \"ye\", \"deficient\", \"solid\", \"fitted\", \"conjecture\", \"estate\", \"probable\", \"establishment\", \"marianne\", \"taste\", \"lucas\", \"willoughby\", \"opinion\", \"sister\", \"collins\", \"wonder\", \"elinor\", \"marriage\", \"consider\", \"excited\", \"attachment\", \"seven\", \"cottage\", \"sir\", \"sure\", \"shall\", \"love\", \"wife\", \"kind\", \"felt\", \"great\", \"bennet\", \"lady\", \"know\", \"man\", \"day\", \"heart\", \"miss\", \"happiness\", \"feelings\", \"replied\", \"long\", \"dear\", \"crown\", \"couple\", \"dancing\", \"decline\", \"passage\", \"costly\", \"abundance\", \"acquiescence\", \"james\", \"crowd\", \"thoughtless\", \"dance\", \"ruddy\", \"costume\", \"ivory\", \"card\", \"basket\", \"supper\", \"coles\", \"thunder\", \"comprehended\", \"salon\", \"damp\", \"danced\", \"windows\", \"courteous\", \"lightning\", \"livid\", \"elf\", \"worshipped\", \"staid\", \"owned\", \"fruit\", \"draught\", \"perry\", \"weston\", \"partner\", \"dreadful\", \"room\", \"thing\", \"randalls\", \"sir\", \"obliging\", \"rooms\", \"like\", \"old\", \"people\", \"know\", \"set\", \"emma\", \"dear\", \"think\", \"great\", \"oh\", \"young\", \"father\", \"cold\", \"large\", \"true\", \"sort\", \"thought\", \"madame\", \"miss\", \"grandmother\", \"cupboard\", \"sugar\", \"cups\", \"apron\", \"pattern\", \"exertions\", \"washed\", \"waist\", \"pang\", \"reappeared\", \"contrasted\", \"repast\", \"quicker\", \"fashioned\", \"vowed\", \"shell\", \"silver\", \"earn\", \"tempest\", \"porcelain\", \"agreeably\", \"tray\", \"permanently\", \"hearth\", \"subsided\", \"preparations\", \"cheering\", \"blaze\", \"knelt\", \"england\", \"tea\", \"plate\", \"campbell\", \"frances\", \"arranged\", \"swept\", \"truly\", \"possess\", \"light\", \"roused\", \"home\", \"perfection\", \"old\", \"english\", \"produced\", \"sort\", \"took\", \"asked\", \"eyes\", \"came\", \"thought\", \"like\", \"years\", \"girl\", \"mother\", \"better\", \"making\", \"brought\", \"room\", \"began\", \"place\"], \"Total\": [927.0, 858.0, 685.0, 1538.0, 567.0, 1439.0, 1340.0, 596.0, 886.0, 924.0, 785.0, 428.0, 1316.0, 1147.0, 632.0, 508.0, 493.0, 666.0, 585.0, 479.0, 615.0, 587.0, 524.0, 925.0, 827.0, 909.0, 835.0, 402.0, 1064.0, 308.0, 152.48915100097656, 102.03660583496094, 29.99925994873047, 30.98898696899414, 32.93533706665039, 17.948402404785156, 19.94984245300293, 18.95290184020996, 20.937658309936523, 15.936355590820312, 14.933650016784668, 18.93939208984375, 15.928689956665039, 15.929314613342285, 116.80677032470703, 18.911426544189453, 15.939040184020996, 15.919355392456055, 11.922367095947266, 28.983993530273438, 11.918209075927734, 12.91571044921875, 11.920929908752441, 14.928243637084961, 11.910398483276367, 41.88801956176758, 11.9192476272583, 23.88831901550293, 11.913384437561035, 13.913679122924805, 101.00202178955078, 366.58197021484375, 60.427268981933594, 30.789262771606445, 42.85713195800781, 23.924823760986328, 91.21582794189453, 30.918630599975586, 75.69985961914062, 45.88283920288086, 97.54143524169922, 198.3257598876953, 44.855064392089844, 231.63832092285156, 89.62503051757812, 152.4633026123047, 43.90679931640625, 630.708984375, 205.52781677246094, 62.439613342285156, 138.30105590820312, 175.4434051513672, 60.20301055908203, 120.2978744506836, 502.43731689453125, 1340.4644775390625, 103.4952392578125, 138.8687286376953, 621.76123046875, 539.7186279296875, 588.35693359375, 235.22886657714844, 660.420654296875, 256.1964416503906, 231.51571655273438, 641.95458984375, 400.42987060546875, 1147.8355712890625, 758.9117431640625, 783.311767578125, 401.8227233886719, 944.3560791015625, 703.6123657226562, 1064.1947021484375, 672.5620727539062, 835.6170654296875, 626.9646606445312, 437.08746337890625, 1439.64208984375, 909.9017333984375, 646.179443359375, 630.4158325195312, 886.4741821289062, 924.9281616210938, 1316.857666015625, 578.7662353515625, 693.49072265625, 693.9893798828125, 601.8697509765625, 538.565673828125, 168.428466796875, 190.96742248535156, 300.63037109375, 93.9681396484375, 316.01068115234375, 72.40584564208984, 408.4525146484375, 56.72993469238281, 95.91089630126953, 632.6881713867188, 39.09427261352539, 39.079673767089844, 127.92182922363281, 48.85800552368164, 31.256677627563477, 32.23256301879883, 174.6003875732422, 52.818817138671875, 24.398439407348633, 86.30072784423828, 25.373001098632812, 24.393917083740234, 40.78429412841797, 73.33528900146484, 14.60115909576416, 68.41455841064453, 36.14909744262695, 26.338878631591797, 11.660592079162598, 14.601699829101562, 36.04233932495117, 111.471435546875, 54.4399299621582, 585.1685791015625, 380.48895263671875, 927.5321044921875, 179.10719299316406, 624.5987548828125, 185.44752502441406, 151.7091522216797, 925.5381469726562, 106.42251586914062, 424.0513000488281, 1538.959716796875, 1439.64208984375, 587.4473876953125, 1316.857666015625, 666.5010986328125, 508.4065246582031, 924.9281616210938, 909.9017333984375, 511.0858459472656, 664.1444091796875, 1064.1947021484375, 886.4741821289062, 827.3897705078125, 684.0940551757812, 440.2099609375, 349.0384826660156, 944.3560791015625, 758.9117431640625, 1147.8355712890625, 524.4127197265625, 50.47336959838867, 388.5084228515625, 858.2880249023438, 18.705528259277344, 49.49681854248047, 11.921932220458984, 20.802135467529297, 311.6519775390625, 151.5322265625, 383.8475341796875, 58.796600341796875, 79.33840942382812, 37.41058349609375, 158.3549041748047, 124.2488021850586, 220.4739532470703, 428.19976806640625, 36.20112228393555, 26.77922248840332, 31.205402374267578, 83.60685729980469, 17.340576171875, 11.636143684387207, 68.21438598632812, 60.400028228759766, 234.4960174560547, 22.6026611328125, 32.57219314575195, 17.625364303588867, 30.86739158630371, 86.94668579101562, 115.71585083007812, 280.3166198730469, 378.42132568359375, 50.00360107421875, 785.9655151367188, 1538.959716796875, 100.52973175048828, 440.2099609375, 1316.857666015625, 827.3897705078125, 508.4065246582031, 587.4473876953125, 1439.64208984375, 927.5321044921875, 562.4232177734375, 909.9017333984375, 615.0872192382812, 664.1444091796875, 1147.8355712890625, 925.5381469726562, 392.62615966796875, 924.9281616210938, 1340.4644775390625, 1064.1947021484375, 618.630615234375, 78.81538391113281, 12.569940567016602, 82.61265563964844, 30.15053939819336, 239.02410888671875, 221.32017517089844, 73.99626159667969, 127.56875610351562, 15.482694625854492, 59.623619079589844, 11.635651588439941, 170.46951293945312, 19.711441040039062, 32.307762145996094, 128.21177673339844, 21.47934341430664, 30.289108276367188, 44.655494689941406, 42.811458587646484, 17.37497901916504, 14.550121307373047, 10.55534553527832, 16.150575637817383, 23.470203399658203, 13.2700834274292, 11.384225845336914, 18.54959487915039, 20.10089683532715, 13.222990036010742, 23.499723434448242, 25.27677345275879, 33.1773681640625, 402.79205322265625, 36.330421447753906, 235.1913604736328, 59.61065673828125, 164.5167694091797, 55.82426834106445, 55.177391052246094, 299.2901306152344, 184.8562774658203, 108.37806701660156, 886.4741821289062, 326.7956237792969, 1340.4644775390625, 144.71774291992188, 539.7186279296875, 235.7413787841797, 621.76123046875, 944.3560791015625, 641.95458984375, 550.0426635742188, 630.708984375, 479.4084167480469, 377.5511474609375, 1147.8355712890625, 1538.959716796875, 356.9811706542969, 835.6170654296875, 1064.1947021484375, 693.49072265625, 703.6123657226562, 1439.64208984375, 646.179443359375, 502.43731689453125, 783.311767578125, 1316.857666015625, 693.9893798828125, 78.77584838867188, 28.187536239624023, 18.13817024230957, 217.3494415283203, 20.12505340576172, 18.784475326538086, 16.4559268951416, 90.62947845458984, 567.1744995117188, 18.058956146240234, 231.9458770751953, 27.05366325378418, 37.119789123535156, 15.981099128723145, 15.769015312194824, 103.3688735961914, 685.8866577148438, 31.023029327392578, 144.41331481933594, 250.641845703125, 33.65932846069336, 12.887754440307617, 14.887742042541504, 10.989439964294434, 15.916775703430176, 12.80903148651123, 38.7773551940918, 10.906462669372559, 21.875404357910156, 84.89472198486328, 28.562097549438477, 307.032958984375, 585.1685791015625, 30.37774085998535, 239.07049560546875, 123.9142837524414, 666.5010986328125, 316.79046630859375, 630.4158325195312, 129.7925567626953, 596.28173828125, 785.9655151367188, 1538.959716796875, 925.5381469726562, 758.9117431640625, 624.5987548828125, 1439.64208984375, 886.4741821289062, 1064.1947021484375, 579.3616333007812, 515.7525024414062, 229.5750274658203, 1316.857666015625, 835.6170654296875, 587.4473876953125, 684.0940551757812, 924.9281616210938, 693.49072265625, 17.95514678955078, 32.00634765625, 56.82398986816406, 20.81211280822754, 39.51321029663086, 75.86846923828125, 14.825130462646484, 10.872688293457031, 13.825607299804688, 51.706581115722656, 31.351009368896484, 14.802179336547852, 12.606792449951172, 79.26657104492188, 60.08330535888672, 15.268304824829102, 12.896860122680664, 84.9000473022461, 24.467348098754883, 112.02428436279297, 19.13576316833496, 10.714838027954102, 87.2354507446289, 13.746979713439941, 22.66226577758789, 18.87457275390625, 20.797779083251953, 23.029582977294922, 69.96510314941406, 26.086380004882812, 62.733707427978516, 107.84451293945312, 37.199737548828125, 25.117536544799805, 184.8562774658203, 28.742746353149414, 108.37806701660156, 235.1913604736328, 155.11871337890625, 105.17521667480469, 61.430015563964844, 162.9134979248047, 177.1164093017578, 35.69132995605469, 402.79205322265625, 164.5167694091797, 118.70281219482422, 113.3847885131836, 64.25642395019531, 189.24339294433594, 1538.959716796875, 377.5511474609375, 248.29380798339844, 275.1604919433594, 1340.4644775390625, 593.5496826171875, 1147.8355712890625, 1439.64208984375, 1064.1947021484375, 1316.857666015625, 630.4158325195312, 703.6123657226562, 499.9306640625, 909.9017333984375, 693.49072265625, 449.299072265625, 646.179443359375, 641.95458984375, 48.2289924621582, 129.7925567626953, 52.518150329589844, 316.79046630859375, 16.804527282714844, 38.7773551940918, 13.365972518920898, 30.37774085998535, 13.65149974822998, 78.11709594726562, 10.699719429016113, 14.609135627746582, 19.655324935913086, 12.358180046081543, 377.5511474609375, 10.558341979980469, 50.68040084838867, 26.992887496948242, 42.763763427734375, 17.409561157226562, 144.41331481933594, 12.828980445861816, 12.628954887390137, 31.023029327392578, 250.641845703125, 16.489665985107422, 685.8866577148438, 15.495790481567383, 15.322534561157227, 17.638029098510742, 115.69115447998047, 103.3688735961914, 69.2425308227539, 31.215999603271484, 29.47224235534668, 51.9090576171875, 286.6988220214844, 307.032958984375, 666.5010986328125, 181.1420440673828, 567.1744995117188, 231.9458770751953, 172.34530639648438, 97.52339935302734, 135.36354064941406, 173.1261749267578, 84.89472198486328, 1316.857666015625, 185.44752502441406, 585.1685791015625, 785.9655151367188, 827.3897705078125, 624.5987548828125, 1439.64208984375, 615.0872192382812, 1538.959716796875, 349.0384826660156, 925.5381469726562, 380.48895263671875, 630.4158325195312, 660.420654296875, 1147.8355712890625, 758.9117431640625, 909.9017333984375, 417.07342529296875, 476.5772399902344, 52.45013427734375, 107.00511169433594, 15.623892784118652, 15.207881927490234, 45.430782318115234, 72.75630187988281, 16.840566635131836, 13.405540466308594, 30.13599967956543, 46.62008285522461, 12.369380950927734, 26.086380004882812, 11.609964370727539, 15.906292915344238, 275.1604919433594, 14.7220458984375, 14.272439002990723, 22.310962677001953, 15.321547508239746, 10.580068588256836, 14.612298011779785, 28.83309555053711, 107.84451293945312, 48.69802474975586, 12.639781951904297, 19.26590919494629, 10.693809509277344, 11.659207344055176, 11.606621742248535, 13.553232192993164, 113.3847885131836, 41.89664840698242, 37.54104995727539, 72.1529541015625, 118.70281219482422, 226.7648162841797, 68.1161880493164, 60.08330535888672, 35.69132995605469, 55.26091384887695, 45.511905670166016, 69.96510314941406, 63.448814392089844, 155.11871337890625, 40.37472915649414, 263.18115234375, 703.6123657226562, 61.430015563964844, 317.22265625, 621.76123046875, 100.28804779052734, 401.0210876464844, 447.4505615234375, 401.8227233886719, 641.95458984375, 1147.8355712890625, 424.0513000488281, 248.29380798339844, 1439.64208984375, 1340.4644775390625, 345.53955078125, 1316.857666015625, 886.4741821289062, 399.18536376953125, 546.8236083984375, 783.311767578125, 22.073015213012695, 10.465373992919922, 15.542935371398926, 12.554043769836426, 44.217891693115234, 927.5321044921875, 27.30596351623535, 11.69749641418457, 16.20496940612793, 13.363733291625977, 50.00360107421875, 12.69957447052002, 18.365211486816406, 596.28173828125, 14.674222946166992, 62.733707427978516, 36.07908248901367, 16.150575637817383, 11.617663383483887, 13.525664329528809, 21.5699520111084, 32.57219314575195, 32.903594970703125, 49.41647720336914, 24.355459213256836, 113.55268096923828, 14.53038501739502, 14.124741554260254, 11.656886100769043, 17.62188148498535, 65.71548461914062, 28.195714950561523, 107.78516387939453, 87.29924011230469, 924.9281616210938, 167.40663146972656, 572.5643920898438, 587.4473876953125, 562.4232177734375, 1538.959716796875, 601.8697509765625, 410.68359375, 835.6170654296875, 615.0872192382812, 1439.64208984375, 246.1250457763672, 381.6033020019531, 378.42132568359375, 1316.857666015625, 120.16075897216797, 618.630615234375, 383.8475341796875, 666.5010986328125, 278.8837585449219, 785.9655151367188, 384.141357421875, 925.5381469726562, 1340.4644775390625, 626.9646606445312, 858.2880249023438, 944.3560791015625, 523.604248046875, 630.4158325195312, 684.0940551757812, 16.6718807220459, 24.41286277770996, 13.120026588439941, 12.302816390991211, 15.434005737304688, 18.320077896118164, 17.772356033325195, 12.18710708618164, 11.432402610778809, 19.711441040039062, 13.312071800231934, 12.290548324584961, 21.89575958251953, 16.146238327026367, 13.61788558959961, 15.267675399780273, 12.331366539001465, 15.457223892211914, 17.245925903320312, 10.365159034729004, 12.455355644226074, 14.310914993286133, 10.541675567626953, 10.375783920288086, 15.923112869262695, 12.459824562072754, 10.568438529968262, 16.37285614013672, 30.86739158630371, 15.285466194152832, 30.702392578125, 86.94668579101562, 220.4739532470703, 25.688207626342773, 234.4960174560547, 428.19976806640625, 174.20806884765625, 304.0013122558594, 123.6242446899414, 81.27513122558594, 64.11380767822266, 785.9655151367188, 858.2880249023438, 55.708290100097656, 158.3549041748047, 83.60685729980469, 383.8475341796875, 36.20112228393555, 381.6033020019531, 1064.1947021484375, 192.5923614501953, 925.5381469726562, 424.0513000488281, 909.9017333984375, 124.2488021850586, 593.5496826171875, 835.6170654296875, 1316.857666015625, 179.10719299316406, 508.4065246582031, 384.141357421875, 827.3897705078125, 924.9281616210938, 587.4473876953125, 630.4158325195312, 1147.8355712890625, 515.7525024414062, 693.9893798828125, 1538.959716796875, 437.08746337890625, 524.1119995117188, 1439.64208984375, 684.0940551757812, 758.9117431640625, 100.28804779052734, 13.637974739074707, 14.88499927520752, 15.83776569366455, 26.954111099243164, 72.75630187988281, 14.7220458984375, 11.230748176574707, 15.000422477722168, 37.199737548828125, 13.269932746887207, 61.430015563964844, 21.903085708618164, 10.465383529663086, 12.392067909240723, 16.239770889282227, 11.4805269241333, 113.3847885131836, 12.252180099487305, 11.355363845825195, 10.479768753051758, 30.13599967956543, 11.506976127624512, 23.029582977294922, 11.846616744995117, 17.008527755737305, 15.623892784118652, 13.313035011291504, 24.695005416870117, 39.59096908569336, 41.89664840698242, 25.117536544799805, 36.67529296875, 70.17852783203125, 84.9000473022461, 69.96510314941406, 107.00511169433594, 275.1604919433594, 402.79205322265625, 45.511905670166016, 107.84451293945312, 130.78895568847656, 155.11871337890625, 63.448814392089844, 105.17521667480469, 46.62008285522461, 68.1161880493164, 132.53176879882812, 1147.8355712890625, 159.6554718017578, 347.6968688964844, 226.7648162841797, 479.4084167480469, 664.1444091796875, 502.43731689453125, 578.7662353515625, 1340.4644775390625, 1316.857666015625, 1439.64208984375, 909.9017333984375, 641.95458984375, 540.833740234375, 666.5010986328125, 646.179443359375, 97.52339935302734, 29.421016693115234, 135.36354064941406, 13.387558937072754, 21.863317489624023, 54.22666549682617, 15.450004577636719, 17.24116325378418, 15.698884963989258, 17.45453453063965, 15.478062629699707, 12.323797225952148, 13.23263931274414, 10.479540824890137, 10.627034187316895, 10.662074089050293, 31.059782028198242, 10.40169620513916, 18.386810302734375, 11.311944961547852, 11.452641487121582, 11.512636184692383, 11.582491874694824, 11.617663383483887, 11.652958869934082, 68.21438598632812, 11.846616744995117, 11.280458450317383, 23.29914665222168, 41.458946228027344, 46.57368850708008, 83.60685729980469, 75.69985961914062, 63.72999572753906, 55.00992202758789, 22.003938674926758, 52.518150329589844, 250.641845703125, 25.25321388244629, 172.34530639648438, 185.44752502441406, 90.49427795410156, 192.5923614501953, 508.4065246582031, 315.4013671875, 36.67069625854492, 53.09553146362305, 70.18125915527344, 206.26512145996094, 151.7091522216797, 785.9655151367188, 666.5010986328125, 493.9601745605469, 615.0872192382812, 280.3166198730469, 317.22265625, 858.2880249023438, 278.8837585449219, 630.4158325195312, 214.96102905273438, 664.1444091796875, 416.3087463378906, 361.1453857421875, 1439.64208984375, 909.9017333984375, 593.5496826171875, 693.9893798828125, 311.6519775390625, 1538.959716796875, 1064.1947021484375, 33.65932846069336, 11.896069526672363, 10.998529434204102, 12.206945419311523, 10.306232452392578, 12.109512329101562, 12.959503173828125, 13.61788558959961, 11.376080513000488, 14.232645988464355, 20.011152267456055, 22.56450080871582, 15.026955604553223, 16.129274368286133, 15.434005737304688, 23.669889450073242, 16.4559268951416, 12.251331329345703, 26.454402923583984, 24.826772689819336, 18.211589813232422, 18.219884872436523, 10.40169620513916, 10.543004035949707, 10.483067512512207, 10.592520713806152, 10.438128471374512, 10.550493240356445, 10.595650672912598, 17.259174346923828, 60.20301055908203, 29.60151481628418, 21.306419372558594, 22.905630111694336, 27.92978286743164, 35.649696350097656, 54.22666549682617, 35.54061508178711, 70.17852783203125, 567.1744995117188, 159.0448760986328, 68.41455841064453, 217.3494415283203, 256.6678466796875, 585.1685791015625, 174.6003875732422, 206.21951293945312, 685.8866577148438, 182.9602813720703, 142.13075256347656, 75.16275024414062, 122.63436889648438, 63.17430114746094, 84.89472198486328, 596.28173828125, 615.0872192382812, 924.9281616210938, 572.5643920898438, 278.8837585449219, 411.081298828125, 672.5620727539062, 827.3897705078125, 316.01068115234375, 624.5987548828125, 1439.64208984375, 909.9017333984375, 1064.1947021484375, 660.420654296875, 1538.959716796875, 276.58673095703125, 383.7244873046875, 349.0384826660156, 944.3560791015625, 587.4473876953125, 39.5394287109375, 45.1893310546875, 66.2686538696289, 12.290148735046387, 61.50989532470703, 13.183161735534668, 16.710599899291992, 11.096628189086914, 25.806049346923828, 34.54161071777344, 14.299917221069336, 81.64994812011719, 15.756900787353516, 16.072267532348633, 16.315155029296875, 38.06813430786133, 24.315208435058594, 62.89670181274414, 17.340576171875, 17.152204513549805, 17.093116760253906, 26.563854217529297, 25.717496871948242, 30.4962215423584, 59.717342376708984, 10.539504051208496, 20.323123931884766, 10.526749610900879, 10.587908744812012, 10.616217613220215, 15.923112869262695, 19.89117431640625, 42.29721450805664, 33.53247833251953, 79.33840942382812, 428.19976806640625, 39.5948600769043, 56.842681884765625, 886.4741821289062, 785.9655151367188, 86.94668579101562, 596.28173828125, 49.41647720336914, 70.88774871826172, 1340.4644775390625, 479.4084167480469, 339.69989013671875, 1439.64208984375, 267.6957702636719, 858.2880249023438, 587.4473876953125, 1316.857666015625, 827.3897705078125, 562.4232177734375, 664.1444091796875, 508.4065246582031, 286.1101989746094, 265.44683837890625, 239.07778930664062, 361.1453857421875, 1147.8355712890625, 402.79205322265625, 1538.959716796875, 12.383827209472656, 11.962628364562988, 12.611083984375, 13.569378852844238, 14.784368515014648, 15.659244537353516, 13.248455047607422, 17.145601272583008, 18.046497344970703, 27.565155029296875, 10.110284805297852, 10.22857666015625, 10.271135330200195, 10.270179748535156, 19.977115631103516, 10.433918952941895, 10.449983596801758, 30.92352294921875, 20.771116256713867, 11.08692741394043, 11.258651733398438, 11.382953643798828, 21.964120864868164, 11.311944961547852, 67.76872253417969, 12.139771461486816, 12.32288646697998, 12.368875503540039, 12.439413070678711, 12.428226470947266, 125.21012878417969, 134.71563720703125, 29.582332611083984, 50.00360107421875, 116.80677032470703, 64.80712890625, 34.74739456176758, 72.73786163330078, 37.18966293334961, 308.1588439941406, 45.48180389404297, 493.9601745605469, 22.914411544799805, 479.4084167480469, 226.7648162841797, 70.99378967285156, 361.1453857421875, 499.9306640625, 400.42987060546875, 641.95458984375, 693.49072265625, 1147.8355712890625, 1340.4644775390625, 315.4013671875, 308.8279113769531, 666.5010986328125, 618.630615234375, 202.2281036376953, 322.1225891113281, 886.4741821289062, 303.3001708984375, 510.46661376953125], \"loglift\": [30.0, 29.0, 28.0, 27.0, 26.0, 25.0, 24.0, 23.0, 22.0, 21.0, 20.0, 19.0, 18.0, 17.0, 16.0, 15.0, 14.0, 13.0, 12.0, 11.0, 10.0, 9.0, 8.0, 7.0, 6.0, 5.0, 4.0, 3.0, 2.0, 1.0, 1.125, 1.1066999435424805, 1.0951999425888062, 1.0881999731063843, 1.086899995803833, 1.0819000005722046, 1.0800000429153442, 1.076799988746643, 1.0758999586105347, 1.0752999782562256, 1.0724999904632568, 1.0708999633789062, 1.06659996509552, 1.066499948501587, 1.0647000074386597, 1.0647000074386597, 1.0645999908447266, 1.0641000270843506, 1.0604000091552734, 1.0602999925613403, 1.0571999549865723, 1.0571999549865723, 1.0570000410079956, 1.05649995803833, 1.0555000305175781, 1.0544999837875366, 1.0530999898910522, 1.052299976348877, 1.051800012588501, 1.0499000549316406, 1.0420000553131104, 1.0144000053405762, 1.033400058746338, 1.0364999771118164, 1.0242999792099, 1.0363999605178833, 0.9940999746322632, 1.0200999975204468, 0.9657999873161316, 0.9918000102043152, 0.9383999705314636, 0.8885999917984009, 0.9846000075340271, 0.8482999801635742, 0.9203000068664551, 0.8684999942779541, 0.9775000214576721, 0.6248999834060669, 0.7621999979019165, 0.9185000061988831, 0.7932999730110168, 0.7537000179290771, 0.909500002861023, 0.7949000000953674, 0.5515000224113464, 0.35850000381469727, 0.8073999881744385, 0.7484999895095825, 0.44609999656677246, 0.461899995803833, 0.43320000171661377, 0.6320000290870667, 0.37689998745918274, 0.597000002861023, 0.6211000084877014, 0.3416999876499176, 0.460999995470047, 0.15690000355243683, 0.27090001106262207, 0.25769999623298645, 0.4456000030040741, 0.17139999568462372, 0.2273000031709671, 0.07419999688863754, 0.2061000019311905, 0.08669999986886978, 0.1835000067949295, 0.3418999910354614, -0.23729999363422394, -0.05590000003576279, 0.11729999631643295, 0.12700000405311584, -0.07800000160932541, -0.12880000472068787, -0.41769999265670776, 0.149399995803833, 0.007300000172108412, 0.0027000000700354576, 0.0925000011920929, 0.18549999594688416, 1.8077000379562378, 1.8051999807357788, 1.7984999418258667, 1.7978999614715576, 1.797700047492981, 1.7970999479293823, 1.7949999570846558, 1.7943999767303467, 1.7926000356674194, 1.7920000553131104, 1.7903000116348267, 1.7893999814987183, 1.7863999605178833, 1.7848000526428223, 1.784500002861023, 1.7832000255584717, 1.7807999849319458, 1.7800999879837036, 1.7786999940872192, 1.7760000228881836, 1.7725000381469727, 1.7719000577926636, 1.770300030708313, 1.7625999450683594, 1.7525999546051025, 1.7522000074386597, 1.7446999549865723, 1.7378000020980835, 1.7301000356674194, 1.7158000469207764, 1.684999942779541, 1.5515999794006348, 1.5580999851226807, 0.9980999827384949, 1.0688999891281128, 0.683899998664856, 1.1440999507904053, 0.7139000296592712, 1.1154999732971191, 1.1885000467300415, 0.4936000108718872, 1.305299997329712, 0.7335000038146973, 0.18469999730587006, 0.21040000021457672, 0.5864999890327454, 0.1412999927997589, 0.4715000092983246, 0.597599983215332, 0.2581999897956848, 0.2143000066280365, 0.5266000032424927, 0.2930999994277954, -0.015699999406933784, 0.10329999774694443, 0.13609999418258667, 0.21559999883174896, 0.5274999737739563, 0.7099000215530396, -0.1476999968290329, 0.014399999752640724, -0.40049999952316284, 1.8083000183105469, 1.7985999584197998, 1.7925000190734863, 1.7797000408172607, 1.7770999670028687, 1.7761000394821167, 1.770300030708313, 1.7696000337600708, 1.7644000053405762, 1.7627999782562256, 1.7537000179290771, 1.75, 1.7477999925613403, 1.7410999536514282, 1.7371000051498413, 1.7369999885559082, 1.732699990272522, 1.7102999687194824, 1.7096999883651733, 1.6964999437332153, 1.6794999837875366, 1.673699975013733, 1.6713000535964966, 1.6656999588012695, 1.6507999897003174, 1.6385999917984009, 1.6369999647140503, 1.6289000511169434, 1.6282000541687012, 1.604099988937378, 1.6013000011444092, 1.5831999778747559, 1.5640000104904175, 1.4149999618530273, 1.3410999774932861, 1.531000018119812, 1.009600043296814, 0.8233000040054321, 1.3509999513626099, 0.9251999855041504, 0.5, 0.6064000129699707, 0.7610999941825867, 0.7050999999046326, 0.23669999837875366, 0.4097000062465668, 0.6144999861717224, 0.3716000020503998, 0.5297999978065491, 0.46459999680519104, 0.1242000013589859, 0.2167000025510788, 0.6916999816894531, 0.07900000363588333, -0.1965000033378601, -0.05810000002384186, 0.36149999499320984, 2.2051000595092773, 2.1389000415802, 2.1294000148773193, 2.115799903869629, 2.09060001373291, 2.073199987411499, 2.0699000358581543, 2.051300048828125, 2.041800022125244, 1.9957000017166138, 1.975000023841858, 1.9744000434875488, 1.9332000017166138, 1.8762999773025513, 1.868399977684021, 1.8590999841690063, 1.8551000356674194, 1.8526999950408936, 1.851099967956543, 1.8459999561309814, 1.8385000228881836, 1.8152999877929688, 1.8056000471115112, 1.8035000562667847, 1.7942999601364136, 1.7877999544143677, 1.7826000452041626, 1.7821999788284302, 1.7785999774932861, 1.7757999897003174, 1.7756999731063843, 1.7604000568389893, 1.5757999420166016, 1.7275999784469604, 1.5063999891281128, 1.6444000005722046, 1.4931999444961548, 1.600000023841858, 1.5861999988555908, 1.195099949836731, 1.1885000467300415, 1.3147000074386597, 0.6183000206947327, 0.9433000087738037, 0.4383000135421753, 1.1955000162124634, 0.6913999915122986, 0.972599983215332, 0.5508000254631042, 0.35429999232292175, 0.522599995136261, 0.5365999937057495, 0.4487000107765198, 0.5766000151634216, 0.6952000260353088, 0.07850000262260437, -0.09290000051259995, 0.7044000029563904, 0.1899999976158142, 0.04899999871850014, 0.29109999537467957, 0.27459999918937683, -0.2515999972820282, 0.2705000042915344, 0.46709999442100525, 0.032499998807907104, -0.4603999853134155, 0.11150000244379044, 2.677799940109253, 2.6552999019622803, 2.650399923324585, 2.620500087738037, 2.59689998626709, 2.529400110244751, 2.5269999504089355, 2.515700101852417, 2.4948999881744385, 2.486599922180176, 2.4804000854492188, 2.429800033569336, 2.3994998931884766, 2.358799934387207, 2.338099956512451, 2.3310999870300293, 2.3006999492645264, 2.2888998985290527, 2.255500078201294, 2.220599889755249, 2.124799966812134, 2.070199966430664, 2.039400100708008, 1.9729000329971313, 1.9221999645233154, 1.8805999755859375, 1.8727999925613403, 1.8553999662399292, 1.8514000177383423, 1.8490999937057495, 1.8327000141143799, 1.6892000436782837, 1.5781999826431274, 1.8100999593734741, 1.374899983406067, 1.4967000484466553, 1.0211000442504883, 1.1857000589370728, 0.9785000085830688, 1.4157999753952026, 0.8177000284194946, 0.6532999873161316, 0.210999995470047, 0.45080000162124634, 0.5318999886512756, 0.6290000081062317, 0.16169999539852142, 0.3582000136375427, 0.23389999568462372, 0.5697000026702881, 0.6111999750137329, 1.107800006866455, -0.01860000006854534, 0.2761000096797943, 0.5055999755859375, 0.39579999446868896, 0.15889999270439148, 0.3361999988555908, 2.620800018310547, 2.611999988555908, 2.52810001373291, 2.500999927520752, 2.4433000087738037, 2.3854000568389893, 2.3612000942230225, 2.2964999675750732, 2.293299913406372, 2.283600091934204, 2.275899887084961, 2.256500005722046, 2.2451999187469482, 2.2427000999450684, 2.239300012588501, 2.2386999130249023, 2.2334001064300537, 2.2314999103546143, 2.2070000171661377, 2.1875998973846436, 2.1761999130249023, 2.1751999855041504, 2.1703999042510986, 2.157099962234497, 2.1459999084472656, 2.1421000957489014, 2.1387999057769775, 2.1328001022338867, 2.129499912261963, 2.1275999546051025, 2.1131999492645264, 2.046099901199341, 2.0882999897003174, 2.1191000938415527, 1.877500057220459, 2.1019999980926514, 1.8954999446868896, 1.7244000434875488, 1.7899999618530273, 1.8568999767303467, 1.9550000429153442, 1.7141000032424927, 1.6749000549316406, 2.028700113296509, 1.333799958229065, 1.4966000318527222, 1.6044000387191772, 1.592900037765503, 1.7863999605178833, 1.2706999778747559, 0.23880000412464142, 0.9247999787330627, 1.125100016593933, 1.0642000436782837, 0.0917000025510788, 0.5414999723434448, -0.007699999958276749, -0.2362000048160553, -0.018799999728798866, -0.1868000030517578, 0.31949999928474426, 0.22419999539852142, 0.44679999351501465, -0.0746999979019165, 0.14810000360012054, 0.51910001039505, 0.1436000019311905, 0.1429000049829483, 2.938499927520752, 2.755500078201294, 2.748300075531006, 2.640500068664551, 2.5620999336242676, 2.4814999103546143, 2.459399938583374, 2.4409000873565674, 2.437299966812134, 2.4189999103546143, 2.379699945449829, 2.3457999229431152, 2.228300094604492, 2.1991000175476074, 2.1268999576568604, 2.1052000522613525, 2.0248000621795654, 2.010699987411499, 1.986799955368042, 1.9606000185012817, 1.9594999551773071, 1.9579999446868896, 1.957800030708313, 1.9397000074386597, 1.934999942779541, 1.9234000444412231, 1.919700026512146, 1.9108999967575073, 1.9039000272750854, 1.8931000232696533, 1.872499942779541, 1.8667999505996704, 1.8601000308990479, 1.8853000402450562, 1.8739999532699585, 1.7956000566482544, 1.4644999504089355, 1.4283000230789185, 1.1885000467300415, 1.4752999544143677, 1.1878000497817993, 1.3705999851226807, 1.432800054550171, 1.605299949645996, 1.4904999732971191, 1.3437999486923218, 1.6299999952316284, 0.492000013589859, 1.2877000570297241, 0.7494000196456909, 0.6067000031471252, 0.5777999758720398, 0.609499990940094, 0.13040000200271606, 0.6104000210762024, 0.006000000052154064, 0.9024999737739563, 0.23409999907016754, 0.8179000020027161, 0.44519999623298645, 0.38839998841285706, -0.07429999858140945, 0.25110000371932983, 0.08100000023841858, 0.7389000058174133, 0.5936999917030334, 3.7288999557495117, 3.4904000759124756, 3.4714999198913574, 3.3803999423980713, 3.309299945831299, 3.1066999435424805, 2.946700096130371, 2.9321000576019287, 2.8694000244140625, 2.803800106048584, 2.737499952316284, 2.723400115966797, 2.7158000469207764, 2.7144999504089355, 2.7109999656677246, 2.702199935913086, 2.6310999393463135, 2.627500057220459, 2.61680006980896, 2.6161000728607178, 2.5968000888824463, 2.587899923324585, 2.585099935531616, 2.5815999507904053, 2.579400062561035, 2.5399999618530273, 2.530400037765503, 2.5253000259399414, 2.5208001136779785, 2.5139000415802, 2.486599922180176, 2.4851999282836914, 2.483799934387207, 2.4576001167297363, 2.411900043487549, 2.2897000312805176, 2.40120005607605, 2.331899881362915, 2.411799907684326, 2.2887001037597656, 2.3299999237060547, 2.1830999851226807, 2.198499917984009, 1.8166999816894531, 2.3380000591278076, 1.4175000190734863, 0.7116000056266785, 2.09689998626709, 1.1266000270843506, 0.7092999815940857, 1.801900029182434, 0.8666999936103821, 0.7753000259399414, 0.8485999703407288, 0.4968999922275543, 0.05130000039935112, 0.7820000052452087, 1.1575000286102295, -0.25220000743865967, -0.20999999344348907, 0.881600022315979, -0.2303999960422516, 0.04820000007748604, 0.7081999778747559, 0.38600000739097595, 0.021700000390410423, 3.40910005569458, 2.8826000690460205, 2.790600061416626, 2.7869999408721924, 2.7616000175476074, 2.6572999954223633, 2.640000104904175, 2.6243999004364014, 2.6122000217437744, 2.5957000255584717, 2.594399929046631, 2.5762999057769775, 2.539799928665161, 2.5016000270843506, 2.4798998832702637, 2.467099905014038, 2.4667999744415283, 2.3814001083374023, 2.364799976348877, 2.342900037765503, 2.3138999938964844, 2.2983999252319336, 2.297499895095825, 2.2860000133514404, 2.2772998809814453, 2.260999917984009, 2.2492001056671143, 2.247299909591675, 2.2414000034332275, 2.2332000732421875, 2.2177000045776367, 2.2218000888824463, 2.100800037384033, 2.0597000122070312, 1.7122000455856323, 1.9667999744415283, 1.513700008392334, 1.485200047492981, 1.4537999629974365, 1.107800006866455, 1.319599986076355, 1.3883999586105347, 1.1246999502182007, 1.2098000049591064, 0.8373000025749207, 1.5189000368118286, 1.3163000345230103, 1.3056000471115112, 0.746399998664856, 1.7506999969482422, 0.9703999757766724, 1.1685999631881714, 0.847000002861023, 1.2704999446868896, 0.6489999890327454, 1.0753999948501587, 0.49729999899864197, 0.1655000001192093, 0.7020999789237976, 0.41940000653266907, 0.31369999051094055, 0.6980000138282776, 0.5271000266075134, 0.439300000667572, 3.057499885559082, 2.8252999782562256, 2.7218000888824463, 2.696899890899658, 2.6642000675201416, 2.6194000244140625, 2.6145999431610107, 2.585900068283081, 2.559799909591675, 2.5459001064300537, 2.4944000244140625, 2.490600109100342, 2.485300064086914, 2.4691998958587646, 2.459199905395508, 2.453700065612793, 2.413800001144409, 2.3982999324798584, 2.350800037384033, 2.344099998474121, 2.343899965286255, 2.333899974822998, 2.325500011444092, 2.3243000507354736, 2.3073999881744385, 2.304500102996826, 2.301100015640259, 2.28410005569458, 2.2802999019622803, 2.244800090789795, 2.2392001152038574, 2.0804998874664307, 1.9459999799728394, 2.2116000652313232, 1.9163999557495117, 1.7842999696731567, 1.8588999509811401, 1.5788999795913696, 1.768399953842163, 1.8436000347137451, 1.8990000486373901, 1.0931999683380127, 0.9391000270843506, 1.9053000211715698, 1.495300054550171, 1.7384999990463257, 1.083299994468689, 2.0641000270843506, 0.978600025177002, 0.505299985408783, 1.292199969291687, 0.5530999898910522, 0.8903999924659729, 0.44130000472068787, 1.4919999837875366, 0.6428999900817871, 0.4512999951839447, 0.08900000154972076, 1.2584999799728394, 0.6370000243186951, 0.7864000201225281, 0.31060001254081726, 0.21930000185966492, 0.5001000165939331, 0.4462999999523163, 0.0478999987244606, 0.5627999901771545, 0.33799999952316284, -0.26089999079704285, 0.6700000166893005, 0.5034000277519226, -0.37709999084472656, 0.23420000076293945, 0.13699999451637268, 3.824199914932251, 3.520400047302246, 3.4707999229431152, 3.4514000415802, 3.4391000270843506, 3.4017999172210693, 3.286400079727173, 3.086699962615967, 3.0617001056671143, 2.953900098800659, 2.9488000869750977, 2.937999963760376, 2.901599884033203, 2.8956000804901123, 2.853100061416626, 2.832200050354004, 2.829400062561035, 2.8122000694274902, 2.7853000164031982, 2.7488999366760254, 2.738100051879883, 2.7242000102996826, 2.708400011062622, 2.7081000804901123, 2.7077999114990234, 2.6668999195098877, 2.6668999195098877, 2.6647000312805176, 2.658400058746338, 2.6552999019622803, 2.6314001083374023, 2.6407999992370605, 2.6050000190734863, 2.5234999656677246, 2.500499963760376, 2.518899917602539, 2.386199951171875, 2.0761001110076904, 1.942199945449829, 2.468400001525879, 2.1433000564575195, 2.0053999423980713, 1.8638999462127686, 2.240499973297119, 1.9831000566482544, 2.34689998626709, 2.0880000591278076, 1.6886999607086182, 0.358599990606308, 1.5470000505447388, 1.0289000272750854, 1.2695000171661377, 0.7113999724388123, 0.4503999948501587, 0.642300009727478, 0.45260000228881836, -0.29919999837875366, -0.3880000114440918, -0.4659999907016754, -0.08269999921321869, 0.21330000460147858, 0.35350000858306885, 0.15160000324249268, 0.15549999475479126, 3.6461000442504883, 3.4249000549316406, 3.2985000610351562, 3.1935999393463135, 3.16729998588562, 3.107300043106079, 3.0327000617980957, 3.016200065612793, 3.0155999660491943, 3.007499933242798, 2.893199920654297, 2.879499912261963, 2.8687000274658203, 2.854300022125244, 2.8452999591827393, 2.839099884033203, 2.831199884414673, 2.788100004196167, 2.7792999744415283, 2.770400047302246, 2.7664999961853027, 2.7590999603271484, 2.7581000328063965, 2.7523999214172363, 2.751800060272217, 2.7493999004364014, 2.734600067138672, 2.725600004196167, 2.7204999923706055, 2.7142999172210693, 2.6958999633789062, 2.6691999435424805, 2.622299909591675, 2.6113998889923096, 2.6149001121520996, 2.6893999576568604, 2.5910000801086426, 2.277100086212158, 2.629300117492676, 2.216900110244751, 2.200500011444092, 2.346100091934204, 2.128000020980835, 1.8603999614715576, 1.8645000457763672, 2.5346999168395996, 2.404099941253662, 2.294300079345703, 1.8588000535964966, 1.8832000494003296, 1.076799988746643, 1.113800048828125, 1.2069000005722046, 1.041200041770935, 1.46589994430542, 1.3806999921798706, 0.7694000005722046, 1.4077999591827393, 0.85589998960495, 1.5407999753952026, 0.6608999967575073, 1.017199993133545, 1.1136000156402588, -0.013799999840557575, 0.32359999418258667, 0.660099983215332, 0.5101000070571899, 1.2188999652862549, -0.2964000105857849, 0.01850000023841858, 4.0406999588012695, 3.8203999996185303, 3.412100076675415, 3.3125, 3.305799961090088, 3.2922000885009766, 3.25819993019104, 3.1791000366210938, 3.1575000286102295, 3.1340999603271484, 3.100399971008301, 3.081399917602539, 3.080899953842163, 3.0755999088287354, 3.053800106048584, 2.980799913406372, 2.9793999195098877, 2.9583001136779785, 2.9549999237060547, 2.8951001167297363, 2.8910999298095703, 2.888000011444092, 2.8197999000549316, 2.818000078201294, 2.809000015258789, 2.8039000034332275, 2.8036000728607178, 2.7995998859405518, 2.7862000465393066, 2.782399892807007, 2.7762999534606934, 2.751699924468994, 2.7102999687194824, 2.676500082015991, 2.6359000205993652, 2.588399887084961, 2.499799966812134, 2.5546998977661133, 2.3517000675201416, 1.5824999809265137, 1.9500000476837158, 2.274399995803833, 1.728700041770935, 1.6345000267028809, 1.2069000005722046, 1.7925000190734863, 1.6943000555038452, 0.9297999739646912, 1.6550999879837036, 1.7940000295639038, 2.15910005569458, 1.872499942779541, 2.2507998943328857, 2.0416998863220215, 0.7786999940872192, 0.7348999977111816, 0.41830000281333923, 0.6955000162124634, 1.1653000116348267, 0.8339999914169312, 0.4537999927997589, 0.273499995470047, 0.9854999780654907, 0.4390000104904175, -0.2459000051021576, 0.0649000033736229, -0.08869999647140503, 0.30880001187324524, -0.4643000066280365, 1.051200032234192, 0.7454000115394592, 0.8338000178337097, -0.14730000495910645, 0.3181999921798706, 3.692699909210205, 3.654400110244751, 3.5564000606536865, 3.3533999919891357, 3.3206000328063965, 3.2946999073028564, 3.2630999088287354, 3.236999988555908, 3.218899965286255, 3.1956000328063965, 3.1582999229431152, 3.1389000415802, 3.1224000453948975, 3.097399950027466, 3.0885000228881836, 3.085200071334839, 3.0820000171661377, 3.0820000171661377, 3.0371999740600586, 3.0364999771118164, 3.004499912261963, 2.9999001026153564, 2.9992001056671143, 2.9240000247955322, 2.9059998989105225, 2.8687000274658203, 2.8668999671936035, 2.8608999252319336, 2.854300022125244, 2.853600025177002, 2.8531999588012695, 2.8503000736236572, 2.8178999423980713, 2.737600088119507, 2.563999891281128, 2.1631999015808105, 2.664799928665161, 2.539099931716919, 1.4962999820709229, 1.2070000171661377, 2.2084999084472656, 1.1836999654769897, 2.5018999576568604, 2.2906999588012695, 0.6151000261306763, 1.1194000244140625, 1.3025000095367432, 0.3824000060558319, 1.388100028038025, 0.6111000180244446, 0.8241000175476074, 0.19499999284744263, 0.4799000024795532, 0.734499990940094, 0.5771999955177307, 0.7648000121116638, 1.207800030708313, 1.2135000228881836, 1.2963999509811401, 0.9190999865531921, -0.1695999950170517, 0.8001000285148621, -0.5016999840736389, 4.598100185394287, 4.114099979400635, 4.059199810028076, 3.987600088119507, 3.9017999172210693, 3.846299886703491, 3.7934000492095947, 3.7516000270843506, 3.700900077819824, 3.6740000247955322, 3.6194000244140625, 3.6059999465942383, 3.605600118637085, 3.603600025177002, 3.5998001098632812, 3.5910000801086426, 3.586199998855591, 3.560800075531006, 3.5562000274658203, 3.526700019836426, 3.512500047683716, 3.508500099182129, 3.5058999061584473, 3.4767000675201416, 3.454900026321411, 3.4363999366760254, 3.424099922180176, 3.414299964904785, 3.412600040435791, 3.411600112915039, 2.9609999656677246, 2.923799991607666, 3.209199905395508, 3.0613999366760254, 2.7471001148223877, 2.8183000087738037, 3.0483999252319336, 2.7058000564575195, 2.979300022125244, 1.9479000568389893, 2.7832999229431152, 1.3980000019073486, 3.148200035095215, 1.2323999404907227, 1.5808000564575195, 2.342600107192993, 1.12909996509552, 0.8669000267982483, 1.0348999500274658, 0.5665000081062317, 0.4837999939918518, 0.012600000016391277, -0.1354999989271164, 1.1292999982833862, 1.0351999998092651, 0.23729999363422394, 0.288100004196167, 1.3708000183105469, 0.9093999862670898, -0.08449999988079071, 0.9646000266075134, 0.43880000710487366], \"logprob\": [30.0, 29.0, 28.0, 27.0, 26.0, 25.0, 24.0, 23.0, 22.0, 21.0, 20.0, 19.0, 18.0, 17.0, 16.0, 15.0, 14.0, 13.0, 12.0, 11.0, 10.0, 9.0, 8.0, 7.0, 6.0, 5.0, 4.0, 3.0, 2.0, 1.0, -6.414299964904785, -6.834400177001953, -8.069999694824219, -8.044500350952148, -7.985000133514404, -8.597000122070312, -8.493200302124023, -8.547599792480469, -8.449000358581543, -8.722399711608887, -8.790300369262695, -8.554200172424316, -8.73169994354248, -8.73169994354248, -6.741099834442139, -8.56190013885498, -8.732999801635742, -8.734800338745117, -9.027600288391113, -8.139399528503418, -9.031100273132324, -8.950799942016602, -9.031100273132324, -8.806699752807617, -9.03339958190918, -7.776899814605713, -9.035099983215332, -8.340700149536133, -9.03689956665039, -8.883600234985352, -6.909299850463867, -5.64769983291626, -7.431600093841553, -8.102700233459473, -7.784200191497803, -8.354999542236328, -7.059000015258789, -8.114899635314941, -7.27370023727417, -7.7484002113342285, -7.047699928283691, -6.387899875640869, -7.778299808502197, -6.272900104522705, -7.150400161743164, -6.670899868011475, -7.80679988861084, -5.49459981918335, -6.478600025177002, -7.513700008392334, -6.843699932098389, -6.645299911499023, -7.559100151062012, -6.981500148773193, -5.795400142669678, -5.0071001052856445, -7.119500160217285, -6.884300231933594, -5.687699794769287, -5.813499927520752, -5.755799770355225, -6.473800182342529, -5.696599960327148, -6.423399925231934, -6.500699996948242, -5.7600998878479, -6.112800121307373, -5.363800048828125, -5.663599967956543, -5.645199775695801, -6.12470006942749, -5.54449987411499, -5.782899856567383, -5.522200107574463, -5.8491997718811035, -5.751500129699707, -5.941999912261963, -6.1442999839782715, -5.531499862670898, -5.808899879455566, -5.978000164031982, -5.993000030517578, -5.857100009918213, -5.865499973297119, -5.801000118255615, -6.056099891662598, -6.017300128936768, -6.021200180053711, -6.073800086975098, -6.0920000076293945, -5.632199764251709, -5.509099960327148, -5.061999797821045, -6.225500106811523, -5.012899875640869, -6.486999988555908, -4.758999824523926, -6.73360013961792, -6.210299968719482, -4.324399948120117, -7.110099792480469, -7.111400127410889, -5.928500175476074, -6.8927001953125, -7.339600086212158, -7.310200214385986, -5.6230998039245605, -6.819399833679199, -7.593100070953369, -6.332499980926514, -7.560200214385986, -7.600200176239014, -7.087699890136719, -6.508699893951416, -8.132599830627441, -6.588600158691406, -7.234000205993652, -7.557499885559082, -8.38010025024414, -8.169500350952148, -7.2967000007629395, -6.301000118255615, -7.011199951171875, -5.196400165557861, -5.556000232696533, -5.049900054931641, -6.234300136566162, -5.415299892425537, -6.228099822998047, -6.355899810791016, -5.242400169372559, -6.593699932098389, -5.7829999923706055, -5.042799949645996, -5.083799839019775, -5.604100227355957, -5.242099761962891, -5.592800140380859, -5.737500190734863, -5.478400230407715, -5.538700103759766, -5.803299903869629, -5.774799823760986, -5.612100124359131, -5.67579984664917, -5.711999893188477, -5.822700023651123, -5.951700210571289, -6.001299858093262, -5.86359977722168, -5.920100212097168, -5.921199798583984, -4.495800018310547, -6.846399784088135, -4.811600208282471, -4.031700134277344, -7.860499858856201, -6.888400077819824, -8.317700386047363, -7.76170015335083, -5.060100078582764, -5.782800197601318, -4.862400054931641, -6.742199897766113, -6.444799900054932, -7.2032999992370605, -5.764400005340576, -6.0071001052856445, -5.437900066375732, -4.79640007019043, -7.267600059509277, -7.582200050354004, -7.446300029754639, -6.4664998054504395, -8.041999816894531, -8.446599960327148, -6.69290018081665, -6.826700210571289, -5.47189998626709, -7.819399833679199, -7.454699993133545, -8.093000411987305, -7.535299777984619, -6.5177998542785645, -6.251200199127197, -5.515500068664551, -5.2891998291015625, -7.123199939727783, -4.889900207519531, -4.404200077056885, -6.605000019073486, -5.553899765014648, -4.883399963378906, -5.241700172424316, -5.573999881744385, -5.485499858856201, -5.057499885559082, -5.32420015335083, -5.61959981918335, -5.381499767303467, -5.614799976348877, -5.603300094604492, -5.396599769592285, -5.5192999839782715, -5.901800155639648, -5.657700061798096, -5.562099933624268, -5.6545000076293945, -5.777400016784668, -5.994200229644775, -7.896100044250488, -6.022799968719482, -7.044300079345703, -4.999199867248535, -5.093599796295166, -6.192500114440918, -5.666399955749512, -7.784800052642822, -6.482600212097168, -8.137200355529785, -5.453499794006348, -7.6519999504089355, -7.214799880981445, -5.844299793243408, -7.640200138092041, -7.30049991607666, -6.914700031280518, -6.958499908447266, -7.8653998374938965, -8.050299644470215, -8.394399642944336, -7.978799819946289, -7.607100009918213, -8.186599731445312, -8.34630012512207, -7.86329984664917, -7.783400058746338, -8.20580005645752, -7.633600234985352, -7.560800075531006, -7.304100036621094, -4.992199897766113, -7.246099948883057, -5.5995001792907715, -6.834099769592285, -5.970099925994873, -6.944200038909912, -6.969600200653076, -5.669899940490723, -6.158299922943115, -6.566100120544434, -5.160799980163574, -5.833700180053711, -4.927299976348877, -6.395999908447266, -5.583899974822998, -6.131100177764893, -5.583000183105469, -5.361599922180176, -5.5792999267578125, -5.719799995422363, -5.67080020904541, -5.817200183868408, -5.937399864196777, -5.442200183868408, -5.320400238037109, -5.984300136566162, -5.648200035095215, -5.547399997711182, -5.73360013961792, -5.735499858856201, -5.54580020904541, -5.82480001449585, -5.879799842834473, -5.870299816131592, -5.843699932098389, -5.912399768829346, -5.521999835968018, -6.572199821472168, -7.01800012588501, -4.5644001960754395, -6.96750020980835, -7.103899955749512, -7.238699913024902, -5.543900012969971, -3.730799913406372, -7.186100006103516, -4.639500141143799, -6.838799953460693, -6.552700042724609, -7.436200141906738, -7.470200061798096, -5.5970001220703125, -3.7348999977111816, -6.842700004577637, -5.338200092315674, -4.821700096130371, -6.925300121307373, -7.939899921417236, -7.826499938964844, -8.196599960327148, -7.876800060272217, -8.135600090026855, -7.035799980163574, -8.321599960327148, -7.6296000480651855, -6.275899887084961, -7.3815999031066895, -5.150199890136719, -4.616300106048584, -7.342599868774414, -5.714700222015381, -6.250100135803223, -5.0432000160217285, -5.622399806976318, -5.141499996185303, -6.2846999168396, -5.357999801635742, -5.246200084686279, -5.016499996185303, -5.285200119018555, -5.402599811553955, -5.50029993057251, -5.132599830627441, -5.420899868011475, -5.362500190734863, -5.634799957275391, -5.709499835968018, -6.02239990234375, -5.401899814605713, -5.562099933624268, -5.684999942779541, -5.642499923706055, -5.5777997970581055, -5.688499927520752, -7.057700157165527, -6.488500118255615, -5.998300075531006, -7.029900074005127, -6.446400165557861, -5.8520002365112305, -7.508800029754639, -7.883600234985352, -7.646500110626221, -6.337200164794922, -6.845200061798096, -7.615099906921387, -7.7870001792907715, -5.950900077819824, -6.231400012969971, -7.601900100708008, -7.775899887084961, -5.8933000564575195, -7.162099838256836, -5.659999847412109, -7.438600063323975, -8.019499778747559, -5.927299976348877, -7.78849983215332, -7.299699783325195, -7.486400127410889, -7.3927001953125, -7.296800136566162, -6.188899993896484, -7.1774001121521, -6.314199924468994, -5.839600086212158, -6.861800193786621, -7.223700046539307, -5.469299793243408, -7.105999946594238, -5.985300064086914, -5.381499767303467, -5.732100009918213, -6.053899765014648, -6.4934000968933105, -5.759099960327148, -5.714700222015381, -6.962800025939941, -5.2342000007629395, -5.966800212860107, -6.185299873352051, -6.242700099945068, -6.617099761962891, -6.052700042724609, -4.988699913024902, -5.707900047302246, -5.926599979400635, -5.884799957275391, -5.273900032043457, -5.638700008392334, -5.528500080108643, -5.5304999351501465, -5.615200042724609, -5.570199966430664, -5.8003997802734375, -5.785900115966797, -5.905099868774414, -5.8277997970581055, -5.8765997886657715, -5.939599990844727, -5.951700210571289, -5.958899974822998, -5.7519001960754395, -4.945000171661377, -5.856900215148926, -4.167600154876709, -7.182700157165527, -6.42710018157959, -7.514200210571289, -6.7118000984191895, -7.515200138092041, -5.7891998291015625, -7.816400051116943, -7.538899898529053, -7.3597002029418945, -7.853000164031982, -4.505799770355225, -8.104299545288086, -6.616000175476074, -7.2600998878479, -6.823800086975098, -7.748700141906738, -5.634200096130371, -8.056599617004395, -8.072600364685059, -7.191999912261963, -5.1072998046875, -7.8403000831604, -4.115900039672852, -7.914899826049805, -7.933199882507324, -7.803199768066406, -5.942999839782715, -6.061299800872803, -6.468599796295166, -7.240099906921387, -7.308899879455566, -6.821300029754639, -5.443399906158447, -5.411099910736084, -4.875800132751465, -5.8917999267578125, -5.037899971008301, -5.749199867248535, -5.984099864959717, -6.38100004196167, -6.167900085449219, -6.068600177764893, -6.494999885559082, -4.89139986038208, -6.0559000968933105, -5.445099830627441, -5.292799949645996, -5.270299911499023, -5.519800186157227, -5.16379976272583, -5.534200191497803, -5.221499919891357, -5.808599948883057, -5.5019001960754395, -5.807000160217285, -5.674699783325195, -5.685100078582764, -5.59499979019165, -5.6834001541137695, -5.671999931335449, -5.7941999435424805, -5.806099891662598, -4.877600193023682, -4.40310001373291, -6.346099853515625, -6.464099884033203, -5.440899848937988, -5.172599792480469, -6.795899868011475, -7.038599967956543, -6.291200160980225, -5.920499801635742, -7.313600063323975, -6.581600189208984, -7.39870023727417, -7.08519983291626, -4.23799991607666, -7.174799919128418, -7.2769999504089355, -6.833799839019775, -7.220300197601318, -7.591300010681152, -7.287700176239014, -6.6168999671936035, -5.300600051879883, -6.099100112915039, -7.450099945068359, -7.0680999755859375, -7.666299819946289, -7.585000038146973, -7.593999862670898, -7.445899963378906, -5.348999977111816, -6.345900058746338, -6.457099914550781, -5.829899787902832, -5.377799987792969, -4.852799892425537, -5.943900108337402, -6.138700008392334, -6.579599857330322, -6.265600204467773, -6.418399810791016, -6.135200023651123, -6.217700004577637, -5.705399990081787, -6.530200004577637, -5.576099872589111, -5.298500061035156, -6.351600170135498, -5.680099964141846, -5.424499988555908, -6.156400203704834, -5.705599784851074, -5.6875, -5.721799850463867, -5.605000019073486, -5.4695000648498535, -5.734499931335449, -5.8942999839782715, -5.54640007019043, -5.5756001472473145, -5.839700222015381, -5.613699913024902, -5.730899810791016, -5.86870002746582, -5.876299858093262, -5.881100177764893, -6.062900066375732, -7.335700035095215, -7.032199859619141, -7.2494001388549805, -6.015699863433838, -3.0766000747680664, -6.619200229644775, -7.482600212097168, -7.168799877166748, -7.3780999183654785, -6.059899806976318, -7.448500156402588, -7.116099834442139, -3.6740000247955322, -7.400400161743164, -5.960400104522705, -6.513800144195557, -7.4029998779296875, -7.749000072479248, -7.618800163269043, -7.18120002746582, -6.7845001220703125, -6.775300025939941, -6.380099773406982, -7.09630012512207, -5.5731000900268555, -7.640900135040283, -7.671199798583984, -7.86899995803833, -7.464000225067139, -6.163300037384033, -7.00540018081665, -5.785399913787842, -6.037300109863281, -4.024400234222412, -5.479100227355957, -4.702600002288818, -4.7052998542785645, -4.780300140380859, -4.119699954986572, -4.846799850463867, -5.160200119018555, -4.713500022888184, -4.934800148010254, -4.456900119781494, -5.5416998863220215, -5.305699825286865, -5.32480001449585, -4.63700008392334, -6.026800155639648, -5.168499946594238, -5.4475998878479, -5.217400074005127, -5.66510009765625, -5.250500202178955, -5.539999961853027, -5.238699913024902, -5.200099945068359, -5.423399925231934, -5.392099857330322, -5.402200222015381, -5.607600212097168, -5.592899799346924, -5.598999977111816, -6.695099830627441, -6.545899868011475, -7.270400047302246, -7.3597002029418945, -7.165599822998047, -7.038899898529053, -7.074100017547607, -7.480100154876709, -7.570199966430664, -7.0391998291015625, -7.48330020904541, -7.566999912261963, -6.994800090789795, -7.315499782562256, -7.495800018310547, -7.38700008392334, -7.640500068664551, -7.429999828338623, -7.368000030517578, -7.883800029754639, -7.700300216674805, -7.571400165557861, -7.8856000900268555, -7.902599811553955, -7.491199970245361, -7.7393999099731445, -7.907400131225586, -7.486599922180176, -6.856400012969971, -7.594699859619141, -6.902900218963623, -6.020599842071533, -5.224599838256836, -7.108699798583984, -5.192500114440918, -4.722400188446045, -5.5472002029418945, -5.270500183105469, -5.980800151824951, -6.324999809265137, -6.506700038909912, -4.80620002746582, -4.872300148010254, -6.640900135040283, -6.006199836730957, -6.401800155639648, -5.532800197601318, -6.9131999015808105, -5.643400192260742, -5.091100215911865, -6.013599872589111, -5.1828999519348145, -5.626100063323975, -5.311699867248535, -6.252099990844727, -5.537300109863281, -5.386899948120117, -5.294400215148926, -6.119900226593018, -5.6981000900268555, -5.828999996185303, -5.537399768829346, -5.517300128936768, -5.690499782562256, -5.673699855804443, -5.472899913787842, -5.757999897003174, -5.6859002113342285, -5.488399982452393, -5.816199779510498, -5.801300048828125, -5.67140007019043, -5.804100036621094, -5.797500133514404, -4.134099960327148, -6.433199882507324, -6.395199775695801, -6.352499961853027, -5.833099842071533, -4.877500057220459, -6.59060001373291, -7.060999870300293, -6.796599864959717, -5.996200084686279, -7.032100200653076, -5.510499954223633, -6.578199863433838, -7.322700023651123, -7.196199893951416, -6.946700096130371, -7.296299934387207, -5.023399829864502, -7.275400161743164, -7.387800216674805, -7.478799819946289, -6.436500072479248, -7.414999961853027, -6.721499919891357, -7.386600017547607, -7.065800189971924, -7.150700092315674, -7.312900066375732, -6.701399803161621, -6.232500076293945, -6.19980001449585, -6.702000141143799, -6.359300136566162, -5.791800022125244, -5.624300003051758, -5.799499988555908, -5.507299900054932, -4.872900009155273, -4.625800132751465, -6.28000020980835, -5.742400169372559, -5.687399864196777, -5.658299922943115, -6.175600051879883, -5.927700042724609, -6.377500057220459, -6.257199764251709, -5.990799903869629, -5.162199974060059, -5.946400165557861, -5.686200141906738, -5.873000144958496, -5.682400226593018, -5.617400169372559, -5.704599857330322, -5.752799987792969, -5.66480016708374, -5.771399974822998, -5.760200023651123, -5.8358001708984375, -5.888599872589111, -5.9197001457214355, -5.912700176239014, -5.939799785614014, -4.340199947357178, -5.759699821472168, -4.359899997711182, -6.77839994430542, -6.314199924468994, -5.46589994430542, -6.796000003814697, -6.702899932861328, -6.7972002029418945, -6.69920015335083, -6.933800220489502, -7.175300121307373, -7.114999771118164, -7.362599849700928, -7.357600212097168, -7.360599994659424, -6.299200057983398, -7.436299800872803, -6.875500202178955, -7.370100021362305, -7.361599922180176, -7.363800048828125, -7.358699798583984, -7.361400127410889, -7.359000205993652, -5.594299793243408, -7.3597002029418945, -7.417699813842773, -6.697500228881836, -6.127399921417236, -6.0295000076293945, -5.4710001945495605, -5.617300033569336, -5.800300121307373, -5.943999767303467, -6.785799980163574, -6.014200210571289, -4.7652997970581055, -6.708199977874756, -5.199999809265137, -5.143099784851074, -5.715000152587891, -5.177800178527832, -4.474699974060059, -4.947999954223633, -6.429699897766113, -6.190199851989746, -6.020999908447266, -5.378499984741211, -5.661200046539307, -4.822700023651123, -4.950500011444092, -5.1570000648498535, -5.103400230407715, -5.4644999504089355, -5.42609977722168, -5.042099952697754, -5.5278000831604, -5.264100074768066, -5.655099868774414, -5.4070000648498535, -5.5177001953125, -5.563499927520752, -5.308000087738037, -5.429500102996826, -5.520100116729736, -5.513800144195557, -5.605500221252441, -5.523900032043457, -5.577899932861328, -5.009399890899658, -6.269800186157227, -6.756499767303467, -6.7519001960754395, -6.927800178527832, -6.780200004577637, -6.746300220489502, -6.775899887084961, -6.977399826049805, -6.776800155639648, -6.469699859619141, -6.368500232696533, -6.775700092315674, -6.71019983291626, -6.776000022888184, -6.42140007019043, -6.786300182342529, -7.102499961853027, -6.335999965667725, -6.459400177001953, -6.773200035095215, -6.7758002281188965, -7.404600143432617, -7.392899990081787, -7.407599925994873, -7.402400016784668, -7.417300224304199, -7.410600185394287, -7.4197998046875, -6.9355998039245605, -5.692299842834473, -6.4268999099731445, -6.797100067138672, -6.758399963378906, -6.600800037384033, -6.404300212860107, -6.073400020599365, -6.440999984741211, -5.963600158691406, -4.643199920654297, -5.5472002029418945, -6.066400051116943, -5.456200122833252, -5.383999824523926, -4.987599849700928, -5.611400127410889, -5.5432000160217285, -5.105899810791016, -5.702000141143799, -5.8155999183654785, -6.087600231170654, -5.8846001625061035, -6.169600009918213, -6.0833001136779785, -5.396999835968018, -5.4096999168396, -5.318299770355225, -5.5208001136779785, -5.770299911499023, -5.713500022888184, -5.601500034332275, -5.5746002197265625, -5.825099945068359, -5.690199851989746, -5.54010009765625, -5.6880998611450195, -5.685100078582764, -5.764699935913086, -5.691800117492676, -5.892600059509277, -5.871099948883057, -5.877399921417236, -5.8632001876831055, -5.872399806976318, -5.196400165557861, -5.101099967956543, -4.816299915313721, -6.70419979095459, -5.1265997886657715, -6.692699909210205, -6.487199783325195, -6.922699928283691, -6.096799850463867, -5.82859992980957, -6.747799873352051, -5.025000095367432, -6.686699867248535, -6.691800117492676, -6.685800075531006, -5.841800212860107, -6.293300151824951, -5.342899799346924, -6.67609977722168, -6.687699794769287, -6.723199844360352, -6.2870001792907715, -6.320000171661377, -6.224800109863281, -5.570700168609619, -7.342599868774414, -6.687699794769287, -7.351600170135498, -7.352399826049805, -7.350399971008301, -6.945400238037109, -6.725800037384033, -6.003799915313721, -6.316199779510498, -5.628699779510498, -4.343599796295166, -6.222799777984619, -5.986999988555908, -4.282800197601318, -4.692500114440918, -5.892600059509277, -4.9918999671936035, -6.1641998291015625, -6.014500141143799, -4.750500202178955, -5.274400234222412, -5.435800075531006, -4.911799907684326, -5.588500022888184, -5.200300216674805, -5.366499900817871, -5.188399791717529, -5.368199825286865, -5.499599933624268, -5.490699768066406, -5.570300102233887, -5.702099800109863, -5.771500110626221, -5.7932000160217285, -5.757999897003174, -5.690400123596191, -5.7677998542785645, -5.7291998863220215, -5.451900005340576, -5.970399856567383, -5.972599983215332, -5.970900058746338, -5.9710001945495605, -5.968999862670898, -6.1890997886657715, -5.9730000495910645, -5.972499847412109, -5.575900077819824, -6.633399963378906, -6.635200023651123, -6.631499767303467, -6.633600234985352, -5.9720001220703125, -6.630300045013428, -6.633600234985352, -5.573999881744385, -5.976600170135498, -6.633900165557861, -6.632699966430664, -6.625800132751465, -5.971099853515625, -6.66379976272583, -4.895400047302246, -6.633500099182129, -6.630799770355225, -6.636899948120117, -6.632900238037109, -6.634799957275391, -4.775300025939941, -4.7393999099731445, -5.96999979019165, -5.592899799346924, -5.058800220489502, -5.576600074768066, -5.969900131225586, -5.573699951171875, -5.971099853515625, -4.887899875640869, -5.965700149536133, -4.96589994430542, -6.286399841308594, -5.161399841308594, -5.561699867248535, -5.96120023727417, -5.547900199890137, -5.485000133514404, -5.539000034332275, -5.535399913787842, -5.540800094604492, -5.5081000328063965, -5.501100063323975, -5.683199882507324, -5.798399925231934, -5.827000141143799, -5.850800037384033, -5.886199951171875, -5.8821001052856445, -5.86359977722168, -5.8871002197265625, -5.892300128936768]}, \"token.table\": {\"Topic\": [3, 9, 10, 12, 1, 3, 4, 5, 6, 7, 11, 14, 1, 2, 3, 5, 8, 10, 14, 1, 2, 3, 4, 5, 6, 8, 9, 13, 14, 1, 2, 4, 6, 11, 1, 2, 3, 4, 5, 7, 12, 1, 3, 4, 6, 9, 11, 1, 2, 3, 4, 5, 6, 7, 9, 10, 11, 12, 13, 14, 1, 4, 11, 1, 2, 3, 15, 1, 2, 3, 4, 5, 6, 7, 8, 9, 10, 11, 14, 1, 3, 4, 10, 2, 5, 11, 1, 4, 6, 8, 2, 3, 4, 6, 7, 12, 1, 2, 4, 5, 9, 1, 3, 4, 10, 1, 3, 4, 6, 10, 1, 4, 6, 15, 1, 3, 4, 5, 6, 7, 8, 10, 11, 15, 1, 2, 3, 4, 5, 6, 7, 8, 9, 10, 11, 12, 13, 15, 1, 2, 7, 1, 2, 3, 6, 7, 13, 2, 3, 5, 7, 10, 12, 1, 2, 3, 13, 1, 2, 3, 4, 5, 7, 10, 12, 13, 1, 2, 3, 4, 6, 7, 8, 9, 10, 1, 3, 7, 8, 13, 1, 2, 3, 4, 5, 6, 7, 8, 9, 10, 11, 12, 13, 14, 2, 3, 4, 12, 1, 4, 7, 10, 1, 3, 10, 2, 5, 7, 1, 3, 6, 7, 10, 14, 15, 1, 4, 6, 10, 3, 4, 9, 10, 1, 1, 5, 6, 7, 10, 1, 4, 6, 8, 11, 14, 1, 2, 3, 4, 5, 6, 7, 8, 9, 10, 11, 13, 14, 15, 2, 4, 10, 13, 1, 11, 4, 6, 1, 2, 9, 13, 5, 1, 4, 9, 10, 1, 3, 4, 5, 7, 8, 1, 2, 3, 4, 5, 6, 7, 8, 9, 10, 11, 12, 13, 14, 15, 1, 4, 6, 8, 11, 2, 3, 7, 9, 1, 4, 6, 15, 1, 3, 4, 6, 7, 8, 10, 11, 12, 14, 1, 2, 3, 4, 5, 6, 7, 9, 10, 11, 12, 13, 14, 1, 6, 8, 11, 1, 2, 5, 10, 2, 1, 4, 6, 8, 11, 1, 2, 5, 7, 13, 1, 2, 3, 4, 5, 6, 7, 9, 10, 1, 4, 6, 8, 2, 4, 6, 1, 2, 3, 4, 5, 6, 7, 9, 10, 12, 13, 1, 2, 3, 4, 5, 6, 7, 8, 9, 10, 11, 15, 3, 4, 6, 1, 3, 4, 6, 10, 15, 1, 2, 3, 5, 7, 12, 1, 2, 3, 4, 5, 6, 7, 8, 9, 10, 11, 12, 14, 15, 3, 9, 15, 3, 9, 1, 2, 3, 4, 5, 7, 11, 14, 2, 3, 8, 11, 1, 4, 6, 8, 11, 1, 4, 6, 15, 2, 9, 13, 1, 4, 6, 8, 11, 6, 8, 11, 2, 5, 7, 13, 1, 2, 3, 6, 15, 1, 2, 3, 4, 5, 6, 7, 8, 9, 10, 11, 12, 3, 9, 10, 14, 1, 4, 1, 4, 6, 8, 11, 5, 1, 2, 3, 4, 5, 6, 7, 8, 9, 10, 11, 12, 14, 3, 9, 10, 14, 3, 9, 14, 2, 13, 1, 2, 3, 4, 5, 6, 7, 9, 13, 5, 13, 1, 2, 3, 4, 5, 6, 7, 8, 9, 10, 11, 12, 14, 1, 2, 3, 4, 5, 6, 7, 8, 9, 10, 11, 12, 14, 1, 2, 3, 4, 5, 10, 12, 1, 2, 3, 4, 5, 6, 7, 8, 9, 10, 11, 12, 13, 14, 1, 4, 6, 8, 11, 1, 3, 4, 9, 13, 1, 6, 8, 2, 5, 10, 1, 2, 3, 7, 8, 1, 2, 3, 4, 7, 8, 14, 1, 3, 4, 6, 1, 2, 3, 4, 6, 11, 13, 1, 2, 3, 6, 7, 13, 3, 10, 1, 2, 3, 4, 5, 6, 7, 8, 9, 10, 11, 12, 13, 14, 1, 3, 5, 8, 1, 4, 6, 8, 11, 1, 2, 3, 5, 7, 13, 1, 2, 10, 15, 1, 4, 6, 14, 4, 6, 14, 1, 2, 3, 5, 7, 13, 1, 4, 6, 8, 1, 2, 3, 5, 6, 7, 9, 11, 13, 14, 1, 2, 3, 4, 5, 6, 7, 8, 9, 10, 11, 13, 14, 1, 2, 6, 14, 1, 4, 9, 10, 1, 11, 1, 2, 3, 4, 5, 6, 8, 10, 11, 14, 1, 2, 3, 4, 9, 10, 14, 1, 2, 4, 6, 8, 11, 1, 4, 15, 1, 4, 6, 11, 15, 1, 3, 4, 6, 1, 1, 2, 3, 4, 5, 6, 7, 8, 10, 14, 1, 2, 3, 4, 5, 6, 7, 8, 9, 14, 1, 2, 3, 4, 6, 7, 11, 14, 1, 2, 3, 4, 7, 9, 11, 14, 2, 3, 7, 10, 1, 2, 3, 4, 5, 6, 8, 10, 11, 14, 1, 4, 10, 12, 1, 2, 5, 7, 11, 12, 13, 5, 7, 1, 2, 3, 7, 8, 10, 1, 2, 3, 4, 5, 6, 7, 11, 12, 1, 4, 1, 2, 3, 4, 5, 6, 7, 8, 9, 10, 11, 12, 13, 14, 1, 3, 9, 1, 2, 3, 4, 5, 6, 7, 8, 9, 10, 11, 12, 13, 14, 1, 3, 10, 1, 2, 3, 14, 2, 3, 5, 6, 13, 5, 7, 13, 1, 6, 8, 11, 1, 2, 2, 5, 7, 1, 2, 9, 12, 1, 2, 3, 4, 6, 9, 10, 11, 1, 3, 4, 8, 11, 12, 1, 6, 11, 1, 4, 6, 8, 11, 1, 2, 3, 4, 5, 7, 8, 9, 10, 1, 2, 3, 10, 11, 13, 1, 5, 8, 10, 11, 1, 4, 6, 8, 11, 3, 9, 1, 2, 3, 4, 6, 8, 1, 4, 6, 3, 10, 1, 2, 3, 4, 5, 6, 7, 8, 9, 10, 11, 12, 14, 1, 3, 4, 5, 6, 7, 8, 11, 1, 3, 4, 9, 14, 1, 3, 5, 9, 10, 13, 1, 2, 3, 5, 6, 7, 11, 13, 14, 1, 2, 3, 4, 5, 6, 7, 8, 10, 11, 15, 1, 2, 3, 4, 5, 10, 14, 1, 4, 6, 8, 10, 15, 1, 2, 3, 5, 7, 8, 13, 1, 4, 6, 11, 1, 4, 6, 7, 10, 1, 7, 14, 1, 2, 3, 5, 7, 8, 11, 13, 1, 2, 3, 4, 6, 7, 9, 10, 13, 1, 4, 6, 8, 11, 1, 3, 7, 9, 10, 12, 3, 9, 10, 1, 4, 6, 11, 1, 2, 3, 7, 8, 9, 10, 12, 14, 2, 3, 5, 1, 3, 4, 6, 8, 11, 14, 1, 2, 3, 5, 7, 13, 1, 2, 3, 4, 5, 6, 7, 8, 9, 11, 13, 15, 1, 3, 4, 6, 8, 10, 11, 15, 4, 6, 8, 2, 3, 5, 13, 3, 10, 1, 2, 4, 6, 8, 11, 1, 1, 2, 3, 13, 1, 4, 6, 8, 11, 1, 2, 3, 4, 5, 6, 7, 8, 11, 13, 1, 2, 3, 7, 9, 11, 12, 13, 1, 4, 6, 8, 11, 1, 4, 6, 7, 8, 11, 14, 1, 2, 3, 4, 5, 7, 8, 10, 13, 1, 2, 4, 6, 11, 14, 1, 2, 3, 4, 6, 7, 8, 10, 13, 1, 3, 5, 6, 15, 5, 7, 1, 2, 3, 5, 7, 9, 13, 1, 2, 3, 7, 1, 2, 3, 5, 7, 8, 9, 11, 14, 1, 2, 3, 4, 5, 6, 7, 8, 9, 10, 11, 13, 15, 1, 2, 3, 4, 5, 6, 7, 8, 9, 10, 11, 13, 14, 15, 1, 2, 4, 6, 9, 1, 2, 3, 4, 5, 6, 7, 8, 9, 10, 11, 13, 14, 15, 1, 2, 3, 4, 6, 9, 10, 1, 2, 3, 4, 5, 6, 7, 8, 9, 10, 11, 12, 13, 5, 7, 1, 4, 6, 8, 1, 4, 11, 1, 3, 4, 5, 15, 1, 2, 3, 4, 5, 6, 7, 8, 9, 10, 11, 12, 14, 1, 2, 3, 4, 5, 6, 8, 10, 11, 14, 1, 2, 3, 4, 5, 6, 7, 8, 9, 10, 11, 12, 13, 1, 2, 3, 4, 5, 6, 7, 8, 9, 10, 11, 12, 13, 1, 6, 8, 11, 5, 7, 1, 7, 1, 3, 4, 1, 2, 3, 4, 5, 6, 7, 9, 13, 2, 3, 7, 1, 4, 8, 11, 2, 1, 2, 3, 4, 5, 7, 8, 10, 11, 12, 13, 1, 2, 7, 12, 1, 2, 4, 6, 7, 8, 10, 1, 8, 15, 1, 2, 3, 4, 5, 7, 8, 9, 10, 13, 14, 1, 2, 6, 9, 1, 2, 3, 4, 6, 8, 9, 11, 14, 1, 2, 3, 4, 5, 6, 7, 8, 9, 10, 11, 1, 2, 3, 4, 5, 6, 10, 11, 14, 1, 2, 3, 4, 5, 6, 7, 8, 10, 11, 1, 4, 7, 10, 2, 3, 1, 4, 6, 8, 1, 4, 6, 9, 10, 1, 3, 4, 12, 1, 3, 4, 5, 6, 7, 12, 1, 2, 4, 1, 4, 6, 11, 1, 4, 5, 8, 1, 4, 6, 8, 11, 1, 2, 3, 4, 5, 6, 7, 8, 9, 11, 15, 1, 4, 10, 1, 4, 1, 2, 3, 4, 5, 6, 7, 8, 9, 11, 3, 10, 12, 14, 1, 4, 1, 2, 3, 4, 5, 6, 7, 8, 9, 10, 11, 13, 14, 15, 1, 4, 6, 8, 9, 1, 3, 4, 15, 1, 2, 5, 10, 1, 2, 3, 4, 5, 6, 7, 8, 9, 10, 11, 12, 13, 14, 15, 1, 6, 11, 1, 2, 3, 4, 9, 2, 3, 4, 7, 13, 1, 2, 3, 4, 5, 6, 7, 8, 9, 11, 13, 15, 1, 2, 3, 4, 5, 6, 7, 8, 9, 10, 11, 12, 15, 1, 2, 3, 4, 6, 9, 10, 1, 2, 3, 4, 5, 6, 7, 8, 9, 10, 11, 12, 14, 1, 9, 1, 2, 3, 6, 13, 1, 2, 3, 4, 5, 6, 7, 9, 10, 12, 13, 5, 7, 1, 2, 3, 4, 5, 7, 8, 9, 10, 12, 3, 9, 10, 12, 14, 1, 2, 3, 4, 5, 6, 7, 8, 9, 10, 11, 12, 13, 14, 1, 2, 3, 4, 5, 6, 7, 8, 9, 10, 11, 13, 14, 1, 2, 3, 4, 5, 6, 7, 8, 9, 10, 11, 12, 13, 14, 1, 2, 3, 4, 5, 6, 7, 8, 9, 10, 11, 12, 13, 15, 1, 2, 4, 6, 8, 11, 15, 1, 3, 6, 14, 1, 1, 4, 6, 9, 1, 4, 6, 9, 1, 8, 1, 3, 4, 9, 10, 12, 1, 8, 9, 2, 13, 3, 9, 10, 12, 1, 2, 3, 4, 5, 6, 7, 8, 9, 10, 11, 12, 13, 14, 15, 1, 2, 3, 4, 5, 6, 7, 8, 9, 10, 12, 13, 14, 3, 5, 6, 9, 12, 1, 2, 3, 4, 5, 6, 7, 8, 9, 10, 11, 12, 1, 2, 3, 4, 5, 6, 7, 8, 9, 10, 11, 12, 13, 14, 1, 2, 3, 4, 6, 7, 8, 9, 11, 1, 2, 1, 2, 4, 5, 8, 9, 10, 12, 14, 2, 6, 8, 1, 1, 4, 6, 8, 11, 1, 2, 4, 10, 13, 1, 4, 10, 1, 2, 3, 4, 11, 12, 1, 2, 3, 7, 12, 13, 1, 9, 1, 4, 6, 1, 2, 7, 8, 11, 2, 4, 6, 7, 11, 1, 2, 3, 10, 1, 3, 9, 3, 9, 10, 12, 14, 1, 5, 14, 1, 2, 3, 10, 12, 13, 14, 1, 2, 3, 4, 6, 7, 9, 10, 12, 1, 6, 8, 11, 14, 1, 2, 5, 7, 13, 1, 4, 8, 11, 1, 2, 3, 4, 5, 6, 7, 8, 9, 10, 11, 12, 13, 1, 2, 3, 13, 2, 2, 1, 2, 3, 9, 10, 1, 2, 3, 4, 5, 6, 7, 8, 9, 10, 11, 12, 13, 14, 2, 3, 9, 1, 15, 1, 2, 3, 4, 5, 6, 7, 8, 9, 10, 11, 12, 13, 15, 1, 3, 9, 10, 12, 1, 2, 3, 4, 5, 6, 7, 8, 9, 10, 11, 12, 13, 14, 1, 2, 3, 4, 5, 6, 7, 8, 11, 1, 2, 3, 4, 6, 8, 9, 10, 11, 14, 15, 1, 2, 3, 4, 5, 6, 7, 8, 9, 10, 11, 12, 13, 2, 4, 5, 7, 13, 1, 2, 3, 4, 5, 6, 7, 8, 9, 10, 11, 12, 14, 15, 1, 2, 3, 5, 7, 9, 13, 1, 2, 4, 5, 6, 9, 10, 1, 4, 6, 8, 11, 15, 1, 2, 3, 4, 5, 6, 7, 8, 9, 10, 11, 12, 13, 1, 2, 3, 4, 5, 6, 7, 8, 9, 10, 11, 12, 13, 14, 15, 1, 6, 8, 2, 3, 5, 1, 2, 3, 4, 6, 8, 11, 1, 3, 4, 6, 8, 11, 1, 2, 3, 4, 5, 6, 7, 8, 9, 10, 11, 12, 13, 2, 3, 4, 7, 1, 2, 3, 4, 5, 6, 7, 8, 9, 10, 11, 12, 13, 14, 1, 2, 3, 4, 5, 6, 7, 8, 9, 10, 11, 13, 15, 1, 4, 6, 14, 1, 2, 3, 4, 5, 6, 7, 8, 9, 10, 11, 12, 13, 14, 15, 1, 2, 3, 4, 6, 8, 9, 10, 11, 13, 1, 2, 3, 4, 5, 6, 7, 8, 9, 10, 11, 12, 13, 14, 1, 4, 9, 14, 1, 2, 3, 4, 5, 6, 7, 11, 12, 13, 2, 4, 1, 2, 4, 5, 6, 9, 11, 1, 2, 3, 4, 5, 6, 7, 8, 9, 10, 1, 2, 3, 4, 5, 6, 7, 8, 9, 10, 11, 12, 13, 14, 2, 13, 1, 2, 3, 4, 5, 6, 7, 8, 9, 10, 11, 13, 14, 15, 1, 2, 3, 4, 5, 6, 7, 8, 9, 10, 11, 12, 13, 14, 1, 2, 3, 4, 5, 6, 7, 8, 9, 10, 11, 12, 13, 14, 1, 2, 3, 4, 5, 9, 14, 1, 4, 6, 2, 13, 2, 2, 4, 5, 7, 1, 2, 3, 4, 5, 6, 7, 8, 11, 2, 1, 2, 3, 4, 5, 6, 7, 8, 9, 11, 15, 1, 2, 3, 4, 6, 7, 8, 11, 14, 1, 4, 6, 8, 11, 1, 3, 4, 7, 9, 1, 2, 3, 5, 7, 10, 13, 1, 6, 8, 11, 1, 8, 11, 1, 2, 3, 4, 5, 6, 7, 8, 9, 10, 11, 13, 15, 1, 2, 3, 4, 5, 6, 7, 8, 9, 10, 11, 12, 13, 14, 3, 10, 2, 5, 7, 11, 13, 1, 2, 3, 5, 7, 8, 11, 13, 1, 2, 3, 4, 5, 7, 9, 10, 11, 12, 13, 1, 2, 3, 4, 5, 6, 7, 9, 10, 11, 12, 13, 14, 1, 2, 3, 4, 5, 6, 7, 8, 9, 11, 12, 1, 3, 9, 10, 12, 1, 4, 9, 13, 1, 2, 3, 4, 6, 7, 8, 9, 10, 11, 1, 2, 3, 7, 11, 13, 1, 6, 8, 11, 1, 2, 9, 11, 12, 13, 1, 6, 7, 10, 1, 2, 2, 5, 7, 5, 7, 1, 4, 12, 1, 2, 3, 4, 5, 6, 9, 10, 12, 13, 1, 2, 3, 4, 5, 6, 7, 8, 9, 10, 11, 12, 13, 1, 2, 3, 4, 5, 6, 7, 8, 9, 10, 11, 12, 13, 14, 1, 1, 4, 10, 1, 2, 3, 7, 11, 1, 4, 6, 8, 11, 1, 2, 3, 4, 5, 6, 7, 8, 9, 10, 11, 12, 13, 14, 15, 2, 3, 9, 14, 1, 4, 6, 8, 11, 15, 1, 5, 11, 1, 6, 1, 2, 3, 4, 5, 6, 7, 8, 9, 10, 11, 13, 14, 1, 2, 3, 4, 5, 6, 8, 9, 10, 11, 13, 1, 5, 7, 1, 2, 3, 4, 5, 6, 7, 8, 9, 10, 11, 12, 13, 15, 1, 4, 1, 4, 6, 8, 11, 1, 2, 5, 8, 11, 2, 3, 10, 12, 2, 1, 2, 3, 4, 5, 9, 10, 13, 1, 2, 3, 4, 5, 6, 7, 8, 9, 10, 11, 12, 13, 1, 7, 8, 5, 7, 10, 12, 1, 4, 6, 10, 1, 2, 3, 5, 9, 11, 12, 14, 1, 2, 3, 10, 11, 1, 2, 3, 7, 8, 1, 2, 7, 8, 13, 2, 1, 2, 3, 4, 5, 6, 7, 8, 9, 10, 11, 12, 13, 14, 1, 2, 3, 4, 5, 6, 7, 8, 9, 10, 11, 12, 13, 14, 15, 1, 2, 1, 2, 3, 4, 5, 6, 7, 8, 9, 10, 11, 12, 13, 14, 1, 6, 1, 4, 6, 8, 11, 6, 8, 1, 2, 3, 4, 5, 10, 11, 14, 2, 5, 7, 10, 1, 2, 4, 10, 1, 4, 6, 11, 2, 5, 14, 1, 2, 3, 4, 5, 6, 7, 15, 1, 2, 3, 4, 6, 9, 14, 1, 2, 3, 4, 5, 6, 7, 8, 9, 10, 12, 1, 2, 3, 4, 6, 9, 14, 1, 4, 6, 8, 11, 1, 2, 3, 4, 5, 6, 8, 9, 14, 1, 3, 4, 7, 14, 15, 1, 4, 6, 8, 11, 1, 4, 6, 8, 1, 6, 8, 11, 2, 3, 1, 2, 3, 4, 5, 6, 7, 8, 9, 10, 11, 12, 13, 14, 1, 4, 6, 11, 1, 3, 6, 7, 9, 11, 15, 1, 6, 12, 15, 3, 9, 14, 3, 5, 1, 3, 4, 11, 1, 6, 8, 11, 2, 1, 6, 1, 2, 3, 4, 5, 6, 7, 8, 9, 10, 11, 13, 15, 1, 2, 4, 6, 7, 11, 15, 4, 6, 1, 11, 1, 2, 3, 4, 5, 6, 7, 8, 9, 10, 11, 12, 13, 14, 15, 1, 4, 15, 1, 4, 5, 10, 4, 6, 8, 1, 2, 3, 6, 7, 8, 10, 11, 15, 1, 2, 3, 4, 5, 6, 7, 12, 13, 1, 2, 3, 7, 13, 15, 1, 4, 9, 11, 1, 2, 3, 4, 15, 1, 2, 3, 4, 5, 6, 7, 8, 9, 10, 11, 12, 13, 1, 4, 10, 11, 12, 1, 2, 9, 11, 1, 2, 3, 5, 7, 8, 10, 13, 1, 2, 3, 4, 5, 7, 8, 10, 12, 13, 15, 1, 2, 11, 13, 1, 2, 3, 4, 7, 8, 11, 12, 1, 2, 3, 7, 12, 13, 2, 3, 6, 7, 12, 13, 1, 4, 6, 8, 11, 1, 4, 6, 8, 11, 1, 4, 6, 8, 11, 14, 1, 4, 5, 7, 10, 15, 1, 4, 7, 8, 13, 3, 9, 10, 12, 14, 1, 2, 5, 10, 1, 2, 3, 4, 5, 6, 7, 8, 9, 10, 11, 12, 13, 15, 1, 3, 10, 11, 15, 2, 3, 5, 7, 12, 1, 2, 3, 5, 13, 1, 2, 3, 4, 12, 1, 2, 3, 4, 7, 10, 12, 1, 2, 3, 5, 1, 2, 4, 8, 11, 1, 4, 6, 9, 10, 2, 4, 1, 4, 6, 10, 15, 1, 2, 3, 4, 7, 10, 12, 1, 2, 3, 4, 5, 6, 7, 8, 9, 10, 11, 12, 13, 15, 3, 5, 9, 13, 1, 2, 3, 4, 7, 8, 11, 12, 1, 6, 8, 11, 1, 2, 3, 4, 8, 1, 3, 4, 6, 15, 1, 2, 3, 4, 5, 10, 11, 12, 1, 2, 12, 1, 4, 6, 9, 10, 1, 3, 6, 7, 9, 10, 1, 2, 4, 6, 9, 11, 13, 1, 4, 6, 9, 11, 1, 2, 3, 4, 5, 6, 7, 8, 9, 10, 11, 12, 13, 14, 15, 1, 2, 3, 4, 5, 6, 10, 12, 13, 14, 1, 2, 3, 4, 5, 6, 7, 8, 10, 11, 1, 4, 6, 2, 1, 2, 3, 4, 5, 6, 7, 8, 9, 10, 11, 12, 14, 15, 1, 2, 3, 4, 6, 7, 9, 11, 15, 1, 4, 6, 14, 15, 1, 4, 6, 11, 12, 1, 4, 6, 8, 14, 1, 2, 3, 4, 5, 7, 10, 13, 1, 2, 3, 4, 5, 6, 7, 8, 9, 10, 11, 13, 14, 1, 2, 3, 4, 5, 6, 7, 8, 9, 10, 13, 14, 1, 2, 3, 4, 1, 2, 3, 4, 5, 6, 7, 8, 9, 11, 1, 6, 8, 2, 4, 1, 4, 1, 2, 3, 4, 5, 6, 7, 10, 11, 12, 14, 1, 2, 3, 4, 5, 6, 7, 8, 9, 10, 11, 12, 13, 14, 15, 1, 2, 3, 4, 6, 8, 9, 1, 2, 3, 7, 10, 1, 2, 3, 4, 5, 6, 7, 8, 9, 10, 11, 12, 13, 14, 1, 2, 3, 4, 5, 6, 7, 12, 13, 1, 3, 4, 6, 7, 1, 2, 3, 4, 9, 1, 2, 3, 4, 5, 6, 7, 8, 9, 10, 11, 12, 13, 14, 15, 1, 6, 15, 1, 2, 3, 7, 13, 1, 4, 6, 11, 1, 4, 6, 10, 14, 15, 1, 6, 8, 1, 2, 3, 4, 12, 1, 2, 3, 4, 5, 6, 7, 8, 9, 10, 11, 13, 14, 1, 2, 3, 4, 5, 6, 7, 8, 9, 10, 11, 12, 13, 1, 2, 3, 4, 5, 6, 7, 8, 9, 10, 12, 1, 4, 11, 1, 3, 4, 5, 6, 8, 14, 2, 3, 5, 6, 7, 10, 12, 1, 2, 3, 4, 5, 6, 7, 8, 9, 10, 11, 13, 1, 2, 3, 4, 5, 6, 7, 9, 10, 1, 3, 4, 6, 8, 11, 12, 1, 4, 6, 1, 2, 4, 6, 7, 12, 13, 1, 2, 3, 4, 5, 6, 7, 9, 10, 11, 12, 13, 2, 3, 4, 7, 1, 2, 3, 4, 5, 6, 7, 8, 9, 10, 11, 12, 13, 14, 15, 1, 2, 3, 4, 5, 6, 7, 8, 9, 10, 11, 12, 14, 15, 1, 2, 3, 4, 5, 6, 8, 9, 10, 1, 2, 3, 4, 5, 7, 8, 10, 11, 12, 14, 1, 2, 3, 4, 5, 6, 7, 8, 9, 10, 11, 12, 14, 1, 2, 3, 10, 12, 13, 1, 2, 3, 5, 7, 8, 10, 11, 13, 1, 2, 3, 5, 7, 13, 1, 2, 3, 4, 5, 6, 7, 8, 9, 10, 11, 1, 4, 11, 1, 4, 5, 1, 2, 4, 6, 9, 11, 13, 1, 2, 4, 5, 6, 9, 1, 2, 3, 4, 5, 10, 14, 5, 7, 5, 7, 1, 3, 6, 7, 8, 10, 11, 12, 15, 1, 2, 3, 4, 5, 6, 7, 8, 9, 10, 11, 14, 2, 3, 5, 10, 1, 1, 1, 2, 3, 4, 5, 6, 7, 8, 9, 10, 11, 13, 14, 1, 6, 7, 8, 13, 1, 2, 3, 4, 8, 15, 1, 4, 6, 7, 11, 15, 1, 6, 8, 1, 2, 6, 7, 12, 13, 1, 2, 3, 4, 6, 7, 9, 14, 1, 2, 3, 4, 5, 6, 7, 8, 9, 10, 11, 12, 13, 14, 1, 3, 10, 3, 9, 1, 3, 4, 6, 7, 14, 15, 1, 2, 3, 4, 5, 6, 7, 8, 9, 10, 11, 13, 3, 5, 14, 1, 2, 3, 4, 5, 6, 7, 8, 10, 14, 15, 1, 3, 4, 6, 8, 11, 1, 3, 4, 6, 11, 12, 1, 2, 3, 4, 5, 6, 7, 8, 9, 10, 11, 13, 14, 1, 4, 14, 15, 1, 4, 5, 6, 9, 2, 3, 7, 13, 1, 2, 3, 4, 5, 6, 7, 8, 9, 13, 1, 2, 3, 4, 5, 6, 7, 8, 9, 10, 11, 12, 13, 14, 1, 2, 3, 4, 5, 6, 7, 8, 9, 10, 11, 12, 13, 14, 15, 1, 4, 6, 9, 1, 2, 3, 4, 5, 6, 7, 8, 9, 10, 11, 12, 13, 14, 15, 1, 2, 3, 14, 1, 2, 3, 4, 5, 6, 7, 9, 10, 11, 12, 13, 1, 4, 6, 14, 1, 2, 3, 4, 12, 1, 2, 3, 4, 5, 6, 7, 8, 9, 10, 11, 13, 1, 4, 1, 2, 3, 9, 10, 1, 2, 4, 6, 1, 2, 5, 1, 2, 3, 4, 5, 6, 7, 8, 9, 10, 11, 13, 14, 15, 1, 6, 8, 11, 1, 2, 3, 4, 5, 6, 7, 8, 9, 10, 13, 1, 4, 11, 1, 3, 4, 6, 15, 1, 2, 3, 4, 5, 6, 7, 8, 9, 10, 11, 14, 1, 2, 3, 4, 6, 7, 8, 9, 14, 15, 1, 1, 2, 3, 4, 5, 6, 7, 9, 10, 12, 13, 1, 6, 8, 11, 1, 2, 7, 10, 1, 2, 9, 10, 3, 5, 7, 9, 1, 4, 6, 2, 4, 6, 13, 1, 3, 9, 10, 1, 4, 1, 1, 2, 3, 4, 5, 6, 7, 8, 9, 10, 11, 13, 14, 1, 4, 6, 8, 11, 14, 1, 7, 15, 1, 1, 6, 15, 1, 1, 3, 4, 10, 1, 4, 8, 10, 14, 15, 1, 2, 4, 13, 1, 1, 2, 3, 4, 5, 6, 7, 8, 9, 10, 11, 12, 13, 14, 3, 7, 9, 10, 12, 14, 2, 3, 14, 3, 14, 1, 6, 8, 9, 1, 2, 3, 4, 5, 6, 8, 10, 11, 13, 14, 15, 1, 2, 3, 1, 2, 3, 4, 5, 6, 7, 9, 10, 11, 12, 13, 15, 2, 5, 7, 8, 11, 13, 1, 2, 3, 4, 6, 8, 10, 13, 14, 1, 2, 6, 9, 1, 2, 3, 4, 5, 6, 7, 8, 9, 10, 11, 12, 13, 14, 1, 2, 3, 4, 5, 6, 7, 8, 9, 10, 11, 12, 13, 14, 1, 2, 3, 4, 5, 6, 7, 8, 9, 10, 11, 13, 14, 15, 3, 5, 9, 10, 12, 14, 1, 2, 3, 4, 5, 6, 7, 8, 9, 10, 11, 12, 13, 1, 2, 3, 4, 5, 6, 7, 8, 9, 10, 11, 1, 2, 3, 4, 5, 6, 7, 8, 9, 10, 11, 12, 13, 14, 1, 3, 14, 2, 3, 5, 6, 7, 9, 1, 3, 4, 5, 6, 10, 11, 1, 3, 4, 6, 10, 13, 1, 2, 3, 4, 5, 6, 7, 8, 9, 10, 12, 13, 1, 2, 3, 4, 5, 6, 7, 9, 10, 11, 12, 13, 14, 15, 1, 2, 3, 4, 5, 6, 7, 8, 9, 10, 11, 12, 13, 14, 1, 2, 3, 4, 5, 6, 7, 9, 10, 1, 2, 3, 4, 5, 6, 7, 8, 9, 10, 11, 12, 13, 14, 1, 6, 1, 6, 8, 11], \"Freq\": [0.7451229095458984, 0.032396648079156876, 0.16198323667049408, 0.032396648079156876, 0.05984225496649742, 0.2992112934589386, 0.17952676117420197, 0.05984225496649742, 0.05984225496649742, 0.05984225496649742, 0.11968450993299484, 0.11968450993299484, 0.09011746197938919, 0.18023492395877838, 0.27035239338874817, 0.09011746197938919, 0.09011746197938919, 0.09011746197938919, 0.09011746197938919, 0.22291171550750732, 0.07430390268564224, 0.19814375042915344, 0.09907187521457672, 0.04953593760728836, 0.04953593760728836, 0.19814375042915344, 0.02476796880364418, 0.02476796880364418, 0.02476796880364418, 0.6768982410430908, 0.007201045285910368, 0.028804181143641472, 0.2592376172542572, 0.021603135392069817, 0.16316044330596924, 0.38070768117904663, 0.05438681319355965, 0.1087736263871193, 0.1087736263871193, 0.05438681319355965, 0.05438681319355965, 0.2866595983505249, 0.0955532044172287, 0.0955532044172287, 0.0955532044172287, 0.2866595983505249, 0.0955532044172287, 0.10154914110898972, 0.23296567797660828, 0.2747800350189209, 0.07168174535036087, 0.05973479151725769, 0.0059734792448580265, 0.041814353317022324, 0.12544305622577667, 0.017920436337590218, 0.011946958489716053, 0.023893916979432106, 0.011946958489716053, 0.017920436337590218, 0.17612822353839874, 0.5283846259117126, 0.2641923129558563, 0.1757013201713562, 0.2635519802570343, 0.4392533004283905, 0.0878506600856781, 0.21127009391784668, 0.03772680461406708, 0.31690514087677, 0.11318041384220123, 0.030181443318724632, 0.060362886637449265, 0.030181443318724632, 0.060362886637449265, 0.05281752347946167, 0.007545360829681158, 0.07545360922813416, 0.007545360829681158, 0.3096696436405182, 0.12386786192655563, 0.3096696436405182, 0.18580178916454315, 0.05323544889688492, 0.8517671823501587, 0.05323544889688492, 0.20874832570552826, 0.17395693063735962, 0.5218707919120789, 0.03479138761758804, 0.14939242601394653, 0.14939242601394653, 0.29878485202789307, 0.14939242601394653, 0.07469621300697327, 0.14939242601394653, 0.34314480423927307, 0.17157240211963654, 0.17157240211963654, 0.08578620105981827, 0.17157240211963654, 0.2899235486984253, 0.2899235486984253, 0.23193883895874023, 0.17395412921905518, 0.16384805738925934, 0.28673410415649414, 0.08192402869462967, 0.16384805738925934, 0.28673410415649414, 0.20291702449321747, 0.5411120653152466, 0.13527801632881165, 0.06763900816440582, 0.32403841614723206, 0.18516480922698975, 0.12344320863485336, 0.09258240461349487, 0.12344320863485336, 0.01543040107935667, 0.01543040107935667, 0.01543040107935667, 0.046291202306747437, 0.03086080215871334, 0.5094525218009949, 0.11237923055887222, 0.08241143077611923, 0.14983896911144257, 0.01997852884232998, 0.03995705768465996, 0.01997852884232998, 0.027470478788018227, 0.01997852884232998, 0.004994632210582495, 0.00998926442116499, 0.0024973161052912474, 0.0024973161052912474, 0.004994632210582495, 0.35613757371902466, 0.203507199883461, 0.407014399766922, 0.19988854229450226, 0.24986067414283752, 0.24986067414283752, 0.049972135573625565, 0.09994427114725113, 0.09994427114725113, 0.34336021542549133, 0.08584005385637283, 0.3004401922225952, 0.12876008450984955, 0.04292002692818642, 0.08584005385637283, 0.2196403592824936, 0.3843706250190735, 0.2745504379272461, 0.0549100898206234, 0.0815432071685791, 0.28540122509002686, 0.4077160358428955, 0.008154320530593395, 0.06523456424474716, 0.09785185009241104, 0.008154320530593395, 0.008154320530593395, 0.02446296252310276, 0.06141573563218117, 0.5080756545066833, 0.24566294252872467, 0.039082739502191544, 0.005583248566836119, 0.005583248566836119, 0.04466598853468895, 0.03349949046969414, 0.05583248659968376, 0.3503255546092987, 0.14013022184371948, 0.14013022184371948, 0.28026044368743896, 0.07006511092185974, 0.2923574447631836, 0.20172664523124695, 0.1534876674413681, 0.10817226022481918, 0.09793975204229355, 0.035082895308732986, 0.03800646960735321, 0.008770723827183247, 0.027773959562182426, 0.020465021952986717, 0.005847149062901735, 0.004385361913591623, 0.0014617872657254338, 0.004385361913591623, 0.28229889273643494, 0.47049814462661743, 0.09409963339567184, 0.09409963339567184, 0.52398282289505, 0.19649356603622437, 0.06549785286188126, 0.19649356603622437, 0.37848544120788574, 0.37848544120788574, 0.18924272060394287, 0.011033937335014343, 0.8165113925933838, 0.14344118535518646, 0.3290121853351593, 0.12337957322597504, 0.12337957322597504, 0.20563261210918427, 0.04112652316689491, 0.08225304633378983, 0.04112652316689491, 0.013514196500182152, 0.8378801941871643, 0.12162776291370392, 0.013514196500182152, 0.8908995985984802, 0.006599256303161383, 0.07919107377529144, 0.013198512606322765, 0.9227467775344849, 0.2285671979188919, 0.4114209711551666, 0.2285671979188919, 0.04571343958377838, 0.04571343958377838, 0.17019541561603546, 0.4680373966693878, 0.291763573884964, 0.024313630536198616, 0.030392037704586983, 0.006078407634049654, 0.25387391448020935, 0.21430914103984833, 0.19782382249832153, 0.0692383423447609, 0.07912953197956085, 0.08242659270763397, 0.03626770153641701, 0.019782382994890213, 0.009891191497445107, 0.006594127509742975, 0.016485318541526794, 0.0032970637548714876, 0.0032970637548714876, 0.0032970637548714876, 0.3671641945838928, 0.29373136162757874, 0.22029851377010345, 0.07343284040689468, 0.4419815242290497, 0.4419815242290497, 0.20235909521579742, 0.6745303273200989, 0.9229574799537659, 0.9809795022010803, 0.003164449939504266, 0.012657799758017063, 0.937250018119812, 0.10190583020448685, 0.8230855464935303, 0.007838910445570946, 0.05487237125635147, 0.07918311655521393, 0.15836623311042786, 0.15836623311042786, 0.07918311655521393, 0.3167324662208557, 0.15836623311042786, 0.2958146631717682, 0.17619560658931732, 0.2198403924703598, 0.06627541035413742, 0.06627541035413742, 0.053343623876571655, 0.03394594416022301, 0.006465894170105457, 0.04687773063778877, 0.019397681578993797, 0.0016164735425263643, 0.0032329470850527287, 0.0032329470850527287, 0.004849420394748449, 0.0016164735425263643, 0.0857999324798584, 0.0857999324798584, 0.3431997299194336, 0.3002997636795044, 0.1501498818397522, 0.9812714457511902, 0.0033263438381254673, 0.0033263438381254673, 0.006652687676250935, 0.6431171298027039, 0.08038964122533798, 0.08038964122533798, 0.08038964122533798, 0.8033469915390015, 0.011157597415149212, 0.055787988007068634, 0.011157597415149212, 0.011157597415149212, 0.022315194830298424, 0.03347279131412506, 0.022315194830298424, 0.011157597415149212, 0.011157597415149212, 0.07134789228439331, 0.014269578270614147, 0.6314288377761841, 0.014269578270614147, 0.1355609893798828, 0.021404366940259933, 0.03924134001135826, 0.035673946142196655, 0.007134789135307074, 0.003567394567653537, 0.021404366940259933, 0.003567394567653537, 0.003567394567653537, 0.36333608627319336, 0.25952577590942383, 0.25952577590942383, 0.10381031036376953, 0.32114699482917786, 0.08028674870729446, 0.32114699482917786, 0.16057349741458893, 0.9723724722862244, 0.1454865038394928, 0.1454865038394928, 0.5819460153579712, 0.0727432519197464, 0.0727432519197464, 0.0069245691411197186, 0.013849138282239437, 0.6301357746124268, 0.3185301721096039, 0.013849138282239437, 0.18657007813453674, 0.19348007440567017, 0.05528002232313156, 0.35241013765335083, 0.1036500409245491, 0.06219002604484558, 0.02073000743985176, 0.01382000558078289, 0.01382000558078289, 0.029285749420523643, 0.8534703850746155, 0.09204092621803284, 0.016734713688492775, 0.942683219909668, 0.1583838164806366, 0.8095172643661499, 0.1674230843782425, 0.30345433950424194, 0.13603125512599945, 0.006975961849093437, 0.07324759662151337, 0.010463942773640156, 0.19532692432403564, 0.05929567292332649, 0.013951923698186874, 0.01743990369141102, 0.010463942773640156, 0.3507981300354004, 0.13659395277500153, 0.13969837129116058, 0.11486310511827469, 0.12417632341384888, 0.06208816170692444, 0.027939673513174057, 0.003104408271610737, 0.003104408271610737, 0.024835266172885895, 0.00931322481483221, 0.003104408271610737, 0.9226692318916321, 0.6809508800506592, 0.27857083082199097, 0.06549515575170517, 0.06549515575170517, 0.13099031150341034, 0.5894563794136047, 0.06549515575170517, 0.06549515575170517, 0.03501143306493759, 0.17505717277526855, 0.17505717277526855, 0.4201371967792511, 0.14004573225975037, 0.03501143306493759, 0.3230035901069641, 0.14708200097084045, 0.13698813319206238, 0.1413140743970871, 0.09228674322366714, 0.07642495632171631, 0.024513665586709976, 0.011535842902958393, 0.011535842902958393, 0.015861783176660538, 0.008651882410049438, 0.0028839607257395983, 0.004325941205024719, 0.0028839607257395983, 0.6999495625495911, 0.2399827092885971, 0.03999711945652962, 0.8215324282646179, 0.11202715337276459, 0.052537377923727036, 0.26268690824508667, 0.10507475584745407, 0.0788060650229454, 0.26268690824508667, 0.0788060650229454, 0.026268688961863518, 0.0788060650229454, 0.6479042768478394, 0.04049401730298996, 0.04049401730298996, 0.2024700939655304, 0.15824805200099945, 0.6329922080039978, 0.11868603527545929, 0.03956201300024986, 0.03956201300024986, 0.2268775850534439, 0.6050068736076355, 0.07562585920095444, 0.07562585920095444, 0.9693419933319092, 0.007817273959517479, 0.007817273959517479, 0.09669949114322662, 0.019339898601174355, 0.6382166147232056, 0.09669949114322662, 0.11603938788175583, 0.5748398900032043, 0.20903268456459045, 0.15677452087402344, 0.7625271677970886, 0.1794181615114212, 0.01794181577861309, 0.01794181577861309, 0.4850885570049286, 0.1616961807012558, 0.1616961807012558, 0.0808480903506279, 0.0808480903506279, 0.2505929470062256, 0.060142312198877335, 0.11360213905572891, 0.3474889099597931, 0.06348355114459991, 0.060142312198877335, 0.053459830582141876, 0.023388676345348358, 0.0033412394113838673, 0.0066824788227677345, 0.0033412394113838673, 0.010023718699812889, 0.866315484046936, 0.004535682965070009, 0.10885639488697052, 0.009071365930140018, 0.17188552021980286, 0.7734848260879517, 0.23343969881534576, 0.3423782289028168, 0.3890661597251892, 0.015562646090984344, 0.015562646090984344, 0.9578701853752136, 0.4508752226829529, 0.07339829206466675, 0.15029174089431763, 0.1258256435394287, 0.055922508239746094, 0.06640797853469849, 0.010485470294952393, 0.010485470294952393, 0.020970940589904785, 0.010485470294952393, 0.003495156764984131, 0.010485470294952393, 0.013980627059936523, 0.7947016358375549, 0.13245026767253876, 0.016556283459067345, 0.04966885223984718, 0.8073549270629883, 0.057668209075927734, 0.057668209075927734, 0.9621971845626831, 0.02863682061433792, 0.04885469004511833, 0.24753043055534363, 0.08468145877122879, 0.0032569793984293938, 0.35826772451400757, 0.019541876390576363, 0.18890480697155, 0.03582677245140076, 0.009770938195288181, 0.8507573008537292, 0.06076837703585625, 0.34944236278533936, 0.1256556361913681, 0.14001628756523132, 0.1280490905046463, 0.08736059069633484, 0.05026225745677948, 0.016754085198044777, 0.010770483873784542, 0.053852420300245285, 0.02513112872838974, 0.0059836022555828094, 0.004786881618201733, 0.0023934408091008663, 0.06630253791809082, 0.1768067628145218, 0.3315126597881317, 0.022100845351815224, 0.13260507583618164, 0.011050422675907612, 0.09945379942655563, 0.011050422675907612, 0.03315126895904541, 0.022100845351815224, 0.011050422675907612, 0.055252112448215485, 0.011050422675907612, 0.0914774239063263, 0.13721613585948944, 0.3659096956253052, 0.04573871195316315, 0.0914774239063263, 0.13721613585948944, 0.0914774239063263, 0.24013054370880127, 0.22039379179477692, 0.1973675638437271, 0.11184161901473999, 0.06578919291496277, 0.026315676048398018, 0.0197367575019598, 0.0065789190120995045, 0.016447298228740692, 0.07565756887197495, 0.0032894595060497522, 0.0065789190120995045, 0.0065789190120995045, 0.0032894595060497522, 0.043422408401966095, 0.043422408401966095, 0.564491331577301, 0.08684481680393219, 0.21711204946041107, 0.2993175685405731, 0.22448816895484924, 0.14965878427028656, 0.22448816895484924, 0.07482939213514328, 0.3430764973163605, 0.3430764973163605, 0.25730738043785095, 0.5335354804992676, 0.1524387151002884, 0.22865808010101318, 0.2983841001987457, 0.14919205009937286, 0.07459602504968643, 0.07459602504968643, 0.37298011779785156, 0.2925153970718384, 0.1755092442035675, 0.058503080159425735, 0.1755092442035675, 0.1755092442035675, 0.058503080159425735, 0.058503080159425735, 0.053909532725811005, 0.053909532725811005, 0.6469144225120544, 0.21563813090324402, 0.33660876750946045, 0.28050729632377625, 0.11220292001962662, 0.14025364816188812, 0.028050730004906654, 0.028050730004906654, 0.05610146000981331, 0.3293105363845825, 0.2744254469871521, 0.21954035758972168, 0.05488508939743042, 0.05488508939743042, 0.05488508939743042, 0.913367748260498, 0.04807198792695999, 0.23921635746955872, 0.2814309895038605, 0.2462521195411682, 0.028143100440502167, 0.04221465066075325, 0.007035775110125542, 0.04221465066075325, 0.007035775110125542, 0.03517887368798256, 0.014071550220251083, 0.021107325330376625, 0.014071550220251083, 0.028143100440502167, 0.007035775110125542, 0.2053065150976181, 0.2053065150976181, 0.27374202013015747, 0.27374202013015747, 0.30788612365722656, 0.06157722324132919, 0.30788612365722656, 0.06157722324132919, 0.24630889296531677, 0.06453365832567215, 0.1290673166513443, 0.1290673166513443, 0.2581346333026886, 0.32266828417778015, 0.06453365832567215, 0.586591899394989, 0.19553062319755554, 0.09776531159877777, 0.09776531159877777, 0.2275630086660385, 0.3792716860771179, 0.2275630086660385, 0.0758543387055397, 0.5599707961082458, 0.24887590110301971, 0.06221897527575493, 0.20024801790714264, 0.011779295280575752, 0.07067577540874481, 0.4240546226501465, 0.23558591306209564, 0.035337887704372406, 0.16507583856582642, 0.6603033542633057, 0.09904550760984421, 0.0330151692032814, 0.02212911657989025, 0.177032932639122, 0.2434202879667282, 0.0663873478770256, 0.0442582331597805, 0.1549038141965866, 0.02212911657989025, 0.0442582331597805, 0.02212911657989025, 0.1549038141965866, 0.36813676357269287, 0.14667949080467224, 0.14955556392669678, 0.120794877409935, 0.025884615257382393, 0.04889316484332085, 0.03451282158493996, 0.023008547723293304, 0.023008547723293304, 0.011504273861646652, 0.040264956653118134, 0.005752136930823326, 0.002876068465411663, 0.5692867636680603, 0.09488112479448318, 0.18976224958896637, 0.09488112479448318, 0.061917297542095184, 0.619172990322113, 0.18575190007686615, 0.061917297542095184, 0.97024005651474, 0.01960080862045288, 0.11580236256122589, 0.028950590640306473, 0.028950590640306473, 0.17370353639125824, 0.057901181280612946, 0.28950589895248413, 0.057901181280612946, 0.057901181280612946, 0.057901181280612946, 0.08685176819562912, 0.25291210412979126, 0.025291210040450096, 0.3287857174873352, 0.07587362825870514, 0.05058242008090019, 0.07587362825870514, 0.17703847587108612, 0.34035375714302063, 0.01791335642337799, 0.5194873213768005, 0.07165342569351196, 0.01791335642337799, 0.03582671284675598, 0.6687493324279785, 0.16718733310699463, 0.08359366655349731, 0.147390678524971, 0.2210860252380371, 0.294781357049942, 0.2210860252380371, 0.0736953392624855, 0.21192532777786255, 0.05298133194446564, 0.10596266388893127, 0.529813289642334, 0.9422491788864136, 0.5443764925003052, 0.038884032517671585, 0.07776806503534317, 0.07776806503534317, 0.038884032517671585, 0.038884032517671585, 0.038884032517671585, 0.038884032517671585, 0.038884032517671585, 0.07776806503534317, 0.03674221411347389, 0.4531539976596832, 0.13472145795822144, 0.14696885645389557, 0.06123702600598335, 0.012247405014932156, 0.02449481002986431, 0.012247405014932156, 0.012247405014932156, 0.09797924011945724, 0.03279094770550728, 0.4262823164463043, 0.1639547348022461, 0.09837283939123154, 0.1311637908220291, 0.06558189541101456, 0.03279094770550728, 0.06558189541101456, 0.030180182307958603, 0.3470720946788788, 0.3470720946788788, 0.07545045018196106, 0.015090091153979301, 0.015090091153979301, 0.030180182307958603, 0.15090090036392212, 0.9768577218055725, 0.007344794925302267, 0.007344794925302267, 0.0024482649751007557, 0.5960718393325806, 0.008638722822070122, 0.025916166603565216, 0.14685827493667603, 0.004319361411035061, 0.17709380388259888, 0.008638722822070122, 0.004319361411035061, 0.017277445644140244, 0.004319361411035061, 0.43658050894737244, 0.3492644131183624, 0.0873161032795906, 0.0873161032795906, 0.00398975657299161, 0.011969270184636116, 0.6104328036308289, 0.31519079208374023, 0.00398975657299161, 0.047877080738544464, 0.00797951314598322, 0.727374792098999, 0.2424582690000534, 0.39160534739494324, 0.06526755541563034, 0.13053511083126068, 0.06526755541563034, 0.26107022166252136, 0.06526755541563034, 0.075172059237957, 0.601376473903656, 0.0469825379550457, 0.009396507404744625, 0.0563790462911129, 0.0563790462911129, 0.0939650759100914, 0.01879301480948925, 0.0375860296189785, 0.9195470213890076, 0.041797589510679245, 0.34580138325691223, 0.1597452014684677, 0.14471036195755005, 0.11088196188211441, 0.08363131433725357, 0.06389807909727097, 0.02537129633128643, 0.010336454026401043, 0.009396776556968689, 0.02631097473204136, 0.009396776556968689, 0.0046983882784843445, 0.003758710576221347, 0.0018793552881106734, 0.598418653011322, 0.08548837900161743, 0.2564651370048523, 0.037450160831213, 0.29108989238739014, 0.309814989566803, 0.04596156254410744, 0.10894592851400375, 0.01702280156314373, 0.056175243109464645, 0.0034045602660626173, 0.07830488681793213, 0.02553420141339302, 0.0034045602660626173, 0.008511400781571865, 0.006809120532125235, 0.010213680565357208, 0.6122947335243225, 0.17494136095046997, 0.17494136095046997, 0.5695618391036987, 0.16273196041584015, 0.08136598020792007, 0.08136598020792007, 0.23467105627059937, 0.2816052734851837, 0.14080263674259186, 0.2816052734851837, 0.04693421348929405, 0.3950260877609253, 0.5267014503479004, 0.032918840646743774, 0.2037760317325592, 0.0679253414273262, 0.2717013657093048, 0.4075520634651184, 0.9416601061820984, 0.9428579807281494, 0.0369635708630085, 0.7392714023590088, 0.1848178505897522, 0.8454440832138062, 0.013210063800215721, 0.06605032086372375, 0.06605032086372375, 0.5173818469047546, 0.030434226617217064, 0.04565134271979332, 0.15217113494873047, 0.04565134271979332, 0.16738824546337128, 0.015217113308608532, 0.015217113308608532, 0.08864887803792953, 0.35459551215171814, 0.265946626663208, 0.08864887803792953, 0.08864887803792953, 0.08864887803792953, 0.40309038758277893, 0.06718172878026962, 0.47027209401130676, 0.3081611096858978, 0.06603452563285828, 0.02201150730252266, 0.5062646865844727, 0.06603452563285828, 0.10918085277080536, 0.23395895957946777, 0.18716716766357422, 0.031194528564810753, 0.23395895957946777, 0.015597264282405376, 0.046791791915893555, 0.031194528564810753, 0.10918085277080536, 0.231490358710289, 0.462980717420578, 0.0771634504199028, 0.0771634504199028, 0.0771634504199028, 0.0771634504199028, 0.4823852777481079, 0.09647705405950546, 0.09647705405950546, 0.19295410811901093, 0.09647705405950546, 0.08161813020706177, 0.08161813020706177, 0.32647252082824707, 0.16323626041412354, 0.2448543757200241, 0.7010737061500549, 0.2713833451271057, 0.8717856407165527, 0.021794641390442848, 0.021794641390442848, 0.043589282780885696, 0.021794641390442848, 0.021794641390442848, 0.09311271458864212, 0.6983453631401062, 0.232781782746315, 0.9091493487358093, 0.060609955340623856, 0.5095247626304626, 0.06855423748493195, 0.05373170226812363, 0.21122117340564728, 0.05187888443470001, 0.03520352765917778, 0.005558451637625694, 0.022233806550502777, 0.009264086373150349, 0.020380990579724312, 0.0074112690053880215, 0.0018528172513470054, 0.005558451637625694, 0.08928899466991425, 0.0042518568225204945, 0.476207971572876, 0.0042518568225204945, 0.3656596839427948, 0.008503713645040989, 0.04251856729388237, 0.008503713645040989, 0.29821833968162537, 0.029821833595633507, 0.5367929935455322, 0.029821833595633507, 0.059643667191267014, 0.3992824852466583, 0.19964124262332916, 0.1330941617488861, 0.06654708087444305, 0.1330941617488861, 0.06654708087444305, 0.1583317220211029, 0.2638862133026123, 0.2638862133026123, 0.0879620686173439, 0.0351848267018795, 0.070369653403759, 0.01759241335093975, 0.01759241335093975, 0.0527772419154644, 0.2148379385471344, 0.03682935982942581, 0.03682935982942581, 0.28235843777656555, 0.024552907794713974, 0.36215537786483765, 0.018414679914712906, 0.0061382269486784935, 0.012276453897356987, 0.012276453897356987, 0.0061382269486784935, 0.056267160922288895, 0.2813358008861542, 0.11253432184457779, 0.16880148649215698, 0.16880148649215698, 0.22506864368915558, 0.056267160922288895, 0.7221566438674927, 0.0962875559926033, 0.04814377799630165, 0.04814377799630165, 0.04814377799630165, 0.04814377799630165, 0.12626641988754272, 0.006313321180641651, 0.0031566605903208256, 0.21780958771705627, 0.6344887614250183, 0.0031566605903208256, 0.006313321180641651, 0.6097280979156494, 0.08710401505231857, 0.08710401505231857, 0.2613120377063751, 0.2963743805885315, 0.11114038527011871, 0.11114038527011871, 0.33342117071151733, 0.07409359514713287, 0.755578875541687, 0.09444735944271088, 0.09444735944271088, 0.0029159337282180786, 0.008747801184654236, 0.0014579668641090393, 0.6604589819908142, 0.30908897519111633, 0.0014579668641090393, 0.0014579668641090393, 0.011663734912872314, 0.0015805574366822839, 0.9752039313316345, 0.0063222297467291355, 0.0015805574366822839, 0.0015805574366822839, 0.0015805574366822839, 0.0031611148733645678, 0.0047416724264621735, 0.0031611148733645678, 0.03833417966961861, 0.03833417966961861, 0.5366785526275635, 0.26833927631378174, 0.03833417966961861, 0.0026052009779959917, 0.8857683539390564, 0.0026052009779959917, 0.057314421981573105, 0.04689361900091171, 0.0026052009779959917, 0.7963663935661316, 0.1327277272939682, 0.044242579489946365, 0.11995046585798264, 0.3967592418193817, 0.4336670935153961, 0.03690783679485321, 0.0011651100357994437, 0.0011651100357994437, 0.9087858200073242, 0.0011651100357994437, 0.0011651100357994437, 0.02679753117263317, 0.04077885299921036, 0.010485989972949028, 0.008155770599842072, 0.31037214398384094, 0.07759303599596024, 0.5431512594223022, 0.18481242656707764, 0.020534714683890343, 0.16427771747112274, 0.24641656875610352, 0.24641656875610352, 0.10267356783151627, 0.020534714683890343, 0.008643703535199165, 0.23337998986244202, 0.25066739320755005, 0.18151776492595673, 0.2938859164714813, 0.008643703535199165, 0.5670467615127563, 0.06389259546995163, 0.07187917083501816, 0.09583888947963715, 0.015973148867487907, 0.031946297734975815, 0.007986574433743954, 0.07187917083501816, 0.023959722369909286, 0.007986574433743954, 0.007986574433743954, 0.031946297734975815, 0.48508405685424805, 0.02645913138985634, 0.10583652555942535, 0.12347594648599625, 0.1808040589094162, 0.01322956569492817, 0.05291826277971268, 0.008819710463285446, 0.18665704131126404, 0.5599711537361145, 0.09332852065563202, 0.4790130853652954, 0.19160522520542145, 0.09580261260271072, 0.09580261260271072, 0.8563270568847656, 0.13811726868152618, 0.7085990905761719, 0.014461205340921879, 0.14461205899715424, 0.08676723390817642, 0.028922410681843758, 0.007230602670460939, 0.9666905403137207, 0.26371121406555176, 0.26371121406555176, 0.26371121406555176, 0.08790373802185059, 0.07418087124824524, 0.046363044530153275, 0.5007208585739136, 0.24108783900737762, 0.12054391950368881, 0.25648871064186096, 0.05699748918414116, 0.09974560886621475, 0.02849874459207058, 0.01424937229603529, 0.1567430943250656, 0.04274811968207359, 0.09974560886621475, 0.18524184823036194, 0.04274811968207359, 0.12908777594566345, 0.42414557933807373, 0.018441112712025642, 0.12908777594566345, 0.05532333627343178, 0.05532333627343178, 0.11064667254686356, 0.05532333627343178, 0.3462876081466675, 0.15982504189014435, 0.15982504189014435, 0.21310006082057953, 0.10655003041028976, 0.08244989812374115, 0.011778556741774082, 0.6124849319458008, 0.011778556741774082, 0.09422845393419266, 0.1766783446073532, 0.011778556741774082, 0.05776796489953995, 0.3610497713088989, 0.14441990852355957, 0.014441991224884987, 0.07220995426177979, 0.28883981704711914, 0.014441991224884987, 0.014441991224884987, 0.014441991224884987, 0.29397016763687134, 0.11758807301521301, 0.11758807301521301, 0.17638210952281952, 0.23517614603042603, 0.058794036507606506, 0.505569577217102, 0.13304463028907776, 0.06652231514453888, 0.053217850625514984, 0.09313123673200607, 0.03991338610649109, 0.053217850625514984, 0.013304462656378746, 0.03991338610649109, 0.1509609967470169, 0.37740248441696167, 0.22644150257110596, 0.07548049837350845, 0.07548049837350845, 0.6883131265640259, 0.2502956688404083, 0.16017426550388336, 0.22424398362636566, 0.16017426550388336, 0.0640697106719017, 0.28831368684768677, 0.03203485533595085, 0.03203485533595085, 0.07325202226638794, 0.29300808906555176, 0.07325202226638794, 0.5127641558647156, 0.009947305545210838, 0.1790515035390854, 0.5968383550643921, 0.019894611090421677, 0.04973652958869934, 0.019894611090421677, 0.06963114440441132, 0.029841918498277664, 0.029841918498277664, 0.5002205967903137, 0.03235257416963577, 0.06719381362199783, 0.18167215585708618, 0.02737525664269924, 0.11945566534996033, 0.00248865969479084, 0.04230721294879913, 0.00497731938958168, 0.00248865969479084, 0.00995463877916336, 0.00248865969479084, 0.00248865969479084, 0.4517453610897064, 0.09346455335617065, 0.05919421836733818, 0.17758265137672424, 0.038943566381931305, 0.07477164268493652, 0.023366138339042664, 0.02959710918366909, 0.017135167494416237, 0.007788713090121746, 0.01869291067123413, 0.0015577425947412848, 0.0031154851894825697, 0.0031154851894825697, 0.7150087356567383, 0.009662279859185219, 0.07729823887348175, 0.1256096363067627, 0.05797368288040161, 0.5572834610939026, 0.05572834610939026, 0.05373804643750191, 0.16917532682418823, 0.01990297995507717, 0.05970894172787666, 0.007961192168295383, 0.01990297995507717, 0.009951489977538586, 0.011941787786781788, 0.02786417305469513, 0.003980596084147692, 0.003980596084147692, 0.001990298042073846, 0.28539618849754333, 0.002642557257786393, 0.5866476893424988, 0.010570229031145573, 0.03963835909962654, 0.06606393307447433, 0.005285114515572786, 0.11301247775554657, 0.4730755090713501, 0.16032002866268158, 0.01839737966656685, 0.0604485347867012, 0.010512788780033588, 0.10249969363212585, 0.002628197195008397, 0.007884591817855835, 0.026281971484422684, 0.007884591817855835, 0.010512788780033588, 0.007884591817855835, 0.12440649420022964, 0.8501110672950745, 0.06877937912940979, 0.33243367075920105, 0.5731614828109741, 0.011463229544460773, 0.5733187198638916, 0.09555311501026154, 0.2866593599319458, 0.4004582166671753, 0.15017183125019073, 0.20022910833358765, 0.15017183125019073, 0.05005727708339691, 0.11604886502027512, 0.29503947496414185, 0.32847729325294495, 0.10818114876747131, 0.0019669299945235252, 0.0019669299945235252, 0.031470879912376404, 0.013768509030342102, 0.029503948986530304, 0.029503948986530304, 0.0039338599890470505, 0.031470879912376404, 0.007867719978094101, 0.4969838559627533, 0.061167243868112564, 0.05352133885025978, 0.12233448773622513, 0.0229377169162035, 0.09939677268266678, 0.0229377169162035, 0.0076459054835140705, 0.10704267770051956, 0.0076459054835140705, 0.20066480338573456, 0.29448211193084717, 0.2606036365032196, 0.059938836842775345, 0.06775695085525513, 0.031272437423467636, 0.03909054771065712, 0.010424145497381687, 0.005212072748690844, 0.01303018257021904, 0.002606036374345422, 0.005212072748690844, 0.010424145497381687, 0.39401566982269287, 0.17842219769954681, 0.14868515729904175, 0.062447767704725266, 0.06096091493964195, 0.05203980579972267, 0.05650036036968231, 0.008921110071241856, 0.0029737032018601894, 0.016355367377400398, 0.008921110071241856, 0.0014868516009300947, 0.007434258237481117, 0.3227871358394623, 0.3227871358394623, 0.08069678395986557, 0.2420903444290161, 0.2696610689163208, 0.7165279984474182, 0.6235881447792053, 0.31179407238960266, 0.842694103717804, 0.022775515913963318, 0.09110206365585327, 0.2506285011768341, 0.21482443809509277, 0.03580407425761223, 0.10741221904754639, 0.03580407425761223, 0.10741221904754639, 0.1432162970304489, 0.03580407425761223, 0.07160814851522446, 0.9405490756034851, 0.027663208544254303, 0.027663208544254303, 0.3561650514602661, 0.08904126286506653, 0.08904126286506653, 0.3561650514602661, 0.9720093607902527, 0.26110371947288513, 0.26110371947288513, 0.17406915128231049, 0.005802304949611425, 0.01160460989922285, 0.19147606194019318, 0.005802304949611425, 0.01740691438317299, 0.01160460989922285, 0.0464184395968914, 0.01160460989922285, 0.6007058024406433, 0.17163023352622986, 0.17163023352622986, 0.08581511676311493, 0.8007736802101135, 0.032030947506427765, 0.04804642125964165, 0.06406189501285553, 0.016015473753213882, 0.016015473753213882, 0.016015473753213882, 0.9331650733947754, 0.0342445895075798, 0.025683442130684853, 0.046909112483263016, 0.0042644646018743515, 0.7889260053634644, 0.008528929203748703, 0.0042644646018743515, 0.008528929203748703, 0.008528929203748703, 0.0042644646018743515, 0.10661161690950394, 0.0042644646018743515, 0.012793393805623055, 0.6133203506469727, 0.0681467056274414, 0.0681467056274414, 0.2044401317834854, 0.5574503540992737, 0.0062634870409965515, 0.0062634870409965515, 0.1816411316394806, 0.10021579265594482, 0.06889835745096207, 0.0062634870409965515, 0.06889835745096207, 0.0062634870409965515, 0.12266873568296432, 0.27486884593963623, 0.3861793577671051, 0.024988075718283653, 0.047704510390758514, 0.03407464921474457, 0.0522477962076664, 0.004543286748230457, 0.024988075718283653, 0.01817314699292183, 0.011358216404914856, 0.3782755136489868, 0.023642219603061676, 0.04728443920612335, 0.0945688784122467, 0.04728443920612335, 0.26006439328193665, 0.04728443920612335, 0.023642219603061676, 0.07092665880918503, 0.2992382347583771, 0.06775204837322235, 0.045168034732341766, 0.10727407783269882, 0.02823002077639103, 0.35005226731300354, 0.022584017366170883, 0.03952202945947647, 0.011292008683085442, 0.022584017366170883, 0.2999061644077301, 0.11996246874332428, 0.17994371056556702, 0.35988742113113403, 0.9790552258491516, 0.010641904547810555, 0.3137471079826355, 0.17928406596183777, 0.2241050750017166, 0.26892608404159546, 0.23358231782913208, 0.6773887276649475, 0.023358233273029327, 0.023358233273029327, 0.023358233273029327, 0.46895191073417664, 0.281371146440506, 0.09379038214683533, 0.09379038214683533, 0.22916680574417114, 0.22916680574417114, 0.11458340287208557, 0.057291701436042786, 0.057291701436042786, 0.17187510430812836, 0.11458340287208557, 0.1342041939496994, 0.30195942521095276, 0.5535922646522522, 0.8866668939590454, 0.04666667804121971, 0.023333339020609856, 0.023333339020609856, 0.08084478974342346, 0.48506873846054077, 0.08084478974342346, 0.32337915897369385, 0.062486451119184494, 0.33028551936149597, 0.5802313089370728, 0.00892663560807705, 0.00892663560807705, 0.17485466599464417, 0.16514050960540771, 0.1489502638578415, 0.22342540323734283, 0.03561854362487793, 0.145712211728096, 0.05504683777689934, 0.022666344419121742, 0.0032380493357777596, 0.022666344419121742, 0.0032380493357777596, 0.1927565187215805, 0.5782695412635803, 0.1927565187215805, 0.9056028723716736, 0.06468591839075089, 0.7511710524559021, 0.03021952509880066, 0.01726830005645752, 0.08202442526817322, 0.01726830005645752, 0.01726830005645752, 0.00863415002822876, 0.01295122504234314, 0.0647561252117157, 0.00431707501411438, 0.8844048976898193, 0.03401557356119156, 0.03401557356119156, 0.03401557356119156, 0.09950070828199387, 0.862339437007904, 0.22536492347717285, 0.1729544848203659, 0.2279854416847229, 0.09171828627586365, 0.089097760617733, 0.023584701120853424, 0.041928358376026154, 0.0026205223985016346, 0.06551305949687958, 0.041928358376026154, 0.005241044797003269, 0.0026205223985016346, 0.007861566729843616, 0.0026205223985016346, 0.058738432824611664, 0.8404114246368408, 0.06325677037239075, 0.02711004577577114, 0.004518340807408094, 0.0807504802942276, 0.6460038423538208, 0.0807504802942276, 0.1615009605884552, 0.42753690481185913, 0.18323010206222534, 0.18323010206222534, 0.18323010206222534, 0.18854475021362305, 0.18612751364707947, 0.281608521938324, 0.07976893335580826, 0.07130859047174454, 0.04109308868646622, 0.08097755163908005, 0.01450344268232584, 0.015712061896920204, 0.021755164489150047, 0.0024172405246645212, 0.00362586067058146, 0.006043101195245981, 0.00725172134116292, 0.0012086202623322606, 0.2702304720878601, 0.6080185770988464, 0.06755761802196503, 0.24635134637355804, 0.20529277622699738, 0.08211711049079895, 0.20529277622699738, 0.1642342209815979, 0.4081189036369324, 0.08162378519773483, 0.32649514079093933, 0.08162378519773483, 0.08162378519773483, 0.32762041687965393, 0.02642100118100643, 0.06869460642337799, 0.20608381927013397, 0.05812620371580124, 0.23250481486320496, 0.01585260033607483, 0.021136801689863205, 0.010568400844931602, 0.02642100118100643, 0.005284200422465801, 0.005284200422465801, 0.3285318911075592, 0.13141275942325592, 0.15836921334266663, 0.12130407989025116, 0.02695646323263645, 0.11288018524646759, 0.03874991461634636, 0.006739115808159113, 0.02190212532877922, 0.03032601997256279, 0.010108673945069313, 0.010108673945069313, 0.0016847789520397782, 0.6839812397956848, 0.06269828230142593, 0.011399687267839909, 0.12539656460285187, 0.07409796863794327, 0.005699843633919954, 0.028499219566583633, 0.5001919865608215, 0.054683372378349304, 0.07076671719551086, 0.18335013091564178, 0.027341686189174652, 0.07398338615894318, 0.011258341372013092, 0.03699169307947159, 0.01608334481716156, 0.004825003445148468, 0.012866675853729248, 0.001608334481716156, 0.001608334481716156, 0.9310538172721863, 0.04774634912610054, 0.09478230029344559, 0.28434690833091736, 0.37912920117378235, 0.18956460058689117, 0.09478230029344559, 0.18077512085437775, 0.31454870104789734, 0.22054564952850342, 0.018077511340379715, 0.09038756042718887, 0.018077511340379715, 0.08677206188440323, 0.014462010003626347, 0.03615502268075943, 0.0036155025009065866, 0.010846507735550404, 0.35704663395881653, 0.5950777530670166, 0.003813789924606681, 0.0019068949623033404, 0.9343785643577576, 0.009534475393593311, 0.0019068949623033404, 0.0019068949623033404, 0.005720685236155987, 0.011441370472311974, 0.024789635092020035, 0.005720685236155987, 0.8714601993560791, 0.018944786861538887, 0.06946422159671783, 0.018944786861538887, 0.006314929109066725, 0.23482263088226318, 0.19229570031166077, 0.24221861362457275, 0.13312779366970062, 0.03513094410300255, 0.03513094410300255, 0.05177191644906998, 0.016640974208712578, 0.007395988330245018, 0.024036962538957596, 0.020338967442512512, 0.0055469912476837635, 0.0018489970825612545, 0.0018489970825612545, 0.29219573736190796, 0.1996670961380005, 0.1801873743534088, 0.04869928956031799, 0.09739857912063599, 0.034089505672454834, 0.04382936283946037, 0.007304893806576729, 0.07061397284269333, 0.009739858098328114, 0.009739858098328114, 0.0024349645245820284, 0.0024349645245820284, 0.38598665595054626, 0.161093607544899, 0.14354875683784485, 0.0925092026591301, 0.05741950497031212, 0.030304739251732826, 0.03987465426325798, 0.020734820514917374, 0.03508969768881798, 0.01754484884440899, 0.009569917805492878, 0.0015949861845001578, 0.0015949861845001578, 0.004784958902746439, 0.4678836166858673, 0.09539374709129333, 0.0878228172659874, 0.08328025788068771, 0.08933699876070023, 0.06813839077949524, 0.06662420183420181, 0.007570932153612375, 0.010599304921925068, 0.007570932153612375, 0.006056745536625385, 0.0030283727683126926, 0.006056745536625385, 0.0015141863841563463, 0.5607306361198425, 0.014756069518625736, 0.1918289065361023, 0.13280463218688965, 0.029512139037251472, 0.014756069518625736, 0.04426820948719978, 0.07932231575250626, 0.1586446315050125, 0.63457852602005, 0.07932231575250626, 0.9497226476669312, 0.01594039425253868, 0.22316551208496094, 0.5419734120368958, 0.20722511410713196, 0.47608646750450134, 0.18311017751693726, 0.07324407249689102, 0.2563542425632477, 0.20972301065921783, 0.7626291513442993, 0.1287839114665985, 0.6117235422134399, 0.03219597786664963, 0.09658792614936829, 0.03219597786664963, 0.09658792614936829, 0.6031039953231812, 0.25847312808036804, 0.08615771681070328, 0.9562504887580872, 0.024519242346286774, 0.8692236542701721, 0.03219347074627876, 0.07243530452251434, 0.01609673537313938, 0.2490079253911972, 0.15790747106075287, 0.22673892974853516, 0.16195636987686157, 0.07085591554641724, 0.032391276210546494, 0.03846463933587074, 0.006073364056646824, 0.010122273117303848, 0.018220093101263046, 0.004048909526318312, 0.016195638105273247, 0.004048909526318312, 0.002024454763159156, 0.006073364056646824, 0.2445773035287857, 0.27588319778442383, 0.24262069165706635, 0.04108898714184761, 0.1017441600561142, 0.003913236781954765, 0.037175752222537994, 0.005869855172932148, 0.019566183909773827, 0.01760956645011902, 0.005869855172932148, 0.0019566183909773827, 0.0019566183909773827, 0.34430330991744995, 0.25822749733924866, 0.08607582747936249, 0.17215165495872498, 0.08607582747936249, 0.4507107138633728, 0.09609060734510422, 0.1532873958349228, 0.10981784015893936, 0.05490892007946968, 0.05490892007946968, 0.01372723001986742, 0.009151486679911613, 0.00686361500993371, 0.03203020244836807, 0.01143935788422823, 0.0022878716699779034, 0.4203387200832367, 0.16470953822135925, 0.09882572293281555, 0.06720148772001266, 0.11200248450040817, 0.02635352499783039, 0.05797775462269783, 0.005270705092698336, 0.0039530289359390736, 0.01844746805727482, 0.00922373402863741, 0.005270705092698336, 0.0039530289359390736, 0.0039530289359390736, 0.7065793871879578, 0.058188892900943756, 0.07481428980827332, 0.058188892900943756, 0.00831269845366478, 0.03325079381465912, 0.024938097223639488, 0.01662539690732956, 0.00831269845366478, 0.990234375, 0.9458873271942139, 0.1091698408126831, 0.2183396816253662, 0.1091698408126831, 0.1091698408126831, 0.05458492040634155, 0.1091698408126831, 0.2183396816253662, 0.05458492040634155, 0.05458492040634155, 0.8878446817398071, 0.027745146304368973, 0.055490292608737946, 0.955216646194458, 0.0954730287194252, 0.0477365143597126, 0.4296286404132843, 0.21481432020664215, 0.1909460574388504, 0.12958398461341858, 0.38875195384025574, 0.12958398461341858, 0.25916796922683716, 0.06479199230670929, 0.6640310883522034, 0.09486158192157745, 0.1897231638431549, 0.26058322191238403, 0.17372216284275055, 0.26058322191238403, 0.08686108142137527, 0.08686108142137527, 0.08686108142137527, 0.13812045753002167, 0.29597240686416626, 0.17758344113826752, 0.3354353904724121, 0.03946298733353615, 0.019731493666768074, 0.788133442401886, 0.18544316291809082, 0.8660777807235718, 0.010963009670376778, 0.10963009297847748, 0.1781412810087204, 0.237521693110466, 0.0593804232776165, 0.3562825620174408, 0.118760846555233, 0.24257616698741913, 0.06064404174685478, 0.24257616698741913, 0.3032202124595642, 0.06064404174685478, 0.08109401166439056, 0.4865640699863434, 0.2432820349931717, 0.16218802332878113, 0.04530418664216995, 0.3624334931373596, 0.543650209903717, 0.806281566619873, 0.07329832017421722, 0.02931932918727398, 0.07329832017421722, 0.01465966459363699, 0.796805202960968, 0.061292704194784164, 0.061292704194784164, 0.038750603795051575, 0.23250362277030945, 0.4650072455406189, 0.07750120759010315, 0.07750120759010315, 0.038750603795051575, 0.11625181138515472, 0.16926637291908264, 0.32128268480300903, 0.23071977496147156, 0.011859428137540817, 0.0032343894708901644, 0.0010781297460198402, 0.251204252243042, 0.006468778941780329, 0.0021562594920396805, 0.08575703948736191, 0.5431278944015503, 0.1572212427854538, 0.18580691516399384, 0.014292839914560318, 0.004311350639909506, 0.008622701279819012, 0.7889771461486816, 0.17676538228988647, 0.01293405145406723, 0.1466493457555771, 0.1466493457555771, 0.21997401118278503, 0.5132727026939392, 0.36483854055404663, 0.011103781871497631, 0.10786531120538712, 0.09517527371644974, 0.17607425153255463, 0.09041651338338852, 0.07138145714998245, 0.011103781871497631, 0.030138837173581123, 0.025380073115229607, 0.006345018278807402, 0.011103781871497631, 0.0015862545697018504, 0.28617578744888306, 0.28617578744888306, 0.28617578744888306, 0.09539192914962769, 0.9433483481407166, 0.8903073072433472, 0.16272667050361633, 0.32545334100723267, 0.16272667050361633, 0.08136333525180817, 0.16272667050361633, 0.2651543617248535, 0.16298478841781616, 0.17028261721134186, 0.11190000921487808, 0.11433261632919312, 0.02189347892999649, 0.0827087014913559, 0.007297826465219259, 0.03162391483783722, 0.004865217488259077, 0.009730434976518154, 0.004865217488259077, 0.009730434976518154, 0.0024326087441295385, 0.940883994102478, 0.013635999523103237, 0.027271999046206474, 0.8850820660591125, 0.0804620012640953, 0.3581540286540985, 0.11999069154262543, 0.13271698355674744, 0.17998604476451874, 0.05272318422794342, 0.05090514197945595, 0.038178857415914536, 0.016362367197871208, 0.012726285494863987, 0.016362367197871208, 0.01454432588070631, 0.0018180407350882888, 0.0018180407350882888, 0.0018180407350882888, 0.002573946723714471, 0.92147296667099, 0.03603525459766388, 0.02573946677148342, 0.010295786894857883, 0.2528406083583832, 0.20074434578418732, 0.19449278712272644, 0.08196481317281723, 0.07779711484909058, 0.051401663571596146, 0.051401663571596146, 0.014586959034204483, 0.040982406586408615, 0.011113873682916164, 0.009030021727085114, 0.004862319678068161, 0.0034730853512883186, 0.006251554004848003, 0.06655560433864594, 0.038031771779060364, 0.019015885889530182, 0.2186826914548874, 0.04753971844911575, 0.4183495044708252, 0.009507942944765091, 0.07606354355812073, 0.1045873761177063, 0.36191946268081665, 0.018095972016453743, 0.036191944032907486, 0.19905570149421692, 0.07238388806581497, 0.18095973134040833, 0.05428791791200638, 0.036191944032907486, 0.018095972016453743, 0.018095972016453743, 0.018095972016453743, 0.13608737289905548, 0.33141276240348816, 0.11527400463819504, 0.09285961836576462, 0.12488017231225967, 0.07684933394193649, 0.08325345069169998, 0.01440925057977438, 0.009606166742742062, 0.0016010277904570103, 0.006404111161828041, 0.0016010277904570103, 0.006404111161828041, 0.7714925408363342, 0.05510661005973816, 0.0918443500995636, 0.05510661005973816, 0.01836887001991272, 0.2938441336154938, 0.09418081492185593, 0.11678421497344971, 0.19589610397815704, 0.018836162984371185, 0.1280859112739563, 0.04897402599453926, 0.022603396326303482, 0.003767232643440366, 0.015068930573761463, 0.02637062780559063, 0.011301698163151741, 0.015068930573761463, 0.003767232643440366, 0.14052200317382812, 0.07026100158691406, 0.3513050079345703, 0.07026100158691406, 0.21078301966190338, 0.07026100158691406, 0.07026100158691406, 0.16285376250743866, 0.13028301298618317, 0.22799526154994965, 0.16285376250743866, 0.06514150649309158, 0.03257075324654579, 0.16285376250743866, 0.19775044918060303, 0.13183364272117615, 0.28563955426216125, 0.19775044918060303, 0.17577818036079407, 0.02197227254509926, 0.369655579328537, 0.19003421068191528, 0.09631870687007904, 0.09892191737890244, 0.09111229330301285, 0.020825667306780815, 0.02342887595295906, 0.005206416826695204, 0.05206416919827461, 0.03384171053767204, 0.007809625007212162, 0.005206416826695204, 0.002603208413347602, 0.3862110376358032, 0.14854270219802856, 0.09840954095125198, 0.12069094181060791, 0.1132638081908226, 0.03713567554950714, 0.03342210873961449, 0.012997486628592014, 0.005570351146161556, 0.01856783777475357, 0.005570351146161556, 0.005570351146161556, 0.0037135675083845854, 0.005570351146161556, 0.0018567837541922927, 0.07592397183179855, 0.7592397332191467, 0.12653996050357819, 0.2513071894645691, 0.2513071894645691, 0.4397875666618347, 0.2936159670352936, 0.029361596331000328, 0.04404239356517792, 0.2642543613910675, 0.04404239356517792, 0.20553117990493774, 0.11744638532400131, 0.2994539737701416, 0.015760736539959908, 0.23641103506088257, 0.14184662699699402, 0.17336809635162354, 0.14184662699699402, 0.10611923784017563, 0.3372233510017395, 0.18865641951560974, 0.10611923784017563, 0.10140282660722733, 0.004716410301625729, 0.030656667426228523, 0.04008948802947998, 0.02829846367239952, 0.03773128241300583, 0.009432820603251457, 0.004716410301625729, 0.0023582051508128643, 0.20535096526145935, 0.1369006335735321, 0.1369006335735321, 0.47915223240852356, 0.49459773302078247, 0.1121768057346344, 0.11897540092468262, 0.09857961535453796, 0.025494728237390518, 0.032293323427438736, 0.054388754069805145, 0.016996486112475395, 0.013597188517451286, 0.010197890922427177, 0.015296836383640766, 0.005098945461213589, 0.0016996485646814108, 0.0016996485646814108, 0.5127226114273071, 0.05516635254025459, 0.0356958769261837, 0.22066541016101837, 0.012980318628251553, 0.0908622294664383, 0.012980318628251553, 0.01947047747671604, 0.003245079657062888, 0.006490159314125776, 0.012980318628251553, 0.003245079657062888, 0.00973523873835802, 0.7380754947662354, 0.04920503497123718, 0.04920503497123718, 0.04920503497123718, 0.4587962031364441, 0.06266484409570694, 0.12607569992542267, 0.16337621212005615, 0.02536434307694435, 0.07161697000265121, 0.02536434307694435, 0.014920201152563095, 0.020888281986117363, 0.008952121250331402, 0.010444140993058681, 0.0014920200919732451, 0.0007460100459866226, 0.0074601005762815475, 0.0014920200919732451, 0.3051610589027405, 0.16155584156513214, 0.12565454840660095, 0.07180260121822357, 0.07180260121822357, 0.017950650304555893, 0.10770389437675476, 0.10770389437675476, 0.017950650304555893, 0.017950650304555893, 0.4186805486679077, 0.10699614137411118, 0.055824071168899536, 0.12095215916633606, 0.04186805337667465, 0.06512808054685593, 0.0883881151676178, 0.023260030895471573, 0.04186805337667465, 0.004652006085962057, 0.004652006085962057, 0.023260030895471573, 0.004652006085962057, 0.004652006085962057, 0.6649726033210754, 0.18999217450618744, 0.09499608725309372, 0.09499608725309372, 0.41010552644729614, 0.16750788688659668, 0.0924181416630745, 0.051985207945108414, 0.02888067066669464, 0.051985207945108414, 0.17328402400016785, 0.011552267707884312, 0.005776133853942156, 0.005776133853942156, 0.9800763130187988, 0.010426344349980354, 0.7673977613449097, 0.01967686600983143, 0.15085597336292267, 0.013117910362780094, 0.0327947773039341, 0.006558955181390047, 0.006558955181390047, 0.20090918242931366, 0.36737677454948425, 0.1377662867307663, 0.0057402621023356915, 0.12628577649593353, 0.0057402621023356915, 0.034441571682691574, 0.0057402621023356915, 0.0057402621023356915, 0.10332471877336502, 0.38015320897102356, 0.1397777795791626, 0.12812963128089905, 0.15036700665950775, 0.061417512595653534, 0.05082828551530838, 0.022237375378608704, 0.008471380919218063, 0.024355219677090645, 0.01164814829826355, 0.01164814829826355, 0.002117845229804516, 0.004235690459609032, 0.0031767678447067738, 0.9617531895637512, 0.023174775764346123, 0.3605809509754181, 0.10213880985975266, 0.16249355673789978, 0.1377326399087906, 0.07273521274328232, 0.07583033293485641, 0.013928019441664219, 0.017023134976625443, 0.013928019441664219, 0.01857069320976734, 0.017023134976625443, 0.0030951155349612236, 0.004642673302441835, 0.0015475577674806118, 0.4022100865840912, 0.11369896680116653, 0.09948659688234329, 0.1392812430858612, 0.04690082371234894, 0.08101051300764084, 0.02416103146970272, 0.03695216402411461, 0.018476082012057304, 0.01705484464764595, 0.012791133485734463, 0.0014212371315807104, 0.002842474263161421, 0.0014212371315807104, 0.3370800018310547, 0.19735771417617798, 0.1729063093662262, 0.04715626686811447, 0.03318404033780098, 0.038423627614974976, 0.059381965547800064, 0.0034930568654090166, 0.08034031093120575, 0.013972227461636066, 0.005239585414528847, 0.0017465284327045083, 0.00873264204710722, 0.0017465284327045083, 0.360319584608078, 0.11086756736040115, 0.1385844498872757, 0.05543378368020058, 0.08315066993236542, 0.19401824474334717, 0.02771689184010029, 0.1087401881814003, 0.5074542164802551, 0.3443439304828644, 0.9354733824729919, 0.04385031759738922, 0.9588279724121094, 0.3903495669364929, 0.07806991785764694, 0.46841949224472046, 0.07806991785764694, 0.08740537613630295, 0.002648647641763091, 0.002648647641763091, 0.21189181506633759, 0.12713509798049927, 0.16421616077423096, 0.3814052641391754, 0.02118918113410473, 0.002648647641763091, 0.9915188550949097, 0.27438321709632874, 0.056490663439035416, 0.0726308524608612, 0.09684113413095474, 0.2985934913158417, 0.0887710377573967, 0.03228037804365158, 0.040350474417209625, 0.024210283532738686, 0.008070094510912895, 0.008070094510912895, 0.09930682182312012, 0.0024826705921441317, 0.004965341184288263, 0.5114301443099976, 0.2482670694589615, 0.0024826705921441317, 0.022344036027789116, 0.10178949683904648, 0.009930682368576527, 0.336976021528244, 0.050546400249004364, 0.32855162024497986, 0.20218560099601746, 0.07581960409879684, 0.2573516368865967, 0.2573516368865967, 0.06433790922164917, 0.06433790922164917, 0.2573516368865967, 0.289700984954834, 0.11588039994239807, 0.1738205999135971, 0.1738205999135971, 0.057940199971199036, 0.057940199971199036, 0.057940199971199036, 0.03318290412425995, 0.36501196026802063, 0.3318290412425995, 0.23228032886981964, 0.12800906598567963, 0.5760408043861389, 0.19201360642910004, 0.18790662288665771, 0.2027413547039032, 0.26208028197288513, 0.11867786943912506, 0.04944911226630211, 0.04944911226630211, 0.05439402163028717, 0.029669467359781265, 0.009889822453260422, 0.009889822453260422, 0.009889822453260422, 0.004944911226630211, 0.004944911226630211, 0.3033294677734375, 0.20112061500549316, 0.22200199961662292, 0.04066373035311699, 0.04615883156657219, 0.06044608727097511, 0.04945588856935501, 0.006594118662178516, 0.018683336675167084, 0.024178434163331985, 0.013188237324357033, 0.006594118662178516, 0.004396079108119011, 0.0010990197770297527, 0.833189070224762, 0.12818293273448944, 0.02970944531261921, 0.5644794702529907, 0.11883778125047684, 0.02970944531261921, 0.23767556250095367, 0.003526251530274749, 0.015868132933974266, 0.0017631257651373744, 0.8022222518920898, 0.1481025665998459, 0.0017631257651373744, 0.003526251530274749, 0.021157510578632355, 0.15303868055343628, 0.45911604166030884, 0.13664168119430542, 0.005465667229145765, 0.03279400244355202, 0.13664168119430542, 0.01639700122177601, 0.01639700122177601, 0.005465667229145765, 0.01093133445829153, 0.02186266891658306, 0.20721174776554108, 0.32910099625587463, 0.12188926339149475, 0.036566779017448425, 0.13814117014408112, 0.012188926339149475, 0.028440827503800392, 0.08125950396060944, 0.016251901164650917, 0.004062975291162729, 0.012188926339149475, 0.004062975291162729, 0.004062975291162729, 0.23271021246910095, 0.24725459516048431, 0.2666471302509308, 0.009696259163320065, 0.004848129581660032, 0.004848129581660032, 0.11635510623455048, 0.004848129581660032, 0.0727219432592392, 0.004848129581660032, 0.02908877655863762, 0.9343323111534119, 0.8133304119110107, 0.011960741132497787, 0.0956859290599823, 0.07176444679498672, 0.7973023056983948, 0.09966278821229935, 0.016610464081168175, 0.0664418563246727, 0.6860384941101074, 0.10217595100402832, 0.04865521565079689, 0.04378969222307205, 0.024327607825398445, 0.004865521565079689, 0.014596564695239067, 0.019462086260318756, 0.034058649092912674, 0.014596564695239067, 0.12674330174922943, 0.25348660349845886, 0.3379821479320526, 0.04224776849150658, 0.08449553698301315, 0.08449553698301315, 0.22428834438323975, 0.009345347993075848, 0.607447624206543, 0.15887092053890228, 0.4247865378856659, 0.1415955126285553, 0.1415955126285553, 0.07079775631427765, 0.07079775631427765, 0.07079775631427765, 0.86946702003479, 0.06688208132982254, 0.022294025868177414, 0.022294025868177414, 0.9228770136833191, 0.969505786895752, 0.009674091823399067, 0.6771864295005798, 0.29022276401519775, 0.8944075703620911, 0.04968930780887604, 0.909407913684845, 0.032478854060173035, 0.032478854060173035, 0.3691166043281555, 0.19686219096183777, 0.08612720668315887, 0.03691165894269943, 0.09843109548091888, 0.02460777387022972, 0.07382331788539886, 0.09843109548091888, 0.01230388693511486, 0.01230388693511486, 0.3732076585292816, 0.12440256029367447, 0.20042634010314941, 0.044923145323991776, 0.08984629064798355, 0.050106585025787354, 0.05183440074324608, 0.010366879403591156, 0.008639066480100155, 0.01727813296020031, 0.022461572661995888, 0.0034556265454739332, 0.0034556265454739332, 0.07147685438394547, 0.1955866664648056, 0.3489370048046112, 0.09616886079311371, 0.08187349140644073, 0.08317306637763977, 0.045485273003578186, 0.0006497895810753107, 0.05328274518251419, 0.012346002273261547, 0.002599158324301243, 0.0032489479053765535, 0.002599158324301243, 0.002599158324301243, 0.9518055319786072, 0.05073195695877075, 0.7102473974227905, 0.202927827835083, 0.19084390997886658, 0.19084390997886658, 0.19084390997886658, 0.09542195498943329, 0.19084390997886658, 0.15925128757953644, 0.03981282189488411, 0.5573794841766357, 0.03981282189488411, 0.19906410574913025, 0.33485129475593567, 0.1346309334039688, 0.1726037710905075, 0.07076754420995712, 0.11737056076526642, 0.06386339664459229, 0.024164527654647827, 0.024164527654647827, 0.01726037636399269, 0.015534338541328907, 0.01035622600466013, 0.005178113002330065, 0.0017260377062484622, 0.0034520754124969244, 0.0017260377062484622, 0.6170946359634399, 0.06170946732163429, 0.24683786928653717, 0.06170946732163429, 0.36342427134513855, 0.04724515601992607, 0.18898062407970428, 0.2762024402618408, 0.11629576236009598, 0.0036342425737529993, 0.12683099508285522, 0.6975705027580261, 0.06341549754142761, 0.9315486550331116, 0.034501802176237106, 0.294715017080307, 0.1764412224292755, 0.16868555545806885, 0.1124570369720459, 0.12215161323547363, 0.04071720317006111, 0.019389145076274872, 0.0019389145309105515, 0.02714480273425579, 0.02714480273425579, 0.005816743243485689, 0.0019389145309105515, 0.0019389145309105515, 0.347828209400177, 0.19413667917251587, 0.1779586225748062, 0.056623198091983795, 0.03235611319541931, 0.056623198091983795, 0.008089028298854828, 0.016178056597709656, 0.0889793112874031, 0.008089028298854828, 0.008089028298854828, 0.5846071243286133, 0.07015285640954971, 0.32737997174263, 0.12453092634677887, 0.25956445932388306, 0.057014159858226776, 0.08102012425661087, 0.18304546177387238, 0.04801192507147789, 0.14853689074516296, 0.00900223571807146, 0.040510062128305435, 0.010502608492970467, 0.01650409959256649, 0.01500372588634491, 0.003000745316967368, 0.001500372658483684, 0.9410855174064636, 0.8751035928726196, 0.11207203567028046, 0.05603601783514023, 0.5043241381645203, 0.1961260586977005, 0.11207203567028046, 0.37679165601730347, 0.1507166624069214, 0.0753583312034607, 0.0753583312034607, 0.3014333248138428, 0.5547656416893005, 0.31356319785118103, 0.04824049398303032, 0.07236073911190033, 0.9805837869644165, 0.1391657143831253, 0.3339977264404297, 0.1762765794992447, 0.046388573944568634, 0.09277714788913727, 0.14844343066215515, 0.05566628649830818, 0.009277714416384697, 0.5993255376815796, 0.06659172475337982, 0.05390758812427521, 0.16489379107952118, 0.030124828219413757, 0.04915103688836098, 0.007927586324512959, 0.006342069245874882, 0.006342069245874882, 0.003171034622937441, 0.004756551701575518, 0.004756551701575518, 0.003171034622937441, 0.40459030866622925, 0.40459030866622925, 0.08091806620359421, 0.19041036069393158, 0.7045183181762695, 0.0190410353243351, 0.05712310969829559, 0.2015429437160492, 0.6718098521232605, 0.044787321239709854, 0.044787321239709854, 0.06070849671959877, 0.12141699343919754, 0.44519564509391785, 0.020236166194081306, 0.1821254938840866, 0.08094466477632523, 0.04047233238816261, 0.04047233238816261, 0.32821571826934814, 0.2461617887020111, 0.08205392956733704, 0.2461617887020111, 0.08205392956733704, 0.13572092354297638, 0.33930230140686035, 0.16965115070343018, 0.30537208914756775, 0.033930230885744095, 0.24773912131786346, 0.41289854049682617, 0.08257970958948135, 0.08257970958948135, 0.08257970958948135, 0.9617603421211243, 0.2009163200855255, 0.19202621281147003, 0.28270524740219116, 0.04800655320286751, 0.08178894221782684, 0.049784574657678604, 0.019558224827051163, 0.01600218378007412, 0.07467686384916306, 0.014224164187908173, 0.003556041046977043, 0.005334061570465565, 0.003556041046977043, 0.008890102617442608, 0.39632177352905273, 0.03128856047987938, 0.14392738044261932, 0.18773137032985687, 0.0292026586830616, 0.05423350632190704, 0.04588989168405533, 0.012515424750745296, 0.0146013293415308, 0.022944945842027664, 0.0292026586830616, 0.010429521091282368, 0.002085904125124216, 0.012515424750745296, 0.006257712375372648, 0.9680858850479126, 0.03226952999830246, 0.12077866494655609, 0.29999861121177673, 0.25714167952537537, 0.031168688088655472, 0.07012955099344254, 0.019480429589748383, 0.1051943227648735, 0.027272602543234825, 0.011688257567584515, 0.015584344044327736, 0.015584344044327736, 0.003896086011081934, 0.02337651513516903, 0.003896086011081934, 0.3101530075073242, 0.6203060150146484, 0.06666479259729385, 0.19999437034130096, 0.2666591703891754, 0.1333295851945877, 0.33332395553588867, 0.3945322632789612, 0.5260429978370667, 0.3016413152217865, 0.15082065761089325, 0.10054710507392883, 0.10054710507392883, 0.10054710507392883, 0.050273552536964417, 0.050273552536964417, 0.050273552536964417, 0.14963370561599731, 0.14963370561599731, 0.523717999458313, 0.14963370561599731, 0.9291010499000549, 0.1756816804409027, 0.6148859262466431, 0.08784084022045135, 0.09609788656234741, 0.048048943281173706, 0.8168320059776306, 0.048048943281173706, 0.012694246135652065, 0.9647626876831055, 0.012694246135652065, 0.6167206168174744, 0.036277685314416885, 0.07255537062883377, 0.036277685314416885, 0.07255537062883377, 0.036277685314416885, 0.036277685314416885, 0.07255537062883377, 0.011732303537428379, 0.02933075837790966, 0.11732303351163864, 0.7625997066497803, 0.0058661517687141895, 0.046929214149713516, 0.017598453909158707, 0.27267807722091675, 0.18178538978099823, 0.14542831480503082, 0.07271415740251541, 0.09089269489049911, 0.018178539350628853, 0.018178539350628853, 0.036357078701257706, 0.036357078701257706, 0.05453561618924141, 0.07271415740251541, 0.22730222344398499, 0.40409284830093384, 0.20204642415046692, 0.025255803018808365, 0.025255803018808365, 0.025255803018808365, 0.05051160603761673, 0.03328711539506912, 0.04993067681789398, 0.6158116459846497, 0.18307913839817047, 0.09986135363578796, 0.37392356991767883, 0.03251509368419647, 0.09754528105258942, 0.21134810149669647, 0.08128773421049118, 0.016257546842098236, 0.03251509368419647, 0.03251509368419647, 0.11380282789468765, 0.2554401755332947, 0.31930020451545715, 0.19158011674880981, 0.06386004388332367, 0.06386004388332367, 0.06386004388332367, 0.18933628499507904, 0.3462149202823639, 0.42735904455184937, 0.005409608129411936, 0.02704804018139839, 0.03631404787302017, 0.8836418390274048, 0.024209365248680115, 0.03631404787302017, 0.1994255632162094, 0.00997127778828144, 0.109684057533741, 0.6680756211280823, 0.9655649662017822, 0.0189326461404562, 0.22078311443328857, 0.179570272564888, 0.22961443662643433, 0.11186344176530838, 0.04710039868950844, 0.0353252999484539, 0.08242569863796234, 0.014718874357640743, 0.029437748715281487, 0.020606424659490585, 0.0029437749180942774, 0.008831324987113476, 0.0029437749180942774, 0.014718874357640743, 0.20206628739833832, 0.17680799961090088, 0.378874272108078, 0.20206628739833832, 0.08728131651878357, 0.39276590943336487, 0.21820329129695892, 0.08728131651878357, 0.043640658259391785, 0.08728131651878357, 0.043640658259391785, 0.6188148856163025, 0.17680425941944122, 0.08840212970972061, 0.08840212970972061, 0.8822965025901794, 0.03781270608305931, 0.050416942685842514, 0.4549822509288788, 0.4549822509288788, 0.09473872929811478, 0.09473872929811478, 0.663171112537384, 0.09473872929811478, 0.20435398817062378, 0.6130619645118713, 0.12261238694190979, 0.08174159377813339, 0.9597948789596558, 0.06248760595917702, 0.8748264908790588, 0.30364376306533813, 0.16847330331802368, 0.15476036071777344, 0.10774455964565277, 0.08619564771652222, 0.05681076645851135, 0.05876975879073143, 0.009794959798455238, 0.013712943531572819, 0.0176309272646904, 0.011753952130675316, 0.00391798373311758, 0.00195899186655879, 0.30423563718795776, 0.03380396217107773, 0.16901980340480804, 0.2704316973686218, 0.10141187906265259, 0.06760792434215546, 0.03380396217107773, 0.951590895652771, 0.02537575736641884, 0.941238284111023, 0.030362525954842567, 0.24196045100688934, 0.12225370109081268, 0.3056342601776123, 0.028016472235322, 0.07640856504440308, 0.05093904212117195, 0.07386160641908646, 0.01018780842423439, 0.03565732762217522, 0.015281712636351585, 0.02037561684846878, 0.005093904212117195, 0.005093904212117195, 0.007640856318175793, 0.0025469521060585976, 0.2664617598056793, 0.6217440962791443, 0.08882058411836624, 0.4064110219478607, 0.16256439685821533, 0.16256439685821533, 0.2438466101884842, 0.6906483173370361, 0.17266207933425903, 0.11510805040597916, 0.5108946561813354, 0.16133515536785126, 0.026889191940426826, 0.05377838388085365, 0.026889191940426826, 0.08066757768392563, 0.026889191940426826, 0.05377838388085365, 0.026889191940426826, 0.12304738909006119, 0.3896500766277313, 0.030761847272515297, 0.010253949090838432, 0.010253949090838432, 0.010253949090838432, 0.2255868911743164, 0.18457108736038208, 0.010253949090838432, 0.49141159653663635, 0.22680534422397614, 0.11340267211198807, 0.03780088946223259, 0.07560177892446518, 0.03780088946223259, 0.3014102876186371, 0.6028205752372742, 0.03014102764427662, 0.03014102764427662, 0.24344944953918457, 0.24344944953918457, 0.24344944953918457, 0.16229963302612305, 0.08114981651306152, 0.25942283868789673, 0.1969691962003708, 0.20657745003700256, 0.08167015761137009, 0.07446396350860596, 0.04323714226484299, 0.07446396350860596, 0.024020634591579437, 0.0024020634591579437, 0.007206190377473831, 0.012010317295789719, 0.014412380754947662, 0.0048041269183158875, 0.08441228419542313, 0.4220614433288574, 0.16882456839084625, 0.25323686003685, 0.08441228419542313, 0.443601131439209, 0.2218005657196045, 0.14786703884601593, 0.07393351942300797, 0.11254729330539703, 0.36577871441841125, 0.1969577670097351, 0.11254729330539703, 0.08441046625375748, 0.02813682332634926, 0.02813682332634926, 0.05627364665269852, 0.21128608286380768, 0.19720034301280975, 0.1690288633108139, 0.01408573891967535, 0.2253718227148056, 0.09860017150640488, 0.01408573891967535, 0.0281714778393507, 0.01408573891967535, 0.01408573891967535, 0.01408573891967535, 0.6553646326065063, 0.0819205790758133, 0.0819205790758133, 0.0819205790758133, 0.3864843249320984, 0.1932421624660492, 0.08588540554046631, 0.042942702770233154, 0.15029945969581604, 0.042942702770233154, 0.021471351385116577, 0.06441405415534973, 0.09613816440105438, 0.09613816440105438, 0.4806908369064331, 0.09613816440105438, 0.09613816440105438, 0.09613816440105438, 0.081143818795681, 0.2434314638376236, 0.2434314638376236, 0.2434314638376236, 0.081143818795681, 0.081143818795681, 0.25142034888267517, 0.14182685315608978, 0.39324718713760376, 0.11604015529155731, 0.09025345742702484, 0.06379380077123642, 0.12758760154247284, 0.6379380226135254, 0.06379380077123642, 0.09569069743156433, 0.048836059868335724, 0.032557375729084015, 0.455803245306015, 0.14650818705558777, 0.27673768997192383, 0.016278687864542007, 0.5842157006263733, 0.09736927598714828, 0.09736927598714828, 0.09736927598714828, 0.09736927598714828, 0.09736927598714828, 0.39158013463020325, 0.06526335328817368, 0.326316773891449, 0.06526335328817368, 0.06526335328817368, 0.7475845813751221, 0.03450390323996544, 0.12651431560516357, 0.03450390323996544, 0.03450390323996544, 0.13975346088409424, 0.4192604124546051, 0.13975346088409424, 0.13975346088409424, 0.3215407133102417, 0.14185619354248047, 0.1040278822183609, 0.15761800110340118, 0.0346759594976902, 0.07880900055170059, 0.00630471995100379, 0.05674247816205025, 0.0346759594976902, 0.01576180011034012, 0.022066520527005196, 0.018914159387350082, 0.003152359975501895, 0.003152359975501895, 0.49454590678215027, 0.19781836867332458, 0.09890918433666229, 0.09890918433666229, 0.09890918433666229, 0.3230378329753876, 0.06460756808519363, 0.1938227117061615, 0.3230378329753876, 0.06460756808519363, 0.3775133788585663, 0.09437834471464157, 0.2831350564956665, 0.09437834471464157, 0.09437834471464157, 0.08633720874786377, 0.2590116262435913, 0.3453488349914551, 0.17267441749572754, 0.08633720874786377, 0.09089282155036926, 0.1363392323255539, 0.2726784646511078, 0.18178564310073853, 0.1363392323255539, 0.09089282155036926, 0.09089282155036926, 0.13433870673179626, 0.26867741346359253, 0.06716935336589813, 0.5373548269271851, 0.06286820024251938, 0.06286820024251938, 0.3772091865539551, 0.2514728009700775, 0.18860459327697754, 0.21058908104896545, 0.6863644123077393, 0.06239676475524902, 0.023398786783218384, 0.007799595594406128, 0.9112005233764648, 0.037966687232255936, 0.19472044706344604, 0.09736022353172302, 0.4868010878562927, 0.09736022353172302, 0.09736022353172302, 0.23200291395187378, 0.058000728487968445, 0.23200291395187378, 0.23200291395187378, 0.058000728487968445, 0.058000728487968445, 0.11600145697593689, 0.11173553019762039, 0.32947656512260437, 0.20055095851421356, 0.020055094733834267, 0.1375206559896469, 0.01146005466580391, 0.11173553019762039, 0.017190081998705864, 0.031515151262283325, 0.005730027332901955, 0.0028650136664509773, 0.005730027332901955, 0.01146005466580391, 0.0028650136664509773, 0.37939849495887756, 0.28454887866973877, 0.18969924747943878, 0.09484962373971939, 0.2279810905456543, 0.2279810905456543, 0.2707275450229645, 0.014248818159103394, 0.11399054527282715, 0.028497636318206787, 0.04274645447731018, 0.04274645447731018, 0.12370062619447708, 0.013744513504207134, 0.41233542561531067, 0.4398244321346283, 0.28355205059051514, 0.09451734274625778, 0.09451734274625778, 0.18903468549251556, 0.28355205059051514, 0.04974902421236038, 0.19899609684944153, 0.6467373371124268, 0.04974902421236038, 0.04974902421236038, 0.31142693758010864, 0.15571346879005432, 0.03892836719751358, 0.1946418434381485, 0.03892836719751358, 0.15571346879005432, 0.03892836719751358, 0.03892836719751358, 0.8936362862586975, 0.03309763967990875, 0.04964645951986313, 0.26475727558135986, 0.04412621632218361, 0.573640763759613, 0.04412621632218361, 0.04412621632218361, 0.025602590292692184, 0.3328336775302887, 0.012801295146346092, 0.5120518207550049, 0.05120518058538437, 0.06400647759437561, 0.8838405013084412, 0.0027279029600322247, 0.013639514334499836, 0.057285960763692856, 0.027279028668999672, 0.008183708414435387, 0.0027279029600322247, 0.4109010100364685, 0.18262267112731934, 0.09131133556365967, 0.045655667781829834, 0.273934006690979, 0.2966809570789337, 0.18049031496047974, 0.09250128269195557, 0.19628320634365082, 0.09475741535425186, 0.04963483661413193, 0.019177095964550972, 0.019177095964550972, 0.007896451279520988, 0.014664838090538979, 0.00676838681101799, 0.0011280644685029984, 0.0011280644685029984, 0.018049031496047974, 0.0011280644685029984, 0.40909749269485474, 0.1128544807434082, 0.12696129083633423, 0.1128544807434082, 0.042320430278778076, 0.09874767065048218, 0.014106810092926025, 0.014106810092926025, 0.014106810092926025, 0.042320430278778076, 0.6036673784255981, 0.034009430557489395, 0.029758252203464508, 0.1317865401506424, 0.04251179099082947, 0.1317865401506424, 0.004251178819686174, 0.01275353692471981, 0.004251178819686174, 0.004251178819686174, 0.16515085101127625, 0.6055530905723572, 0.22020113468170166, 0.9619713425636292, 0.4089851677417755, 0.04762155935168266, 0.08403804898262024, 0.21289637684822083, 0.05602536350488663, 0.10084565728902817, 0.008403804153203964, 0.028012681752443314, 0.02241014502942562, 0.008403804153203964, 0.014006340876221657, 0.0028012681286782026, 0.0028012681286782026, 0.0028012681286782026, 0.4837099313735962, 0.1978813260793686, 0.04397362843155861, 0.13192088901996613, 0.04397362843155861, 0.04397362843155861, 0.021986814215779305, 0.021986814215779305, 0.021986814215779305, 0.3807855546474457, 0.3173212707042694, 0.12692850828170776, 0.06346425414085388, 0.06346425414085388, 0.2862720787525177, 0.2862720787525177, 0.19084805250167847, 0.09542402625083923, 0.09542402625083923, 0.11293541640043259, 0.45174166560173035, 0.22587083280086517, 0.07529027760028839, 0.07529027760028839, 0.12083729356527328, 0.28195369243621826, 0.20139548182487488, 0.040279097855091095, 0.16111639142036438, 0.08055819571018219, 0.040279097855091095, 0.08055819571018219, 0.41490504145622253, 0.14936581254005432, 0.11489678174257278, 0.10851362347602844, 0.08170437812805176, 0.035745665431022644, 0.03829892724752426, 0.01914946362376213, 0.01021304726600647, 0.014042939990758896, 0.007659785449504852, 0.0025532618165016174, 0.0025532618165016174, 0.30822697281837463, 0.1497102528810501, 0.11448431015014648, 0.07045187801122665, 0.03522593900561333, 0.03522593900561333, 0.05283891037106514, 0.008806484751403332, 0.16732321679592133, 0.03522593900561333, 0.008806484751403332, 0.008806484751403332, 0.06872794777154922, 0.13745589554309845, 0.06872794777154922, 0.6872795224189758, 0.37052878737449646, 0.016109947115182877, 0.0362473800778389, 0.257759153842926, 0.008054973557591438, 0.2013743370771408, 0.012082460336387157, 0.06041229888796806, 0.004027486778795719, 0.03221989423036575, 0.4746917188167572, 0.15823057293891907, 0.2373458594083786, 0.12917648255825043, 0.839647114276886, 0.2982504963874817, 0.6391082406044006, 0.19088810682296753, 0.1363486498594284, 0.24542757868766785, 0.10907892137765884, 0.05453946068882942, 0.05453946068882942, 0.08180919289588928, 0.02726973034441471, 0.02726973034441471, 0.05453946068882942, 0.02726973034441471, 0.31827351450920105, 0.1825065016746521, 0.1268642693758011, 0.09125325083732605, 0.068996362388134, 0.10905876010656357, 0.031159646809101105, 0.013354133814573288, 0.013354133814573288, 0.02448257803916931, 0.008902755565941334, 0.006677066907286644, 0.0022256888914853334, 0.0022256888914853334, 0.0022256888914853334, 0.3901301920413971, 0.17733190953731537, 0.07093276083469391, 0.07093276083469391, 0.035466380417346954, 0.035466380417346954, 0.17733190953731537, 0.3210318088531494, 0.08025795221328735, 0.24077385663986206, 0.1605159044265747, 0.1605159044265747, 0.33993813395500183, 0.12700985372066498, 0.19425036013126373, 0.07844725996255875, 0.04856259003281593, 0.06724050641059875, 0.0522981733083725, 0.007471167948096991, 0.011206751689314842, 0.007471167948096991, 0.029884671792387962, 0.011206751689314842, 0.0037355839740484953, 0.014942335896193981, 0.31658443808555603, 0.047487664967775345, 0.12663377821445465, 0.2532675564289093, 0.11080455034971237, 0.03165844455361366, 0.047487664967775345, 0.01582922227680683, 0.047487664967775345, 0.05669567734003067, 0.1700870245695114, 0.28347837924957275, 0.1700870245695114, 0.28347837924957275, 0.2722538709640503, 0.10890155285596848, 0.05445077642798424, 0.32670465111732483, 0.21780310571193695, 0.28218406438827515, 0.20974601805210114, 0.16541825234889984, 0.07027573138475418, 0.07784388214349747, 0.029191456735134125, 0.017298640683293343, 0.007568155415356159, 0.09730485081672668, 0.019460970535874367, 0.008649320341646671, 0.0032434952445328236, 0.006486990489065647, 0.0032434952445328236, 0.001081165042705834, 0.3827757239341736, 0.4784696400165558, 0.0956939309835434, 0.18599720299243927, 0.2479962706565857, 0.2479962706565857, 0.18599720299243927, 0.12399813532829285, 0.10906524956226349, 0.24539680778980255, 0.4089946746826172, 0.1908641904592514, 0.3557162582874298, 0.2910405695438385, 0.19402705132961273, 0.032337840646505356, 0.032337840646505356, 0.06467568129301071, 0.3740481734275818, 0.28053614497184753, 0.1870240867137909, 0.3167913556098938, 0.23759351670742035, 0.07919783890247345, 0.27719244360923767, 0.07919783890247345, 0.3169642686843872, 0.1408730000257492, 0.055342964828014374, 0.040249429643154144, 0.1492583006620407, 0.005031178705394268, 0.03857237100601196, 0.006708238273859024, 0.21466362476348877, 0.001677059568464756, 0.005031178705394268, 0.010062357410788536, 0.013416476547718048, 0.041013821959495544, 0.440898597240448, 0.042722731828689575, 0.0068356371484696865, 0.32127493619918823, 0.0034178185742348433, 0.09569891542196274, 0.0068356371484696865, 0.01708909310400486, 0.00854454655200243, 0.0017089092871174216, 0.0017089092871174216, 0.01538018323481083, 0.17794790863990784, 0.496097207069397, 0.026961805298924446, 0.021569443866610527, 0.043138887733221054, 0.010784721933305264, 0.16177083551883698, 0.005392360966652632, 0.005392360966652632, 0.010784721933305264, 0.043138887733221054, 0.6083266139030457, 0.08690380305051804, 0.2607114017009735, 0.8201642632484436, 0.010252052918076515, 0.09226848185062408, 0.02050410583615303, 0.010252052918076515, 0.02050410583615303, 0.010252052918076515, 0.2311735302209854, 0.308231383562088, 0.09632230550050735, 0.0192644614726305, 0.2697024643421173, 0.038528922945261, 0.0192644614726305, 0.3381701111793518, 0.1101902648806572, 0.14818690717220306, 0.10259093344211578, 0.041796304285526276, 0.08359260857105255, 0.030397312715649605, 0.07599328458309174, 0.026597648859024048, 0.007599328178912401, 0.030397312715649605, 0.0037996640894562006, 0.017283717170357704, 0.008641858585178852, 0.7345579862594604, 0.02592557482421398, 0.13826973736286163, 0.017283717170357704, 0.008641858585178852, 0.008641858585178852, 0.03456743434071541, 0.4550447463989258, 0.17260317504405975, 0.18829438090324402, 0.09414719045162201, 0.015691198408603668, 0.015691198408603668, 0.06276479363441467, 0.083859384059906, 0.7715063095092773, 0.11740313470363617, 0.26194432377815247, 0.04365738853812218, 0.30560171604156494, 0.1746295541524887, 0.08731477707624435, 0.04365738853812218, 0.04365738853812218, 0.17134636640548706, 0.11423090845346451, 0.1817309856414795, 0.20250023901462555, 0.005192313808947802, 0.04153851047158241, 0.15576942265033722, 0.005192313808947802, 0.057115454226732254, 0.015576941892504692, 0.04153851047158241, 0.005192313808947802, 0.09346039593219757, 0.09346039593219757, 0.18692079186439514, 0.46730196475982666, 0.2085273265838623, 0.2657913267612457, 0.1901596337556839, 0.058344434946775436, 0.1037234365940094, 0.0345744788646698, 0.05726398155093193, 0.009724072180688381, 0.029172217473387718, 0.027011312544345856, 0.0032413573935627937, 0.004321809858083725, 0.0032413573935627937, 0.0032413573935627937, 0.0010804524645209312, 0.3267382085323334, 0.11629665642976761, 0.24366918206214905, 0.0969138815999031, 0.0027689679991453886, 0.08306904137134552, 0.013844840228557587, 0.024920711293816566, 0.008306903764605522, 0.03322761505842209, 0.016613807529211044, 0.013844840228557587, 0.011075871996581554, 0.005537935998290777, 0.5166608691215515, 0.030391816049814224, 0.030391816049814224, 0.06078363209962845, 0.030391816049814224, 0.030391816049814224, 0.030391816049814224, 0.18235088884830475, 0.06078363209962845, 0.22600771486759186, 0.18833976984024048, 0.1506718099117279, 0.11300385743379593, 0.07533590495586395, 0.09416988492012024, 0.018833976238965988, 0.037667952477931976, 0.018833976238965988, 0.056501928716897964, 0.018833976238965988, 0.2838302254676819, 0.17432093620300293, 0.18549534678459167, 0.10950930416584015, 0.07151628285646439, 0.031288374215364456, 0.031288374215364456, 0.04022790864109993, 0.033523257821798325, 0.015644187107682228, 0.013409302569925785, 0.004469767678529024, 0.004469767678529024, 0.3778535723686218, 0.0755707174539566, 0.3022828698158264, 0.0755707174539566, 0.0755707174539566, 0.0755707174539566, 0.13295219838619232, 0.22158700227737427, 0.1772695928812027, 0.13295219838619232, 0.044317398220300674, 0.044317398220300674, 0.044317398220300674, 0.044317398220300674, 0.08863479644060135, 0.1888124644756317, 0.09440623223781586, 0.09440623223781586, 0.3776249289512634, 0.09440623223781586, 0.09440623223781586, 0.17859084904193878, 0.20037022233009338, 0.23521722853183746, 0.026135247200727463, 0.20037022233009338, 0.026135247200727463, 0.07840573787689209, 0.004355874378234148, 0.004355874378234148, 0.039202868938446045, 0.004355874378234148, 0.22534306347370148, 0.45068612694740295, 0.22534306347370148, 0.36675503849983215, 0.09168875962495804, 0.4584437906742096, 0.7815424203872681, 0.04033767431974411, 0.015126627869904041, 0.11092860251665115, 0.03529546409845352, 0.005042209289968014, 0.005042209289968014, 0.1442461758852005, 0.09616411477327347, 0.048082057386636734, 0.048082057386636734, 0.576984703540802, 0.048082057386636734, 0.1884053647518158, 0.125603586435318, 0.1884053647518158, 0.062801793217659, 0.125603586435318, 0.1884053647518158, 0.062801793217659, 0.43840017914772034, 0.5415531992912292, 0.6446823477745056, 0.3223411738872528, 0.3821927607059479, 0.06369879096746445, 0.06369879096746445, 0.1273975819349289, 0.1273975819349289, 0.06369879096746445, 0.06369879096746445, 0.1273975819349289, 0.06369879096746445, 0.4957226812839508, 0.03672019764780998, 0.030600164085626602, 0.27234145998954773, 0.009180049411952496, 0.0918004959821701, 0.02448013238608837, 0.009180049411952496, 0.0030600165482610464, 0.02142011560499668, 0.006120033096522093, 0.0030600165482610464, 0.06469467282295227, 0.38816800713539124, 0.32347336411476135, 0.19408400356769562, 0.9471595287322998, 0.9235627055168152, 0.5815849900245667, 0.05464556813240051, 0.04683905839920044, 0.17954972386360168, 0.039032548666000366, 0.015613019466400146, 0.027322784066200256, 0.0039032548666000366, 0.027322784066200256, 0.0039032548666000366, 0.01170976459980011, 0.0039032548666000366, 0.0039032548666000366, 0.4851433336734772, 0.09702866524457932, 0.19405733048915863, 0.09702866524457932, 0.09702866524457932, 0.4118693768978119, 0.08237387239933014, 0.08237387239933014, 0.16474774479866028, 0.16474774479866028, 0.08237387239933014, 0.1585906445980072, 0.3964766263961792, 0.1585906445980072, 0.0792953222990036, 0.1585906445980072, 0.0792953222990036, 0.25839871168136597, 0.3445316255092621, 0.25839871168136597, 0.27191445231437683, 0.16994653642177582, 0.16994653642177582, 0.20393584668636322, 0.13595722615718842, 0.033989306539297104, 0.34977987408638, 0.20668810606002808, 0.031798169016838074, 0.2543853521347046, 0.015899084508419037, 0.04769725352525711, 0.015899084508419037, 0.09539450705051422, 0.16257856786251068, 0.19021692872047424, 0.26012569665908813, 0.06177985668182373, 0.0991729274392128, 0.02113521471619606, 0.08291506767272949, 0.008128928020596504, 0.05852828547358513, 0.01950942911207676, 0.00487735727801919, 0.013006285764276981, 0.00975471455603838, 0.00487735727801919, 0.937480092048645, 0.8821033239364624, 0.08019120991230011, 0.767525851726532, 0.18420620262622833, 0.6331409811973572, 0.057558272033929825, 0.057558272033929825, 0.14389568567276, 0.028779136016964912, 0.028779136016964912, 0.028779136016964912, 0.2640764117240906, 0.0817379355430603, 0.22635121643543243, 0.11317560821771622, 0.050300270318984985, 0.1383257359266281, 0.06287533789873123, 0.01886260136961937, 0.012575067579746246, 0.006287533789873123, 0.006287533789873123, 0.031437668949365616, 0.9311841130256653, 0.01981242746114731, 0.03962485492229462, 0.24496042728424072, 0.10392260551452637, 0.16330695152282715, 0.21526825428009033, 0.08907651901245117, 0.08907651901245117, 0.014846086502075195, 0.007423043251037598, 0.022269129753112793, 0.014846086502075195, 0.02969217300415039, 0.18017280101776123, 0.013859446160495281, 0.30490782856941223, 0.19403225183486938, 0.2217511385679245, 0.08315667510032654, 0.1009252667427063, 0.025231316685676575, 0.21446619927883148, 0.6181672811508179, 0.025231316685676575, 0.012615658342838287, 0.34197500348091125, 0.15361443161964417, 0.11521082371473312, 0.11521082371473312, 0.10058087855577469, 0.053033556789159775, 0.04206109419465065, 0.027431149035692215, 0.031088635325431824, 0.0036574865225702524, 0.007314973045140505, 0.0036574865225702524, 0.0054862299002707005, 0.5411778688430786, 0.2705889344215393, 0.09019631892442703, 0.09019631892442703, 0.06590352952480316, 0.14498776197433472, 0.05272282287478447, 0.7117581367492676, 0.013180705718696117, 0.3446381986141205, 0.22975881397724152, 0.3446381986141205, 0.05743970349431038, 0.2746320962905884, 0.19141024351119995, 0.266309916973114, 0.04993310570716858, 0.05825529247522354, 0.016644369810819626, 0.008322184905409813, 0.03328873962163925, 0.09986621141433716, 0.008322184905409813, 0.11959812045097351, 0.06870530545711517, 0.42113807797431946, 0.04834817722439766, 0.12723204493522644, 0.01145088393241167, 0.08270082622766495, 0.005089281592518091, 0.0330803319811821, 0.04707585647702217, 0.005089281592518091, 0.013995525427162647, 0.0012723203981295228, 0.013995525427162647, 0.21110861003398895, 0.18680834770202637, 0.2528747022151947, 0.0668257474899292, 0.06530698388814926, 0.05391623079776764, 0.07441958785057068, 0.01442828681319952, 0.03720979392528534, 0.017465820536017418, 0.009871985763311386, 0.002278150524944067, 0.002278150524944067, 0.005315684713423252, 0.0007593834889121354, 0.9108728766441345, 0.029702376574277878, 0.029702376574277878, 0.009900791570544243, 0.37548932433128357, 0.10890061408281326, 0.17336978018283844, 0.11412784457206726, 0.042689040303230286, 0.06446916610002518, 0.041817836463451385, 0.019166508689522743, 0.012196868658065796, 0.016552893444895744, 0.020908918231725693, 0.00348481978289783, 0.001742409891448915, 0.00348481978289783, 0.001742409891448915, 0.4895133376121521, 0.2097914218902588, 0.13986094295978546, 0.06993047147989273, 0.1773003339767456, 0.30288806557655334, 0.08126264810562134, 0.0073875137604773045, 0.029550055041909218, 0.0073875137604773045, 0.1994628608226776, 0.014775027520954609, 0.0221625417470932, 0.014775027520954609, 0.1329752504825592, 0.014775027520954609, 0.3498092591762543, 0.2915077209472656, 0.17490462958812714, 0.058301541954278946, 0.38834941387176514, 0.25889959931373596, 0.12944979965686798, 0.06472489982843399, 0.12944979965686798, 0.2785664200782776, 0.20797081291675568, 0.14882315695285797, 0.1182953268289566, 0.08395152539014816, 0.03815978392958641, 0.04197576269507408, 0.009539945982396603, 0.036251794546842575, 0.026711847633123398, 0.005723967216908932, 0.0019079891499131918, 0.34042954444885254, 0.6383053660392761, 0.20646390318870544, 0.13764260709285736, 0.3441064953804016, 0.13764260709285736, 0.06882130354642868, 0.0723295509815216, 0.1446591019630432, 0.1446591019630432, 0.6509659886360168, 0.11074837297201157, 0.05537418648600578, 0.7752386331558228, 0.40605631470680237, 0.12001664191484451, 0.07401026040315628, 0.15802191197872162, 0.06200860068202019, 0.10201414674520493, 0.028003882616758347, 0.012001664377748966, 0.0020002773962914944, 0.008001109585165977, 0.016002219170331955, 0.0020002773962914944, 0.004000554792582989, 0.004000554792582989, 0.10404709726572037, 0.48555314540863037, 0.24277657270431519, 0.13872946798801422, 0.15894892811775208, 0.3346293270587921, 0.05437726527452469, 0.05856013298034668, 0.26352059841156006, 0.016731467097997665, 0.06274300068616867, 0.008365733548998833, 0.025097200646996498, 0.016731467097997665, 0.004182866774499416, 0.07535747438669205, 0.6028597950935364, 0.22607243061065674, 0.5008167624473572, 0.04552879557013512, 0.13658639788627625, 0.22764398157596588, 0.04552879557013512, 0.2676953077316284, 0.1338476538658142, 0.23005065321922302, 0.1338476538658142, 0.05019286647439003, 0.0752893015742302, 0.02091369591653347, 0.012548216618597507, 0.05019286647439003, 0.008365478366613388, 0.004182739183306694, 0.016730956733226776, 0.43993595242500305, 0.10998398810625076, 0.16497598588466644, 0.09623599052429199, 0.04124399647116661, 0.04124399647116661, 0.04124399647116661, 0.013747998513281345, 0.013747998513281345, 0.02749599702656269, 0.9504001140594482, 0.10546496510505676, 0.5339163541793823, 0.09228184074163437, 0.019774680957198143, 0.02636624127626419, 0.02636624127626419, 0.06591559946537018, 0.03295779973268509, 0.05273248255252838, 0.03295779973268509, 0.006591560319066048, 0.08064573258161545, 0.5376381874084473, 0.08064573258161545, 0.26881909370422363, 0.18942368030548096, 0.28413552045822144, 0.3788473606109619, 0.09471184015274048, 0.4579513669013977, 0.2616865038871765, 0.06542162597179413, 0.13084325194358826, 0.47245678305625916, 0.15748558938503265, 0.07874279469251633, 0.23622839152812958, 0.1839471459388733, 0.1839471459388733, 0.6438150405883789, 0.45460623502731323, 0.272763729095459, 0.09092124551534653, 0.09092124551534653, 0.9233312606811523, 0.7375733852386475, 0.1134728342294693, 0.05673641711473465, 0.9209522008895874, 0.04186146333813667, 0.9378196597099304, 0.4584336280822754, 0.06763774901628494, 0.11022448539733887, 0.10771937668323517, 0.08016326278448105, 0.07765816152095795, 0.022545916959643364, 0.037576526403427124, 0.012525509111583233, 0.0025051019620150328, 0.01753571256995201, 0.0025051019620150328, 0.0025051019620150328, 0.10583430528640747, 0.09701477736234665, 0.3175029158592224, 0.22048813104629517, 0.2381271868944168, 0.008819525130093098, 0.7667301297187805, 0.09584126621484756, 0.09584126621484756, 0.9412440657615662, 0.7203614115715027, 0.1108248308300972, 0.0554124154150486, 0.9523884654045105, 0.30047914385795593, 0.22535936534404755, 0.22535936534404755, 0.22535936534404755, 0.2916199862957001, 0.34994399547576904, 0.11664799600839615, 0.058323998004198074, 0.058323998004198074, 0.058323998004198074, 0.504368245601654, 0.08406137675046921, 0.08406137675046921, 0.16812275350093842, 0.922635555267334, 0.32133057713508606, 0.17435425519943237, 0.18444086611270905, 0.11815742403268814, 0.06051965802907944, 0.04611021652817726, 0.02305510826408863, 0.007204721216112375, 0.020173219963908195, 0.021614164113998413, 0.00864566583186388, 0.00864566583186388, 0.0014409442665055394, 0.002881888533011079, 0.8477351665496826, 0.0023353586439043283, 0.004670717287808657, 0.09341434389352798, 0.009341434575617313, 0.03503037989139557, 0.08593912422657013, 0.77345210313797, 0.08593912422657013, 0.908822238445282, 0.05346013233065605, 0.4426988363265991, 0.1475662738084793, 0.22134941816329956, 0.07378313690423965, 0.4666130244731903, 0.008483873680233955, 0.008483873680233955, 0.2799678146839142, 0.004241936840116978, 0.1611935943365097, 0.021209683269262314, 0.021209683269262314, 0.01696774736046791, 0.004241936840116978, 0.004241936840116978, 0.004241936840116978, 0.9416970014572144, 0.9896975755691528, 0.005236495286226273, 0.3227151036262512, 0.21872912347316742, 0.18287189304828644, 0.01075716968625784, 0.05378584936261177, 0.007171446457505226, 0.06812874227762222, 0.06454302370548248, 0.028685785830020905, 0.007171446457505226, 0.01792861707508564, 0.014342892915010452, 0.003585723228752613, 0.04600885882973671, 0.9109753966331482, 0.0046008857898414135, 0.0046008857898414135, 0.0046008857898414135, 0.023004429414868355, 0.28467443585395813, 0.11721888184547424, 0.05023666471242905, 0.2679288685321808, 0.08372776955366135, 0.08372776955366135, 0.0167455542832613, 0.0167455542832613, 0.0669822171330452, 0.23896682262420654, 0.3186224400997162, 0.1593112200498581, 0.3186224400997162, 0.23109056055545807, 0.2291807234287262, 0.22536104917526245, 0.0878526121377945, 0.04583614319562912, 0.04774598404765129, 0.04774598404765129, 0.02291807159781456, 0.03628694638609886, 0.01145903579890728, 0.0019098393386229873, 0.0038196786772459745, 0.00572951789945364, 0.0038196786772459745, 0.3189409673213959, 0.1510773003101349, 0.24969719350337982, 0.07344035059213638, 0.031474437564611435, 0.03567102923989296, 0.08183353394269943, 0.00839318335056305, 0.012589774094522, 0.010491479188203812, 0.014688069932162762, 0.006294887047261, 0.0020982958376407623, 0.0020982958376407623, 0.24730928242206573, 0.19881726801395416, 0.2133648693561554, 0.11153163760900497, 0.024246009066700935, 0.03879361227154732, 0.09698403626680374, 0.004849201533943415, 0.024246009066700935, 0.004849201533943415, 0.004849201533943415, 0.024246009066700935, 0.004849201533943415, 0.004849201533943415, 0.8952293395996094, 0.003208707319572568, 0.054548025131225586, 0.019252244383096695, 0.016043536365032196, 0.006417414639145136, 0.34162792563438416, 0.13964353501796722, 0.21943983435630798, 0.08478356897830963, 0.08478356897830963, 0.03989814966917038, 0.009974537417292595, 0.04488541930913925, 0.022442709654569626, 0.009974537417292595, 0.0024936343543231487, 0.0024936343543231487, 0.0024936343543231487, 0.4398917555809021, 0.10418488830327988, 0.13601915538311005, 0.12733708322048187, 0.037622321397066116, 0.06366854161024094, 0.02025817334651947, 0.043410371989011765, 0.008682074025273323, 0.005788049660623074, 0.011576099321246147, 0.2853214740753174, 0.1894150823354721, 0.17263147234916687, 0.04315786808729172, 0.09350871294736862, 0.06713446229696274, 0.09590637683868408, 0.01198829710483551, 0.009590637870132923, 0.01198829710483551, 0.007192978169769049, 0.0047953189350664616, 0.0047953189350664616, 0.0023976594675332308, 0.7535640597343445, 0.09419550746679306, 0.09419550746679306, 0.05674763023853302, 0.45398104190826416, 0.11349526047706604, 0.11349526047706604, 0.11349526047706604, 0.17024289071559906, 0.1826837807893753, 0.09134189039468765, 0.1826837807893753, 0.13701282441616058, 0.09134189039468765, 0.1826837807893753, 0.045670945197343826, 0.5067307949066162, 0.1351282149553299, 0.1351282149553299, 0.033782053738832474, 0.06756410747766495, 0.06756410747766495, 0.27602648735046387, 0.19321852922439575, 0.09936953336000443, 0.07728741317987442, 0.04416423663496971, 0.016561588272452354, 0.19873906672000885, 0.005520529579371214, 0.011041059158742428, 0.03864370658993721, 0.027602648362517357, 0.011041059158742428, 0.2980329394340515, 0.1458459049463272, 0.14267535507678986, 0.14267535507678986, 0.025364506989717484, 0.05707013979554176, 0.08877576887607574, 0.019023379310965538, 0.009511689655482769, 0.019023379310965538, 0.03170563280582428, 0.006341126747429371, 0.006341126747429371, 0.006341126747429371, 0.35223567485809326, 0.1545184850692749, 0.1711333692073822, 0.08307445049285889, 0.04818318411707878, 0.05482913926243782, 0.018276380375027657, 0.023260846734046936, 0.06645955890417099, 0.004984467290341854, 0.009968934580683708, 0.008307444863021374, 0.0016614890191704035, 0.004984467290341854, 0.17182280123233795, 0.17182280123233795, 0.25200676918029785, 0.06872911751270294, 0.04581941291689873, 0.022909706458449364, 0.09163882583379745, 0.13745823502540588, 0.022909706458449364, 0.18670637905597687, 0.21832601726055145, 0.2439228594303131, 0.07076774537563324, 0.07528483122587204, 0.04818229377269745, 0.05872216820716858, 0.02107975259423256, 0.018068360164761543, 0.018068360164761543, 0.022585449740290642, 0.009034180082380772, 0.0030113933607935905, 0.007528482936322689, 0.0556943379342556, 0.8911094069480896, 0.40810102224349976, 0.03710009157657623, 0.07420018315315247, 0.4452010989189148], \"Term\": [\"abbey\", \"abbey\", \"abbey\", \"abbey\", \"abundance\", \"abundance\", \"abundance\", \"abundance\", \"abundance\", \"abundance\", \"abundance\", \"abundance\", \"acquiescence\", \"acquiescence\", \"acquiescence\", \"acquiescence\", \"acquiescence\", \"acquiescence\", \"acquiescence\", \"addressing\", \"addressing\", \"addressing\", \"addressing\", \"addressing\", \"addressing\", \"addressing\", \"addressing\", \"addressing\", \"addressing\", \"adele\", \"adele\", \"adele\", \"adele\", \"adele\", \"advisable\", \"advisable\", \"advisable\", \"advisable\", \"advisable\", \"advisable\", \"advisable\", \"advocate\", \"advocate\", \"advocate\", \"advocate\", \"advocate\", \"advocate\", \"afraid\", \"afraid\", \"afraid\", \"afraid\", \"afraid\", \"afraid\", \"afraid\", \"afraid\", \"afraid\", \"afraid\", \"afraid\", \"afraid\", \"afraid\", \"agent\", \"agent\", \"agent\", \"agreeably\", \"agreeably\", \"agreeably\", \"agreeably\", \"ah\", \"ah\", \"ah\", \"ah\", \"ah\", \"ah\", \"ah\", \"ah\", \"ah\", \"ah\", \"ah\", \"ah\", \"airs\", \"airs\", \"airs\", \"airs\", \"allenham\", \"allenham\", \"allenham\", \"alley\", \"alley\", \"alley\", \"alley\", \"amply\", \"amply\", \"amply\", \"amply\", \"amply\", \"amply\", \"anticipate\", \"anticipate\", \"anticipate\", \"anticipate\", \"anticipate\", \"apple\", \"apple\", \"apple\", \"apple\", \"apples\", \"apples\", \"apples\", \"apples\", \"apples\", \"apron\", \"apron\", \"apron\", \"apron\", \"arranged\", \"arranged\", \"arranged\", \"arranged\", \"arranged\", \"arranged\", \"arranged\", \"arranged\", \"arranged\", \"arranged\", \"asked\", \"asked\", \"asked\", \"asked\", \"asked\", \"asked\", \"asked\", \"asked\", \"asked\", \"asked\", \"asked\", \"asked\", \"asked\", \"asked\", \"assertion\", \"assertion\", \"assertion\", \"assisted\", \"assisted\", \"assisted\", \"assisted\", \"assisted\", \"assisted\", \"assurances\", \"assurances\", \"assurances\", \"assurances\", \"assurances\", \"assurances\", \"attach\", \"attach\", \"attach\", \"attach\", \"attachment\", \"attachment\", \"attachment\", \"attachment\", \"attachment\", \"attachment\", \"attachment\", \"attachment\", \"attachment\", \"aunt\", \"aunt\", \"aunt\", \"aunt\", \"aunt\", \"aunt\", \"aunt\", \"aunt\", \"aunt\", \"avail\", \"avail\", \"avail\", \"avail\", \"avail\", \"away\", \"away\", \"away\", \"away\", \"away\", \"away\", \"away\", \"away\", \"away\", \"away\", \"away\", \"away\", \"away\", \"away\", \"awkwardness\", \"awkwardness\", \"awkwardness\", \"awkwardness\", \"bank\", \"bank\", \"bank\", \"bank\", \"barely\", \"barely\", \"barely\", \"barton\", \"barton\", \"barton\", \"basket\", \"basket\", \"basket\", \"basket\", \"basket\", \"basket\", \"basket\", \"bassompierre\", \"bassompierre\", \"bassompierre\", \"bassompierre\", \"bates\", \"bates\", \"bates\", \"bates\", \"beating\", \"beau\", \"beau\", \"beau\", \"beau\", \"beau\", \"beck\", \"beck\", \"beck\", \"beck\", \"beck\", \"beck\", \"began\", \"began\", \"began\", \"began\", \"began\", \"began\", \"began\", \"began\", \"began\", \"began\", \"began\", \"began\", \"began\", \"began\", \"begins\", \"begins\", \"begins\", \"begins\", \"belgian\", \"belgian\", \"belle\", \"belle\", \"bells\", \"bennet\", \"bennet\", \"bennet\", \"berkeley\", \"bessie\", \"bessie\", \"bessie\", \"bessie\", \"betraying\", \"betraying\", \"betraying\", \"betraying\", \"betraying\", \"betraying\", \"better\", \"better\", \"better\", \"better\", \"better\", \"better\", \"better\", \"better\", \"better\", \"better\", \"better\", \"better\", \"better\", \"better\", \"better\", \"bien\", \"bien\", \"bien\", \"bien\", \"bien\", \"bingley\", \"bingley\", \"bingley\", \"bingley\", \"blaze\", \"blaze\", \"blaze\", \"blaze\", \"blood\", \"blood\", \"blood\", \"blood\", \"blood\", \"blood\", \"blood\", \"blood\", \"blood\", \"blood\", \"body\", \"body\", \"body\", \"body\", \"body\", \"body\", \"body\", \"body\", \"body\", \"body\", \"body\", \"body\", \"body\", \"bon\", \"bon\", \"bon\", \"bon\", \"bond\", \"bond\", \"bond\", \"bond\", \"bourgh\", \"braided\", \"braided\", \"braided\", \"braided\", \"braided\", \"brandon\", \"brandon\", \"brandon\", \"brandon\", \"brandon\", \"breakfast\", \"breakfast\", \"breakfast\", \"breakfast\", \"breakfast\", \"breakfast\", \"breakfast\", \"breakfast\", \"breakfast\", \"bretton\", \"bretton\", \"bretton\", \"bretton\", \"brighton\", \"brocklehurst\", \"brocklehurst\", \"brother\", \"brother\", \"brother\", \"brother\", \"brother\", \"brother\", \"brother\", \"brother\", \"brother\", \"brother\", \"brother\", \"brought\", \"brought\", \"brought\", \"brought\", \"brought\", \"brought\", \"brought\", \"brought\", \"brought\", \"brought\", \"brought\", \"brought\", \"brunswick\", \"burns\", \"burns\", \"butter\", \"butter\", \"butter\", \"butter\", \"butter\", \"butter\", \"calmness\", \"calmness\", \"calmness\", \"calmness\", \"calmness\", \"calmness\", \"came\", \"came\", \"came\", \"came\", \"came\", \"came\", \"came\", \"came\", \"came\", \"came\", \"came\", \"came\", \"came\", \"came\", \"campbell\", \"campbell\", \"campbell\", \"campbells\", \"campbells\", \"card\", \"card\", \"card\", \"card\", \"card\", \"card\", \"card\", \"card\", \"caroline\", \"caroline\", \"caroline\", \"caroline\", \"carre\", \"carre\", \"carre\", \"carre\", \"carre\", \"cat\", \"cat\", \"cat\", \"cat\", \"catherine\", \"catherine\", \"catherine\", \"ce\", \"ce\", \"ce\", \"ce\", \"ce\", \"cela\", \"cela\", \"cela\", \"charlotte\", \"charlotte\", \"charlotte\", \"charlotte\", \"cheering\", \"cheering\", \"cheering\", \"cheering\", \"cheering\", \"child\", \"child\", \"child\", \"child\", \"child\", \"child\", \"child\", \"child\", \"child\", \"child\", \"child\", \"child\", \"churchill\", \"churchill\", \"churchill\", \"churchill\", \"clasp\", \"clasp\", \"classe\", \"classe\", \"classe\", \"classe\", \"classe\", \"cleveland\", \"cold\", \"cold\", \"cold\", \"cold\", \"cold\", \"cold\", \"cold\", \"cold\", \"cold\", \"cold\", \"cold\", \"cold\", \"cold\", \"cole\", \"cole\", \"cole\", \"cole\", \"coles\", \"coles\", \"coles\", \"collins\", \"collins\", \"colonel\", \"colonel\", \"colonel\", \"colonel\", \"colonel\", \"colonel\", \"colonel\", \"colonel\", \"colonel\", \"combe\", \"combe\", \"come\", \"come\", \"come\", \"come\", \"come\", \"come\", \"come\", \"come\", \"come\", \"come\", \"come\", \"come\", \"come\", \"comfortable\", \"comfortable\", \"comfortable\", \"comfortable\", \"comfortable\", \"comfortable\", \"comfortable\", \"comfortable\", \"comfortable\", \"comfortable\", \"comfortable\", \"comfortable\", \"comfortable\", \"comfortably\", \"comfortably\", \"comfortably\", \"comfortably\", \"comfortably\", \"comfortably\", \"comfortably\", \"coming\", \"coming\", \"coming\", \"coming\", \"coming\", \"coming\", \"coming\", \"coming\", \"coming\", \"coming\", \"coming\", \"coming\", \"coming\", \"coming\", \"comme\", \"comme\", \"comme\", \"comme\", \"comme\", \"committed\", \"committed\", \"committed\", \"committed\", \"committed\", \"compact\", \"compact\", \"compact\", \"complaints\", \"complaints\", \"complaints\", \"composition\", \"composition\", \"composition\", \"composition\", \"composition\", \"comprehended\", \"comprehended\", \"comprehended\", \"comprehended\", \"comprehended\", \"comprehended\", \"comprehended\", \"concert\", \"concert\", \"concert\", \"concert\", \"conjecture\", \"conjecture\", \"conjecture\", \"conjecture\", \"conjecture\", \"conjecture\", \"conjecture\", \"conjectures\", \"conjectures\", \"conjectures\", \"conjectures\", \"conjectures\", \"conjectures\", \"connexion\", \"connexion\", \"consider\", \"consider\", \"consider\", \"consider\", \"consider\", \"consider\", \"consider\", \"consider\", \"consider\", \"consider\", \"consider\", \"consider\", \"consider\", \"consider\", \"considerate\", \"considerate\", \"considerate\", \"considerate\", \"continental\", \"continental\", \"continental\", \"continental\", \"continental\", \"continuance\", \"continuance\", \"continuance\", \"continuance\", \"continuance\", \"continuance\", \"contrasted\", \"contrasted\", \"contrasted\", \"contrasted\", \"costly\", \"costly\", \"costly\", \"costly\", \"costume\", \"costume\", \"costume\", \"cottage\", \"cottage\", \"cottage\", \"cottage\", \"cottage\", \"cottage\", \"count\", \"count\", \"count\", \"count\", \"couple\", \"couple\", \"couple\", \"couple\", \"couple\", \"couple\", \"couple\", \"couple\", \"couple\", \"couple\", \"course\", \"course\", \"course\", \"course\", \"course\", \"course\", \"course\", \"course\", \"course\", \"course\", \"course\", \"course\", \"course\", \"courteous\", \"courteous\", \"courteous\", \"courteous\", \"crib\", \"crib\", \"crib\", \"crib\", \"crimsworth\", \"crimsworth\", \"crowd\", \"crowd\", \"crowd\", \"crowd\", \"crowd\", \"crowd\", \"crowd\", \"crowd\", \"crowd\", \"crowd\", \"crown\", \"crown\", \"crown\", \"crown\", \"crown\", \"crown\", \"crown\", \"cup\", \"cup\", \"cup\", \"cup\", \"cup\", \"cup\", \"cupboard\", \"cupboard\", \"cupboard\", \"cups\", \"cups\", \"cups\", \"cups\", \"cups\", \"curled\", \"curled\", \"curled\", \"curled\", \"current\", \"damp\", \"damp\", \"damp\", \"damp\", \"damp\", \"damp\", \"damp\", \"damp\", \"damp\", \"damp\", \"dance\", \"dance\", \"dance\", \"dance\", \"dance\", \"dance\", \"dance\", \"dance\", \"dance\", \"dance\", \"danced\", \"danced\", \"danced\", \"danced\", \"danced\", \"danced\", \"danced\", \"danced\", \"dancing\", \"dancing\", \"dancing\", \"dancing\", \"dancing\", \"dancing\", \"dancing\", \"dancing\", \"darcy\", \"darcy\", \"darcy\", \"darcy\", \"dark\", \"dark\", \"dark\", \"dark\", \"dark\", \"dark\", \"dark\", \"dark\", \"dark\", \"dark\", \"darker\", \"darker\", \"darker\", \"darker\", \"dashwood\", \"dashwood\", \"dashwood\", \"dashwood\", \"dashwood\", \"dashwood\", \"dashwood\", \"dashwoods\", \"dashwoods\", \"date\", \"date\", \"date\", \"date\", \"date\", \"date\", \"daughters\", \"daughters\", \"daughters\", \"daughters\", \"daughters\", \"daughters\", \"daughters\", \"daughters\", \"daughters\", \"dawn\", \"dawn\", \"day\", \"day\", \"day\", \"day\", \"day\", \"day\", \"day\", \"day\", \"day\", \"day\", \"day\", \"day\", \"day\", \"day\", \"deaf\", \"deaf\", \"deaf\", \"dear\", \"dear\", \"dear\", \"dear\", \"dear\", \"dear\", \"dear\", \"dear\", \"dear\", \"dear\", \"dear\", \"dear\", \"dear\", \"dear\", \"december\", \"december\", \"december\", \"decline\", \"decline\", \"decline\", \"decline\", \"deficient\", \"deficient\", \"deficient\", \"deficient\", \"deficient\", \"delaford\", \"delaford\", \"delaford\", \"demoiselles\", \"demoiselles\", \"demoiselles\", \"demoiselles\", \"demon\", \"derbyshire\", \"devonshire\", \"devonshire\", \"devonshire\", \"diana\", \"diana\", \"diana\", \"diana\", \"die\", \"die\", \"die\", \"die\", \"die\", \"die\", \"die\", \"die\", \"dimensions\", \"dimensions\", \"dimensions\", \"dimensions\", \"dimensions\", \"dimensions\", \"director\", \"director\", \"director\", \"directress\", \"directress\", \"directress\", \"directress\", \"directress\", \"disappointed\", \"disappointed\", \"disappointed\", \"disappointed\", \"disappointed\", \"disappointed\", \"disappointed\", \"disappointed\", \"disappointed\", \"disapprobation\", \"disapprobation\", \"disapprobation\", \"disapprobation\", \"disapprobation\", \"disapprobation\", \"dispersed\", \"dispersed\", \"dispersed\", \"dispersed\", \"dispersed\", \"dit\", \"dit\", \"dit\", \"dit\", \"dit\", \"dixon\", \"dixon\", \"dog\", \"dog\", \"dog\", \"dog\", \"dog\", \"dog\", \"doll\", \"doll\", \"doll\", \"donwell\", \"donwell\", \"door\", \"door\", \"door\", \"door\", \"door\", \"door\", \"door\", \"door\", \"door\", \"door\", \"door\", \"door\", \"door\", \"dr\", \"dr\", \"dr\", \"dr\", \"dr\", \"dr\", \"dr\", \"dr\", \"draught\", \"draught\", \"draught\", \"draught\", \"draught\", \"drawings\", \"drawings\", \"drawings\", \"drawings\", \"drawings\", \"drawings\", \"dreadful\", \"dreadful\", \"dreadful\", \"dreadful\", \"dreadful\", \"dreadful\", \"dreadful\", \"dreadful\", \"dreadful\", \"dress\", \"dress\", \"dress\", \"dress\", \"dress\", \"dress\", \"dress\", \"dress\", \"dress\", \"dress\", \"dress\", \"earlier\", \"earlier\", \"earlier\", \"earlier\", \"earlier\", \"earlier\", \"earlier\", \"earn\", \"earn\", \"earn\", \"earn\", \"earn\", \"earn\", \"edward\", \"edward\", \"edward\", \"edward\", \"edward\", \"edward\", \"edward\", \"effected\", \"effected\", \"effected\", \"effected\", \"eighteen\", \"eighteen\", \"eighteen\", \"eighteen\", \"eighteen\", \"elf\", \"elf\", \"elf\", \"elinor\", \"elinor\", \"elinor\", \"elinor\", \"elinor\", \"elinor\", \"elinor\", \"elinor\", \"elizabeth\", \"elizabeth\", \"elizabeth\", \"elizabeth\", \"elizabeth\", \"elizabeth\", \"elizabeth\", \"elizabeth\", \"elizabeth\", \"elle\", \"elle\", \"elle\", \"elle\", \"elle\", \"elton\", \"elton\", \"elton\", \"elton\", \"elton\", \"elton\", \"eltons\", \"eltons\", \"eltons\", \"emanuel\", \"emanuel\", \"emanuel\", \"emanuel\", \"emma\", \"emma\", \"emma\", \"emma\", \"emma\", \"emma\", \"emma\", \"emma\", \"emma\", \"employments\", \"employments\", \"employments\", \"en\", \"en\", \"en\", \"en\", \"en\", \"en\", \"en\", \"engagement\", \"engagement\", \"engagement\", \"engagement\", \"engagement\", \"engagement\", \"england\", \"england\", \"england\", \"england\", \"england\", \"england\", \"england\", \"england\", \"england\", \"england\", \"england\", \"england\", \"english\", \"english\", \"english\", \"english\", \"english\", \"english\", \"english\", \"english\", \"englishwoman\", \"englishwoman\", \"englishwoman\", \"engrossed\", \"engrossed\", \"engrossed\", \"engrossed\", \"enscombe\", \"enscombe\", \"ere\", \"ere\", \"ere\", \"ere\", \"ere\", \"ere\", \"eshton\", \"essential\", \"essential\", \"essential\", \"essential\", \"est\", \"est\", \"est\", \"est\", \"est\", \"establishment\", \"establishment\", \"establishment\", \"establishment\", \"establishment\", \"establishment\", \"establishment\", \"establishment\", \"establishment\", \"establishment\", \"estate\", \"estate\", \"estate\", \"estate\", \"estate\", \"estate\", \"estate\", \"estate\", \"estrade\", \"estrade\", \"estrade\", \"estrade\", \"estrade\", \"et\", \"et\", \"et\", \"et\", \"et\", \"et\", \"et\", \"exceedingly\", \"exceedingly\", \"exceedingly\", \"exceedingly\", \"exceedingly\", \"exceedingly\", \"exceedingly\", \"exceedingly\", \"exceedingly\", \"exchanged\", \"exchanged\", \"exchanged\", \"exchanged\", \"exchanged\", \"exchanged\", \"excited\", \"excited\", \"excited\", \"excited\", \"excited\", \"excited\", \"excited\", \"excited\", \"excited\", \"exertions\", \"exertions\", \"exertions\", \"exertions\", \"exertions\", \"exeter\", \"exeter\", \"expense\", \"expense\", \"expense\", \"expense\", \"expense\", \"expense\", \"expense\", \"expenses\", \"expenses\", \"expenses\", \"expenses\", \"extremely\", \"extremely\", \"extremely\", \"extremely\", \"extremely\", \"extremely\", \"extremely\", \"extremely\", \"extremely\", \"eye\", \"eye\", \"eye\", \"eye\", \"eye\", \"eye\", \"eye\", \"eye\", \"eye\", \"eye\", \"eye\", \"eye\", \"eye\", \"eyes\", \"eyes\", \"eyes\", \"eyes\", \"eyes\", \"eyes\", \"eyes\", \"eyes\", \"eyes\", \"eyes\", \"eyes\", \"eyes\", \"eyes\", \"eyes\", \"eyre\", \"eyre\", \"eyre\", \"eyre\", \"eyre\", \"face\", \"face\", \"face\", \"face\", \"face\", \"face\", \"face\", \"face\", \"face\", \"face\", \"face\", \"face\", \"face\", \"face\", \"fairfax\", \"fairfax\", \"fairfax\", \"fairfax\", \"fairfax\", \"fairfax\", \"fairfax\", \"family\", \"family\", \"family\", \"family\", \"family\", \"family\", \"family\", \"family\", \"family\", \"family\", \"family\", \"family\", \"family\", \"fanny\", \"fanny\", \"fanshawe\", \"fanshawe\", \"fanshawe\", \"fanshawe\", \"fascinating\", \"fascinating\", \"fascinating\", \"fashioned\", \"fashioned\", \"fashioned\", \"fashioned\", \"fashioned\", \"father\", \"father\", \"father\", \"father\", \"father\", \"father\", \"father\", \"father\", \"father\", \"father\", \"father\", \"father\", \"father\", \"features\", \"features\", \"features\", \"features\", \"features\", \"features\", \"features\", \"features\", \"features\", \"features\", \"feelings\", \"feelings\", \"feelings\", \"feelings\", \"feelings\", \"feelings\", \"feelings\", \"feelings\", \"feelings\", \"feelings\", \"feelings\", \"feelings\", \"feelings\", \"felt\", \"felt\", \"felt\", \"felt\", \"felt\", \"felt\", \"felt\", \"felt\", \"felt\", \"felt\", \"felt\", \"felt\", \"felt\", \"femme\", \"femme\", \"femme\", \"femme\", \"ferrars\", \"ferrars\", \"fettered\", \"fettered\", \"fields\", \"fields\", \"fields\", \"fitted\", \"fitted\", \"fitted\", \"fitted\", \"fitted\", \"fitted\", \"fitted\", \"fitted\", \"fitted\", \"fitzwilliam\", \"fitzwilliam\", \"fitzwilliam\", \"flemish\", \"flemish\", \"flemish\", \"flemish\", \"forster\", \"fortune\", \"fortune\", \"fortune\", \"fortune\", \"fortune\", \"fortune\", \"fortune\", \"fortune\", \"fortune\", \"fortune\", \"fortune\", \"fortunes\", \"fortunes\", \"fortunes\", \"fortunes\", \"frame\", \"frame\", \"frame\", \"frame\", \"frame\", \"frame\", \"frame\", \"frances\", \"frances\", \"frances\", \"frank\", \"frank\", \"frank\", \"frank\", \"frank\", \"frank\", \"frank\", \"frank\", \"frank\", \"frank\", \"frank\", \"frantic\", \"frantic\", \"frantic\", \"frantic\", \"french\", \"french\", \"french\", \"french\", \"french\", \"french\", \"french\", \"french\", \"french\", \"friend\", \"friend\", \"friend\", \"friend\", \"friend\", \"friend\", \"friend\", \"friend\", \"friend\", \"friend\", \"friend\", \"fruit\", \"fruit\", \"fruit\", \"fruit\", \"fruit\", \"fruit\", \"fruit\", \"fruit\", \"fruit\", \"garden\", \"garden\", \"garden\", \"garden\", \"garden\", \"garden\", \"garden\", \"garden\", \"garden\", \"garden\", \"gardens\", \"gardens\", \"gardens\", \"gardens\", \"gardiner\", \"gardiner\", \"garret\", \"garret\", \"garret\", \"garret\", \"gateshead\", \"gateshead\", \"gateshead\", \"gateshead\", \"gateshead\", \"generations\", \"generations\", \"generations\", \"generations\", \"generosity\", \"generosity\", \"generosity\", \"generosity\", \"generosity\", \"generosity\", \"generosity\", \"georgiana\", \"georgiana\", \"georgiana\", \"german\", \"german\", \"german\", \"german\", \"giddy\", \"giddy\", \"giddy\", \"giddy\", \"ginevra\", \"ginevra\", \"ginevra\", \"ginevra\", \"ginevra\", \"girl\", \"girl\", \"girl\", \"girl\", \"girl\", \"girl\", \"girl\", \"girl\", \"girl\", \"girl\", \"girl\", \"glasses\", \"glasses\", \"glasses\", \"glorious\", \"glorious\", \"god\", \"god\", \"god\", \"god\", \"god\", \"god\", \"god\", \"god\", \"god\", \"god\", \"goddard\", \"goddard\", \"goddard\", \"goddard\", \"godmother\", \"godmother\", \"going\", \"going\", \"going\", \"going\", \"going\", \"going\", \"going\", \"going\", \"going\", \"going\", \"going\", \"going\", \"going\", \"going\", \"graham\", \"graham\", \"graham\", \"graham\", \"graham\", \"grandmother\", \"grandmother\", \"grandmother\", \"grandmother\", \"gravel\", \"gravel\", \"gravel\", \"gravel\", \"great\", \"great\", \"great\", \"great\", \"great\", \"great\", \"great\", \"great\", \"great\", \"great\", \"great\", \"great\", \"great\", \"great\", \"great\", \"grec\", \"grec\", \"grec\", \"grieve\", \"grieve\", \"grieve\", \"grieve\", \"grieve\", \"guilty\", \"guilty\", \"guilty\", \"guilty\", \"guilty\", \"hair\", \"hair\", \"hair\", \"hair\", \"hair\", \"hair\", \"hair\", \"hair\", \"hair\", \"hair\", \"hair\", \"hair\", \"half\", \"half\", \"half\", \"half\", \"half\", \"half\", \"half\", \"half\", \"half\", \"half\", \"half\", \"half\", \"half\", \"hall\", \"hall\", \"hall\", \"hall\", \"hall\", \"hall\", \"hall\", \"hand\", \"hand\", \"hand\", \"hand\", \"hand\", \"hand\", \"hand\", \"hand\", \"hand\", \"hand\", \"hand\", \"hand\", \"hand\", \"hannah\", \"hannah\", \"happening\", \"happening\", \"happening\", \"happening\", \"happening\", \"happiness\", \"happiness\", \"happiness\", \"happiness\", \"happiness\", \"happiness\", \"happiness\", \"happiness\", \"happiness\", \"happiness\", \"happiness\", \"harley\", \"harley\", \"harriet\", \"harriet\", \"harriet\", \"harriet\", \"harriet\", \"harriet\", \"harriet\", \"harriet\", \"harriet\", \"harriet\", \"hartfield\", \"hartfield\", \"hartfield\", \"hartfield\", \"hartfield\", \"having\", \"having\", \"having\", \"having\", \"having\", \"having\", \"having\", \"having\", \"having\", \"having\", \"having\", \"having\", \"having\", \"having\", \"hear\", \"hear\", \"hear\", \"hear\", \"hear\", \"hear\", \"hear\", \"hear\", \"hear\", \"hear\", \"hear\", \"hear\", \"hear\", \"heard\", \"heard\", \"heard\", \"heard\", \"heard\", \"heard\", \"heard\", \"heard\", \"heard\", \"heard\", \"heard\", \"heard\", \"heard\", \"heard\", \"heart\", \"heart\", \"heart\", \"heart\", \"heart\", \"heart\", \"heart\", \"heart\", \"heart\", \"heart\", \"heart\", \"heart\", \"heart\", \"heart\", \"hearth\", \"hearth\", \"hearth\", \"hearth\", \"hearth\", \"hearth\", \"hearth\", \"heated\", \"heated\", \"heated\", \"heated\", \"heath\", \"helen\", \"helen\", \"helen\", \"helen\", \"helped\", \"helped\", \"helped\", \"helped\", \"henri\", \"henri\", \"henry\", \"henry\", \"henry\", \"henry\", \"henry\", \"henry\", \"heroic\", \"heroic\", \"heroic\", \"hertfordshire\", \"hertfordshire\", \"highbury\", \"highbury\", \"highbury\", \"highbury\", \"home\", \"home\", \"home\", \"home\", \"home\", \"home\", \"home\", \"home\", \"home\", \"home\", \"home\", \"home\", \"home\", \"home\", \"home\", \"hope\", \"hope\", \"hope\", \"hope\", \"hope\", \"hope\", \"hope\", \"hope\", \"hope\", \"hope\", \"hope\", \"hope\", \"hope\", \"horseback\", \"horseback\", \"horseback\", \"horseback\", \"horseback\", \"hour\", \"hour\", \"hour\", \"hour\", \"hour\", \"hour\", \"hour\", \"hour\", \"hour\", \"hour\", \"hour\", \"hour\", \"house\", \"house\", \"house\", \"house\", \"house\", \"house\", \"house\", \"house\", \"house\", \"house\", \"house\", \"house\", \"house\", \"house\", \"human\", \"human\", \"human\", \"human\", \"human\", \"human\", \"human\", \"human\", \"human\", \"hunsden\", \"hunsford\", \"hurrying\", \"hurrying\", \"hurrying\", \"hurrying\", \"hurrying\", \"hurrying\", \"hurrying\", \"hurrying\", \"hurrying\", \"hurst\", \"hurst\", \"hurst\", \"ideal\", \"il\", \"il\", \"il\", \"il\", \"il\", \"imaginary\", \"imaginary\", \"imaginary\", \"imaginary\", \"imaginary\", \"immense\", \"immense\", \"immense\", \"including\", \"including\", \"including\", \"including\", \"including\", \"including\", \"income\", \"income\", \"income\", \"income\", \"income\", \"income\", \"india\", \"india\", \"ingram\", \"ingram\", \"ingram\", \"instruction\", \"instruction\", \"instruction\", \"instruction\", \"instruction\", \"integrity\", \"integrity\", \"integrity\", \"integrity\", \"integrity\", \"introducing\", \"introducing\", \"introducing\", \"introducing\", \"ireland\", \"ireland\", \"ireland\", \"isabella\", \"isabella\", \"isabella\", \"isabella\", \"isabella\", \"ivory\", \"ivory\", \"ivory\", \"james\", \"james\", \"james\", \"james\", \"james\", \"james\", \"james\", \"jane\", \"jane\", \"jane\", \"jane\", \"jane\", \"jane\", \"jane\", \"jane\", \"jane\", \"je\", \"je\", \"je\", \"je\", \"je\", \"jennings\", \"jennings\", \"jennings\", \"jennings\", \"jennings\", \"jeune\", \"jeune\", \"jeune\", \"jeune\", \"john\", \"john\", \"john\", \"john\", \"john\", \"john\", \"john\", \"john\", \"john\", \"john\", \"john\", \"john\", \"john\", \"joyful\", \"joyful\", \"joyful\", \"joyful\", \"judgement\", \"kent\", \"killed\", \"killed\", \"killed\", \"killed\", \"killed\", \"kind\", \"kind\", \"kind\", \"kind\", \"kind\", \"kind\", \"kind\", \"kind\", \"kind\", \"kind\", \"kind\", \"kind\", \"kind\", \"kind\", \"kitty\", \"kitty\", \"kitty\", \"knelt\", \"knelt\", \"knew\", \"knew\", \"knew\", \"knew\", \"knew\", \"knew\", \"knew\", \"knew\", \"knew\", \"knew\", \"knew\", \"knew\", \"knew\", \"knew\", \"knightley\", \"knightley\", \"knightley\", \"knightley\", \"knightley\", \"know\", \"know\", \"know\", \"know\", \"know\", \"know\", \"know\", \"know\", \"know\", \"know\", \"know\", \"know\", \"know\", \"know\", \"la\", \"la\", \"la\", \"la\", \"la\", \"la\", \"la\", \"la\", \"la\", \"lace\", \"lace\", \"lace\", \"lace\", \"lace\", \"lace\", \"lace\", \"lace\", \"lace\", \"lace\", \"lace\", \"lady\", \"lady\", \"lady\", \"lady\", \"lady\", \"lady\", \"lady\", \"lady\", \"lady\", \"lady\", \"lady\", \"lady\", \"lady\", \"ladyship\", \"ladyship\", \"ladyship\", \"ladyship\", \"ladyship\", \"large\", \"large\", \"large\", \"large\", \"large\", \"large\", \"large\", \"large\", \"large\", \"large\", \"large\", \"large\", \"large\", \"large\", \"lasting\", \"lasting\", \"lasting\", \"lasting\", \"lasting\", \"lasting\", \"lasting\", \"later\", \"later\", \"later\", \"later\", \"later\", \"later\", \"later\", \"le\", \"le\", \"le\", \"le\", \"le\", \"le\", \"leave\", \"leave\", \"leave\", \"leave\", \"leave\", \"leave\", \"leave\", \"leave\", \"leave\", \"leave\", \"leave\", \"leave\", \"leave\", \"left\", \"left\", \"left\", \"left\", \"left\", \"left\", \"left\", \"left\", \"left\", \"left\", \"left\", \"left\", \"left\", \"left\", \"left\", \"les\", \"les\", \"les\", \"lessen\", \"lessen\", \"lessen\", \"lesson\", \"lesson\", \"lesson\", \"lesson\", \"lesson\", \"lesson\", \"lesson\", \"lessons\", \"lessons\", \"lessons\", \"lessons\", \"lessons\", \"lessons\", \"letter\", \"letter\", \"letter\", \"letter\", \"letter\", \"letter\", \"letter\", \"letter\", \"letter\", \"letter\", \"letter\", \"letter\", \"letter\", \"liberality\", \"liberality\", \"liberality\", \"liberality\", \"life\", \"life\", \"life\", \"life\", \"life\", \"life\", \"life\", \"life\", \"life\", \"life\", \"life\", \"life\", \"life\", \"life\", \"light\", \"light\", \"light\", \"light\", \"light\", \"light\", \"light\", \"light\", \"light\", \"light\", \"light\", \"light\", \"light\", \"lightning\", \"lightning\", \"lightning\", \"lightning\", \"like\", \"like\", \"like\", \"like\", \"like\", \"like\", \"like\", \"like\", \"like\", \"like\", \"like\", \"like\", \"like\", \"like\", \"like\", \"lines\", \"lines\", \"lines\", \"lines\", \"lines\", \"lines\", \"lines\", \"lines\", \"lines\", \"lines\", \"live\", \"live\", \"live\", \"live\", \"live\", \"live\", \"live\", \"live\", \"live\", \"live\", \"live\", \"live\", \"live\", \"live\", \"livid\", \"livid\", \"livid\", \"livid\", \"living\", \"living\", \"living\", \"living\", \"living\", \"living\", \"living\", \"living\", \"living\", \"living\", \"lizzy\", \"lizzy\", \"ll\", \"ll\", \"ll\", \"ll\", \"ll\", \"ll\", \"ll\", \"london\", \"london\", \"london\", \"london\", \"london\", \"london\", \"london\", \"london\", \"london\", \"london\", \"long\", \"long\", \"long\", \"long\", \"long\", \"long\", \"long\", \"long\", \"long\", \"long\", \"long\", \"long\", \"long\", \"long\", \"longbourn\", \"longbourn\", \"look\", \"look\", \"look\", \"look\", \"look\", \"look\", \"look\", \"look\", \"look\", \"look\", \"look\", \"look\", \"look\", \"look\", \"looked\", \"looked\", \"looked\", \"looked\", \"looked\", \"looked\", \"looked\", \"looked\", \"looked\", \"looked\", \"looked\", \"looked\", \"looked\", \"looked\", \"love\", \"love\", \"love\", \"love\", \"love\", \"love\", \"love\", \"love\", \"love\", \"love\", \"love\", \"love\", \"love\", \"love\", \"loves\", \"loves\", \"loves\", \"loves\", \"loves\", \"loves\", \"loves\", \"lowood\", \"lowood\", \"lowood\", \"lucas\", \"lucas\", \"lucases\", \"luckily\", \"luckily\", \"luckily\", \"luckily\", \"lucy\", \"lucy\", \"lucy\", \"lucy\", \"lucy\", \"lucy\", \"lucy\", \"lucy\", \"lucy\", \"lydia\", \"ma\", \"ma\", \"ma\", \"ma\", \"ma\", \"ma\", \"ma\", \"ma\", \"ma\", \"ma\", \"ma\", \"madame\", \"madame\", \"madame\", \"madame\", \"madame\", \"madame\", \"madame\", \"madame\", \"madame\", \"mademoiselle\", \"mademoiselle\", \"mademoiselle\", \"mademoiselle\", \"mademoiselle\", \"madness\", \"madness\", \"madness\", \"madness\", \"madness\", \"maintained\", \"maintained\", \"maintained\", \"maintained\", \"maintained\", \"maintained\", \"maintained\", \"mais\", \"mais\", \"mais\", \"mais\", \"maitresse\", \"maitresse\", \"maitresse\", \"making\", \"making\", \"making\", \"making\", \"making\", \"making\", \"making\", \"making\", \"making\", \"making\", \"making\", \"making\", \"making\", \"man\", \"man\", \"man\", \"man\", \"man\", \"man\", \"man\", \"man\", \"man\", \"man\", \"man\", \"man\", \"man\", \"man\", \"maple\", \"maple\", \"margaret\", \"margaret\", \"margaret\", \"margaret\", \"margaret\", \"marianne\", \"marianne\", \"marianne\", \"marianne\", \"marianne\", \"marianne\", \"marianne\", \"marianne\", \"marriage\", \"marriage\", \"marriage\", \"marriage\", \"marriage\", \"marriage\", \"marriage\", \"marriage\", \"marriage\", \"marriage\", \"marriage\", \"married\", \"married\", \"married\", \"married\", \"married\", \"married\", \"married\", \"married\", \"married\", \"married\", \"married\", \"married\", \"married\", \"marry\", \"marry\", \"marry\", \"marry\", \"marry\", \"marry\", \"marry\", \"marry\", \"marry\", \"marry\", \"marry\", \"marsh\", \"martin\", \"martin\", \"martin\", \"martin\", \"mason\", \"mason\", \"mason\", \"mason\", \"master\", \"master\", \"master\", \"master\", \"master\", \"master\", \"master\", \"master\", \"master\", \"master\", \"matrimony\", \"matrimony\", \"matrimony\", \"matrimony\", \"matrimony\", \"matrimony\", \"mdlle\", \"mdlle\", \"mdlle\", \"mdlle\", \"meditated\", \"meditated\", \"meditated\", \"meditated\", \"meditated\", \"meditated\", \"mental\", \"mental\", \"mental\", \"mental\", \"mentally\", \"meryton\", \"middleton\", \"middleton\", \"middleton\", \"middletons\", \"middletons\", \"midnight\", \"midnight\", \"midnight\", \"miles\", \"miles\", \"miles\", \"miles\", \"miles\", \"miles\", \"miles\", \"miles\", \"miles\", \"miles\", \"mind\", \"mind\", \"mind\", \"mind\", \"mind\", \"mind\", \"mind\", \"mind\", \"mind\", \"mind\", \"mind\", \"mind\", \"mind\", \"miss\", \"miss\", \"miss\", \"miss\", \"miss\", \"miss\", \"miss\", \"miss\", \"miss\", \"miss\", \"miss\", \"miss\", \"miss\", \"miss\", \"missionary\", \"missis\", \"missis\", \"missis\", \"moderation\", \"moderation\", \"moderation\", \"moderation\", \"moderation\", \"moi\", \"moi\", \"moi\", \"moi\", \"moi\", \"moment\", \"moment\", \"moment\", \"moment\", \"moment\", \"moment\", \"moment\", \"moment\", \"moment\", \"moment\", \"moment\", \"moment\", \"moment\", \"moment\", \"moment\", \"monday\", \"monday\", \"monday\", \"monday\", \"monsieur\", \"monsieur\", \"monsieur\", \"monsieur\", \"monsieur\", \"monsieur\", \"monstrous\", \"monstrous\", \"monstrous\", \"moor\", \"moor\", \"morning\", \"morning\", \"morning\", \"morning\", \"morning\", \"morning\", \"morning\", \"morning\", \"morning\", \"morning\", \"morning\", \"morning\", \"morning\", \"morrow\", \"morrow\", \"morrow\", \"morrow\", \"morrow\", \"morrow\", \"morrow\", \"morrow\", \"morrow\", \"morrow\", \"morrow\", \"morton\", \"morton\", \"morton\", \"mother\", \"mother\", \"mother\", \"mother\", \"mother\", \"mother\", \"mother\", \"mother\", \"mother\", \"mother\", \"mother\", \"mother\", \"mother\", \"mother\", \"mountain\", \"naughty\", \"ne\", \"ne\", \"ne\", \"ne\", \"ne\", \"neighbouring\", \"neighbouring\", \"neighbouring\", \"neighbouring\", \"neighbouring\", \"nephew\", \"nephew\", \"nephew\", \"nephew\", \"netherfield\", \"news\", \"news\", \"news\", \"news\", \"news\", \"news\", \"news\", \"news\", \"night\", \"night\", \"night\", \"night\", \"night\", \"night\", \"night\", \"night\", \"night\", \"night\", \"night\", \"night\", \"night\", \"nineteen\", \"nineteen\", \"nineteen\", \"norland\", \"norland\", \"norland\", \"norland\", \"nursery\", \"nursery\", \"nursery\", \"nursery\", \"obliging\", \"obliging\", \"obliging\", \"obliging\", \"obliging\", \"obliging\", \"obliging\", \"obliging\", \"odious\", \"odious\", \"odious\", \"odious\", \"odious\", \"offended\", \"offended\", \"offended\", \"offended\", \"offended\", \"offending\", \"offending\", \"offending\", \"offending\", \"offending\", \"officers\", \"oh\", \"oh\", \"oh\", \"oh\", \"oh\", \"oh\", \"oh\", \"oh\", \"oh\", \"oh\", \"oh\", \"oh\", \"oh\", \"oh\", \"old\", \"old\", \"old\", \"old\", \"old\", \"old\", \"old\", \"old\", \"old\", \"old\", \"old\", \"old\", \"old\", \"old\", \"old\", \"oliver\", \"oliver\", \"opinion\", \"opinion\", \"opinion\", \"opinion\", \"opinion\", \"opinion\", \"opinion\", \"opinion\", \"opinion\", \"opinion\", \"opinion\", \"opinion\", \"opinion\", \"opinion\", \"orange\", \"orange\", \"ou\", \"ou\", \"ou\", \"ou\", \"ou\", \"oui\", \"oui\", \"owned\", \"owned\", \"owned\", \"owned\", \"owned\", \"owned\", \"owned\", \"owned\", \"oxford\", \"oxford\", \"oxford\", \"oxford\", \"paced\", \"pack\", \"pack\", \"pack\", \"paletot\", \"paletot\", \"paletot\", \"paletot\", \"palmer\", \"palmer\", \"palmer\", \"pang\", \"pang\", \"pang\", \"pang\", \"pang\", \"pang\", \"pang\", \"pang\", \"papa\", \"papa\", \"papa\", \"papa\", \"papa\", \"papa\", \"papa\", \"parting\", \"parting\", \"parting\", \"parting\", \"parting\", \"parting\", \"parting\", \"parting\", \"parting\", \"parting\", \"parting\", \"partner\", \"partner\", \"partner\", \"partner\", \"partner\", \"partner\", \"partner\", \"pas\", \"pas\", \"pas\", \"pas\", \"pas\", \"passage\", \"passage\", \"passage\", \"passage\", \"passage\", \"passage\", \"passage\", \"passage\", \"passage\", \"pattern\", \"pattern\", \"pattern\", \"pattern\", \"pattern\", \"pattern\", \"paul\", \"paul\", \"paul\", \"paul\", \"paul\", \"paulina\", \"paulina\", \"paulina\", \"paulina\", \"pelet\", \"pelet\", \"pelet\", \"pelet\", \"pemberley\", \"pemberley\", \"people\", \"people\", \"people\", \"people\", \"people\", \"people\", \"people\", \"people\", \"people\", \"people\", \"people\", \"people\", \"people\", \"people\", \"pere\", \"pere\", \"pere\", \"pere\", \"perfection\", \"perfection\", \"perfection\", \"perfection\", \"perfection\", \"perfection\", \"perfection\", \"permanently\", \"permanently\", \"permanently\", \"permanently\", \"perry\", \"perry\", \"perry\", \"persuading\", \"persuading\", \"pet\", \"pet\", \"pet\", \"pet\", \"petite\", \"petite\", \"petite\", \"petite\", \"phillips\", \"pierre\", \"pierre\", \"place\", \"place\", \"place\", \"place\", \"place\", \"place\", \"place\", \"place\", \"place\", \"place\", \"place\", \"place\", \"place\", \"plate\", \"plate\", \"plate\", \"plate\", \"plate\", \"plate\", \"plate\", \"polly\", \"polly\", \"poole\", \"poole\", \"poor\", \"poor\", \"poor\", \"poor\", \"poor\", \"poor\", \"poor\", \"poor\", \"poor\", \"poor\", \"poor\", \"poor\", \"poor\", \"poor\", \"poor\", \"porcelain\", \"porcelain\", \"porcelain\", \"porter\", \"porter\", \"porter\", \"porter\", \"portress\", \"portress\", \"portress\", \"possess\", \"possess\", \"possess\", \"possess\", \"possess\", \"possess\", \"possess\", \"possess\", \"possess\", \"pounds\", \"pounds\", \"pounds\", \"pounds\", \"pounds\", \"pounds\", \"pounds\", \"pounds\", \"pounds\", \"practice\", \"practice\", \"practice\", \"practice\", \"practice\", \"practice\", \"prayers\", \"prayers\", \"prayers\", \"prayers\", \"preparations\", \"preparations\", \"preparations\", \"preparations\", \"preparations\", \"present\", \"present\", \"present\", \"present\", \"present\", \"present\", \"present\", \"present\", \"present\", \"present\", \"present\", \"present\", \"present\", \"prettily\", \"prettily\", \"prettily\", \"prettily\", \"prettily\", \"privileged\", \"privileged\", \"privileged\", \"privileged\", \"probable\", \"probable\", \"probable\", \"probable\", \"probable\", \"probable\", \"probable\", \"probable\", \"produced\", \"produced\", \"produced\", \"produced\", \"produced\", \"produced\", \"produced\", \"produced\", \"produced\", \"produced\", \"produced\", \"propensities\", \"propensities\", \"propensities\", \"propensities\", \"property\", \"property\", \"property\", \"property\", \"property\", \"property\", \"property\", \"property\", \"prosperous\", \"prosperous\", \"prosperous\", \"prosperous\", \"prosperous\", \"prosperous\", \"provision\", \"provision\", \"provision\", \"provision\", \"provision\", \"provision\", \"pupils\", \"pupils\", \"pupils\", \"pupils\", \"pupils\", \"qu\", \"qu\", \"qu\", \"qu\", \"qu\", \"que\", \"que\", \"que\", \"que\", \"que\", \"que\", \"quicker\", \"quicker\", \"quicker\", \"quicker\", \"quicker\", \"quicker\", \"raillery\", \"raillery\", \"raillery\", \"raillery\", \"raillery\", \"randalls\", \"randalls\", \"randalls\", \"randalls\", \"randalls\", \"rapidity\", \"rapidity\", \"rapidity\", \"rapidity\", \"read\", \"read\", \"read\", \"read\", \"read\", \"read\", \"read\", \"read\", \"read\", \"read\", \"read\", \"read\", \"read\", \"read\", \"reappeared\", \"reappeared\", \"reappeared\", \"reappeared\", \"reappeared\", \"reasonably\", \"reasonably\", \"reasonably\", \"reasonably\", \"reasonably\", \"reckoned\", \"reckoned\", \"reckoned\", \"reckoned\", \"reckoned\", \"recommending\", \"recommending\", \"recommending\", \"recommending\", \"recommending\", \"reconciled\", \"reconciled\", \"reconciled\", \"reconciled\", \"reconciled\", \"reconciled\", \"reconciled\", \"recovery\", \"recovery\", \"recovery\", \"recovery\", \"recreation\", \"recreation\", \"recreation\", \"recreation\", \"recreation\", \"reed\", \"reed\", \"reed\", \"reed\", \"reed\", \"regiment\", \"regiment\", \"repast\", \"repast\", \"repast\", \"repast\", \"repast\", \"repent\", \"repent\", \"repent\", \"repent\", \"repent\", \"repent\", \"repent\", \"replied\", \"replied\", \"replied\", \"replied\", \"replied\", \"replied\", \"replied\", \"replied\", \"replied\", \"replied\", \"replied\", \"replied\", \"replied\", \"replied\", \"requires\", \"requires\", \"requires\", \"requires\", \"respectable\", \"respectable\", \"respectable\", \"respectable\", \"respectable\", \"respectable\", \"respectable\", \"respectable\", \"reuter\", \"reuter\", \"reuter\", \"reuter\", \"reviving\", \"reviving\", \"reviving\", \"reviving\", \"reviving\", \"ribbon\", \"ribbon\", \"ribbon\", \"ribbon\", \"ribbon\", \"ride\", \"ride\", \"ride\", \"ride\", \"ride\", \"ride\", \"ride\", \"ride\", \"rivers\", \"rivers\", \"rivers\", \"robe\", \"robe\", \"robe\", \"robe\", \"robe\", \"robert\", \"robert\", \"robert\", \"robert\", \"robert\", \"robert\", \"rochester\", \"rochester\", \"rochester\", \"rochester\", \"rochester\", \"rochester\", \"rochester\", \"rome\", \"rome\", \"rome\", \"rome\", \"rome\", \"room\", \"room\", \"room\", \"room\", \"room\", \"room\", \"room\", \"room\", \"room\", \"room\", \"room\", \"room\", \"room\", \"room\", \"room\", \"rooms\", \"rooms\", \"rooms\", \"rooms\", \"rooms\", \"rooms\", \"rooms\", \"rooms\", \"rooms\", \"rooms\", \"rose\", \"rose\", \"rose\", \"rose\", \"rose\", \"rose\", \"rose\", \"rose\", \"rose\", \"rose\", \"rosine\", \"rosine\", \"rosine\", \"rosings\", \"round\", \"round\", \"round\", \"round\", \"round\", \"round\", \"round\", \"round\", \"round\", \"round\", \"round\", \"round\", \"round\", \"round\", \"roused\", \"roused\", \"roused\", \"roused\", \"roused\", \"roused\", \"roused\", \"roused\", \"roused\", \"ruddy\", \"ruddy\", \"ruddy\", \"ruddy\", \"ruddy\", \"rung\", \"rung\", \"rung\", \"rung\", \"rung\", \"salon\", \"salon\", \"salon\", \"salon\", \"salon\", \"satisfactory\", \"satisfactory\", \"satisfactory\", \"satisfactory\", \"satisfactory\", \"satisfactory\", \"satisfactory\", \"satisfactory\", \"saw\", \"saw\", \"saw\", \"saw\", \"saw\", \"saw\", \"saw\", \"saw\", \"saw\", \"saw\", \"saw\", \"saw\", \"saw\", \"says\", \"says\", \"says\", \"says\", \"says\", \"says\", \"says\", \"says\", \"says\", \"says\", \"says\", \"says\", \"scarlet\", \"scarlet\", \"scarlet\", \"scarlet\", \"school\", \"school\", \"school\", \"school\", \"school\", \"school\", \"school\", \"school\", \"school\", \"school\", \"schools\", \"schools\", \"schools\", \"scotch\", \"scotch\", \"seal\", \"seal\", \"secured\", \"secured\", \"secured\", \"secured\", \"secured\", \"secured\", \"secured\", \"secured\", \"secured\", \"secured\", \"secured\", \"seen\", \"seen\", \"seen\", \"seen\", \"seen\", \"seen\", \"seen\", \"seen\", \"seen\", \"seen\", \"seen\", \"seen\", \"seen\", \"seen\", \"seen\", \"sees\", \"sees\", \"sees\", \"sees\", \"sees\", \"sees\", \"sees\", \"september\", \"september\", \"september\", \"september\", \"september\", \"set\", \"set\", \"set\", \"set\", \"set\", \"set\", \"set\", \"set\", \"set\", \"set\", \"set\", \"set\", \"set\", \"set\", \"seven\", \"seven\", \"seven\", \"seven\", \"seven\", \"seven\", \"seven\", \"seven\", \"seven\", \"seventeen\", \"seventeen\", \"seventeen\", \"seventeen\", \"seventeen\", \"shaking\", \"shaking\", \"shaking\", \"shaking\", \"shaking\", \"shall\", \"shall\", \"shall\", \"shall\", \"shall\", \"shall\", \"shall\", \"shall\", \"shall\", \"shall\", \"shall\", \"shall\", \"shall\", \"shall\", \"shall\", \"shell\", \"shell\", \"shell\", \"sickly\", \"sickly\", \"sickly\", \"sickly\", \"sickly\", \"silas\", \"silas\", \"silas\", \"silas\", \"silver\", \"silver\", \"silver\", \"silver\", \"silver\", \"silver\", \"silvery\", \"silvery\", \"silvery\", \"sing\", \"sing\", \"sing\", \"sing\", \"sing\", \"sir\", \"sir\", \"sir\", \"sir\", \"sir\", \"sir\", \"sir\", \"sir\", \"sir\", \"sir\", \"sir\", \"sir\", \"sir\", \"sister\", \"sister\", \"sister\", \"sister\", \"sister\", \"sister\", \"sister\", \"sister\", \"sister\", \"sister\", \"sister\", \"sister\", \"sister\", \"sisters\", \"sisters\", \"sisters\", \"sisters\", \"sisters\", \"sisters\", \"sisters\", \"sisters\", \"sisters\", \"sisters\", \"sisters\", \"sits\", \"sits\", \"sits\", \"sky\", \"sky\", \"sky\", \"sky\", \"sky\", \"sky\", \"sky\", \"smallest\", \"smallest\", \"smallest\", \"smallest\", \"smallest\", \"smallest\", \"smallest\", \"smile\", \"smile\", \"smile\", \"smile\", \"smile\", \"smile\", \"smile\", \"smile\", \"smile\", \"smile\", \"smile\", \"smile\", \"smith\", \"smith\", \"smith\", \"smith\", \"smith\", \"smith\", \"smith\", \"smith\", \"smith\", \"snow\", \"snow\", \"snow\", \"snow\", \"snow\", \"snow\", \"snow\", \"snowe\", \"snowe\", \"snowe\", \"solid\", \"solid\", \"solid\", \"solid\", \"solid\", \"solid\", \"solid\", \"son\", \"son\", \"son\", \"son\", \"son\", \"son\", \"son\", \"son\", \"son\", \"son\", \"son\", \"son\", \"sons\", \"sons\", \"sons\", \"sons\", \"soon\", \"soon\", \"soon\", \"soon\", \"soon\", \"soon\", \"soon\", \"soon\", \"soon\", \"soon\", \"soon\", \"soon\", \"soon\", \"soon\", \"soon\", \"sort\", \"sort\", \"sort\", \"sort\", \"sort\", \"sort\", \"sort\", \"sort\", \"sort\", \"sort\", \"sort\", \"sort\", \"sort\", \"sort\", \"south\", \"south\", \"south\", \"south\", \"south\", \"south\", \"south\", \"south\", \"south\", \"spare\", \"spare\", \"spare\", \"spare\", \"spare\", \"spare\", \"spare\", \"spare\", \"spare\", \"spare\", \"spare\", \"speak\", \"speak\", \"speak\", \"speak\", \"speak\", \"speak\", \"speak\", \"speak\", \"speak\", \"speak\", \"speak\", \"speak\", \"speak\", \"speculation\", \"speculation\", \"speculation\", \"speculation\", \"speculation\", \"speculation\", \"speedily\", \"speedily\", \"speedily\", \"speedily\", \"speedily\", \"speedily\", \"speedily\", \"speedily\", \"speedily\", \"speedy\", \"speedy\", \"speedy\", \"speedy\", \"speedy\", \"speedy\", \"spirits\", \"spirits\", \"spirits\", \"spirits\", \"spirits\", \"spirits\", \"spirits\", \"spirits\", \"spirits\", \"spirits\", \"spirits\", \"spiritual\", \"spiritual\", \"spiritual\", \"sprung\", \"sprung\", \"sprung\", \"st\", \"st\", \"st\", \"st\", \"st\", \"st\", \"st\", \"stage\", \"stage\", \"stage\", \"stage\", \"stage\", \"stage\", \"staid\", \"staid\", \"staid\", \"staid\", \"staid\", \"staid\", \"staid\", \"steele\", \"steele\", \"steeles\", \"steeles\", \"stock\", \"stock\", \"stock\", \"stock\", \"stock\", \"stock\", \"stock\", \"stock\", \"stock\", \"stood\", \"stood\", \"stood\", \"stood\", \"stood\", \"stood\", \"stood\", \"stood\", \"stood\", \"stood\", \"stood\", \"stood\", \"stopt\", \"stopt\", \"stopt\", \"stopt\", \"storey\", \"strained\", \"strange\", \"strange\", \"strange\", \"strange\", \"strange\", \"strange\", \"strange\", \"strange\", \"strange\", \"strange\", \"strange\", \"strange\", \"strange\", \"stubborn\", \"stubborn\", \"stubborn\", \"stubborn\", \"stubborn\", \"subsided\", \"subsided\", \"subsided\", \"subsided\", \"subsided\", \"subsided\", \"sugar\", \"sugar\", \"sugar\", \"sugar\", \"sugar\", \"sugar\", \"suis\", \"suis\", \"suis\", \"sum\", \"sum\", \"sum\", \"sum\", \"sum\", \"sum\", \"supper\", \"supper\", \"supper\", \"supper\", \"supper\", \"supper\", \"supper\", \"supper\", \"sure\", \"sure\", \"sure\", \"sure\", \"sure\", \"sure\", \"sure\", \"sure\", \"sure\", \"sure\", \"sure\", \"sure\", \"sure\", \"sure\", \"surgeon\", \"surprize\", \"surprize\", \"surprized\", \"surprized\", \"swept\", \"swept\", \"swept\", \"swept\", \"swept\", \"swept\", \"swept\", \"taste\", \"taste\", \"taste\", \"taste\", \"taste\", \"taste\", \"taste\", \"taste\", \"taste\", \"taste\", \"taste\", \"taste\", \"taylor\", \"taylor\", \"taylor\", \"tea\", \"tea\", \"tea\", \"tea\", \"tea\", \"tea\", \"tea\", \"tea\", \"tea\", \"tea\", \"tea\", \"teacher\", \"teacher\", \"teacher\", \"teacher\", \"teacher\", \"teacher\", \"teachers\", \"teachers\", \"teachers\", \"teachers\", \"teachers\", \"teachers\", \"tell\", \"tell\", \"tell\", \"tell\", \"tell\", \"tell\", \"tell\", \"tell\", \"tell\", \"tell\", \"tell\", \"tell\", \"tell\", \"tempest\", \"tempest\", \"tempest\", \"tempest\", \"temple\", \"temple\", \"temple\", \"temple\", \"temple\", \"tempt\", \"tempt\", \"tempt\", \"tempt\", \"thank\", \"thank\", \"thank\", \"thank\", \"thank\", \"thank\", \"thank\", \"thank\", \"thank\", \"thank\", \"thing\", \"thing\", \"thing\", \"thing\", \"thing\", \"thing\", \"thing\", \"thing\", \"thing\", \"thing\", \"thing\", \"thing\", \"thing\", \"thing\", \"think\", \"think\", \"think\", \"think\", \"think\", \"think\", \"think\", \"think\", \"think\", \"think\", \"think\", \"think\", \"think\", \"think\", \"think\", \"thornfield\", \"thornfield\", \"thornfield\", \"thornfield\", \"thought\", \"thought\", \"thought\", \"thought\", \"thought\", \"thought\", \"thought\", \"thought\", \"thought\", \"thought\", \"thought\", \"thought\", \"thought\", \"thought\", \"thought\", \"thoughtless\", \"thoughtless\", \"thoughtless\", \"thoughtless\", \"thousand\", \"thousand\", \"thousand\", \"thousand\", \"thousand\", \"thousand\", \"thousand\", \"thousand\", \"thousand\", \"thousand\", \"thousand\", \"thousand\", \"thunder\", \"thunder\", \"thunder\", \"thunder\", \"tidings\", \"tidings\", \"tidings\", \"tidings\", \"tidings\", \"till\", \"till\", \"till\", \"till\", \"till\", \"till\", \"till\", \"till\", \"till\", \"till\", \"till\", \"till\", \"tiny\", \"tiny\", \"tiresome\", \"tiresome\", \"tiresome\", \"tiresome\", \"tiresome\", \"toilette\", \"toilette\", \"toilette\", \"toilette\", \"tomorrow\", \"tomorrow\", \"tomorrow\", \"took\", \"took\", \"took\", \"took\", \"took\", \"took\", \"took\", \"took\", \"took\", \"took\", \"took\", \"took\", \"took\", \"took\", \"tout\", \"tout\", \"tout\", \"tout\", \"town\", \"town\", \"town\", \"town\", \"town\", \"town\", \"town\", \"town\", \"town\", \"town\", \"town\", \"trained\", \"trained\", \"trained\", \"tray\", \"tray\", \"tray\", \"tray\", \"tray\", \"true\", \"true\", \"true\", \"true\", \"true\", \"true\", \"true\", \"true\", \"true\", \"true\", \"true\", \"true\", \"truly\", \"truly\", \"truly\", \"truly\", \"truly\", \"truly\", \"truly\", \"truly\", \"truly\", \"truly\", \"turf\", \"uncle\", \"uncle\", \"uncle\", \"uncle\", \"uncle\", \"uncle\", \"uncle\", \"uncle\", \"uncle\", \"uncle\", \"uncle\", \"une\", \"une\", \"une\", \"une\", \"unkindness\", \"unkindness\", \"unkindness\", \"unkindness\", \"unnatural\", \"unnatural\", \"unnatural\", \"unnatural\", \"unwell\", \"unwell\", \"unwell\", \"unwell\", \"vaguely\", \"vaguely\", \"vaguely\", \"varying\", \"varying\", \"varying\", \"varying\", \"vengeance\", \"vicarage\", \"vicarage\", \"vicarage\", \"victor\", \"victor\", \"visions\", \"voice\", \"voice\", \"voice\", \"voice\", \"voice\", \"voice\", \"voice\", \"voice\", \"voice\", \"voice\", \"voice\", \"voice\", \"voice\", \"vous\", \"vous\", \"vous\", \"vous\", \"vous\", \"vous\", \"vowed\", \"vowed\", \"vowed\", \"wages\", \"waist\", \"waist\", \"waist\", \"wake\", \"warmer\", \"warmer\", \"warmer\", \"warmer\", \"washed\", \"washed\", \"washed\", \"washed\", \"washed\", \"washed\", \"watchful\", \"watchful\", \"watchful\", \"watchful\", \"waves\", \"way\", \"way\", \"way\", \"way\", \"way\", \"way\", \"way\", \"way\", \"way\", \"way\", \"way\", \"way\", \"way\", \"way\", \"weston\", \"weston\", \"weston\", \"weston\", \"weston\", \"weston\", \"westons\", \"westons\", \"westons\", \"weymouth\", \"weymouth\", \"whispers\", \"whispers\", \"whispers\", \"whispers\", \"white\", \"white\", \"white\", \"white\", \"white\", \"white\", \"white\", \"white\", \"white\", \"white\", \"white\", \"white\", \"wicket\", \"wickham\", \"wickham\", \"wife\", \"wife\", \"wife\", \"wife\", \"wife\", \"wife\", \"wife\", \"wife\", \"wife\", \"wife\", \"wife\", \"wife\", \"wife\", \"willoughby\", \"willoughby\", \"willoughby\", \"willoughby\", \"willoughby\", \"willoughby\", \"windows\", \"windows\", \"windows\", \"windows\", \"windows\", \"windows\", \"windows\", \"windows\", \"windows\", \"wisely\", \"wisely\", \"wisely\", \"wisely\", \"wish\", \"wish\", \"wish\", \"wish\", \"wish\", \"wish\", \"wish\", \"wish\", \"wish\", \"wish\", \"wish\", \"wish\", \"wish\", \"wish\", \"woman\", \"woman\", \"woman\", \"woman\", \"woman\", \"woman\", \"woman\", \"woman\", \"woman\", \"woman\", \"woman\", \"woman\", \"woman\", \"woman\", \"wonder\", \"wonder\", \"wonder\", \"wonder\", \"wonder\", \"wonder\", \"wonder\", \"wonder\", \"wonder\", \"wonder\", \"wonder\", \"wonder\", \"wonder\", \"wonder\", \"woodhouse\", \"woodhouse\", \"woodhouse\", \"woodhouse\", \"woodhouse\", \"woodhouse\", \"word\", \"word\", \"word\", \"word\", \"word\", \"word\", \"word\", \"word\", \"word\", \"word\", \"word\", \"word\", \"word\", \"words\", \"words\", \"words\", \"words\", \"words\", \"words\", \"words\", \"words\", \"words\", \"words\", \"words\", \"world\", \"world\", \"world\", \"world\", \"world\", \"world\", \"world\", \"world\", \"world\", \"world\", \"world\", \"world\", \"world\", \"world\", \"worshipped\", \"worshipped\", \"worshipped\", \"writes\", \"writes\", \"writes\", \"writes\", \"writes\", \"writes\", \"yards\", \"yards\", \"yards\", \"yards\", \"yards\", \"yards\", \"yards\", \"ye\", \"ye\", \"ye\", \"ye\", \"ye\", \"ye\", \"year\", \"year\", \"year\", \"year\", \"year\", \"year\", \"year\", \"year\", \"year\", \"year\", \"year\", \"year\", \"years\", \"years\", \"years\", \"years\", \"years\", \"years\", \"years\", \"years\", \"years\", \"years\", \"years\", \"years\", \"years\", \"years\", \"yes\", \"yes\", \"yes\", \"yes\", \"yes\", \"yes\", \"yes\", \"yes\", \"yes\", \"yes\", \"yes\", \"yes\", \"yes\", \"yes\", \"yesterday\", \"yesterday\", \"yesterday\", \"yesterday\", \"yesterday\", \"yesterday\", \"yesterday\", \"yesterday\", \"yesterday\", \"young\", \"young\", \"young\", \"young\", \"young\", \"young\", \"young\", \"young\", \"young\", \"young\", \"young\", \"young\", \"young\", \"young\", \"zelie\", \"zelie\", \"zoraide\", \"zoraide\", \"zoraide\", \"zoraide\"]}, \"R\": 30, \"lambda.step\": 0.01, \"plot.opts\": {\"xlab\": \"PC1\", \"ylab\": \"PC2\"}, \"topic.order\": [11, 5, 8, 13, 4, 10, 9, 14, 2, 3, 12, 6, 15, 7, 1]};\n",
       "\n",
       "function LDAvis_load_lib(url, callback){\n",
       "  var s = document.createElement('script');\n",
       "  s.src = url;\n",
       "  s.async = true;\n",
       "  s.onreadystatechange = s.onload = callback;\n",
       "  s.onerror = function(){console.warn(\"failed to load library \" + url);};\n",
       "  document.getElementsByTagName(\"head\")[0].appendChild(s);\n",
       "}\n",
       "\n",
       "if(typeof(LDAvis) !== \"undefined\"){\n",
       "   // already loaded: just create the visualization\n",
       "   !function(LDAvis){\n",
       "       new LDAvis(\"#\" + \"ldavis_el10161407297711102161802572614\", ldavis_el10161407297711102161802572614_data);\n",
       "   }(LDAvis);\n",
       "}else if(typeof define === \"function\" && define.amd){\n",
       "   // require.js is available: use it to load d3/LDAvis\n",
       "   require.config({paths: {d3: \"https://cdnjs.cloudflare.com/ajax/libs/d3/3.5.5/d3.min\"}});\n",
       "   require([\"d3\"], function(d3){\n",
       "      window.d3 = d3;\n",
       "      LDAvis_load_lib(\"https://cdn.rawgit.com/bmabey/pyLDAvis/files/ldavis.v1.0.0.js\", function(){\n",
       "        new LDAvis(\"#\" + \"ldavis_el10161407297711102161802572614\", ldavis_el10161407297711102161802572614_data);\n",
       "      });\n",
       "    });\n",
       "}else{\n",
       "    // require.js not available: dynamically load d3 & LDAvis\n",
       "    LDAvis_load_lib(\"https://cdnjs.cloudflare.com/ajax/libs/d3/3.5.5/d3.min.js\", function(){\n",
       "         LDAvis_load_lib(\"https://cdn.rawgit.com/bmabey/pyLDAvis/files/ldavis.v1.0.0.js\", function(){\n",
       "                 new LDAvis(\"#\" + \"ldavis_el10161407297711102161802572614\", ldavis_el10161407297711102161802572614_data);\n",
       "            })\n",
       "         });\n",
       "}\n",
       "</script>"
      ],
      "text/plain": [
       "PreparedData(topic_coordinates=              x         y  topics  cluster       Freq\n",
       "topic                                                \n",
       "10    -0.063472 -0.005239       1        1  32.068672\n",
       "4      0.083631  0.035550       2        1  16.238123\n",
       "7      0.085486 -0.032205       3        1  15.331347\n",
       "12    -0.095249 -0.013953       4        1  10.557548\n",
       "3      0.106033  0.079755       5        1   6.615864\n",
       "9     -0.124448  0.016652       6        1   6.529393\n",
       "8      0.109416  0.078417       7        1   4.536302\n",
       "13    -0.121726  0.056321       8        1   1.842934\n",
       "1      0.077080 -0.076164       9        1   1.761439\n",
       "2      0.064941 -0.053893      10        1   1.583878\n",
       "11    -0.122537  0.063356      11        1   1.448046\n",
       "5      0.081039 -0.065017      12        1   0.480557\n",
       "14     0.055533  0.078886      13        1   0.436493\n",
       "6     -0.033680 -0.125019      14        1   0.411561\n",
       "0     -0.102049 -0.037446      15        1   0.157841, topic_info=     Category         Freq        Term        Total  loglift  logprob\n",
       "139   Default   927.000000        jane   927.000000  30.0000  30.0000\n",
       "81    Default   858.000000        emma   858.000000  29.0000  29.0000\n",
       "4182  Default   685.000000      elinor   685.000000  28.0000  28.0000\n",
       "170   Default  1538.000000        miss  1538.000000  27.0000  27.0000\n",
       "4185  Default   567.000000    marianne   567.000000  26.0000  26.0000\n",
       "372   Default  1439.000000        know  1439.000000  25.0000  25.0000\n",
       "376   Default  1340.000000        like  1340.000000  24.0000  24.0000\n",
       "421   Default   596.000000         sir   596.000000  23.0000  23.0000\n",
       "820   Default   886.000000        room   886.000000  22.0000  22.0000\n",
       "418   Default   924.000000       shall   924.000000  21.0000  21.0000\n",
       "258   Default   785.000000       thing   785.000000  20.0000  20.0000\n",
       "278   Default   428.000000      weston   428.000000  19.0000  19.0000\n",
       "260   Default  1316.000000       think  1316.000000  18.0000  18.0000\n",
       "261   Default  1147.000000     thought  1147.000000  17.0000  17.0000\n",
       "1202  Default   632.000000   elizabeth   632.000000  16.0000  16.0000\n",
       "93    Default   508.000000      father   508.000000  15.0000  15.0000\n",
       "125   Default   493.000000        home   493.000000  14.0000  14.0000\n",
       "173   Default   666.000000      mother   666.000000  13.0000  13.0000\n",
       "232   Default   585.000000      sister   585.000000  12.0000  12.0000\n",
       "183   Default   479.000000         old   479.000000  11.0000  11.0000\n",
       "428   Default   615.000000        sure   615.000000  10.0000  10.0000\n",
       "322   Default   587.000000        dear   587.000000   9.0000   9.0000\n",
       "918   Default   524.000000     harriet   524.000000   8.0000   8.0000\n",
       "241   Default   925.000000        soon   925.000000   7.0000   7.0000\n",
       "109   Default   827.000000       great   827.000000   6.0000   6.0000\n",
       "157   Default   909.000000         man   909.000000   5.0000   5.0000\n",
       "312   Default   835.000000        come   835.000000   4.0000   4.0000\n",
       "3745  Default   402.000000      madame   402.000000   3.0000   3.0000\n",
       "59    Default  1064.000000         day  1064.000000   2.0000   2.0000\n",
       "934   Default   308.000000       light   308.000000   1.0000   1.0000\n",
       "...       ...          ...         ...          ...      ...      ...\n",
       "4015  Topic15     1.156096       plate    29.582333   3.2092  -5.9700\n",
       "2303  Topic15     1.685596    campbell    50.003601   3.0614  -5.5929\n",
       "4892  Topic15     2.875551     frances   116.806770   2.7471  -5.0588\n",
       "1262  Topic15     1.713303    arranged    64.807129   2.8183  -5.5766\n",
       "2826  Topic15     1.156197       swept    34.747395   3.0484  -5.9699\n",
       "715   Topic15     1.718255       truly    72.737862   2.7058  -5.5737\n",
       "1835  Topic15     1.154819     possess    37.189663   2.9793  -5.9711\n",
       "934   Topic15     3.411596       light   308.158844   1.9479  -4.8879\n",
       "2681  Topic15     1.161043      roused    45.481804   2.7833  -5.9657\n",
       "125   Topic15     3.155374        home   493.960175   1.3980  -4.9659\n",
       "2235  Topic15     0.842488  perfection    22.914412   3.1482  -6.2864\n",
       "183   Topic15     2.595057         old   479.408417   1.2324  -5.1614\n",
       "2256  Topic15     1.739083     english   226.764816   1.5808  -5.5617\n",
       "1522  Topic15     1.166320    produced    70.993790   2.3426  -5.9612\n",
       "424   Topic15     1.763124        sort   361.145386   1.1291  -5.5479\n",
       "713   Topic15     1.877586        took   499.930664   0.8669  -5.4850\n",
       "1123  Topic15     1.779030       asked   400.429871   1.0349  -5.5390\n",
       "894   Topic15     1.785429        eyes   641.954590   0.5665  -5.5354\n",
       "29    Topic15     1.775711        came   693.490723   0.4838  -5.5408\n",
       "261   Topic15     1.834810     thought  1147.835571   0.0126  -5.5081\n",
       "376   Topic15     1.847653        like  1340.464478  -0.1355  -5.5011\n",
       "285   Topic15     1.540061       years   315.401367   1.1293  -5.6832\n",
       "343   Topic15     1.372533        girl   308.827911   1.0352  -5.7984\n",
       "173   Topic15     1.333786      mother   666.501099   0.2373  -5.8270\n",
       "301   Topic15     1.302422      better   618.630615   0.2881  -5.8508\n",
       "513   Topic15     1.257125      making   202.228104   1.3708  -5.8862\n",
       "28    Topic15     1.262349     brought   322.122589   0.9094  -5.8821\n",
       "820   Topic15     1.285903        room   886.474182  -0.0845  -5.8636\n",
       "457   Topic15     1.256023       began   303.300171   0.9646  -5.8871\n",
       "194   Topic15     1.249519       place   510.466614   0.4388  -5.8923\n",
       "\n",
       "[1036 rows x 6 columns], token_table=      Topic      Freq          Term\n",
       "term                               \n",
       "728       3  0.745123         abbey\n",
       "728       9  0.032397         abbey\n",
       "728      10  0.161983         abbey\n",
       "728      12  0.032397         abbey\n",
       "2565      1  0.059842     abundance\n",
       "2565      3  0.299211     abundance\n",
       "2565      4  0.179527     abundance\n",
       "2565      5  0.059842     abundance\n",
       "2565      6  0.059842     abundance\n",
       "2565      7  0.059842     abundance\n",
       "2565     11  0.119685     abundance\n",
       "2565     14  0.119685     abundance\n",
       "2954      1  0.090117  acquiescence\n",
       "2954      2  0.180235  acquiescence\n",
       "2954      3  0.270352  acquiescence\n",
       "2954      5  0.090117  acquiescence\n",
       "2954      8  0.090117  acquiescence\n",
       "2954     10  0.090117  acquiescence\n",
       "2954     14  0.090117  acquiescence\n",
       "1548      1  0.222912    addressing\n",
       "1548      2  0.074304    addressing\n",
       "1548      3  0.198144    addressing\n",
       "1548      4  0.099072    addressing\n",
       "1548      5  0.049536    addressing\n",
       "1548      6  0.049536    addressing\n",
       "1548      8  0.198144    addressing\n",
       "1548      9  0.024768    addressing\n",
       "1548     13  0.024768    addressing\n",
       "1548     14  0.024768    addressing\n",
       "4665      1  0.676898         adele\n",
       "...     ...       ...           ...\n",
       "1178     14  0.004984           yes\n",
       "1328      1  0.171823     yesterday\n",
       "1328      2  0.171823     yesterday\n",
       "1328      3  0.252007     yesterday\n",
       "1328      4  0.068729     yesterday\n",
       "1328      5  0.045819     yesterday\n",
       "1328      6  0.022910     yesterday\n",
       "1328      7  0.091639     yesterday\n",
       "1328      9  0.137458     yesterday\n",
       "1328     10  0.022910     yesterday\n",
       "570       1  0.186706         young\n",
       "570       2  0.218326         young\n",
       "570       3  0.243923         young\n",
       "570       4  0.070768         young\n",
       "570       5  0.075285         young\n",
       "570       6  0.048182         young\n",
       "570       7  0.058722         young\n",
       "570       8  0.021080         young\n",
       "570       9  0.018068         young\n",
       "570      10  0.018068         young\n",
       "570      11  0.022585         young\n",
       "570      12  0.009034         young\n",
       "570      13  0.003011         young\n",
       "570      14  0.007528         young\n",
       "4918      1  0.055694         zelie\n",
       "4918      6  0.891109         zelie\n",
       "4872      1  0.408101       zoraide\n",
       "4872      6  0.037100       zoraide\n",
       "4872      8  0.074200       zoraide\n",
       "4872     11  0.445201       zoraide\n",
       "\n",
       "[4325 rows x 3 columns], R=30, lambda_step=0.01, plot_opts={'xlab': 'PC1', 'ylab': 'PC2'}, topic_order=[11, 5, 8, 13, 4, 10, 9, 14, 2, 3, 12, 6, 15, 7, 1])"
      ]
     },
     "execution_count": 75,
     "metadata": {},
     "output_type": "execute_result"
    }
   ],
   "source": [
    "pyLDAvis.gensim.prepare(lda, corpus, id2word)"
   ]
  },
  {
   "cell_type": "markdown",
   "metadata": {},
   "source": [
    "### Overall Model / Documents"
   ]
  },
  {
   "cell_type": "code",
   "execution_count": 80,
   "metadata": {},
   "outputs": [
    {
     "data": {
      "text/plain": [
       "[(0, 1),\n",
       " (20, 1),\n",
       " (40, 1),\n",
       " (60, 1),\n",
       " (80, 1),\n",
       " (100, 1),\n",
       " (120, 1),\n",
       " (140, 1),\n",
       " (160, 2),\n",
       " (180, 1),\n",
       " (200, 1),\n",
       " (220, 1),\n",
       " (240, 1),\n",
       " (260, 3),\n",
       " (280, 1)]"
      ]
     },
     "execution_count": 80,
     "metadata": {},
     "output_type": "execute_result"
    }
   ],
   "source": [
    "corpus[0][::20]"
   ]
  },
  {
   "cell_type": "code",
   "execution_count": 81,
   "metadata": {},
   "outputs": [
    {
     "data": {
      "text/plain": [
       "[(4, 0.112798184), (7, 0.8807709)]"
      ]
     },
     "execution_count": 81,
     "metadata": {},
     "output_type": "execute_result"
    }
   ],
   "source": [
    "lda[corpus[0]]"
   ]
  },
  {
   "cell_type": "code",
   "execution_count": 76,
   "metadata": {},
   "outputs": [],
   "source": [
    "distro = [lda[d] for d in corpus]"
   ]
  },
  {
   "cell_type": "code",
   "execution_count": 77,
   "metadata": {},
   "outputs": [
    {
     "data": {
      "text/plain": [
       "[(4, 0.11332558), (7, 0.880894)]"
      ]
     },
     "execution_count": 77,
     "metadata": {},
     "output_type": "execute_result"
    }
   ],
   "source": [
    "distro[0]"
   ]
  },
  {
   "cell_type": "code",
   "execution_count": 82,
   "metadata": {},
   "outputs": [],
   "source": [
    "def update(doc):\n",
    "        d_dist = {k:0 for k in range(0,15)}\n",
    "        for t in doc:\n",
    "            d_dist[t[0]] = t[1]\n",
    "        return d_dist\n",
    "    \n",
    "new_distro = [update(d) for d in distro]"
   ]
  },
  {
   "cell_type": "code",
   "execution_count": 85,
   "metadata": {},
   "outputs": [],
   "source": [
    "df = pd.DataFrame.from_records(new_distro, index=titles)\n",
    "df.columns = topics\n",
    "df['author'] = df.reset_index()['index'].apply(lambda x: x.split('_')[0]).tolist()"
   ]
  },
  {
   "cell_type": "code",
   "execution_count": 86,
   "metadata": {},
   "outputs": [
    {
     "data": {
      "text/html": [
       "<div>\n",
       "<style scoped>\n",
       "    .dataframe tbody tr th:only-of-type {\n",
       "        vertical-align: middle;\n",
       "    }\n",
       "\n",
       "    .dataframe tbody tr th {\n",
       "        vertical-align: top;\n",
       "    }\n",
       "\n",
       "    .dataframe thead th {\n",
       "        text-align: right;\n",
       "    }\n",
       "</style>\n",
       "<table border=\"1\" class=\"dataframe\">\n",
       "  <thead>\n",
       "    <tr style=\"text-align: right;\">\n",
       "      <th></th>\n",
       "      <th>tea england light hearth home</th>\n",
       "      <th>jane sir shall miss know</th>\n",
       "      <th>weston thing emma day soon</th>\n",
       "      <th>marianne elinor willoughby sister jennings</th>\n",
       "      <th>elizabeth darcy bennet miss jane</th>\n",
       "      <th>pounds thousand father dashwood thing</th>\n",
       "      <th>room weston thing like dancing</th>\n",
       "      <th>emma miss harriet weston knightley</th>\n",
       "      <th>elinor edward lucy mother think</th>\n",
       "      <th>miss madame like dr paul</th>\n",
       "      <th>like thought night day know</th>\n",
       "      <th>pelet madame monsieur reuter vous</th>\n",
       "      <th>like madame bretton graham room</th>\n",
       "      <th>monsieur mdlle english henri reuter</th>\n",
       "      <th>marianne sister margaret elinor shall</th>\n",
       "      <th>author</th>\n",
       "    </tr>\n",
       "  </thead>\n",
       "  <tbody>\n",
       "    <tr>\n",
       "      <th>Austen_Emma0000</th>\n",
       "      <td>0.0</td>\n",
       "      <td>0.000000</td>\n",
       "      <td>0.0</td>\n",
       "      <td>0.0</td>\n",
       "      <td>0.113326</td>\n",
       "      <td>0.0</td>\n",
       "      <td>0.0</td>\n",
       "      <td>0.880894</td>\n",
       "      <td>0.000000</td>\n",
       "      <td>0.0</td>\n",
       "      <td>0.0</td>\n",
       "      <td>0.0</td>\n",
       "      <td>0.0</td>\n",
       "      <td>0.0</td>\n",
       "      <td>0.0</td>\n",
       "      <td>Austen</td>\n",
       "    </tr>\n",
       "    <tr>\n",
       "      <th>Austen_Emma0001</th>\n",
       "      <td>0.0</td>\n",
       "      <td>0.107975</td>\n",
       "      <td>0.0</td>\n",
       "      <td>0.0</td>\n",
       "      <td>0.000000</td>\n",
       "      <td>0.0</td>\n",
       "      <td>0.0</td>\n",
       "      <td>0.889468</td>\n",
       "      <td>0.000000</td>\n",
       "      <td>0.0</td>\n",
       "      <td>0.0</td>\n",
       "      <td>0.0</td>\n",
       "      <td>0.0</td>\n",
       "      <td>0.0</td>\n",
       "      <td>0.0</td>\n",
       "      <td>Austen</td>\n",
       "    </tr>\n",
       "    <tr>\n",
       "      <th>Austen_Emma0002</th>\n",
       "      <td>0.0</td>\n",
       "      <td>0.000000</td>\n",
       "      <td>0.0</td>\n",
       "      <td>0.0</td>\n",
       "      <td>0.000000</td>\n",
       "      <td>0.0</td>\n",
       "      <td>0.0</td>\n",
       "      <td>0.997421</td>\n",
       "      <td>0.000000</td>\n",
       "      <td>0.0</td>\n",
       "      <td>0.0</td>\n",
       "      <td>0.0</td>\n",
       "      <td>0.0</td>\n",
       "      <td>0.0</td>\n",
       "      <td>0.0</td>\n",
       "      <td>Austen</td>\n",
       "    </tr>\n",
       "    <tr>\n",
       "      <th>Austen_Emma0003</th>\n",
       "      <td>0.0</td>\n",
       "      <td>0.000000</td>\n",
       "      <td>0.0</td>\n",
       "      <td>0.0</td>\n",
       "      <td>0.000000</td>\n",
       "      <td>0.0</td>\n",
       "      <td>0.0</td>\n",
       "      <td>0.682868</td>\n",
       "      <td>0.313349</td>\n",
       "      <td>0.0</td>\n",
       "      <td>0.0</td>\n",
       "      <td>0.0</td>\n",
       "      <td>0.0</td>\n",
       "      <td>0.0</td>\n",
       "      <td>0.0</td>\n",
       "      <td>Austen</td>\n",
       "    </tr>\n",
       "    <tr>\n",
       "      <th>Austen_Emma0004</th>\n",
       "      <td>0.0</td>\n",
       "      <td>0.000000</td>\n",
       "      <td>0.0</td>\n",
       "      <td>0.0</td>\n",
       "      <td>0.000000</td>\n",
       "      <td>0.0</td>\n",
       "      <td>0.0</td>\n",
       "      <td>0.997683</td>\n",
       "      <td>0.000000</td>\n",
       "      <td>0.0</td>\n",
       "      <td>0.0</td>\n",
       "      <td>0.0</td>\n",
       "      <td>0.0</td>\n",
       "      <td>0.0</td>\n",
       "      <td>0.0</td>\n",
       "      <td>Austen</td>\n",
       "    </tr>\n",
       "  </tbody>\n",
       "</table>\n",
       "</div>"
      ],
      "text/plain": [
       "                 tea england light hearth home  jane sir shall miss know  \\\n",
       "Austen_Emma0000                            0.0                  0.000000   \n",
       "Austen_Emma0001                            0.0                  0.107975   \n",
       "Austen_Emma0002                            0.0                  0.000000   \n",
       "Austen_Emma0003                            0.0                  0.000000   \n",
       "Austen_Emma0004                            0.0                  0.000000   \n",
       "\n",
       "                 weston thing emma day soon  \\\n",
       "Austen_Emma0000                         0.0   \n",
       "Austen_Emma0001                         0.0   \n",
       "Austen_Emma0002                         0.0   \n",
       "Austen_Emma0003                         0.0   \n",
       "Austen_Emma0004                         0.0   \n",
       "\n",
       "                 marianne elinor willoughby sister jennings  \\\n",
       "Austen_Emma0000                                         0.0   \n",
       "Austen_Emma0001                                         0.0   \n",
       "Austen_Emma0002                                         0.0   \n",
       "Austen_Emma0003                                         0.0   \n",
       "Austen_Emma0004                                         0.0   \n",
       "\n",
       "                 elizabeth darcy bennet miss jane  \\\n",
       "Austen_Emma0000                          0.113326   \n",
       "Austen_Emma0001                          0.000000   \n",
       "Austen_Emma0002                          0.000000   \n",
       "Austen_Emma0003                          0.000000   \n",
       "Austen_Emma0004                          0.000000   \n",
       "\n",
       "                 pounds thousand father dashwood thing  \\\n",
       "Austen_Emma0000                                    0.0   \n",
       "Austen_Emma0001                                    0.0   \n",
       "Austen_Emma0002                                    0.0   \n",
       "Austen_Emma0003                                    0.0   \n",
       "Austen_Emma0004                                    0.0   \n",
       "\n",
       "                 room weston thing like dancing  \\\n",
       "Austen_Emma0000                             0.0   \n",
       "Austen_Emma0001                             0.0   \n",
       "Austen_Emma0002                             0.0   \n",
       "Austen_Emma0003                             0.0   \n",
       "Austen_Emma0004                             0.0   \n",
       "\n",
       "                 emma miss harriet weston knightley  \\\n",
       "Austen_Emma0000                            0.880894   \n",
       "Austen_Emma0001                            0.889468   \n",
       "Austen_Emma0002                            0.997421   \n",
       "Austen_Emma0003                            0.682868   \n",
       "Austen_Emma0004                            0.997683   \n",
       "\n",
       "                 elinor edward lucy mother think  miss madame like dr paul  \\\n",
       "Austen_Emma0000                         0.000000                       0.0   \n",
       "Austen_Emma0001                         0.000000                       0.0   \n",
       "Austen_Emma0002                         0.000000                       0.0   \n",
       "Austen_Emma0003                         0.313349                       0.0   \n",
       "Austen_Emma0004                         0.000000                       0.0   \n",
       "\n",
       "                 like thought night day know  \\\n",
       "Austen_Emma0000                          0.0   \n",
       "Austen_Emma0001                          0.0   \n",
       "Austen_Emma0002                          0.0   \n",
       "Austen_Emma0003                          0.0   \n",
       "Austen_Emma0004                          0.0   \n",
       "\n",
       "                 pelet madame monsieur reuter vous  \\\n",
       "Austen_Emma0000                                0.0   \n",
       "Austen_Emma0001                                0.0   \n",
       "Austen_Emma0002                                0.0   \n",
       "Austen_Emma0003                                0.0   \n",
       "Austen_Emma0004                                0.0   \n",
       "\n",
       "                 like madame bretton graham room  \\\n",
       "Austen_Emma0000                              0.0   \n",
       "Austen_Emma0001                              0.0   \n",
       "Austen_Emma0002                              0.0   \n",
       "Austen_Emma0003                              0.0   \n",
       "Austen_Emma0004                              0.0   \n",
       "\n",
       "                 monsieur mdlle english henri reuter  \\\n",
       "Austen_Emma0000                                  0.0   \n",
       "Austen_Emma0001                                  0.0   \n",
       "Austen_Emma0002                                  0.0   \n",
       "Austen_Emma0003                                  0.0   \n",
       "Austen_Emma0004                                  0.0   \n",
       "\n",
       "                 marianne sister margaret elinor shall  author  \n",
       "Austen_Emma0000                                    0.0  Austen  \n",
       "Austen_Emma0001                                    0.0  Austen  \n",
       "Austen_Emma0002                                    0.0  Austen  \n",
       "Austen_Emma0003                                    0.0  Austen  \n",
       "Austen_Emma0004                                    0.0  Austen  "
      ]
     },
     "execution_count": 86,
     "metadata": {},
     "output_type": "execute_result"
    }
   ],
   "source": [
    "df.head()"
   ]
  },
  {
   "cell_type": "code",
   "execution_count": 87,
   "metadata": {},
   "outputs": [
    {
     "data": {
      "text/html": [
       "<div>\n",
       "<style scoped>\n",
       "    .dataframe tbody tr th:only-of-type {\n",
       "        vertical-align: middle;\n",
       "    }\n",
       "\n",
       "    .dataframe tbody tr th {\n",
       "        vertical-align: top;\n",
       "    }\n",
       "\n",
       "    .dataframe thead th {\n",
       "        text-align: right;\n",
       "    }\n",
       "</style>\n",
       "<table border=\"1\" class=\"dataframe\">\n",
       "  <thead>\n",
       "    <tr style=\"text-align: right;\">\n",
       "      <th></th>\n",
       "      <th>tea england light hearth home</th>\n",
       "      <th>jane sir shall miss know</th>\n",
       "      <th>weston thing emma day soon</th>\n",
       "      <th>marianne elinor willoughby sister jennings</th>\n",
       "      <th>elizabeth darcy bennet miss jane</th>\n",
       "      <th>pounds thousand father dashwood thing</th>\n",
       "      <th>room weston thing like dancing</th>\n",
       "      <th>emma miss harriet weston knightley</th>\n",
       "      <th>elinor edward lucy mother think</th>\n",
       "      <th>miss madame like dr paul</th>\n",
       "      <th>like thought night day know</th>\n",
       "      <th>pelet madame monsieur reuter vous</th>\n",
       "      <th>like madame bretton graham room</th>\n",
       "      <th>monsieur mdlle english henri reuter</th>\n",
       "      <th>marianne sister margaret elinor shall</th>\n",
       "    </tr>\n",
       "    <tr>\n",
       "      <th>author</th>\n",
       "      <th></th>\n",
       "      <th></th>\n",
       "      <th></th>\n",
       "      <th></th>\n",
       "      <th></th>\n",
       "      <th></th>\n",
       "      <th></th>\n",
       "      <th></th>\n",
       "      <th></th>\n",
       "      <th></th>\n",
       "      <th></th>\n",
       "      <th></th>\n",
       "      <th></th>\n",
       "      <th></th>\n",
       "      <th></th>\n",
       "    </tr>\n",
       "  </thead>\n",
       "  <tbody>\n",
       "    <tr>\n",
       "      <th>Austen</th>\n",
       "      <td>0.000115</td>\n",
       "      <td>0.018993</td>\n",
       "      <td>0.030888</td>\n",
       "      <td>0.137463</td>\n",
       "      <td>0.351511</td>\n",
       "      <td>0.009165</td>\n",
       "      <td>0.005639</td>\n",
       "      <td>0.322107</td>\n",
       "      <td>0.091936</td>\n",
       "      <td>0.000407</td>\n",
       "      <td>0.016081</td>\n",
       "      <td>0.001570</td>\n",
       "      <td>0.002066</td>\n",
       "      <td>0.000905</td>\n",
       "      <td>0.008277</td>\n",
       "    </tr>\n",
       "    <tr>\n",
       "      <th>CBronte</th>\n",
       "      <td>0.002262</td>\n",
       "      <td>0.018015</td>\n",
       "      <td>0.002562</td>\n",
       "      <td>0.000738</td>\n",
       "      <td>0.017136</td>\n",
       "      <td>0.001133</td>\n",
       "      <td>0.002289</td>\n",
       "      <td>0.005264</td>\n",
       "      <td>0.004562</td>\n",
       "      <td>0.116071</td>\n",
       "      <td>0.586019</td>\n",
       "      <td>0.024087</td>\n",
       "      <td>0.185662</td>\n",
       "      <td>0.030873</td>\n",
       "      <td>0.000533</td>\n",
       "    </tr>\n",
       "  </tbody>\n",
       "</table>\n",
       "</div>"
      ],
      "text/plain": [
       "         tea england light hearth home  jane sir shall miss know  \\\n",
       "author                                                             \n",
       "Austen                        0.000115                  0.018993   \n",
       "CBronte                       0.002262                  0.018015   \n",
       "\n",
       "         weston thing emma day soon  \\\n",
       "author                                \n",
       "Austen                     0.030888   \n",
       "CBronte                    0.002562   \n",
       "\n",
       "         marianne elinor willoughby sister jennings  \\\n",
       "author                                                \n",
       "Austen                                     0.137463   \n",
       "CBronte                                    0.000738   \n",
       "\n",
       "         elizabeth darcy bennet miss jane  \\\n",
       "author                                      \n",
       "Austen                           0.351511   \n",
       "CBronte                          0.017136   \n",
       "\n",
       "         pounds thousand father dashwood thing  \\\n",
       "author                                           \n",
       "Austen                                0.009165   \n",
       "CBronte                               0.001133   \n",
       "\n",
       "         room weston thing like dancing  emma miss harriet weston knightley  \\\n",
       "author                                                                        \n",
       "Austen                         0.005639                            0.322107   \n",
       "CBronte                        0.002289                            0.005264   \n",
       "\n",
       "         elinor edward lucy mother think  miss madame like dr paul  \\\n",
       "author                                                               \n",
       "Austen                          0.091936                  0.000407   \n",
       "CBronte                         0.004562                  0.116071   \n",
       "\n",
       "         like thought night day know  pelet madame monsieur reuter vous  \\\n",
       "author                                                                    \n",
       "Austen                      0.016081                           0.001570   \n",
       "CBronte                     0.586019                           0.024087   \n",
       "\n",
       "         like madame bretton graham room  monsieur mdlle english henri reuter  \\\n",
       "author                                                                          \n",
       "Austen                          0.002066                             0.000905   \n",
       "CBronte                         0.185662                             0.030873   \n",
       "\n",
       "         marianne sister margaret elinor shall  \n",
       "author                                          \n",
       "Austen                                0.008277  \n",
       "CBronte                               0.000533  "
      ]
     },
     "execution_count": 87,
     "metadata": {},
     "output_type": "execute_result"
    }
   ],
   "source": [
    "df.groupby('author').mean()"
   ]
  },
  {
   "cell_type": "markdown",
   "metadata": {},
   "source": [
    "## Part 4: Selecting the Number of Topics\n",
    "<a id=\"#p4\"></a>"
   ]
  },
  {
   "cell_type": "code",
   "execution_count": 1,
   "metadata": {},
   "outputs": [],
   "source": [
    "from gensim.models.coherencemodel import CoherenceModel\n",
    "\n",
    "def compute_coherence_values(dictionary, corpus, path, limit, start=2, step=3):\n",
    "    \"\"\"\n",
    "    Compute c_v coherence for various number of topics\n",
    "\n",
    "    Parameters:\n",
    "    ----------\n",
    "    dictionary : Gensim dictionary\n",
    "    corpus : Gensim corpus\n",
    "    path : path to input texts\n",
    "    limit : Max num of topics\n",
    "\n",
    "    Returns:\n",
    "    -------\n",
    "    model_list : List of LDA topic models\n",
    "    coherence_values : Coherence values corresponding to the LDA model with respective number of topics\n",
    "    \"\"\"\n",
    "    coherence_values = []\n",
    "    model_list = []\n",
    "    for num_topics in range(start, limit, step):\n",
    "        stream = doc_stream(path)\n",
    "        model = LdaMulticore(corpus=corpus, num_topics=num_topics, id2word=id2word, workers=4)\n",
    "        model_list.append(model)\n",
    "        coherencemodel = CoherenceModel(model=model, texts=stream, dictionary=dictionary, coherence='c_v')\n",
    "        coherence_values.append(coherencemodel.get_coherence())\n",
    "\n",
    "    return model_list, coherence_values"
   ]
  },
  {
   "cell_type": "code",
   "execution_count": 98,
   "metadata": {},
   "outputs": [],
   "source": [
    "# Can take a long time to run.\n",
    "model_list, coherence_values = compute_coherence_values(dictionary=id2word, \n",
    "                                                        corpus=corpus, \n",
    "                                                        path=path, \n",
    "                                                        start=2, \n",
    "                                                        limit=40, \n",
    "                                                        step=6)"
   ]
  },
  {
   "cell_type": "code",
   "execution_count": 99,
   "metadata": {},
   "outputs": [
    {
     "data": {
      "image/png": "[encoded data removed]",
      "text/plain": [
       "<Figure size 432x288 with 1 Axes>"
      ]
     },
     "metadata": {
      "needs_background": "light"
     },
     "output_type": "display_data"
    }
   ],
   "source": [
    "# Show graph\n",
    "limit=40; start=2; step=6;\n",
    "x = range(start, limit, step)\n",
    "plt.plot(x, coherence_values)\n",
    "plt.xlabel(\"Num Topics\")\n",
    "plt.ylabel(\"Coherence score\")\n",
    "plt.legend((\"coherence_values\"), loc='best')\n",
    "plt.show()"
   ]
  },
  {
   "cell_type": "code",
   "execution_count": 100,
   "metadata": {},
   "outputs": [
    {
     "name": "stdout",
     "output_type": "stream",
     "text": [
      "Num Topics = 2  has Coherence Value of 0.2686\n",
      "Num Topics = 8  has Coherence Value of 0.2816\n",
      "Num Topics = 14  has Coherence Value of 0.2738\n",
      "Num Topics = 20  has Coherence Value of 0.2768\n",
      "Num Topics = 26  has Coherence Value of 0.2829\n",
      "Num Topics = 32  has Coherence Value of 0.2834\n",
      "Num Topics = 38  has Coherence Value of 0.2921\n"
     ]
    }
   ],
   "source": [
    "# Print the coherence scores\n",
    "for m, cv in zip(x, coherence_values):\n",
    "    print(\"Num Topics =a\", m, \" has Coherence Value of\", round(cv, 4))"
   ]
  },
  {
   "cell_type": "markdown",
   "metadata": {},
   "source": [
    "## Additional Resources\n",
    "## Resources\n",
    "\n",
    "* [Gensim](https://radimrehurek.com/gensim/): Python package for topic modeling, nlp, word vectorization, and few other things. Well maintained and well documented.\n",
    "* [Topic Modeling with Gensim](http://www.machinelearningplus.com/nlp/topic-modeling-gensim-python/#11createthedictionaryandcorpusneededfortopicmodeling): A kind of cookbook for LDA with gensim. Excellent overview, but the you need to be aware of missing import statements and assumed prior knowledge.\n",
    "* [Chinese Restuarant Process](https://en.wikipedia.org/wiki/Chinese_restaurant_process): That really obscure stats thing I mentioned... \n",
    "* [PyLDAvis](https://github.com/bmabey/pyLDAvis): Library for visualizing the topic model and performing some exploratory work. Works well. Has a direct parrell implementation in R as well. \n",
    "* [Rare Technologies](https://rare-technologies.com/): The people that made & maintain gensim and a few other libraries.\n",
    "* [Jane Austen v. Charlotte Bronte](https://www.literaryladiesguide.com/literary-musings/jane-austen-charlotte-bronte-different-alike/)"
   ]
  }
 ],
 "metadata": {
  "kernelspec": {
   "display_name": "U4-S1-NLP (Python 3)",
   "language": "python",
   "name": "u4-s1-nlp"
  },
  "language_info": {
   "codemirror_mode": {
    "name": "ipython",
    "version": 3
   },
   "file_extension": ".py",
   "mimetype": "text/x-python",
   "name": "python",
   "nbconvert_exporter": "python",
   "pygments_lexer": "ipython3",
   "version": "3.7.3"
  }
 },
 "nbformat": 4,
 "nbformat_minor": 4
}
