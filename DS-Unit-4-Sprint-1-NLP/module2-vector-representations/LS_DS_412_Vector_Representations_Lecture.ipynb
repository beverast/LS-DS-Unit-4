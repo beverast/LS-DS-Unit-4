{
 "cells": [
  {
   "cell_type": "markdown",
   "metadata": {},
   "source": [
    "<img align=\"left\" src=\"https://lever-client-logos.s3.amazonaws.com/864372b1-534c-480e-acd5-9711f850815c-1524247202159.png\" width=200>\n",
    "<br></br>\n",
    "<br></br>\n",
    "\n",
    "# Vector Representations\n",
    "## *Data Science Unit 4 Sprint 1 Lesson 2*\n",
    "\n",
    "As we learned yesterday, machines cannot intrepret raw text. We need to transform that text into something we/machines can more readily analyze. Yesterday, we did simple counts of counts to summarize the content of Amazon reviews. Today, we'll extend those concepts to talk about vector representations such as Bag of Words (BoW) and word embedding models. We'll use those representations for search, visualization, and prepare for our classification day tomorrow. \n",
    "\n",
    "Processing text data to prepare it for maching learning models often means translating the information from documents into a numerical format. Bag-of-Words approaches (sometimes referred to as Frequency-Based word embeddings) accomplish this by \"vectorizing\" tokenized documents. This is done by representing each document as a row in a dataframe and creating a column for each unique word in the corpora (group of documents). The presence or lack of a given word in a document is then represented either as a raw count of how many times a given word appears in a document (CountVectorizer) or as that word's TF-IDF score (TfidfVectorizer).\n",
    "\n",
    "On the python side, we will be focusing on `sklearn` and `spacy` today.  \n",
    "\n",
    "## Case Study\n",
    "\n",
    "We're going to pretend we're on the datascience team at the BBC. We want to recommend articles to visiters to on the BBC website based on the article they just read. Our team wants \n",
    "\n",
    "**Dataset:**\n",
    "\n",
    "[D. Greene and P. Cunningham. \"Practical Solutions to the Problem of Diagonal Dominance in Kernel Document Clustering\", Proc. ICML 2006.](http://mlg.ucd.ie/datasets/bbc.html)\n",
    "*Please note that the dataset has been sampled down to tech articles only.* \n",
    "\n",
    "## Learning Objectives\n",
    "* <a href=\"#p1\">Part 1</a>: Represent a document as a vector\n",
    "* <a href=\"#p2\">Part 2</a>: Query Documents by Similarity\n",
    "* <a href=\"#p3\">Part 3</a>: Apply word embedding models to create document vectors"
   ]
  },
  {
   "cell_type": "code",
   "execution_count": 47,
   "metadata": {},
   "outputs": [],
   "source": [
    "\"\"\" Import Statements \"\"\"\n",
    "import os\n",
    "\n",
    "# Classics\n",
    "import pandas as pd\n",
    "import seaborn as sns\n",
    "import matplotlib.pyplot as plt\n",
    "\n",
    "from sklearn.feature_extraction.text import CountVectorizer, TfidfVectorizer\n",
    "from sklearn.metrics.pairwise import cosine_similarity\n",
    "from sklearn.neighbors import NearestNeighbors\n",
    "from sklearn.decomposition import PCA\n",
    "\n",
    "import spacy\n",
    "from spacy.tokenizer import Tokenizer\n",
    "nlp = spacy.load(\"en_core_web_lg\")"
   ]
  },
  {
   "cell_type": "markdown",
   "metadata": {},
   "source": [
    "**Warm Up (_3 Minutes_)**\n",
    "\n",
    "Extract the tokens from this sentence using Spacy. Text is from [OpenAI](https://openai.com/blog/better-language-models/)"
   ]
  },
  {
   "cell_type": "code",
<<<<<<< HEAD
   "execution_count": 2,
=======
   "execution_count": 20,
>>>>>>> fd1c404bca4acb4d3e5bde9791b02cd109e064b1
   "metadata": {},
   "outputs": [],
   "source": [
    "text = \"We created a new dataset which emphasizes diversity of content, by scraping content from the Internet. In order to preserve document quality, we used only pages which have been curated/filtered by humans—specifically, we used outbound links from Reddit which received at least 3 karma. This can be thought of as a heuristic indicator for whether other users found the link interesting (whether educational or funny), leading to higher data quality than other similar datasets, such as CommonCrawl.\""
   ]
  },
  {
   "cell_type": "code",
<<<<<<< HEAD
   "execution_count": 4,
=======
   "execution_count": 21,
>>>>>>> fd1c404bca4acb4d3e5bde9791b02cd109e064b1
   "metadata": {},
   "outputs": [
    {
     "name": "stdout",
     "output_type": "stream",
     "text": [
<<<<<<< HEAD
      "['create', 'a', 'new', 'dataset', 'which', 'emphasize', 'diversity', 'of', 'content', 'by', 'scrape', 'content', 'from', 'the', 'internet', 'in', 'order', 'to', 'preserve', 'document', 'quality', 'use', 'only', 'page', 'which', 'have', 'be', 'curate', 'filter', 'by', 'human', 'specifically', 'use', 'outbound', 'link', 'from', 'Reddit', 'which', 'receive', 'at', 'least', '3', 'karma', 'this', 'can', 'be', 'think', 'of', 'as', 'a', 'heuristic', 'indicator', 'for', 'whether', 'other', 'user', 'find', 'the', 'link', 'interesting', 'whether', 'educational', 'or', 'funny', 'lead', 'to', 'high', 'datum', 'quality', 'than', 'other', 'similar', 'dataset', 'such', 'as', 'CommonCrawl']\n"
=======
      "['We', 'created', 'a', 'new', 'dataset', 'which', 'emphasizes', 'diversity', 'of', 'content,', 'by', 'scraping', 'content', 'from', 'the', 'Internet.', 'In', 'order', 'to', 'preserve', 'document', 'quality,', 'we', 'used', 'only', 'pages', 'which', 'have', 'been', 'curated/filtered', 'by', 'humans—specifically,', 'we', 'used', 'outbound', 'links', 'from', 'Reddit', 'which', 'received', 'at', 'least', '3', 'karma.', 'This', 'can', 'be', 'thought', 'of', 'as', 'a', 'heuristic', 'indicator', 'for', 'whether', 'other', 'users', 'found', 'the', 'link', 'interesting', '(whether', 'educational', 'or', 'funny),', 'leading', 'to', 'higher', 'data', 'quality', 'than', 'other', 'similar', 'datasets,', 'such', 'as', 'CommonCrawl.']\n"
>>>>>>> fd1c404bca4acb4d3e5bde9791b02cd109e064b1
     ]
    }
   ],
   "source": [
<<<<<<< HEAD
    "doc = nlp(text)\n",
    "print([token.lemma_ for token in doc if (token.is_punct != True) & (token.lemma_ != '-PRON-')])"
=======
    "# Liv's Answer to Warm Up\n",
    "from spacy.tokenizer import Tokenizer\n",
    "tokenizer = Tokenizer(nlp.vocab)\n",
    "print([token.text for token in tokenizer(text)])"
   ]
  },
  {
   "cell_type": "code",
   "execution_count": 26,
   "metadata": {},
   "outputs": [
    {
     "name": "stdout",
     "output_type": "stream",
     "text": [
      "['create', 'a', 'new', 'dataset', 'which', 'emphasize', 'diversity', 'of', 'content', 'by', 'scrap', 'content', 'from', 'the', 'internet', 'in', 'order', 'to', 'preserve', 'document', 'quality', 'use', 'only', 'page', 'which', 'have', 'be', 'curat', 'filter', 'by', 'human', 'specifically', 'use', 'outbound', 'link', 'from', 'reddit', 'which', 'receive', 'at', 'least', '3', 'karma', 'this', 'can', 'be', 'think', 'of', 'as', 'a', 'heuristic', 'indicator', 'for', 'whether', 'other', 'user', 'find', 'the', 'link', 'interesting', 'whether', 'educational', 'or', 'funny', 'lead', 'to', 'high', 'datum', 'quality', 'than', 'other', 'similar', 'dataset', 'such', 'as', 'commoncrawl']\n"
     ]
    }
   ],
   "source": [
    "import spacy\n",
    "\n",
    "nlp = spacy.load(\"en_core_web_sm\")\n",
    "\n",
    "doc = nlp(text)\n",
    "\n",
    "print([token.lemma_ for token in doc if (token.is_punct != True) and (token.lemma_ != '-PRON-')])"
   ]
  },
  {
   "cell_type": "code",
   "execution_count": 93,
   "metadata": {},
   "outputs": [],
   "source": [
    "# Build a generator to return our BBC Data\n",
    "import os\n",
    "\n",
    "def genator_gather_data(filefolder):\n",
    "    \n",
    "    _list = []\n",
    "    \n",
    "    files = os.listdir(filefolder)\n",
    "    \n",
    "    for article in files: \n",
    "        \n",
    "        path = os.path.join(filefolder, article)\n",
    "                    \n",
    "        if  path[-3:] == 'txt':\n",
    "            with open(path, 'rb') as f:\n",
    "                _list.append(f.read())\n",
    "    \n",
    "    yield _list"
   ]
  },
  {
   "cell_type": "code",
   "execution_count": 105,
   "metadata": {},
   "outputs": [],
   "source": [
    "def gather_data(filefolder):\n",
    "    \n",
    "    data = []\n",
    "    \n",
    "    files = os.listdir(filefolder)\n",
    "    \n",
    "    for article in files: \n",
    "        \n",
    "        path = os.path.join(filefolder, article)\n",
    "                    \n",
    "        if  path[-3:] == 'txt':\n",
    "            with open(path, 'rb') as f:\n",
    "                data.append(f.read())\n",
    "    \n",
    "    return data"
>>>>>>> fd1c404bca4acb4d3e5bde9791b02cd109e064b1
   ]
  },
  {
   "cell_type": "code",
<<<<<<< HEAD
   "execution_count": 64,
   "metadata": {},
   "outputs": [],
   "source": [
    "# Build a generator to return our BBC Data\n",
    "def gather_data(filefolder):\n",
    "    \"\"\"\n",
    "    Given a relative path to a txt data folder, return a generator of txt data.\n",
    "    \n",
    "    Parameters:\n",
    "    ---------------\n",
    "    filefolder (str): relative path to a data dir\n",
    "    \n",
    "    Yields:\n",
    "    ---------------\n",
    "    _list: generator object of documents\n",
    "    \"\"\"\n",
    "\n",
    "    files = os.listdir(filefolder)\n",
    "    # Removes the .DS_STORE subdirectory\n",
    "    files.pop(0)\n",
    "\n",
    "    # _list = []\n",
    "    for article in files:\n",
    "        with open(os.path.join(filefolder, article), 'rb') as f:\n",
    "            # _list.append(f.read())\n",
    "            yield f.read()\n",
    "    \n",
    "    # yield _list"
=======
   "execution_count": 106,
   "metadata": {},
   "outputs": [],
   "source": [
    "data = gather_data('./data')"
>>>>>>> fd1c404bca4acb4d3e5bde9791b02cd109e064b1
   ]
  },
  {
   "cell_type": "code",
<<<<<<< HEAD
   "execution_count": 60,
=======
   "execution_count": 108,
>>>>>>> fd1c404bca4acb4d3e5bde9791b02cd109e064b1
   "metadata": {},
   "outputs": [
    {
     "data": {
      "text/plain": [
<<<<<<< HEAD
       "1"
      ]
     },
     "execution_count": 60,
=======
       "b'Mobiles rack up 20 years of use\\n\\nMobile phones in '"
      ]
     },
     "execution_count": 108,
>>>>>>> fd1c404bca4acb4d3e5bde9791b02cd109e064b1
     "metadata": {},
     "output_type": "execute_result"
    }
   ],
   "source": [
<<<<<<< HEAD
    "data = gather_data('./data')\n",
    "\n",
    "# Prove that the object is a generator\n",
    "len(list(data))"
=======
    "data[0][:50]"
>>>>>>> fd1c404bca4acb4d3e5bde9791b02cd109e064b1
   ]
  },
  {
   "cell_type": "code",
   "execution_count": 43,
   "metadata": {},
   "outputs": [
    {
     "name": "stdout",
     "output_type": "stream",
     "text": [
      "b'Mobiles rack up 20 years of use\\n\\nMobile phones in the UK are celebrating their 20th anniversary this weekend.\\n\\nBritain\\'s first mobile phone call was made across the Vodafone network on 1 January 1985 by veteran comedian Ernie Wise. In the 20 years since that day, mobile phones have become an integral part of modern life and now almost 90% of Britons own a handset. Mobiles have become so popular that many people use their handset as their only phone and rarely use a landline.\\n\\nThe first ever call over a portable phone was made in 1973 in New York but it took 10 years for the first commercial mobile service to be launched. The UK was not far behind the rest of the world in setting up networks in 1985 that let people make calls while they walked. The first call was made from St Katherine\\'s dock to Vodafone\\'s head office in Newbury which at the time was over a curry house. For the first nine days of 1985 Vodafone was the only firm with a mobile network in the UK. Then on 10 January Cellnet (now O2) launched its service. Mike Caudwell, spokesman for Vodafone, said that when phones were launched they were the size of a briefcase, cost about \\xc2\\xa32,000 and had a battery life of little more than 20 minutes.\\n\\n\"Despite that they were hugely popular in the mid-80s,\" he said. \"They became a yuppy must-have and a status symbol among young wealthy business folk.\" This was also despite the fact that the phones used analogue radio signals to communicate which made them very easy to eavesdrop on. He said it took Vodafone almost nine years to rack up its first million customers but only 18 months to get the second million. \"It\\'s very easy to forget that in 1983 when we put the bid document in we were forecasting that the total market would be two million people,\" he said. \"Cellnet was forecasting half that.\" Now Vodafone has 14m customers in the UK alone. Cellnet and Vodafone were the only mobile phone operators in the UK until 1993 when One2One (now T-Mobile) was launched. Orange had its UK launch in 1994. Both newcomers operated digital mobile networks and now all operators use this technology. The analogue spectrum for the old phones has been retired. Called Global System for Mobiles (GSM) this is now the most widely used phone technology on the planet and is used to help more than 1.2 billion people make calls. Mr Caudwell said the advent of digital technology also helped to introduce all those things, such as text messaging and roaming that have made mobiles so popular.\\n'\n"
     ]
    }
   ],
   "source": []
  },
  {
   "cell_type": "markdown",
   "metadata": {},
   "source": [
    "## Represent a document as a vector\n",
    "<a id=\"p1\"></a>\n",
    "\n",
    "In this section, we are going to create Document Term Matrices (DTM). Each column represents a word. Each row represents a document. The value in each cell can be range of different things. The most traditional: counts of appearences of words, does the word appear at all (binary), and term-frequency inverse-document frequence (TF-IDF). \n",
    "\n",
    "**Discussion:** Don't we lose all the context and grammar if we do this? So why does it work?\n"
   ]
  },
  {
   "cell_type": "markdown",
   "metadata": {},
   "source": [
    "### CountVectorizer"
   ]
  },
  {
   "cell_type": "code",
<<<<<<< HEAD
   "execution_count": 65,
=======
   "execution_count": 114,
>>>>>>> fd1c404bca4acb4d3e5bde9791b02cd109e064b1
   "metadata": {},
   "outputs": [],
   "source": [
    "from sklearn.feature_extraction.text import CountVectorizer\n",
    "\n",
    "# list of text documents\n",
    "text = [\"We created a new dataset which emphasizes diversity of content, by scraping content from the Internet.\",\" In order to preserve document quality, we used only pages which have been curated/filtered by humans—specifically, we used outbound links from Reddit which received at least 3 karma.\",\" This can be thought of as a heuristic indicator for whether other users found the link interesting (whether educational or funny), leading to higher data quality than other similar datasets, such as CommonCrawl.\"]\n",
    "\n",
<<<<<<< HEAD
    "# create the transform\n",
    "vectorizer = CountVectorizer(stop_words='english')\n",
    "\n",
    "# tokenize and build vocab\n",
    "data = gather_data('./data')\n",
    "vectorizer.fit(data)\n",
=======
    "# create the transformer\n",
    "vectorizer = CountVectorizer(stop_words='english', tokenizer=spacy_tokenizer)\n",
    "\n",
    "# tokenize and build vocab\n",
    "vectorizer.fit(data)\n",
    "\n",
>>>>>>> fd1c404bca4acb4d3e5bde9791b02cd109e064b1
    "\n",
    "# Create a Vocabulary\n",
    "# The vocabulary establishes all of the possible words that we might use.\n",
    "vectorizer.vocabulary_\n",
    "\n",
    "# The vocabulary dictionary does not represent the counts of words!!\n",
    "dtm = vectorizer.transform(data)"
<<<<<<< HEAD
   ]
  },
  {
   "cell_type": "code",
   "execution_count": 68,
   "metadata": {},
   "outputs": [],
   "source": [
    "# Sparse representation by default\n",
    "dtm_df = pd.DataFrame(dtm.todense(), columns=vectorizer.get_feature_names())"
=======
>>>>>>> fd1c404bca4acb4d3e5bde9791b02cd109e064b1
   ]
  },
  {
   "cell_type": "code",
   "execution_count": 116,
   "metadata": {},
   "outputs": [
    {
     "data": {
      "text/plain": [
       "matrix([[0, 1, 0, ..., 0, 0, 0],\n",
       "        [0, 0, 0, ..., 0, 0, 0],\n",
       "        [0, 3, 0, ..., 0, 0, 0],\n",
       "        ...,\n",
       "        [0, 0, 0, ..., 0, 0, 0],\n",
       "        [0, 0, 0, ..., 0, 0, 0],\n",
       "        [0, 0, 0, ..., 0, 0, 0]])"
      ]
     },
     "execution_count": 116,
     "metadata": {},
     "output_type": "execute_result"
    }
   ],
   "source": [
    "dtm.todense() "
   ]
  },
  {
   "cell_type": "code",
   "execution_count": 118,
   "metadata": {},
   "outputs": [],
   "source": [
    "# Get Word Counts for each document\n",
    "dtm = pd.DataFrame(dtm.todense(), columns = vectorizer.get_feature_names())"
   ]
  },
  {
   "cell_type": "code",
<<<<<<< HEAD
   "execution_count": 69,
=======
   "execution_count": 120,
   "metadata": {},
   "outputs": [
    {
     "data": {
      "text/html": [
       "<div>\n",
       "<style scoped>\n",
       "    .dataframe tbody tr th:only-of-type {\n",
       "        vertical-align: middle;\n",
       "    }\n",
       "\n",
       "    .dataframe tbody tr th {\n",
       "        vertical-align: top;\n",
       "    }\n",
       "\n",
       "    .dataframe thead th {\n",
       "        text-align: right;\n",
       "    }\n",
       "</style>\n",
       "<table border=\"1\" class=\"dataframe\">\n",
       "  <thead>\n",
       "    <tr style=\"text-align: right;\">\n",
       "      <th></th>\n",
       "      <th>00</th>\n",
       "      <th>000</th>\n",
       "      <th>000s</th>\n",
       "      <th>0051</th>\n",
       "      <th>007</th>\n",
       "      <th>01</th>\n",
       "      <th>028</th>\n",
       "      <th>04m</th>\n",
       "      <th>05</th>\n",
       "      <th>0530</th>\n",
       "      <th>...</th>\n",
       "      <th>zip</th>\n",
       "      <th>zodiac</th>\n",
       "      <th>zombie</th>\n",
       "      <th>zombies</th>\n",
       "      <th>zone</th>\n",
       "      <th>zonealarm</th>\n",
       "      <th>zones</th>\n",
       "      <th>zoom</th>\n",
       "      <th>zooms</th>\n",
       "      <th>zurich</th>\n",
       "    </tr>\n",
       "  </thead>\n",
       "  <tbody>\n",
       "    <tr>\n",
       "      <th>0</th>\n",
       "      <td>0</td>\n",
       "      <td>1</td>\n",
       "      <td>0</td>\n",
       "      <td>0</td>\n",
       "      <td>0</td>\n",
       "      <td>0</td>\n",
       "      <td>0</td>\n",
       "      <td>0</td>\n",
       "      <td>0</td>\n",
       "      <td>0</td>\n",
       "      <td>...</td>\n",
       "      <td>0</td>\n",
       "      <td>0</td>\n",
       "      <td>0</td>\n",
       "      <td>0</td>\n",
       "      <td>0</td>\n",
       "      <td>0</td>\n",
       "      <td>0</td>\n",
       "      <td>0</td>\n",
       "      <td>0</td>\n",
       "      <td>0</td>\n",
       "    </tr>\n",
       "    <tr>\n",
       "      <th>1</th>\n",
       "      <td>0</td>\n",
       "      <td>0</td>\n",
       "      <td>0</td>\n",
       "      <td>0</td>\n",
       "      <td>0</td>\n",
       "      <td>0</td>\n",
       "      <td>0</td>\n",
       "      <td>0</td>\n",
       "      <td>0</td>\n",
       "      <td>0</td>\n",
       "      <td>...</td>\n",
       "      <td>0</td>\n",
       "      <td>0</td>\n",
       "      <td>0</td>\n",
       "      <td>0</td>\n",
       "      <td>0</td>\n",
       "      <td>0</td>\n",
       "      <td>0</td>\n",
       "      <td>0</td>\n",
       "      <td>0</td>\n",
       "      <td>0</td>\n",
       "    </tr>\n",
       "    <tr>\n",
       "      <th>2</th>\n",
       "      <td>0</td>\n",
       "      <td>3</td>\n",
       "      <td>0</td>\n",
       "      <td>0</td>\n",
       "      <td>0</td>\n",
       "      <td>0</td>\n",
       "      <td>0</td>\n",
       "      <td>0</td>\n",
       "      <td>0</td>\n",
       "      <td>0</td>\n",
       "      <td>...</td>\n",
       "      <td>0</td>\n",
       "      <td>0</td>\n",
       "      <td>0</td>\n",
       "      <td>0</td>\n",
       "      <td>0</td>\n",
       "      <td>0</td>\n",
       "      <td>0</td>\n",
       "      <td>0</td>\n",
       "      <td>0</td>\n",
       "      <td>0</td>\n",
       "    </tr>\n",
       "    <tr>\n",
       "      <th>3</th>\n",
       "      <td>0</td>\n",
       "      <td>0</td>\n",
       "      <td>0</td>\n",
       "      <td>0</td>\n",
       "      <td>0</td>\n",
       "      <td>0</td>\n",
       "      <td>0</td>\n",
       "      <td>0</td>\n",
       "      <td>0</td>\n",
       "      <td>0</td>\n",
       "      <td>...</td>\n",
       "      <td>0</td>\n",
       "      <td>0</td>\n",
       "      <td>0</td>\n",
       "      <td>0</td>\n",
       "      <td>0</td>\n",
       "      <td>0</td>\n",
       "      <td>0</td>\n",
       "      <td>0</td>\n",
       "      <td>0</td>\n",
       "      <td>0</td>\n",
       "    </tr>\n",
       "    <tr>\n",
       "      <th>4</th>\n",
       "      <td>0</td>\n",
       "      <td>0</td>\n",
       "      <td>0</td>\n",
       "      <td>0</td>\n",
       "      <td>0</td>\n",
       "      <td>0</td>\n",
       "      <td>0</td>\n",
       "      <td>0</td>\n",
       "      <td>0</td>\n",
       "      <td>0</td>\n",
       "      <td>...</td>\n",
       "      <td>0</td>\n",
       "      <td>0</td>\n",
       "      <td>0</td>\n",
       "      <td>0</td>\n",
       "      <td>0</td>\n",
       "      <td>0</td>\n",
       "      <td>0</td>\n",
       "      <td>0</td>\n",
       "      <td>0</td>\n",
       "      <td>0</td>\n",
       "    </tr>\n",
       "  </tbody>\n",
       "</table>\n",
       "<p>5 rows × 11820 columns</p>\n",
       "</div>"
      ],
      "text/plain": [
       "   00  000  000s  0051  007  01  028  04m  05  0530  ...  zip  zodiac  zombie  \\\n",
       "0   0    1     0     0    0   0    0    0   0     0  ...    0       0       0   \n",
       "1   0    0     0     0    0   0    0    0   0     0  ...    0       0       0   \n",
       "2   0    3     0     0    0   0    0    0   0     0  ...    0       0       0   \n",
       "3   0    0     0     0    0   0    0    0   0     0  ...    0       0       0   \n",
       "4   0    0     0     0    0   0    0    0   0     0  ...    0       0       0   \n",
       "\n",
       "   zombies  zone  zonealarm  zones  zoom  zooms  zurich  \n",
       "0        0     0          0      0     0      0       0  \n",
       "1        0     0          0      0     0      0       0  \n",
       "2        0     0          0      0     0      0       0  \n",
       "3        0     0          0      0     0      0       0  \n",
       "4        0     0          0      0     0      0       0  \n",
       "\n",
       "[5 rows x 11820 columns]"
      ]
     },
     "execution_count": 120,
     "metadata": {},
     "output_type": "execute_result"
    }
   ],
   "source": []
  },
  {
   "cell_type": "code",
   "execution_count": null,
>>>>>>> fd1c404bca4acb4d3e5bde9791b02cd109e064b1
   "metadata": {},
   "outputs": [],
   "source": [
    "# Apply CountVectorizer to our Data\n",
<<<<<<< HEAD
    "# Use custom Spacy Vectorizer\n",
    "\n"
=======
    "# Use custom Spacy Vectorizer\n"
>>>>>>> fd1c404bca4acb4d3e5bde9791b02cd109e064b1
   ]
  },
  {
   "cell_type": "markdown",
   "metadata": {},
   "source": [
    "### TfidfVectorizer\n",
    "\n",
    "## Term Frequency - Inverse Document Frequency (TF-IDF)\n",
    "\n",
    "<center><img src=\"https://mungingdata.files.wordpress.com/2017/11/equation.png?w=430&h=336\" width=\"300\"></center>\n",
    "\n",
    "Term Frequency: Percentage of words in document for each word\n",
    "\n",
    "Document Frequency: A penalty for the word existing in a high number of documents.\n",
    "\n",
    "The purpose of TF-IDF is to find what is **unique** to each document. Because of this we will penalize the term frequencies of words that are common across all documents which will allow for each document's most different topics to rise to the top."
   ]
  },
  {
   "cell_type": "code",
<<<<<<< HEAD
   "execution_count": 73,
=======
   "execution_count": 125,
>>>>>>> fd1c404bca4acb4d3e5bde9791b02cd109e064b1
   "metadata": {},
   "outputs": [
    {
     "data": {
      "text/html": [
       "<div>\n",
       "<style scoped>\n",
       "    .dataframe tbody tr th:only-of-type {\n",
       "        vertical-align: middle;\n",
       "    }\n",
       "\n",
       "    .dataframe tbody tr th {\n",
       "        vertical-align: top;\n",
       "    }\n",
       "\n",
       "    .dataframe thead th {\n",
       "        text-align: right;\n",
       "    }\n",
       "</style>\n",
       "<table border=\"1\" class=\"dataframe\">\n",
       "  <thead>\n",
       "    <tr style=\"text-align: right;\">\n",
       "      <th></th>\n",
       "      <th>000</th>\n",
       "      <th>10</th>\n",
       "      <th>100</th>\n",
       "      <th>101</th>\n",
       "      <th>104</th>\n",
       "      <th>10m</th>\n",
       "      <th>11</th>\n",
       "      <th>12</th>\n",
       "      <th>120</th>\n",
       "      <th>13</th>\n",
       "      <th>...</th>\n",
       "      <th>yoda</th>\n",
       "      <th>yoran</th>\n",
       "      <th>york</th>\n",
       "      <th>young</th>\n",
       "      <th>younger</th>\n",
       "      <th>youngsters</th>\n",
       "      <th>youth</th>\n",
       "      <th>zafi</th>\n",
       "      <th>zen</th>\n",
       "      <th>zombies</th>\n",
       "    </tr>\n",
       "  </thead>\n",
       "  <tbody>\n",
       "    <tr>\n",
       "      <th>0</th>\n",
       "      <td>0.028940</td>\n",
       "      <td>0.066646</td>\n",
       "      <td>0.0</td>\n",
       "      <td>0.0</td>\n",
       "      <td>0.0</td>\n",
       "      <td>0.0</td>\n",
       "      <td>0.000000</td>\n",
       "      <td>0.0</td>\n",
       "      <td>0.0</td>\n",
       "      <td>0.0</td>\n",
       "      <td>...</td>\n",
       "      <td>0.0</td>\n",
       "      <td>0.0</td>\n",
       "      <td>0.05528</td>\n",
       "      <td>0.058505</td>\n",
       "      <td>0.0</td>\n",
       "      <td>0.0</td>\n",
       "      <td>0.0</td>\n",
       "      <td>0.0</td>\n",
       "      <td>0.0</td>\n",
       "      <td>0.0</td>\n",
       "    </tr>\n",
       "    <tr>\n",
       "      <th>1</th>\n",
       "      <td>0.000000</td>\n",
       "      <td>0.000000</td>\n",
       "      <td>0.0</td>\n",
       "      <td>0.0</td>\n",
       "      <td>0.0</td>\n",
       "      <td>0.0</td>\n",
       "      <td>0.077901</td>\n",
       "      <td>0.0</td>\n",
       "      <td>0.0</td>\n",
       "      <td>0.0</td>\n",
       "      <td>...</td>\n",
       "      <td>0.0</td>\n",
       "      <td>0.0</td>\n",
       "      <td>0.00000</td>\n",
       "      <td>0.000000</td>\n",
       "      <td>0.0</td>\n",
       "      <td>0.0</td>\n",
       "      <td>0.0</td>\n",
       "      <td>0.0</td>\n",
       "      <td>0.0</td>\n",
       "      <td>0.0</td>\n",
       "    </tr>\n",
       "    <tr>\n",
       "      <th>2</th>\n",
       "      <td>0.061896</td>\n",
       "      <td>0.000000</td>\n",
       "      <td>0.0</td>\n",
       "      <td>0.0</td>\n",
       "      <td>0.0</td>\n",
       "      <td>0.0</td>\n",
       "      <td>0.000000</td>\n",
       "      <td>0.0</td>\n",
       "      <td>0.0</td>\n",
       "      <td>0.0</td>\n",
       "      <td>...</td>\n",
       "      <td>0.0</td>\n",
       "      <td>0.0</td>\n",
       "      <td>0.00000</td>\n",
       "      <td>0.000000</td>\n",
       "      <td>0.0</td>\n",
       "      <td>0.0</td>\n",
       "      <td>0.0</td>\n",
       "      <td>0.0</td>\n",
       "      <td>0.0</td>\n",
       "      <td>0.0</td>\n",
       "    </tr>\n",
       "    <tr>\n",
       "      <th>3</th>\n",
       "      <td>0.000000</td>\n",
       "      <td>0.000000</td>\n",
       "      <td>0.0</td>\n",
       "      <td>0.0</td>\n",
       "      <td>0.0</td>\n",
       "      <td>0.0</td>\n",
       "      <td>0.000000</td>\n",
       "      <td>0.0</td>\n",
       "      <td>0.0</td>\n",
       "      <td>0.0</td>\n",
       "      <td>...</td>\n",
       "      <td>0.0</td>\n",
       "      <td>0.0</td>\n",
       "      <td>0.00000</td>\n",
       "      <td>0.000000</td>\n",
       "      <td>0.0</td>\n",
       "      <td>0.0</td>\n",
       "      <td>0.0</td>\n",
       "      <td>0.0</td>\n",
       "      <td>0.0</td>\n",
       "      <td>0.0</td>\n",
       "    </tr>\n",
       "    <tr>\n",
       "      <th>4</th>\n",
       "      <td>0.000000</td>\n",
       "      <td>0.000000</td>\n",
       "      <td>0.0</td>\n",
       "      <td>0.0</td>\n",
       "      <td>0.0</td>\n",
       "      <td>0.0</td>\n",
       "      <td>0.000000</td>\n",
       "      <td>0.0</td>\n",
       "      <td>0.0</td>\n",
       "      <td>0.0</td>\n",
       "      <td>...</td>\n",
       "      <td>0.0</td>\n",
       "      <td>0.0</td>\n",
       "      <td>0.00000</td>\n",
       "      <td>0.000000</td>\n",
       "      <td>0.0</td>\n",
       "      <td>0.0</td>\n",
       "      <td>0.0</td>\n",
       "      <td>0.0</td>\n",
       "      <td>0.0</td>\n",
       "      <td>0.0</td>\n",
       "    </tr>\n",
       "  </tbody>\n",
       "</table>\n",
       "<p>5 rows × 5000 columns</p>\n",
       "</div>"
      ],
      "text/plain": [
       "        000        10  100  101  104  10m        11   12  120   13  ...  yoda  \\\n",
       "0  0.028940  0.066646  0.0  0.0  0.0  0.0  0.000000  0.0  0.0  0.0  ...   0.0   \n",
       "1  0.000000  0.000000  0.0  0.0  0.0  0.0  0.077901  0.0  0.0  0.0  ...   0.0   \n",
       "2  0.061896  0.000000  0.0  0.0  0.0  0.0  0.000000  0.0  0.0  0.0  ...   0.0   \n",
       "3  0.000000  0.000000  0.0  0.0  0.0  0.0  0.000000  0.0  0.0  0.0  ...   0.0   \n",
       "4  0.000000  0.000000  0.0  0.0  0.0  0.0  0.000000  0.0  0.0  0.0  ...   0.0   \n",
       "\n",
       "   yoran     york     young  younger  youngsters  youth  zafi  zen  zombies  \n",
       "0    0.0  0.05528  0.058505      0.0         0.0    0.0   0.0  0.0      0.0  \n",
       "1    0.0  0.00000  0.000000      0.0         0.0    0.0   0.0  0.0      0.0  \n",
       "2    0.0  0.00000  0.000000      0.0         0.0    0.0   0.0  0.0      0.0  \n",
       "3    0.0  0.00000  0.000000      0.0         0.0    0.0   0.0  0.0      0.0  \n",
       "4    0.0  0.00000  0.000000      0.0         0.0    0.0   0.0  0.0      0.0  \n",
       "\n",
       "[5 rows x 5000 columns]"
      ]
     },
     "execution_count": 125,
     "metadata": {},
     "output_type": "execute_result"
    }
   ],
   "source": [
    "from sklearn.feature_extraction.text import TfidfVectorizer\n",
    "\n",
    "# Instantiate vectorizer object\n",
<<<<<<< HEAD
    "tfidf = TfidfVectorizer(max_features=5000, min_df=.05, stop_words='english')\n",
    "\n",
    "# Create a vocabulary and get word counts per document\n",
    "data = gather_data('./data')\n",
    "dtm = tfidf.fit_transform(data)\n",
    "# dtm = tfidf.transform(new_data)\n",
=======
    "tfidf = TfidfVectorizer(stop_words='english', max_features=5000)\n",
    "\n",
    "# Create a vocabulary and get word counts per document\n",
    "dtm = tfidf.fit_transform(data)\n",
    "#dtm = tfidf.transform(new_data)\n",
>>>>>>> fd1c404bca4acb4d3e5bde9791b02cd109e064b1
    "\n",
    "# Print word counts\n",
    "\n",
    "# Get feature names to use as dataframe column headers\n",
    "\n",
    "# View Feature Matrix as DataFrame\n",
<<<<<<< HEAD
    "docs = pd.DataFrame(dtm.todense(), columns=tfidf.get_feature_names())"
   ]
  },
  {
   "cell_type": "code",
   "execution_count": 74,
   "metadata": {},
   "outputs": [
    {
     "data": {
      "text/html": [
       "<div>\n",
       "<style scoped>\n",
       "    .dataframe tbody tr th:only-of-type {\n",
       "        vertical-align: middle;\n",
       "    }\n",
       "\n",
       "    .dataframe tbody tr th {\n",
       "        vertical-align: top;\n",
       "    }\n",
       "\n",
       "    .dataframe thead th {\n",
       "        text-align: right;\n",
       "    }\n",
       "</style>\n",
       "<table border=\"1\" class=\"dataframe\">\n",
       "  <thead>\n",
       "    <tr style=\"text-align: right;\">\n",
       "      <th></th>\n",
       "      <th>000</th>\n",
       "      <th>10</th>\n",
       "      <th>100</th>\n",
       "      <th>11</th>\n",
       "      <th>12</th>\n",
       "      <th>13</th>\n",
       "      <th>14</th>\n",
       "      <th>15</th>\n",
       "      <th>18</th>\n",
       "      <th>20</th>\n",
       "      <th>...</th>\n",
       "      <th>worked</th>\n",
       "      <th>working</th>\n",
       "      <th>works</th>\n",
       "      <th>world</th>\n",
       "      <th>worldwide</th>\n",
       "      <th>worth</th>\n",
       "      <th>writing</th>\n",
       "      <th>xbox</th>\n",
       "      <th>year</th>\n",
       "      <th>years</th>\n",
       "    </tr>\n",
       "  </thead>\n",
       "  <tbody>\n",
       "    <tr>\n",
       "      <th>0</th>\n",
       "      <td>0.000000</td>\n",
       "      <td>0.0</td>\n",
       "      <td>0.000000</td>\n",
       "      <td>0.0</td>\n",
       "      <td>0.000000</td>\n",
       "      <td>0.0</td>\n",
       "      <td>0.0</td>\n",
       "      <td>0.000000</td>\n",
       "      <td>0.0</td>\n",
       "      <td>0.000000</td>\n",
       "      <td>...</td>\n",
       "      <td>0.0</td>\n",
       "      <td>0.0</td>\n",
       "      <td>0.079510</td>\n",
       "      <td>0.050018</td>\n",
       "      <td>0.0</td>\n",
       "      <td>0.0</td>\n",
       "      <td>0.0</td>\n",
       "      <td>0.0</td>\n",
       "      <td>0.000000</td>\n",
       "      <td>0.000000</td>\n",
       "    </tr>\n",
       "    <tr>\n",
       "      <th>1</th>\n",
       "      <td>0.045722</td>\n",
       "      <td>0.0</td>\n",
       "      <td>0.066055</td>\n",
       "      <td>0.0</td>\n",
       "      <td>0.134724</td>\n",
       "      <td>0.0</td>\n",
       "      <td>0.0</td>\n",
       "      <td>0.000000</td>\n",
       "      <td>0.0</td>\n",
       "      <td>0.000000</td>\n",
       "      <td>...</td>\n",
       "      <td>0.0</td>\n",
       "      <td>0.0</td>\n",
       "      <td>0.000000</td>\n",
       "      <td>0.042376</td>\n",
       "      <td>0.0</td>\n",
       "      <td>0.0</td>\n",
       "      <td>0.0</td>\n",
       "      <td>0.0</td>\n",
       "      <td>0.000000</td>\n",
       "      <td>0.000000</td>\n",
       "    </tr>\n",
       "    <tr>\n",
       "      <th>2</th>\n",
       "      <td>0.000000</td>\n",
       "      <td>0.0</td>\n",
       "      <td>0.000000</td>\n",
       "      <td>0.0</td>\n",
       "      <td>0.000000</td>\n",
       "      <td>0.0</td>\n",
       "      <td>0.0</td>\n",
       "      <td>0.000000</td>\n",
       "      <td>0.0</td>\n",
       "      <td>0.000000</td>\n",
       "      <td>...</td>\n",
       "      <td>0.0</td>\n",
       "      <td>0.0</td>\n",
       "      <td>0.000000</td>\n",
       "      <td>0.000000</td>\n",
       "      <td>0.0</td>\n",
       "      <td>0.0</td>\n",
       "      <td>0.0</td>\n",
       "      <td>0.0</td>\n",
       "      <td>0.000000</td>\n",
       "      <td>0.000000</td>\n",
       "    </tr>\n",
       "    <tr>\n",
       "      <th>3</th>\n",
       "      <td>0.000000</td>\n",
       "      <td>0.0</td>\n",
       "      <td>0.162989</td>\n",
       "      <td>0.0</td>\n",
       "      <td>0.000000</td>\n",
       "      <td>0.0</td>\n",
       "      <td>0.0</td>\n",
       "      <td>0.000000</td>\n",
       "      <td>0.0</td>\n",
       "      <td>0.079487</td>\n",
       "      <td>...</td>\n",
       "      <td>0.0</td>\n",
       "      <td>0.0</td>\n",
       "      <td>0.000000</td>\n",
       "      <td>0.052280</td>\n",
       "      <td>0.0</td>\n",
       "      <td>0.0</td>\n",
       "      <td>0.0</td>\n",
       "      <td>0.0</td>\n",
       "      <td>0.092485</td>\n",
       "      <td>0.181017</td>\n",
       "    </tr>\n",
       "    <tr>\n",
       "      <th>4</th>\n",
       "      <td>0.000000</td>\n",
       "      <td>0.0</td>\n",
       "      <td>0.049424</td>\n",
       "      <td>0.0</td>\n",
       "      <td>0.000000</td>\n",
       "      <td>0.0</td>\n",
       "      <td>0.0</td>\n",
       "      <td>0.051442</td>\n",
       "      <td>0.0</td>\n",
       "      <td>0.000000</td>\n",
       "      <td>...</td>\n",
       "      <td>0.0</td>\n",
       "      <td>0.0</td>\n",
       "      <td>0.050401</td>\n",
       "      <td>0.095118</td>\n",
       "      <td>0.0</td>\n",
       "      <td>0.0</td>\n",
       "      <td>0.0</td>\n",
       "      <td>0.0</td>\n",
       "      <td>0.056089</td>\n",
       "      <td>0.036593</td>\n",
       "    </tr>\n",
       "  </tbody>\n",
       "</table>\n",
       "<p>5 rows × 750 columns</p>\n",
       "</div>"
      ],
      "text/plain": [
       "        000   10       100   11        12   13   14        15   18        20  \\\n",
       "0  0.000000  0.0  0.000000  0.0  0.000000  0.0  0.0  0.000000  0.0  0.000000   \n",
       "1  0.045722  0.0  0.066055  0.0  0.134724  0.0  0.0  0.000000  0.0  0.000000   \n",
       "2  0.000000  0.0  0.000000  0.0  0.000000  0.0  0.0  0.000000  0.0  0.000000   \n",
       "3  0.000000  0.0  0.162989  0.0  0.000000  0.0  0.0  0.000000  0.0  0.079487   \n",
       "4  0.000000  0.0  0.049424  0.0  0.000000  0.0  0.0  0.051442  0.0  0.000000   \n",
       "\n",
       "     ...     worked  working     works     world  worldwide  worth  writing  \\\n",
       "0    ...        0.0      0.0  0.079510  0.050018        0.0    0.0      0.0   \n",
       "1    ...        0.0      0.0  0.000000  0.042376        0.0    0.0      0.0   \n",
       "2    ...        0.0      0.0  0.000000  0.000000        0.0    0.0      0.0   \n",
       "3    ...        0.0      0.0  0.000000  0.052280        0.0    0.0      0.0   \n",
       "4    ...        0.0      0.0  0.050401  0.095118        0.0    0.0      0.0   \n",
       "\n",
       "   xbox      year     years  \n",
       "0   0.0  0.000000  0.000000  \n",
       "1   0.0  0.000000  0.000000  \n",
       "2   0.0  0.000000  0.000000  \n",
       "3   0.0  0.092485  0.181017  \n",
       "4   0.0  0.056089  0.036593  \n",
       "\n",
       "[5 rows x 750 columns]"
      ]
     },
     "execution_count": 74,
     "metadata": {},
     "output_type": "execute_result"
    }
   ],
   "source": [
=======
    "docs = pd.DataFrame(dtm.todense(), columns = tfidf.get_feature_names())\n",
>>>>>>> fd1c404bca4acb4d3e5bde9791b02cd109e064b1
    "docs.head()"
   ]
  },
  {
   "cell_type": "code",
   "execution_count": null,
   "metadata": {},
   "outputs": [],
   "source": [
    "# Tunning Parameters\n"
   ]
  },
  {
   "cell_type": "markdown",
   "metadata": {},
   "source": [
    "## Query Documents by Similarity\n",
    "<a id=\"p2\"></a>"
   ]
  },
  {
   "cell_type": "markdown",
   "metadata": {},
   "source": [
    "### Cosine Similarity (Brute Force)"
   ]
  },
  {
   "cell_type": "code",
<<<<<<< HEAD
   "execution_count": 75,
   "metadata": {},
   "outputs": [],
   "source": [
    "# Calculate Similarity of TF-IDF Vectors\n",
    "from sklearn.metrics.pairwise import cosine_similarity\n",
    "\n",
    "dist_matrix = cosine_similarity(dtm)"
=======
   "execution_count": 126,
   "metadata": {},
   "outputs": [],
   "source": [
    "# Calculate Distance of TF-IDF Vectors\n",
    "from sklearn.metrics.pairwise import cosine_similarity\n",
    "\n",
    "dist_matrix  = cosine_similarity(dtm)"
>>>>>>> fd1c404bca4acb4d3e5bde9791b02cd109e064b1
   ]
  },
  {
   "cell_type": "code",
<<<<<<< HEAD
   "execution_count": 76,
   "metadata": {},
   "outputs": [
    {
     "name": "stdout",
     "output_type": "stream",
     "text": [
      "(401, 401)\n"
     ]
    },
    {
     "data": {
      "text/html": [
       "<div>\n",
       "<style scoped>\n",
       "    .dataframe tbody tr th:only-of-type {\n",
       "        vertical-align: middle;\n",
       "    }\n",
       "\n",
       "    .dataframe tbody tr th {\n",
       "        vertical-align: top;\n",
       "    }\n",
       "\n",
       "    .dataframe thead th {\n",
       "        text-align: right;\n",
       "    }\n",
       "</style>\n",
       "<table border=\"1\" class=\"dataframe\">\n",
       "  <thead>\n",
       "    <tr style=\"text-align: right;\">\n",
       "      <th></th>\n",
       "      <th>0</th>\n",
       "      <th>1</th>\n",
       "      <th>2</th>\n",
       "      <th>3</th>\n",
       "      <th>4</th>\n",
       "      <th>5</th>\n",
       "      <th>6</th>\n",
       "      <th>7</th>\n",
       "      <th>8</th>\n",
       "      <th>9</th>\n",
       "      <th>...</th>\n",
       "      <th>391</th>\n",
       "      <th>392</th>\n",
       "      <th>393</th>\n",
       "      <th>394</th>\n",
       "      <th>395</th>\n",
       "      <th>396</th>\n",
       "      <th>397</th>\n",
       "      <th>398</th>\n",
       "      <th>399</th>\n",
       "      <th>400</th>\n",
       "    </tr>\n",
       "  </thead>\n",
       "  <tbody>\n",
       "    <tr>\n",
       "      <th>0</th>\n",
       "      <td>1.000000</td>\n",
       "      <td>0.210929</td>\n",
       "      <td>0.033778</td>\n",
       "      <td>0.136461</td>\n",
       "      <td>0.129094</td>\n",
       "      <td>0.086213</td>\n",
       "      <td>0.069373</td>\n",
       "      <td>0.039687</td>\n",
       "      <td>0.044276</td>\n",
       "      <td>0.042046</td>\n",
       "      <td>...</td>\n",
       "      <td>0.030486</td>\n",
       "      <td>0.063503</td>\n",
       "      <td>0.038563</td>\n",
       "      <td>0.105039</td>\n",
       "      <td>0.044201</td>\n",
       "      <td>0.034070</td>\n",
       "      <td>0.032287</td>\n",
       "      <td>0.172893</td>\n",
       "      <td>0.110382</td>\n",
       "      <td>0.090611</td>\n",
       "    </tr>\n",
       "    <tr>\n",
       "      <th>1</th>\n",
       "      <td>0.210929</td>\n",
       "      <td>1.000000</td>\n",
       "      <td>0.056549</td>\n",
       "      <td>0.110474</td>\n",
       "      <td>0.103964</td>\n",
       "      <td>0.079633</td>\n",
       "      <td>0.032635</td>\n",
       "      <td>0.052024</td>\n",
       "      <td>0.077627</td>\n",
       "      <td>0.106552</td>\n",
       "      <td>...</td>\n",
       "      <td>0.239813</td>\n",
       "      <td>0.144882</td>\n",
       "      <td>0.121770</td>\n",
       "      <td>0.096725</td>\n",
       "      <td>0.088902</td>\n",
       "      <td>0.148818</td>\n",
       "      <td>0.121662</td>\n",
       "      <td>0.111920</td>\n",
       "      <td>0.154310</td>\n",
       "      <td>0.140797</td>\n",
       "    </tr>\n",
       "    <tr>\n",
       "      <th>2</th>\n",
       "      <td>0.033778</td>\n",
       "      <td>0.056549</td>\n",
       "      <td>1.000000</td>\n",
       "      <td>0.062108</td>\n",
       "      <td>0.057761</td>\n",
       "      <td>0.058886</td>\n",
       "      <td>0.439359</td>\n",
       "      <td>0.370405</td>\n",
       "      <td>0.036327</td>\n",
       "      <td>0.172089</td>\n",
       "      <td>...</td>\n",
       "      <td>0.048596</td>\n",
       "      <td>0.088180</td>\n",
       "      <td>0.179441</td>\n",
       "      <td>0.106021</td>\n",
       "      <td>0.074479</td>\n",
       "      <td>0.130553</td>\n",
       "      <td>0.138373</td>\n",
       "      <td>0.148995</td>\n",
       "      <td>0.148740</td>\n",
       "      <td>0.043657</td>\n",
       "    </tr>\n",
       "    <tr>\n",
       "      <th>3</th>\n",
       "      <td>0.136461</td>\n",
       "      <td>0.110474</td>\n",
       "      <td>0.062108</td>\n",
       "      <td>1.000000</td>\n",
       "      <td>0.126937</td>\n",
       "      <td>0.157387</td>\n",
       "      <td>0.076796</td>\n",
       "      <td>0.031871</td>\n",
       "      <td>0.193572</td>\n",
       "      <td>0.106760</td>\n",
       "      <td>...</td>\n",
       "      <td>0.062985</td>\n",
       "      <td>0.036563</td>\n",
       "      <td>0.191372</td>\n",
       "      <td>0.216778</td>\n",
       "      <td>0.236322</td>\n",
       "      <td>0.053163</td>\n",
       "      <td>0.034123</td>\n",
       "      <td>0.090611</td>\n",
       "      <td>0.117395</td>\n",
       "      <td>0.144093</td>\n",
       "    </tr>\n",
       "    <tr>\n",
       "      <th>4</th>\n",
       "      <td>0.129094</td>\n",
       "      <td>0.103964</td>\n",
       "      <td>0.057761</td>\n",
       "      <td>0.126937</td>\n",
       "      <td>1.000000</td>\n",
       "      <td>0.108675</td>\n",
       "      <td>0.021954</td>\n",
       "      <td>0.028088</td>\n",
       "      <td>0.084841</td>\n",
       "      <td>0.103466</td>\n",
       "      <td>...</td>\n",
       "      <td>0.185270</td>\n",
       "      <td>0.105613</td>\n",
       "      <td>0.197156</td>\n",
       "      <td>0.198820</td>\n",
       "      <td>0.279288</td>\n",
       "      <td>0.256352</td>\n",
       "      <td>0.050750</td>\n",
       "      <td>0.142944</td>\n",
       "      <td>0.084976</td>\n",
       "      <td>0.232865</td>\n",
       "    </tr>\n",
       "  </tbody>\n",
       "</table>\n",
       "<p>5 rows × 401 columns</p>\n",
       "</div>"
      ],
      "text/plain": [
       "        0         1         2         3         4         5         6    \\\n",
       "0  1.000000  0.210929  0.033778  0.136461  0.129094  0.086213  0.069373   \n",
       "1  0.210929  1.000000  0.056549  0.110474  0.103964  0.079633  0.032635   \n",
       "2  0.033778  0.056549  1.000000  0.062108  0.057761  0.058886  0.439359   \n",
       "3  0.136461  0.110474  0.062108  1.000000  0.126937  0.157387  0.076796   \n",
       "4  0.129094  0.103964  0.057761  0.126937  1.000000  0.108675  0.021954   \n",
       "\n",
       "        7         8         9      ...          391       392       393  \\\n",
       "0  0.039687  0.044276  0.042046    ...     0.030486  0.063503  0.038563   \n",
       "1  0.052024  0.077627  0.106552    ...     0.239813  0.144882  0.121770   \n",
       "2  0.370405  0.036327  0.172089    ...     0.048596  0.088180  0.179441   \n",
       "3  0.031871  0.193572  0.106760    ...     0.062985  0.036563  0.191372   \n",
       "4  0.028088  0.084841  0.103466    ...     0.185270  0.105613  0.197156   \n",
       "\n",
       "        394       395       396       397       398       399       400  \n",
       "0  0.105039  0.044201  0.034070  0.032287  0.172893  0.110382  0.090611  \n",
       "1  0.096725  0.088902  0.148818  0.121662  0.111920  0.154310  0.140797  \n",
       "2  0.106021  0.074479  0.130553  0.138373  0.148995  0.148740  0.043657  \n",
       "3  0.216778  0.236322  0.053163  0.034123  0.090611  0.117395  0.144093  \n",
       "4  0.198820  0.279288  0.256352  0.050750  0.142944  0.084976  0.232865  \n",
       "\n",
       "[5 rows x 401 columns]"
      ]
     },
     "execution_count": 76,
=======
   "execution_count": 137,
   "metadata": {},
   "outputs": [
    {
     "data": {
      "text/plain": [
       "0"
      ]
     },
     "execution_count": 137,
>>>>>>> fd1c404bca4acb4d3e5bde9791b02cd109e064b1
     "metadata": {},
     "output_type": "execute_result"
    }
   ],
   "source": [
    "# Turn it into a DataFrame\n",
    "dist_df = pd.DataFrame(dist_matrix)\n",
<<<<<<< HEAD
    "print(dist_df.shape)\n",
    "dist_df.head()"
=======
    "\n",
    "dist_df[0].idxmax(axis=0)"
>>>>>>> fd1c404bca4acb4d3e5bde9791b02cd109e064b1
   ]
  },
  {
   "cell_type": "code",
<<<<<<< HEAD
   "execution_count": 77,
=======
   "execution_count": 146,
>>>>>>> fd1c404bca4acb4d3e5bde9791b02cd109e064b1
   "metadata": {},
   "outputs": [
    {
     "data": {
      "text/plain": [
<<<<<<< HEAD
       "0"
      ]
     },
     "execution_count": 77,
=======
       "(401, 401)"
      ]
     },
     "execution_count": 146,
>>>>>>> fd1c404bca4acb4d3e5bde9791b02cd109e064b1
     "metadata": {},
     "output_type": "execute_result"
    }
   ],
   "source": [
<<<<<<< HEAD
    "# Return row max / similarity of documents\n",
    "dist_df[0].idxmax(axis=0)"
=======
    "# Our Similarity Matrix is 401 x 401\n",
    "dist_df.shape"
>>>>>>> fd1c404bca4acb4d3e5bde9791b02cd109e064b1
   ]
  },
  {
   "cell_type": "code",
<<<<<<< HEAD
   "execution_count": 79,
=======
   "execution_count": 147,
>>>>>>> fd1c404bca4acb4d3e5bde9791b02cd109e064b1
   "metadata": {},
   "outputs": [
    {
     "data": {
      "text/plain": [
       "0      1.000000\n",
<<<<<<< HEAD
       "1      0.210929\n",
       "222    0.201000\n",
       "73     0.198754\n",
       "274    0.196597\n",
       "190    0.195571\n",
       "178    0.173581\n",
       "130    0.173581\n",
       "398    0.172893\n",
       "47     0.167373\n",
       "Name: 0, dtype: float64"
      ]
     },
     "execution_count": 79,
=======
       "1      0.075861\n",
       "2      0.042398\n",
       "3      0.011078\n",
       "4      0.055294\n",
       "5      0.011911\n",
       "6      0.030420\n",
       "7      0.052995\n",
       "8      0.023122\n",
       "9      0.064934\n",
       "10     0.047421\n",
       "11     0.036654\n",
       "12     0.042278\n",
       "13     0.102436\n",
       "14     0.011181\n",
       "15     0.046818\n",
       "16     0.039130\n",
       "17     0.036654\n",
       "18     0.041814\n",
       "19     0.037407\n",
       "20     0.075620\n",
       "21     0.025343\n",
       "22     0.065161\n",
       "23     0.042876\n",
       "24     0.019854\n",
       "25     0.027626\n",
       "26     0.050133\n",
       "27     0.081193\n",
       "28     0.185225\n",
       "29     0.014579\n",
       "         ...   \n",
       "371    0.162436\n",
       "372    0.045452\n",
       "373    0.052525\n",
       "374    0.060377\n",
       "375    0.019422\n",
       "376    0.009611\n",
       "377    0.033701\n",
       "378    0.194184\n",
       "379    0.031062\n",
       "380    0.013514\n",
       "381    0.242043\n",
       "382    0.041527\n",
       "383    0.062416\n",
       "384    0.027591\n",
       "385    0.113824\n",
       "386    0.027630\n",
       "387    0.043035\n",
       "388    0.028081\n",
       "389    0.019152\n",
       "390    0.024575\n",
       "391    0.023448\n",
       "392    0.019688\n",
       "393    0.061341\n",
       "394    0.017337\n",
       "395    0.006532\n",
       "396    0.046267\n",
       "397    0.016902\n",
       "398    0.020619\n",
       "399    0.103600\n",
       "400    0.025719\n",
       "Name: 0, Length: 401, dtype: float64"
      ]
     },
     "execution_count": 147,
     "metadata": {},
     "output_type": "execute_result"
    }
   ],
   "source": [
    "# Each row is the similarity of one document to all other documents (including itself)\n",
    "dist_df[0]"
   ]
  },
  {
   "cell_type": "code",
   "execution_count": 148,
   "metadata": {},
   "outputs": [
    {
     "data": {
      "text/plain": [
       "392    1.000000\n",
       "302    1.000000\n",
       "206    0.125730\n",
       "23     0.104441\n",
       "40     0.086130\n",
       "Name: 392, dtype: float64"
      ]
     },
     "execution_count": 148,
>>>>>>> fd1c404bca4acb4d3e5bde9791b02cd109e064b1
     "metadata": {},
     "output_type": "execute_result"
    }
   ],
   "source": [
<<<<<<< HEAD
    "# Grab the row, returns docs most similar to zeroeth document\n",
    "dist_df[0].sort_values(ascending=False)[:10]"
=======
    "# Grab the row\n",
    "dist_df[392].sort_values(ascending=False)[:5]"
>>>>>>> fd1c404bca4acb4d3e5bde9791b02cd109e064b1
   ]
  },
  {
   "cell_type": "code",
<<<<<<< HEAD
   "execution_count": 89,
=======
   "execution_count": 145,
>>>>>>> fd1c404bca4acb4d3e5bde9791b02cd109e064b1
   "metadata": {},
   "outputs": [
    {
     "name": "stdout",
     "output_type": "stream",
     "text": [
<<<<<<< HEAD
      "b'Ink helps drive democracy in Asia\\n\\nThe Kyrgyz Republic, a small, mountainous state of the former Sov'\n",
      "b'China net cafe culture crackdown\\n\\nChinese authorities closed 12,575 net cafes in the closing months '\n",
      "b'Satellite mapping aids Darfur relief\\n\\nAid workers trying to house, feed and clothe millions of homel'\n"
=======
      "b'Mobiles rack up 20 years of use\\n\\nMobile phones in the UK are celebrating their 20th anniversary this'\n",
      "b\"'Friends fear' with lost mobiles\\n\\nPeople are becoming so dependent on their mobile phones that one i\"\n"
>>>>>>> fd1c404bca4acb4d3e5bde9791b02cd109e064b1
     ]
    }
   ],
   "source": [
<<<<<<< HEAD
    "# Display by Most similiar to Least Similar\n",
    "data = list(gather_data('./data'))\n",
    "print(data[0][:100])\n",
    "print(data[1][:100])\n",
    "print(data[222][:100])"
=======
    "print(data[0][:100])\n",
    "print(data[297][:100])"
>>>>>>> fd1c404bca4acb4d3e5bde9791b02cd109e064b1
   ]
  },
  {
   "cell_type": "markdown",
   "metadata": {},
   "source": [
    "### NearestNeighbor (K-NN) \n",
    "\n",
    "To address the computational inefficiencies of the brute-force approach, a variety of tree-based data structures have been invented. In general, these structures attempt to reduce the required number of distance calculations by efficiently encoding aggregate distance information for the sample. The basic idea is that if point  is very distant from point , and point  is very close to point , then we know that points  and  are very distant, without having to explicitly calculate their distance. In this way, the computational cost of a nearest neighbors search can be reduced to  or better. This is a significant improvement over brute-force for large data.\n",
    "\n",
    "To address the inefficiencies of KD Trees in higher dimensions, the ball tree data structure was developed. Where KD trees partition data along Cartesian axes, ball trees partition data in a series of nesting hyper-spheres. This makes tree construction more costly than that of the KD tree, but results in a data structure which can be very efficient on highly structured data, even in very high dimensions.\n",
    "\n",
    "A ball tree recursively divides the data into nodes defined by a centroid  and radius , such that each point in the node lies within the hyper-sphere defined by  and . The number of candidate points for a neighbor search is reduced through use of the triangle inequality:\n",
    "\n",
    "With this setup, a single distance calculation between a test point and the centroid is sufficient to determine a lower and upper bound on the distance to all points within the node. Because of the spherical geometry of the ball tree nodes, it can out-perform a KD-tree in high dimensions, though the actual performance is highly dependent on the structure of the training data. In scikit-learn, ball-tree-based neighbors searches are specified using the keyword `algorithm = 'ball_tree'`, and are computed using the class `sklearn.neighbors.BallTree`. Alternatively, the user can work with the `BallTree` class directly."
   ]
  },
  {
   "cell_type": "code",
<<<<<<< HEAD
   "execution_count": 97,
=======
   "execution_count": 149,
>>>>>>> fd1c404bca4acb4d3e5bde9791b02cd109e064b1
   "metadata": {},
   "outputs": [
    {
     "data": {
      "text/plain": [
<<<<<<< HEAD
=======
       "<401x5000 sparse matrix of type '<class 'numpy.float64'>'\n",
       "\twith 62645 stored elements in Compressed Sparse Row format>"
      ]
     },
     "execution_count": 149,
     "metadata": {},
     "output_type": "execute_result"
    }
   ],
   "source": [
    "dtm"
   ]
  },
  {
   "cell_type": "code",
   "execution_count": 152,
   "metadata": {},
   "outputs": [
    {
     "data": {
      "text/plain": [
>>>>>>> fd1c404bca4acb4d3e5bde9791b02cd109e064b1
       "NearestNeighbors(algorithm='ball_tree', leaf_size=30, metric='minkowski',\n",
       "         metric_params=None, n_jobs=None, n_neighbors=5, p=2, radius=1.0)"
      ]
     },
<<<<<<< HEAD
     "execution_count": 97,
=======
     "execution_count": 152,
>>>>>>> fd1c404bca4acb4d3e5bde9791b02cd109e064b1
     "metadata": {},
     "output_type": "execute_result"
    }
   ],
   "source": [
    "# Instantiate\n",
    "from sklearn.neighbors import NearestNeighbors\n",
    "\n",
    "nn = NearestNeighbors(n_neighbors=5, algorithm='ball_tree')\n",
<<<<<<< HEAD
=======
    "\n",
    "# Fit on TF-IDF Vectors\n",
>>>>>>> fd1c404bca4acb4d3e5bde9791b02cd109e064b1
    "nn.fit(dtm.todense())"
   ]
  },
  {
   "cell_type": "code",
<<<<<<< HEAD
   "execution_count": 98,
=======
   "execution_count": 155,
   "metadata": {},
   "outputs": [
    {
     "data": {
      "text/plain": [
       "(array([[0.        , 0.        , 1.18629524, 1.19107356, 1.21122457]]),\n",
       " array([[  0,  62, 297, 300,  92]]))"
      ]
     },
     "execution_count": 155,
     "metadata": {},
     "output_type": "execute_result"
    }
   ],
   "source": [
    "# Query Using kneighbors \n",
    "nn.kneighbors(dtm.todense()[0])"
   ]
  },
  {
   "cell_type": "code",
   "execution_count": 167,
>>>>>>> fd1c404bca4acb4d3e5bde9791b02cd109e064b1
   "metadata": {},
   "outputs": [
    {
     "data": {
      "text/plain": [
       "(array([[0.        , 1.25624133, 1.26412   , 1.26589605, 1.26759871]]),\n",
       " array([[  0,   1, 222,  73, 274]]))"
      ]
     },
     "execution_count": 98,
     "metadata": {},
     "output_type": "execute_result"
    }
   ],
   "source": [
<<<<<<< HEAD
    "# Query Using kneighbors\n",
    "nn.kneighbors(dtm.todense()[0])"
=======
    "medium_random_ass_tech = [ \"\"\"1. The VR and AI Enhancement\n",
    "The list of trends in VR can never be complete without Artificial Intelligence. The duo has the potential to change the world. The two are in their infancy, to begin with, but they have made some appearances.\n",
    "\n",
    "Take the example of Instagram and Snapchat. The dog faces and other funny filters are a creation of AI and VR. If you are looking for a scientific example, the Machine Learning Microscope of Google is a perfect example. This tool is capable of highlighting cancerous tissues. Now we are just waiting for AR and VR to create something powerful.\n",
    "\n",
    "2. Consumer Entertainment\n",
    "Oculus has partnered with the NBA. The brand is using VR to provide state of the art entertainment to its users. Yes, you have guessed it right. While you are wearing the Oculus VR headsets sitting on the courtside, you will feel as if you are actually in the NBA game. Cool, right?\n",
    "\n",
    "VR headset technology is becoming accessible than before. It’s not just limited to gamers. TV watchers can get entertainment as well.\n",
    "\n",
    "3. Education and Training\n",
    "Education and training are one of the most costly and dangerous exercises in the workplace. With VR technology, organizations can cut back on the costs and give their employees the best training without exposing them to risk.\n",
    "\n",
    "Recently, Walmart has used 17,000 Oculus Go headsets for training its employees in the customer service department. Similarly, the U.S. Army has been using Microsoft HoloLens technology to offer soldiers real-time updates on their environment.\n",
    "\n",
    "4. Travel and Tourism\n",
    "Traveling through VR is a different kind of traveling. The immersive video allows you to experience your destinations before even packing your suitcase. With VR, you can have the “try it before buy it experience.”\n",
    "\n",
    "If you think you will feel claustrophobic in the cruise stateroom, then why not test the waters? Maybe you will feel better in a suit. VR allows you to explore the cruise ship rooms as well as the rooms in a hotel prior to booking it.\n",
    "\n",
    "Apart from checking your room, you can also have a street view, check the venues, and restaurants nearby. With this virtual tour, you can decide whether the destination you have picked for yourself is good or not.\n",
    "\n",
    "That’s not all, with VR travel apps, you can even relive your vacation after returning home. Now that’s something you will cherish for sure.\n",
    "\n",
    "What’s the Future of VR?\n",
    "Experts say the future of VR is location-based. But wait, it has nothing to do with the GPS technology. Location-based means bringing the VR experience to users where they are regardless of their location. They will be introduced to technology without having to purchase it.\n",
    "\n",
    "However, for that, customers need to be aware of the proactiveness of VR. They must have an interest in VR for home as well. It still has a long way to go.\n",
    "\n",
    "Conclusion\n",
    "Consumers in today’s time are looking for experience. VR has the ability to play a huge role in the future of learning and development. With virtual simulation, a user can have real life-like experience at a fraction of cost.\n",
    "\n",
    "The future for Virtual Reality is still in progress. It’s pretty much like the Cox channel lineup for different channels. Not all popular channels are available in all areas. Some of the VR tech and apps are in use but a majority of them are still in progress.\"\"\"]\n"
   ]
  },
  {
   "cell_type": "code",
   "execution_count": 168,
   "metadata": {},
   "outputs": [
    {
     "data": {
      "text/plain": [
       "(array([[1.31020903, 1.31760806, 1.31908662, 1.32688061, 1.32789993]]),\n",
       " array([[224, 135, 110, 140,  15]]))"
      ]
     },
     "execution_count": 168,
     "metadata": {},
     "output_type": "execute_result"
    }
   ],
   "source": [
    "new = tfidf.transform(medium_random_ass_tech)\n",
    "\n",
    "nn.kneighbors(new.todense())"
   ]
  },
  {
   "cell_type": "code",
   "execution_count": 170,
   "metadata": {},
   "outputs": [
    {
     "data": {
      "text/plain": [
       "b'Technology gets the creative bug\\n\\nThe hi-tech and the arts worlds have for some time danced around each other and offered creative and technical help when required.\\n\\nOften this help has come in the form of corporate art sponsorship or infrastructure provision. But that dance is growing more intimate as hi-tech firms look to the creative industries for inspiration. And vice versa. UK telco BT is serious about the idea and has launched its Connected World initiative. The idea, says BT, is to shape a \"21st Century model\" which will help cement the art, technology, and business worlds together. \"We are hoping to understand the creative industry that has a natural thirst for broadband technology,\" said Frank Stone, head of the BT\\'s business sector programmes. He looks after several \"centres of excellence\" which the telco has set up with other institutions and organisations, one of which is focused on creative industries.\\n\\nTo mark the initiative\\'s launch, a major international art installation is to open on 15 April in Brussels, with a further exhibit in Madrid later in the summer. They have both been created using the telco\\'s technology that it has been incubating at its research and development arm, including a sophisticated graphics rendering program. Using a 3D graphics engine, the type commonly used in gaming, Bafta-winning artists Langlands & Bell have created a virtual, story-based, 3D model of Brussels\\' Coudenberg Cellars.\\n\\nThey have recently been excavated and are thought to be the remnants of Coudenberg Palace, an historical seat of European power. The 3D world can be navigated using a joystick and offers an immersive experience of a landscape that historically had a river running through it until it was bricked up in the 19th Century. \"The river was integral to the city\\'s survival for hundreds of years and it was equally essential to the city that it disappeared,\" said the artists. \"We hope that by uncovering the river, we can greater understand the connections between the past and the present, and appreciate the flow of modernity, once concealing, but now revealing the River Senne.\" In their previous works they used the Quake game graphics engine. The game engine is the core component of a video game because it handles graphics rendering, game AI, and how objects behave and relate to each other in a game. They are so time-consuming and expensive to create, the engines can be licensed out to handle other graphics-intensive games. BT\\'s own engine, Tara (Total Abstract Rendering Architecture) has been in development since 2001 and has been used to recreate virtual interactive models of buildings for planners. It was also used in 2003 in Encounter, an urban-based, pervasive game that combined both virtual play in conjunction with physical, on-the-street action. Because the artists wanted video and interactive elements in their worlds, new features were added to Tara in order to handle the complex data sets. But collaboration between art and digital technology is by no means new, and many keen coders, designers, games makers and animators argue that what they create is art itself.\\n\\nAs more tools for self-expression are given to the person on the street, enabling people to take photos with a phone and upload them to the web for instance, creativity will become an integral part of technology. The Orange Expressionist exhibition last year, for example, displayed thousands of picture messages from people all over the UK to create an interactive installation.\\n\\nTechnology as a way of unleashing creativity has massive potential, not least because it gives people something to do with their technology. Big businesses know it is good for them to get in on the creative vein too. The art world is \"fantastically rich\", said Mr Stone, with creative people and ideas which means traditional companies like BT want to get in with them. Between 1997 and 2002, the creative industry brought \\xc2\\xa321 billion to London alone. It is an industry that is growing by 6% a year too. The partnership between artists and technologists is part of trying to understand the creative potential of technologies like broadband net, according to Mr Stone. \"This is not just about putting art galleries and museums online,\" he said. \"It is about how can everyone have the best seat in house and asking if technology has a role in solving that problem.\" With broadband penetration reaching 100% in the UK, businesses with a stake in the technology want to give people reasons to want and use it. The creative drive is not purely altruistic obviously. It is about both industries borrowing strategies and creative ideas together which can result in better business practices for creative industries, or more patent ideas for tech companies. \"What we are trying to do is have outside-in thinking. \"We are creating a future cultural drive for the economy,\" said Mr Stone.\\n'"
      ]
     },
     "execution_count": 170,
     "metadata": {},
     "output_type": "execute_result"
    }
   ],
   "source": [
    "data[135]"
>>>>>>> fd1c404bca4acb4d3e5bde9791b02cd109e064b1
   ]
  },
  {
   "cell_type": "markdown",
   "metadata": {},
   "source": [
    "## Apply word embedding models to create document vectors\n",
    "<a id=\"p3\"></a>\n",
    "\n",
    "### BoW discards textual context\n",
    "\n",
    "One of the limitations of Bag-of-Words approaches is that any information about the textual context surrounding that word is lost. This also means that with bag-of-words approaches often the only tools that we have for identifying words with similar usage or meaning and subsequently consolidating them into a single vector is through the processes of stemming and lemmatization which tend to be quite limited at consolidating words unless the two words are very close in their spelling or in their root parts-of-speech.\n",
    "\n",
    "### Embedding approaches preserve more textual context\n",
    "Word2Vec is an increasingly popular word embedding technique. Like Bag-of-words it learns a real-value vector representation for a predefined fixed-size vocabulary that is generated from a corpus of text. However, in contrast to BoW, Word2Vec approaches are much more capable of accounting for textual context, and are better at discovering words with similar meanings or usages (semantic or syntactic similarity).\n",
    "\n",
    "### Word2Vec Intuition\n",
    "### The Distribution Hypothesis\n",
    "\n",
    "In order to understand how Word2Vec preserves textual context we have to understand what's called the Distribution Hypothesis (Reference: Distribution Hypothesis Theory  -https://en.wikipedia.org/wiki/Distributional_semantics. The Distribution Hypothesis operates under the assumption that words that have similar contexts will have similar meanings. Practically speaking, this means that if two words are found to have similar words both to the right and to the left of them throughout the corpora then those words have the same context and are assumed to have the same meaning. \n",
    "\n",
    "> \"You shall know a word by the company it keeps\" - John Firth\n",
    "\n",
    "This means that we let the usage of a word define its meaning and its \"similarity\" to other words. In the following example, which words would you say have a similar meaning? \n",
    "\n",
    "**Sentence 1**: Traffic was light today\n",
    "\n",
    "**Sentence 2**: Traffic was heavy yesterday\n",
    "\n",
    "**Sentence 3**: Prediction is that traffic will be smooth-flowing tomorrow since it is a national holiday\n",
    "\n",
    "What words in the above sentences seem to have a similar meaning if all you knew about them was the context in which they appeared above? \n",
    "\n",
    "Lets take a look at how this might work in action, the following example is simplified, but will give you an idea of the intuition for how this works.\n",
    "\n",
    "#### Corpora:\n",
    "\n",
    "1) \"It was the sunniest of days.\"\n",
    "\n",
    "2) \"It was the raniest of days.\"\n",
    "\n",
    "#### Vocabulary:\n",
    "\n",
    "{\"it\": 1, \"was\": 2, \"the\": 3, \"of\": 4, \"days\": 5, \"sunniest\": 6, \"raniest\": 7}\n",
    "\n",
    "### Vectorization\n",
    "\n",
    "|       doc   | START_was | it_the | was_sunniest | the_of | sunniest_days | of_it | days_was | it_the | was_raniest | raniest_days | of_END |\n",
    "|----------|-----------|--------|--------------|--------|---------------|-------|----------|--------|-------------|--------------|--------|\n",
    "| it       | 1         | 0      | 0            | 0      | 0             | 0     | 1        | 0      | 0           | 0            | 0      |\n",
    "| was      | 0         | 1      | 0            | 0      | 0             | 0     | 0        | 1      | 0           | 0            | 0      |\n",
    "| the      | 0         | 0      | 1            | 0      | 0             | 0     | 0        | 0      | 1           | 0            | 0      |\n",
    "| sunniest | 0         | 0      | 0            | 1      | 0             | 0     | 0        | 0      | 0           | 0            | 0      |\n",
    "| of       | 0         | 0      | 0            | 0      | 1             | 0     | 0        | 0      | 0           | 1            | 0      |\n",
    "| days     | 0         | 0      | 0            | 0      | 0             | 0     | 0        | 0      | 0           | 0            | 1      |\n",
    "| raniest  | 0         | 0      | 0            | 1      | 0             | 0     | 0        | 0      | 0           | 0            | 0      |\n",
    "\n",
    "Each column vector represents the word's context -in this case defined by the words to the left and right of the center word. How far we look to the left and right of a given word is referred to as our \"window of context.\" Each row vector represents the the different usages of a given word. Word2Vec can consider a larger context than only words that are immediately to the left and right of a given word, but we're going to keep our window of context small for this example. What's most important is that this vectorization has translated our documents from a text representation to a numeric one in a way that preserves information about the underlying context. \n",
    "\n",
    "We can see that words that have a similar context will have similar row-vector representations, but before looking that more in-depth, lets simplify our vectorization slightly. You'll notice that we're repeating the column-vector \"it_the\" twice. Lets combine those into a single vector by adding them element-wise. \n",
    "\n",
    "|       *   | START_was | it_the | was_sunniest | the_of | sunniest_days | of_it | days_was | was_raniest | raniest_days | of_END |\n",
    "|----------|-----------|--------|--------------|--------|---------------|-------|----------|-------------|--------------|--------|\n",
    "| it       | 1         | 0      | 0            | 0      | 0             | 0     | 1        | 0           | 0            | 0      |\n",
    "| was      | 0         | 2      | 0            | 0      | 0             | 0     | 0        | 0           | 0            | 0      |\n",
    "| the      | 0         | 0      | 1            | 0      | 0             | 0     | 0        | 1           | 0            | 0      |\n",
    "| sunniest | 0         | 0      | 0            | 1      | 0             | 0     | 0        | 0           | 0            | 0      |\n",
    "| of       | 0         | 0      | 0            | 0      | 1             | 0     | 0        | 0           | 1            | 0      |\n",
    "| days     | 0         | 0      | 0            | 0      | 0             | 0     | 0        | 0           | 0            | 1      |\n",
    "| raniest  | 0         | 0      | 0            | 1      | 0             | 0     | 0        | 0           | 0            | 0      |\n",
    "\n",
    "Now, can you spot which words have a similar row-vector representation? Hint: Look for values that are repeated in a given column. Each column represents the context that word was found in. If there are multiple words that share a context then those words are understood to have a closer meaning with each other than with other words in the text.\n",
    "\n",
    "Lets look specifically at the words sunniest and raniest. You'll notice that these two words have exactly the same 10-dimensional vector representation. Based on this very small corpora of text we would conclude that these two words have the same meaning because they share the same usage. Is this a good assumption? Well, they are both referring to the weather outside so that's better than nothing. You could imagine that as our corpora grows larger we will be exposed a greater number of contexts and the Distribution Hypothesis assumption will improve. \n",
    "\n",
    "### Word2Vec Variants\n",
    "\n",
    "#### Skip-Gram\n",
    "\n",
    "The Skip-Gram method predicts the neighbors’ of a word given a center word. In the skip-gram model, we take a center word and a window of context (neighbors) words to train the model and then predict context words out to some window size for each center word.\n",
    "\n",
    "This notion of “context” or “neighboring” words is best described by considering a center word and a window of words around it. \n",
    "\n",
    "For example, if we consider the sentence **“The speedy Porsche drove past the elegant Rolls-Royce”** and a window size of 2, we’d have the following pairs for the skip-gram model:\n",
    "\n",
    "**Text:**\n",
    "**The**\tspeedy\tPorsche\tdrove\tpast\tthe\telegant\tRolls-Royce\n",
    "\n",
    "*Training Sample with window of 2*: (the, speedy), (the, Porsche)\n",
    "\n",
    "**Text:**\n",
    "The\t**speedy**\tPorsche\tdrove\tpast\tthe\telegant\tRolls-Royce\n",
    "\n",
    "*Training Sample with window of 2*: (speedy, the), (speedy, Porsche), (speedy, drove)\n",
    "\n",
    "**Text:**\n",
    "The\tspeedy\t**Porsche**\tdrove\tpast\tthe\telegant\tRolls-Royce\n",
    "\n",
    "*Training Sample with window of 2*: (Porsche, the), (Porsche, speedy), (Porsche, drove), (Porsche, past)\n",
    "\n",
    "**Text:**\n",
    "The\tspeedy\tPorsche\t**drove**\tpast\tthe\telegant\tRolls-Royce\n",
    "\n",
    "*Training Sample with window of 2*: (drove, speedy), (drove, Porsche), (drove, past), (drove, the)\n",
    "\n",
    "The **Skip-gram model** is going to output a probability distribution i.e. the probability of a word appearing in context given a center word and we are going to select the vector representation that maximizes the probability.\n",
    "\n",
    "With CountVectorizer and TF-IDF the best we could do for context was to look at common bi-grams and tri-grams (n-grams). Well, skip-grams go far beyond that and give our model much stronger contextual information.\n",
    "\n",
    "![alt text](https://www.dropbox.com/s/c7mwy6dk9k99bgh/Image%202%20-%20SkipGrams.jpg?raw=1)\n",
    "\n",
    "## Continuous Bag of Words\n",
    "\n",
    "This model takes thes opposite approach from the skip-gram model in that it tries to predict a center word based on the neighboring words. In the case of the CBOW model, we input the context words within the window (such as “the”, “Proshe”, “drove”) and aim to predict the target or center word “speedy” (the input to the prediction pipeline is reversed as compared to the SkipGram model).\n",
    "\n",
    "A graphical depiction of the input to output prediction pipeline for both variants of the Word2vec model is attached. The graphical depiction will help crystallize the difference between SkipGrams and Continuous Bag of Words.\n",
    "\n",
    "![alt text](https://www.dropbox.com/s/k3ddmbtd52wq2li/Image%203%20-%20CBOW%20Model.jpg?raw=1)\n",
    "\n",
    "## Notable Differences between Word Embedding methods:\n",
    "\n",
    "1) W2V focuses less document topic-modeling. You'll notice that the vectorizations don't really retain much information about the original document that the information came from. At least not in our examples.\n",
    "\n",
    "2) W2V can result in really large and complex vectorizations. In fact, you need Deep Neural Networks to train your Word2Vec models from scratch, but we can use helpful pretrained embeddings (thank you Google) to do really cool things!\n",
    "\n",
    "*^ All that noise....AND Spacy has pretrained a Word2Vec model you can just use? WTF JC?*\n",
    "\n",
    "Let's take a look at how to do it. "
   ]
  },
  {
   "cell_type": "markdown",
   "metadata": {},
   "source": [
    "[`Doc.vector` Docs](https://spacy.io/api/doc#vector)"
   ]
  },
  {
   "cell_type": "code",
   "execution_count": 105,
   "metadata": {},
   "outputs": [
    {
     "name": "stdout",
     "output_type": "stream",
     "text": [
      "[-2.2009e-01 -3.0322e-02 -7.9859e-02 -4.6279e-01 -3.8600e-01  3.6962e-01\n",
      " -7.7178e-01 -1.1529e-01  3.3601e-02  5.6573e-01 -2.4001e-01  4.1833e-01\n",
      "  1.5049e-01  3.5621e-01 -2.1508e-01 -4.2743e-01  8.1400e-02  3.3916e-01\n",
      "  2.1637e-01  1.4792e-01  4.5811e-01  2.0966e-01 -3.5706e-01  2.3800e-01\n",
      "  2.7971e-02 -8.4538e-01  4.1917e-01 -3.9181e-01  4.0434e-04 -1.0662e+00\n",
      "  1.4591e-01  1.4643e-03  5.1277e-01  2.6072e-01  8.3785e-02  3.0340e-01\n",
      "  1.8579e-01  5.9999e-02 -4.0270e-01  5.0888e-01 -1.1358e-01 -2.8854e-01\n",
      " -2.7068e-01  1.1017e-02 -2.2217e-01  6.9076e-01  3.6459e-02  3.0394e-01\n",
      "  5.6989e-02  2.2733e-01 -9.9473e-02  1.5165e-01  1.3540e-01 -2.4965e-01\n",
      "  9.8078e-01 -8.0492e-01  1.9326e-01  3.1128e-01  5.5390e-02 -4.2423e-01\n",
      " -1.4082e-02  1.2708e-01  1.8868e-01  5.9777e-02 -2.2215e-01 -8.3950e-01\n",
      "  9.1987e-02  1.0180e-01 -3.1299e-01  5.5083e-01 -3.0717e-01  4.4201e-01\n",
      "  1.2666e-01  3.7643e-01  3.2333e-01  9.5673e-02  2.5083e-01 -6.4049e-02\n",
      "  4.2143e-01 -1.9375e-01  3.8026e-01  7.0883e-03 -2.0371e-01  1.5402e-01\n",
      " -3.7877e-03 -2.9396e-01  9.6518e-01  2.0068e-01 -5.6572e-01 -2.2581e-01\n",
      "  3.2251e-01 -3.4634e-01  2.7064e-01 -2.0687e-01 -4.7229e-01  3.1704e-01\n",
      " -3.4665e-01 -2.5188e-01 -1.1201e-01 -3.3937e-01  3.1518e-01 -3.2221e-01\n",
      " -2.4530e-01 -7.1571e-02 -4.3971e-01 -1.2070e+00  3.3365e-01 -5.8208e-02\n",
      "  8.0899e-01  4.2335e-01  3.8678e-01 -6.0797e-01 -7.3760e-01 -2.0547e-01\n",
      " -1.7499e-01 -3.7842e-03  2.1930e-01 -5.2486e-02  3.4869e-01  4.3852e-01\n",
      " -3.4471e-01  2.8910e-01  7.2554e-02 -4.8625e-01 -3.8390e-01 -4.4760e-01\n",
      "  4.3278e-01 -2.7128e-03 -9.0067e-01 -3.0819e-02 -3.8630e-01 -8.0798e-02\n",
      " -1.6243e-01  2.8830e-01 -2.6349e-01  1.7628e-01  3.5958e-01  5.7672e-01\n",
      " -5.4624e-01  3.8555e-02 -2.0182e+00  3.2916e-01  3.4672e-01  1.5398e-01\n",
      " -4.3446e-01 -4.1428e-02 -6.9588e-02  5.1513e-01 -1.3489e-01 -5.7239e-02\n",
      "  4.9241e-01  1.8643e-01  3.8596e-01 -3.7329e-02 -5.4216e-01 -1.8152e-01\n",
      "  4.3110e-01 -4.6967e-01  6.6801e-02  5.0323e-01 -2.4059e-01  3.6742e-01\n",
      "  2.9300e-01 -8.7883e-02 -4.7940e-01 -4.3431e-02 -2.6137e-01 -6.2658e-01\n",
      "  1.1446e-01  2.7682e-01  3.4800e-01  5.0018e-01  1.4269e-01 -3.3545e-01\n",
      " -3.9712e-01 -3.3121e-01 -3.4434e-01 -4.1627e-01 -3.5707e-03 -6.2350e-01\n",
      "  3.7794e-01 -1.6765e-01 -4.1954e-01 -3.3134e-01  3.1232e-01 -3.9494e-01\n",
      " -4.6921e-03 -4.8884e-01 -2.2059e-02 -2.6174e-01  1.7937e-01  3.6628e-01\n",
      "  5.8971e-02 -3.5991e-01 -4.4393e-01 -1.1890e-01  3.3487e-01  3.6505e-02\n",
      " -3.2788e-01  3.3425e-01 -5.6361e-01 -1.1190e-01  5.3770e-01  2.0311e-01\n",
      "  1.5110e-01  1.0623e-02  3.3401e-01  4.6084e-01  5.6293e-01 -7.5432e-02\n",
      "  5.4813e-01  1.9395e-01 -2.6265e-01 -3.1699e-01 -8.1778e-01  5.8169e-02\n",
      " -5.7866e-02 -1.1781e-01 -5.8742e-02 -1.4092e-01 -9.9394e-01 -9.4532e-02\n",
      "  2.3503e-01 -4.9027e-01  8.5832e-01  1.1540e-01 -1.5049e-01  1.9065e-01\n",
      " -2.6705e-01  2.5326e-01 -6.7579e-01 -1.0633e-02 -5.5158e-02 -3.1004e-01\n",
      " -5.8036e-02 -1.7200e-01  1.3298e-01 -3.2899e-01 -7.5481e-02  2.9425e-02\n",
      " -3.2949e-01 -1.8691e-01 -9.5323e-01 -3.5468e-01 -3.3162e-01  5.6441e-02\n",
      "  2.1790e-02  1.7182e-01 -4.4267e-01  6.9765e-01 -2.6876e-01  1.1659e-01\n",
      " -1.6584e-01  3.8296e-01  2.9109e-01  3.6318e-01  3.6961e-01  1.6305e-01\n",
      "  1.8152e-01  2.2453e-01  3.9866e-02 -3.7607e-02 -3.6089e-01  7.0818e-02\n",
      " -2.1509e-01  3.6551e-01 -5.1603e-01 -5.8102e-03 -4.8320e-01 -2.5068e-01\n",
      " -5.2062e-02 -2.0828e-01  2.9060e-01  2.2084e-02 -6.8123e-01  4.2063e-01\n",
      "  9.5973e-02  8.1720e-01 -1.5241e-01  6.2994e-01  2.6449e-01 -1.3516e-01\n",
      "  3.2450e-01  3.0503e-01  1.2357e-01  1.5107e-01  2.8327e-01 -3.3838e-01\n",
      "  4.6106e-02 -1.2361e-01  1.4516e-01 -2.7947e-02  2.6231e-02 -5.9591e-01\n",
      " -4.4183e-01  7.8440e-01 -3.4375e-02 -1.3928e+00  3.5248e-01  6.5220e-01]\n"
     ]
    }
   ],
   "source": [
    "# Process a text\n",
    "doc = nlp(\"Two bananas in pyjamas\")\n",
    "\n",
    "# Get the vector for the token \"bananas\"\n",
    "bananas_vector = doc[1].vector\n",
    "print(bananas_vector)"
   ]
  },
  {
   "cell_type": "markdown",
   "metadata": {},
   "source": [
    "[`Doc.similarity()` Docs](https://spacy.io/api/doc#similarity)"
   ]
  },
  {
   "cell_type": "code",
   "execution_count": 106,
   "metadata": {},
   "outputs": [
    {
     "name": "stdout",
     "output_type": "stream",
     "text": [
      "0.8789265574516525\n"
     ]
    }
   ],
   "source": [
    "doc1 = nlp(u\"It's a warm summer day\")\n",
    "doc2 = nlp(u\"It's sunny outside\")\n",
    "\n",
    "# Get the similarity of doc1 and doc2\n",
    "similarity = doc1.similarity(doc2)\n",
    "print(similarity)"
   ]
  },
  {
   "cell_type": "code",
   "execution_count": 108,
   "metadata": {},
   "outputs": [
    {
     "data": {
      "text/plain": [
       "array([[ 5.10239897, -0.11624807],\n",
       "       [ 4.7837869 ,  0.12781483],\n",
       "       [ 4.58166138, -2.12210056],\n",
       "       [-1.985363  ,  0.36337517],\n",
       "       [-2.10066374,  1.70808636],\n",
       "       [-2.47306538,  1.401015  ],\n",
       "       [-2.47530574, -2.99929777],\n",
       "       [-2.01485749, -3.27865377],\n",
       "       [-2.17801706, -2.45275385],\n",
       "       [ 0.42245091,  1.99979409],\n",
       "       [-0.21746301,  4.08991784],\n",
       "       [-1.44556275,  1.27905073]])"
      ]
     },
     "execution_count": 108,
     "metadata": {},
     "output_type": "execute_result"
    }
   ],
   "source": [
    "# import the PCA module from sklearn\n",
    "from sklearn.decomposition import PCA\n",
    "\n",
    "def get_word_vectors(words):\n",
    "    # converts a list of words into their word vectors\n",
    "    return [nlp(word).vector for word in words]\n",
    "\n",
    "words = ['car', 'truck', 'suv', 'elves', 'dragon', 'sword', 'king', 'queen', 'prince', 'horse', 'fish' , 'lion']\n",
    "\n",
    "# intialise pca model and tell it to project data down onto 2 dimensions\n",
    "pca = PCA(n_components=2)\n",
    "\n",
    "# fit the pca model to our 300D data, this will work out which is the best \n",
    "# way to project the data down that will best maintain the relative distances \n",
    "# between data points. It will store these intructioons on how to transform the data.\n",
    "pca.fit(get_word_vectors(words))\n",
    "\n",
    "# Tell our (fitted) pca model to transform our 300D data down onto 2D using the \n",
    "# instructions it learnt during the fit phase.\n",
    "word_vecs_2d = pca.transform(get_word_vectors(words))\n",
    "\n",
    "# let's look at our new 2D word vectors\n",
    "word_vecs_2d"
   ]
  },
  {
   "cell_type": "code",
   "execution_count": 109,
   "metadata": {},
   "outputs": [
    {
     "data": {
      "image/png": "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\n",
      "text/plain": [
       "<Figure size 1440x1080 with 1 Axes>"
      ]
     },
     "metadata": {
      "needs_background": "light"
     },
     "output_type": "display_data"
    }
   ],
   "source": [
    "# create a nice big plot \n",
    "plt.figure(figsize=(20,15))\n",
    "\n",
    "# plot the scatter plot of where the words will be\n",
    "plt.scatter(word_vecs_2d[:,0], word_vecs_2d[:,1])\n",
    "\n",
    "# for each word and coordinate pair: draw the text on the plot\n",
    "for word, coord in zip(words, word_vecs_2d):\n",
    "    x, y = coord\n",
    "    plt.text(x, y, word, size= 15)\n",
    "\n",
    "# show the plot\n",
    "plt.show()"
   ]
  },
  {
   "cell_type": "markdown",
   "metadata": {},
   "source": [
    "### Extract Document Vectors\n",
    "\n",
    "Let's see how much the quality of our query will work when we try a new embedding model.\n",
    "\n",
    "Steps:\n",
    "* Extract Vectors from Each Document\n",
    "* Search using KNN\n"
   ]
  },
  {
   "cell_type": "code",
   "execution_count": null,
   "metadata": {},
   "outputs": [],
   "source": []
  }
 ],
 "metadata": {
  "kernelspec": {
   "display_name": "U4-S1-NLP (Python 3)",
   "language": "python",
   "name": "u4-s1-nlp"
  },
  "language_info": {
   "codemirror_mode": {
    "name": "ipython",
    "version": 3
   },
   "file_extension": ".py",
   "mimetype": "text/x-python",
   "name": "python",
   "nbconvert_exporter": "python",
   "pygments_lexer": "ipython3",
   "version": "3.7.3"
  }
 },
 "nbformat": 4,
 "nbformat_minor": 4
}
