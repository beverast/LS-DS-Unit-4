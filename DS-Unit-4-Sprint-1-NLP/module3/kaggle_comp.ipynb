{
 "cells": [
  {
   "cell_type": "markdown",
   "metadata": {},
   "source": [
    "### Import Modules and Read Data"
   ]
  },
  {
   "cell_type": "code",
   "execution_count": 1,
   "metadata": {},
   "outputs": [],
   "source": [
    "import pandas as pd\n",
    "\n",
    "import spacy\n",
    "nlp = spacy.load(\"en_core_web_sm\")\n",
    "\n",
    "from sklearn.feature_extraction.text import TfidfVectorizer"
   ]
  },
  {
   "cell_type": "code",
   "execution_count": 2,
   "metadata": {},
   "outputs": [
    {
     "data": {
      "text/html": [
       "<div>\n",
       "<style scoped>\n",
       "    .dataframe tbody tr th:only-of-type {\n",
       "        vertical-align: middle;\n",
       "    }\n",
       "\n",
       "    .dataframe tbody tr th {\n",
       "        vertical-align: top;\n",
       "    }\n",
       "\n",
       "    .dataframe thead th {\n",
       "        text-align: right;\n",
       "    }\n",
       "</style>\n",
       "<table border=\"1\" class=\"dataframe\">\n",
       "  <thead>\n",
       "    <tr style=\"text-align: right;\">\n",
       "      <th></th>\n",
       "      <th>id</th>\n",
       "      <th>author</th>\n",
       "      <th>description</th>\n",
       "      <th>price</th>\n",
       "      <th>ratingValue</th>\n",
       "      <th>pert_alcohol</th>\n",
       "      <th>category</th>\n",
       "    </tr>\n",
       "  </thead>\n",
       "  <tbody>\n",
       "    <tr>\n",
       "      <th>0</th>\n",
       "      <td>1</td>\n",
       "      <td>John Hansell</td>\n",
       "      <td>A marriage of 13 and 18 year old bourbons. A m...</td>\n",
       "      <td>85.0</td>\n",
       "      <td>97</td>\n",
       "      <td>51.5</td>\n",
       "      <td>2.0</td>\n",
       "    </tr>\n",
       "    <tr>\n",
       "      <th>1</th>\n",
       "      <td>2</td>\n",
       "      <td>Dave Broom</td>\n",
       "      <td>There have been some legendary Bowmores from t...</td>\n",
       "      <td>13500.0</td>\n",
       "      <td>97</td>\n",
       "      <td>42.9</td>\n",
       "      <td>1.0</td>\n",
       "    </tr>\n",
       "    <tr>\n",
       "      <th>2</th>\n",
       "      <td>3</td>\n",
       "      <td>John Hansell</td>\n",
       "      <td>This bottling celebrates master distiller Park...</td>\n",
       "      <td>150.0</td>\n",
       "      <td>97</td>\n",
       "      <td>50.0</td>\n",
       "      <td>2.0</td>\n",
       "    </tr>\n",
       "    <tr>\n",
       "      <th>3</th>\n",
       "      <td>4</td>\n",
       "      <td>John Hansell</td>\n",
       "      <td>What impresses me most is how this whisky evol...</td>\n",
       "      <td>4500.0</td>\n",
       "      <td>97</td>\n",
       "      <td>40.5</td>\n",
       "      <td>1.0</td>\n",
       "    </tr>\n",
       "    <tr>\n",
       "      <th>4</th>\n",
       "      <td>6</td>\n",
       "      <td>Davin de Kergommeaux</td>\n",
       "      <td>After 40 years in barrels, the trademark Canad...</td>\n",
       "      <td>199.0</td>\n",
       "      <td>96</td>\n",
       "      <td>45.0</td>\n",
       "      <td>NaN</td>\n",
       "    </tr>\n",
       "  </tbody>\n",
       "</table>\n",
       "</div>"
      ],
      "text/plain": [
       "   id                author  \\\n",
       "0   1          John Hansell   \n",
       "1   2            Dave Broom   \n",
       "2   3          John Hansell   \n",
       "3   4          John Hansell   \n",
       "4   6  Davin de Kergommeaux   \n",
       "\n",
       "                                         description    price  ratingValue  \\\n",
       "0  A marriage of 13 and 18 year old bourbons. A m...     85.0           97   \n",
       "1  There have been some legendary Bowmores from t...  13500.0           97   \n",
       "2  This bottling celebrates master distiller Park...    150.0           97   \n",
       "3  What impresses me most is how this whisky evol...   4500.0           97   \n",
       "4  After 40 years in barrels, the trademark Canad...    199.0           96   \n",
       "\n",
       "   pert_alcohol  category  \n",
       "0          51.5       2.0  \n",
       "1          42.9       1.0  \n",
       "2          50.0       2.0  \n",
       "3          40.5       1.0  \n",
       "4          45.0       NaN  "
      ]
     },
     "execution_count": 2,
     "metadata": {},
     "output_type": "execute_result"
    }
   ],
   "source": [
    "df = pd.read_csv('./train.csv')\n",
    "df.head()"
   ]
  },
  {
   "cell_type": "markdown",
   "metadata": {},
   "source": [
    "### Describe and Clean Data"
   ]
  },
  {
   "cell_type": "code",
   "execution_count": 3,
   "metadata": {},
   "outputs": [
    {
     "data": {
      "text/plain": [
       "id                0\n",
       "author            0\n",
       "description       0\n",
       "price            63\n",
       "ratingValue       0\n",
       "pert_alcohol     60\n",
       "category        288\n",
       "dtype: int64"
      ]
     },
     "execution_count": 3,
     "metadata": {},
     "output_type": "execute_result"
    }
   ],
   "source": [
    "# Total NaNs in df\n",
    "df.isna().sum()"
   ]
  },
  {
   "cell_type": "code",
   "execution_count": 4,
   "metadata": {},
   "outputs": [
    {
     "data": {
      "text/plain": [
       "id               0\n",
       "author           0\n",
       "description      0\n",
       "price            0\n",
       "ratingValue      0\n",
       "pert_alcohol    60\n",
       "category         4\n",
       "dtype: int64"
      ]
     },
     "execution_count": 4,
     "metadata": {},
     "output_type": "execute_result"
    }
   ],
   "source": [
    "# NaNs shared by row with 'pert_alcohol' NaNs\n",
    "df[df['pert_alcohol'].isna()].isna().sum()"
   ]
  },
  {
   "cell_type": "code",
   "execution_count": 5,
   "metadata": {},
   "outputs": [
    {
     "data": {
      "text/html": [
       "<div>\n",
       "<style scoped>\n",
       "    .dataframe tbody tr th:only-of-type {\n",
       "        vertical-align: middle;\n",
       "    }\n",
       "\n",
       "    .dataframe tbody tr th {\n",
       "        vertical-align: top;\n",
       "    }\n",
       "\n",
       "    .dataframe thead th {\n",
       "        text-align: right;\n",
       "    }\n",
       "</style>\n",
       "<table border=\"1\" class=\"dataframe\">\n",
       "  <thead>\n",
       "    <tr style=\"text-align: right;\">\n",
       "      <th></th>\n",
       "      <th>id</th>\n",
       "      <th>price</th>\n",
       "      <th>ratingValue</th>\n",
       "      <th>pert_alcohol</th>\n",
       "      <th>category</th>\n",
       "    </tr>\n",
       "  </thead>\n",
       "  <tbody>\n",
       "    <tr>\n",
       "      <th>count</th>\n",
       "      <td>2874.000000</td>\n",
       "      <td>2811.000000</td>\n",
       "      <td>2874.000000</td>\n",
       "      <td>2814.000000</td>\n",
       "      <td>2586.000000</td>\n",
       "    </tr>\n",
       "    <tr>\n",
       "      <th>mean</th>\n",
       "      <td>2075.814544</td>\n",
       "      <td>225.297937</td>\n",
       "      <td>86.361517</td>\n",
       "      <td>48.043019</td>\n",
       "      <td>1.637664</td>\n",
       "    </tr>\n",
       "    <tr>\n",
       "      <th>std</th>\n",
       "      <td>1177.805945</td>\n",
       "      <td>990.619608</td>\n",
       "      <td>4.511554</td>\n",
       "      <td>6.298527</td>\n",
       "      <td>0.963049</td>\n",
       "    </tr>\n",
       "    <tr>\n",
       "      <th>min</th>\n",
       "      <td>1.000000</td>\n",
       "      <td>7.500000</td>\n",
       "      <td>60.000000</td>\n",
       "      <td>33.000000</td>\n",
       "      <td>1.000000</td>\n",
       "    </tr>\n",
       "    <tr>\n",
       "      <th>25%</th>\n",
       "      <td>1087.250000</td>\n",
       "      <td>50.000000</td>\n",
       "      <td>84.000000</td>\n",
       "      <td>43.300000</td>\n",
       "      <td>1.000000</td>\n",
       "    </tr>\n",
       "    <tr>\n",
       "      <th>50%</th>\n",
       "      <td>2109.500000</td>\n",
       "      <td>80.000000</td>\n",
       "      <td>87.000000</td>\n",
       "      <td>46.000000</td>\n",
       "      <td>1.000000</td>\n",
       "    </tr>\n",
       "    <tr>\n",
       "      <th>75%</th>\n",
       "      <td>3102.000000</td>\n",
       "      <td>140.000000</td>\n",
       "      <td>90.000000</td>\n",
       "      <td>51.375000</td>\n",
       "      <td>2.000000</td>\n",
       "    </tr>\n",
       "    <tr>\n",
       "      <th>max</th>\n",
       "      <td>4157.000000</td>\n",
       "      <td>26650.000000</td>\n",
       "      <td>97.000000</td>\n",
       "      <td>98.600000</td>\n",
       "      <td>4.000000</td>\n",
       "    </tr>\n",
       "  </tbody>\n",
       "</table>\n",
       "</div>"
      ],
      "text/plain": [
       "                id         price  ratingValue  pert_alcohol     category\n",
       "count  2874.000000   2811.000000  2874.000000   2814.000000  2586.000000\n",
       "mean   2075.814544    225.297937    86.361517     48.043019     1.637664\n",
       "std    1177.805945    990.619608     4.511554      6.298527     0.963049\n",
       "min       1.000000      7.500000    60.000000     33.000000     1.000000\n",
       "25%    1087.250000     50.000000    84.000000     43.300000     1.000000\n",
       "50%    2109.500000     80.000000    87.000000     46.000000     1.000000\n",
       "75%    3102.000000    140.000000    90.000000     51.375000     2.000000\n",
       "max    4157.000000  26650.000000    97.000000     98.600000     4.000000"
      ]
     },
     "execution_count": 5,
     "metadata": {},
     "output_type": "execute_result"
    }
   ],
   "source": [
    "df.describe()"
   ]
  },
  {
   "cell_type": "code",
   "execution_count": 6,
   "metadata": {},
   "outputs": [
    {
     "data": {
      "text/plain": [
       "id              0\n",
       "author          0\n",
       "description     0\n",
       "price           0\n",
       "ratingValue     0\n",
       "pert_alcohol    0\n",
       "category        0\n",
       "dtype: int64"
      ]
     },
     "execution_count": 6,
     "metadata": {},
     "output_type": "execute_result"
    }
   ],
   "source": [
    "df['pert_alcohol'] = df['pert_alcohol'].fillna(method='pad')\n",
    "df['price'] = df['price'].fillna(method='pad')\n",
    "df = df.dropna(axis=0)\n",
    "df.isna().sum()"
   ]
  },
  {
   "cell_type": "markdown",
   "metadata": {},
   "source": [
    "### Split DataFrame into Target/Feature Frames"
   ]
  },
  {
   "cell_type": "code",
   "execution_count": 9,
   "metadata": {},
   "outputs": [],
   "source": [
    "X_train = df['description'][:1500]\n",
    "X_test = df['description'][1500:]\n",
    "y_train = df['category'][:1500]\n",
    "y_test = df['category'][1500:]"
   ]
  },
  {
   "cell_type": "markdown",
   "metadata": {},
   "source": [
    "### Sklearn Pipeline Objects"
   ]
  },
  {
   "cell_type": "code",
   "execution_count": 10,
   "metadata": {},
   "outputs": [],
   "source": [
    "from sklearn.pipeline import Pipeline\n",
    "from sklearn.linear_model import SGDClassifier\n",
    "from sklearn.feature_extraction.text import TfidfVectorizer"
   ]
  },
  {
   "cell_type": "code",
   "execution_count": 11,
   "metadata": {},
   "outputs": [],
   "source": [
    "# Create pipeline\n",
    "vect = TfidfVectorizer(stop_words='english')\n",
    "sgdc = SGDClassifier()\n",
    "\n",
    "pipe = Pipeline([('vect', vect), ('clf', sgdc)])"
   ]
  },
  {
   "cell_type": "markdown",
   "metadata": {},
   "source": [
    "### Tuning a Pipeline Object with GridSearch"
   ]
  },
  {
   "cell_type": "code",
   "execution_count": 13,
   "metadata": {},
   "outputs": [],
   "source": [
    "from sklearn.model_selection import GridSearchCV\n",
    "\n",
    "parameters = {\n",
    "    'vect__max_df': (0.5, 0.75, 1.0),\n",
    "    'clf__max_iter': (10, 20, 100)\n",
    "}\n",
    "\n",
    "grid_search = GridSearchCV(pipe, parameters, cv=5, n_jobs=-1, verbose=1)"
   ]
  },
  {
   "cell_type": "code",
   "execution_count": 14,
   "metadata": {},
   "outputs": [
    {
     "name": "stdout",
     "output_type": "stream",
     "text": [
      "Fitting 5 folds for each of 9 candidates, totalling 45 fits\n"
     ]
    },
    {
     "name": "stderr",
     "output_type": "stream",
     "text": [
      "[Parallel(n_jobs=-1)]: Using backend LokyBackend with 8 concurrent workers.\n",
      "[Parallel(n_jobs=-1)]: Done  45 out of  45 | elapsed:    5.0s finished\n",
      "/home/joseph/miniconda3/envs/U4-S1-NLP/lib/python3.7/site-packages/sklearn/linear_model/stochastic_gradient.py:183: FutureWarning: max_iter and tol parameters have been added in SGDClassifier in 0.19. If max_iter is set but tol is left unset, the default value for tol in 0.19 and 0.20 will be None (which is equivalent to -infinity, so it has no effect) but will change in 0.21 to 1e-3. Specify tol to silence this warning.\n",
      "  FutureWarning)\n"
     ]
    },
    {
     "data": {
      "text/plain": [
       "0.850828729281768"
      ]
     },
     "execution_count": 14,
     "metadata": {},
     "output_type": "execute_result"
    }
   ],
   "source": [
    "# Fit grid search\n",
    "grid_search.fit(X_train, y_train)\n",
    "best = grid_search.best_estimator_\n",
    "best.score(X_test, y_test)"
   ]
  },
  {
   "cell_type": "markdown",
   "metadata": {},
   "source": [
    "### [TODO] Latent Semantic Indexing\n",
    "\n",
    "* A topic modelling technique\n",
    "* The index is a topic distribtuion\n",
    "* Topics are not interpretable, used by search engines\n",
    "* Could be thought of as dimensionality reduction"
   ]
  },
  {
   "cell_type": "code",
   "execution_count": 15,
   "metadata": {},
   "outputs": [],
   "source": [
    "# from sklearn.decomposition import TruncatedSVD\n",
    "\n",
    "# svd = TruncatedSVD(n_components=100,\n",
    "#                    algorithm='randomized',\n",
    "#                    n_iter=10)"
   ]
  },
  {
   "cell_type": "code",
   "execution_count": 16,
   "metadata": {},
   "outputs": [],
   "source": [
    "# LSI\n",
    "# lsi = Pipeline([('vect', vect), ('svd', svd)])"
   ]
  },
  {
   "cell_type": "code",
   "execution_count": 17,
   "metadata": {},
   "outputs": [],
   "source": [
    "# Whole pipeline: a pipeline can accept another pipeline object\n",
    "# pipe = Pipeline([('lsi', lsi), ('clf', sgdc)])"
   ]
  },
  {
   "cell_type": "code",
   "execution_count": 18,
   "metadata": {},
   "outputs": [],
   "source": [
    "# Fit\n",
    "# pipe.fit(X_train, y_train)"
   ]
  },
  {
   "cell_type": "markdown",
   "metadata": {},
   "source": [
    "### Generate Predictions"
   ]
  },
  {
   "cell_type": "code",
   "execution_count": 19,
   "metadata": {},
   "outputs": [
    {
     "data": {
      "text/html": [
       "<div>\n",
       "<style scoped>\n",
       "    .dataframe tbody tr th:only-of-type {\n",
       "        vertical-align: middle;\n",
       "    }\n",
       "\n",
       "    .dataframe tbody tr th {\n",
       "        vertical-align: top;\n",
       "    }\n",
       "\n",
       "    .dataframe thead th {\n",
       "        text-align: right;\n",
       "    }\n",
       "</style>\n",
       "<table border=\"1\" class=\"dataframe\">\n",
       "  <thead>\n",
       "    <tr style=\"text-align: right;\">\n",
       "      <th></th>\n",
       "      <th>id</th>\n",
       "      <th>author</th>\n",
       "      <th>description</th>\n",
       "      <th>price</th>\n",
       "      <th>ratingValue</th>\n",
       "      <th>pert_alcohol</th>\n",
       "    </tr>\n",
       "  </thead>\n",
       "  <tbody>\n",
       "    <tr>\n",
       "      <th>0</th>\n",
       "      <td>955</td>\n",
       "      <td>Fred Minnick</td>\n",
       "      <td>Think carnival aromas—the good ones, anyway—me...</td>\n",
       "      <td>36.0</td>\n",
       "      <td>90</td>\n",
       "      <td>50.0</td>\n",
       "    </tr>\n",
       "    <tr>\n",
       "      <th>1</th>\n",
       "      <td>3532</td>\n",
       "      <td>Lew Bryson</td>\n",
       "      <td>A blend of three bourbons, between 6 and 12 ye...</td>\n",
       "      <td>90.0</td>\n",
       "      <td>82</td>\n",
       "      <td>49.3</td>\n",
       "    </tr>\n",
       "    <tr>\n",
       "      <th>2</th>\n",
       "      <td>1390</td>\n",
       "      <td>Davin de Kergommeaux</td>\n",
       "      <td>The nose is focused on cereal, hints of fresh ...</td>\n",
       "      <td>48.0</td>\n",
       "      <td>89</td>\n",
       "      <td>45.0</td>\n",
       "    </tr>\n",
       "    <tr>\n",
       "      <th>3</th>\n",
       "      <td>1024</td>\n",
       "      <td>Gavin Smith</td>\n",
       "      <td>Swiss-based Chapter 7 released this 19 year ol...</td>\n",
       "      <td>180.0</td>\n",
       "      <td>90</td>\n",
       "      <td>55.8</td>\n",
       "    </tr>\n",
       "    <tr>\n",
       "      <th>4</th>\n",
       "      <td>1902</td>\n",
       "      <td>Gavin Smith</td>\n",
       "      <td>Valkyrie replaces the current Dark Origins exp...</td>\n",
       "      <td>71.0</td>\n",
       "      <td>87</td>\n",
       "      <td>45.9</td>\n",
       "    </tr>\n",
       "  </tbody>\n",
       "</table>\n",
       "</div>"
      ],
      "text/plain": [
       "     id                author  \\\n",
       "0   955          Fred Minnick   \n",
       "1  3532            Lew Bryson   \n",
       "2  1390  Davin de Kergommeaux   \n",
       "3  1024           Gavin Smith   \n",
       "4  1902           Gavin Smith   \n",
       "\n",
       "                                         description  price  ratingValue  \\\n",
       "0  Think carnival aromas—the good ones, anyway—me...   36.0           90   \n",
       "1  A blend of three bourbons, between 6 and 12 ye...   90.0           82   \n",
       "2  The nose is focused on cereal, hints of fresh ...   48.0           89   \n",
       "3  Swiss-based Chapter 7 released this 19 year ol...  180.0           90   \n",
       "4  Valkyrie replaces the current Dark Origins exp...   71.0           87   \n",
       "\n",
       "   pert_alcohol  \n",
       "0          50.0  \n",
       "1          49.3  \n",
       "2          45.0  \n",
       "3          55.8  \n",
       "4          45.9  "
      ]
     },
     "execution_count": 19,
     "metadata": {},
     "output_type": "execute_result"
    }
   ],
   "source": [
    "# Read in test.csv\n",
    "test_df = pd.read_csv('./test.csv')\n",
    "test_df.head()"
   ]
  },
  {
   "cell_type": "code",
   "execution_count": 20,
   "metadata": {},
   "outputs": [
    {
     "name": "stdout",
     "output_type": "stream",
     "text": [
      "[2. 2. 4. 1. 1. 1. 1. 1. 2. 1. 4. 4. 1. 1. 1. 1. 1. 1. 2. 1. 1. 1. 1. 1.\n",
      " 4. 1. 1. 1. 3. 1. 4. 2. 1. 1. 1. 1. 1. 3. 4. 1. 2. 1. 1. 2. 1. 1. 1. 2.\n",
      " 1. 1. 3. 1. 3. 1. 1. 1. 1. 1. 1. 1. 3. 1. 1. 1. 1. 4. 2. 1. 1. 1. 1. 3.\n",
      " 1. 1. 4. 1. 2. 2. 1. 1. 4. 2. 2. 1. 1. 3. 2. 4. 1. 3. 1. 1. 1. 1. 1. 4.\n",
      " 1. 1. 4. 3. 1. 1. 1. 2. 1. 1. 1. 2. 1. 2. 3. 1. 1. 1. 1. 3. 1. 1. 1. 1.\n",
      " 3. 1. 2. 1. 1. 1. 1. 2. 2. 4. 1. 1. 1. 1. 3. 2. 1. 1. 1. 1. 1. 2. 2. 1.\n",
      " 1. 3. 4. 1. 1. 1. 3. 1. 1. 1. 1. 1. 3. 1. 1. 1. 1. 1. 4. 1. 1. 1. 3. 1.\n",
      " 2. 2. 1. 3. 2. 1. 1. 1. 1. 1. 1. 1. 2. 1. 1. 1. 1. 2. 1. 4. 1. 3. 1. 4.\n",
      " 1. 1. 2. 2. 1. 1. 2. 1. 1. 1. 1. 2. 2. 1. 1. 1. 1. 4. 1. 1. 3. 1. 2. 1.\n",
      " 1. 1. 1. 1. 1. 4. 2. 2. 2. 2. 1. 2. 2. 2. 1. 1. 1. 3. 1. 1. 2. 1. 1. 1.\n",
      " 1. 3. 2. 2. 1. 3. 1. 4. 3. 3. 1. 1. 2. 1. 2. 1. 1. 1. 1. 1. 1. 1. 1. 1.\n",
      " 1. 1. 2. 1. 3. 2. 1. 1. 1. 1. 1. 1. 1. 1. 2. 2. 2. 4. 1. 1. 1. 1. 2. 1.]\n"
     ]
    }
   ],
   "source": [
    "X_test = test_df['description']\n",
    "test_predictions = best.predict(X_test)\n",
    "print(test_predictions)"
   ]
  },
  {
   "cell_type": "markdown",
   "metadata": {},
   "source": [
    "### Kaggle Submission"
   ]
  },
  {
   "cell_type": "markdown",
   "metadata": {},
   "source": [
    "Use INT values\n",
    "\n",
    "Use index=False to remove index col"
   ]
  },
  {
   "cell_type": "code",
   "execution_count": 30,
   "metadata": {},
   "outputs": [],
   "source": [
    "submission = pd.DataFrame({'id': test_df['id'], 'category': list(map(int, test_predictions))})\n",
    "submission.to_csv('submission4.csv', index=False)"
   ]
  }
 ],
 "metadata": {
  "kernelspec": {
   "display_name": "Python 3",
   "language": "python",
   "name": "python3"
  },
  "language_info": {
   "codemirror_mode": {
    "name": "ipython",
    "version": 3
   },
   "file_extension": ".py",
   "mimetype": "text/x-python",
   "name": "python",
   "nbconvert_exporter": "python",
   "pygments_lexer": "ipython3",
   "version": "3.7.3"
  }
 },
 "nbformat": 4,
 "nbformat_minor": 4
}
