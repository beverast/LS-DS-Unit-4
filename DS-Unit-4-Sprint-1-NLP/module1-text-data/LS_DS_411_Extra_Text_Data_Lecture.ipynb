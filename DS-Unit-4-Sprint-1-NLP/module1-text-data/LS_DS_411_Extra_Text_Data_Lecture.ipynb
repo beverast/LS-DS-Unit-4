{
 "cells": [
  {
   "cell_type": "markdown",
   "metadata": {},
   "source": [
    "<img align=\"left\" src=\"https://lever-client-logos.s3.amazonaws.com/864372b1-534c-480e-acd5-9711f850815c-1524247202159.png\" width=200>\n",
    "<br></br>\n",
    "<br></br>\n",
    "\n",
    "## *Data Science Unit 4 Sprint 2 Lesson 1*\n",
    "\n",
    "# Natural Language Processing (NLP) \n",
    "\n",
    "\"Natural\" meaning - not computer languages but spoken/written human languages. The hard thing about NLP is that human languages are far less structured or consistent than computer languages. This is perhaps the largest source of difficulty when trying to get computers to \"understand\" human languages. How do you get a machine to understand sarcasm, and irony, and synonyms, connotation, denotation, nuance, and tone of voice --all without it having lived a lifetime of experience for context? If you think about it, our human brains have been exposed to quite a lot of training data to help us interpret languages, and even then we misunderstand each other pretty frequently. \n",
    "\n",
    "## Learning Objectives\n",
    "* [Part 0](#p0): Consider challenges of NLP\n",
    "* [Part 1](#p1): Select parts of python strings\n",
    "* [Part 2](#p2): Webscrape & extract text from html\n",
    "* [Part 3](#p3): Tokenizing documents\n",
    "\n",
    "Let's consider John Searle's [Chinese Room](https://en.wikipedia.org/wiki/Chinese_room) thought experiment. Can AI ever truly understand language?"
   ]
  },
  {
   "cell_type": "code",
   "execution_count": 1,
   "metadata": {
    "colab_type": "text",
    "id": "XJYVEQbyfYVn"
   },
   "outputs": [
    {
     "data": {
      "text/html": [
       "<<iframe width=\"560\" height=\"315\" src=\"https://www.youtube.com/embed/D0MD4sRHj1M\" frameborder=\"0\" allow=\"accelerometer; autoplay; encrypted-media; gyroscope; picture-in-picture\" allowfullscreen></iframe>"
      ],
      "text/plain": [
       "<IPython.core.display.HTML object>"
      ]
     },
     "execution_count": 1,
     "metadata": {},
     "output_type": "execute_result"
    }
   ],
   "source": [
    "from IPython.display import HTML\n",
    "HTML('''<<iframe width=\"560\" height=\"315\" src=\"https://www.youtube.com/embed/D0MD4sRHj1M\" frameborder=\"0\" allow=\"accelerometer; autoplay; encrypted-media; gyroscope; picture-in-picture\" allowfullscreen></iframe>''')"
   ]
  },
  {
   "cell_type": "markdown",
   "metadata": {
    "colab_type": "text",
    "id": "18eQ2tQ6TqNi",
    "toc-hr-collapsed": false
   },
   "source": [
    "# Popular Applications of NLP: \n",
    "Each application has a linked article highlighting that technique's use case. Check them out if you have downtime this afternoon or this week.\n",
    "\n",
    "- [Sentiment Analysis](https://www.nytimes.com/2009/08/24/technology/internet/24emotion.html) (Positive, Negative or Neutral)\n",
    "- [Chatbots](https://www.nytimes.com/interactive/2018/11/14/magazine/tech-design-ai-chatbot.html)\n",
    "- [Speech Recognition](https://deepmind.com/blog/wavenet-generative-model-raw-audio/) (dictation, Siri, \"hey google\", Amazon Echo, Cortana, video captioning, etc.)\n",
    " - Have to interpret the audio correctly\n",
    " - Have to interpret the words correctly after that.\n",
    "- [Machine Translation](https://www.technologyreview.com/s/611957/human-translators-are-still-on-top-for-now/)\n",
    "- [Spell Check](https://www.grammarly.com/blog/how-grammarly-uses-ai/)\n",
    "- [Keyword Search](https://www.wired.com/insights/2014/02/search-today-beyond-optimizing-semantic-web/)\n",
    "- [Spam Detection](https://www.youtube.com/watch?v=_iOxylrN4Io)\n",
    "- [Topic Modeling](https://fivethirtyeight.com/features/dissecting-trumps-most-rabid-online-following/)\n",
    "- [Natural Language Generation](https://openai.com/blog/better-language-models/)"
   ]
  },
  {
   "cell_type": "markdown",
   "metadata": {
    "colab_type": "text",
    "id": "86TDsPAOTeKA",
    "toc-hr-collapsed": false
   },
   "source": [
    "## The challenges of unstructured language data: \n",
    "\n",
    "Up until this point in the class we have worked mostly with what would be called \"tabluar data\" (arranged in a table of rows and columns) or \"structured data\" - relational database tables, json, etc. Human language (text/audio) is one form of \"unstructured\" data. Computers are inherently bad at processing unstructured data. You give them Python or JavaScript and they'll interpret it in a split second without making a single mistake, but what about some of the following situations:\n",
    "\n",
    "### Metaphors, idioms, etc.\n",
    "\n",
    "> \"Steph Curry was on fire last nice. He totally destroyed the other team\"\n",
    "\n",
    "### Punctuation - (COMMAS SAVE LIVES!!)\n",
    "\n",
    "> <img align = \"left\" src=\"https://media.makeameme.org/created/gangster-panda-eats.jpg\" width=200> \n",
    "\n",
    "> \"The panda eats, shoots and leaves.\" vs \"The panda eats shoots and leaves.\" "
   ]
  },
  {
   "cell_type": "code",
   "execution_count": 2,
   "metadata": {},
   "outputs": [
    {
     "name": "stderr",
     "output_type": "stream",
     "text": [
      "/Users/jonathansokoll/anaconda3/lib/python3.7/site-packages/IPython/core/display.py:689: UserWarning: Consider using IPython.display.IFrame instead\n",
      "  warnings.warn(\"Consider using IPython.display.IFrame instead\")\n"
     ]
    },
    {
     "data": {
      "text/html": [
       "<iframe src=\"https://open.spotify.com/embed/track/5nHRIKsXDwUpse9gzrAxLR\" width=\"300\" height=\"380\" frameborder=\"0\" allowtransparency=\"true\" allow=\"encrypted-media\"></iframe>"
      ],
      "text/plain": [
       "<IPython.core.display.HTML object>"
      ]
     },
     "execution_count": 2,
     "metadata": {},
     "output_type": "execute_result"
    }
   ],
   "source": [
    "from IPython.display import HTML\n",
    "HTML('''<iframe src=\"https://open.spotify.com/embed/track/5nHRIKsXDwUpse9gzrAxLR\" width=\"300\" height=\"380\" frameborder=\"0\" allowtransparency=\"true\" allow=\"encrypted-media\"></iframe>''')"
   ]
  },
  {
   "cell_type": "markdown",
   "metadata": {
    "colab_type": "text",
    "id": "86TDsPAOTeKA"
   },
   "source": [
    "### Pronoun Resolution (requires context or past experience)\n",
    "\n",
    "> \"The thieves stole the paintings. They were subsequently sold.\"\n",
    "\n",
    "> \"The thieves stole the paintings. They were subsequently caught.\"\n",
    "\n",
    "> \"The thieves stole the paintings. They were subsequently found.\"\n",
    "\n",
    "*Note:* This problem is so freaking hard even Google had to outsource. See the [kaggle competition](https://www.kaggle.com/c/gendered-pronoun-resolution/leaderboard).\n",
    "\n",
    "### Lack of Context (ambiguity yet again)\n",
    "\n",
    "> \"The lamb was ready to eat.\"\n",
    "\n",
    "### Synonyms / Homonyms (Word Sense Disambiguation - can be different depending on if the language is written or spoken)\n",
    "\n",
    "> \"That guy is the best bass player I've ever seen!\"\n",
    "\n",
    "![Bass Player](http://vision.cs.uml.edu/old_projects_files/senses.png)\n",
    "\n",
    "> \"She threw up her dinner\" vs. \"She threw up her hands\"\n",
    "\n",
    "### The conventions of language are shifting under our feet\n",
    "\n",
    "Consider:\n",
    "\n",
    "![Emoji Story](https://static.freemake.com/blog/wp-content/uploads/2014/07/emoji-texts-2.jpg)\n",
    "\n",
    "### My personal favorite:\n",
    "\n",
    "> \"Buffalo buffalo Buffalo buffalo buffalo buffalo Buffalo buffalo.\"\n",
    "\n",
    "The above is in fact a grammatically correct English sentence with real meaning. It's hard for native English speakers to understand, computers would have a hard time with it. <https://en.wikipedia.org/wiki/Buffalo_buffalo_Buffalo_buffalo_buffalo_buffalo_Buffalo_buffalo> It's a little easier to understand if you know all of the word meanings and you have it read to you with correct cadence and tone: If I read it a little a little bit differently, notice how I'm saying the same words but conveying meaning through tone.\n",
    "\n",
    "### Buffalo (City / Entity):\n",
    "\n",
    "<img src=\"http://pics2.city-data.com/city/maps/fr58.png\" />\n",
    "\n",
    "### buffalo (noun) - American bison?:\n",
    "\n",
    "<img src=\"https://images.unsplash.com/photo-1552249007-f89f39df8eae?ixlib=rb-1.2.1&ixid=eyJhcHBfaWQiOjEyMDd9&auto=format&fit=crop&w=2821&q=80\" width=\"400\" />\n",
    "\n",
    "### buffalo (verb): \n",
    "| Bewilder | Baffle |\n",
    ":-----: | :-----:\n",
    "| <img src=\"https://images.unsplash.com/photo-1544133782-b62779394064?ixlib=rb-1.2.1&ixid=eyJhcHBfaWQiOjEyMDd9&auto=format&fit=crop&w=934&q=80\" width=\"400\" /> | <img src=\"https://memegenerator.net/img/images/15114482.jpg\" width=\"400\" /> |\n",
    "\n",
    "> \"Buffalo buffalo ... (who) Buffalo buffalo buffalo... buffalo Buffalo buffalo.\" - Can you see how my tone of voice and rythm and pacing conveyed quite a lot of information. That's a tough one to parse from the raw text. I guess there are a lot of mean bison in New York that like to bully each other.\n",
    "\n",
    "Most all of these problems boil down to some level of ambiguity or lack of context. This is what we mean when we say unstructured data. Language often breaks its own rules."
   ]
  },
  {
   "cell_type": "markdown",
   "metadata": {
    "colab_type": "text",
    "id": "sg0paGbWTnHT"
   },
   "source": [
    "![XKCD Pictographs](https://imgs.xkcd.com/comics/inflection_2x.png)"
   ]
  },
  {
   "cell_type": "code",
   "execution_count": null,
   "metadata": {
    "colab": {},
    "colab_type": "code",
    "id": "-JXH3Jpsaud2"
   },
   "outputs": [],
   "source": [
    "# Library imports for this lesson\n",
    "\n",
    "import pandas as pd\n",
    "import re\n",
    "from bs4 import BeautifulSoup\n",
    "import requests"
   ]
  },
  {
   "cell_type": "markdown",
   "metadata": {
    "colab_type": "text",
    "id": "P2JjOBZoGSld"
   },
   "source": [
    "<a id=\"p1\"></a>\n",
    "# Python String Basics"
   ]
  },
  {
   "cell_type": "markdown",
   "metadata": {
    "colab_type": "text",
    "id": "QCpuDX5fkv4G"
   },
   "source": [
    "## Strings as a sequence of characters"
   ]
  },
  {
   "cell_type": "code",
   "execution_count": 4,
   "metadata": {
    "colab": {
     "base_uri": "https://localhost:8080/",
     "height": 67
    },
    "colab_type": "code",
    "id": "4_oMgLE4kzoO",
    "outputId": "a889bece-c878-4870-fd0e-e1b7f63ae50c"
   },
   "outputs": [
    {
     "name": "stdout",
     "output_type": "stream",
     "text": [
      "T\n",
      "h\n",
      "i\n"
     ]
    }
   ],
   "source": [
    "test = \"This is a test string\"\n",
    "\n",
    "# Strings are indexed like lists\n",
    "print(test[0])\n",
    "print(test[1])\n",
    "print(test[2])"
   ]
  },
  {
   "cell_type": "code",
   "execution_count": 5,
   "metadata": {
    "colab": {
     "base_uri": "https://localhost:8080/",
     "height": 67
    },
    "colab_type": "code",
    "id": "FFmMcOcFo3Kf",
    "outputId": "f918cee9-444f-421c-a786-4704de6732e8"
   },
   "outputs": [
    {
     "name": "stdout",
     "output_type": "stream",
     "text": [
      "g\n",
      "n\n",
      "i\n"
     ]
    }
   ],
   "source": [
    "# You can also index strings from the back like lists\n",
    "print(test[-1])\n",
    "print(test[-2])\n",
    "print(test[-3])"
   ]
  },
  {
   "cell_type": "code",
   "execution_count": 6,
   "metadata": {
    "colab": {
     "base_uri": "https://localhost:8080/",
     "height": 370
    },
    "colab_type": "code",
    "id": "RYwg_207lDrK",
    "outputId": "f550d8a9-3bf5-40aa-b97c-aa896b5ee75f"
   },
   "outputs": [
    {
     "name": "stdout",
     "output_type": "stream",
     "text": [
      "T\n",
      "h\n",
      "i\n",
      "s\n",
      " \n",
      "i\n",
      "s\n",
      " \n",
      "a\n",
      " \n",
      "t\n",
      "e\n",
      "s\n",
      "t\n",
      " \n",
      "s\n",
      "t\n",
      "r\n",
      "i\n",
      "n\n",
      "g\n"
     ]
    }
   ],
   "source": [
    "# You can loop over individual characters\n",
    "for character in test:\n",
    "  print(character)"
   ]
  },
  {
   "cell_type": "code",
   "execution_count": null,
   "metadata": {
    "colab": {
     "base_uri": "https://localhost:8080/",
     "height": 213
    },
    "colab_type": "code",
    "id": "77nrRP8mtMHP",
    "outputId": "5dadc0ce-0280-4161-b34a-d1f58c27efb0"
   },
   "outputs": [
    {
     "ename": "TypeError",
     "evalue": "ignored",
     "output_type": "error",
     "traceback": [
      "\u001b[0;31m---------------------------------------------------------------------------\u001b[0m",
      "\u001b[0;31mTypeError\u001b[0m                                 Traceback (most recent call last)",
      "\u001b[0;32m<ipython-input-66-49370e9f1f0a>\u001b[0m in \u001b[0;36m<module>\u001b[0;34m()\u001b[0m\n\u001b[1;32m      1\u001b[0m \u001b[0mhello_string\u001b[0m \u001b[0;34m=\u001b[0m \u001b[0;34m\"hello\"\u001b[0m\u001b[0;34m\u001b[0m\u001b[0;34m\u001b[0m\u001b[0m\n\u001b[0;32m----> 2\u001b[0;31m \u001b[0mhello_string\u001b[0m\u001b[0;34m[\u001b[0m\u001b[0;36m1\u001b[0m\u001b[0;34m]\u001b[0m \u001b[0;34m=\u001b[0m \u001b[0;34m\"a\"\u001b[0m\u001b[0;34m\u001b[0m\u001b[0;34m\u001b[0m\u001b[0m\n\u001b[0m\u001b[1;32m      3\u001b[0m \u001b[0;34m\u001b[0m\u001b[0m\n\u001b[1;32m      4\u001b[0m \u001b[0mprint\u001b[0m\u001b[0;34m(\u001b[0m\u001b[0mhello_string\u001b[0m\u001b[0;34m)\u001b[0m\u001b[0;34m\u001b[0m\u001b[0;34m\u001b[0m\u001b[0m\n",
      "\u001b[0;31mTypeError\u001b[0m: 'str' object does not support item assignment"
     ]
    }
   ],
   "source": [
    "# Strings are \"immutable\" in Python - can't be modified\n",
    "# You can't assign characters in a string to change them.\n",
    "# You would need to create a new string to do this.\n",
    "hello_string = \"hello\"\n",
    "hello_string[1] = \"a\""
   ]
  },
  {
   "cell_type": "markdown",
   "metadata": {
    "colab_type": "text",
    "id": "oj6GySnQjHjK"
   },
   "source": [
    "## len() function"
   ]
  },
  {
   "cell_type": "code",
   "execution_count": 7,
   "metadata": {
    "colab": {
     "base_uri": "https://localhost:8080/",
     "height": 34
    },
    "colab_type": "code",
    "id": "_HPDwh_G0jTC",
    "outputId": "f6b8dbe3-e298-4585-c3a4-87ed059526d6"
   },
   "outputs": [
    {
     "name": "stdout",
     "output_type": "stream",
     "text": [
      "9\n"
     ]
    }
   ],
   "source": [
    "word = \"woooooord\"\n",
    "\n",
    "print(len(word))"
   ]
  },
  {
   "cell_type": "markdown",
   "metadata": {
    "colab_type": "text",
    "id": "FesaJ9yPjHn5"
   },
   "source": [
    "## Type conversion with str()"
   ]
  },
  {
   "cell_type": "code",
   "execution_count": 8,
   "metadata": {
    "colab": {
     "base_uri": "https://localhost:8080/",
     "height": 185
    },
    "colab_type": "code",
    "id": "jLmpF5lL0-QT",
    "outputId": "eb36c9a5-b235-48de-df17-dda84ececfa5"
   },
   "outputs": [
    {
     "name": "stdout",
     "output_type": "stream",
     "text": [
      "<class 'int'>\n",
      "4\n",
      "<class 'float'>\n",
      "3.14159265\n",
      "\n",
      "\n",
      "<class 'str'>\n",
      "4\n",
      "<class 'str'>\n",
      "3.14159265\n"
     ]
    }
   ],
   "source": [
    "my_int = 4\n",
    "my_float = 3.14159265\n",
    "\n",
    "print(type(my_int))\n",
    "print(my_int)\n",
    "print(type(my_float))\n",
    "print(my_float)\n",
    "\n",
    "int_string = str(my_int)\n",
    "float_string = str(my_float)\n",
    "\n",
    "print('\\n')\n",
    "print(type(int_string))\n",
    "print(int_string)\n",
    "print(type(float_string))\n",
    "print(float_string)"
   ]
  },
  {
   "cell_type": "markdown",
   "metadata": {
    "colab_type": "text",
    "id": "UndxuLuHlmx0"
   },
   "source": [
    "## Slice Notation with strings (`:` operator)"
   ]
  },
  {
   "cell_type": "code",
   "execution_count": 9,
   "metadata": {
    "colab": {},
    "colab_type": "code",
    "id": "QJqLDtrVlM1u"
   },
   "outputs": [
    {
     "ename": "NameError",
     "evalue": "name 'a' is not defined",
     "output_type": "error",
     "traceback": [
      "\u001b[0;31m---------------------------------------------------------------------------\u001b[0m",
      "\u001b[0;31mNameError\u001b[0m                                 Traceback (most recent call last)",
      "\u001b[0;32m<ipython-input-9-8b989e8e74b9>\u001b[0m in \u001b[0;36m<module>\u001b[0;34m()\u001b[0m\n\u001b[1;32m      3\u001b[0m \u001b[0;31m# The syntax goes something like this:\u001b[0m\u001b[0;34m\u001b[0m\u001b[0;34m\u001b[0m\u001b[0m\n\u001b[1;32m      4\u001b[0m \u001b[0;34m\u001b[0m\u001b[0m\n\u001b[0;32m----> 5\u001b[0;31m \u001b[0ma\u001b[0m\u001b[0;34m[\u001b[0m\u001b[0mstart\u001b[0m\u001b[0;34m:\u001b[0m\u001b[0mstop\u001b[0m\u001b[0;34m]\u001b[0m  \u001b[0;31m# items start through stop-1 (or you can think start+1 to stop if not zero indexed)\u001b[0m\u001b[0;34m\u001b[0m\u001b[0m\n\u001b[0m\u001b[1;32m      6\u001b[0m \u001b[0ma\u001b[0m\u001b[0;34m[\u001b[0m\u001b[0mstart\u001b[0m\u001b[0;34m:\u001b[0m\u001b[0;34m]\u001b[0m      \u001b[0;31m# items start through the rest of the array\u001b[0m\u001b[0;34m\u001b[0m\u001b[0m\n\u001b[1;32m      7\u001b[0m \u001b[0ma\u001b[0m\u001b[0;34m[\u001b[0m\u001b[0;34m:\u001b[0m\u001b[0mstop\u001b[0m\u001b[0;34m]\u001b[0m       \u001b[0;31m# items from the beginning through stop-1\u001b[0m\u001b[0;34m\u001b[0m\u001b[0m\n",
      "\u001b[0;31mNameError\u001b[0m: name 'a' is not defined"
     ]
    }
   ],
   "source": [
    "# DON'T RUN THIS\n",
    "# You can use slice methods on strings just as you would a list\n",
    "# The syntax goes something like this: \n",
    "\n",
    "a[start:stop]  # items start through stop-1 (or you can think start+1 to stop if not zero indexed)\n",
    "a[start:]      # items start through the rest of the array\n",
    "a[:stop]       # items from the beginning through stop-1\n",
    "a[:]           # a copy of the whole array"
   ]
  },
  {
   "cell_type": "code",
   "execution_count": null,
   "metadata": {
    "colab": {
     "base_uri": "https://localhost:8080/",
     "height": 67
    },
    "colab_type": "code",
    "id": "cVlltpSPl_R0",
    "outputId": "fcd79c4f-12f2-4fc7-a483-111751cbe343"
   },
   "outputs": [
    {
     "name": "stdout",
     "output_type": "stream",
     "text": [
      "test\n",
      "test string\n",
      "This is a test\n"
     ]
    }
   ],
   "source": [
    "# Where you see a colon say to yourself \"go to\" to help remember its function\n",
    "print(test[10:14])\n",
    "print(test[10:])\n",
    "print(test[:14])"
   ]
  },
  {
   "cell_type": "code",
   "execution_count": null,
   "metadata": {
    "colab": {
     "base_uri": "https://localhost:8080/",
     "height": 67
    },
    "colab_type": "code",
    "id": "HsEQYLgZpPEK",
    "outputId": "b9aff395-a234-498a-c671-68aa064ad58f"
   },
   "outputs": [
    {
     "name": "stdout",
     "output_type": "stream",
     "text": [
      "This is a test st\n",
      "\n",
      "ri\n"
     ]
    }
   ],
   "source": [
    "print(test[:-4])\n",
    "\n",
    "# String slicing only works from left -> right\n",
    "# This doesn't work\n",
    "print(test[-2:-4])\n",
    "\n",
    "# But this does\n",
    "print(test[-4:-2])"
   ]
  },
  {
   "cell_type": "code",
   "execution_count": null,
   "metadata": {
    "colab": {
     "base_uri": "https://localhost:8080/",
     "height": 34
    },
    "colab_type": "code",
    "id": "r_ObT-1utpSD",
    "outputId": "71e8cd4d-c421-4eae-9e21-54853f34a05c"
   },
   "outputs": [
    {
     "name": "stdout",
     "output_type": "stream",
     "text": [
      "hallo\n"
     ]
    }
   ],
   "source": [
    "hello_string = \"hello\"\n",
    "# hello_string[1] = \"a\" # This doesn't work, remember?\n",
    "# hello_string[1:2] = \"a\" # Well, this also doesn't work.\n",
    "\n",
    "first_section = hello_string[:1]\n",
    "last_section = hello_string[2:]\n",
    "\n",
    "hallo_string = first_section + \"a\" + last_section\n",
    "print(hallo_string)\n",
    "\n",
    "# This is still not a great solution, we'll look at a better one in a minute."
   ]
  },
  {
   "cell_type": "markdown",
   "metadata": {
    "colab_type": "text",
    "id": "9itW9gV4jdRw"
   },
   "source": [
    "## The `in` Operator"
   ]
  },
  {
   "cell_type": "code",
   "execution_count": null,
   "metadata": {
    "colab": {
     "base_uri": "https://localhost:8080/",
     "height": 50
    },
    "colab_type": "code",
    "id": "1oOiira6oHua",
    "outputId": "6afdc3ef-5b98-4b7d-f750-f76c6cd230e3"
   },
   "outputs": [
    {
     "name": "stdout",
     "output_type": "stream",
     "text": [
      "True\n",
      "False\n"
     ]
    }
   ],
   "source": [
    "test = \"This is a test string\"\n",
    "\n",
    "search_string = \"test\"\n",
    "\n",
    "print(search_string in test)\n",
    "\n",
    "search_string = \"testing\"\n",
    "\n",
    "print(search_string in test)"
   ]
  },
  {
   "cell_type": "markdown",
   "metadata": {
    "colab_type": "text",
    "id": "KgRrA5ekjHc7"
   },
   "source": [
    "## The `+` Operator (Concatenation)"
   ]
  },
  {
   "cell_type": "code",
   "execution_count": null,
   "metadata": {
    "colab": {
     "base_uri": "https://localhost:8080/",
     "height": 50
    },
    "colab_type": "code",
    "id": "v-nGBeV8jhsd",
    "outputId": "0e8cc7c3-5842-4059-bd9c-c60916492e97"
   },
   "outputs": [
    {
     "name": "stdout",
     "output_type": "stream",
     "text": [
      "Combinestringsintoone.\n",
      "Combine strings into one.\n"
     ]
    }
   ],
   "source": [
    "no_space_phrase = \"Combine\" + \"strings\" + \"into\" + \"one\" + \".\"\n",
    "print(no_space_phrase)\n",
    "\n",
    "# When using \"+\" you have to add your own separators.\n",
    "my_phrase = \"Combine\" + \" \" + \"strings\" + \" \" + \"into\" + \" \" + \"one\" + \".\"\n",
    "print(my_phrase)"
   ]
  },
  {
   "cell_type": "code",
   "execution_count": null,
   "metadata": {
    "colab": {
     "base_uri": "https://localhost:8080/",
     "height": 34
    },
    "colab_type": "code",
    "id": "GDcum64rkivK",
    "outputId": "0e25ac1c-c75d-4de8-bbf3-163f84116056"
   },
   "outputs": [
    {
     "name": "stdout",
     "output_type": "stream",
     "text": [
      "March 14, 2018\n"
     ]
    }
   ],
   "source": [
    "year = \"2018\"\n",
    "month = \"March\"\n",
    "day = \"14\"\n",
    "\n",
    "pi_day = month + \" \" + day + \", \" + year\n",
    "\n",
    "print(pi_day)"
   ]
  },
  {
   "cell_type": "markdown",
   "metadata": {
    "colab_type": "text",
    "id": "anF_KWMMkOtV"
   },
   "source": [
    "## `.join(<iterable>)` "
   ]
  },
  {
   "cell_type": "code",
   "execution_count": null,
   "metadata": {
    "colab": {
     "base_uri": "https://localhost:8080/",
     "height": 134
    },
    "colab_type": "code",
    "id": "OE0wom97p7Ow",
    "outputId": "9bca1e45-f848-4afc-f66f-e5f165295aee"
   },
   "outputs": [
    {
     "name": "stdout",
     "output_type": "stream",
     "text": [
      "ri\n",
      "['are']\n",
      "are\n",
      "r\n",
      "Thesearesomestringsinalist\n",
      "These are some strings in a list\n",
      "These, are, some, strings, in, a, list\n"
     ]
    }
   ],
   "source": [
    "word_list = [\"These\", \"are\", \"some\", \"strings\", \"in\", \"a\", \"list\"]\n",
    "\n",
    "# If an individual string is indexable does that make this a 2d list?\n",
    "print(word_list[3][2:4])\n",
    "print(word_list[1:2]) # Returns a list\n",
    "print(word_list[1:2][0]) #Gets the first item in that list\n",
    "print(word_list[1:2][0][1:2]) # gets the second letter of the second item in word_list\n",
    "\n",
    "\n",
    "# The .join() operator can concatenate strings in a list with some kind of separator\n",
    "\n",
    "#.join for multiple\n",
    "no_spaces = \"\".join(word_list)\n",
    "print(no_spaces)\n",
    "\n",
    "with_spaces = \" \".join(word_list)\n",
    "print(with_spaces)\n",
    "\n",
    "comma_separated = \", \".join(word_list)\n",
    "print(comma_separated)"
   ]
  },
  {
   "cell_type": "markdown",
   "metadata": {
    "colab_type": "text",
    "id": "c6gk2yZCn97M"
   },
   "source": [
    "## `.split(<sep>)`\n",
    "The opposite of .join()"
   ]
  },
  {
   "cell_type": "code",
   "execution_count": null,
   "metadata": {
    "colab": {
     "base_uri": "https://localhost:8080/",
     "height": 50
    },
    "colab_type": "code",
    "id": "eijC9uCljiLW",
    "outputId": "9bba41dc-dc54-4b97-9859-85e26223275c"
   },
   "outputs": [
    {
     "name": "stdout",
     "output_type": "stream",
     "text": [
      "['These', 'are', 'some', 'strings', 'in', 'a', 'list']\n",
      "These are some strings in a list.\n"
     ]
    }
   ],
   "source": [
    "split_me = \"These are some strings in a list\"\n",
    "\n",
    "words = split_me.split(\" \")\n",
    "\n",
    "print(words)\n",
    "\n",
    "put_it_back = \" \".join(words)\n",
    "\n",
    "print(put_it_back+\".\")"
   ]
  },
  {
   "cell_type": "code",
   "execution_count": null,
   "metadata": {
    "colab": {
     "base_uri": "https://localhost:8080/",
     "height": 67
    },
    "colab_type": "code",
    "id": "Vq5zKu9e2To2",
    "outputId": "28ce04aa-354d-4ece-abd5-79fce794c3e3"
   },
   "outputs": [
    {
     "name": "stdout",
     "output_type": "stream",
     "text": [
      "['h', 'e', 'l', 'l', 'o']\n",
      "['h', 'a', 'l', 'l', 'o']\n",
      "hallo\n"
     ]
    }
   ],
   "source": [
    "# Turn a string into a list of characters\n",
    "\n",
    "hello_string = \"hello\"\n",
    "\n",
    "# hello_list = hello_string.split(\"\") # This doesn't work either.\n",
    "# print(hello_list)\n",
    "\n",
    "hello_list = list(hello_string)\n",
    "print(hello_list)\n",
    "\n",
    "hello_list[1] = \"a\"\n",
    "\n",
    "print(hello_list)\n",
    "\n",
    "hallo_string = ''.join(hello_list)\n",
    "print(hallo_string) "
   ]
  },
  {
   "cell_type": "markdown",
   "metadata": {
    "colab_type": "text",
    "id": "2Zp4X0H3jHqf"
   },
   "source": [
    "## `.partition(<sep>)`\n",
    "\n",
    "Say you want to split up a string but you don't want to remove the separator character."
   ]
  },
  {
   "cell_type": "code",
   "execution_count": null,
   "metadata": {
    "colab": {
     "base_uri": "https://localhost:8080/",
     "height": 34
    },
    "colab_type": "code",
    "id": "VXEgPsmf7QgG",
    "outputId": "c1e60a94-86df-4377-b65c-6dffa89a0d46"
   },
   "outputs": [
    {
     "name": "stdout",
     "output_type": "stream",
     "text": [
      "('ryan.allred', '@', 'lambdaschool.com')\n"
     ]
    }
   ],
   "source": [
    "email = 'ryan.allred@lambdaschool.com'\n",
    "\n",
    "partitioned_email = email.partition(\"@\")\n",
    "print(partitioned_email)"
   ]
  },
  {
   "cell_type": "markdown",
   "metadata": {
    "colab_type": "text",
    "id": "Uyfhn1Q8nKNl"
   },
   "source": [
    "## `.upper()` and `.lower()` methods"
   ]
  },
  {
   "cell_type": "code",
   "execution_count": null,
   "metadata": {
    "colab": {
     "base_uri": "https://localhost:8080/",
     "height": 50
    },
    "colab_type": "code",
    "id": "HVmLAnzCngsn",
    "outputId": "ca7253fc-494d-4b0f-d55a-1533634ec051"
   },
   "outputs": [
    {
     "name": "stdout",
     "output_type": "stream",
     "text": [
      "Uppercase: RYAN ALLRED\n",
      "Lowercase: ryan allred\n"
     ]
    }
   ],
   "source": [
    "name = \"Ryan Allred\"\n",
    "\n",
    "print(\"Uppercase:\", name.upper())\n",
    "\n",
    "print(\"Lowercase:\", name.lower())"
   ]
  },
  {
   "cell_type": "markdown",
   "metadata": {
    "colab_type": "text",
    "id": "zBDQC4qCUXvC"
   },
   "source": [
    "# String Interpolation \n",
    "\n",
    "Inserting values into a string "
   ]
  },
  {
   "cell_type": "markdown",
   "metadata": {
    "colab_type": "text",
    "id": "9ibOpkyrY4s5"
   },
   "source": [
    "## Printing separated by commas"
   ]
  },
  {
   "cell_type": "code",
   "execution_count": null,
   "metadata": {
    "colab": {
     "base_uri": "https://localhost:8080/",
     "height": 34
    },
    "colab_type": "code",
    "id": "X_enGujZZJRk",
    "outputId": "7b74558c-3bea-41f1-a772-edf057e8f3d8"
   },
   "outputs": [
    {
     "name": "stdout",
     "output_type": "stream",
     "text": [
      "The speed limit is 70 miles per hour.\n"
     ]
    }
   ],
   "source": [
    "speed_limit = 70\n",
    "\n",
    "print(\"The speed limit is\", speed_limit, \"miles per hour.\")"
   ]
  },
  {
   "cell_type": "markdown",
   "metadata": {
    "colab_type": "text",
    "id": "usF3mDqTWsI_"
   },
   "source": [
    "## %s-formatting (the old-school way)"
   ]
  },
  {
   "cell_type": "markdown",
   "metadata": {
    "colab_type": "text",
    "id": "EfO0sYEkXde8"
   },
   "source": [
    "This method can get unwieldy if you have a lot of variables. You have to match arguments to inserts to follow what's happening. "
   ]
  },
  {
   "cell_type": "markdown",
   "metadata": {
    "colab_type": "text",
    "id": "zmoAO3N1hl6n"
   },
   "source": [
    "The syntax becomes particularly ugly if your values are stored in a dictionary."
   ]
  },
  {
   "cell_type": "markdown",
   "metadata": {
    "colab_type": "text",
    "id": "8AlGjQPGelrt"
   },
   "source": [
    "## `.format()` - The new old-school way - As of Python 3.1 \n",
    "More explicit, and that's good, but more verbose."
   ]
  },
  {
   "cell_type": "code",
   "execution_count": null,
   "metadata": {
    "colab": {
     "base_uri": "https://localhost:8080/",
     "height": 50
    },
    "colab_type": "code",
    "id": "qLQltsNsewRj",
    "outputId": "b5b25cbc-c0a0-43eb-fd19-46635faf6b03"
   },
   "outputs": [
    {
     "name": "stdout",
     "output_type": "stream",
     "text": [
      "On March 14, 2018 the forecast was sunny with a high of \n",
      "      52 and a low of 34.\n"
     ]
    }
   ],
   "source": [
    "day = 14\n",
    "month = \"March\"\n",
    "year = 2018\n",
    "forecast = \"sunny\"\n",
    "high = 52.287\n",
    "low = 33.543\n",
    "\n",
    "print('''On {month} {day}, {year} the forecast was {forecast} with a high of \n",
    "      {high:.0f} and a low of {low:.0f}.'''.format(month=month, day=day, \n",
    "                                                   year=year, forecast=forecast, \n",
    "                                                   high=high, low=low))"
   ]
  },
  {
   "cell_type": "markdown",
   "metadata": {
    "colab_type": "text",
    "id": "g6CfffRfjhN9"
   },
   "source": [
    "You can omit the inner variables to make things a little shorter, but then it's less explicit. "
   ]
  },
  {
   "cell_type": "code",
   "execution_count": null,
   "metadata": {
    "colab": {
     "base_uri": "https://localhost:8080/",
     "height": 50
    },
    "colab_type": "code",
    "id": "Y1AecQdfjnFJ",
    "outputId": "674dad0a-3f1f-439d-c5f3-db96a531a510"
   },
   "outputs": [
    {
     "name": "stdout",
     "output_type": "stream",
     "text": [
      "On March 14, 2018 the forecast was sunny with a high of 52 and a low of \n",
      "      34.\n"
     ]
    }
   ],
   "source": [
    "day = 14\n",
    "month = \"March\"\n",
    "year = 2018\n",
    "forecast = \"sunny\"\n",
    "high = 52.287\n",
    "low = 33.543\n",
    "\n",
    "print('''On {} {}, {} the forecast was {} with a high of {:.0f} and a low of \n",
    "      {:.0f}.'''.format(month, day, year, forecast, high, low))"
   ]
  },
  {
   "cell_type": "markdown",
   "metadata": {
    "colab_type": "text",
    "id": "1pn_CP-2kF4c"
   },
   "source": [
    "Imagine if you wanted both explicitness and your values were stored in a dictionary. "
   ]
  },
  {
   "cell_type": "code",
   "execution_count": null,
   "metadata": {
    "colab": {
     "base_uri": "https://localhost:8080/",
     "height": 50
    },
    "colab_type": "code",
    "id": "769qCMykkMFI",
    "outputId": "8e43c390-0fee-4f51-cbeb-505dd3b55367"
   },
   "outputs": [
    {
     "name": "stdout",
     "output_type": "stream",
     "text": [
      "On March 14, 2018 the forecast was sunny with a high of \n",
      "      52 and a low of 34.\n"
     ]
    }
   ],
   "source": [
    "weather_dict = {\n",
    "    'day': 14,\n",
    "    'month': 'March',\n",
    "    'year': 2018,\n",
    "    'forecast': 'sunny',\n",
    "    'high': 52.287,\n",
    "    'low': 33.543\n",
    "}\n",
    "\n",
    "print('''On {month} {day}, {year} the forecast was {forecast} with a high of \n",
    "      {high:.0f} and a low of {low:.0f}.'''.format(month=weather_dict['month'], day=weather_dict['day'], \n",
    "                                                   year=weather_dict['year'], forecast=weather_dict['forecast'], \n",
    "                                                   high=weather_dict['high'], low=weather_dict['low']))"
   ]
  },
  {
   "cell_type": "markdown",
   "metadata": {
    "colab_type": "text",
    "id": "BwpiL5idZYxF"
   },
   "source": [
    "## f-strings - The new-school way - As of Python 3.6 \n",
    "\n",
    "f-strings are great because they are be both explicit and succinct.\n",
    "\n"
   ]
  },
  {
   "cell_type": "code",
   "execution_count": null,
   "metadata": {
    "colab": {
     "base_uri": "https://localhost:8080/",
     "height": 67
    },
    "colab_type": "code",
    "id": "gHcmkmPSknPC",
    "outputId": "699dc06c-b63f-4c2a-d652-3120351d5607"
   },
   "outputs": [
    {
     "name": "stdout",
     "output_type": "stream",
     "text": [
      "On March 14, 2018 \n",
      "      the forecast was sunny with a high of 52 \n",
      "      and a low of 34.\n"
     ]
    }
   ],
   "source": [
    "weather_dict = {\n",
    "    'day': 14,\n",
    "    'month': 'March',\n",
    "    'year': 2018,\n",
    "    'forecast': 'sunny',\n",
    "    'high': 52.287,\n",
    "    'low': 33.543\n",
    "}\n",
    "\n",
    "print(f'''On {weather_dict['month']} {weather_dict['day']}, {weather_dict['year']} \n",
    "      the forecast was {weather_dict['forecast']} with a high of {weather_dict['high']:.0f} \n",
    "      and a low of {weather_dict['low']:.0f}.''')"
   ]
  },
  {
   "cell_type": "code",
   "execution_count": null,
   "metadata": {
    "colab": {
     "base_uri": "https://localhost:8080/",
     "height": 118
    },
    "colab_type": "code",
    "id": "oqFeaKxnUeG0",
    "outputId": "4c3775ae-c812-48cb-b177-f9cff145d394"
   },
   "outputs": [
    {
     "name": "stdout",
     "output_type": "stream",
     "text": [
      "A dog says Bark!\n",
      "A dog says Bark!\n",
      "A dog says Bark!\n",
      "\n",
      "\n",
      "A dog says BARK!\n"
     ]
    }
   ],
   "source": [
    "# This works with any kind of string syntax:\n",
    "dog_noise = 'Bark'\n",
    "\n",
    "print(f'A dog says {dog_noise}!')\n",
    "print(f\"A dog says {dog_noise}!\")\n",
    "print(f'''A dog says {dog_noise}!''')\n",
    "\n",
    "# You can also call functions within them which is pretty cool.\n",
    "print('\\n')\n",
    "print(f'A dog says {dog_noise.upper()}!')"
   ]
  },
  {
   "cell_type": "markdown",
   "metadata": {
    "colab_type": "text",
    "id": "1r_cHtP2OXE2"
   },
   "source": [
    "# Escape Characters and Whitespace in Text\n",
    "\n",
    "Sometimes there are symbols in text that you don't want to be recognized as their literall string characters. To indicate to the python interpreter that these characters have special meaning, we proceed them with a backslash \"\\\". This backslash says that whatever character lies after it has a special function."
   ]
  },
  {
   "cell_type": "markdown",
   "metadata": {
    "colab_type": "text",
    "id": "VpKr3TjDSekM"
   },
   "source": [
    "## Escape Characters for Quotes"
   ]
  },
  {
   "cell_type": "code",
   "execution_count": null,
   "metadata": {
    "colab": {
     "base_uri": "https://localhost:8080/",
     "height": 50
    },
    "colab_type": "code",
    "id": "xjTqwdoyPCJk",
    "outputId": "2900767d-b743-4da4-9b19-06e8d5ffd9c6"
   },
   "outputs": [
    {
     "name": "stdout",
     "output_type": "stream",
     "text": [
      "He said, \"I want double quotes inside of double quotes.\"\n",
      "He's also using single quotes inside of single quotes.\n"
     ]
    }
   ],
   "source": [
    "print(\"He said, \\\"I want double quotes inside of double quotes.\\\"\")\n",
    "print('He\\'s also using single quotes inside of single quotes.')"
   ]
  },
  {
   "cell_type": "markdown",
   "metadata": {
    "colab_type": "text",
    "id": "kAsbIQUsT4WG"
   },
   "source": [
    "## Escape Characters for Whitespace"
   ]
  },
  {
   "cell_type": "code",
   "execution_count": null,
   "metadata": {
    "colab": {
     "base_uri": "https://localhost:8080/",
     "height": 118
    },
    "colab_type": "code",
    "id": "ULaIvb2yTPAS",
    "outputId": "ffa6e0df-3aad-4e6e-c750-b7960de22393"
   },
   "outputs": [
    {
     "name": "stdout",
     "output_type": "stream",
     "text": [
      "single space\n",
      "---------------\n",
      "tabbed\tspace\n",
      "---------------\n",
      "newline\n",
      "character\n"
     ]
    }
   ],
   "source": [
    "print(\"single space\")\n",
    "print(\"---------------\")\n",
    "print(\"tabbed\\tspace\") # \\t\n",
    "print(\"---------------\")\n",
    "print(\"newline\\ncharacter\") # \\n"
   ]
  },
  {
   "cell_type": "markdown",
   "metadata": {
    "colab_type": "text",
    "id": "alFbr5QXn-hh"
   },
   "source": [
    "## Cleaning irregular whitespace."
   ]
  },
  {
   "cell_type": "code",
   "execution_count": null,
   "metadata": {
    "colab": {
     "base_uri": "https://localhost:8080/",
     "height": 134
    },
    "colab_type": "code",
    "id": "42bo4iB_oFPL",
    "outputId": "7a4b1037-27c6-4060-ca1b-16e23d2fe6ee"
   },
   "outputs": [
    {
     "name": "stdout",
     "output_type": "stream",
     "text": [
      "     This   is a \t\t sentence with \n",
      "   lots    of  \t spaces.     \n",
      "-------------\n",
      "This   is a \t\t sentence with \n",
      "   lots    of  \t spaces.\n",
      "-------------\n",
      "This is a sentence with lots of spaces.\n"
     ]
    }
   ],
   "source": [
    "spacey_sentence = \"     This   is a \\t\\t sentence with \\n   lots    of  \\t spaces.     \"\n",
    "print(spacey_sentence)\n",
    "print('-------------')\n",
    "# Strip whitespace from the beginning and end of the string\n",
    "print(spacey_sentence.strip())\n",
    "print('-------------')\n",
    "# Make all multiple spaces single spaces and remove beginning and end spaces\n",
    "print(\" \".join(spacey_sentence.split()))"
   ]
  },
  {
   "cell_type": "markdown",
   "metadata": {
    "colab_type": "text",
    "id": "KteS7NPcO_36"
   },
   "source": [
    "## Raw Strings\n",
    "\n",
    "A Python raw string (also called a \"raw string literal\") is created by prefixing a string literal with ‘r’ or ‘R’. Python raw strings treat backslashes `\\` as a literal character. This is useful when we want to have a string that contains backslash and don’t want it to be treated as an escape character."
   ]
  },
  {
   "cell_type": "code",
   "execution_count": null,
   "metadata": {
    "colab": {
     "base_uri": "https://localhost:8080/",
     "height": 50
    },
    "colab_type": "code",
    "id": "JVdnPumLPCwR",
    "outputId": "613b9f30-afa8-4343-f672-fa863def191b"
   },
   "outputs": [
    {
     "name": "stdout",
     "output_type": "stream",
     "text": [
      "Hi\n",
      "Hello\n"
     ]
    }
   ],
   "source": [
    "greeting = 'Hi\\nHello'\n",
    "print(greeting)"
   ]
  },
  {
   "cell_type": "code",
   "execution_count": null,
   "metadata": {
    "colab": {
     "base_uri": "https://localhost:8080/",
     "height": 34
    },
    "colab_type": "code",
    "id": "4kH3msMBzuVw",
    "outputId": "2c5fb8b1-985e-44f0-a39d-c2c12a651fa6"
   },
   "outputs": [
    {
     "name": "stdout",
     "output_type": "stream",
     "text": [
      "Hi\\nHello\n"
     ]
    }
   ],
   "source": [
    "greeting = r'Hi\\nHello'\n",
    "print(greeting)"
   ]
  },
  {
   "cell_type": "markdown",
   "metadata": {
    "colab_type": "text",
    "id": "q8lj1AVYXCgE"
   },
   "source": [
    "# Regular Expressions\n",
    "\n",
    "A RegEx, or Regular Expression, is a sequence of characters that forms a search pattern.\n",
    "\n",
    "RegEx can be used to check if a string contains the specified search pattern.\n",
    "\n",
    "Regular Expressions aren't specific to any single programming language but are a standalone syntax that is more or less standard among programming langues, so these skills will help you no matter the language that you're working with.  \n",
    "\n",
    "The only downside with regular expressions is that the syntax is pretty abstract, but with a little bit of practice  **and a lot of references to cheat sheets** we can make it happen.\n",
    "\n",
    "### Here are some cheat sheets for your reference: \n",
    "\n",
    "<https://www.debuggex.com/cheatsheet/regex/python>\n",
    "\n",
    "<https://www.dataquest.io/blog/regex-cheatsheet>"
   ]
  },
  {
   "cell_type": "code",
   "execution_count": 4,
   "metadata": {
    "colab": {},
    "colab_type": "code",
    "id": "WsGFT-0XMIZP"
   },
   "outputs": [],
   "source": [
    "import re"
   ]
  },
  {
   "cell_type": "markdown",
   "metadata": {
    "colab_type": "text",
    "id": "0u3JsvrL2IxV"
   },
   "source": [
    "When using regular expressions in Python it is recommended that you use raw strings instead of regular Python strings so that we can easily interpret whitespace (and other escaped characters) by their escape character sequence."
   ]
  },
  {
   "cell_type": "markdown",
   "metadata": {
    "colab_type": "text",
    "id": "mHP8VO1E2d6i"
   },
   "source": [
    "## Single Letter Matching"
   ]
  },
  {
   "cell_type": "code",
   "execution_count": 6,
   "metadata": {
    "colab": {
     "base_uri": "https://localhost:8080/",
     "height": 84
    },
    "colab_type": "code",
    "id": "fmz-J-GP2hNu",
    "outputId": "b6197100-dfc0-4747-f69d-19ace81010d0"
   },
   "outputs": [
    {
     "name": "stdout",
     "output_type": "stream",
     "text": [
      "<re.Match object; span=(1, 2), match='u'>\n",
      "u\n",
      "Slice indices for this string: 1 2\n",
      "u\n"
     ]
    }
   ],
   "source": [
    "# matchObject = re.search(pattern, input_str)\n",
    "\n",
    "# Search for the first lowercase letter\n",
    "regex = r\"[a-z]\" \n",
    "match = re.search(regex, \"June 24\")\n",
    "\n",
    "# Look at the match object\n",
    "print(match)\n",
    "\n",
    "# Look at the matching string\n",
    "print(match[0])\n",
    "\n",
    "# Look at slice indices and grab the match manually\n",
    "print(\"Slice indices for this string:\", match.start(), match.end())\n",
    "print(\"June 24\"[match.start():match.end()])"
   ]
  },
  {
   "cell_type": "code",
   "execution_count": 7,
   "metadata": {
    "colab": {
     "base_uri": "https://localhost:8080/",
     "height": 50
    },
    "colab_type": "code",
    "id": "nHOLIsyy4a-I",
    "outputId": "502488fd-47de-4650-a98b-319fca064b89"
   },
   "outputs": [
    {
     "name": "stdout",
     "output_type": "stream",
     "text": [
      "<re.Match object; span=(0, 1), match='J'>\n",
      "J\n"
     ]
    }
   ],
   "source": [
    "# Search for the first uppercase letter\n",
    "regex = r\"[A-Z]\" \n",
    "\n",
    "search_result = re.search(regex, \"June 24\")\n",
    "print(search_result)\n",
    "\n",
    "print(search_result[0])"
   ]
  },
  {
   "cell_type": "code",
   "execution_count": 8,
   "metadata": {
    "colab": {
     "base_uri": "https://localhost:8080/",
     "height": 50
    },
    "colab_type": "code",
    "id": "HbuI6Few4lKd",
    "outputId": "8e7833b2-1514-4959-f806-13c8201d2c7c"
   },
   "outputs": [
    {
     "name": "stdout",
     "output_type": "stream",
     "text": [
      "<re.Match object; span=(0, 4), match='June'>\n",
      "June\n"
     ]
    }
   ],
   "source": [
    "# Search for groups of 1 or more uppercase or lowercase letters (word things)\n",
    "regex = r\"[a-zA-Z]+\" \n",
    "\n",
    "search_result = re.search(regex, \"June 24\")\n",
    "print(search_result)\n",
    "\n",
    "print(search_result[0])"
   ]
  },
  {
   "cell_type": "code",
   "execution_count": null,
   "metadata": {},
   "outputs": [],
   "source": []
  },
  {
   "cell_type": "markdown",
   "metadata": {
    "colab_type": "text",
    "id": "Q3CJadx57MM7"
   },
   "source": [
    "## Multiple Matches"
   ]
  },
  {
   "cell_type": "code",
   "execution_count": 9,
   "metadata": {
    "colab": {
     "base_uri": "https://localhost:8080/",
     "height": 84
    },
    "colab_type": "code",
    "id": "hLCsDZg95N4r",
    "outputId": "79575b2b-5152-49af-a335-97b54aa0cdf1"
   },
   "outputs": [
    {
     "name": "stdout",
     "output_type": "stream",
     "text": [
      "['June', 'other', 'thing', 'February', 'doesn', 't', 'match', 'March']\n",
      "June\n",
      "other\n",
      "thing\n",
      "February\n",
      "doesn\n",
      "t\n",
      "match\n",
      "March\n"
     ]
    }
   ],
   "source": [
    "# Search for groups of 1 or more letters\n",
    "regex = r\"[a-zA-Z]+\" \n",
    "\n",
    "string = \"June 24, other thing, February 6, doesn't match, March 14\"\n",
    "\n",
    "# .findall() returns a list of the matching strings\n",
    "search_result = re.findall(regex, string)\n",
    "print(search_result)\n",
    "\n",
    "for match in search_result:\n",
    "  print(match)"
   ]
  },
  {
   "cell_type": "code",
   "execution_count": null,
   "metadata": {},
   "outputs": [],
   "source": []
  },
  {
   "cell_type": "code",
   "execution_count": 10,
   "metadata": {
    "colab": {
     "base_uri": "https://localhost:8080/",
     "height": 168
    },
    "colab_type": "code",
    "id": "YM393zbk7voX",
    "outputId": "fdbcb008-8eb3-4e94-cc43-c8d423fd0166"
   },
   "outputs": [
    {
     "name": "stdout",
     "output_type": "stream",
     "text": [
      "The string starts at 0 and ends at 4\n",
      "The string is June\n",
      "--------------\n",
      "The string starts at 9 and ends at 14\n",
      "The string is other\n",
      "--------------\n",
      "The string starts at 15 and ends at 20\n",
      "The string is thing\n",
      "--------------\n",
      "The string starts at 22 and ends at 30\n",
      "The string is February\n",
      "--------------\n",
      "The string starts at 34 and ends at 39\n",
      "The string is doesn\n",
      "--------------\n",
      "The string starts at 40 and ends at 41\n",
      "The string is t\n",
      "--------------\n",
      "The string starts at 42 and ends at 47\n",
      "The string is match\n",
      "--------------\n",
      "The string starts at 49 and ends at 54\n",
      "The string is March\n",
      "--------------\n"
     ]
    }
   ],
   "source": [
    "# Search for groups of 1 or more letters\n",
    "regex = r\"[a-zA-Z]+\" \n",
    "\n",
    "string = \"June 24, other thing, February 6, doesn't match, March 14\"\n",
    "\n",
    "# finditer returns a list of match objects \n",
    "search_result = re.finditer(regex, string)\n",
    "\n",
    "for match in search_result:\n",
    "  start = match.start()\n",
    "  end = match.end()\n",
    "  print(f\"The string starts at {start} and ends at {end}\")\n",
    "  print(f\"The string is {match[0]}\")\n",
    "#   print(f\"The string is {string[start:end]}\")\n",
    "  print('--------------')"
   ]
  },
  {
   "cell_type": "code",
   "execution_count": null,
   "metadata": {},
   "outputs": [],
   "source": []
  },
  {
   "cell_type": "markdown",
   "metadata": {
    "colab_type": "text",
    "id": "aRlv8hx4Etu1"
   },
   "source": [
    "## Capture Groups"
   ]
  },
  {
   "cell_type": "code",
   "execution_count": null,
   "metadata": {
    "colab": {
     "base_uri": "https://localhost:8080/",
     "height": 84
    },
    "colab_type": "code",
    "id": "KB67uJtHEvtv",
    "outputId": "497f2da1-22fd-4c72-bcb1-cef879367604"
   },
   "outputs": [
    {
     "name": "stdout",
     "output_type": "stream",
     "text": [
      "['June 24', 'February 6', 'March 14']\n",
      "June 24\n",
      "February 6\n",
      "March 14\n"
     ]
    }
   ],
   "source": [
    "# Capture something that matches date\n",
    "regex = r\"[a-zA-Z]+ \\d+\" \n",
    "\n",
    "string = \"June 24, other thing, February 6, doesn't match, March 14\"\n",
    "\n",
    "search_result = re.findall(regex, string)\n",
    "print(search_result)\n",
    "\n",
    "for match in search_result:\n",
    "  print(match)"
   ]
  },
  {
   "cell_type": "code",
   "execution_count": 11,
   "metadata": {
    "colab": {
     "base_uri": "https://localhost:8080/",
     "height": 84
    },
    "colab_type": "code",
    "id": "pmP_MqlHFO9e",
    "outputId": "872a22d2-50e4-4a87-e7bb-93aa9e400087"
   },
   "outputs": [
    {
     "name": "stdout",
     "output_type": "stream",
     "text": [
      "['June', 'February', 'March']\n",
      "June\n",
      "February\n",
      "March\n"
     ]
    }
   ],
   "source": [
    "# Capture something that matches date but only capture the month\n",
    "regex = r\"([a-zA-Z]+) \\d+\" \n",
    "\n",
    "string = \"June 24, other thing, February 6, doesn't match, March 14\"\n",
    "\n",
    "search_result = re.findall(regex, string)\n",
    "print(search_result)\n",
    "\n",
    "for match in search_result:\n",
    "  print(match)"
   ]
  },
  {
   "cell_type": "code",
   "execution_count": null,
   "metadata": {},
   "outputs": [],
   "source": []
  },
  {
   "cell_type": "code",
   "execution_count": 14,
   "metadata": {
    "colab": {
     "base_uri": "https://localhost:8080/",
     "height": 84
    },
    "colab_type": "code",
    "id": "xjqL1VJiGUfS",
    "outputId": "388f5a86-9eb0-4e5c-a5c2-cfe222b5fe87"
   },
   "outputs": [
    {
     "name": "stdout",
     "output_type": "stream",
     "text": [
      "[('June', '24'), ('February', '6'), ('March', '14')]\n",
      "('June', '24')\n",
      "('February', '6')\n",
      "('March', '14')\n"
     ]
    }
   ],
   "source": [
    "# Capture both month and day separately\n",
    "regex = r\"([a-zA-Z]+) (\\d+)\" \n",
    "\n",
    "string = \"June 24, other thing, February 6, doesn't match, March 14\"\n",
    "\n",
    "search_result = re.findall(regex, string)\n",
    "print(search_result)\n",
    "\n",
    "for match in search_result:\n",
    "  print(match)"
   ]
  },
  {
   "cell_type": "markdown",
   "metadata": {
    "colab_type": "text",
    "id": "5CR8IP5ZaolV"
   },
   "source": [
    "Lists of tuples are great because they go into dataframes easily!"
   ]
  },
  {
   "cell_type": "code",
   "execution_count": 17,
   "metadata": {
    "colab": {
     "base_uri": "https://localhost:8080/",
     "height": 136
    },
    "colab_type": "code",
    "id": "-avn9pp2aoC6",
    "outputId": "01da71f7-5055-47b3-be6a-08c09435e52b"
   },
   "outputs": [
    {
     "data": {
      "text/html": [
       "<div>\n",
       "<style scoped>\n",
       "    .dataframe tbody tr th:only-of-type {\n",
       "        vertical-align: middle;\n",
       "    }\n",
       "\n",
       "    .dataframe tbody tr th {\n",
       "        vertical-align: top;\n",
       "    }\n",
       "\n",
       "    .dataframe thead th {\n",
       "        text-align: right;\n",
       "    }\n",
       "</style>\n",
       "<table border=\"1\" class=\"dataframe\">\n",
       "  <thead>\n",
       "    <tr style=\"text-align: right;\">\n",
       "      <th></th>\n",
       "      <th>Month</th>\n",
       "      <th>Day</th>\n",
       "    </tr>\n",
       "  </thead>\n",
       "  <tbody>\n",
       "    <tr>\n",
       "      <th>0</th>\n",
       "      <td>June</td>\n",
       "      <td>24</td>\n",
       "    </tr>\n",
       "    <tr>\n",
       "      <th>1</th>\n",
       "      <td>February</td>\n",
       "      <td>6</td>\n",
       "    </tr>\n",
       "    <tr>\n",
       "      <th>2</th>\n",
       "      <td>March</td>\n",
       "      <td>14</td>\n",
       "    </tr>\n",
       "  </tbody>\n",
       "</table>\n",
       "</div>"
      ],
      "text/plain": [
       "      Month Day\n",
       "0      June  24\n",
       "1  February   6\n",
       "2     March  14"
      ]
     },
     "execution_count": 17,
     "metadata": {},
     "output_type": "execute_result"
    }
   ],
   "source": [
    "df = pd.DataFrame(search_result, columns=['Month', 'Day'])\n",
    "df.head()"
   ]
  },
  {
   "cell_type": "markdown",
   "metadata": {
    "colab_type": "text",
    "id": "HFk7opjwal3l"
   },
   "source": [
    "# Regex Practice"
   ]
  },
  {
   "cell_type": "code",
   "execution_count": 18,
   "metadata": {
    "colab": {},
    "colab_type": "code",
    "id": "ju-2-U2i0D8o"
   },
   "outputs": [],
   "source": [
    "text_to_search = '''\n",
    "abcdefghijklmnopqrstuvwxyz\n",
    "ABCDEFGHIJKLMNOPQRSTUVWXYZ\n",
    "1234567890\n",
    "\n",
    "lambdaschool.com\n",
    "numpy.org\n",
    "pythonprogramming.net\n",
    "\n",
    "http://www.LambdaSchool.com\n",
    "http://www.google.com\n",
    "https://www.twitter.com\n",
    "\n",
    "8014893087\n",
    "801-489-8116\n",
    "801.491.8037\n",
    "345&123(1209?\n",
    "\n",
    "Mr. Allred\n",
    "Mrs. Smith\n",
    "Ms. Todorojo\n",
    "Mr Priest\n",
    "Dr Strangelove\n",
    "\n",
    "MetaCharacters that need to be escaped:\n",
    "\\.{[()*&+?|$\n",
    ".$^*(){}[]\\|+?\n",
    "\n",
    "This is a sentence of text.\n",
    "'''"
   ]
  },
  {
   "cell_type": "markdown",
   "metadata": {
    "colab_type": "text",
    "id": "c0qMM16d051f"
   },
   "source": [
    "## Search for the string \"abc\""
   ]
  },
  {
   "cell_type": "code",
   "execution_count": 21,
   "metadata": {
    "colab": {
     "base_uri": "https://localhost:8080/",
     "height": 34
    },
    "colab_type": "code",
    "id": "ZrpxQbOlJHOA",
    "outputId": "21633a06-c5de-48de-88b7-4f950415d77d"
   },
   "outputs": [
    {
     "data": {
      "text/plain": [
       "<re.Match object; span=(1, 4), match='abc'>"
      ]
     },
     "execution_count": 21,
     "metadata": {},
     "output_type": "execute_result"
    }
   ],
   "source": []
  },
  {
   "cell_type": "markdown",
   "metadata": {
    "colab_type": "text",
    "id": "Jp3q25wl2f5M"
   },
   "source": [
    "## Search for the string \".\""
   ]
  },
  {
   "cell_type": "code",
   "execution_count": 25,
   "metadata": {
    "colab": {},
    "colab_type": "code",
    "id": "AXbI8xpfJQ-l"
   },
   "outputs": [
    {
     "data": {
      "text/plain": [
       "'.'"
      ]
     },
     "execution_count": 25,
     "metadata": {},
     "output_type": "execute_result"
    }
   ],
   "source": [
    "\n",
    "# Additional Challenge - print the the 3 character before and after the \".\"\n",
    "\n"
   ]
  },
  {
   "cell_type": "markdown",
   "metadata": {
    "colab_type": "text",
    "id": "rM81JYsS3a9y"
   },
   "source": [
    "## Search for the string \"lambdaschool.com\""
   ]
  },
  {
   "cell_type": "code",
   "execution_count": 24,
   "metadata": {
    "colab": {},
    "colab_type": "code",
    "id": "Zntfm-FK3l4s"
   },
   "outputs": [
    {
     "data": {
      "text/plain": [
       "'lambdaschool.com'"
      ]
     },
     "execution_count": 24,
     "metadata": {},
     "output_type": "execute_result"
    }
   ],
   "source": [
    "re.search('lambdaschool.com', text_to_search)[0]"
   ]
  },
  {
   "cell_type": "markdown",
   "metadata": {
    "colab_type": "text",
    "id": "_eITkWUJXCWE"
   },
   "source": [
    "# Web Scraping via BeautifulSoup and requests"
   ]
  },
  {
   "cell_type": "code",
   "execution_count": 34,
   "metadata": {
    "colab": {},
    "colab_type": "code",
    "id": "BpiVMRMISf85"
   },
   "outputs": [],
   "source": [
    "from bs4 import BeautifulSoup\n",
    "import requests"
   ]
  },
  {
   "cell_type": "markdown",
   "metadata": {
    "colab_type": "text",
    "id": "piC9TQJegCeH"
   },
   "source": [
    "## Make the Soup"
   ]
  },
  {
   "cell_type": "code",
   "execution_count": 43,
   "metadata": {
    "colab": {
     "base_uri": "https://localhost:8080/",
     "height": 3044
    },
    "colab_type": "code",
    "id": "ncmY7VwcTAmD",
    "outputId": "20943648-36b5-483d-858b-b906327dc706"
   },
   "outputs": [
    {
     "name": "stdout",
     "output_type": "stream",
     "text": [
      "<!DOCTYPE html PUBLIC \"-//W3C//DTD XHTML 1.0 Transitional//EN\" \"http://www.w3.org/TR/xhtml1/DTD/xhtml1-transitional.dtd\">\n",
      "<html xmlns=\"http://www.w3.org/1999/xhtml\">\n",
      " <!-- InstanceBegin template=\"/Templates/template-collection.dwt\" codeOutsideHTMLIsLocked=\"false\" -->\n",
      " <head>\n",
      "  <script src=\"//archive.org/includes/analytics.js?v=cf34f82\" type=\"text/javascript\">\n",
      "  </script>\n",
      "  <script type=\"text/javascript\">\n",
      "   window.addEventListener('DOMContentLoaded',function(){var v=archive_analytics.values;v.service='wb';v.server_name='wwwb-app29.us.archive.org';v.server_ms=475;archive_analytics.send_pageview({});});\n",
      "  </script>\n",
      "  <script charset=\"utf-8\" src=\"/_static/js/ait-client-rewrite.js\" type=\"text/javascript\">\n",
      "  </script>\n",
      "  <script type=\"text/javascript\">\n",
      "   WB_wombat_Init(\"https://web.archive.org/web\", \"20121007172955\", \"www.nga.gov\");\n",
      "  </script>\n",
      "  <script charset=\"utf-8\" src=\"/_static/js/wbhack.js\" type=\"text/javascript\">\n",
      "  </script>\n",
      "  <script type=\"text/javascript\">\n",
      "   __wbhack.init('https://web.archive.org/web');\n",
      "  </script>\n",
      "  <link href=\"/_static/css/banner-styles.css\" rel=\"stylesheet\" type=\"text/css\"/>\n",
      "  <link href=\"/_static/css/iconochive.css\" rel=\"stylesheet\" type=\"text/css\"/>\n",
      "  <!-- End Wayback Rewrite JS Include -->\n",
      "  <!-- InstanceBeginEditable name=\"doctitle\" -->\n",
      "  <title>\n",
      "   NGA - Artist List 'Z' / Page 1 of 4\n",
      "  </title>\n",
      "  <!-- InstanceEndEditable -->\n",
      "  <!-- v 2.2 -->\n",
      "  <!-- InstanceBeginEditable name=\"head\" -->\n",
      "  <!-- InstanceEndEditable -->\n",
      "  <link href=\"/web/20121007172955cs_/https://www.nga.gov/Templates/nga.css\" rel=\"stylesheet\" type=\"text/css\"/>\n",
      "  <!-- InstanceParam name=\"AuthorName\" type=\"text\" value=\"\" -->\n",
      "  <!-- InstanceParam name=\"CreateDate\" type=\"text\" value=\"\" -->\n",
      "  <!-- InstanceParam name=\"ModifiedDate\" type=\"text\" value=\"\" -->\n",
      "  <!-- InstanceParam name=\"History\" type=\"text\" value=\"\" -->\n",
      "  <!-- Author Name=\"\" -->\n",
      "  <!-- Date Created=\"\" -->\n",
      "  <!-- Date Modified=\"\" -->\n",
      "  <!-- File History=\"\" -->\n",
      " </head>\n",
      " <body>\n",
      "  <div align=\"center\">\n",
      "   <table border=\"0\" cellpadding=\"0\" cellspacing=\"0\">\n",
      "    <tr>\n",
      "     <td align=\"right\" valign=\"top\" width=\"175\">\n",
      "      <div style=\"border-right: 1px solid #466D6C; margin-right: 8px;\">\n",
      "       <a href=\"/web/20121007172955/https://www.nga.gov/home.htm\">\n",
      "        <img alt=\"HOME\" border=\"0\" height=\"72\" src=\"/web/20121007172955im_/https://www.nga.gov/images/eagle.gif\" style=\"margin-top: 15px; margin-right: 12px; margin-bottom: 35px;\" width=\"74\"/>\n",
      "       </a>\n",
      "       <br/>\n",
      "       <div style=\"padding-right: 8px;\">\n",
      "        <!-- #BeginLibraryItem \"/Library/sidebar-top.lbi\" -->\n",
      "        <ul id=\"sideNav-top\">\n",
      "         <li>\n",
      "          <a href=\"/web/20121007172955/https://www.nga.gov/highlights/index.shtm\">\n",
      "           What's New\n",
      "          </a>\n",
      "         </li>\n",
      "         <li>\n",
      "          <a href=\"https://web.archive.org/web/20121007172955/http://subscribe.nga.gov/subscription_form_ngart.cfm\">\n",
      "           Newsletters\n",
      "          </a>\n",
      "         </li>\n",
      "         <li>\n",
      "          <a href=\"/web/20121007172955/https://www.nga.gov/programs/calendar/\">\n",
      "           Calendar\n",
      "          </a>\n",
      "         </li>\n",
      "         <li>\n",
      "          <a href=\"/web/20121007172955/https://www.nga.gov/collection/acquisitioninfo.shtm\">\n",
      "           Recent Acquisitions\n",
      "          </a>\n",
      "         </li>\n",
      "         <li>\n",
      "          <a href=\"/web/20121007172955/https://www.nga.gov/podcasts/index.shtm\">\n",
      "           Videos &amp; Podcasts\n",
      "          </a>\n",
      "         </li>\n",
      "         <li>\n",
      "          <a href=\"/web/20121007172955/https://www.nga.gov/ginfo/aboutnga.shtm\">\n",
      "           About the Gallery\n",
      "          </a>\n",
      "         </li>\n",
      "         <li class=\"call-out\">\n",
      "          <a href=\"/web/20121007172955/https://www.nga.gov/exhibitions/shockinfo.shtm\">\n",
      "           Shock of the News\n",
      "          </a>\n",
      "         </li>\n",
      "         <li class=\"call-out\">\n",
      "          <a href=\"/web/20121007172955/https://www.nga.gov/exhibitions/bellowsinfo.shtm\">\n",
      "           George Bellows\n",
      "          </a>\n",
      "         </li>\n",
      "        </ul>\n",
      "        <!-- #EndLibraryItem -->\n",
      "        <!-- #BeginLibraryItem \"/Library/sidebar-bottom.lbi\" -->\n",
      "        <ul id=\"globalNav\">\n",
      "         <li>\n",
      "          <a href=\"/web/20121007172955/https://www.nga.gov/collection/index.shtm\">\n",
      "           The Collection\n",
      "          </a>\n",
      "         </li>\n",
      "         <li>\n",
      "          <a href=\"/web/20121007172955/https://www.nga.gov/exhibitions/index.shtm\">\n",
      "           Exhibitions\n",
      "          </a>\n",
      "         </li>\n",
      "         <li>\n",
      "          <a href=\"/web/20121007172955/https://www.nga.gov/ginfo/index.shtm\">\n",
      "           Plan a Visit\n",
      "          </a>\n",
      "         </li>\n",
      "         <li>\n",
      "          <a href=\"/web/20121007172955/https://www.nga.gov/programs/index.shtm\">\n",
      "           Programs &amp; Events\n",
      "          </a>\n",
      "         </li>\n",
      "         <li>\n",
      "          <a href=\"/web/20121007172955/https://www.nga.gov/onlinetours/index.shtm\">\n",
      "           Online Tours\n",
      "          </a>\n",
      "         </li>\n",
      "         <li>\n",
      "          <a href=\"/web/20121007172955/https://www.nga.gov/education/index.shtm\">\n",
      "           Education\n",
      "          </a>\n",
      "         </li>\n",
      "         <li>\n",
      "          <a href=\"/web/20121007172955/https://www.nga.gov/resources/index.shtm\">\n",
      "           Resources\n",
      "          </a>\n",
      "         </li>\n",
      "         <li>\n",
      "          <a href=\"https://web.archive.org/web/20121007172955/http://shop.nga.gov/\">\n",
      "           Gallery Shop\n",
      "          </a>\n",
      "         </li>\n",
      "         <li>\n",
      "          <a href=\"/web/20121007172955/https://www.nga.gov/support/index.shtm\">\n",
      "           Support the Gallery\n",
      "          </a>\n",
      "         </li>\n",
      "         <li>\n",
      "          <a href=\"https://web.archive.org/web/20121007172955/https://images.nga.gov/en/page/show_home_page.html\">\n",
      "           NGA Images\n",
      "          </a>\n",
      "         </li>\n",
      "         <li>\n",
      "          <a href=\"/web/20121007172955/https://www.nga.gov/kids/kids.htm\">\n",
      "           NGA\n",
      "           <span class=\"kids\">\n",
      "            kids\n",
      "           </span>\n",
      "          </a>\n",
      "         </li>\n",
      "        </ul>\n",
      "        <!-- #EndLibraryItem -->\n",
      "        <form action=\"/web/20121007172955/https://www.nga.gov/cgi-bin/htsearch\" method=\"get\" style=\"float: inherit; clear: both;\">\n",
      "         <input name=\"method\" type=\"hidden\" value=\"and\"/>\n",
      "         <input name=\"format\" type=\"hidden\" value=\"Long\"/>\n",
      "         <input name=\"sort\" type=\"hidden\" value=\"score\"/>\n",
      "         <input class=\"searchField\" name=\"words\" onfocus=\"if (this.value.indexOf('Search the Site') == 0) this.value = '';\" size=\"14\" style=\"margin-bottom:3px;\" type=\"text\" value=\"Search the Site\"/>\n",
      "         <input src=\"/web/20121007172955im_/https://www.nga.gov/images/new_go_btn.gif\" type=\"image\"/>\n",
      "         <input name=\"restrict\" type=\"hidden\"/>\n",
      "         <input name=\"exclude\" type=\"hidden\" value=\"\"/>\n",
      "        </form>\n",
      "       </div>\n",
      "      </div>\n",
      "     </td>\n",
      "     <td valign=\"top\" width=\"675\">\n",
      "      <div class=\"content\">\n",
      "       <img alt=\"National Gallery of Art - THE COLLECTION\" border=\"0\" height=\"44\" src=\"/web/20121007172955im_/https://www.nga.gov/images/collections_test.gif\" style=\"margin-top: 28px; margin-bottom: 40px; text-align: left; float: left;\" width=\"400\"/>\n",
      "       <div style=\"clear: both;\">\n",
      "       </div>\n",
      "       <div class=\"BodyText\">\n",
      "        <!-- InstanceBeginEditable name=\"BodyText\" -->\n",
      "        <h3>\n",
      "         Artist names beginning with Z\n",
      "        </h3>\n",
      "        <table>\n",
      "         <tr valign=\"top\">\n",
      "          <td>\n",
      "           <a href=\"/web/20121007172955/https://www.nga.gov/cgi-bin/tsearch?artistid=11630\">\n",
      "            Zabaglia, Niccola\n",
      "           </a>\n",
      "          </td>\n",
      "          <td>\n",
      "           Italian, 1664 - 1750\n",
      "          </td>\n",
      "         </tr>\n",
      "         <tr valign=\"top\">\n",
      "          <td>\n",
      "           <a href=\"/web/20121007172955/https://www.nga.gov/cgi-bin/tsearch?artistid=34202\">\n",
      "            Zaccone, Fabian\n",
      "           </a>\n",
      "          </td>\n",
      "          <td>\n",
      "           American, 1910 - 1992\n",
      "          </td>\n",
      "         </tr>\n",
      "         <tr valign=\"top\">\n",
      "          <td>\n",
      "           <a href=\"/web/20121007172955/https://www.nga.gov/cgi-bin/tsearch?artistid=3475\">\n",
      "            Zadkine, Ossip\n",
      "           </a>\n",
      "          </td>\n",
      "          <td>\n",
      "           French, 1890 - 1967\n",
      "          </td>\n",
      "         </tr>\n",
      "         <tr valign=\"top\">\n",
      "          <td>\n",
      "           <a href=\"/web/20121007172955/https://www.nga.gov/cgi-bin/tsearch?artistid=25135\">\n",
      "            Zaech, Bernhard\n",
      "           </a>\n",
      "          </td>\n",
      "          <td>\n",
      "           German, active c. 1650\n",
      "          </td>\n",
      "         </tr>\n",
      "         <tr valign=\"top\">\n",
      "          <td>\n",
      "           <a href=\"/web/20121007172955/https://www.nga.gov/cgi-bin/tsearch?artistid=2298\">\n",
      "            Zagar, Jacob\n",
      "           </a>\n",
      "          </td>\n",
      "          <td>\n",
      "           Flemish, c. 1530 - after 1580\n",
      "          </td>\n",
      "         </tr>\n",
      "         <tr valign=\"top\">\n",
      "          <td>\n",
      "           <a href=\"/web/20121007172955/https://www.nga.gov/cgi-bin/tsearch?artistid=23988\">\n",
      "            Zagroba, Idalia\n",
      "           </a>\n",
      "          </td>\n",
      "          <td>\n",
      "           Polish, born 1967\n",
      "          </td>\n",
      "         </tr>\n",
      "         <tr valign=\"top\">\n",
      "          <td>\n",
      "           <a href=\"/web/20121007172955/https://www.nga.gov/cgi-bin/tsearch?artistid=8232\">\n",
      "            Zaidenberg, A.\n",
      "           </a>\n",
      "          </td>\n",
      "          <td>\n",
      "           American, active c. 1935\n",
      "          </td>\n",
      "         </tr>\n",
      "         <tr valign=\"top\">\n",
      "          <td>\n",
      "           <a href=\"/web/20121007172955/https://www.nga.gov/cgi-bin/tsearch?artistid=34154\">\n",
      "            Zaidenberg, Arthur\n",
      "           </a>\n",
      "          </td>\n",
      "          <td>\n",
      "           American, 1903 - 1990\n",
      "          </td>\n",
      "         </tr>\n",
      "         <tr valign=\"top\">\n",
      "          <td>\n",
      "           <a href=\"/web/20121007172955/https://www.nga.gov/cgi-bin/tsearch?artistid=4910\">\n",
      "            Zaisinger, Matthäus\n",
      "           </a>\n",
      "          </td>\n",
      "          <td>\n",
      "           German, active c. 1500\n",
      "          </td>\n",
      "         </tr>\n",
      "         <tr valign=\"top\">\n",
      "          <td>\n",
      "           <a href=\"/web/20121007172955/https://www.nga.gov/cgi-bin/tsearch?artistid=3450\">\n",
      "            Zajac, Jack\n",
      "           </a>\n",
      "          </td>\n",
      "          <td>\n",
      "           American, born 1929\n",
      "          </td>\n",
      "         </tr>\n",
      "         <tr valign=\"top\">\n",
      "          <td>\n",
      "           <a href=\"/web/20121007172955/https://www.nga.gov/cgi-bin/tsearch?artistid=1986\">\n",
      "            Zak, Eugène\n",
      "           </a>\n",
      "          </td>\n",
      "          <td>\n",
      "           Polish, 1884 - 1926\n",
      "          </td>\n",
      "         </tr>\n",
      "         <tr valign=\"top\">\n",
      "          <td>\n",
      "           <a href=\"/web/20121007172955/https://www.nga.gov/cgi-bin/tsearch?artistid=3451\">\n",
      "            Zakharov, Gurii Fillipovich\n",
      "           </a>\n",
      "          </td>\n",
      "          <td>\n",
      "           Russian, born 1926\n",
      "          </td>\n",
      "         </tr>\n",
      "         <tr valign=\"top\">\n",
      "          <td>\n",
      "           <a href=\"/web/20121007172955/https://www.nga.gov/cgi-bin/tsearch?artistid=20099\">\n",
      "            Zakowortny, Igor\n",
      "           </a>\n",
      "          </td>\n",
      "          <td>\n",
      "          </td>\n",
      "         </tr>\n",
      "         <tr valign=\"top\">\n",
      "          <td>\n",
      "           <a href=\"/web/20121007172955/https://www.nga.gov/cgi-bin/tsearch?artistid=3452\">\n",
      "            Zalce, Alfredo\n",
      "           </a>\n",
      "          </td>\n",
      "          <td>\n",
      "           Mexican, born 1908\n",
      "          </td>\n",
      "         </tr>\n",
      "         <tr valign=\"top\">\n",
      "          <td>\n",
      "           <a href=\"/web/20121007172955/https://www.nga.gov/cgi-bin/tsearch?artistid=34309\">\n",
      "            Zalopany, Michele\n",
      "           </a>\n",
      "          </td>\n",
      "          <td>\n",
      "           American, born 1955\n",
      "          </td>\n",
      "         </tr>\n",
      "         <tr valign=\"top\">\n",
      "          <td>\n",
      "           <a href=\"/web/20121007172955/https://www.nga.gov/cgi-bin/tsearch?artistid=27191\">\n",
      "            Zammiello, Craig\n",
      "           </a>\n",
      "          </td>\n",
      "          <td>\n",
      "          </td>\n",
      "         </tr>\n",
      "         <tr valign=\"top\">\n",
      "          <td>\n",
      "           <a href=\"/web/20121007172955/https://www.nga.gov/cgi-bin/tsearch?artistid=5846\">\n",
      "            Zammitt, Norman\n",
      "           </a>\n",
      "          </td>\n",
      "          <td>\n",
      "           American, born 1931\n",
      "          </td>\n",
      "         </tr>\n",
      "         <tr valign=\"top\">\n",
      "          <td>\n",
      "           <a href=\"/web/20121007172955/https://www.nga.gov/cgi-bin/tsearch?artistid=3941\">\n",
      "            Zampieri, Domenico\n",
      "           </a>\n",
      "          </td>\n",
      "          <td>\n",
      "           Italian, 1581 - 1641\n",
      "          </td>\n",
      "         </tr>\n",
      "         <tr valign=\"top\">\n",
      "          <td>\n",
      "           <a href=\"/web/20121007172955/https://www.nga.gov/cgi-bin/tsearch?artistid=3941\">\n",
      "            Zampieri, called Domenichino, Domenico\n",
      "           </a>\n",
      "          </td>\n",
      "          <td>\n",
      "           Italian, 1581 - 1641\n",
      "          </td>\n",
      "         </tr>\n",
      "         <tr valign=\"top\">\n",
      "          <td>\n",
      "           <a href=\"/web/20121007172955/https://www.nga.gov/cgi-bin/tsearch?artistid=3453\">\n",
      "            Zanartú, Enrique Antunez\n",
      "           </a>\n",
      "          </td>\n",
      "          <td>\n",
      "           Chilean, born 1921\n",
      "          </td>\n",
      "         </tr>\n",
      "         <tr valign=\"top\">\n",
      "          <td>\n",
      "           <a href=\"/web/20121007172955/https://www.nga.gov/cgi-bin/tsearch?artistid=35173\">\n",
      "            Zanchi, Antonio\n",
      "           </a>\n",
      "          </td>\n",
      "          <td>\n",
      "           Italian, 1631 - 1722\n",
      "          </td>\n",
      "         </tr>\n",
      "         <tr valign=\"top\">\n",
      "          <td>\n",
      "           <a href=\"/web/20121007172955/https://www.nga.gov/cgi-bin/tsearch?artistid=11133\">\n",
      "            Zanetti, Anton Maria\n",
      "           </a>\n",
      "          </td>\n",
      "          <td>\n",
      "           Italian, 1679/1680 - 1767\n",
      "          </td>\n",
      "         </tr>\n",
      "         <tr valign=\"top\">\n",
      "          <td>\n",
      "           <a href=\"/web/20121007172955/https://www.nga.gov/cgi-bin/tsearch?artistid=3455\">\n",
      "            Zanetti Borzino, Leopoldina\n",
      "           </a>\n",
      "          </td>\n",
      "          <td>\n",
      "           Italian, 1826 - 1902\n",
      "          </td>\n",
      "         </tr>\n",
      "         <tr valign=\"top\">\n",
      "          <td>\n",
      "           <a href=\"/web/20121007172955/https://www.nga.gov/cgi-bin/tsearch?artistid=3454\">\n",
      "            Zanetti I, Antonio Maria, conte\n",
      "           </a>\n",
      "          </td>\n",
      "          <td>\n",
      "           Italian, 1680 - 1757\n",
      "          </td>\n",
      "         </tr>\n",
      "         <tr valign=\"top\">\n",
      "          <td>\n",
      "           <a href=\"/web/20121007172955/https://www.nga.gov/cgi-bin/tsearch?artistid=961\">\n",
      "            Zanguidi, Jacopo\n",
      "           </a>\n",
      "          </td>\n",
      "          <td>\n",
      "           Italian, 1544 - 1573/1574\n",
      "          </td>\n",
      "         </tr>\n",
      "         <tr valign=\"top\">\n",
      "          <td>\n",
      "           <a href=\"/web/20121007172955/https://www.nga.gov/cgi-bin/tsearch?artistid=11597\">\n",
      "            Zanini, Giuseppe\n",
      "           </a>\n",
      "          </td>\n",
      "          <td>\n",
      "           Italian, c. 1599 - 1631\n",
      "          </td>\n",
      "         </tr>\n",
      "         <tr valign=\"top\">\n",
      "          <td>\n",
      "           <a href=\"/web/20121007172955/https://www.nga.gov/cgi-bin/tsearch?artistid=11597\">\n",
      "            Zanini-Viola, Giuseppe\n",
      "           </a>\n",
      "          </td>\n",
      "          <td>\n",
      "           Italian, c. 1599 - 1631\n",
      "          </td>\n",
      "         </tr>\n",
      "         <tr valign=\"top\">\n",
      "          <td>\n",
      "           <a href=\"/web/20121007172955/https://www.nga.gov/cgi-bin/tsearch?artistid=11631\">\n",
      "            Zanotti, Giampietro\n",
      "           </a>\n",
      "          </td>\n",
      "          <td>\n",
      "           Italian, 1674 - 1765\n",
      "          </td>\n",
      "         </tr>\n",
      "         <tr valign=\"top\">\n",
      "          <td>\n",
      "           <a href=\"/web/20121007172955/https://www.nga.gov/cgi-bin/tsearch?artistid=3427\">\n",
      "            Zao Wou-Ki\n",
      "           </a>\n",
      "          </td>\n",
      "          <td>\n",
      "           French, born 1921\n",
      "          </td>\n",
      "         </tr>\n",
      "        </table>\n",
      "        <br/>\n",
      "        <br/>\n",
      "        <table class=\"AlphaNav\">\n",
      "         <tr>\n",
      "          <td>\n",
      "          </td>\n",
      "          <td align=\"center\">\n",
      "           Page 1 - Artists 1 thru 29 of 115\n",
      "           <br/>\n",
      "          </td>\n",
      "          <td>\n",
      "          </td>\n",
      "         </tr>\n",
      "         <tr>\n",
      "          <td>\n",
      "          </td>\n",
      "          <td align=\"center\">\n",
      "           ·\n",
      "           <b>\n",
      "            Zab-Zao\n",
      "           </b>\n",
      "           ·\n",
      "           <a href=\"/web/20121007172955/https://www.nga.gov/collection/anZ2.htm\">\n",
      "            Zas-Zie\n",
      "           </a>\n",
      "           <a href=\"/web/20121007172955/https://www.nga.gov/collection/anZ3.htm\">\n",
      "            Zie-Zor\n",
      "           </a>\n",
      "          </td>\n",
      "          <td align=\"center\">\n",
      "           »\n",
      "           <br>\n",
      "            <a href=\"/web/20121007172955/https://www.nga.gov/collection/anZ4.htm\">\n",
      "             <strong>\n",
      "              next\n",
      "              <br/>\n",
      "              page\n",
      "             </strong>\n",
      "            </a>\n",
      "           </br>\n",
      "          </td>\n",
      "         </tr>\n",
      "        </table>\n",
      "        <!-- InstanceEndEditable -->\n",
      "       </div>\n",
      "       <!--close bodytext div -->\n",
      "      </div>\n",
      "      <!-- close content div -->\n",
      "     </td>\n",
      "    </tr>\n",
      "    <tr>\n",
      "     <td>\n",
      "     </td>\n",
      "     <td class=\"noToolbar\" colspan=\"2\">\n",
      "      <div style=\"margin-top: 15px;\">\n",
      "       <p style=\"padding: 50px 0 0 10px; font-size: 90%; text-align: left;\">\n",
      "        <!-- #BeginLibraryItem \"/Library/toolbar_new.lbi\" -->\n",
      "        <a href=\"/web/20121007172955/https://www.nga.gov/help/index.shtm\">\n",
      "         help\n",
      "        </a>\n",
      "        |\n",
      "        <a href=\"/web/20121007172955/https://www.nga.gov/search/index.shtm\">\n",
      "         search\n",
      "        </a>\n",
      "        |\n",
      "        <a href=\"/web/20121007172955/https://www.nga.gov/copyright/toc.shtm\">\n",
      "         site map\n",
      "        </a>\n",
      "        |\n",
      "        <a href=\"/web/20121007172955/https://www.nga.gov/xio/phone.shtm\">\n",
      "         contact us\n",
      "        </a>\n",
      "        |\n",
      "        <a href=\"/web/20121007172955/https://www.nga.gov/xio/privacy.shtm\">\n",
      "         privacy\n",
      "        </a>\n",
      "        |\n",
      "        <a href=\"/web/20121007172955/https://www.nga.gov/copyright/index.shtm\">\n",
      "         terms of use\n",
      "        </a>\n",
      "        |\n",
      "        <a href=\"/web/20121007172955/https://www.nga.gov/press/index.shtm\">\n",
      "         press\n",
      "        </a>\n",
      "        |\n",
      "        <a href=\"https://web.archive.org/web/20121007172955/http://images.nga.gov/\">\n",
      "         NGA Images\n",
      "        </a>\n",
      "        |\n",
      "        <a href=\"/web/20121007172955/https://www.nga.gov/home.htm\">\n",
      "         home\n",
      "        </a>\n",
      "        |\n",
      "        <a href=\"https://web.archive.org/web/20121007172955/http://www.facebook.com/nationalgalleryofart\">\n",
      "         <img alt=\"Go to our page on Facebook\" border=\"0\" height=\"18\" src=\"/web/20121007172955im_/https://www.nga.gov/images/icon_facebook.gif\" style=\"vertical-align: text-top; margin-top: -1px;\" width=\"18\"/>\n",
      "        </a>\n",
      "        <a href=\"https://web.archive.org/web/20121007172955/https://twitter.com/#!/@ngadc\">\n",
      "         <img alt=\"Go to our page on Twitter\" border=\"0\" height=\"18\" src=\"/web/20121007172955im_/https://www.nga.gov/images/icon_twitter.gif\" style=\"vertical-align: text-top; margin-top: -1px;\" width=\"20\"/>\n",
      "        </a>\n",
      "        <!-- #EndLibraryItem -->\n",
      "       </p>\n",
      "       <p style=\"padding: 0 0 0 10px; font-size: 90%; text-align: left;\">\n",
      "        <!-- #BeginLibraryItem \"/Library/copyright_new.lbi\" -->\n",
      "        <a href=\"/web/20121007172955/https://www.nga.gov/copyright/index.shtm\">\n",
      "         Copyright ©\n",
      "         <script language=\"JavaScript\">\n",
      "          function y2k(number) { return (number < 1000) ? number + 1900 : number; }\n",
      "var today = new Date();\n",
      "var year  = y2k(today.getYear());\n",
      "document.write(year);\n",
      "         </script>\n",
      "         <noscript>\n",
      "          2008\n",
      "         </noscript>\n",
      "         National Gallery of Art, Washington, DC\n",
      "        </a>\n",
      "        <!-- #EndLibraryItem -->\n",
      "       </p>\n",
      "      </div>\n",
      "     </td>\n",
      "    </tr>\n",
      "   </table>\n",
      "  </div>\n",
      "  <!-- Start Web Analytic Code -->\n",
      "  <script type=\"text/javascript\">\n",
      "   var _gaq = _gaq || [];\n",
      "  _gaq.push(['_setAccount', 'UA-31577529-1']);\n",
      "  _gaq.push(['_setDomainName', 'nga.gov']);\n",
      "  _gaq.push(['_trackPageview']);\n",
      "\n",
      "  (function() {\n",
      "    var ga = document.createElement('script'); ga.type = 'text/javascript'; ga.async = true;\n",
      "    ga.src = ('https:' == document.location.protocol ? 'https://web.archive.org/web/20121007172955/https://ssl/' : 'https://web.archive.org/web/20121007172955/http://www/') + '.google-analytics.com/ga.js';\n",
      "    var s = document.getElementsByTagName('script')[0]; s.parentNode.insertBefore(ga, s);\n",
      "  })();\n",
      "  </script>\n",
      "  <!-- End Web Analytic Code -->\n",
      " </body>\n",
      " <!-- InstanceEnd -->\n",
      "</html>\n",
      "<!--\n",
      "     FILE ARCHIVED ON 17:29:55 Oct 07, 2012 AND RETRIEVED FROM THE\n",
      "     INTERNET ARCHIVE ON 19:55:10 Apr 26, 2019.\n",
      "     JAVASCRIPT APPENDED BY WAYBACK MACHINE, COPYRIGHT INTERNET ARCHIVE.\n",
      "\n",
      "     ALL OTHER CONTENT MAY ALSO BE PROTECTED BY COPYRIGHT (17 U.S.C.\n",
      "     SECTION 108(a)(3)).\n",
      "-->\n",
      "<!--\n",
      "playback timings (ms):\n",
      "  LoadShardBlock: 230.618 (3)\n",
      "  esindex: 0.018\n",
      "  captures_list: 263.135\n",
      "  CDXLines.iter: 16.322 (3)\n",
      "  PetaboxLoader3.datanode: 140.578 (4)\n",
      "  exclusion.robots: 0.238\n",
      "  exclusion.robots.policy: 0.223\n",
      "  RedisCDXSource: 10.226\n",
      "  PetaboxLoader3.resolve: 191.649 (2)\n",
      "  load_resource: 160.148\n",
      "-->\n",
      "\n"
     ]
    }
   ],
   "source": [
    "page_to_scrape = 'https://web.archive.org/web/20121007172955/https://www.nga.gov/collection/anZ1.htm'\n",
    "\n",
    "# This makes a request to the page just as if we were navigating\n",
    "# to that page in the browser\n",
    "page = requests.get(page_to_scrape)\n",
    "\n",
    "# The \"soup\" is the parsed html of a webpage.\n",
    "soup = BeautifulSoup(page.text, 'html.parser')\n",
    "print(soup.prettify())"
   ]
  },
  {
   "cell_type": "markdown",
   "metadata": {
    "colab_type": "text",
    "id": "kbvfwDh7gGoz"
   },
   "source": [
    "## .find()\n",
    "\n",
    ".find() gives us everything within an html tag as if it were a smaller soup. We can search by id or by class."
   ]
  },
  {
   "cell_type": "code",
   "execution_count": 44,
   "metadata": {
    "colab": {
     "base_uri": "https://localhost:8080/",
     "height": 255
    },
    "colab_type": "code",
    "id": "bQ6UsIUehG9y",
    "outputId": "e90dc376-bf51-476d-8604-7b7ff2c2c808"
   },
   "outputs": [
    {
     "name": "stdout",
     "output_type": "stream",
     "text": [
      "<ul id=\"globalNav\">\n",
      "<li><a href=\"/web/20121007172955/https://www.nga.gov/collection/index.shtm\">The Collection</a></li>\n",
      "<li><a href=\"/web/20121007172955/https://www.nga.gov/exhibitions/index.shtm\">Exhibitions</a></li>\n",
      "<li><a href=\"/web/20121007172955/https://www.nga.gov/ginfo/index.shtm\">Plan a Visit</a></li>\n",
      "<li><a href=\"/web/20121007172955/https://www.nga.gov/programs/index.shtm\">Programs &amp; Events</a></li>\n",
      "<li><a href=\"/web/20121007172955/https://www.nga.gov/onlinetours/index.shtm\">Online Tours</a></li>\n",
      "<li><a href=\"/web/20121007172955/https://www.nga.gov/education/index.shtm\">Education</a></li>\n",
      "<li><a href=\"/web/20121007172955/https://www.nga.gov/resources/index.shtm\">Resources</a></li>\n",
      "<li><a href=\"https://web.archive.org/web/20121007172955/http://shop.nga.gov/\">Gallery Shop</a></li>\n",
      "<li><a href=\"/web/20121007172955/https://www.nga.gov/support/index.shtm\">Support the Gallery</a></li>\n",
      "<li><a href=\"https://web.archive.org/web/20121007172955/https://images.nga.gov/en/page/show_home_page.html\">NGA Images</a></li>\n",
      "<li><a href=\"/web/20121007172955/https://www.nga.gov/kids/kids.htm\">NGA<span class=\"kids\">kids</span></a></li>\n",
      "</ul>\n"
     ]
    }
   ],
   "source": [
    "nav_stuff = soup.find(id='globalNav')\n",
    "print(nav_stuff)"
   ]
  },
  {
   "cell_type": "code",
   "execution_count": 45,
   "metadata": {
    "colab": {
     "base_uri": "https://localhost:8080/",
     "height": 776
    },
    "colab_type": "code",
    "id": "zt_QfZYzV18G",
    "outputId": "20d3c318-8ba2-4a25-ee77-decd33808e5e"
   },
   "outputs": [
    {
     "name": "stdout",
     "output_type": "stream",
     "text": [
      "<div class=\"BodyText\">\n",
      "<!-- InstanceBeginEditable name=\"BodyText\" -->\n",
      "<h3>Artist names beginning with Z</h3><table>\n",
      "<tr valign=\"top\"><td><a href=\"/web/20121007172955/https://www.nga.gov/cgi-bin/tsearch?artistid=11630\">Zabaglia, Niccola</a></td><td>Italian, 1664 - 1750</td></tr>\n",
      "<tr valign=\"top\"><td><a href=\"/web/20121007172955/https://www.nga.gov/cgi-bin/tsearch?artistid=34202\">Zaccone, Fabian</a></td><td>American, 1910 - 1992</td></tr>\n",
      "<tr valign=\"top\"><td><a href=\"/web/20121007172955/https://www.nga.gov/cgi-bin/tsearch?artistid=3475\">Zadkine, Ossip</a></td><td>French, 1890 - 1967</td></tr>\n",
      "<tr valign=\"top\"><td><a href=\"/web/20121007172955/https://www.nga.gov/cgi-bin/tsearch?artistid=25135\">Zaech, Bernhard</a></td><td>German, active c. 1650</td></tr>\n",
      "<tr valign=\"top\"><td><a href=\"/web/20121007172955/https://www.nga.gov/cgi-bin/tsearch?artistid=2298\">Zagar, Jacob</a></td><td>Flemish, c. 1530 - after 1580</td></tr>\n",
      "<tr valign=\"top\"><td><a href=\"/web/20121007172955/https://www.nga.gov/cgi-bin/tsearch?artistid=23988\">Zagroba, Idalia</a></td><td>Polish, born 1967</td></tr>\n",
      "<tr valign=\"top\"><td><a href=\"/web/20121007172955/https://www.nga.gov/cgi-bin/tsearch?artistid=8232\">Zaidenberg, A.</a></td><td>American, active c. 1935</td></tr>\n",
      "<tr valign=\"top\"><td><a href=\"/web/20121007172955/https://www.nga.gov/cgi-bin/tsearch?artistid=34154\">Zaidenberg, Arthur</a></td><td>American, 1903 - 1990</td></tr>\n",
      "<tr valign=\"top\"><td><a href=\"/web/20121007172955/https://www.nga.gov/cgi-bin/tsearch?artistid=4910\">Zaisinger, Matthäus</a></td><td>German, active c. 1500</td></tr>\n",
      "<tr valign=\"top\"><td><a href=\"/web/20121007172955/https://www.nga.gov/cgi-bin/tsearch?artistid=3450\">Zajac, Jack</a></td><td>American, born 1929</td></tr>\n",
      "<tr valign=\"top\"><td><a href=\"/web/20121007172955/https://www.nga.gov/cgi-bin/tsearch?artistid=1986\">Zak, Eugène</a></td><td>Polish, 1884 - 1926</td></tr>\n",
      "<tr valign=\"top\"><td><a href=\"/web/20121007172955/https://www.nga.gov/cgi-bin/tsearch?artistid=3451\">Zakharov, Gurii Fillipovich</a></td><td>Russian, born 1926</td></tr>\n",
      "<tr valign=\"top\"><td><a href=\"/web/20121007172955/https://www.nga.gov/cgi-bin/tsearch?artistid=20099\">Zakowortny, Igor</a></td><td></td></tr>\n",
      "<tr valign=\"top\"><td><a href=\"/web/20121007172955/https://www.nga.gov/cgi-bin/tsearch?artistid=3452\">Zalce, Alfredo</a></td><td>Mexican, born 1908</td></tr>\n",
      "<tr valign=\"top\"><td><a href=\"/web/20121007172955/https://www.nga.gov/cgi-bin/tsearch?artistid=34309\">Zalopany, Michele</a></td><td>American, born 1955</td></tr>\n",
      "<tr valign=\"top\"><td><a href=\"/web/20121007172955/https://www.nga.gov/cgi-bin/tsearch?artistid=27191\">Zammiello, Craig</a></td><td></td></tr>\n",
      "<tr valign=\"top\"><td><a href=\"/web/20121007172955/https://www.nga.gov/cgi-bin/tsearch?artistid=5846\">Zammitt, Norman</a></td><td>American, born 1931</td></tr>\n",
      "<tr valign=\"top\"><td><a href=\"/web/20121007172955/https://www.nga.gov/cgi-bin/tsearch?artistid=3941\">Zampieri, Domenico</a></td><td>Italian, 1581 - 1641</td></tr>\n",
      "<tr valign=\"top\"><td><a href=\"/web/20121007172955/https://www.nga.gov/cgi-bin/tsearch?artistid=3941\">Zampieri, called Domenichino, Domenico</a></td><td>Italian, 1581 - 1641</td></tr>\n",
      "<tr valign=\"top\"><td><a href=\"/web/20121007172955/https://www.nga.gov/cgi-bin/tsearch?artistid=3453\">Zanartú, Enrique Antunez</a></td><td>Chilean, born 1921</td></tr>\n",
      "<tr valign=\"top\"><td><a href=\"/web/20121007172955/https://www.nga.gov/cgi-bin/tsearch?artistid=35173\">Zanchi, Antonio</a></td><td>Italian, 1631 - 1722</td></tr>\n",
      "<tr valign=\"top\"><td><a href=\"/web/20121007172955/https://www.nga.gov/cgi-bin/tsearch?artistid=11133\">Zanetti, Anton Maria</a></td><td>Italian, 1679/1680 - 1767</td></tr>\n",
      "<tr valign=\"top\"><td><a href=\"/web/20121007172955/https://www.nga.gov/cgi-bin/tsearch?artistid=3455\">Zanetti Borzino, Leopoldina</a></td><td>Italian, 1826 - 1902</td></tr>\n",
      "<tr valign=\"top\"><td><a href=\"/web/20121007172955/https://www.nga.gov/cgi-bin/tsearch?artistid=3454\">Zanetti I, Antonio Maria, conte</a></td><td>Italian, 1680 - 1757</td></tr>\n",
      "<tr valign=\"top\"><td><a href=\"/web/20121007172955/https://www.nga.gov/cgi-bin/tsearch?artistid=961\">Zanguidi, Jacopo</a></td><td>Italian, 1544 - 1573/1574</td></tr>\n",
      "<tr valign=\"top\"><td><a href=\"/web/20121007172955/https://www.nga.gov/cgi-bin/tsearch?artistid=11597\">Zanini, Giuseppe</a></td><td>Italian, c. 1599 - 1631</td></tr>\n",
      "<tr valign=\"top\"><td><a href=\"/web/20121007172955/https://www.nga.gov/cgi-bin/tsearch?artistid=11597\">Zanini-Viola, Giuseppe</a></td><td>Italian, c. 1599 - 1631</td></tr>\n",
      "<tr valign=\"top\"><td><a href=\"/web/20121007172955/https://www.nga.gov/cgi-bin/tsearch?artistid=11631\">Zanotti, Giampietro</a></td><td>Italian, 1674 - 1765</td></tr>\n",
      "<tr valign=\"top\"><td><a href=\"/web/20121007172955/https://www.nga.gov/cgi-bin/tsearch?artistid=3427\">Zao Wou-Ki</a></td><td>French, born 1921</td></tr>\n",
      "</table>\n",
      "<br/><br/>\n",
      "<table class=\"AlphaNav\"><tr><td></td><td align=\"center\">Page 1 - Artists 1 thru 29 of 115<br/></td><td></td></tr>\n",
      "<tr>\n",
      "<td></td>\n",
      "<td align=\"center\">\n",
      "· <b>Zab-Zao</b> ·<a href=\"/web/20121007172955/https://www.nga.gov/collection/anZ2.htm\">Zas-Zie</a> <a href=\"/web/20121007172955/https://www.nga.gov/collection/anZ3.htm\">Zie-Zor</a> </td>\n",
      "<td align=\"center\">» <br><a href=\"/web/20121007172955/https://www.nga.gov/collection/anZ4.htm\"><strong>next<br/>page</strong></a></br></td>\n",
      "</tr>\n",
      "</table>\n",
      "<!-- InstanceEndEditable -->\n",
      "</div>\n"
     ]
    }
   ],
   "source": [
    "artist_name_list = soup.find(class_='BodyText')\n",
    "print(artist_name_list)"
   ]
  },
  {
   "cell_type": "code",
   "execution_count": 46,
   "metadata": {
    "colab": {
     "base_uri": "https://localhost:8080/",
     "height": 54
    },
    "colab_type": "code",
    "id": "cgVJ81wGR-wD",
    "outputId": "0bd87686-4844-4ec7-ad35-c8767e8a310f"
   },
   "outputs": [
    {
     "name": "stdout",
     "output_type": "stream",
     "text": [
      "[<a href=\"/web/20121007172955/https://www.nga.gov/cgi-bin/tsearch?artistid=11630\">Zabaglia, Niccola</a>, <a href=\"/web/20121007172955/https://www.nga.gov/cgi-bin/tsearch?artistid=34202\">Zaccone, Fabian</a>, <a href=\"/web/20121007172955/https://www.nga.gov/cgi-bin/tsearch?artistid=3475\">Zadkine, Ossip</a>, <a href=\"/web/20121007172955/https://www.nga.gov/cgi-bin/tsearch?artistid=25135\">Zaech, Bernhard</a>, <a href=\"/web/20121007172955/https://www.nga.gov/cgi-bin/tsearch?artistid=2298\">Zagar, Jacob</a>, <a href=\"/web/20121007172955/https://www.nga.gov/cgi-bin/tsearch?artistid=23988\">Zagroba, Idalia</a>, <a href=\"/web/20121007172955/https://www.nga.gov/cgi-bin/tsearch?artistid=8232\">Zaidenberg, A.</a>, <a href=\"/web/20121007172955/https://www.nga.gov/cgi-bin/tsearch?artistid=34154\">Zaidenberg, Arthur</a>, <a href=\"/web/20121007172955/https://www.nga.gov/cgi-bin/tsearch?artistid=4910\">Zaisinger, Matthäus</a>, <a href=\"/web/20121007172955/https://www.nga.gov/cgi-bin/tsearch?artistid=3450\">Zajac, Jack</a>, <a href=\"/web/20121007172955/https://www.nga.gov/cgi-bin/tsearch?artistid=1986\">Zak, Eugène</a>, <a href=\"/web/20121007172955/https://www.nga.gov/cgi-bin/tsearch?artistid=3451\">Zakharov, Gurii Fillipovich</a>, <a href=\"/web/20121007172955/https://www.nga.gov/cgi-bin/tsearch?artistid=20099\">Zakowortny, Igor</a>, <a href=\"/web/20121007172955/https://www.nga.gov/cgi-bin/tsearch?artistid=3452\">Zalce, Alfredo</a>, <a href=\"/web/20121007172955/https://www.nga.gov/cgi-bin/tsearch?artistid=34309\">Zalopany, Michele</a>, <a href=\"/web/20121007172955/https://www.nga.gov/cgi-bin/tsearch?artistid=27191\">Zammiello, Craig</a>, <a href=\"/web/20121007172955/https://www.nga.gov/cgi-bin/tsearch?artistid=5846\">Zammitt, Norman</a>, <a href=\"/web/20121007172955/https://www.nga.gov/cgi-bin/tsearch?artistid=3941\">Zampieri, Domenico</a>, <a href=\"/web/20121007172955/https://www.nga.gov/cgi-bin/tsearch?artistid=3941\">Zampieri, called Domenichino, Domenico</a>, <a href=\"/web/20121007172955/https://www.nga.gov/cgi-bin/tsearch?artistid=3453\">Zanartú, Enrique Antunez</a>, <a href=\"/web/20121007172955/https://www.nga.gov/cgi-bin/tsearch?artistid=35173\">Zanchi, Antonio</a>, <a href=\"/web/20121007172955/https://www.nga.gov/cgi-bin/tsearch?artistid=11133\">Zanetti, Anton Maria</a>, <a href=\"/web/20121007172955/https://www.nga.gov/cgi-bin/tsearch?artistid=3455\">Zanetti Borzino, Leopoldina</a>, <a href=\"/web/20121007172955/https://www.nga.gov/cgi-bin/tsearch?artistid=3454\">Zanetti I, Antonio Maria, conte</a>, <a href=\"/web/20121007172955/https://www.nga.gov/cgi-bin/tsearch?artistid=961\">Zanguidi, Jacopo</a>, <a href=\"/web/20121007172955/https://www.nga.gov/cgi-bin/tsearch?artistid=11597\">Zanini, Giuseppe</a>, <a href=\"/web/20121007172955/https://www.nga.gov/cgi-bin/tsearch?artistid=11597\">Zanini-Viola, Giuseppe</a>, <a href=\"/web/20121007172955/https://www.nga.gov/cgi-bin/tsearch?artistid=11631\">Zanotti, Giampietro</a>, <a href=\"/web/20121007172955/https://www.nga.gov/cgi-bin/tsearch?artistid=3427\">Zao Wou-Ki</a>, <a href=\"/web/20121007172955/https://www.nga.gov/collection/anZ2.htm\">Zas-Zie</a>, <a href=\"/web/20121007172955/https://www.nga.gov/collection/anZ3.htm\">Zie-Zor</a>, <a href=\"/web/20121007172955/https://www.nga.gov/collection/anZ4.htm\"><strong>next<br/>page</strong></a>]\n"
     ]
    }
   ],
   "source": [
    "artist_names = artist_name_list.find_all('a')\n",
    "print(artist_names)"
   ]
  },
  {
   "cell_type": "code",
   "execution_count": 47,
   "metadata": {
    "colab": {
     "base_uri": "https://localhost:8080/",
     "height": 574
    },
    "colab_type": "code",
    "id": "sRP_1ORlXl_M",
    "outputId": "a42e718d-338b-4df3-eac2-952c1982d836"
   },
   "outputs": [
    {
     "name": "stdout",
     "output_type": "stream",
     "text": [
      "<a href=\"/web/20121007172955/https://www.nga.gov/cgi-bin/tsearch?artistid=11630\">Zabaglia, Niccola</a>\n",
      "<a href=\"/web/20121007172955/https://www.nga.gov/cgi-bin/tsearch?artistid=34202\">Zaccone, Fabian</a>\n",
      "<a href=\"/web/20121007172955/https://www.nga.gov/cgi-bin/tsearch?artistid=3475\">Zadkine, Ossip</a>\n",
      "<a href=\"/web/20121007172955/https://www.nga.gov/cgi-bin/tsearch?artistid=25135\">Zaech, Bernhard</a>\n",
      "<a href=\"/web/20121007172955/https://www.nga.gov/cgi-bin/tsearch?artistid=2298\">Zagar, Jacob</a>\n",
      "<a href=\"/web/20121007172955/https://www.nga.gov/cgi-bin/tsearch?artistid=23988\">Zagroba, Idalia</a>\n",
      "<a href=\"/web/20121007172955/https://www.nga.gov/cgi-bin/tsearch?artistid=8232\">Zaidenberg, A.</a>\n",
      "<a href=\"/web/20121007172955/https://www.nga.gov/cgi-bin/tsearch?artistid=34154\">Zaidenberg, Arthur</a>\n",
      "<a href=\"/web/20121007172955/https://www.nga.gov/cgi-bin/tsearch?artistid=4910\">Zaisinger, Matthäus</a>\n",
      "<a href=\"/web/20121007172955/https://www.nga.gov/cgi-bin/tsearch?artistid=3450\">Zajac, Jack</a>\n",
      "<a href=\"/web/20121007172955/https://www.nga.gov/cgi-bin/tsearch?artistid=1986\">Zak, Eugène</a>\n",
      "<a href=\"/web/20121007172955/https://www.nga.gov/cgi-bin/tsearch?artistid=3451\">Zakharov, Gurii Fillipovich</a>\n",
      "<a href=\"/web/20121007172955/https://www.nga.gov/cgi-bin/tsearch?artistid=20099\">Zakowortny, Igor</a>\n",
      "<a href=\"/web/20121007172955/https://www.nga.gov/cgi-bin/tsearch?artistid=3452\">Zalce, Alfredo</a>\n",
      "<a href=\"/web/20121007172955/https://www.nga.gov/cgi-bin/tsearch?artistid=34309\">Zalopany, Michele</a>\n",
      "<a href=\"/web/20121007172955/https://www.nga.gov/cgi-bin/tsearch?artistid=27191\">Zammiello, Craig</a>\n",
      "<a href=\"/web/20121007172955/https://www.nga.gov/cgi-bin/tsearch?artistid=5846\">Zammitt, Norman</a>\n",
      "<a href=\"/web/20121007172955/https://www.nga.gov/cgi-bin/tsearch?artistid=3941\">Zampieri, Domenico</a>\n",
      "<a href=\"/web/20121007172955/https://www.nga.gov/cgi-bin/tsearch?artistid=3941\">Zampieri, called Domenichino, Domenico</a>\n",
      "<a href=\"/web/20121007172955/https://www.nga.gov/cgi-bin/tsearch?artistid=3453\">Zanartú, Enrique Antunez</a>\n",
      "<a href=\"/web/20121007172955/https://www.nga.gov/cgi-bin/tsearch?artistid=35173\">Zanchi, Antonio</a>\n",
      "<a href=\"/web/20121007172955/https://www.nga.gov/cgi-bin/tsearch?artistid=11133\">Zanetti, Anton Maria</a>\n",
      "<a href=\"/web/20121007172955/https://www.nga.gov/cgi-bin/tsearch?artistid=3455\">Zanetti Borzino, Leopoldina</a>\n",
      "<a href=\"/web/20121007172955/https://www.nga.gov/cgi-bin/tsearch?artistid=3454\">Zanetti I, Antonio Maria, conte</a>\n",
      "<a href=\"/web/20121007172955/https://www.nga.gov/cgi-bin/tsearch?artistid=961\">Zanguidi, Jacopo</a>\n",
      "<a href=\"/web/20121007172955/https://www.nga.gov/cgi-bin/tsearch?artistid=11597\">Zanini, Giuseppe</a>\n",
      "<a href=\"/web/20121007172955/https://www.nga.gov/cgi-bin/tsearch?artistid=11597\">Zanini-Viola, Giuseppe</a>\n",
      "<a href=\"/web/20121007172955/https://www.nga.gov/cgi-bin/tsearch?artistid=11631\">Zanotti, Giampietro</a>\n",
      "<a href=\"/web/20121007172955/https://www.nga.gov/cgi-bin/tsearch?artistid=3427\">Zao Wou-Ki</a>\n",
      "<a href=\"/web/20121007172955/https://www.nga.gov/collection/anZ2.htm\">Zas-Zie</a>\n",
      "<a href=\"/web/20121007172955/https://www.nga.gov/collection/anZ3.htm\">Zie-Zor</a>\n",
      "<a href=\"/web/20121007172955/https://www.nga.gov/collection/anZ4.htm\"><strong>next<br/>page</strong></a>\n"
     ]
    }
   ],
   "source": [
    "for artist_name in artist_names:\n",
    "    print(artist_name)"
   ]
  },
  {
   "cell_type": "code",
   "execution_count": 50,
   "metadata": {
    "colab": {
     "base_uri": "https://localhost:8080/",
     "height": 554
    },
    "colab_type": "code",
    "id": "FlQZq7u_YjRQ",
    "outputId": "7476d8ba-5a8b-4092-eeee-f6095786dd65"
   },
   "outputs": [
    {
     "name": "stdout",
     "output_type": "stream",
     "text": [
      "Zabaglia, Niccola\n",
      "Zaccone, Fabian\n",
      "Zadkine, Ossip\n",
      "Zaech, Bernhard\n",
      "Zagar, Jacob\n",
      "Zagroba, Idalia\n",
      "Zaidenberg, A.\n",
      "Zaidenberg, Arthur\n",
      "Zaisinger, Matthäus\n",
      "Zajac, Jack\n",
      "Zak, Eugène\n",
      "Zakharov, Gurii Fillipovich\n",
      "Zakowortny, Igor\n",
      "Zalce, Alfredo\n",
      "Zalopany, Michele\n",
      "Zammiello, Craig\n",
      "Zammitt, Norman\n",
      "Zampieri, Domenico\n",
      "Zampieri, called Domenichino, Domenico\n",
      "Zanartú, Enrique Antunez\n",
      "Zanchi, Antonio\n",
      "Zanetti, Anton Maria\n",
      "Zanetti Borzino, Leopoldina\n",
      "Zanetti I, Antonio Maria, conte\n",
      "Zanguidi, Jacopo\n",
      "Zanini, Giuseppe\n",
      "Zanini-Viola, Giuseppe\n",
      "Zanotti, Giampietro\n",
      "Zao Wou-Ki\n",
      "Zas-Zie\n",
      "Zie-Zor\n",
      "nextpage\n"
     ]
    }
   ],
   "source": [
    "#.text gets you the text inside of an html element\n",
    "for artist_name in artist_names:\n",
    "    print(artist_name.text) "
   ]
  },
  {
   "cell_type": "code",
   "execution_count": 53,
   "metadata": {
    "colab": {
     "base_uri": "https://localhost:8080/",
     "height": 212
    },
    "colab_type": "code",
    "id": "IvbvwaK7Yq_O",
    "outputId": "7c1862e8-b7ab-4964-abce-cae87c362cb8"
   },
   "outputs": [
    {
     "name": "stdout",
     "output_type": "stream",
     "text": [
      "(32, 1)\n"
     ]
    },
    {
     "data": {
      "text/html": [
       "<div>\n",
       "<style scoped>\n",
       "    .dataframe tbody tr th:only-of-type {\n",
       "        vertical-align: middle;\n",
       "    }\n",
       "\n",
       "    .dataframe tbody tr th {\n",
       "        vertical-align: top;\n",
       "    }\n",
       "\n",
       "    .dataframe thead th {\n",
       "        text-align: right;\n",
       "    }\n",
       "</style>\n",
       "<table border=\"1\" class=\"dataframe\">\n",
       "  <thead>\n",
       "    <tr style=\"text-align: right;\">\n",
       "      <th></th>\n",
       "      <th>full_name</th>\n",
       "    </tr>\n",
       "  </thead>\n",
       "  <tbody>\n",
       "    <tr>\n",
       "      <th>0</th>\n",
       "      <td>Zabaglia, Niccola</td>\n",
       "    </tr>\n",
       "    <tr>\n",
       "      <th>1</th>\n",
       "      <td>Zaccone, Fabian</td>\n",
       "    </tr>\n",
       "    <tr>\n",
       "      <th>2</th>\n",
       "      <td>Zadkine, Ossip</td>\n",
       "    </tr>\n",
       "    <tr>\n",
       "      <th>3</th>\n",
       "      <td>Zaech, Bernhard</td>\n",
       "    </tr>\n",
       "    <tr>\n",
       "      <th>4</th>\n",
       "      <td>Zagar, Jacob</td>\n",
       "    </tr>\n",
       "  </tbody>\n",
       "</table>\n",
       "</div>"
      ],
      "text/plain": [
       "           full_name\n",
       "0  Zabaglia, Niccola\n",
       "1    Zaccone, Fabian\n",
       "2     Zadkine, Ossip\n",
       "3    Zaech, Bernhard\n",
       "4       Zagar, Jacob"
      ]
     },
     "execution_count": 53,
     "metadata": {
      "tags": []
     },
     "output_type": "execute_result"
    }
   ],
   "source": [
    "artists = []\n",
    "for artist_name in artist_names:\n",
    "    artists.append(artist_name.text)\n",
    "    \n",
    "import pandas as pd\n",
    "\n",
    "df = pd.DataFrame({'full_name': artists})\n",
    "print(df.shape)\n",
    "df.head()"
   ]
  },
  {
   "cell_type": "code",
   "execution_count": 55,
   "metadata": {
    "colab": {
     "base_uri": "https://localhost:8080/",
     "height": 965
    },
    "colab_type": "code",
    "id": "Mx5snbhqY86i",
    "outputId": "20fbcd77-5066-49a5-abff-9bad81a8a41d"
   },
   "outputs": [
    {
     "data": {
      "text/html": [
       "<div>\n",
       "<style scoped>\n",
       "    .dataframe tbody tr th:only-of-type {\n",
       "        vertical-align: middle;\n",
       "    }\n",
       "\n",
       "    .dataframe tbody tr th {\n",
       "        vertical-align: top;\n",
       "    }\n",
       "\n",
       "    .dataframe thead th {\n",
       "        text-align: right;\n",
       "    }\n",
       "</style>\n",
       "<table border=\"1\" class=\"dataframe\">\n",
       "  <thead>\n",
       "    <tr style=\"text-align: right;\">\n",
       "      <th></th>\n",
       "      <th>full_name</th>\n",
       "      <th>first_name</th>\n",
       "    </tr>\n",
       "  </thead>\n",
       "  <tbody>\n",
       "    <tr>\n",
       "      <th>0</th>\n",
       "      <td>Zabaglia, Niccola</td>\n",
       "      <td>Niccola</td>\n",
       "    </tr>\n",
       "    <tr>\n",
       "      <th>1</th>\n",
       "      <td>Zaccone, Fabian</td>\n",
       "      <td>Fabian</td>\n",
       "    </tr>\n",
       "    <tr>\n",
       "      <th>2</th>\n",
       "      <td>Zadkine, Ossip</td>\n",
       "      <td>Ossip</td>\n",
       "    </tr>\n",
       "    <tr>\n",
       "      <th>3</th>\n",
       "      <td>Zaech, Bernhard</td>\n",
       "      <td>Bernhard</td>\n",
       "    </tr>\n",
       "    <tr>\n",
       "      <th>4</th>\n",
       "      <td>Zagar, Jacob</td>\n",
       "      <td>Jacob</td>\n",
       "    </tr>\n",
       "    <tr>\n",
       "      <th>5</th>\n",
       "      <td>Zagroba, Idalia</td>\n",
       "      <td>Idalia</td>\n",
       "    </tr>\n",
       "    <tr>\n",
       "      <th>6</th>\n",
       "      <td>Zaidenberg, A.</td>\n",
       "      <td>NaN</td>\n",
       "    </tr>\n",
       "    <tr>\n",
       "      <th>7</th>\n",
       "      <td>Zaidenberg, Arthur</td>\n",
       "      <td>Arthur</td>\n",
       "    </tr>\n",
       "    <tr>\n",
       "      <th>8</th>\n",
       "      <td>Zaisinger, Matthäus</td>\n",
       "      <td>Matthäus</td>\n",
       "    </tr>\n",
       "    <tr>\n",
       "      <th>9</th>\n",
       "      <td>Zajac, Jack</td>\n",
       "      <td>Jack</td>\n",
       "    </tr>\n",
       "    <tr>\n",
       "      <th>10</th>\n",
       "      <td>Zak, Eugène</td>\n",
       "      <td>Eugène</td>\n",
       "    </tr>\n",
       "    <tr>\n",
       "      <th>11</th>\n",
       "      <td>Zakharov, Gurii Fillipovich</td>\n",
       "      <td>Fillipovich</td>\n",
       "    </tr>\n",
       "    <tr>\n",
       "      <th>12</th>\n",
       "      <td>Zakowortny, Igor</td>\n",
       "      <td>Igor</td>\n",
       "    </tr>\n",
       "    <tr>\n",
       "      <th>13</th>\n",
       "      <td>Zalce, Alfredo</td>\n",
       "      <td>Alfredo</td>\n",
       "    </tr>\n",
       "    <tr>\n",
       "      <th>14</th>\n",
       "      <td>Zalopany, Michele</td>\n",
       "      <td>Michele</td>\n",
       "    </tr>\n",
       "    <tr>\n",
       "      <th>15</th>\n",
       "      <td>Zammiello, Craig</td>\n",
       "      <td>Craig</td>\n",
       "    </tr>\n",
       "    <tr>\n",
       "      <th>16</th>\n",
       "      <td>Zammitt, Norman</td>\n",
       "      <td>Norman</td>\n",
       "    </tr>\n",
       "    <tr>\n",
       "      <th>17</th>\n",
       "      <td>Zampieri, Domenico</td>\n",
       "      <td>Domenico</td>\n",
       "    </tr>\n",
       "    <tr>\n",
       "      <th>18</th>\n",
       "      <td>Zampieri, called Domenichino, Domenico</td>\n",
       "      <td>Domenico</td>\n",
       "    </tr>\n",
       "    <tr>\n",
       "      <th>19</th>\n",
       "      <td>Zanartú, Enrique Antunez</td>\n",
       "      <td>Antunez</td>\n",
       "    </tr>\n",
       "    <tr>\n",
       "      <th>20</th>\n",
       "      <td>Zanchi, Antonio</td>\n",
       "      <td>Antonio</td>\n",
       "    </tr>\n",
       "    <tr>\n",
       "      <th>21</th>\n",
       "      <td>Zanetti, Anton Maria</td>\n",
       "      <td>Maria</td>\n",
       "    </tr>\n",
       "    <tr>\n",
       "      <th>22</th>\n",
       "      <td>Zanetti Borzino, Leopoldina</td>\n",
       "      <td>Leopoldina</td>\n",
       "    </tr>\n",
       "    <tr>\n",
       "      <th>23</th>\n",
       "      <td>Zanetti I, Antonio Maria, conte</td>\n",
       "      <td>conte</td>\n",
       "    </tr>\n",
       "    <tr>\n",
       "      <th>24</th>\n",
       "      <td>Zanguidi, Jacopo</td>\n",
       "      <td>Jacopo</td>\n",
       "    </tr>\n",
       "    <tr>\n",
       "      <th>25</th>\n",
       "      <td>Zanini, Giuseppe</td>\n",
       "      <td>Giuseppe</td>\n",
       "    </tr>\n",
       "    <tr>\n",
       "      <th>26</th>\n",
       "      <td>Zanini-Viola, Giuseppe</td>\n",
       "      <td>Giuseppe</td>\n",
       "    </tr>\n",
       "    <tr>\n",
       "      <th>27</th>\n",
       "      <td>Zanotti, Giampietro</td>\n",
       "      <td>Giampietro</td>\n",
       "    </tr>\n",
       "    <tr>\n",
       "      <th>28</th>\n",
       "      <td>Zao Wou-Ki</td>\n",
       "      <td>Ki</td>\n",
       "    </tr>\n",
       "    <tr>\n",
       "      <th>29</th>\n",
       "      <td>Zas-Zie</td>\n",
       "      <td>Zie</td>\n",
       "    </tr>\n",
       "    <tr>\n",
       "      <th>30</th>\n",
       "      <td>Zie-Zor</td>\n",
       "      <td>Zor</td>\n",
       "    </tr>\n",
       "  </tbody>\n",
       "</table>\n",
       "</div>"
      ],
      "text/plain": [
       "                                 full_name   first_name\n",
       "0                        Zabaglia, Niccola      Niccola\n",
       "1                          Zaccone, Fabian       Fabian\n",
       "2                           Zadkine, Ossip        Ossip\n",
       "3                          Zaech, Bernhard     Bernhard\n",
       "4                             Zagar, Jacob        Jacob\n",
       "5                          Zagroba, Idalia       Idalia\n",
       "6                           Zaidenberg, A.          NaN\n",
       "7                       Zaidenberg, Arthur       Arthur\n",
       "8                      Zaisinger, Matthäus     Matthäus\n",
       "9                              Zajac, Jack         Jack\n",
       "10                             Zak, Eugène       Eugène\n",
       "11             Zakharov, Gurii Fillipovich  Fillipovich\n",
       "12                        Zakowortny, Igor         Igor\n",
       "13                          Zalce, Alfredo      Alfredo\n",
       "14                       Zalopany, Michele      Michele\n",
       "15                        Zammiello, Craig        Craig\n",
       "16                         Zammitt, Norman       Norman\n",
       "17                      Zampieri, Domenico     Domenico\n",
       "18  Zampieri, called Domenichino, Domenico     Domenico\n",
       "19                Zanartú, Enrique Antunez      Antunez\n",
       "20                         Zanchi, Antonio      Antonio\n",
       "21                    Zanetti, Anton Maria        Maria\n",
       "22             Zanetti Borzino, Leopoldina   Leopoldina\n",
       "23         Zanetti I, Antonio Maria, conte        conte\n",
       "24                        Zanguidi, Jacopo       Jacopo\n",
       "25                        Zanini, Giuseppe     Giuseppe\n",
       "26                  Zanini-Viola, Giuseppe     Giuseppe\n",
       "27                     Zanotti, Giampietro   Giampietro\n",
       "28                              Zao Wou-Ki           Ki\n",
       "29                                 Zas-Zie          Zie\n",
       "30                                 Zie-Zor          Zor"
      ]
     },
     "execution_count": 55,
     "metadata": {
      "tags": []
     },
     "output_type": "execute_result"
    }
   ],
   "source": [
    "df['first_name'] = df['full_name'].str.extract('(\\w+$)', expand=True)\n",
    "df.head(31)"
   ]
  },
  {
   "cell_type": "markdown",
   "metadata": {
    "colab_type": "text",
    "id": "cUSvqPTD4jxH"
   },
   "source": [
    "![XKCD Regex](https://imgs.xkcd.com/comics/regular_expressions.png)"
   ]
  },
  {
   "cell_type": "markdown",
   "metadata": {},
   "source": [
    "# Tokenizing Documents\n",
    "\n",
    "> \"Given a character sequence and a defined document unit, tokenization is the task of chopping it up into pieces, called tokens , perhaps at the same time throwing away certain characters, such as punctuation.\" - Standard NLP Group\n",
    "\n",
    "Tokens are foundational unit of analysis for most nlp. Today, we are going to combine a few of the skills you've been practing to tokenize a new documents. We'll then use some base python to summarize the content of those documents. Tomorrow, we'll go more in-depth with tokens. \n",
    "\n",
    "Discussion questions: *What attributes do you think tokens need to have to be \"tidy\" for analysis?*"
   ]
  },
  {
   "cell_type": "code",
   "execution_count": 49,
   "metadata": {},
   "outputs": [
    {
     "name": "stdout",
     "output_type": "stream",
     "text": [
      "Friends, Romans, Countrymen, lend me your ears.\n"
     ]
    }
   ],
   "source": [
    "quote = \"Friends, Romans, Countrymen, lend me your ears.\"\n",
    "print(quote)"
   ]
  },
  {
   "cell_type": "markdown",
   "metadata": {
    "colab_type": "text",
    "id": "lsfW-X9vLPWZ"
   },
   "source": [
    "# Additional Resources:\n",
    "\n",
    "* [Python String Functions Overview](https://realpython.com/python-strings)\n",
    "* [Good Python String Overview](https://automatetheboringstuff.com/chapter6)\n",
    "* [Python Regex Overview](https://regexone.com/references/python)\n",
    "* [Regex in Python with Corey Schafer](https://www.youtube.com/watch?v=K8L6KVGG-7o&t=120s)\n",
    "* [Regex Practice](https://regexone.com/)\n",
    "* [Breaking up a column into strings using regex in pandas](https://chrisalbon.com/python/data_wrangling/pandas_regex_to_create_columns)\n",
    "* [Beautiful Soup Documentation](https://www.crummy.com/software/BeautifulSoup/bs4/doc)"
   ]
  }
 ],
 "metadata": {
  "colab": {
   "collapsed_sections": [],
   "name": "LS_DS_421_Text_Data_Lecture.ipynb",
   "provenance": [],
   "version": "0.3.2"
  },
  "kernelspec": {
   "display_name": "Python 3",
   "language": "python",
   "name": "python3"
  },
  "language_info": {
   "codemirror_mode": {
    "name": "ipython",
    "version": 3
   },
   "file_extension": ".py",
   "mimetype": "text/x-python",
   "name": "python",
   "nbconvert_exporter": "python",
   "pygments_lexer": "ipython3",
   "version": "3.7.3"
  }
 },
 "nbformat": 4,
 "nbformat_minor": 2
}
