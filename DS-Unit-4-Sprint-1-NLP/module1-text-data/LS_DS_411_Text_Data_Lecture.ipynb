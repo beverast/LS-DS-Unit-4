{
 "cells": [
  {
   "cell_type": "markdown",
   "metadata": {
    "toc-hr-collapsed": false
   },
   "source": [
    "<img align=\"left\" src=\"https://lever-client-logos.s3.amazonaws.com/864372b1-534c-480e-acd5-9711f850815c-1524247202159.png\" width=200>\n",
    "<br></br>\n",
    "<br></br>\n",
    "\n",
    "# Natural Language Processing (NLP) \n",
    "\n",
    "## *Data Science Unit 4 Sprint 1 Lesson 1*\n",
    "\n",
    "\"Natural\" meaning - not computer languages but spoken/written human languages. The hard thing about NLP is that human languages are far less structured or consistent than computer languages. This is perhaps the largest source of difficulty when trying to get computers to \"understand\" human languages. How do you get a machine to understand sarcasm, and irony, and synonyms, connotation, denotation, nuance, and tone of voice --all without it having lived a lifetime of experience for context? If you think about it, our human brains have been exposed to quite a lot of training data to help us interpret languages, and even then we misunderstand each other pretty frequently. \n",
    "\n",
    "## Learning Objectives\n",
    "* <a href=\"#p1\">Part 1</a>: Tokenizing Text\n",
    "* <a href=\"#p2\">Part 2</a>: Removing Stop Words\n",
    "* <a href=\"#p3\">Part 3</a>: Stemming & Lemmatization"
   ]
  },
  {
   "cell_type": "code",
   "execution_count": 1,
   "metadata": {},
   "outputs": [],
   "source": [
    "\"\"\"\n",
    "Import Statements\n",
    "\"\"\"\n",
    "\n",
    "# Base\n",
    "from collections import Counter\n",
    "import re\n",
    "\n",
    "import pandas as pd\n",
    "\n",
    "# Plotting\n",
    "import squarify\n",
    "import matplotlib.pyplot as plt\n",
    "import seaborn as sns\n",
    "\n",
    "# NLP Libraries\n",
    "import spacy\n",
    "from spacy.tokenizer import Tokenizer\n",
    "from nltk.stem import PorterStemmer"
   ]
  },
  {
   "cell_type": "code",
   "execution_count": 2,
   "metadata": {},
   "outputs": [],
   "source": [
    "nlp = spacy.load(\"en_core_web_sm\")"
   ]
  },
  {
   "cell_type": "markdown",
   "metadata": {
    "toc-hr-collapsed": false
   },
   "source": [
    "## Tokenizing Text\n",
    "<a id=\"p1\"></a>\n",
    "\n",
    "> **token**: an instance of a sequence of characters in some particular document that are grouped together as a useful semantic unit for processing\n",
    "\n",
    "> [_*Introduction to Information Retrival*_](https://nlp.stanford.edu/IR-book/)\n",
    "\n",
    "\n",
    "- Build out Amazon case study\n",
    "- Data found on [Kaggle](https://www.kaggle.com/datafiniti/consumer-reviews-of-amazon-products/)"
   ]
  },
  {
   "cell_type": "markdown",
   "metadata": {
    "toc-hr-collapsed": false
   },
   "source": [
    "### Tokenizing with Pure Python"
   ]
  },
  {
   "cell_type": "code",
   "execution_count": 3,
   "metadata": {},
   "outputs": [],
   "source": [
    "df = pd.read_csv('./data/Datafiniti_Amazon_Consumer_Reviews_of_Amazon_Products_May19.csv')"
   ]
  },
  {
   "cell_type": "code",
   "execution_count": 4,
   "metadata": {},
   "outputs": [
    {
     "data": {
      "text/plain": [
       "['id',\n",
       " 'dateAdded',\n",
       " 'dateUpdated',\n",
       " 'name',\n",
       " 'asins',\n",
       " 'brand',\n",
       " 'categories',\n",
       " 'primaryCategories',\n",
       " 'imageURLs',\n",
       " 'keys',\n",
       " 'manufacturer',\n",
       " 'manufacturerNumber',\n",
       " 'reviews.date',\n",
       " 'reviews.dateSeen',\n",
       " 'reviews.didPurchase',\n",
       " 'reviews.doRecommend',\n",
       " 'reviews.id',\n",
       " 'reviews.numHelpful',\n",
       " 'reviews.rating',\n",
       " 'reviews.sourceURLs',\n",
       " 'reviews.text',\n",
       " 'reviews.title',\n",
       " 'reviews.username',\n",
       " 'sourceURLs']"
      ]
     },
     "execution_count": 4,
     "metadata": {},
     "output_type": "execute_result"
    }
   ],
   "source": [
    "list(df)"
   ]
  },
  {
   "cell_type": "code",
   "execution_count": 33,
   "metadata": {},
   "outputs": [
    {
     "data": {
      "text/plain": [
       "good                0.002118\n",
       "great               0.001729\n",
       "Good                0.001482\n",
       "Great               0.001341\n",
       "ok                  0.001165\n",
       "Great price         0.001059\n",
       "Excellent           0.000988\n",
       "great price         0.000988\n",
       "Great value         0.000953\n",
       "good price          0.000812\n",
       "great value         0.000777\n",
       "Great price!        0.000635\n",
       "good value          0.000600\n",
       "Great value.        0.000565\n",
       "good deal           0.000565\n",
       "OK                  0.000529\n",
       "Great product       0.000529\n",
       "As expected         0.000529\n",
       "Great deal          0.000529\n",
       "Good deal           0.000529\n",
       "Good value          0.000494\n",
       "Good batteries      0.000494\n",
       "Great value!        0.000459\n",
       "So far so good      0.000459\n",
       "Great batteries.    0.000459\n",
       "Good price          0.000459\n",
       "great deal          0.000459\n",
       "Good buy            0.000424\n",
       "Work great          0.000424\n",
       "Good value.         0.000388\n",
       "Great batteries     0.000388\n",
       "good batteries      0.000388\n",
       "Great buy           0.000388\n",
       "as expected         0.000388\n",
       "Great price.        0.000388\n",
       "excellent           0.000388\n",
       "As described        0.000388\n",
       "Great deal!         0.000388\n",
       "Great!              0.000388\n",
       "very good           0.000388\n",
       "Nice                0.000353\n",
       "Work great.         0.000353\n",
       "great batteries     0.000353\n",
       "good product        0.000353\n",
       "Ok                  0.000353\n",
       "Perfect!            0.000353\n",
       "love it             0.000318\n",
       "So far so good.     0.000318\n",
       "Great product.      0.000318\n",
       "Good price.         0.000318\n",
       "Name: reviews.text, dtype: float64"
      ]
     },
     "execution_count": 33,
     "metadata": {},
     "output_type": "execute_result"
    }
   ],
   "source": [
    "# How can we count the raw text?\n",
    "df['reviews.text'].value_counts(normalize=True)[:50]"
   ]
  },
  {
   "cell_type": "markdown",
   "metadata": {
    "toc-hr-collapsed": true
   },
   "source": [
    "#### The attributes of atrributes of good tokens\n",
    "\n",
    "* Should be stored in an iterable datastructure\n",
    "  - Allows analysis of the \"semantic unit\"\n",
    "* Should be all the same case\n",
    "  - Reduces the complexity of our data\n",
    "* Should be free of non-alphanumeric characters (ie punctuation, whitespace)\n",
    "  - Removes information that is probably not relevant to the analysis"
   ]
  },
  {
   "cell_type": "code",
   "execution_count": 34,
   "metadata": {},
   "outputs": [],
   "source": [
    "sample = \"Friends, Romans, countrymen, lend me your ears;\""
   ]
  },
  {
   "cell_type": "markdown",
   "metadata": {},
   "source": [
    "##### Iterable Tokens\n",
    "\n",
    "A string object in Python is already iterable. However, the item you iterate over is a character not a token:\n",
    "\n",
    "```\n",
    "from time import sleep\n",
    "for num, character in enumerate(sample):\n",
    "    sleep(.5)\n",
    "    print(f\"Char {num} - {character}\", end=\"\\r\")\n",
    "```\n",
    "\n",
    "If we instead care about the words in our sample (our semantic unit), we can use the string method `.split()` to seperate the whitespace and create iterable units. :)"
   ]
  },
  {
   "cell_type": "code",
   "execution_count": 35,
   "metadata": {},
   "outputs": [
    {
     "data": {
      "text/plain": [
       "['Friends,', 'Romans,', 'countrymen,', 'lend', 'me', 'your', 'ears;']"
      ]
     },
     "execution_count": 35,
     "metadata": {},
     "output_type": "execute_result"
    }
   ],
   "source": [
    "sample.split()"
   ]
  },
  {
   "cell_type": "markdown",
   "metadata": {},
   "source": [
    "##### Case Normalization\n",
    "A common data cleaning data cleaning task with token is to standardize or normalize the case. Normalizing case reduces the chance that you have duplicate records for things which have practically the same semantic meaning. You can use either the `.lower()` or `.upper()` string methods to normalize case.\n",
    "\n",
    "Consider the following example: "
   ]
  },
  {
   "cell_type": "code",
   "execution_count": 36,
   "metadata": {},
   "outputs": [
    {
     "data": {
      "text/plain": [
       "Amazon          16153\n",
       "Amazonbasics    12169\n",
       "AmazonBasics       10\n",
       "Name: brand, dtype: int64"
      ]
     },
     "execution_count": 36,
     "metadata": {},
     "output_type": "execute_result"
    }
   ],
   "source": [
    "# Notice anything odd here? \n",
    "df['brand'].value_counts()"
   ]
  },
  {
   "cell_type": "code",
   "execution_count": 37,
   "metadata": {},
   "outputs": [
    {
     "data": {
      "text/plain": [
       "amazon          16153\n",
       "amazonbasics    12179\n",
       "Name: brand, dtype: int64"
      ]
     },
     "execution_count": 37,
     "metadata": {},
     "output_type": "execute_result"
    }
   ],
   "source": [
    "# Much cleaner\n",
    "df['brand'].apply(lambda x: x.lower()).value_counts()"
   ]
  },
  {
   "cell_type": "markdown",
   "metadata": {},
   "source": [
    "##### Keep Only Alphanumeric Characters\n",
    "Yes, we only want letters and numbers. Everything else is probably noise: punctionation, whitespace, and other notation. This one is little bit more complicatd than our previous example. Here we will have to import the base package `re` (regular expressions). \n",
    "\n",
    "The only regex expression pattern you need for this is `'[^a-zA-Z ^0-9]'` which keeps lower case letters, upper case letters, spaces, and numbers."
   ]
  },
  {
   "cell_type": "code",
   "execution_count": 38,
   "metadata": {},
   "outputs": [
    {
     "data": {
      "text/plain": [
       "'Friends, Romans, countrymen, lend me your ears; 007 911'"
      ]
     },
     "execution_count": 38,
     "metadata": {},
     "output_type": "execute_result"
    }
   ],
   "source": [
    "sample+\" 007 911\""
   ]
  },
  {
   "cell_type": "code",
   "execution_count": 39,
   "metadata": {},
   "outputs": [
    {
     "data": {
      "text/plain": [
       "'Friends Romans countrymen lend me your ears 911'"
      ]
     },
     "execution_count": 39,
     "metadata": {},
     "output_type": "execute_result"
    }
   ],
   "source": [
    "import re\n",
    "\n",
    "re.sub(r'[^a-zA-Z ^0-9]', '', sample+\" 911\")"
   ]
  },
  {
   "cell_type": "markdown",
   "metadata": {},
   "source": [
    "#### Two Minute Challenge \n",
    "- Complete the function `tokenize` below\n",
    "- Combine the methods which we discussed above to clean text before we analyze it\n",
    "- You can put the methods in any order you want"
   ]
  },
  {
   "cell_type": "code",
   "execution_count": 40,
   "metadata": {},
   "outputs": [],
   "source": [
    "def tokenize(text):\n",
    "    \"\"\"Parses a string into a list of semantic units (words)\n",
    "\n",
    "    Args:\n",
    "        text (str): The string that the function will tokenize.\n",
    "\n",
    "    Returns:\n",
    "        list: tokens parsed out by the mechanics of your choice\n",
    "    \"\"\"\n",
    "    tokens = re.sub(r'[^a-zA-Z ^0-9]', '', text)\\\n",
    "               .lower()\\\n",
    "               .split()\n",
    "    \n",
    "    return tokens"
   ]
  },
  {
   "cell_type": "code",
   "execution_count": 42,
   "metadata": {},
   "outputs": [],
   "source": [
    "df['tokens'] = df['reviews.text'].apply(tokenize)"
   ]
  },
  {
   "cell_type": "code",
   "execution_count": 43,
   "metadata": {},
   "outputs": [
    {
     "data": {
      "text/plain": [
       "0     [i, order, 3, of, them, and, one, of, the, ite...\n",
       "1     [bulk, is, always, the, less, expensive, way, ...\n",
       "2     [well, they, are, not, duracell, but, for, the...\n",
       "3     [seem, to, work, as, well, as, name, brand, ba...\n",
       "4     [these, batteries, are, very, long, lasting, t...\n",
       "5     [bought, a, lot, of, batteries, for, christmas...\n",
       "6     [ive, not, had, any, problame, with, these, ba...\n",
       "7     [well, if, you, are, looking, for, cheap, nonr...\n",
       "8     [these, do, not, hold, the, amount, of, high, ...\n",
       "9     [amazonbasics, aa, aaa, batteries, have, done,...\n",
       "10    [i, find, amazon, basics, batteries, to, be, e...\n",
       "11    [when, i, first, started, getting, the, amazon...\n",
       "12    [use, it, for, my, fish, tanks, light, at, nig...\n",
       "13    [just, got, em, so, i, cant, really, comment, ...\n",
       "14    [we, have, many, things, that, need, aa, batte...\n",
       "15    [thankful, that, i, was, able, to, find, on, a...\n",
       "16    [i, dont, know, if, i, would, buy, thus, brand...\n",
       "17    [in, my, opinion, these, did, not, last, anywh...\n",
       "18    [they, dont, last, as, long, as, the, brand, n...\n",
       "19    [bought, these, batteries, for, my, christmas,...\n",
       "Name: tokens, dtype: object"
      ]
     },
     "execution_count": 43,
     "metadata": {},
     "output_type": "execute_result"
    }
   ],
   "source": [
    "df['tokens'].head(20)"
   ]
  },
  {
   "cell_type": "markdown",
   "metadata": {},
   "source": [
    "#### Analyzing Tokens"
   ]
  },
  {
   "cell_type": "code",
   "execution_count": 44,
   "metadata": {},
   "outputs": [
    {
     "data": {
      "text/plain": [
       "[('the', 28836),\n",
       " ('and', 22302),\n",
       " ('i', 20588),\n",
       " ('to', 19537),\n",
       " ('for', 17918),\n",
       " ('a', 17599),\n",
       " ('it', 16793),\n",
       " ('is', 11482),\n",
       " ('my', 11149),\n",
       " ('this', 10420),\n",
       " ('great', 9362),\n",
       " ('of', 8408),\n",
       " ('batteries', 8044),\n",
       " ('as', 7656),\n",
       " ('tablet', 6580),\n",
       " ('with', 6044),\n",
       " ('in', 5892),\n",
       " ('good', 5845),\n",
       " ('that', 5654),\n",
       " ('have', 5635),\n",
       " ('on', 5620),\n",
       " ('they', 5503),\n",
       " ('price', 5138),\n",
       " ('but', 4856),\n",
       " ('so', 4680),\n",
       " ('are', 4586),\n",
       " ('these', 4578),\n",
       " ('use', 4416),\n",
       " ('you', 4398),\n",
       " ('not', 4353),\n",
       " ('was', 4182),\n",
       " ('very', 3770),\n",
       " ('amazon', 3705),\n",
       " ('love', 3520),\n",
       " ('bought', 3174),\n",
       " ('them', 3149),\n",
       " ('its', 3002),\n",
       " ('can', 2980),\n",
       " ('easy', 2903),\n",
       " ('kindle', 2839),\n",
       " ('just', 2795),\n",
       " ('one', 2781),\n",
       " ('all', 2653),\n",
       " ('be', 2588),\n",
       " ('kids', 2544),\n",
       " ('at', 2538),\n",
       " ('she', 2483),\n",
       " ('like', 2481),\n",
       " ('long', 2463),\n",
       " ('well', 2437)]"
      ]
     },
     "execution_count": 44,
     "metadata": {},
     "output_type": "execute_result"
    }
   ],
   "source": [
    "# Object from Base Python\n",
    "from collections import Counter\n",
    "\n",
    "# The object `Counter` takes an iterable, but you can instaniate an empty one and update it. \n",
    "word_counts = Counter()\n",
    "\n",
    "# Update it based on a split of each of our documents\n",
    "df['tokens'].apply(lambda x: word_counts.update(x))\n",
    "\n",
    "# Print out the 10 most common words\n",
    "word_counts.most_common(50)"
   ]
  },
  {
   "cell_type": "code",
   "execution_count": 65,
   "metadata": {},
   "outputs": [],
   "source": [
    "def count(docs):\n",
    "\n",
    "        word_counts = Counter()\n",
    "        appears_in = Counter()\n",
    "        \n",
    "        total_docs = len(docs)\n",
    "\n",
    "        for doc in docs:\n",
    "            word_counts.update(doc)\n",
    "            appears_in.update(set(doc))\n",
    "\n",
    "        temp = list(zip(word_counts.keys(), word_counts.values()))\n",
    "        \n",
    "        wc = pd.DataFrame(temp, columns = ['word', 'count'])\n",
    "\n",
    "        wc['rank'] = wc['count'].rank(method='first', ascending=False)\n",
    "        total = wc['count'].sum()\n",
    "\n",
    "        wc['pct_total'] = wc['count'].apply(lambda x: x / total)\n",
    "        \n",
    "        wc = wc.sort_values(by='rank')\n",
    "        wc['cul_pct_total'] = wc['pct_total'].cumsum()\n",
    "\n",
    "        t2 = list(zip(appears_in.keys(), appears_in.values()))\n",
    "        ac = pd.DataFrame(t2, columns=['word', 'appears_in'])\n",
    "        wc = ac.merge(wc, on='word')\n",
    "\n",
    "        wc['appears_in_pct'] = wc['appears_in'].apply(lambda x: x / total_docs)\n",
    "        \n",
    "        return wc.sort_values(by='rank')"
   ]
  },
  {
   "cell_type": "code",
   "execution_count": 66,
   "metadata": {},
   "outputs": [],
   "source": [
    "# Use the Function\n",
    "wc = count(df['tokens'])"
   ]
  },
  {
   "cell_type": "code",
   "execution_count": 67,
   "metadata": {},
   "outputs": [
    {
     "data": {
      "text/html": [
       "<div>\n",
       "<style scoped>\n",
       "    .dataframe tbody tr th:only-of-type {\n",
       "        vertical-align: middle;\n",
       "    }\n",
       "\n",
       "    .dataframe tbody tr th {\n",
       "        vertical-align: top;\n",
       "    }\n",
       "\n",
       "    .dataframe thead th {\n",
       "        text-align: right;\n",
       "    }\n",
       "</style>\n",
       "<table border=\"1\" class=\"dataframe\">\n",
       "  <thead>\n",
       "    <tr style=\"text-align: right;\">\n",
       "      <th></th>\n",
       "      <th>word</th>\n",
       "      <th>appears_in</th>\n",
       "      <th>count</th>\n",
       "      <th>rank</th>\n",
       "      <th>pct_total</th>\n",
       "      <th>cul_pct_total</th>\n",
       "      <th>appears_in_pct</th>\n",
       "    </tr>\n",
       "  </thead>\n",
       "  <tbody>\n",
       "    <tr>\n",
       "      <th>2</th>\n",
       "      <td>the</td>\n",
       "      <td>13185</td>\n",
       "      <td>28836</td>\n",
       "      <td>1.0</td>\n",
       "      <td>0.039350</td>\n",
       "      <td>0.039350</td>\n",
       "      <td>0.465375</td>\n",
       "    </tr>\n",
       "    <tr>\n",
       "      <th>7</th>\n",
       "      <td>and</td>\n",
       "      <td>13731</td>\n",
       "      <td>22302</td>\n",
       "      <td>2.0</td>\n",
       "      <td>0.030434</td>\n",
       "      <td>0.069784</td>\n",
       "      <td>0.484646</td>\n",
       "    </tr>\n",
       "    <tr>\n",
       "      <th>15</th>\n",
       "      <td>i</td>\n",
       "      <td>10301</td>\n",
       "      <td>20588</td>\n",
       "      <td>3.0</td>\n",
       "      <td>0.028095</td>\n",
       "      <td>0.097879</td>\n",
       "      <td>0.363582</td>\n",
       "    </tr>\n",
       "    <tr>\n",
       "      <th>1</th>\n",
       "      <td>to</td>\n",
       "      <td>11312</td>\n",
       "      <td>19537</td>\n",
       "      <td>4.0</td>\n",
       "      <td>0.026661</td>\n",
       "      <td>0.124539</td>\n",
       "      <td>0.399266</td>\n",
       "    </tr>\n",
       "    <tr>\n",
       "      <th>26</th>\n",
       "      <td>for</td>\n",
       "      <td>12101</td>\n",
       "      <td>17918</td>\n",
       "      <td>5.0</td>\n",
       "      <td>0.024451</td>\n",
       "      <td>0.148990</td>\n",
       "      <td>0.427114</td>\n",
       "    </tr>\n",
       "  </tbody>\n",
       "</table>\n",
       "</div>"
      ],
      "text/plain": [
       "   word  appears_in  count  rank  pct_total  cul_pct_total  appears_in_pct\n",
       "2   the       13185  28836   1.0   0.039350       0.039350        0.465375\n",
       "7   and       13731  22302   2.0   0.030434       0.069784        0.484646\n",
       "15    i       10301  20588   3.0   0.028095       0.097879        0.363582\n",
       "1    to       11312  19537   4.0   0.026661       0.124539        0.399266\n",
       "26  for       12101  17918   5.0   0.024451       0.148990        0.427114"
      ]
     },
     "execution_count": 67,
     "metadata": {},
     "output_type": "execute_result"
    }
   ],
   "source": [
    "wc.head()"
   ]
  },
  {
   "cell_type": "code",
   "execution_count": 68,
   "metadata": {},
   "outputs": [
    {
     "data": {
      "image/png": "[encoded data removed]",
      "text/plain": [
       "<Figure size 432x288 with 1 Axes>"
      ]
     },
     "metadata": {
      "needs_background": "light"
     },
     "output_type": "display_data"
    }
   ],
   "source": [
    "import seaborn as sns\n",
    "\n",
    "# Cumulative Distribution Plot\n",
    "sns.lineplot(x='rank', y='cul_pct_total', data=wc);"
   ]
  },
  {
   "cell_type": "code",
   "execution_count": 69,
   "metadata": {},
   "outputs": [
    {
     "data": {
      "text/plain": [
       "0.3353465992363599"
      ]
     },
     "execution_count": 69,
     "metadata": {},
     "output_type": "execute_result"
    }
   ],
   "source": [
    "wc[wc['rank'] <= 20]['cul_pct_total'].max()"
   ]
  },
  {
   "cell_type": "code",
   "execution_count": 70,
   "metadata": {},
   "outputs": [
    {
     "data": {
      "image/png": "[encoded data removed]",
      "text/plain": [
       "<Figure size 432x288 with 1 Axes>"
      ]
     },
     "metadata": {
      "needs_background": "light"
     },
     "output_type": "display_data"
    }
   ],
   "source": [
    "import squarify\n",
    "import matplotlib.pyplot as plt\n",
    "\n",
    "wc_top20 = wc[wc['rank'] <= 20]\n",
    "\n",
    "squarify.plot(sizes=wc_top20['pct_total'], label=wc_top20['word'], alpha=.8 )\n",
    "plt.axis('off')\n",
    "plt.show()"
   ]
  },
  {
   "cell_type": "markdown",
   "metadata": {},
   "source": [
    "### Processing Raw Text with Spacy\n",
    "Should answer the \"why\" of Spacy while recreating steps from above using same visualization\n",
    "\n",
    "Spacy's datamodel for documents is unique among NLP libraries. Instead of storing the documents components repeatively in various datastructures, Spacy indexes components and simply stores the lookup informaiton. \n",
    "\n",
    "This is often why Spacy is considered to be more production grade than library like NLTK."
   ]
  },
  {
   "cell_type": "code",
   "execution_count": 73,
   "metadata": {},
   "outputs": [],
   "source": [
    "import spacy\n",
    "from spacy.tokenizer import Tokenizer\n",
    "\n",
    "nlp = spacy.load(\"en_core_web_sm\")\n",
    "\n",
    "# Tokenizer\n",
    "tokenizer = Tokenizer(nlp.vocab)"
   ]
  },
  {
   "cell_type": "code",
   "execution_count": 74,
   "metadata": {},
   "outputs": [
    {
     "data": {
      "text/plain": [
       "['Friends,', 'Romans,', 'countrymen,', 'lend', 'me', 'your', 'ears;']"
      ]
     },
     "execution_count": 74,
     "metadata": {},
     "output_type": "execute_result"
    }
   ],
   "source": [
    "[token.text for token in tokenizer(sample)]"
   ]
  },
  {
   "cell_type": "code",
   "execution_count": 75,
   "metadata": {},
   "outputs": [],
   "source": [
    "# Tokenizer Pipe\n",
    "\n",
    "tokens = []\n",
    "\n",
    "\"\"\" Make them tokens \"\"\"\n",
    "for doc in tokenizer.pipe(df['reviews.text'], batch_size=500):\n",
    "    doc_tokens = [token.text for token in doc]\n",
    "    tokens.append(doc_tokens)\n",
    "\n",
    "df['tokens'] = tokens"
   ]
  },
  {
   "cell_type": "code",
   "execution_count": 76,
   "metadata": {},
   "outputs": [
    {
     "data": {
      "text/plain": [
       "0    [I, order, 3, of, them, and, one, of, the, ite...\n",
       "1    [Bulk, is, always, the, less, expensive, way, ...\n",
       "2    [Well, they, are, not, Duracell, but, for, the...\n",
       "3    [Seem, to, work, as, well, as, name, brand, ba...\n",
       "4    [These, batteries, are, very, long, lasting, t...\n",
       "Name: tokens, dtype: object"
      ]
     },
     "execution_count": 76,
     "metadata": {},
     "output_type": "execute_result"
    }
   ],
   "source": [
    "df['tokens'].head()"
   ]
  },
  {
   "cell_type": "code",
   "execution_count": 77,
   "metadata": {},
   "outputs": [],
   "source": [
    "wc = count(df['tokens'])"
   ]
  },
  {
   "cell_type": "code",
   "execution_count": 78,
   "metadata": {},
   "outputs": [
    {
     "data": {
      "text/html": [
       "<div>\n",
       "<style scoped>\n",
       "    .dataframe tbody tr th:only-of-type {\n",
       "        vertical-align: middle;\n",
       "    }\n",
       "\n",
       "    .dataframe tbody tr th {\n",
       "        vertical-align: top;\n",
       "    }\n",
       "\n",
       "    .dataframe thead th {\n",
       "        text-align: right;\n",
       "    }\n",
       "</style>\n",
       "<table border=\"1\" class=\"dataframe\">\n",
       "  <thead>\n",
       "    <tr style=\"text-align: right;\">\n",
       "      <th></th>\n",
       "      <th>word</th>\n",
       "      <th>appears_in</th>\n",
       "      <th>count</th>\n",
       "      <th>rank</th>\n",
       "      <th>pct_total</th>\n",
       "      <th>cul_pct_total</th>\n",
       "      <th>appears_in_pct</th>\n",
       "    </tr>\n",
       "  </thead>\n",
       "  <tbody>\n",
       "    <tr>\n",
       "      <th>3</th>\n",
       "      <td>the</td>\n",
       "      <td>12316</td>\n",
       "      <td>25154</td>\n",
       "      <td>1.0</td>\n",
       "      <td>0.034219</td>\n",
       "      <td>0.034219</td>\n",
       "      <td>0.434703</td>\n",
       "    </tr>\n",
       "    <tr>\n",
       "      <th>8</th>\n",
       "      <td>and</td>\n",
       "      <td>13541</td>\n",
       "      <td>21850</td>\n",
       "      <td>2.0</td>\n",
       "      <td>0.029725</td>\n",
       "      <td>0.063944</td>\n",
       "      <td>0.477940</td>\n",
       "    </tr>\n",
       "    <tr>\n",
       "      <th>18</th>\n",
       "      <td>I</td>\n",
       "      <td>9913</td>\n",
       "      <td>19762</td>\n",
       "      <td>3.0</td>\n",
       "      <td>0.026884</td>\n",
       "      <td>0.090828</td>\n",
       "      <td>0.349887</td>\n",
       "    </tr>\n",
       "    <tr>\n",
       "      <th>2</th>\n",
       "      <td>to</td>\n",
       "      <td>11227</td>\n",
       "      <td>19324</td>\n",
       "      <td>4.0</td>\n",
       "      <td>0.026288</td>\n",
       "      <td>0.117117</td>\n",
       "      <td>0.396266</td>\n",
       "    </tr>\n",
       "    <tr>\n",
       "      <th>27</th>\n",
       "      <td>for</td>\n",
       "      <td>11790</td>\n",
       "      <td>17197</td>\n",
       "      <td>5.0</td>\n",
       "      <td>0.023395</td>\n",
       "      <td>0.140512</td>\n",
       "      <td>0.416137</td>\n",
       "    </tr>\n",
       "  </tbody>\n",
       "</table>\n",
       "</div>"
      ],
      "text/plain": [
       "   word  appears_in  count  rank  pct_total  cul_pct_total  appears_in_pct\n",
       "3   the       12316  25154   1.0   0.034219       0.034219        0.434703\n",
       "8   and       13541  21850   2.0   0.029725       0.063944        0.477940\n",
       "18    I        9913  19762   3.0   0.026884       0.090828        0.349887\n",
       "2    to       11227  19324   4.0   0.026288       0.117117        0.396266\n",
       "27  for       11790  17197   5.0   0.023395       0.140512        0.416137"
      ]
     },
     "execution_count": 78,
     "metadata": {},
     "output_type": "execute_result"
    }
   ],
   "source": [
    "wc.head()"
   ]
  },
  {
   "cell_type": "code",
   "execution_count": 79,
   "metadata": {},
   "outputs": [
    {
     "data": {
      "image/png": "[encoded data removed]",
      "text/plain": [
       "<Figure size 432x288 with 1 Axes>"
      ]
     },
     "metadata": {
      "needs_background": "light"
     },
     "output_type": "display_data"
    }
   ],
   "source": [
    "wc_top20 = wc[wc['rank'] <= 20]\n",
    "\n",
    "squarify.plot(sizes=wc_top20['pct_total'], label=wc_top20['word'], alpha=.8 )\n",
    "plt.axis('off')\n",
    "plt.show()"
   ]
  },
  {
   "cell_type": "markdown",
   "metadata": {},
   "source": [
    "## Stop Words\n",
    "<a id=\"p2\"></a>\n",
    "\n",
    "Section Agenda\n",
    "- What are they?\n",
    "- How do we get rid of them using Spacy?\n",
    "- Visualization\n",
    "- Libraries of Stop Words\n",
    "- Extending Stop Words\n",
    "- Statistical trimming\n",
    "\n",
    "If the visualizations above, you began to notice a pattern. Most of the words don't really add much to our undertanding of product reviews. Words such as \"I\", \"and\", \"of\", etc. have almost no semantic meaning to us. We call these useless words \"stop words,\" because we should 'stop' ourselves from including them in the analysis. \n",
    "\n",
    "Most NLP libraries have built in lists of stop words that common english words: conjunctions, articles, adverbs, pronouns, and common verbs. The best practice, however, is to extend/customize these standard english stopwords for your problem's domain. If I am studying political science, I may want to exclude the word \"politics\" from my analysis; it's so common it does not add to my understanding. "
   ]
  },
  {
   "cell_type": "markdown",
   "metadata": {},
   "source": [
    "### Default Stop Words\n",
    "Let's take a look at the standard stop words that came with our spacy model:"
   ]
  },
  {
   "cell_type": "code",
   "execution_count": 81,
   "metadata": {},
   "outputs": [
    {
     "data": {
      "text/plain": [
       "set"
      ]
     },
     "execution_count": 81,
     "metadata": {},
     "output_type": "execute_result"
    }
   ],
   "source": [
    "## Spacy's Default Stop Words\n",
    "type(nlp.Defaults.stop_words)"
   ]
  },
  {
   "cell_type": "code",
   "execution_count": 83,
   "metadata": {},
   "outputs": [],
   "source": [
    "tokens = []\n",
    "\n",
    "\"\"\" Update those tokens \"\"\"\n",
    "for doc in tokenizer.pipe(df['reviews.text'], batch_size=500):\n",
    "    doc_tokens = []\n",
    "    \n",
    "    for token in doc:\n",
    "        if (token.is_stop == False) and (token.is_punct == False):\n",
    "            doc_tokens.append(token.text.lower())\n",
    "    \n",
    "    tokens.append(doc_tokens)\n",
    "    \n",
    "df['tokens'] = tokens"
   ]
  },
  {
   "cell_type": "code",
   "execution_count": 84,
   "metadata": {},
   "outputs": [
    {
     "data": {
      "text/plain": [
       "0    [order, 3, item, bad, quality., missing, backu...\n",
       "1               [bulk, expensive, way, products, like]\n",
       "2                            [duracell, price, happy.]\n",
       "3              [work, brand, batteries, better, price]\n",
       "4            [batteries, long, lasting, price, great.]\n",
       "Name: tokens, dtype: object"
      ]
     },
     "execution_count": 84,
     "metadata": {},
     "output_type": "execute_result"
    }
   ],
   "source": [
    "df.tokens.head()"
   ]
  },
  {
   "cell_type": "code",
   "execution_count": 85,
   "metadata": {},
   "outputs": [
    {
     "data": {
      "image/png": "[encoded data removed]",
      "text/plain": [
       "<Figure size 432x288 with 1 Axes>"
      ]
     },
     "metadata": {
      "needs_background": "light"
     },
     "output_type": "display_data"
    }
   ],
   "source": [
    "wc = count(df['tokens'])\n",
    "\n",
    "wc_top20 = wc[wc['rank'] <= 20]\n",
    "\n",
    "squarify.plot(sizes=wc_top20['pct_total'], label=wc_top20['word'], alpha=.8 )\n",
    "plt.axis('off')\n",
    "plt.show()"
   ]
  },
  {
   "cell_type": "markdown",
   "metadata": {},
   "source": [
    "### Extending Stop Words\n"
   ]
  },
  {
   "cell_type": "code",
   "execution_count": 86,
   "metadata": {},
   "outputs": [
    {
     "name": "stdout",
     "output_type": "stream",
     "text": [
      "<class 'set'>\n"
     ]
    }
   ],
   "source": [
    "print(type(nlp.Defaults.stop_words))"
   ]
  },
  {
   "cell_type": "code",
   "execution_count": 89,
   "metadata": {},
   "outputs": [],
   "source": [
    "STOP_WORDS = nlp.Defaults.stop_words.union(['I', 'amazon', 'i', 'Amazon', 'it', 'it.', \"it's\", 'the', 'this',])"
   ]
  },
  {
   "cell_type": "code",
   "execution_count": 90,
   "metadata": {},
   "outputs": [],
   "source": [
    "tokens = []\n",
    "\n",
    "for doc in tokenizer.pipe(df['reviews.text'], batch_size=500):\n",
    "    doc_tokens = []\n",
    "    \n",
    "    for token in doc: \n",
    "        if token.text not in STOP_WORDS:\n",
    "            doc_tokens.append(token.text.lower())\n",
    "   \n",
    "    tokens.append(doc_tokens)\n",
    "    \n",
    "df['tokens'] = tokens"
   ]
  },
  {
   "cell_type": "code",
   "execution_count": 91,
   "metadata": {},
   "outputs": [
    {
     "data": {
      "text/html": [
       "<div>\n",
       "<style scoped>\n",
       "    .dataframe tbody tr th:only-of-type {\n",
       "        vertical-align: middle;\n",
       "    }\n",
       "\n",
       "    .dataframe tbody tr th {\n",
       "        vertical-align: top;\n",
       "    }\n",
       "\n",
       "    .dataframe thead th {\n",
       "        text-align: right;\n",
       "    }\n",
       "</style>\n",
       "<table border=\"1\" class=\"dataframe\">\n",
       "  <thead>\n",
       "    <tr style=\"text-align: right;\">\n",
       "      <th></th>\n",
       "      <th>word</th>\n",
       "      <th>appears_in</th>\n",
       "      <th>count</th>\n",
       "      <th>rank</th>\n",
       "      <th>pct_total</th>\n",
       "      <th>cul_pct_total</th>\n",
       "      <th>appears_in_pct</th>\n",
       "    </tr>\n",
       "  </thead>\n",
       "  <tbody>\n",
       "    <tr>\n",
       "      <th>86</th>\n",
       "      <td>great</td>\n",
       "      <td>7187</td>\n",
       "      <td>8183</td>\n",
       "      <td>1.0</td>\n",
       "      <td>0.021599</td>\n",
       "      <td>0.021599</td>\n",
       "      <td>0.253671</td>\n",
       "    </tr>\n",
       "    <tr>\n",
       "      <th>22</th>\n",
       "      <td>batteries</td>\n",
       "      <td>3964</td>\n",
       "      <td>5671</td>\n",
       "      <td>2.0</td>\n",
       "      <td>0.014969</td>\n",
       "      <td>0.036568</td>\n",
       "      <td>0.139912</td>\n",
       "    </tr>\n",
       "    <tr>\n",
       "      <th>72</th>\n",
       "      <td>good</td>\n",
       "      <td>4633</td>\n",
       "      <td>5148</td>\n",
       "      <td>3.0</td>\n",
       "      <td>0.013588</td>\n",
       "      <td>0.050156</td>\n",
       "      <td>0.163525</td>\n",
       "    </tr>\n",
       "    <tr>\n",
       "      <th>7995</th>\n",
       "      <td>tablet</td>\n",
       "      <td>3920</td>\n",
       "      <td>4714</td>\n",
       "      <td>4.0</td>\n",
       "      <td>0.012443</td>\n",
       "      <td>0.062598</td>\n",
       "      <td>0.138359</td>\n",
       "    </tr>\n",
       "    <tr>\n",
       "      <th>81</th>\n",
       "      <td>the</td>\n",
       "      <td>2970</td>\n",
       "      <td>3653</td>\n",
       "      <td>5.0</td>\n",
       "      <td>0.009642</td>\n",
       "      <td>0.072240</td>\n",
       "      <td>0.104828</td>\n",
       "    </tr>\n",
       "  </tbody>\n",
       "</table>\n",
       "</div>"
      ],
      "text/plain": [
       "           word  appears_in  count  rank  pct_total  cul_pct_total  \\\n",
       "86        great        7187   8183   1.0   0.021599       0.021599   \n",
       "22    batteries        3964   5671   2.0   0.014969       0.036568   \n",
       "72         good        4633   5148   3.0   0.013588       0.050156   \n",
       "7995     tablet        3920   4714   4.0   0.012443       0.062598   \n",
       "81          the        2970   3653   5.0   0.009642       0.072240   \n",
       "\n",
       "      appears_in_pct  \n",
       "86          0.253671  \n",
       "22          0.139912  \n",
       "72          0.163525  \n",
       "7995        0.138359  \n",
       "81          0.104828  "
      ]
     },
     "execution_count": 91,
     "metadata": {},
     "output_type": "execute_result"
    }
   ],
   "source": [
    "wc = count(df['tokens'])\n",
    "wc.head()"
   ]
  },
  {
   "cell_type": "code",
   "execution_count": 92,
   "metadata": {},
   "outputs": [
    {
     "data": {
      "image/png": "[encoded data removed]",
      "text/plain": [
       "<Figure size 432x288 with 1 Axes>"
      ]
     },
     "metadata": {
      "needs_background": "light"
     },
     "output_type": "display_data"
    }
   ],
   "source": [
    "wc_top20 = wc[wc['rank'] <= 20]\n",
    "\n",
    "squarify.plot(sizes=wc_top20['pct_total'], label=wc_top20['word'], alpha=.8 )\n",
    "plt.axis('off')\n",
    "plt.show()"
   ]
  },
  {
   "cell_type": "markdown",
   "metadata": {},
   "source": [
    "### Statistical Trimming\n",
    "\n",
    "So far, we have talked about stop word in relation to either broad english words or domain specific stop words. Another common approach to stop word removal is via statistical trimming. The basic idea: preserve the words that give the most about of variation in your data. \n",
    "\n",
    "Do you remember this graph?"
   ]
  },
  {
   "cell_type": "code",
   "execution_count": 93,
   "metadata": {},
   "outputs": [
    {
     "data": {
      "image/png": "[encoded data removed]",
      "text/plain": [
       "<Figure size 432x288 with 1 Axes>"
      ]
     },
     "metadata": {
      "needs_background": "light"
     },
     "output_type": "display_data"
    }
   ],
   "source": [
    "sns.lineplot(x='rank', y='cul_pct_total', data=wc);"
   ]
  },
  {
   "cell_type": "markdown",
   "metadata": {},
   "source": [
    "This graph tells us that only a *handful* of words represented 80% of words in the overall corpus. We can interpret this in two ways: \n",
    "1. The words that appear most frequently may not provide any insight into the mean on the documens since they are so prevalent. \n",
    "2. Words that appear infrequently (at the end of the graph) also probably do not add much value, because they are mentioned so rarely. \n",
    "\n",
    "Let's take a look at the words at the bottom and the top and make a decision for ourselves:"
   ]
  },
  {
   "cell_type": "code",
   "execution_count": 94,
   "metadata": {},
   "outputs": [
    {
     "data": {
      "text/html": [
       "<div>\n",
       "<style scoped>\n",
       "    .dataframe tbody tr th:only-of-type {\n",
       "        vertical-align: middle;\n",
       "    }\n",
       "\n",
       "    .dataframe tbody tr th {\n",
       "        vertical-align: top;\n",
       "    }\n",
       "\n",
       "    .dataframe thead th {\n",
       "        text-align: right;\n",
       "    }\n",
       "</style>\n",
       "<table border=\"1\" class=\"dataframe\">\n",
       "  <thead>\n",
       "    <tr style=\"text-align: right;\">\n",
       "      <th></th>\n",
       "      <th>word</th>\n",
       "      <th>appears_in</th>\n",
       "      <th>count</th>\n",
       "      <th>rank</th>\n",
       "      <th>pct_total</th>\n",
       "      <th>cul_pct_total</th>\n",
       "      <th>appears_in_pct</th>\n",
       "    </tr>\n",
       "  </thead>\n",
       "  <tbody>\n",
       "    <tr>\n",
       "      <th>86</th>\n",
       "      <td>great</td>\n",
       "      <td>7187</td>\n",
       "      <td>8183</td>\n",
       "      <td>1.0</td>\n",
       "      <td>0.021599</td>\n",
       "      <td>0.021599</td>\n",
       "      <td>0.253671</td>\n",
       "    </tr>\n",
       "    <tr>\n",
       "      <th>22</th>\n",
       "      <td>batteries</td>\n",
       "      <td>3964</td>\n",
       "      <td>5671</td>\n",
       "      <td>2.0</td>\n",
       "      <td>0.014969</td>\n",
       "      <td>0.036568</td>\n",
       "      <td>0.139912</td>\n",
       "    </tr>\n",
       "    <tr>\n",
       "      <th>72</th>\n",
       "      <td>good</td>\n",
       "      <td>4633</td>\n",
       "      <td>5148</td>\n",
       "      <td>3.0</td>\n",
       "      <td>0.013588</td>\n",
       "      <td>0.050156</td>\n",
       "      <td>0.163525</td>\n",
       "    </tr>\n",
       "    <tr>\n",
       "      <th>7995</th>\n",
       "      <td>tablet</td>\n",
       "      <td>3920</td>\n",
       "      <td>4714</td>\n",
       "      <td>4.0</td>\n",
       "      <td>0.012443</td>\n",
       "      <td>0.062598</td>\n",
       "      <td>0.138359</td>\n",
       "    </tr>\n",
       "    <tr>\n",
       "      <th>81</th>\n",
       "      <td>the</td>\n",
       "      <td>2970</td>\n",
       "      <td>3653</td>\n",
       "      <td>5.0</td>\n",
       "      <td>0.009642</td>\n",
       "      <td>0.072240</td>\n",
       "      <td>0.104828</td>\n",
       "    </tr>\n",
       "    <tr>\n",
       "      <th>120</th>\n",
       "      <td>love</td>\n",
       "      <td>3154</td>\n",
       "      <td>3458</td>\n",
       "      <td>6.0</td>\n",
       "      <td>0.009127</td>\n",
       "      <td>0.081368</td>\n",
       "      <td>0.111323</td>\n",
       "    </tr>\n",
       "    <tr>\n",
       "      <th>118</th>\n",
       "      <td>use</td>\n",
       "      <td>2881</td>\n",
       "      <td>3233</td>\n",
       "      <td>7.0</td>\n",
       "      <td>0.008533</td>\n",
       "      <td>0.089901</td>\n",
       "      <td>0.101687</td>\n",
       "    </tr>\n",
       "    <tr>\n",
       "      <th>36</th>\n",
       "      <td>bought</td>\n",
       "      <td>2916</td>\n",
       "      <td>3111</td>\n",
       "      <td>8.0</td>\n",
       "      <td>0.008211</td>\n",
       "      <td>0.098113</td>\n",
       "      <td>0.102922</td>\n",
       "    </tr>\n",
       "    <tr>\n",
       "      <th>1417</th>\n",
       "      <td>easy</td>\n",
       "      <td>2598</td>\n",
       "      <td>2823</td>\n",
       "      <td>9.0</td>\n",
       "      <td>0.007451</td>\n",
       "      <td>0.105564</td>\n",
       "      <td>0.091698</td>\n",
       "    </tr>\n",
       "    <tr>\n",
       "      <th>194</th>\n",
       "      <td>this</td>\n",
       "      <td>2685</td>\n",
       "      <td>2819</td>\n",
       "      <td>10.0</td>\n",
       "      <td>0.007441</td>\n",
       "      <td>0.113005</td>\n",
       "      <td>0.094769</td>\n",
       "    </tr>\n",
       "    <tr>\n",
       "      <th>21</th>\n",
       "      <td>price</td>\n",
       "      <td>2672</td>\n",
       "      <td>2808</td>\n",
       "      <td>11.0</td>\n",
       "      <td>0.007412</td>\n",
       "      <td>0.120416</td>\n",
       "      <td>0.094310</td>\n",
       "    </tr>\n",
       "    <tr>\n",
       "      <th>14</th>\n",
       "      <td>like</td>\n",
       "      <td>2127</td>\n",
       "      <td>2403</td>\n",
       "      <td>12.0</td>\n",
       "      <td>0.006343</td>\n",
       "      <td>0.126759</td>\n",
       "      <td>0.075074</td>\n",
       "    </tr>\n",
       "    <tr>\n",
       "      <th>5757</th>\n",
       "      <td>kindle</td>\n",
       "      <td>1805</td>\n",
       "      <td>2315</td>\n",
       "      <td>13.0</td>\n",
       "      <td>0.006110</td>\n",
       "      <td>0.132869</td>\n",
       "      <td>0.063709</td>\n",
       "    </tr>\n",
       "    <tr>\n",
       "      <th>309</th>\n",
       "      <td>it</td>\n",
       "      <td>1977</td>\n",
       "      <td>2295</td>\n",
       "      <td>14.0</td>\n",
       "      <td>0.006058</td>\n",
       "      <td>0.138927</td>\n",
       "      <td>0.069780</td>\n",
       "    </tr>\n",
       "    <tr>\n",
       "      <th>4639</th>\n",
       "      <td>loves</td>\n",
       "      <td>2086</td>\n",
       "      <td>2198</td>\n",
       "      <td>15.0</td>\n",
       "      <td>0.005802</td>\n",
       "      <td>0.144729</td>\n",
       "      <td>0.073627</td>\n",
       "    </tr>\n",
       "    <tr>\n",
       "      <th>28</th>\n",
       "      <td>long</td>\n",
       "      <td>2085</td>\n",
       "      <td>2193</td>\n",
       "      <td>16.0</td>\n",
       "      <td>0.005788</td>\n",
       "      <td>0.150517</td>\n",
       "      <td>0.073592</td>\n",
       "    </tr>\n",
       "    <tr>\n",
       "      <th>380</th>\n",
       "      <td>my</td>\n",
       "      <td>1973</td>\n",
       "      <td>2033</td>\n",
       "      <td>17.0</td>\n",
       "      <td>0.005366</td>\n",
       "      <td>0.155883</td>\n",
       "      <td>0.069639</td>\n",
       "    </tr>\n",
       "    <tr>\n",
       "      <th>23</th>\n",
       "      <td>work</td>\n",
       "      <td>1914</td>\n",
       "      <td>1997</td>\n",
       "      <td>18.0</td>\n",
       "      <td>0.005271</td>\n",
       "      <td>0.161154</td>\n",
       "      <td>0.067556</td>\n",
       "    </tr>\n",
       "    <tr>\n",
       "      <th>266</th>\n",
       "      <td>kids</td>\n",
       "      <td>1657</td>\n",
       "      <td>1922</td>\n",
       "      <td>19.0</td>\n",
       "      <td>0.005073</td>\n",
       "      <td>0.166227</td>\n",
       "      <td>0.058485</td>\n",
       "    </tr>\n",
       "    <tr>\n",
       "      <th>42</th>\n",
       "      <td>buy</td>\n",
       "      <td>1783</td>\n",
       "      <td>1915</td>\n",
       "      <td>20.0</td>\n",
       "      <td>0.005055</td>\n",
       "      <td>0.171282</td>\n",
       "      <td>0.062932</td>\n",
       "    </tr>\n",
       "    <tr>\n",
       "      <th>1493</th>\n",
       "      <td>fire</td>\n",
       "      <td>1570</td>\n",
       "      <td>1836</td>\n",
       "      <td>21.0</td>\n",
       "      <td>0.004846</td>\n",
       "      <td>0.176128</td>\n",
       "      <td>0.055414</td>\n",
       "    </tr>\n",
       "    <tr>\n",
       "      <th>176</th>\n",
       "      <td>they</td>\n",
       "      <td>1621</td>\n",
       "      <td>1802</td>\n",
       "      <td>22.0</td>\n",
       "      <td>0.004756</td>\n",
       "      <td>0.180884</td>\n",
       "      <td>0.057214</td>\n",
       "    </tr>\n",
       "    <tr>\n",
       "      <th>5</th>\n",
       "      <td>battery</td>\n",
       "      <td>1578</td>\n",
       "      <td>1788</td>\n",
       "      <td>23.0</td>\n",
       "      <td>0.004719</td>\n",
       "      <td>0.185604</td>\n",
       "      <td>0.055697</td>\n",
       "    </tr>\n",
       "    <tr>\n",
       "      <th>1483</th>\n",
       "      <td>old</td>\n",
       "      <td>1643</td>\n",
       "      <td>1752</td>\n",
       "      <td>24.0</td>\n",
       "      <td>0.004624</td>\n",
       "      <td>0.190228</td>\n",
       "      <td>0.057991</td>\n",
       "    </tr>\n",
       "    <tr>\n",
       "      <th>133</th>\n",
       "      <td>year</td>\n",
       "      <td>1444</td>\n",
       "      <td>1614</td>\n",
       "      <td>25.0</td>\n",
       "      <td>0.004260</td>\n",
       "      <td>0.194488</td>\n",
       "      <td>0.050967</td>\n",
       "    </tr>\n",
       "    <tr>\n",
       "      <th>162</th>\n",
       "      <td>batteries.</td>\n",
       "      <td>1427</td>\n",
       "      <td>1548</td>\n",
       "      <td>26.0</td>\n",
       "      <td>0.004086</td>\n",
       "      <td>0.198574</td>\n",
       "      <td>0.050367</td>\n",
       "    </tr>\n",
       "    <tr>\n",
       "      <th>66</th>\n",
       "      <td>price.</td>\n",
       "      <td>1435</td>\n",
       "      <td>1465</td>\n",
       "      <td>27.0</td>\n",
       "      <td>0.003867</td>\n",
       "      <td>0.202441</td>\n",
       "      <td>0.050649</td>\n",
       "    </tr>\n",
       "    <tr>\n",
       "      <th>115</th>\n",
       "      <td>works</td>\n",
       "      <td>1427</td>\n",
       "      <td>1448</td>\n",
       "      <td>28.0</td>\n",
       "      <td>0.003822</td>\n",
       "      <td>0.206263</td>\n",
       "      <td>0.050367</td>\n",
       "    </tr>\n",
       "    <tr>\n",
       "      <th>240</th>\n",
       "      <td>time</td>\n",
       "      <td>1219</td>\n",
       "      <td>1366</td>\n",
       "      <td>29.0</td>\n",
       "      <td>0.003606</td>\n",
       "      <td>0.209869</td>\n",
       "      <td>0.043026</td>\n",
       "    </tr>\n",
       "    <tr>\n",
       "      <th>148</th>\n",
       "      <td>don't</td>\n",
       "      <td>1192</td>\n",
       "      <td>1350</td>\n",
       "      <td>30.0</td>\n",
       "      <td>0.003563</td>\n",
       "      <td>0.213432</td>\n",
       "      <td>0.042073</td>\n",
       "    </tr>\n",
       "    <tr>\n",
       "      <th>30</th>\n",
       "      <td>these</td>\n",
       "      <td>1293</td>\n",
       "      <td>1338</td>\n",
       "      <td>31.0</td>\n",
       "      <td>0.003532</td>\n",
       "      <td>0.216963</td>\n",
       "      <td>0.045637</td>\n",
       "    </tr>\n",
       "    <tr>\n",
       "      <th>11305</th>\n",
       "      <td>tablet.</td>\n",
       "      <td>1253</td>\n",
       "      <td>1327</td>\n",
       "      <td>32.0</td>\n",
       "      <td>0.003503</td>\n",
       "      <td>0.220466</td>\n",
       "      <td>0.044226</td>\n",
       "    </tr>\n",
       "    <tr>\n",
       "      <th>400</th>\n",
       "      <td>product</td>\n",
       "      <td>1232</td>\n",
       "      <td>1302</td>\n",
       "      <td>33.0</td>\n",
       "      <td>0.003437</td>\n",
       "      <td>0.223903</td>\n",
       "      <td>0.043484</td>\n",
       "    </tr>\n",
       "    <tr>\n",
       "      <th>615</th>\n",
       "      <td>best</td>\n",
       "      <td>1171</td>\n",
       "      <td>1273</td>\n",
       "      <td>34.0</td>\n",
       "      <td>0.003360</td>\n",
       "      <td>0.227263</td>\n",
       "      <td>0.041331</td>\n",
       "    </tr>\n",
       "    <tr>\n",
       "      <th>3464</th>\n",
       "      <td>apps</td>\n",
       "      <td>1106</td>\n",
       "      <td>1262</td>\n",
       "      <td>35.0</td>\n",
       "      <td>0.003331</td>\n",
       "      <td>0.230594</td>\n",
       "      <td>0.039037</td>\n",
       "    </tr>\n",
       "    <tr>\n",
       "      <th>172</th>\n",
       "      <td>purchased</td>\n",
       "      <td>1185</td>\n",
       "      <td>1256</td>\n",
       "      <td>36.0</td>\n",
       "      <td>0.003315</td>\n",
       "      <td>0.233909</td>\n",
       "      <td>0.041825</td>\n",
       "    </tr>\n",
       "    <tr>\n",
       "      <th>135</th>\n",
       "      <td>got</td>\n",
       "      <td>1182</td>\n",
       "      <td>1247</td>\n",
       "      <td>37.0</td>\n",
       "      <td>0.003291</td>\n",
       "      <td>0.237200</td>\n",
       "      <td>0.041720</td>\n",
       "    </tr>\n",
       "    <tr>\n",
       "      <th>25</th>\n",
       "      <td>better</td>\n",
       "      <td>1101</td>\n",
       "      <td>1200</td>\n",
       "      <td>38.0</td>\n",
       "      <td>0.003167</td>\n",
       "      <td>0.240368</td>\n",
       "      <td>0.038861</td>\n",
       "    </tr>\n",
       "    <tr>\n",
       "      <th>3836</th>\n",
       "      <td>screen</td>\n",
       "      <td>1043</td>\n",
       "      <td>1184</td>\n",
       "      <td>39.0</td>\n",
       "      <td>0.003125</td>\n",
       "      <td>0.243493</td>\n",
       "      <td>0.036813</td>\n",
       "    </tr>\n",
       "    <tr>\n",
       "      <th>1197</th>\n",
       "      <td>games</td>\n",
       "      <td>1061</td>\n",
       "      <td>1130</td>\n",
       "      <td>40.0</td>\n",
       "      <td>0.002983</td>\n",
       "      <td>0.246476</td>\n",
       "      <td>0.037449</td>\n",
       "    </tr>\n",
       "    <tr>\n",
       "      <th>717</th>\n",
       "      <td>play</td>\n",
       "      <td>965</td>\n",
       "      <td>1071</td>\n",
       "      <td>41.0</td>\n",
       "      <td>0.002827</td>\n",
       "      <td>0.249303</td>\n",
       "      <td>0.034060</td>\n",
       "    </tr>\n",
       "    <tr>\n",
       "      <th>254</th>\n",
       "      <td>nice</td>\n",
       "      <td>1008</td>\n",
       "      <td>1069</td>\n",
       "      <td>42.0</td>\n",
       "      <td>0.002822</td>\n",
       "      <td>0.252124</td>\n",
       "      <td>0.035578</td>\n",
       "    </tr>\n",
       "    <tr>\n",
       "      <th>24</th>\n",
       "      <td>brand</td>\n",
       "      <td>957</td>\n",
       "      <td>1045</td>\n",
       "      <td>43.0</td>\n",
       "      <td>0.002758</td>\n",
       "      <td>0.254882</td>\n",
       "      <td>0.033778</td>\n",
       "    </tr>\n",
       "    <tr>\n",
       "      <th>1092</th>\n",
       "      <td>quality</td>\n",
       "      <td>975</td>\n",
       "      <td>1008</td>\n",
       "      <td>44.0</td>\n",
       "      <td>0.002661</td>\n",
       "      <td>0.257543</td>\n",
       "      <td>0.034413</td>\n",
       "    </tr>\n",
       "    <tr>\n",
       "      <th>656</th>\n",
       "      <td>it's</td>\n",
       "      <td>920</td>\n",
       "      <td>1004</td>\n",
       "      <td>45.0</td>\n",
       "      <td>0.002650</td>\n",
       "      <td>0.260193</td>\n",
       "      <td>0.032472</td>\n",
       "    </tr>\n",
       "    <tr>\n",
       "      <th>157</th>\n",
       "      <td>we</td>\n",
       "      <td>852</td>\n",
       "      <td>995</td>\n",
       "      <td>46.0</td>\n",
       "      <td>0.002626</td>\n",
       "      <td>0.262819</td>\n",
       "      <td>0.030072</td>\n",
       "    </tr>\n",
       "    <tr>\n",
       "      <th>1464</th>\n",
       "      <td>read</td>\n",
       "      <td>880</td>\n",
       "      <td>985</td>\n",
       "      <td>47.0</td>\n",
       "      <td>0.002600</td>\n",
       "      <td>0.265419</td>\n",
       "      <td>0.031060</td>\n",
       "    </tr>\n",
       "    <tr>\n",
       "      <th>2879</th>\n",
       "      <td>she</td>\n",
       "      <td>819</td>\n",
       "      <td>973</td>\n",
       "      <td>48.0</td>\n",
       "      <td>0.002568</td>\n",
       "      <td>0.267987</td>\n",
       "      <td>0.028907</td>\n",
       "    </tr>\n",
       "    <tr>\n",
       "      <th>258</th>\n",
       "      <td>very</td>\n",
       "      <td>936</td>\n",
       "      <td>968</td>\n",
       "      <td>49.0</td>\n",
       "      <td>0.002555</td>\n",
       "      <td>0.270542</td>\n",
       "      <td>0.033037</td>\n",
       "    </tr>\n",
       "    <tr>\n",
       "      <th>826</th>\n",
       "      <td>little</td>\n",
       "      <td>899</td>\n",
       "      <td>968</td>\n",
       "      <td>50.0</td>\n",
       "      <td>0.002555</td>\n",
       "      <td>0.273098</td>\n",
       "      <td>0.031731</td>\n",
       "    </tr>\n",
       "  </tbody>\n",
       "</table>\n",
       "</div>"
      ],
      "text/plain": [
       "             word  appears_in  count  rank  pct_total  cul_pct_total  \\\n",
       "86          great        7187   8183   1.0   0.021599       0.021599   \n",
       "22      batteries        3964   5671   2.0   0.014969       0.036568   \n",
       "72           good        4633   5148   3.0   0.013588       0.050156   \n",
       "7995       tablet        3920   4714   4.0   0.012443       0.062598   \n",
       "81            the        2970   3653   5.0   0.009642       0.072240   \n",
       "120          love        3154   3458   6.0   0.009127       0.081368   \n",
       "118           use        2881   3233   7.0   0.008533       0.089901   \n",
       "36         bought        2916   3111   8.0   0.008211       0.098113   \n",
       "1417         easy        2598   2823   9.0   0.007451       0.105564   \n",
       "194          this        2685   2819  10.0   0.007441       0.113005   \n",
       "21          price        2672   2808  11.0   0.007412       0.120416   \n",
       "14           like        2127   2403  12.0   0.006343       0.126759   \n",
       "5757       kindle        1805   2315  13.0   0.006110       0.132869   \n",
       "309            it        1977   2295  14.0   0.006058       0.138927   \n",
       "4639        loves        2086   2198  15.0   0.005802       0.144729   \n",
       "28           long        2085   2193  16.0   0.005788       0.150517   \n",
       "380            my        1973   2033  17.0   0.005366       0.155883   \n",
       "23           work        1914   1997  18.0   0.005271       0.161154   \n",
       "266          kids        1657   1922  19.0   0.005073       0.166227   \n",
       "42            buy        1783   1915  20.0   0.005055       0.171282   \n",
       "1493         fire        1570   1836  21.0   0.004846       0.176128   \n",
       "176          they        1621   1802  22.0   0.004756       0.180884   \n",
       "5         battery        1578   1788  23.0   0.004719       0.185604   \n",
       "1483          old        1643   1752  24.0   0.004624       0.190228   \n",
       "133          year        1444   1614  25.0   0.004260       0.194488   \n",
       "162    batteries.        1427   1548  26.0   0.004086       0.198574   \n",
       "66         price.        1435   1465  27.0   0.003867       0.202441   \n",
       "115         works        1427   1448  28.0   0.003822       0.206263   \n",
       "240          time        1219   1366  29.0   0.003606       0.209869   \n",
       "148         don't        1192   1350  30.0   0.003563       0.213432   \n",
       "30          these        1293   1338  31.0   0.003532       0.216963   \n",
       "11305     tablet.        1253   1327  32.0   0.003503       0.220466   \n",
       "400       product        1232   1302  33.0   0.003437       0.223903   \n",
       "615          best        1171   1273  34.0   0.003360       0.227263   \n",
       "3464         apps        1106   1262  35.0   0.003331       0.230594   \n",
       "172     purchased        1185   1256  36.0   0.003315       0.233909   \n",
       "135           got        1182   1247  37.0   0.003291       0.237200   \n",
       "25         better        1101   1200  38.0   0.003167       0.240368   \n",
       "3836       screen        1043   1184  39.0   0.003125       0.243493   \n",
       "1197        games        1061   1130  40.0   0.002983       0.246476   \n",
       "717          play         965   1071  41.0   0.002827       0.249303   \n",
       "254          nice        1008   1069  42.0   0.002822       0.252124   \n",
       "24          brand         957   1045  43.0   0.002758       0.254882   \n",
       "1092      quality         975   1008  44.0   0.002661       0.257543   \n",
       "656          it's         920   1004  45.0   0.002650       0.260193   \n",
       "157            we         852    995  46.0   0.002626       0.262819   \n",
       "1464         read         880    985  47.0   0.002600       0.265419   \n",
       "2879          she         819    973  48.0   0.002568       0.267987   \n",
       "258          very         936    968  49.0   0.002555       0.270542   \n",
       "826        little         899    968  50.0   0.002555       0.273098   \n",
       "\n",
       "       appears_in_pct  \n",
       "86           0.253671  \n",
       "22           0.139912  \n",
       "72           0.163525  \n",
       "7995         0.138359  \n",
       "81           0.104828  \n",
       "120          0.111323  \n",
       "118          0.101687  \n",
       "36           0.102922  \n",
       "1417         0.091698  \n",
       "194          0.094769  \n",
       "21           0.094310  \n",
       "14           0.075074  \n",
       "5757         0.063709  \n",
       "309          0.069780  \n",
       "4639         0.073627  \n",
       "28           0.073592  \n",
       "380          0.069639  \n",
       "23           0.067556  \n",
       "266          0.058485  \n",
       "42           0.062932  \n",
       "1493         0.055414  \n",
       "176          0.057214  \n",
       "5            0.055697  \n",
       "1483         0.057991  \n",
       "133          0.050967  \n",
       "162          0.050367  \n",
       "66           0.050649  \n",
       "115          0.050367  \n",
       "240          0.043026  \n",
       "148          0.042073  \n",
       "30           0.045637  \n",
       "11305        0.044226  \n",
       "400          0.043484  \n",
       "615          0.041331  \n",
       "3464         0.039037  \n",
       "172          0.041825  \n",
       "135          0.041720  \n",
       "25           0.038861  \n",
       "3836         0.036813  \n",
       "1197         0.037449  \n",
       "717          0.034060  \n",
       "254          0.035578  \n",
       "24           0.033778  \n",
       "1092         0.034413  \n",
       "656          0.032472  \n",
       "157          0.030072  \n",
       "1464         0.031060  \n",
       "2879         0.028907  \n",
       "258          0.033037  \n",
       "826          0.031731  "
      ]
     },
     "execution_count": 94,
     "metadata": {},
     "output_type": "execute_result"
    }
   ],
   "source": [
    "wc.head(50)"
   ]
  },
  {
   "cell_type": "code",
   "execution_count": 95,
   "metadata": {},
   "outputs": [
    {
     "data": {
      "text/plain": [
       "count    21442.000000\n",
       "mean         0.000587\n",
       "std          0.004057\n",
       "min          0.000035\n",
       "25%          0.000035\n",
       "50%          0.000071\n",
       "75%          0.000176\n",
       "max          0.253671\n",
       "Name: appears_in_pct, dtype: float64"
      ]
     },
     "execution_count": 95,
     "metadata": {},
     "output_type": "execute_result"
    }
   ],
   "source": [
    "wc['appears_in_pct'].describe()"
   ]
  },
  {
   "cell_type": "code",
   "execution_count": 96,
   "metadata": {},
   "outputs": [
    {
     "data": {
      "image/png": "[encoded data removed]",
      "text/plain": [
       "<Figure size 432x288 with 1 Axes>"
      ]
     },
     "metadata": {
      "needs_background": "light"
     },
     "output_type": "display_data"
    }
   ],
   "source": [
    "# Frequency of appears in documents\n",
    "sns.distplot(wc['appears_in_pct']);"
   ]
  },
  {
   "cell_type": "markdown",
   "metadata": {},
   "source": [
    "## Stemming & Lemmatization\n",
    "<a id=\"p3\"></a>\n",
    "\n",
    "You can see from our example above there is still some normalization to do to get a clean analysis. You notice that there many words (*i.e.* 'batteries', 'battery') which share the same root word. We can use either the process of stemming or lemmatization to trim our words down to the 'root' word. \n",
    "\n",
    "__Section Agenda__:\n",
    "\n",
    "- Which is which\n",
    "- why use one v. other\n",
    "- show side by side visualizations \n",
    "- how to do it in spacy & nltk\n",
    "- introduce PoS in here as well"
   ]
  },
  {
   "cell_type": "markdown",
   "metadata": {},
   "source": [
    "### Stemming\n",
    "\n",
    "> *a process for removing the commoner morphological and inflexional endings from words in English. Its main use is as part of a term normalisation process that is usually done when setting up Information Retrieval systems.* - [Martin Porter](https://tartarus.org/martin/PorterStemmer/)\n",
    "\n",
    "Some examples include:\n",
    "- 'ing'\n",
    "- 'ed'\n",
    "- 's'\n",
    "\n",
    "These rules are by no means comprehensive, but they are somewhere to start. Most stemming is done by well documented algorithms such as Porter, Snowball, and Dawson. Porter and its newer version Snowball are the most popular stemming algorithms today. For more information on various stemming algorithms check out [*\"A Comparative Study of Stemming Algorithms\"*](https://pdfs.semanticscholar.org/1c0c/0fa35d4ff8a2f925eb955e48d655494bd167.pdf) \n",
    "\n",
    "\n",
    "Spacy does not do stemming out of the box, but instead uses a different technique called *lemmatization* which we will discuss in the next section. Let's turn to an antique python package `nltk` for stemming. \n"
   ]
  },
  {
   "cell_type": "code",
   "execution_count": 97,
   "metadata": {},
   "outputs": [
    {
     "name": "stdout",
     "output_type": "stream",
     "text": [
      "game\n",
      "game\n",
      "game\n",
      "game\n"
     ]
    }
   ],
   "source": [
    "from nltk.stem import PorterStemmer\n",
    "\n",
    "ps = PorterStemmer()\n",
    "\n",
    "words = [\"game\",\"gaming\",\"gamed\",\"games\"]\n",
    "\n",
    "for word in words:\n",
    "    print(ps.stem(word))"
   ]
  },
  {
   "cell_type": "markdown",
   "metadata": {},
   "source": [
    "#### Two Minute Challenge\n",
    "\n",
    "Apply the Porter stemming algorithm to the tokens in the `df` dataframe. Visualize the results in the tree graph we have been using for this session."
   ]
  },
  {
   "cell_type": "code",
   "execution_count": 113,
   "metadata": {},
   "outputs": [],
   "source": [
    "# count() takes a list, so df['stems'] should be a feature of lists of stemmed tokens\n",
    "stemmed_tokens = []\n",
    "\n",
    "for doc in df['tokens']:\n",
    "    doc_tokens = []\n",
    "    \n",
    "    for token in doc: \n",
    "        if token not in STOP_WORDS:\n",
    "            doc_tokens.append(token.lower())\n",
    "   \n",
    "    stemmed_tokens.append(doc_tokens)\n",
    "    \n",
    "df['stems'] = stemmed_tokens"
   ]
  },
  {
   "cell_type": "code",
   "execution_count": 114,
   "metadata": {},
   "outputs": [
    {
     "data": {
      "text/html": [
       "<div>\n",
       "<style scoped>\n",
       "    .dataframe tbody tr th:only-of-type {\n",
       "        vertical-align: middle;\n",
       "    }\n",
       "\n",
       "    .dataframe tbody tr th {\n",
       "        vertical-align: top;\n",
       "    }\n",
       "\n",
       "    .dataframe thead th {\n",
       "        text-align: right;\n",
       "    }\n",
       "</style>\n",
       "<table border=\"1\" class=\"dataframe\">\n",
       "  <thead>\n",
       "    <tr style=\"text-align: right;\">\n",
       "      <th></th>\n",
       "      <th>id</th>\n",
       "      <th>dateAdded</th>\n",
       "      <th>dateUpdated</th>\n",
       "      <th>name</th>\n",
       "      <th>asins</th>\n",
       "      <th>brand</th>\n",
       "      <th>categories</th>\n",
       "      <th>primaryCategories</th>\n",
       "      <th>imageURLs</th>\n",
       "      <th>keys</th>\n",
       "      <th>...</th>\n",
       "      <th>reviews.id</th>\n",
       "      <th>reviews.numHelpful</th>\n",
       "      <th>reviews.rating</th>\n",
       "      <th>reviews.sourceURLs</th>\n",
       "      <th>reviews.text</th>\n",
       "      <th>reviews.title</th>\n",
       "      <th>reviews.username</th>\n",
       "      <th>sourceURLs</th>\n",
       "      <th>tokens</th>\n",
       "      <th>stems</th>\n",
       "    </tr>\n",
       "  </thead>\n",
       "  <tbody>\n",
       "    <tr>\n",
       "      <th>0</th>\n",
       "      <td>AVpgNzjwLJeJML43Kpxn</td>\n",
       "      <td>2015-10-30T08:59:32Z</td>\n",
       "      <td>2019-04-25T09:08:16Z</td>\n",
       "      <td>AmazonBasics AAA Performance Alkaline Batterie...</td>\n",
       "      <td>B00QWO9P0O,B00LH3DMUO</td>\n",
       "      <td>Amazonbasics</td>\n",
       "      <td>AA,AAA,Health,Electronics,Health &amp; Household,C...</td>\n",
       "      <td>Health &amp; Beauty</td>\n",
       "      <td>https://images-na.ssl-images-amazon.com/images...</td>\n",
       "      <td>amazonbasics/hl002619,amazonbasicsaaaperforman...</td>\n",
       "      <td>...</td>\n",
       "      <td>NaN</td>\n",
       "      <td>NaN</td>\n",
       "      <td>3</td>\n",
       "      <td>https://www.amazon.com/product-reviews/B00QWO9...</td>\n",
       "      <td>I order 3 of them and one of the item is bad q...</td>\n",
       "      <td>... 3 of them and one of the item is bad quali...</td>\n",
       "      <td>Byger yang</td>\n",
       "      <td>https://www.barcodable.com/upc/841710106442,ht...</td>\n",
       "      <td>[order, 3, item, bad, quality., is, missing, b...</td>\n",
       "      <td>[order, 3, item, bad, quality., missing, backu...</td>\n",
       "    </tr>\n",
       "    <tr>\n",
       "      <th>1</th>\n",
       "      <td>AVpgNzjwLJeJML43Kpxn</td>\n",
       "      <td>2015-10-30T08:59:32Z</td>\n",
       "      <td>2019-04-25T09:08:16Z</td>\n",
       "      <td>AmazonBasics AAA Performance Alkaline Batterie...</td>\n",
       "      <td>B00QWO9P0O,B00LH3DMUO</td>\n",
       "      <td>Amazonbasics</td>\n",
       "      <td>AA,AAA,Health,Electronics,Health &amp; Household,C...</td>\n",
       "      <td>Health &amp; Beauty</td>\n",
       "      <td>https://images-na.ssl-images-amazon.com/images...</td>\n",
       "      <td>amazonbasics/hl002619,amazonbasicsaaaperforman...</td>\n",
       "      <td>...</td>\n",
       "      <td>NaN</td>\n",
       "      <td>NaN</td>\n",
       "      <td>4</td>\n",
       "      <td>https://www.amazon.com/product-reviews/B00QWO9...</td>\n",
       "      <td>Bulk is always the less expensive way to go fo...</td>\n",
       "      <td>... always the less expensive way to go for pr...</td>\n",
       "      <td>ByMG</td>\n",
       "      <td>https://www.barcodable.com/upc/841710106442,ht...</td>\n",
       "      <td>[bulk, expensive, way, products, like]</td>\n",
       "      <td>[bulk, expensive, way, products, like]</td>\n",
       "    </tr>\n",
       "    <tr>\n",
       "      <th>2</th>\n",
       "      <td>AVpgNzjwLJeJML43Kpxn</td>\n",
       "      <td>2015-10-30T08:59:32Z</td>\n",
       "      <td>2019-04-25T09:08:16Z</td>\n",
       "      <td>AmazonBasics AAA Performance Alkaline Batterie...</td>\n",
       "      <td>B00QWO9P0O,B00LH3DMUO</td>\n",
       "      <td>Amazonbasics</td>\n",
       "      <td>AA,AAA,Health,Electronics,Health &amp; Household,C...</td>\n",
       "      <td>Health &amp; Beauty</td>\n",
       "      <td>https://images-na.ssl-images-amazon.com/images...</td>\n",
       "      <td>amazonbasics/hl002619,amazonbasicsaaaperforman...</td>\n",
       "      <td>...</td>\n",
       "      <td>NaN</td>\n",
       "      <td>NaN</td>\n",
       "      <td>5</td>\n",
       "      <td>https://www.amazon.com/product-reviews/B00QWO9...</td>\n",
       "      <td>Well they are not Duracell but for the price i...</td>\n",
       "      <td>... are not Duracell but for the price i am ha...</td>\n",
       "      <td>BySharon Lambert</td>\n",
       "      <td>https://www.barcodable.com/upc/841710106442,ht...</td>\n",
       "      <td>[well, duracell, price, happy.]</td>\n",
       "      <td>[duracell, price, happy.]</td>\n",
       "    </tr>\n",
       "    <tr>\n",
       "      <th>3</th>\n",
       "      <td>AVpgNzjwLJeJML43Kpxn</td>\n",
       "      <td>2015-10-30T08:59:32Z</td>\n",
       "      <td>2019-04-25T09:08:16Z</td>\n",
       "      <td>AmazonBasics AAA Performance Alkaline Batterie...</td>\n",
       "      <td>B00QWO9P0O,B00LH3DMUO</td>\n",
       "      <td>Amazonbasics</td>\n",
       "      <td>AA,AAA,Health,Electronics,Health &amp; Household,C...</td>\n",
       "      <td>Health &amp; Beauty</td>\n",
       "      <td>https://images-na.ssl-images-amazon.com/images...</td>\n",
       "      <td>amazonbasics/hl002619,amazonbasicsaaaperforman...</td>\n",
       "      <td>...</td>\n",
       "      <td>NaN</td>\n",
       "      <td>NaN</td>\n",
       "      <td>5</td>\n",
       "      <td>https://www.amazon.com/product-reviews/B00QWO9...</td>\n",
       "      <td>Seem to work as well as name brand batteries a...</td>\n",
       "      <td>... as well as name brand batteries at a much ...</td>\n",
       "      <td>Bymark sexson</td>\n",
       "      <td>https://www.barcodable.com/upc/841710106442,ht...</td>\n",
       "      <td>[seem, work, brand, batteries, better, price]</td>\n",
       "      <td>[work, brand, batteries, better, price]</td>\n",
       "    </tr>\n",
       "    <tr>\n",
       "      <th>4</th>\n",
       "      <td>AVpgNzjwLJeJML43Kpxn</td>\n",
       "      <td>2015-10-30T08:59:32Z</td>\n",
       "      <td>2019-04-25T09:08:16Z</td>\n",
       "      <td>AmazonBasics AAA Performance Alkaline Batterie...</td>\n",
       "      <td>B00QWO9P0O,B00LH3DMUO</td>\n",
       "      <td>Amazonbasics</td>\n",
       "      <td>AA,AAA,Health,Electronics,Health &amp; Household,C...</td>\n",
       "      <td>Health &amp; Beauty</td>\n",
       "      <td>https://images-na.ssl-images-amazon.com/images...</td>\n",
       "      <td>amazonbasics/hl002619,amazonbasicsaaaperforman...</td>\n",
       "      <td>...</td>\n",
       "      <td>NaN</td>\n",
       "      <td>NaN</td>\n",
       "      <td>5</td>\n",
       "      <td>https://www.amazon.com/product-reviews/B00QWO9...</td>\n",
       "      <td>These batteries are very long lasting the pric...</td>\n",
       "      <td>... batteries are very long lasting the price ...</td>\n",
       "      <td>Bylinda</td>\n",
       "      <td>https://www.barcodable.com/upc/841710106442,ht...</td>\n",
       "      <td>[these, batteries, long, lasting, price, great.]</td>\n",
       "      <td>[batteries, long, lasting, price, great.]</td>\n",
       "    </tr>\n",
       "  </tbody>\n",
       "</table>\n",
       "<p>5 rows × 26 columns</p>\n",
       "</div>"
      ],
      "text/plain": [
       "                     id             dateAdded           dateUpdated  \\\n",
       "0  AVpgNzjwLJeJML43Kpxn  2015-10-30T08:59:32Z  2019-04-25T09:08:16Z   \n",
       "1  AVpgNzjwLJeJML43Kpxn  2015-10-30T08:59:32Z  2019-04-25T09:08:16Z   \n",
       "2  AVpgNzjwLJeJML43Kpxn  2015-10-30T08:59:32Z  2019-04-25T09:08:16Z   \n",
       "3  AVpgNzjwLJeJML43Kpxn  2015-10-30T08:59:32Z  2019-04-25T09:08:16Z   \n",
       "4  AVpgNzjwLJeJML43Kpxn  2015-10-30T08:59:32Z  2019-04-25T09:08:16Z   \n",
       "\n",
       "                                                name                  asins  \\\n",
       "0  AmazonBasics AAA Performance Alkaline Batterie...  B00QWO9P0O,B00LH3DMUO   \n",
       "1  AmazonBasics AAA Performance Alkaline Batterie...  B00QWO9P0O,B00LH3DMUO   \n",
       "2  AmazonBasics AAA Performance Alkaline Batterie...  B00QWO9P0O,B00LH3DMUO   \n",
       "3  AmazonBasics AAA Performance Alkaline Batterie...  B00QWO9P0O,B00LH3DMUO   \n",
       "4  AmazonBasics AAA Performance Alkaline Batterie...  B00QWO9P0O,B00LH3DMUO   \n",
       "\n",
       "          brand                                         categories  \\\n",
       "0  Amazonbasics  AA,AAA,Health,Electronics,Health & Household,C...   \n",
       "1  Amazonbasics  AA,AAA,Health,Electronics,Health & Household,C...   \n",
       "2  Amazonbasics  AA,AAA,Health,Electronics,Health & Household,C...   \n",
       "3  Amazonbasics  AA,AAA,Health,Electronics,Health & Household,C...   \n",
       "4  Amazonbasics  AA,AAA,Health,Electronics,Health & Household,C...   \n",
       "\n",
       "  primaryCategories                                          imageURLs  \\\n",
       "0   Health & Beauty  https://images-na.ssl-images-amazon.com/images...   \n",
       "1   Health & Beauty  https://images-na.ssl-images-amazon.com/images...   \n",
       "2   Health & Beauty  https://images-na.ssl-images-amazon.com/images...   \n",
       "3   Health & Beauty  https://images-na.ssl-images-amazon.com/images...   \n",
       "4   Health & Beauty  https://images-na.ssl-images-amazon.com/images...   \n",
       "\n",
       "                                                keys  \\\n",
       "0  amazonbasics/hl002619,amazonbasicsaaaperforman...   \n",
       "1  amazonbasics/hl002619,amazonbasicsaaaperforman...   \n",
       "2  amazonbasics/hl002619,amazonbasicsaaaperforman...   \n",
       "3  amazonbasics/hl002619,amazonbasicsaaaperforman...   \n",
       "4  amazonbasics/hl002619,amazonbasicsaaaperforman...   \n",
       "\n",
       "                         ...                         reviews.id  \\\n",
       "0                        ...                                NaN   \n",
       "1                        ...                                NaN   \n",
       "2                        ...                                NaN   \n",
       "3                        ...                                NaN   \n",
       "4                        ...                                NaN   \n",
       "\n",
       "  reviews.numHelpful reviews.rating  \\\n",
       "0                NaN              3   \n",
       "1                NaN              4   \n",
       "2                NaN              5   \n",
       "3                NaN              5   \n",
       "4                NaN              5   \n",
       "\n",
       "                                  reviews.sourceURLs  \\\n",
       "0  https://www.amazon.com/product-reviews/B00QWO9...   \n",
       "1  https://www.amazon.com/product-reviews/B00QWO9...   \n",
       "2  https://www.amazon.com/product-reviews/B00QWO9...   \n",
       "3  https://www.amazon.com/product-reviews/B00QWO9...   \n",
       "4  https://www.amazon.com/product-reviews/B00QWO9...   \n",
       "\n",
       "                                        reviews.text  \\\n",
       "0  I order 3 of them and one of the item is bad q...   \n",
       "1  Bulk is always the less expensive way to go fo...   \n",
       "2  Well they are not Duracell but for the price i...   \n",
       "3  Seem to work as well as name brand batteries a...   \n",
       "4  These batteries are very long lasting the pric...   \n",
       "\n",
       "                                       reviews.title  reviews.username  \\\n",
       "0  ... 3 of them and one of the item is bad quali...        Byger yang   \n",
       "1  ... always the less expensive way to go for pr...              ByMG   \n",
       "2  ... are not Duracell but for the price i am ha...  BySharon Lambert   \n",
       "3  ... as well as name brand batteries at a much ...     Bymark sexson   \n",
       "4  ... batteries are very long lasting the price ...           Bylinda   \n",
       "\n",
       "                                          sourceURLs  \\\n",
       "0  https://www.barcodable.com/upc/841710106442,ht...   \n",
       "1  https://www.barcodable.com/upc/841710106442,ht...   \n",
       "2  https://www.barcodable.com/upc/841710106442,ht...   \n",
       "3  https://www.barcodable.com/upc/841710106442,ht...   \n",
       "4  https://www.barcodable.com/upc/841710106442,ht...   \n",
       "\n",
       "                                              tokens  \\\n",
       "0  [order, 3, item, bad, quality., is, missing, b...   \n",
       "1             [bulk, expensive, way, products, like]   \n",
       "2                    [well, duracell, price, happy.]   \n",
       "3      [seem, work, brand, batteries, better, price]   \n",
       "4   [these, batteries, long, lasting, price, great.]   \n",
       "\n",
       "                                               stems  \n",
       "0  [order, 3, item, bad, quality., missing, backu...  \n",
       "1             [bulk, expensive, way, products, like]  \n",
       "2                          [duracell, price, happy.]  \n",
       "3            [work, brand, batteries, better, price]  \n",
       "4          [batteries, long, lasting, price, great.]  \n",
       "\n",
       "[5 rows x 26 columns]"
      ]
     },
     "execution_count": 114,
     "metadata": {},
     "output_type": "execute_result"
    }
   ],
   "source": [
    "df.head()"
   ]
  },
  {
   "cell_type": "code",
   "execution_count": 115,
   "metadata": {},
   "outputs": [
    {
     "data": {
      "image/png": "[encoded data removed]",
      "text/plain": [
       "<Figure size 432x288 with 1 Axes>"
      ]
     },
     "metadata": {
      "needs_background": "light"
     },
     "output_type": "display_data"
    }
   ],
   "source": [
    "wc = count(df['stems'])\n",
    "\n",
    "wc_top20 = wc[wc['rank'] <= 20]\n",
    "\n",
    "squarify.plot(sizes=wc_top20['pct_total'], label=wc_top20['word'], alpha=.8 )\n",
    "plt.axis('off')\n",
    "plt.show()"
   ]
  },
  {
   "cell_type": "markdown",
   "metadata": {
    "toc-hr-collapsed": false
   },
   "source": [
    "### Lemmatization\n",
    "\n",
    "You notice immediately that results are kinda funky - words just oddly chopped off. The Porter algorithm did exactly what it knows to do: chop off endings. Stemming works well in applications where humans don't have to worry about reading the results. Search engines and more broadly information retrival algorithms use stemming. Why? Becuase it's fast. \n",
    "\n",
    "Lemmatization on the other hand is more methodical. The goal is to transform a word into's base form called a lemma. Plural nouns with funky spellings get transformed to singular tense. Verbs are all transformed to the transitive. Nice tidy data for a visualization. :) However, this tidy data can come at computational cost. Spacy does a pretty freaking good job of it though. Let's take a look:"
   ]
  },
  {
   "cell_type": "code",
   "execution_count": 116,
   "metadata": {},
   "outputs": [
    {
     "name": "stdout",
     "output_type": "stream",
     "text": [
      "this\n",
      "be\n",
      "the\n",
      "start\n",
      "of\n",
      "-PRON-\n",
      "NLP\n",
      "adventure\n",
      ".\n",
      "-PRON-\n",
      "start\n",
      "here\n",
      "with\n",
      "Spacy\n",
      ".\n"
     ]
    }
   ],
   "source": [
    "sent = \"This is the start of our NLP adventure. We started here with Spacy.\"\n",
    "\n",
    "doc = nlp(sent)\n",
    "\n",
    "# Lemma Attributes\n",
    "for token in doc:\n",
    "    print(token.lemma_)"
   ]
  },
  {
   "cell_type": "code",
   "execution_count": 118,
   "metadata": {},
   "outputs": [],
   "source": [
    "# Wrap it all in a function\n",
    "def get_lemmas(text):\n",
    "    lemmas = []\n",
    "    \n",
    "    doc = nlp(text)\n",
    "    \n",
    "    for token in doc:\n",
    "        if ((token.is_stop == False) and (token.is_punct == False))\\\n",
    "        and (token.pos_ != 'PRON'):\n",
    "            lemmas.append(token.lemma_)\n",
    "    \n",
    "    return lemmas"
   ]
  },
  {
   "cell_type": "code",
   "execution_count": 119,
   "metadata": {},
   "outputs": [],
   "source": [
    "df['lemmas'] = df['reviews.text'].apply(get_lemmas)"
   ]
  },
  {
   "cell_type": "code",
   "execution_count": 120,
   "metadata": {},
   "outputs": [
    {
     "data": {
      "text/plain": [
       "0    [order, 3, item, bad, quality, miss, backup, s...\n",
       "1                [Bulk, expensive, way, product, like]\n",
       "2                             [Duracell, price, happy]\n",
       "3                  [work, brand, battery, well, price]\n",
       "4                  [battery, long, last, price, great]\n",
       "Name: lemmas, dtype: object"
      ]
     },
     "execution_count": 120,
     "metadata": {},
     "output_type": "execute_result"
    }
   ],
   "source": [
    "df['lemmas'].head()"
   ]
  },
  {
   "cell_type": "code",
   "execution_count": 121,
   "metadata": {},
   "outputs": [
    {
     "data": {
      "image/png": "[encoded data removed]",
      "text/plain": [
       "<Figure size 432x288 with 1 Axes>"
      ]
     },
     "metadata": {
      "needs_background": "light"
     },
     "output_type": "display_data"
    }
   ],
   "source": [
    "wc = count(df['lemmas'])\n",
    "wc_top20 = wc[wc['rank'] <= 20]\n",
    "\n",
    "squarify.plot(sizes=wc_top20['pct_total'], label=wc_top20['word'], alpha=.8 )\n",
    "plt.axis('off')\n",
    "plt.show()"
   ]
  },
  {
   "cell_type": "markdown",
   "metadata": {
    "toc-hr-collapsed": true
   },
   "source": [
    "### What else should I know? \n",
    "- NER\n",
    "- Dependcy Trees \n",
    "- Generators\n",
    "- the major libraries (NLTK, Spacy, Gensim)"
   ]
  }
 ],
 "metadata": {
  "kernelspec": {
   "display_name": "U4-S1-NLP (Python 3)",
   "language": "python",
   "name": "u4-s1-nlp"
  },
  "language_info": {
   "codemirror_mode": {
    "name": "ipython",
    "version": 3
   },
   "file_extension": ".py",
   "mimetype": "text/x-python",
   "name": "python",
   "nbconvert_exporter": "python",
   "pygments_lexer": "ipython3",
   "version": "3.7.3"
  },
  "toc-autonumbering": true,
  "toc-showcode": false,
  "toc-showmarkdowntxt": false
 },
 "nbformat": 4,
 "nbformat_minor": 4
}
