{
 "cells": [
  {
   "cell_type": "markdown",
   "metadata": {},
   "source": [
    "<img align=\"left\" src=\"https://lever-client-logos.s3.amazonaws.com/864372b1-534c-480e-acd5-9711f850815c-1524247202159.png\" width=200>\n",
    "<br></br>\n",
    "<br></br>\n",
    "\n",
    "# Sprint Challenge\n",
    "## *Data Science Unit 4 Sprint 1*\n",
    "\n",
    "After a week of Natural Language Processing, you've learned some cool new stuff: how to process text, how turn text into vectors, and how to model topics from documents. Apply your newly acquired skills to one of the most famous NLP datasets out there: [Yelp](https://www.yelp.com/dataset/challenge). As part of the job selection process, some of my friends have been asked to create analysis of this dataset, so I want to empower you to have a head start.  \n",
    "\n",
    "The real dataset is massive (almost 8 gigs uncompressed). I've sampled the data for you to something more managable for the Sprint Challenge. You can analyze the full dataset as a stretch goal or after the sprint challenge. As you work on the challenge, I suggest adding notes about your findings and things you want to analyze in the future.\n",
    "\n",
    "## Challenge Objectives\n",
    "*Successfully complete these all these objectives to earn a 2. There are more details on each objective further down in the notebook.*\n",
    "* <a href=\"#p1\">Part 1</a>: Write a function to tokenize the yelp reviews\n",
    "* <a href=\"#p2\">Part 2</a>: Create a vector representation of those tokens\n",
    "* <a href=\"#p3\">Part 3</a>: Use your tokens in a classification model on yelp rating\n",
    "* <a href=\"#p4\">Part 4</a>: Estimate & Interpret a topic model of the Yelp reviews"
   ]
  },
  {
   "cell_type": "markdown",
   "metadata": {},
   "source": [
    "### Import Modules & Read Yelp Data"
   ]
  },
  {
   "cell_type": "code",
   "execution_count": 121,
   "metadata": {},
   "outputs": [],
   "source": [
    "# Standard Library\n",
    "import re\n",
    "import string\n",
    "\n",
    "# DS Classics\n",
    "import pandas as pd\n",
    "import numpy as np\n",
    "\n",
    "# NLP\n",
    "import spacy\n",
    "import gensim\n",
    "nlp = spacy.load(\"en_core_web_sm\")\n",
    "from gensim import corpora\n",
    "from gensim.utils import file_or_filename, simple_preprocess\n",
    "from gensim.parsing.preprocessing import STOPWORDS\n",
    "from gensim.models.ldamulticore import LdaMulticore\n",
    "from gensim.models.coherencemodel import CoherenceModel\n",
    "\n",
    "# Models\n",
    "from sklearn.pipeline import Pipeline\n",
    "from sklearn.model_selection import GridSearchCV\n",
    "from sklearn.neighbors import NearestNeighbors\n",
    "from sklearn.linear_model import SGDClassifier\n",
    "\n",
    "# Visualization\n",
    "import matplotlib.pyplot as plt\n",
    "import squarify\n",
    "import pyLDAvis.gensim\n",
    "pyLDAvis.enable_notebook()"
   ]
  },
  {
   "cell_type": "code",
   "execution_count": 122,
   "metadata": {},
   "outputs": [],
   "source": [
    "yelp = pd.read_json('./data/review_sample.json', lines=True)"
   ]
  },
  {
   "cell_type": "code",
   "execution_count": 123,
   "metadata": {},
   "outputs": [
    {
     "data": {
      "text/html": [
       "<div>\n",
       "<style scoped>\n",
       "    .dataframe tbody tr th:only-of-type {\n",
       "        vertical-align: middle;\n",
       "    }\n",
       "\n",
       "    .dataframe tbody tr th {\n",
       "        vertical-align: top;\n",
       "    }\n",
       "\n",
       "    .dataframe thead th {\n",
       "        text-align: right;\n",
       "    }\n",
       "</style>\n",
       "<table border=\"1\" class=\"dataframe\">\n",
       "  <thead>\n",
       "    <tr style=\"text-align: right;\">\n",
       "      <th></th>\n",
       "      <th>business_id</th>\n",
       "      <th>cool</th>\n",
       "      <th>date</th>\n",
       "      <th>funny</th>\n",
       "      <th>review_id</th>\n",
       "      <th>stars</th>\n",
       "      <th>text</th>\n",
       "      <th>useful</th>\n",
       "      <th>user_id</th>\n",
       "    </tr>\n",
       "  </thead>\n",
       "  <tbody>\n",
       "    <tr>\n",
       "      <th>0</th>\n",
       "      <td>nDuEqIyRc8YKS1q1fX0CZg</td>\n",
       "      <td>1</td>\n",
       "      <td>2015-03-31 16:50:30</td>\n",
       "      <td>0</td>\n",
       "      <td>eZs2tpEJtXPwawvHnHZIgQ</td>\n",
       "      <td>1</td>\n",
       "      <td>BEWARE!!! FAKE, FAKE, FAKE....We also own a sm...</td>\n",
       "      <td>10</td>\n",
       "      <td>n1LM36qNg4rqGXIcvVXv8w</td>\n",
       "    </tr>\n",
       "    <tr>\n",
       "      <th>1</th>\n",
       "      <td>eMYeEapscbKNqUDCx705hg</td>\n",
       "      <td>0</td>\n",
       "      <td>2015-12-16 05:31:03</td>\n",
       "      <td>0</td>\n",
       "      <td>DoQDWJsNbU0KL1O29l_Xug</td>\n",
       "      <td>4</td>\n",
       "      <td>Came here for lunch Togo. Service was quick. S...</td>\n",
       "      <td>0</td>\n",
       "      <td>5CgjjDAic2-FAvCtiHpytA</td>\n",
       "    </tr>\n",
       "    <tr>\n",
       "      <th>2</th>\n",
       "      <td>6Q7-wkCPc1KF75jZLOTcMw</td>\n",
       "      <td>1</td>\n",
       "      <td>2010-06-20 19:14:48</td>\n",
       "      <td>1</td>\n",
       "      <td>DDOdGU7zh56yQHmUnL1idQ</td>\n",
       "      <td>3</td>\n",
       "      <td>I've been to Vegas dozens of times and had nev...</td>\n",
       "      <td>2</td>\n",
       "      <td>BdV-cf3LScmb8kZ7iiBcMA</td>\n",
       "    </tr>\n",
       "    <tr>\n",
       "      <th>3</th>\n",
       "      <td>k3zrItO4l9hwfLRwHBDc9w</td>\n",
       "      <td>3</td>\n",
       "      <td>2010-07-13 00:33:45</td>\n",
       "      <td>4</td>\n",
       "      <td>LfTMUWnfGFMOfOIyJcwLVA</td>\n",
       "      <td>1</td>\n",
       "      <td>We went here on a night where they closed off ...</td>\n",
       "      <td>5</td>\n",
       "      <td>cZZnBqh4gAEy4CdNvJailQ</td>\n",
       "    </tr>\n",
       "    <tr>\n",
       "      <th>4</th>\n",
       "      <td>6hpfRwGlOzbNv7k5eP9rsQ</td>\n",
       "      <td>1</td>\n",
       "      <td>2018-06-30 02:30:01</td>\n",
       "      <td>0</td>\n",
       "      <td>zJSUdI7bJ8PNJAg4lnl_Gg</td>\n",
       "      <td>4</td>\n",
       "      <td>3.5 to 4 stars\\n\\nNot bad for the price, $12.9...</td>\n",
       "      <td>5</td>\n",
       "      <td>n9QO4ClYAS7h9fpQwa5bhA</td>\n",
       "    </tr>\n",
       "  </tbody>\n",
       "</table>\n",
       "</div>"
      ],
      "text/plain": [
       "              business_id  cool                date  funny  \\\n",
       "0  nDuEqIyRc8YKS1q1fX0CZg     1 2015-03-31 16:50:30      0   \n",
       "1  eMYeEapscbKNqUDCx705hg     0 2015-12-16 05:31:03      0   \n",
       "2  6Q7-wkCPc1KF75jZLOTcMw     1 2010-06-20 19:14:48      1   \n",
       "3  k3zrItO4l9hwfLRwHBDc9w     3 2010-07-13 00:33:45      4   \n",
       "4  6hpfRwGlOzbNv7k5eP9rsQ     1 2018-06-30 02:30:01      0   \n",
       "\n",
       "                review_id  stars  \\\n",
       "0  eZs2tpEJtXPwawvHnHZIgQ      1   \n",
       "1  DoQDWJsNbU0KL1O29l_Xug      4   \n",
       "2  DDOdGU7zh56yQHmUnL1idQ      3   \n",
       "3  LfTMUWnfGFMOfOIyJcwLVA      1   \n",
       "4  zJSUdI7bJ8PNJAg4lnl_Gg      4   \n",
       "\n",
       "                                                text  useful  \\\n",
       "0  BEWARE!!! FAKE, FAKE, FAKE....We also own a sm...      10   \n",
       "1  Came here for lunch Togo. Service was quick. S...       0   \n",
       "2  I've been to Vegas dozens of times and had nev...       2   \n",
       "3  We went here on a night where they closed off ...       5   \n",
       "4  3.5 to 4 stars\\n\\nNot bad for the price, $12.9...       5   \n",
       "\n",
       "                  user_id  \n",
       "0  n1LM36qNg4rqGXIcvVXv8w  \n",
       "1  5CgjjDAic2-FAvCtiHpytA  \n",
       "2  BdV-cf3LScmb8kZ7iiBcMA  \n",
       "3  cZZnBqh4gAEy4CdNvJailQ  \n",
       "4  n9QO4ClYAS7h9fpQwa5bhA  "
      ]
     },
     "execution_count": 123,
     "metadata": {},
     "output_type": "execute_result"
    }
   ],
   "source": [
    "yelp.head()"
   ]
  },
  {
   "cell_type": "code",
   "execution_count": 124,
   "metadata": {},
   "outputs": [
    {
     "name": "stdout",
     "output_type": "stream",
     "text": [
      "<class 'pandas.core.frame.DataFrame'>\n",
      "RangeIndex: 10000 entries, 0 to 9999\n",
      "Data columns (total 9 columns):\n",
      "business_id    10000 non-null object\n",
      "cool           10000 non-null int64\n",
      "date           10000 non-null datetime64[ns]\n",
      "funny          10000 non-null int64\n",
      "review_id      10000 non-null object\n",
      "stars          10000 non-null int64\n",
      "text           10000 non-null object\n",
      "useful         10000 non-null int64\n",
      "user_id        10000 non-null object\n",
      "dtypes: datetime64[ns](1), int64(4), object(4)\n",
      "memory usage: 703.2+ KB\n"
     ]
    }
   ],
   "source": [
    "yelp.info()"
   ]
  },
  {
   "cell_type": "markdown",
   "metadata": {},
   "source": [
    "## Part 1: Tokenize Function\n",
    "<a id=\"#p1\"></a>\n",
    "\n",
    "Complete the function `tokenize`. Your function should\n",
    "- accept one document at a time\n",
    "- return a list of tokens\n",
    "\n",
    "You are free to use any method you have learned this week."
   ]
  },
  {
   "cell_type": "code",
   "execution_count": 125,
   "metadata": {},
   "outputs": [],
   "source": [
    "def tokenize(text):\n",
    "    \"\"\"\n",
    "    Given a document (str) return a list of lemmatized tokens.\n",
    "\n",
    "    Parameters:\n",
    "    ----------------\n",
    "    text (str): text data - could be a DataFrame column\n",
    "\n",
    "    Returns:\n",
    "    ----------------\n",
    "    lemma (list[str]): list of lemmatized tokens\n",
    "    \"\"\"\n",
    "    doc = nlp(text)\n",
    "    lemma = [token.lemma_.lower() for token in doc if (token.is_stop == False)\\\n",
    "             and (token.is_punct != True)\\\n",
    "             and (token.lemma_ != '-PRON-')]\n",
    "\n",
    "    return lemma"
   ]
  },
  {
   "cell_type": "code",
   "execution_count": 126,
   "metadata": {},
   "outputs": [
    {
     "data": {
      "text/plain": [
       "['data', 'science', 'preprocess', 'text']"
      ]
     },
     "execution_count": 126,
     "metadata": {},
     "output_type": "execute_result"
    }
   ],
   "source": [
    "tokenize(\"This is data science and we preprocess our text.\")"
   ]
  },
  {
   "cell_type": "markdown",
   "metadata": {},
   "source": [
    "## Part 2: Vector Representation\n",
    "<a id=\"#p2\"></a>\n",
    "1. Create a vector representation of the reviews\n",
    "2. Write a fake review and query for the 10 most similiar reviews, print the text of the reviews. Do you notice any patterns?\n",
    "    - Given the size of the dataset, it will probably be best to use a `NearestNeighbors` model for this. "
   ]
  },
  {
   "cell_type": "code",
   "execution_count": 127,
   "metadata": {},
   "outputs": [
    {
     "data": {
      "text/html": [
       "<div>\n",
       "<style scoped>\n",
       "    .dataframe tbody tr th:only-of-type {\n",
       "        vertical-align: middle;\n",
       "    }\n",
       "\n",
       "    .dataframe tbody tr th {\n",
       "        vertical-align: top;\n",
       "    }\n",
       "\n",
       "    .dataframe thead th {\n",
       "        text-align: right;\n",
       "    }\n",
       "</style>\n",
       "<table border=\"1\" class=\"dataframe\">\n",
       "  <thead>\n",
       "    <tr style=\"text-align: right;\">\n",
       "      <th></th>\n",
       "      <th>00</th>\n",
       "      <th>000</th>\n",
       "      <th>00am</th>\n",
       "      <th>00pm</th>\n",
       "      <th>01</th>\n",
       "      <th>04</th>\n",
       "      <th>05</th>\n",
       "      <th>06</th>\n",
       "      <th>07</th>\n",
       "      <th>08</th>\n",
       "      <th>...</th>\n",
       "      <th>zoo</th>\n",
       "      <th>zucchini</th>\n",
       "      <th>zumba</th>\n",
       "      <th>zuzana</th>\n",
       "      <th>ça</th>\n",
       "      <th>équipe</th>\n",
       "      <th>érable</th>\n",
       "      <th>était</th>\n",
       "      <th>été</th>\n",
       "      <th>être</th>\n",
       "    </tr>\n",
       "  </thead>\n",
       "  <tbody>\n",
       "    <tr>\n",
       "      <th>0</th>\n",
       "      <td>0.0</td>\n",
       "      <td>0.0</td>\n",
       "      <td>0.0</td>\n",
       "      <td>0.0</td>\n",
       "      <td>0.0</td>\n",
       "      <td>0.0</td>\n",
       "      <td>0.0</td>\n",
       "      <td>0.0</td>\n",
       "      <td>0.0</td>\n",
       "      <td>0.0</td>\n",
       "      <td>...</td>\n",
       "      <td>0.0</td>\n",
       "      <td>0.0</td>\n",
       "      <td>0.0</td>\n",
       "      <td>0.0</td>\n",
       "      <td>0.0</td>\n",
       "      <td>0.0</td>\n",
       "      <td>0.0</td>\n",
       "      <td>0.0</td>\n",
       "      <td>0.0</td>\n",
       "      <td>0.0</td>\n",
       "    </tr>\n",
       "    <tr>\n",
       "      <th>1</th>\n",
       "      <td>0.0</td>\n",
       "      <td>0.0</td>\n",
       "      <td>0.0</td>\n",
       "      <td>0.0</td>\n",
       "      <td>0.0</td>\n",
       "      <td>0.0</td>\n",
       "      <td>0.0</td>\n",
       "      <td>0.0</td>\n",
       "      <td>0.0</td>\n",
       "      <td>0.0</td>\n",
       "      <td>...</td>\n",
       "      <td>0.0</td>\n",
       "      <td>0.0</td>\n",
       "      <td>0.0</td>\n",
       "      <td>0.0</td>\n",
       "      <td>0.0</td>\n",
       "      <td>0.0</td>\n",
       "      <td>0.0</td>\n",
       "      <td>0.0</td>\n",
       "      <td>0.0</td>\n",
       "      <td>0.0</td>\n",
       "    </tr>\n",
       "    <tr>\n",
       "      <th>2</th>\n",
       "      <td>0.0</td>\n",
       "      <td>0.0</td>\n",
       "      <td>0.0</td>\n",
       "      <td>0.0</td>\n",
       "      <td>0.0</td>\n",
       "      <td>0.0</td>\n",
       "      <td>0.0</td>\n",
       "      <td>0.0</td>\n",
       "      <td>0.0</td>\n",
       "      <td>0.0</td>\n",
       "      <td>...</td>\n",
       "      <td>0.0</td>\n",
       "      <td>0.0</td>\n",
       "      <td>0.0</td>\n",
       "      <td>0.0</td>\n",
       "      <td>0.0</td>\n",
       "      <td>0.0</td>\n",
       "      <td>0.0</td>\n",
       "      <td>0.0</td>\n",
       "      <td>0.0</td>\n",
       "      <td>0.0</td>\n",
       "    </tr>\n",
       "    <tr>\n",
       "      <th>3</th>\n",
       "      <td>0.0</td>\n",
       "      <td>0.0</td>\n",
       "      <td>0.0</td>\n",
       "      <td>0.0</td>\n",
       "      <td>0.0</td>\n",
       "      <td>0.0</td>\n",
       "      <td>0.0</td>\n",
       "      <td>0.0</td>\n",
       "      <td>0.0</td>\n",
       "      <td>0.0</td>\n",
       "      <td>...</td>\n",
       "      <td>0.0</td>\n",
       "      <td>0.0</td>\n",
       "      <td>0.0</td>\n",
       "      <td>0.0</td>\n",
       "      <td>0.0</td>\n",
       "      <td>0.0</td>\n",
       "      <td>0.0</td>\n",
       "      <td>0.0</td>\n",
       "      <td>0.0</td>\n",
       "      <td>0.0</td>\n",
       "    </tr>\n",
       "    <tr>\n",
       "      <th>4</th>\n",
       "      <td>0.0</td>\n",
       "      <td>0.0</td>\n",
       "      <td>0.0</td>\n",
       "      <td>0.0</td>\n",
       "      <td>0.0</td>\n",
       "      <td>0.0</td>\n",
       "      <td>0.0</td>\n",
       "      <td>0.0</td>\n",
       "      <td>0.0</td>\n",
       "      <td>0.0</td>\n",
       "      <td>...</td>\n",
       "      <td>0.0</td>\n",
       "      <td>0.0</td>\n",
       "      <td>0.0</td>\n",
       "      <td>0.0</td>\n",
       "      <td>0.0</td>\n",
       "      <td>0.0</td>\n",
       "      <td>0.0</td>\n",
       "      <td>0.0</td>\n",
       "      <td>0.0</td>\n",
       "      <td>0.0</td>\n",
       "    </tr>\n",
       "  </tbody>\n",
       "</table>\n",
       "<p>5 rows × 10000 columns</p>\n",
       "</div>"
      ],
      "text/plain": [
       "    00  000  00am  00pm   01   04   05   06   07   08  ...  zoo  zucchini  \\\n",
       "0  0.0  0.0   0.0   0.0  0.0  0.0  0.0  0.0  0.0  0.0  ...  0.0       0.0   \n",
       "1  0.0  0.0   0.0   0.0  0.0  0.0  0.0  0.0  0.0  0.0  ...  0.0       0.0   \n",
       "2  0.0  0.0   0.0   0.0  0.0  0.0  0.0  0.0  0.0  0.0  ...  0.0       0.0   \n",
       "3  0.0  0.0   0.0   0.0  0.0  0.0  0.0  0.0  0.0  0.0  ...  0.0       0.0   \n",
       "4  0.0  0.0   0.0   0.0  0.0  0.0  0.0  0.0  0.0  0.0  ...  0.0       0.0   \n",
       "\n",
       "   zumba  zuzana   ça  équipe  érable  était  été  être  \n",
       "0    0.0     0.0  0.0     0.0     0.0    0.0  0.0   0.0  \n",
       "1    0.0     0.0  0.0     0.0     0.0    0.0  0.0   0.0  \n",
       "2    0.0     0.0  0.0     0.0     0.0    0.0  0.0   0.0  \n",
       "3    0.0     0.0  0.0     0.0     0.0    0.0  0.0   0.0  \n",
       "4    0.0     0.0  0.0     0.0     0.0    0.0  0.0   0.0  \n",
       "\n",
       "[5 rows x 10000 columns]"
      ]
     },
     "execution_count": 127,
     "metadata": {},
     "output_type": "execute_result"
    }
   ],
   "source": [
    "# Initialize TF-IDF Vectorizer\n",
    "tfidf = TfidfVectorizer(stop_words='english', max_features=10000)\n",
    "\n",
    "# Create vocabulary & calculate word counts\n",
    "dtm = tfidf.fit_transform(yelp.text)\n",
    "\n",
    "dtm_df = pd.DataFrame(dtm.todense(), columns=tfidf.get_feature_names())\n",
    "dtm_df.head()"
   ]
  },
  {
   "cell_type": "code",
   "execution_count": 128,
   "metadata": {},
   "outputs": [
    {
     "data": {
      "text/plain": [
       "NearestNeighbors(algorithm='ball_tree', leaf_size=30, metric='minkowski',\n",
       "         metric_params=None, n_jobs=None, n_neighbors=5, p=2, radius=1.0)"
      ]
     },
     "execution_count": 128,
     "metadata": {},
     "output_type": "execute_result"
    }
   ],
   "source": [
    "nn = NearestNeighbors(n_neighbors=5, algorithm='ball_tree')\n",
    "nn.fit(dtm.todense())"
   ]
  },
  {
   "cell_type": "code",
   "execution_count": 129,
   "metadata": {},
   "outputs": [
    {
     "data": {
      "text/plain": [
       "(array([[1.        , 1.        , 1.16356972, 1.21763305, 1.23601907,\n",
       "         1.24980635, 1.26282624, 1.26765458, 1.27378848, 1.27690715]]),\n",
       " array([[6311, 6204, 5129, 1184,  703, 8540, 5189, 6328, 7896, 9175]]))"
      ]
     },
     "execution_count": 129,
     "metadata": {},
     "output_type": "execute_result"
    }
   ],
   "source": [
    "query = tfidf.transform([\"This is the best place I've ever spent money. I'm very happy. I'll be returning here again.\"])\n",
    "nn.kneighbors(query.todense(), n_neighbors=10)"
   ]
  },
  {
   "cell_type": "code",
   "execution_count": 130,
   "metadata": {},
   "outputs": [
    {
     "data": {
      "text/plain": [
       "happy          0.411046\n",
       "hour           0.323276\n",
       "pm             0.301925\n",
       "early          0.267734\n",
       "trek           0.200430\n",
       "summerlin      0.186873\n",
       "tons           0.158693\n",
       "ve             0.158637\n",
       "nearby         0.158351\n",
       "range          0.157025\n",
       "stuffed        0.152561\n",
       "multiple       0.149209\n",
       "choices        0.142381\n",
       "heard          0.136319\n",
       "50             0.130744\n",
       "recommended    0.130499\n",
       "glad           0.128960\n",
       "las            0.128616\n",
       "late           0.127943\n",
       "drive          0.125404\n",
       "Name: 703, dtype: float64"
      ]
     },
     "execution_count": 130,
     "metadata": {},
     "output_type": "execute_result"
    }
   ],
   "source": [
    "dtm_df.loc[703].sort_values(ascending=False)[:20]"
   ]
  },
  {
   "cell_type": "markdown",
   "metadata": {},
   "source": [
    "## Part 3: Classification\n",
    "<a id=\"#p3\"></a>\n",
    "Your goal in this section will be to predict `stars` from the review dataset. \n",
    "\n",
    "1. Create a piepline object with a sklearn `CountVectorizer` or `TfidfVector` and any sklearn classifier. Use that pipeline to estimate a model to predict `stars`. Use the Pipeline to predict a star rating for your fake review from Part 2. \n",
    "2. Tune the entire pipeline with a GridSearch"
   ]
  },
  {
   "cell_type": "code",
   "execution_count": 131,
   "metadata": {},
   "outputs": [
    {
     "data": {
      "text/plain": [
       "10000"
      ]
     },
     "execution_count": 131,
     "metadata": {},
     "output_type": "execute_result"
    }
   ],
   "source": [
    "len(yelp)"
   ]
  },
  {
   "cell_type": "code",
   "execution_count": 132,
   "metadata": {},
   "outputs": [],
   "source": [
    "# Create train and test splits\n",
    "X_train = yelp['text'][:8000]\n",
    "X_test = yelp['text'][2000:]\n",
    "y_train = yelp['stars'][:8000]\n",
    "y_test = yelp['stars'][2000:]"
   ]
  },
  {
   "cell_type": "code",
   "execution_count": 133,
   "metadata": {},
   "outputs": [],
   "source": [
    "# Create pipeline\n",
    "vect = TfidfVectorizer(stop_words='english')\n",
    "sgdc = SGDClassifier()\n",
    "\n",
    "pipe = Pipeline([('vect', vect),\n",
    "                 ('clf', sgdc)])\n",
    "\n",
    "# Optimize the hyperparams with GridSearch\n",
    "parameters = {\n",
    "    'vect__max_df': (0.5, 0.75, 1.0),\n",
    "    'vect__strip_accents': (None, 'ascii'),\n",
    "    'clf__loss': ('hinge', 'log', 'perceptron'),\n",
    "    'clf__max_iter': (10, 20, 100, 200),\n",
    "}\n",
    "\n",
    "grid_search = GridSearchCV(pipe, parameters, cv=5, n_jobs=-1, verbose=1)"
   ]
  },
  {
   "cell_type": "code",
   "execution_count": 134,
   "metadata": {},
   "outputs": [
    {
     "name": "stdout",
     "output_type": "stream",
     "text": [
      "Fitting 5 folds for each of 72 candidates, totalling 360 fits\n"
     ]
    },
    {
     "name": "stderr",
     "output_type": "stream",
     "text": [
      "[Parallel(n_jobs=-1)]: Using backend LokyBackend with 8 concurrent workers.\n",
      "[Parallel(n_jobs=-1)]: Done  34 tasks      | elapsed:   16.1s\n",
      "[Parallel(n_jobs=-1)]: Done 184 tasks      | elapsed:  1.3min\n",
      "[Parallel(n_jobs=-1)]: Done 360 out of 360 | elapsed:  2.8min finished\n",
      "/home/joseph/miniconda3/envs/U4-S1-NLP/lib/python3.7/site-packages/sklearn/linear_model/stochastic_gradient.py:183: FutureWarning: max_iter and tol parameters have been added in SGDClassifier in 0.19. If max_iter is set but tol is left unset, the default value for tol in 0.19 and 0.20 will be None (which is equivalent to -infinity, so it has no effect) but will change in 0.21 to 1e-3. Specify tol to silence this warning.\n",
      "  FutureWarning)\n"
     ]
    },
    {
     "data": {
      "text/plain": [
       "0.744125"
      ]
     },
     "execution_count": 134,
     "metadata": {},
     "output_type": "execute_result"
    }
   ],
   "source": [
    "# Fit grid search and assign best model\n",
    "grid_search.fit(X_train, y_train)\n",
    "best = grid_search.best_estimator_\n",
    "best.score(X_test, y_test)"
   ]
  },
  {
   "cell_type": "code",
   "execution_count": 153,
   "metadata": {},
   "outputs": [
    {
     "name": "stdout",
     "output_type": "stream",
     "text": [
      "Stars predicted for good_review:  5\n",
      "Stars predicted for bad_review:  1\n"
     ]
    }
   ],
   "source": [
    "# Predict star rating for fake review\n",
    "good_review = [\"This is the best place I've ever spent money. I'm very happy. I'll be returning here again.\"]\n",
    "bad_review = ['WORST PLACE! BAD SERVICE! I\\'LL NEVER COME HERE AGAIN.']\n",
    "\n",
    "print('Stars predicted for good_review: ', best.predict(good_review)[0])\n",
    "print('Stars predicted for bad_review: ', best.predict(bad_review)[0])"
   ]
  },
  {
   "cell_type": "markdown",
   "metadata": {},
   "source": [
    "## Part 4: Topic Modeling\n",
    "\n",
    "Let's find out what those yelp reviews are saying! :D\n",
    "\n",
    "1. Estimate a LDA topic model of the review text\n",
    "2. Create 1-2 visualizations of the results\n",
    "    - You can use the most important 3 words of a topic in relevant visualizations. Refer to yesterday's notebook to extract. \n",
    "3. In markdown, write 1-2 paragraphs of analysis on the results of your topic model\n",
    "\n",
    "__*Note*__: You can pass the DataFrame column of text reviews to gensim. You do not have to use a generator."
   ]
  },
  {
   "cell_type": "code",
   "execution_count": 135,
   "metadata": {},
   "outputs": [
    {
     "data": {
      "text/plain": [
       "0    [beware, fake, fake, fake, small, business, lo...\n",
       "1    [come, lunch, togo, service, quick, staff, fri...\n",
       "2    [vegas, dozen, time, step, foot, circus, circu...\n",
       "3    [go, night, close, street, party, good, actual...\n",
       "4    [3.5, 4, star, \\n\\n, bad, price, $, 12.99, lun...\n",
       "Name: tokens, dtype: object"
      ]
     },
     "execution_count": 135,
     "metadata": {},
     "output_type": "execute_result"
    }
   ],
   "source": [
    "yelp['tokens'] = yelp['text'].apply(tokenize)\n",
    "yelp['tokens'].head()"
   ]
  },
  {
   "cell_type": "code",
   "execution_count": 136,
   "metadata": {},
   "outputs": [
    {
     "name": "stdout",
     "output_type": "stream",
     "text": [
      "24780 24780\n",
      "Dictionary(24780 unique tokens: [' ', '$', '20', '273', '70']...)\n"
     ]
    }
   ],
   "source": [
    "# Create id2word parameter for LdaMulticore model\n",
    "id2word = corpora.Dictionary(yelp['tokens'])\n",
    "print(len(id2word), len(id2word.keys()))\n",
    "print(id2word)"
   ]
  },
  {
   "cell_type": "code",
   "execution_count": 137,
   "metadata": {},
   "outputs": [],
   "source": [
    "# Remove extremes and create corpus param for LdaMulticore\n",
    "id2word.filter_extremes(no_below=10, no_above=0.75)\n",
    "\n",
    "# BoW representation of corpus\n",
    "corpus = [id2word.doc2bow(text) for text in yelp['tokens']]"
   ]
  },
  {
   "cell_type": "code",
   "execution_count": 138,
   "metadata": {},
   "outputs": [
    {
     "data": {
      "text/plain": [
       "[(0, 4), (10, 1), (20, 1), (30, 1)]"
      ]
     },
     "execution_count": 138,
     "metadata": {},
     "output_type": "execute_result"
    }
   ],
   "source": [
    "corpus[0][::10]"
   ]
  },
  {
   "cell_type": "code",
   "execution_count": 139,
   "metadata": {},
   "outputs": [],
   "source": [
    "# LDA model\n",
    "lda = LdaMulticore(corpus=corpus,\n",
    "                   id2word=id2word,\n",
    "                   num_topics=7,\n",
    "                   passes=10,\n",
    "                   workers=4)"
   ]
  },
  {
   "cell_type": "code",
   "execution_count": 140,
   "metadata": {},
   "outputs": [
    {
     "data": {
      "text/plain": [
       "[(0,\n",
       "  '0.013*\"time\" + 0.011*\"service\" + 0.011*\"great\" + 0.011*\"good\" + 0.011*\"\\n\\n\" + 0.010*\"work\" + 0.010*\"go\" + 0.009*\"come\" + 0.009*\"place\" + 0.008*\"recommend\"'),\n",
       " (1,\n",
       "  '0.238*\" \" + 0.014*\"good\" + 0.010*\"\\n\\n\" + 0.009*\" \\n\\n\" + 0.009*\"food\" + 0.009*\"place\" + 0.008*\"great\" + 0.007*\"  \" + 0.007*\"like\" + 0.006*\"time\"'),\n",
       " (2,\n",
       "  '0.025*\"pizza\" + 0.013*\"order\" + 0.012*\"place\" + 0.011*\"$\" + 0.010*\"\\n\" + 0.010*\"come\" + 0.009*\"ask\" + 0.008*\"like\" + 0.008*\" \" + 0.008*\"kid\"'),\n",
       " (3,\n",
       "  '0.020*\"\\n\\n\" + 0.014*\"room\" + 0.011*\"time\" + 0.009*\"get\" + 0.008*\"say\" + 0.008*\"go\" + 0.008*\"\\n\" + 0.008*\"tell\" + 0.007*\"service\" + 0.007*\"wait\"'),\n",
       " (4,\n",
       "  '0.023*\"great\" + 0.022*\"service\" + 0.020*\"place\" + 0.018*\"food\" + 0.018*\" \" + 0.012*\"store\" + 0.011*\"come\" + 0.011*\"time\" + 0.009*\"like\" + 0.009*\"amazing\"'),\n",
       " (5,\n",
       "  '0.022*\"good\" + 0.022*\"food\" + 0.017*\"order\" + 0.016*\"\\n\\n\" + 0.012*\"come\" + 0.012*\"\\n\" + 0.012*\"place\" + 0.010*\"like\" + 0.009*\"chicken\" + 0.009*\"time\"'),\n",
       " (6,\n",
       "  '0.038*\"\\n\\n\" + 0.017*\"place\" + 0.016*\"good\" + 0.014*\"great\" + 0.011*\"food\" + 0.009*\"like\" + 0.008*\"love\" + 0.008*\"drink\" + 0.007*\"try\" + 0.006*\"bar\"')]"
      ]
     },
     "execution_count": 140,
     "metadata": {},
     "output_type": "execute_result"
    }
   ],
   "source": [
    "lda.print_topics()"
   ]
  },
  {
   "cell_type": "code",
   "execution_count": 141,
   "metadata": {},
   "outputs": [
    {
     "name": "stderr",
     "output_type": "stream",
     "text": [
      "/home/joseph/miniconda3/envs/U4-S1-NLP/lib/python3.7/site-packages/pyLDAvis/_prepare.py:257: FutureWarning: Sorting because non-concatenation axis is not aligned. A future version\n",
      "of pandas will change to not sort by default.\n",
      "\n",
      "To accept the future behavior, pass 'sort=False'.\n",
      "\n",
      "To retain the current behavior and silence the warning, pass 'sort=True'.\n",
      "\n",
      "  return pd.concat([default_term_info] + list(topic_dfs))\n"
     ]
    },
    {
     "data": {
      "text/html": [
       "\n",
       "<link rel=\"stylesheet\" type=\"text/css\" href=\"https://cdn.rawgit.com/bmabey/pyLDAvis/files/ldavis.v1.0.0.css\">\n",
       "\n",
       "\n",
       "<div id=\"ldavis_el1241401931798547922967618085\"></div>\n",
       "<script type=\"text/javascript\">\n",
       "\n",
       "var ldavis_el1241401931798547922967618085_data = {\"mdsDat\": {\"x\": [-0.11805062792105389, -0.088378498217039, 0.11762872531115666, 0.13703892129793954, -0.07948003330160257, -0.03209125834121123, 0.06333277117181048], \"y\": [0.05552171815059119, 0.008962410585039722, -0.008749381726993959, -0.044322575917607195, -0.055541663750774316, -0.07587458194135131, 0.12000407460109562], \"topics\": [1, 2, 3, 4, 5, 6, 7], \"cluster\": [1, 1, 1, 1, 1, 1, 1], \"Freq\": [27.299407958984375, 18.86121368408203, 17.90364646911621, 15.872871398925781, 9.897990226745605, 5.568655014038086, 4.59621524810791]}, \"tinfo\": {\"Category\": [\"Default\", \"Default\", \"Default\", \"Default\", \"Default\", \"Default\", \"Default\", \"Default\", \"Default\", \"Default\", \"Default\", \"Default\", \"Default\", \"Default\", \"Default\", \"Default\", \"Default\", \"Default\", \"Default\", \"Default\", \"Default\", \"Default\", \"Default\", \"Default\", \"Default\", \"Default\", \"Default\", \"Default\", \"Default\", \"Default\", \"Topic1\", \"Topic1\", \"Topic1\", \"Topic1\", \"Topic1\", \"Topic1\", \"Topic1\", \"Topic1\", \"Topic1\", \"Topic1\", \"Topic1\", \"Topic1\", \"Topic1\", \"Topic1\", \"Topic1\", \"Topic1\", \"Topic1\", \"Topic1\", \"Topic1\", \"Topic1\", \"Topic1\", \"Topic1\", \"Topic1\", \"Topic1\", \"Topic1\", \"Topic1\", \"Topic1\", \"Topic1\", \"Topic1\", \"Topic1\", \"Topic1\", \"Topic1\", \"Topic1\", \"Topic1\", \"Topic1\", \"Topic1\", \"Topic1\", \"Topic1\", \"Topic1\", \"Topic1\", \"Topic1\", \"Topic1\", \"Topic1\", \"Topic1\", \"Topic1\", \"Topic1\", \"Topic1\", \"Topic1\", \"Topic1\", \"Topic1\", \"Topic1\", \"Topic1\", \"Topic1\", \"Topic1\", \"Topic1\", \"Topic1\", \"Topic1\", \"Topic1\", \"Topic1\", \"Topic1\", \"Topic1\", \"Topic1\", \"Topic1\", \"Topic1\", \"Topic1\", \"Topic1\", \"Topic1\", \"Topic1\", \"Topic1\", \"Topic1\", \"Topic1\", \"Topic1\", \"Topic1\", \"Topic1\", \"Topic1\", \"Topic1\", \"Topic1\", \"Topic1\", \"Topic1\", \"Topic1\", \"Topic1\", \"Topic1\", \"Topic1\", \"Topic1\", \"Topic1\", \"Topic1\", \"Topic1\", \"Topic1\", \"Topic2\", \"Topic2\", \"Topic2\", \"Topic2\", \"Topic2\", \"Topic2\", \"Topic2\", \"Topic2\", \"Topic2\", \"Topic2\", \"Topic2\", \"Topic2\", \"Topic2\", \"Topic2\", \"Topic2\", \"Topic2\", \"Topic2\", \"Topic2\", \"Topic2\", \"Topic2\", \"Topic2\", \"Topic2\", \"Topic2\", \"Topic2\", \"Topic2\", \"Topic2\", \"Topic2\", \"Topic2\", \"Topic2\", \"Topic2\", \"Topic2\", \"Topic2\", \"Topic2\", \"Topic2\", \"Topic2\", \"Topic2\", \"Topic2\", \"Topic2\", \"Topic2\", \"Topic2\", \"Topic2\", \"Topic2\", \"Topic2\", \"Topic2\", \"Topic2\", \"Topic2\", \"Topic2\", \"Topic2\", \"Topic2\", \"Topic2\", \"Topic2\", \"Topic2\", \"Topic2\", \"Topic2\", \"Topic2\", \"Topic2\", \"Topic2\", \"Topic2\", \"Topic2\", \"Topic2\", \"Topic2\", \"Topic2\", \"Topic2\", \"Topic2\", \"Topic2\", \"Topic2\", \"Topic2\", \"Topic2\", \"Topic2\", \"Topic2\", \"Topic2\", \"Topic2\", \"Topic2\", \"Topic2\", \"Topic2\", \"Topic2\", \"Topic2\", \"Topic2\", \"Topic2\", \"Topic2\", \"Topic2\", \"Topic2\", \"Topic2\", \"Topic2\", \"Topic2\", \"Topic2\", \"Topic2\", \"Topic2\", \"Topic2\", \"Topic2\", \"Topic2\", \"Topic3\", \"Topic3\", \"Topic3\", \"Topic3\", \"Topic3\", \"Topic3\", \"Topic3\", \"Topic3\", \"Topic3\", \"Topic3\", \"Topic3\", \"Topic3\", \"Topic3\", \"Topic3\", \"Topic3\", \"Topic3\", \"Topic3\", \"Topic3\", \"Topic3\", \"Topic3\", \"Topic3\", \"Topic3\", \"Topic3\", \"Topic3\", \"Topic3\", \"Topic3\", \"Topic3\", \"Topic3\", \"Topic3\", \"Topic3\", \"Topic3\", \"Topic3\", \"Topic3\", \"Topic3\", \"Topic3\", \"Topic3\", \"Topic3\", \"Topic3\", \"Topic3\", \"Topic3\", \"Topic3\", \"Topic3\", \"Topic3\", \"Topic3\", \"Topic3\", \"Topic3\", \"Topic3\", \"Topic3\", \"Topic3\", \"Topic3\", \"Topic3\", \"Topic3\", \"Topic3\", \"Topic3\", \"Topic3\", \"Topic3\", \"Topic3\", \"Topic3\", \"Topic3\", \"Topic3\", \"Topic3\", \"Topic3\", \"Topic3\", \"Topic3\", \"Topic3\", \"Topic3\", \"Topic3\", \"Topic3\", \"Topic3\", \"Topic3\", \"Topic3\", \"Topic3\", \"Topic3\", \"Topic3\", \"Topic3\", \"Topic3\", \"Topic3\", \"Topic3\", \"Topic3\", \"Topic3\", \"Topic3\", \"Topic3\", \"Topic3\", \"Topic3\", \"Topic3\", \"Topic3\", \"Topic3\", \"Topic3\", \"Topic4\", \"Topic4\", \"Topic4\", \"Topic4\", \"Topic4\", \"Topic4\", \"Topic4\", \"Topic4\", \"Topic4\", \"Topic4\", \"Topic4\", \"Topic4\", \"Topic4\", \"Topic4\", \"Topic4\", \"Topic4\", \"Topic4\", \"Topic4\", \"Topic4\", \"Topic4\", \"Topic4\", \"Topic4\", \"Topic4\", \"Topic4\", \"Topic4\", \"Topic4\", \"Topic4\", \"Topic4\", \"Topic4\", \"Topic4\", \"Topic4\", \"Topic4\", \"Topic4\", \"Topic4\", \"Topic4\", \"Topic4\", \"Topic4\", \"Topic4\", \"Topic4\", \"Topic4\", \"Topic4\", \"Topic4\", \"Topic4\", \"Topic4\", \"Topic4\", \"Topic4\", \"Topic4\", \"Topic4\", \"Topic4\", \"Topic4\", \"Topic4\", \"Topic4\", \"Topic4\", \"Topic4\", \"Topic4\", \"Topic4\", \"Topic4\", \"Topic4\", \"Topic4\", \"Topic4\", \"Topic4\", \"Topic4\", \"Topic4\", \"Topic4\", \"Topic4\", \"Topic4\", \"Topic4\", \"Topic4\", \"Topic4\", \"Topic4\", \"Topic4\", \"Topic4\", \"Topic4\", \"Topic4\", \"Topic4\", \"Topic4\", \"Topic4\", \"Topic4\", \"Topic4\", \"Topic4\", \"Topic4\", \"Topic4\", \"Topic4\", \"Topic4\", \"Topic4\", \"Topic4\", \"Topic4\", \"Topic5\", \"Topic5\", \"Topic5\", \"Topic5\", \"Topic5\", \"Topic5\", \"Topic5\", \"Topic5\", \"Topic5\", \"Topic5\", \"Topic5\", \"Topic5\", \"Topic5\", \"Topic5\", \"Topic5\", \"Topic5\", \"Topic5\", \"Topic5\", \"Topic5\", \"Topic5\", \"Topic5\", \"Topic5\", \"Topic5\", \"Topic5\", \"Topic5\", \"Topic5\", \"Topic5\", \"Topic5\", \"Topic5\", \"Topic5\", \"Topic5\", \"Topic5\", \"Topic5\", \"Topic5\", \"Topic5\", \"Topic5\", \"Topic5\", \"Topic5\", \"Topic5\", \"Topic5\", \"Topic5\", \"Topic5\", \"Topic5\", \"Topic5\", \"Topic5\", \"Topic5\", \"Topic5\", \"Topic5\", \"Topic5\", \"Topic5\", \"Topic5\", \"Topic5\", \"Topic5\", \"Topic5\", \"Topic5\", \"Topic5\", \"Topic5\", \"Topic5\", \"Topic5\", \"Topic5\", \"Topic5\", \"Topic5\", \"Topic5\", \"Topic5\", \"Topic5\", \"Topic5\", \"Topic5\", \"Topic5\", \"Topic5\", \"Topic5\", \"Topic6\", \"Topic6\", \"Topic6\", \"Topic6\", \"Topic6\", \"Topic6\", \"Topic6\", \"Topic6\", \"Topic6\", \"Topic6\", \"Topic6\", \"Topic6\", \"Topic6\", \"Topic6\", \"Topic6\", \"Topic6\", \"Topic6\", \"Topic6\", \"Topic6\", \"Topic6\", \"Topic6\", \"Topic6\", \"Topic6\", \"Topic6\", \"Topic6\", \"Topic6\", \"Topic6\", \"Topic6\", \"Topic6\", \"Topic6\", \"Topic6\", \"Topic6\", \"Topic6\", \"Topic6\", \"Topic6\", \"Topic6\", \"Topic6\", \"Topic6\", \"Topic6\", \"Topic6\", \"Topic6\", \"Topic6\", \"Topic6\", \"Topic6\", \"Topic6\", \"Topic6\", \"Topic6\", \"Topic6\", \"Topic6\", \"Topic6\", \"Topic6\", \"Topic6\", \"Topic6\", \"Topic6\", \"Topic6\", \"Topic6\", \"Topic6\", \"Topic6\", \"Topic6\", \"Topic6\", \"Topic6\", \"Topic6\", \"Topic6\", \"Topic6\", \"Topic6\", \"Topic6\", \"Topic6\", \"Topic6\", \"Topic6\", \"Topic6\", \"Topic6\", \"Topic6\", \"Topic6\", \"Topic6\", \"Topic7\", \"Topic7\", \"Topic7\", \"Topic7\", \"Topic7\", \"Topic7\", \"Topic7\", \"Topic7\", \"Topic7\", \"Topic7\", \"Topic7\", \"Topic7\", \"Topic7\", \"Topic7\", \"Topic7\", \"Topic7\", \"Topic7\", \"Topic7\", \"Topic7\", \"Topic7\", \"Topic7\", \"Topic7\", \"Topic7\", \"Topic7\", \"Topic7\", \"Topic7\", \"Topic7\", \"Topic7\", \"Topic7\", \"Topic7\", \"Topic7\", \"Topic7\", \"Topic7\", \"Topic7\", \"Topic7\", \"Topic7\", \"Topic7\", \"Topic7\", \"Topic7\", \"Topic7\", \"Topic7\", \"Topic7\", \"Topic7\", \"Topic7\", \"Topic7\", \"Topic7\", \"Topic7\", \"Topic7\", \"Topic7\", \"Topic7\", \"Topic7\", \"Topic7\", \"Topic7\", \"Topic7\", \"Topic7\", \"Topic7\", \"Topic7\", \"Topic7\", \"Topic7\", \"Topic7\", \"Topic7\", \"Topic7\", \"Topic7\", \"Topic7\", \"Topic7\", \"Topic7\", \"Topic7\", \"Topic7\", \"Topic7\", \"Topic7\"], \"Freq\": [12514.0, 5022.0, 4331.0, 754.0, 5269.0, 3829.0, 3446.0, 1290.0, 851.0, 3954.0, 8638.0, 3213.0, 1506.0, 2247.0, 1589.0, 6325.0, 527.0, 4376.0, 1384.0, 1542.0, 1137.0, 560.0, 1435.0, 671.0, 3777.0, 719.0, 1625.0, 2238.0, 992.0, 1516.0, 42.661048889160156, 42.62946701049805, 88.2547378540039, 51.797115325927734, 35.23588943481445, 30.609481811523438, 26.454206466674805, 33.07636642456055, 535.9208374023438, 28.80296516418457, 35.239322662353516, 25.52406883239746, 22.551864624023438, 59.303184509277344, 20.429964065551758, 20.44859504699707, 20.6380672454834, 20.082584381103516, 19.827932357788086, 20.85901641845703, 98.31558227539062, 17.14056968688965, 19.670251846313477, 15.243753433227539, 15.242624282836914, 16.286380767822266, 220.2211151123047, 14.130587577819824, 19.30474090576172, 14.115971565246582, 355.6083984375, 76.10975646972656, 49.24805450439453, 27.218198776245117, 512.3585205078125, 116.3261489868164, 44.736717224121094, 156.80406188964844, 504.6460266113281, 211.78919982910156, 441.8384704589844, 820.0507202148438, 90.76815795898438, 199.1295166015625, 68.96788787841797, 187.78610229492188, 1150.3033447265625, 179.42112731933594, 879.011962890625, 137.3224639892578, 99.03439331054688, 101.04657745361328, 313.25250244140625, 203.88877868652344, 643.552734375, 532.9179077148438, 272.5454406738281, 2149.70263671875, 665.1587524414062, 287.8367004394531, 614.6538696289062, 270.60296630859375, 1011.5016479492188, 2825.085693359375, 762.9722290039062, 528.5332641601562, 589.3137817382812, 2894.828857421875, 759.6257934570312, 956.8860473632812, 1554.5701904296875, 503.5499572753906, 360.1086730957031, 343.1219482421875, 1575.7535400390625, 706.6488037109375, 1114.0206298828125, 551.7469482421875, 1550.56201171875, 2090.13720703125, 1246.4417724609375, 1090.3424072265625, 1142.319580078125, 915.82177734375, 1029.0828857421875, 765.8212280273438, 683.495849609375, 549.0531005859375, 31.876651763916016, 28.061227798461914, 24.938926696777344, 95.39778137207031, 24.397096633911133, 19.847518920898438, 24.85612678527832, 16.720956802368164, 17.93500518798828, 16.64572525024414, 15.88705062866211, 26.341442108154297, 12.96303939819336, 14.392606735229492, 11.169480323791504, 12.882525444030762, 15.824260711669922, 16.203004837036133, 10.378543853759766, 21.212162017822266, 10.542724609375, 11.484041213989258, 64.60748291015625, 9.271328926086426, 9.745936393737793, 12.075304985046387, 10.148382186889648, 7.759120464324951, 14.078326225280762, 67.50482177734375, 29.39827537536621, 31.840808868408203, 34.63624572753906, 22.029027938842773, 138.81552124023438, 425.9264221191406, 40.05085372924805, 30.903879165649414, 97.85626220703125, 463.86639404296875, 63.80532455444336, 128.344482421875, 40.59968566894531, 115.35013580322266, 196.14614868164062, 355.49127197265625, 84.5912094116211, 178.02491760253906, 389.3944091796875, 176.02867126464844, 83.1402816772461, 137.78854370117188, 313.1644592285156, 3412.0458984375, 716.3508911132812, 96.90790557861328, 566.459228515625, 170.4063720703125, 259.5934143066406, 98.42166900634766, 55.46213150024414, 307.7617492675781, 225.53399658203125, 249.42892456054688, 270.9051818847656, 1476.5836181640625, 1209.2198486328125, 735.620849609375, 370.76837158203125, 376.4917907714844, 513.388916015625, 1398.9097900390625, 563.0392456054688, 394.000244140625, 939.7606201171875, 781.0744018554688, 617.876220703125, 379.6180114746094, 409.10394287109375, 463.0568542480469, 357.5320129394531, 394.8036193847656, 538.7828979492188, 356.07464599609375, 454.0236511230469, 365.1072082519531, 394.5859069824219, 441.7550354003906, 381.7997741699219, 381.13201904296875, 359.03466796875, 70.41600799560547, 32.812625885009766, 27.194875717163086, 25.685665130615234, 25.420339584350586, 40.147823333740234, 28.183704376220703, 21.151687622070312, 19.41621208190918, 177.94236755371094, 24.656841278076172, 18.76900863647461, 18.205530166625977, 19.01668357849121, 25.356937408447266, 18.06475067138672, 82.8697738647461, 17.22768783569336, 107.5700454711914, 15.574664115905762, 16.416357040405273, 530.2289428710938, 40.06863784790039, 14.711727142333984, 23.46734619140625, 23.638973236083984, 27.492677688598633, 15.9776611328125, 13.421829223632812, 11.787245750427246, 188.82843017578125, 1170.6953125, 75.7603759765625, 94.74671173095703, 47.932132720947266, 45.235286712646484, 271.82781982421875, 66.4527816772461, 52.17243957519531, 64.12071990966797, 554.596923828125, 87.84088897705078, 55.2623405456543, 79.06617736816406, 72.2916259765625, 83.02544403076172, 351.46405029296875, 68.42215728759766, 254.6396942138672, 80.63352966308594, 105.21913146972656, 202.08834838867188, 174.8384552001953, 124.84072875976562, 149.02655029296875, 466.915771484375, 712.8216552734375, 113.97576904296875, 428.17828369140625, 188.67372131347656, 651.856689453125, 456.1645812988281, 312.5479736328125, 470.988525390625, 581.5693359375, 467.9898681640625, 444.4323425292969, 586.2286376953125, 1658.3082275390625, 402.282470703125, 210.33721923828125, 250.3031463623047, 493.5061340332031, 934.7719116210938, 737.1656494140625, 707.9252319335938, 369.24591064453125, 415.7762145996094, 689.512939453125, 451.0624084472656, 470.8022155761719, 510.1707458496094, 602.7619018554688, 419.4859924316406, 572.2422485351562, 409.9856872558594, 499.1812438964844, 369.4931945800781, 73.34812927246094, 97.64769744873047, 82.24556732177734, 54.62379455566406, 48.92801284790039, 57.47458267211914, 49.89999008178711, 70.98308563232422, 79.74191284179688, 37.039100646972656, 32.09001541137695, 26.695356369018555, 26.599945068359375, 26.066631317138672, 33.37818908691406, 23.727481842041016, 20.74165916442871, 23.410720825195312, 158.89927673339844, 20.88153648376465, 17.886423110961914, 17.628416061401367, 33.05088424682617, 15.31214427947998, 93.91696166992188, 19.637731552124023, 13.773963928222656, 13.295380592346191, 13.276162147521973, 24.388931274414062, 340.5797119140625, 92.31079864501953, 55.12038803100586, 62.60739517211914, 46.12327194213867, 58.98281478881836, 328.9570617675781, 227.18775939941406, 418.6293029785156, 51.18784713745117, 325.580810546875, 74.44210052490234, 126.97882080078125, 123.5884017944336, 117.05289459228516, 131.55694580078125, 127.40278625488281, 116.61563873291016, 90.52313995361328, 269.9909362792969, 422.4084167480469, 451.4979553222656, 274.8485412597656, 259.9969787597656, 767.2304077148438, 126.2945785522461, 158.20179748535156, 503.0814514160156, 633.5737915039062, 321.1197814941406, 504.8224792480469, 556.5700073242188, 303.41778564453125, 290.68560791015625, 594.6625366210938, 521.1494750976562, 1003.7418212890625, 615.39892578125, 835.7321166992188, 716.8090209960938, 482.0285949707031, 395.35601806640625, 820.5369262695312, 472.7417297363281, 286.0444641113281, 694.8756103515625, 810.944091796875, 802.5238037109375, 534.1541748046875, 647.023193359375, 394.5150451660156, 388.9962158203125, 356.0635681152344, 438.121337890625, 362.6522216796875, 374.72454833984375, 349.2239074707031, 17.53391456604004, 9.070182800292969, 11112.0927734375, 38.03911209106445, 7.013714790344238, 15.328181266784668, 10.862796783447266, 12.008539199829102, 8.52206802368164, 440.7508239746094, 323.877197265625, 14.243108749389648, 29.241119384765625, 80.81977844238281, 41.590797424316406, 36.10751724243164, 7.716489791870117, 9.056282997131348, 8.072141647338867, 27.351030349731445, 10.192509651184082, 16.12253189086914, 9.871528625488281, 7.579140663146973, 28.095136642456055, 12.587339401245117, 10.176591873168945, 6.688203811645508, 12.086104393005371, 6.4819865226745605, 8.231694221496582, 14.501798629760742, 11.494951248168945, 15.369878768920898, 34.83873748779297, 53.097068786621094, 25.233137130737305, 62.893829345703125, 22.18451499938965, 27.313344955444336, 31.436279296875, 654.3876342773438, 133.95664978027344, 287.14910888671875, 433.1648254394531, 214.23574829101562, 428.7120056152344, 360.9322814941406, 183.9423370361328, 315.8815612792969, 153.07484436035156, 134.879638671875, 489.0950622558594, 297.7197265625, 126.88035583496094, 300.77423095703125, 178.8368377685547, 147.87225341796875, 206.77687072753906, 133.2868194580078, 225.7738800048828, 208.0065460205078, 115.89938354492188, 180.90980529785156, 153.7152862548828, 143.99765014648438, 158.92730712890625, 132.61309814453125, 142.02162170410156, 130.99903869628906, 22.096784591674805, 17.181255340576172, 15.623902320861816, 21.027631759643555, 12.3443603515625, 12.893550872802734, 16.281774520874023, 61.27519607543945, 11.66360092163086, 16.99919319152832, 12.032576560974121, 9.676219940185547, 46.20322036743164, 11.764983177185059, 13.194195747375488, 22.185165405273438, 22.4062442779541, 13.991839408874512, 13.296768188476562, 21.460187911987305, 6.778080463409424, 5.502841949462891, 13.024518013000488, 9.560450553894043, 10.282695770263672, 5.789400100708008, 5.706864833831787, 48.734012603759766, 6.952659606933594, 9.805191040039062, 66.38411712646484, 33.06630325317383, 29.795671463012695, 13.390734672546387, 324.3106384277344, 22.459196090698242, 26.54329490661621, 89.09271240234375, 19.215362548828125, 43.003509521484375, 50.46732711791992, 581.912841796875, 601.8583984375, 138.77537536621094, 146.1958770751953, 233.6539764404297, 532.8548583984375, 133.9304962158203, 483.053466796875, 232.42803955078125, 108.5196762084961, 44.81835174560547, 208.67588806152344, 99.0412826538086, 302.3210754394531, 172.3095245361328, 98.57378387451172, 300.73651123046875, 477.1614074707031, 141.67649841308594, 165.82798767089844, 242.4217529296875, 78.8238525390625, 165.69187927246094, 158.55039978027344, 164.41995239257812, 230.67323303222656, 170.9672088623047, 108.58567810058594, 104.0104751586914, 105.47441864013672, 104.70087432861328, 103.32723999023438, 99.52606201171875, 61.7625617980957, 46.53279495239258, 48.95840072631836, 39.282562255859375, 29.43531608581543, 23.86738395690918, 21.17613983154297, 25.655820846557617, 24.31818199157715, 17.790311813354492, 17.15471839904785, 17.128313064575195, 32.93117904663086, 15.590453147888184, 15.584927558898926, 15.132861137390137, 14.466909408569336, 16.348163604736328, 14.02114200592041, 18.28753089904785, 12.444875717163086, 11.7698335647583, 17.795373916625977, 60.015602111816406, 45.38848114013672, 10.84398078918457, 9.958928108215332, 9.898611068725586, 11.161133766174316, 9.437100410461426, 552.6039428710938, 98.70933532714844, 19.126178741455078, 57.02925109863281, 47.34641647338867, 39.597618103027344, 53.694190979003906, 85.11840057373047, 163.987548828125, 45.75135040283203, 55.79775619506836, 200.2311248779297, 231.78033447265625, 272.7242126464844, 82.1926040649414, 161.29261779785156, 43.63140869140625, 220.38587951660156, 271.0324401855469, 215.16651916503906, 116.84172821044922, 141.7581024169922, 112.60198974609375, 181.73428344726562, 146.66921997070312, 97.76636505126953, 155.66989135742188, 152.4067840576172, 102.1800308227539, 164.2071533203125, 110.11289978027344, 105.28135681152344, 108.64791870117188, 111.61564636230469, 120.28518676757812, 100.33702087402344, 121.66825866699219, 127.40142822265625, 96.92411804199219, 87.98287200927734], \"Term\": [\" \", \"food\", \"great\", \"pizza\", \"place\", \"service\", \"order\", \"room\", \"store\", \"come\", \"\\n\\n\", \"\\n\", \"ask\", \"$\", \"say\", \"good\", \" \\n\\n\", \"time\", \"amazing\", \"eat\", \"customer\", \"hotel\", \"chicken\", \"meat\", \"like\", \"car\", \"find\", \"love\", \"year\", \"work\", \"shred\", \"fajita\", \"tortilla\", \"naan\", \"kimchi\", \"tacos\", \"carnita\", \"hibachi\", \"taco\", \"brulee\", \"veal\", \"feta\", \"guac\", \"carne\", \"pollo\", \"pastor\", \"dente\", \"wonton\", \"tzatziki\", \"rubbery\", \"crave\", \"burst\", \"pico\", \"benny\", \"churro\", \"pesto\", \"salsa\", \"tangy\", \"cornbread\", \"kabobs\", \"pork\", \"brisket\", \"asada\", \"breading\", \"rice\", \"chili\", \"cheddar\", \"pepper\", \"soup\", \"bbq\", \"beef\", \"sauce\", \"guacamole\", \"bean\", \"savory\", \"rib\", \"chicken\", \"donut\", \"fry\", \"burrito\", \"vegetable\", \"spinach\", \"shrimp\", \"mexican\", \"dish\", \"burger\", \"noodle\", \"order\", \"meal\", \"potato\", \"cheese\", \"chip\", \"eat\", \"food\", \"taste\", \"lunch\", \"server\", \"good\", \"delicious\", \"restaurant\", \"\\n\", \"salad\", \"cook\", \"bread\", \"come\", \"menu\", \"try\", \"fresh\", \"place\", \"\\n\\n\", \"like\", \"service\", \"time\", \"get\", \"great\", \"go\", \"love\", \"table\", \"chai\", \"trail\", \"pretzel\", \"sashimi\", \"ikea\", \"tiger\", \"scone\", \"purple\", \"yonge\", \"indulge\", \"booze\", \"gnocchi\", \"bitterness\", \"splash\", \"cast\", \"hangout\", \"celebration\", \"whiskey\", \"dutch\", \"picnic\", \"restriction\", \"sf\", \"latte\", \"dear\", \"drinks\", \"tvs\", \"captain\", \"supper\", \"skimp\", \"brew\", \"matcha\", \"yellowtail\", \"custard\", \"cracker\", \"seating\", \"sushi\", \"trendy\", \"snow\", \"milk\", \"beer\", \"ayce\", \"cookie\", \"almond\", \"tuna\", \"music\", \"ice\", \"vegan\", \"patio\", \"roll\", \"space\", \"tap\", \"interesting\", \"wine\", \"\\n\\n\", \"drink\", \"outdoor\", \"bar\", \"game\", \"fun\", \"vegetarian\", \"cozy\", \"cream\", \"cool\", \"inside\", \"selection\", \"place\", \"great\", \"love\", \"small\", \"enjoy\", \"little\", \"good\", \"nice\", \"pretty\", \"food\", \"like\", \"try\", \"lot\", \"menu\", \"price\", \"friend\", \"definitely\", \"time\", \"friendly\", \"go\", \"staff\", \"$\", \"come\", \"get\", \"order\", \"service\", \"elevator\", \"motel\", \"tenant\", \"safety\", \"transfer\", \"sheet\", \"exhibit\", \"pharmacy\", \"housekeeping\", \"bed\", \"airline\", \"suddenly\", \"supervisor\", \"channel\", \"maker\", \"escort\", \"suite\", \"availability\", \"shower\", \"jacuzzi\", \"deny\", \"hotel\", \"checkout\", \"maid\", \"hollywood\", \"iphone\", \"piss\", \"taxi\", \"plug\", \"cigarette\", \"casino\", \"room\", \"bus\", \"sleep\", \"construction\", \"mgm\", \"pool\", \"register\", \"robert\", \"ignore\", \"stay\", \"lobby\", \"security\", \"refuse\", \"cancel\", \"bike\", \"manager\", \"resort\", \"rude\", \"refund\", \"gym\", \"floor\", \"class\", \"desk\", \"bathroom\", \"call\", \"say\", \"fee\", \"pay\", \"employee\", \"tell\", \"check\", \"line\", \"minute\", \"people\", \"customer\", \"leave\", \"wait\", \"\\n\\n\", \"hour\", \"phone\", \"money\", \"ask\", \"time\", \"get\", \"go\", \"location\", \"bad\", \"\\n\", \"day\", \"want\", \"$\", \"service\", \"take\", \"like\", \"experience\", \"come\", \"know\", \"facial\", \"dr\", \"technician\", \"dentist\", \"lash\", \"pedi\", \"dental\", \"warranty\", \"cat\", \"therapist\", \"mani\", \"pest\", \"tint\", \"quit\", \"mike\", \"brow\", \"diagnose\", \"steve\", \"massage\", \"scorpion\", \"groom\", \"pup\", \"grateful\", \"eddie\", \"tech\", \"windshield\", \"responsive\", \"thread\", \"redone\", \"expertise\", \"professional\", \"pet\", \"thorough\", \"eyebrow\", \"arm\", \"session\", \"nail\", \"salon\", \"job\", \"instal\", \"appointment\", \"dealership\", \"team\", \"result\", \"tire\", \"pedicure\", \"dr.\", \"doctor\", \"spa\", \"fix\", \"care\", \"car\", \"dog\", \"hair\", \"work\", \"patient\", \"repair\", \"year\", \"recommend\", \"thank\", \"new\", \"need\", \"owner\", \"highly\", \"know\", \"take\", \"time\", \"look\", \"service\", \"go\", \"tell\", \"feel\", \"great\", \"day\", \"guy\", \"come\", \"good\", \"\\n\\n\", \"get\", \"place\", \"experience\", \"staff\", \"customer\", \"like\", \"\\n\", \" \", \"price\", \"msg\", \"   \\n\\n\", \" \", \"   \", \"runner\", \"cirque\", \"stadium\", \"alas\", \"nowadays\", \" \\n\\n\", \"  \", \"voucher\", \"library\", \" \\n\", \"paul\", \"popcorn\", \"manhattan\", \"dare\", \"dancer\", \"  \\n\\n\", \"pitch\", \"poach\", \"imo\", \"pretentious\", \"performance\", \"japan\", \"installer\", \"inventory\", \"loaf\", \"rival\", \"log\", \"wi\", \"tune\", \"wagyu\", \"theater\", \"movie\", \"chicago\", \"raman\", \"edge\", \"example\", \"crepe\", \"good\", \"seat\", \"$\", \"food\", \"restaurant\", \"place\", \"great\", \"think\", \"like\", \"way\", \"well\", \"\\n\\n\", \"service\", \"bit\", \"time\", \"price\", \"little\", \"get\", \"table\", \"come\", \"order\", \"server\", \"go\", \"look\", \"want\", \"try\", \"eat\", \"love\", \"wait\", \"tostada\", \"daddy\", \"bride\", \"mcdonalds\", \"barbershop\", \"amanda\", \"gun\", \"boba\", \"catering\", \"nom\", \"gap\", \"hockey\", \"barber\", \"boutique\", \"instantly\", \"installation\", \"summerlin\", \"nick\", \"bob\", \"flower\", \"2018\", \"hesitation\", \"frank\", \"extraordinary\", \"occasionally\", \"frosting\", \"preserve\", \"grocery\", \"haunt\", \"hoagie\", \"wedding\", \"steakhouse\", \"cleveland\", \"starbuck\", \"store\", \"bubble\", \"hidden\", \"product\", \"michael\", \"carry\", \"gem\", \"service\", \"great\", \"shop\", \"meat\", \"amazing\", \"place\", \"excellent\", \"food\", \"find\", \"family\", \"outstanding\", \"price\", \"breakfast\", \"come\", \"friendly\", \"selection\", \"time\", \" \", \"customer\", \"staff\", \"like\", \"tea\", \"nice\", \"want\", \"love\", \"good\", \"go\", \"area\", \"5\", \"visit\", \"well\", \"order\", \"need\", \"et\", \"\\u00e0\", \"teacher\", \"les\", \"en\", \"une\", \"tr\\u00e8\", \"au\", \"des\", \"bon\", \"je\", \"sont\", \"pepperoni\", \"vous\", \"mais\", \"pas\", \"j'ai\", \"curly\", \"ce\", \"est\", \"nous\", \"avec\", \"attorney\", \"le\", \"un\", \"ne\", \"il\", \"calzone\", \"society\", \"jungle\", \"pizza\", \"de\", \"carb\", \"bagel\", \"smoothie\", \"oven\", \"polish\", \"la\", \"kid\", \"pour\", \"crust\", \"ask\", \"$\", \"order\", \"hair\", \"say\", \"gel\", \"\\n\", \"place\", \"come\", \"2\", \"wait\", \"minute\", \"like\", \"go\", \"star\", \"time\", \"food\", \"eat\", \" \", \"love\", \"look\", \"try\", \"get\", \"great\", \"want\", \"good\", \"\\n\\n\", \"staff\", \"year\"], \"Total\": [12514.0, 5022.0, 4331.0, 754.0, 5269.0, 3829.0, 3446.0, 1290.0, 851.0, 3954.0, 8638.0, 3213.0, 1506.0, 2247.0, 1589.0, 6325.0, 527.0, 4376.0, 1384.0, 1542.0, 1137.0, 560.0, 1435.0, 671.0, 3777.0, 719.0, 1625.0, 2238.0, 992.0, 1516.0, 43.58183670043945, 43.58909606933594, 90.27117919921875, 53.149288177490234, 36.184661865234375, 31.483293533325195, 27.349239349365234, 34.203460693359375, 554.3734741210938, 29.796598434448242, 36.60125732421875, 26.53095817565918, 23.505887985229492, 61.82493209838867, 21.311355590820312, 21.331212997436523, 21.563756942749023, 21.0134334564209, 20.752893447875977, 21.860694885253906, 103.12640380859375, 17.996644973754883, 20.74459457397461, 16.082616806030273, 16.09095001220703, 17.196495056152344, 233.01925659179688, 14.983681678771973, 20.471954345703125, 14.97853946685791, 379.7556457519531, 81.05644989013672, 52.367332458496094, 28.900043487548828, 570.2764892578125, 125.68819427490234, 47.862144470214844, 172.21597290039062, 568.2286376953125, 234.66571044921875, 504.92388916015625, 955.5623779296875, 99.68911743164062, 227.18983459472656, 75.30111694335938, 213.78005981445312, 1435.9591064453125, 204.53988647460938, 1119.3306884765625, 156.67591857910156, 111.76243591308594, 114.90056610107422, 395.9630432128906, 247.4165496826172, 877.0598754882812, 718.5491943359375, 344.391845703125, 3446.59033203125, 937.9063110351562, 368.7275390625, 868.36962890625, 344.578125, 1542.537841796875, 5022.29931640625, 1158.961669921875, 786.835693359375, 900.163330078125, 6325.912109375, 1258.3778076171875, 1721.1109619140625, 3213.33544921875, 758.3211669921875, 501.8336181640625, 471.48876953125, 3954.826904296875, 1300.723876953125, 2593.808837890625, 976.1441040039062, 5269.19287109375, 8638.095703125, 3777.91748046875, 3829.30517578125, 4376.796875, 2966.0908203125, 4331.44384765625, 3143.12548828125, 2238.073974609375, 1168.4683837890625, 32.861595153808594, 28.967815399169922, 26.019466400146484, 99.57837677001953, 25.46713638305664, 20.725603103637695, 26.003475189208984, 17.5803165435791, 18.904674530029297, 17.58477783203125, 16.795867919921875, 28.14646339416504, 13.882978439331055, 15.44880485534668, 12.020647048950195, 13.877318382263184, 17.058738708496094, 17.517330169677734, 11.254981994628906, 23.140642166137695, 11.51306438446045, 12.546381950378418, 70.60376739501953, 10.165040016174316, 10.710536003112793, 13.284066200256348, 11.240331649780273, 8.605818748474121, 15.677309036254883, 75.2057876586914, 32.962608337402344, 35.800174713134766, 39.25025177001953, 24.81215476989746, 168.92181396484375, 553.6376342773438, 46.41484451293945, 35.43549728393555, 119.4082260131836, 629.6056518554688, 76.31088256835938, 162.22576904296875, 47.372222900390625, 147.26780700683594, 263.0064697265625, 506.57879638671875, 106.28680419921875, 243.6041717529297, 600.4827270507812, 249.9449462890625, 107.47614288330078, 191.03567504882812, 494.75909423828125, 8638.095703125, 1416.9464111328125, 133.137451171875, 1159.3355712890625, 270.31451416015625, 451.8709716796875, 141.18650817871094, 69.62541961669922, 590.05517578125, 404.46533203125, 463.0597229003906, 532.9525756835938, 5269.19287109375, 4331.44384765625, 2238.073974609375, 868.4006958007812, 909.5947875976562, 1448.09375, 6325.912109375, 1837.471435546875, 1065.148193359375, 5022.29931640625, 3777.91748046875, 2593.808837890625, 1115.9832763671875, 1300.723876953125, 1749.620361328125, 1086.385986328125, 1458.9683837890625, 4376.796875, 1419.4757080078125, 3143.12548828125, 1600.9254150390625, 2247.697265625, 3954.826904296875, 2966.0908203125, 3446.59033203125, 3829.30517578125, 71.60971069335938, 33.66682815551758, 28.126888275146484, 26.657230377197266, 26.390790939331055, 41.68520736694336, 29.28703498840332, 21.998319625854492, 20.26910972595215, 185.92559814453125, 25.788328170776367, 19.652507781982422, 19.08683967590332, 19.941022872924805, 26.601041793823242, 19.02486801147461, 87.29415130615234, 18.170068740844727, 113.51957702636719, 16.43838119506836, 17.327939987182617, 560.2745361328125, 42.349708557128906, 15.57798957824707, 24.85696792602539, 25.058591842651367, 29.18478012084961, 16.983495712280273, 14.37252140045166, 12.64654541015625, 204.1536865234375, 1290.453125, 81.57149505615234, 102.36531066894531, 51.44656753540039, 48.56087875366211, 307.1483459472656, 73.02316284179688, 57.56292724609375, 71.58662414550781, 702.522216796875, 101.36981964111328, 61.964290618896484, 91.78648376464844, 85.54198455810547, 99.89266967773438, 517.2330322265625, 81.19761657714844, 367.0906982421875, 98.14703369140625, 133.42654418945312, 286.20556640625, 246.71229553222656, 167.49996948242188, 207.344970703125, 841.6295776367188, 1589.9857177734375, 158.49781799316406, 887.9327392578125, 306.6894836425781, 1575.586669921875, 986.1847534179688, 624.364013671875, 1099.79296875, 1501.101318359375, 1137.799072265625, 1079.3660888671875, 1720.1357421875, 8638.095703125, 1013.6375732421875, 380.17657470703125, 503.7778625488281, 1506.3260498046875, 4376.796875, 2966.0908203125, 3143.12548828125, 1012.808349609375, 1271.9052734375, 3213.33544921875, 1597.3096923828125, 1824.3800048828125, 2247.697265625, 3829.30517578125, 1513.3173828125, 3777.91748046875, 1516.4444580078125, 3954.826904296875, 1727.942138671875, 74.29309844970703, 99.2161865234375, 83.6190414428711, 55.54364013671875, 49.80147171020508, 58.553009033203125, 50.865970611572266, 72.50595092773438, 81.5400161743164, 37.901939392089844, 33.01118087768555, 27.566865921020508, 27.562911987304688, 27.015867233276367, 34.607276916503906, 24.72618293762207, 21.637176513671875, 24.47964096069336, 166.2265167236328, 21.88558006286621, 18.793598175048828, 18.522613525390625, 34.90339660644531, 16.195289611816406, 99.4704818725586, 20.802173614501953, 14.628777503967285, 14.141609191894531, 14.130720138549805, 26.00362205505371, 368.6532287597656, 99.50337219238281, 59.19178771972656, 67.55184173583984, 49.5181884765625, 63.80690383911133, 369.39678955078125, 259.0365295410156, 503.9141540527344, 55.87403869628906, 395.6886901855469, 83.38704681396484, 148.03732299804688, 147.33692932128906, 140.28713989257812, 160.94882202148438, 157.14913940429688, 142.1645965576172, 106.9196548461914, 376.1479187011719, 662.780029296875, 719.9519653320312, 402.8128662109375, 383.7065124511719, 1516.783447265625, 161.45074462890625, 218.20440673828125, 992.1287841796875, 1432.087646484375, 585.6829833984375, 1185.8602294921875, 1383.8636474609375, 579.1074829101562, 547.7618408203125, 1727.942138671875, 1513.3173828125, 4376.796875, 2002.259033203125, 3829.30517578125, 3143.12548828125, 1575.586669921875, 1145.1466064453125, 4331.44384765625, 1597.3096923828125, 651.9664306640625, 3954.826904296875, 6325.912109375, 8638.095703125, 2966.0908203125, 5269.19287109375, 1516.4444580078125, 1600.9254150390625, 1137.799072265625, 3777.91748046875, 3213.33544921875, 12514.505859375, 1749.620361328125, 18.588354110717773, 10.025238037109375, 12514.505859375, 42.87451934814453, 7.954072952270508, 17.69171905517578, 12.656551361083984, 14.246684074401855, 10.149955749511719, 527.6373291015625, 394.045166015625, 18.677751541137695, 39.051029205322266, 109.60877990722656, 56.63337326049805, 50.70726013183594, 10.853740692138672, 12.957639694213867, 11.553607940673828, 39.160823822021484, 14.680079460144043, 24.168989181518555, 15.139942169189453, 11.733506202697754, 44.12116622924805, 19.827035903930664, 16.572071075439453, 10.901446342468262, 19.92942237854004, 10.743670463562012, 13.672091484069824, 24.318119049072266, 19.25779914855957, 26.225473403930664, 65.29761505126953, 111.06273651123047, 49.21315002441406, 173.25634765625, 45.2396125793457, 60.253902435302734, 77.33921813964844, 6325.912109375, 641.6253662109375, 2247.697265625, 5022.29931640625, 1721.1109619140625, 5269.19287109375, 4331.44384765625, 1455.5509033203125, 3777.91748046875, 1152.6220703125, 928.8399658203125, 8638.095703125, 3829.30517578125, 860.1860961914062, 4376.796875, 1749.620361328125, 1448.09375, 2966.0908203125, 1168.4683837890625, 3954.826904296875, 3446.59033203125, 900.163330078125, 3143.12548828125, 2002.259033203125, 1824.3800048828125, 2593.808837890625, 1542.537841796875, 2238.073974609375, 1720.1357421875, 23.003829956054688, 18.13142967224121, 16.604578018188477, 22.567262649536133, 13.281251907348633, 14.040531158447266, 18.279577255249023, 69.37020874023438, 13.265368461608887, 20.578115463256836, 14.642556190490723, 11.820019721984863, 56.49357986450195, 15.12218952178955, 17.65230369567871, 29.70536231994629, 30.08820915222168, 20.88170051574707, 20.091615676879883, 32.53066635131836, 10.287331581115723, 8.402044296264648, 20.313892364501953, 15.139147758483887, 16.7327880859375, 9.50526237487793, 9.488471031188965, 82.44139099121094, 12.054986953735352, 17.028194427490234, 121.55762481689453, 60.78289794921875, 56.06122970581055, 23.74558448791504, 851.5776977539062, 43.42684555053711, 53.74725341796875, 242.13746643066406, 36.55543518066406, 102.08745574951172, 125.66122436523438, 3829.30517578125, 4331.44384765625, 559.1473388671875, 671.2069091796875, 1384.355224609375, 5269.19287109375, 657.695556640625, 5022.29931640625, 1625.3934326171875, 526.7201538085938, 119.76448822021484, 1749.620361328125, 482.85308837890625, 3954.826904296875, 1419.4757080078125, 532.9525756835938, 4376.796875, 12514.505859375, 1137.799072265625, 1600.9254150390625, 3777.91748046875, 363.7220458984375, 1837.471435546875, 1824.3800048828125, 2238.073974609375, 6325.912109375, 3143.12548828125, 848.2802734375, 761.8499755859375, 905.3858642578125, 928.8399658203125, 3446.59033203125, 1383.8636474609375, 62.71965026855469, 47.445701599121094, 50.08137893676758, 40.265113830566406, 30.38126564025879, 24.770383834838867, 22.07073402404785, 26.810537338256836, 25.51888656616211, 18.710615158081055, 18.043304443359375, 18.02444076538086, 34.696205139160156, 16.4804744720459, 16.483463287353516, 16.03292465209961, 15.343530654907227, 17.34069061279297, 14.89214038848877, 19.44977378845215, 13.306921005249023, 12.645870208740234, 19.25907325744629, 65.0415267944336, 49.231849670410156, 11.774170875549316, 10.872410774230957, 10.839442253112793, 12.22396469116211, 10.399514198303223, 754.4335327148438, 130.75889587402344, 22.132919311523438, 77.91426849365234, 65.94987487792969, 55.44709777832031, 89.03128814697266, 164.3594207763672, 427.8472900390625, 84.75452423095703, 123.81468200683594, 1506.3260498046875, 2247.697265625, 3446.59033203125, 383.7065124511719, 1589.9857177734375, 117.75098419189453, 3213.33544921875, 5269.19287109375, 3954.826904296875, 1085.3165283203125, 1720.1357421875, 1099.79296875, 3777.91748046875, 3143.12548828125, 991.2015380859375, 4376.796875, 5022.29931640625, 1542.537841796875, 12514.505859375, 2238.073974609375, 2002.259033203125, 2593.808837890625, 2966.0908203125, 4331.44384765625, 1824.3800048828125, 6325.912109375, 8638.095703125, 1600.9254150390625, 992.1287841796875], \"loglift\": [30.0, 29.0, 28.0, 27.0, 26.0, 25.0, 24.0, 23.0, 22.0, 21.0, 20.0, 19.0, 18.0, 17.0, 16.0, 15.0, 14.0, 13.0, 12.0, 11.0, 10.0, 9.0, 8.0, 7.0, 6.0, 5.0, 4.0, 3.0, 2.0, 1.0, 1.2769999504089355, 1.2760000228881836, 1.2756999731063843, 1.2725000381469727, 1.2717000246047974, 1.2702000141143799, 1.2649999856948853, 1.264799952507019, 1.2645000219345093, 1.2644000053405762, 1.2604000568389893, 1.259600043296814, 1.2568999528884888, 1.256700038909912, 1.256100058555603, 1.25600004196167, 1.2544000148773193, 1.253000020980835, 1.2526999711990356, 1.2513999938964844, 1.250499963760376, 1.2496000528335571, 1.2451000213623047, 1.2446999549865723, 1.2440999746322632, 1.243899941444397, 1.2417999505996704, 1.2396999597549438, 1.2395999431610107, 1.2389999628067017, 1.2325999736785889, 1.2352999448776245, 1.236899971961975, 1.2382999658584595, 1.1912000179290771, 1.220900058746338, 1.2308000326156616, 1.2045999765396118, 1.1796000003814697, 1.1957000494003296, 1.1648000478744507, 1.145400047302246, 1.2045999765396118, 1.1664999723434448, 1.2105000019073486, 1.1686999797821045, 1.0765000581741333, 1.1672999858856201, 1.0565999746322632, 1.1664999723434448, 1.17739999294281, 1.169800043106079, 1.0640000104904175, 1.1047999858856201, 0.9886999726295471, 0.9994000196456909, 1.0642999410629272, 0.826200008392334, 0.9546999931335449, 1.0506000518798828, 0.9527000188827515, 1.0565999746322632, 0.8762999773025513, 0.7229999899864197, 0.8802000284194946, 0.9003999829292297, 0.8747000098228455, 0.5166000127792358, 0.7936000227928162, 0.7113000154495239, 0.5722000002861023, 0.8888999819755554, 0.9664000272750854, 0.9804999828338623, 0.3781000077724457, 0.6881999969482422, 0.45320001244544983, 0.7278000116348267, 0.07500000298023224, -0.12060000002384186, 0.18940000236034393, 0.042100001126527786, -0.04500000178813934, 0.12309999763965607, -0.1388999968767166, -0.1137000024318695, 0.11219999939203262, 0.5430999994277954, 1.6375999450683594, 1.636299967765808, 1.625599980354309, 1.6252000331878662, 1.625100016593933, 1.6247999668121338, 1.6229000091552734, 1.617900013923645, 1.615399956703186, 1.6131999492645264, 1.6124000549316406, 1.6017999649047852, 1.5994999408721924, 1.5972000360488892, 1.594599962234497, 1.5937000513076782, 1.592900037765503, 1.5901000499725342, 1.5870000123977661, 1.5809999704360962, 1.5800000429153442, 1.5795999765396118, 1.579300045967102, 1.5759999752044678, 1.573699951171875, 1.572700023651123, 1.5658999681472778, 1.5644999742507935, 1.5605000257492065, 1.559999942779541, 1.5535999536514282, 1.5508999824523926, 1.5429999828338623, 1.5491000413894653, 1.4717999696731567, 1.4057999849319458, 1.5205999612808228, 1.5312000513076782, 1.468999981880188, 1.3625999689102173, 1.4890999794006348, 1.4337999820709229, 1.513800024986267, 1.423799991607666, 1.3746999502182007, 1.3138999938964844, 1.4398000240325928, 1.3544000387191772, 1.2348999977111816, 1.3174999952316284, 1.4112999439239502, 1.3413000106811523, 1.2107000350952148, 0.7391999959945679, 0.9860000014305115, 1.3503999710083008, 0.9519000053405762, 1.2066999673843384, 1.113800048828125, 1.3071999549865723, 1.440600037574768, 1.017199993133545, 1.0839999914169312, 1.049399971961975, 0.9914000034332275, 0.39590001106262207, 0.3921000063419342, 0.555400013923645, 0.8169999718666077, 0.7860000133514404, 0.6310999989509583, 0.1590999960899353, 0.4853000044822693, 0.6735000014305115, -0.00800000037997961, 0.09179999679327011, 0.23350000381469727, 0.5896999835968018, 0.5113999843597412, 0.33880001306533813, 0.5566999912261963, 0.3610000014305115, -0.42669999599456787, 0.28519999980926514, -0.2667999863624573, 0.1898999959230423, -0.07180000096559525, -0.5238999724388123, -0.38199999928474426, -0.5339000225067139, -0.6990000009536743, 1.7034000158309937, 1.6944999694824219, 1.6864999532699585, 1.6829999685287476, 1.6827000379562378, 1.6826000213623047, 1.6818000078201294, 1.680899977684021, 1.6771999597549438, 1.676300048828125, 1.6753000020980835, 1.6742000579833984, 1.6728999614715576, 1.672700047492981, 1.6722999811172485, 1.6684000492095947, 1.6682000160217285, 1.6669000387191772, 1.6663000583648682, 1.666200041770935, 1.666100025177002, 1.6649999618530273, 1.6648000478744507, 1.6629999876022339, 1.662600040435791, 1.6618000268936157, 1.6604000329971313, 1.65910005569458, 1.6517000198364258, 1.6497999429702759, 1.6420999765396118, 1.6227999925613403, 1.646299958229065, 1.642799973487854, 1.649399995803833, 1.6491999626159668, 1.5980000495910645, 1.6259000301361084, 1.6217999458312988, 1.6100000143051147, 1.4837000370025635, 1.5769000053405762, 1.6057000160217285, 1.5709999799728394, 1.551900029182434, 1.5351999998092651, 1.333799958229065, 1.5490000247955322, 1.3544000387191772, 1.5235999822616577, 1.482699990272522, 1.3722000122070312, 1.3758000135421753, 1.426200032234192, 1.3898999691009521, 1.13100004196167, 0.917900025844574, 1.3904000520706177, 0.9908000230789185, 1.2343000173568726, 0.8375999927520752, 0.9491999745368958, 1.0282000303268433, 0.8720999956130981, 0.7718999981880188, 0.8317999839782715, 0.8327999711036682, 0.6437000036239624, 0.0697999969124794, 0.7960000038146973, 1.1282000541687012, 1.0206999778747559, 0.6043000221252441, 0.17640000581741333, 0.328000009059906, 0.22949999570846558, 0.7110999822616577, 0.6019999980926514, 0.181099995970726, 0.45570001006126404, 0.36559998989105225, 0.23720000684261322, -0.12880000472068787, 0.43709999322891235, -0.1671999990940094, 0.412200003862381, -0.3495999872684479, 0.17759999632835388, 1.8278000354766846, 1.8245999813079834, 1.8240000009536743, 1.8238999843597412, 1.8229000568389893, 1.8220000267028809, 1.8214000463485718, 1.8193000555038452, 1.8183000087738037, 1.8174999952316284, 1.8122999668121338, 1.80840003490448, 1.8049999475479126, 1.804800033569336, 1.8043999671936035, 1.799299955368042, 1.79830002784729, 1.7958999872207642, 1.7955000400543213, 1.7935999631881714, 1.791100025177002, 1.791100025177002, 1.7860000133514404, 1.784500002861023, 1.7831000089645386, 1.7829999923706055, 1.7803000211715698, 1.7789000272750854, 1.7782000303268433, 1.7764999866485596, 1.7613999843597412, 1.7654999494552612, 1.7692999839782715, 1.7645000219345093, 1.7695000171661377, 1.7618999481201172, 1.7245999574661255, 1.7094000577926636, 1.6550999879837036, 1.753000020980835, 1.6454999446868896, 1.7271000146865845, 1.6871000528335571, 1.6648000478744507, 1.659500002861023, 1.6389000415802002, 1.6306999921798706, 1.6425000429153442, 1.6741000413894653, 1.5089999437332153, 1.3901000022888184, 1.373900055885315, 1.458299994468689, 1.4514000415802002, 1.159000039100647, 1.5950000286102295, 1.5190000534057617, 1.1614999771118164, 1.024999976158142, 1.2395999431610107, 0.9865000247955322, 0.9297000169754028, 1.194200038909912, 1.2070000171661377, 0.7738999724388123, 0.7745000123977661, 0.36800000071525574, 0.6607999801635742, 0.31839999556541443, 0.36239999532699585, 0.6561999917030334, 0.7771000266075134, 0.1768999993801117, 0.6230000257492065, 1.016700029373169, 0.10159999877214432, -0.21369999647140503, -0.5356000065803528, 0.12620000541210175, -0.2567000091075897, 0.49410000443458557, 0.42579999566078186, 0.6787999868392944, -0.3138999938964844, -0.3411000072956085, -1.6678999662399292, 0.22910000383853912, 2.2544000148773193, 2.2126998901367188, 2.194000005722046, 2.19320011138916, 2.187000036239624, 2.1693999767303467, 2.1600000858306885, 2.141900062561035, 2.138000011444092, 2.1328999996185303, 2.1166999340057373, 2.041800022125244, 2.0234999656677246, 2.0081000328063965, 2.0041000843048096, 1.9732999801635742, 1.9716999530792236, 1.9545999765396118, 1.954300045967102, 1.9538999795913696, 1.9479999542236328, 1.9079999923706055, 1.885200023651123, 1.8758000135421753, 1.8615000247955322, 1.8585000038146973, 1.8251999616622925, 1.8243000507354736, 1.8127000331878662, 1.8075000047683716, 1.8055000305175781, 1.7958999872207642, 1.7968000173568726, 1.778499960899353, 1.6845999956130981, 1.5749000310897827, 1.6447999477386475, 1.2994999885559082, 1.6002999544143677, 1.5216000080108643, 1.412600040435791, 0.04410000145435333, 0.746399998664856, 0.25519999861717224, -0.13770000636577606, 0.22920000553131104, -0.19599999487400055, -0.1720999926328659, 0.2442999929189682, -0.16869999468326569, 0.2939999997615814, 0.3833000063896179, -0.5584999918937683, -0.24140000343322754, 0.39890000224113464, -0.36489999294281006, 0.03220000118017197, 0.031199999153614044, -0.3504999876022339, 0.14190000295639038, -0.5503000020980835, -0.49470001459121704, 0.2630000114440918, -0.5421000123023987, -0.2540999948978424, -0.2264000028371811, -0.4796000123023987, -0.14090000092983246, -0.444599986076355, -0.2621000111103058, 2.8478000164031982, 2.834199905395508, 2.8271000385284424, 2.8173999786376953, 2.8148999214172363, 2.802799940109253, 2.7723000049591064, 2.7639000415802, 2.7592999935150146, 2.697000026702881, 2.691699981689453, 2.6879000663757324, 2.6868999004364014, 2.63700008392334, 2.59689998626709, 2.596100091934204, 2.5931999683380127, 2.487600088119507, 2.4751999378204346, 2.4719998836517334, 2.4707999229431152, 2.4647998809814453, 2.44350004196167, 2.4284000396728516, 2.401099920272827, 2.392199993133545, 2.3796000480651855, 2.362299919128418, 2.3376998901367188, 2.3361001014709473, 2.283099889755249, 2.2792000770568848, 2.2558999061584473, 2.315200090408325, 1.9226000308990479, 2.228600025177002, 2.182499885559082, 1.888200044631958, 2.2448999881744385, 2.0234999656677246, 1.9758000373840332, 1.0039000511169434, 0.9143999814987183, 1.4945000410079956, 1.3638999462127686, 1.1088999509811401, 0.5965999960899353, 1.2965999841690063, 0.546500027179718, 0.9430999755859375, 1.3083000183105469, 1.9050999879837036, 0.7616000175476074, 1.3037999868392944, 0.31679999828338623, 0.7792999744415283, 1.2003999948501587, 0.2101999968290329, -0.37880000472068787, 0.8047000169754028, 0.6205999851226807, 0.14180000126361847, 1.3588000535964966, 0.4819999933242798, 0.44510000944137573, 0.27709999680519104, -0.42340001463890076, -0.023499999195337296, 0.8323000073432922, 0.8967999815940857, 0.738099992275238, 0.7052000164985657, -0.6191999912261963, 0.2558000087738037, 3.0645999908447266, 3.060499906539917, 3.057300090789795, 3.0552000999450684, 3.04830002784729, 3.042799949645996, 3.038599967956543, 3.035900115966797, 3.0316998958587646, 3.0295000076293945, 3.029400110244751, 3.028899908065796, 3.0276999473571777, 3.024399995803833, 3.023900032043457, 3.022200107574463, 3.0211000442504883, 3.0209999084472656, 3.019700050354004, 3.0183000564575195, 3.013000011444092, 3.0081000328063965, 3.0009000301361084, 2.999500036239624, 2.998699903488159, 2.9976000785827637, 2.9921998977661133, 2.9890999794006348, 2.989000082015991, 2.982800006866455, 2.7685999870300293, 2.798799991607666, 2.9339001178741455, 2.767899990081787, 2.748500108718872, 2.743299961090088, 2.5743000507354736, 2.4219000339508057, 2.121000051498413, 2.463399887084961, 2.282900094985962, 1.062000036239624, 0.8080999851226807, 0.5432999730110168, 1.5391000509262085, 0.791700005531311, 2.087100028991699, 0.400299996137619, 0.11249999701976776, 0.16869999468326569, 0.8511000275611877, 0.583899974822998, 0.8008999824523926, 0.04560000076889992, 0.01510000042617321, 0.7635999917984009, -0.2563999891281128, -0.41519999504089355, 0.36550000309944153, -1.253600001335144, 0.06809999793767929, 0.13449999690055847, -0.09279999881982803, -0.20000000298023224, -0.5038999915122986, 0.17949999868869781, -0.8712000250816345, -1.1367000341415405, 0.27549999952316284, 0.6571999788284302], \"logprob\": [30.0, 29.0, 28.0, 27.0, 26.0, 25.0, 24.0, 23.0, 22.0, 21.0, 20.0, 19.0, 18.0, 17.0, 16.0, 15.0, 14.0, 13.0, 12.0, 11.0, 10.0, 9.0, 8.0, 7.0, 6.0, 5.0, 4.0, 3.0, 2.0, 1.0, -8.013799667358398, -8.01449966430664, -7.286799907684326, -7.819699764251709, -8.204999923706055, -8.345800399780273, -8.491700172424316, -8.26830005645752, -5.483099937438965, -8.406599998474121, -8.204899787902832, -8.52750015258789, -8.651300430297852, -7.6844000816345215, -8.750100135803223, -8.749199867248535, -8.739899635314941, -8.767200469970703, -8.779999732971191, -8.729299545288086, -7.178899765014648, -8.925600051879883, -8.788000106811523, -9.042900085449219, -9.043000221252441, -8.976699829101562, -6.372399806976318, -9.11870002746582, -8.806699752807617, -9.119799613952637, -5.893199920654297, -7.434899806976318, -7.870200157165527, -8.463199615478516, -5.5279998779296875, -7.010700225830078, -7.966300010681152, -6.712100028991699, -5.5432000160217285, -6.411499977111816, -5.67609977722168, -5.057700157165527, -7.258800029754639, -6.473100185394287, -7.533400058746338, -6.531799793243408, -4.719299793243408, -6.577300071716309, -4.98829984664917, -6.844699859619141, -7.171599864959717, -7.151500225067139, -6.020100116729736, -6.44950008392334, -5.300099849700928, -5.488699913024902, -6.159299850463867, -4.093999862670898, -5.267000198364258, -6.104700088500977, -5.3460001945495605, -6.166399955749512, -4.847899913787842, -3.8208000659942627, -5.129899978637695, -5.497000217437744, -5.3881001472473145, -3.7964000701904297, -5.134200096130371, -4.90339994430542, -4.418099880218506, -5.545400142669678, -5.88070011138916, -5.928999900817871, -4.404600143432617, -5.206500053405762, -4.751299858093262, -5.453999996185303, -4.4207000732421875, -4.122099876403809, -4.638999938964844, -4.772799968719482, -4.72629976272583, -4.947299957275391, -4.830699920654297, -5.126100063323975, -5.2399001121521, -5.458899974822998, -7.935400009155273, -8.062899589538574, -8.180899620056152, -6.839300155639648, -8.202899932861328, -8.409199714660645, -8.184200286865234, -8.580699920654297, -8.510600090026855, -8.585200309753418, -8.631799697875977, -8.126199722290039, -8.835200309753418, -8.730600357055664, -8.984100341796875, -8.841400146484375, -8.6358003616333, -8.612099647521973, -9.057600021362305, -8.342700004577637, -9.041899681091309, -8.956399917602539, -7.229000091552734, -9.17039966583252, -9.120499610900879, -8.906200408935547, -9.079999923706055, -9.348400115966797, -8.752699851989746, -7.185100078582764, -8.016400337219238, -7.936600208282471, -7.852399826049805, -8.305000305175781, -6.464200019836426, -5.343100070953369, -7.707200050354004, -7.966400146484375, -6.813799858093262, -5.257699966430664, -7.241499900817871, -6.542600154876709, -7.693600177764893, -6.6493000984191895, -6.118500232696533, -5.523799896240234, -6.959499835968018, -6.215400218963623, -5.432700157165527, -6.2266998291015625, -6.976799964904785, -6.47160005569458, -5.650599956512451, -3.262200117111206, -4.8231000900268555, -6.823599815368652, -5.0578999519348145, -6.259099960327148, -5.838200092315674, -6.80810022354126, -7.3815999031066895, -5.668000221252441, -5.978799819946289, -5.8780999183654785, -5.795499801635742, -4.099800109863281, -4.299600124359131, -4.796599864959717, -5.4816999435424805, -5.466400146484375, -5.156300067901611, -4.153900146484375, -5.064000129699707, -5.421000003814697, -4.551700115203857, -4.736599922180176, -4.9710001945495605, -5.458199977874756, -5.383299827575684, -5.259500026702881, -5.518099784851074, -5.418900012969971, -5.107999801635742, -5.522200107574463, -5.279200077056885, -5.497099876403809, -5.41949987411499, -5.306600093841553, -5.452400207519531, -5.45419979095459, -5.513899803161621, -7.090799808502197, -7.854400157928467, -8.042200088500977, -8.099300384521484, -8.109700202941895, -7.652599811553955, -8.006500244140625, -8.293499946594238, -8.37909984588623, -6.16379976272583, -8.140199661254883, -8.413000106811523, -8.443499565124512, -8.399900436401367, -8.112199783325195, -8.451299667358398, -6.9278998374938965, -8.498700141906738, -6.667099952697754, -8.599599838256836, -8.546899795532227, -5.071899890899658, -7.654600143432617, -8.656599998474121, -8.189599990844727, -8.182299613952637, -8.031299591064453, -8.574000358581543, -8.748299598693848, -8.878199577331543, -6.104400157928467, -4.279900074005127, -7.017600059509277, -6.794000148773193, -7.475399971008301, -7.533299922943115, -5.739999771118164, -7.14870023727417, -7.390699863433838, -7.1844000816345215, -5.0269999504089355, -6.869699954986572, -7.333099842071533, -6.974899768829346, -7.064499855041504, -6.92609977722168, -5.483099937438965, -7.119500160217285, -5.8053998947143555, -6.9552998542785645, -6.689199924468994, -6.036499977111816, -6.181399822235107, -6.518199920654297, -6.341100215911865, -5.199100017547607, -4.776000022888184, -6.6092000007629395, -5.285699844360352, -6.105199813842773, -4.8653998374938965, -5.222400188446045, -5.600500106811523, -5.190400123596191, -4.979499816894531, -5.196800231933594, -5.2484002113342285, -4.971499919891357, -3.9316999912261963, -5.348100185394287, -5.996500015258789, -5.822500228881836, -5.143700122833252, -4.504899978637695, -4.742400169372559, -4.782899856567383, -5.433800220489502, -5.315100193023682, -4.809199810028076, -5.23360013961792, -5.190800189971924, -5.110499858856201, -4.943699836730957, -5.30620002746582, -4.995699882507324, -5.329100131988525, -5.132199764251709, -5.43310022354126, -6.929599761962891, -6.643499851226807, -6.815100193023682, -7.224400043487549, -7.334499835968018, -7.173500061035156, -7.314799785614014, -6.962399959564209, -6.8460001945495605, -7.612800121307373, -7.75629997253418, -7.940299987792969, -7.943900108337402, -7.964200019836426, -7.716899871826172, -8.058199882507324, -8.192700386047363, -8.071599960327148, -6.156599998474121, -8.185999870300293, -8.340800285339355, -8.355299949645996, -7.726799964904785, -8.496199607849121, -6.682400226593018, -8.247400283813477, -8.60200023651123, -8.637399673461914, -8.638899803161621, -8.030699729919434, -5.394199848175049, -6.699699878692627, -7.2153000831604, -7.087900161743164, -7.393499851226807, -7.147600173950195, -5.428899765014648, -5.798999786376953, -5.18779993057251, -7.289299964904785, -5.439199924468994, -6.91480016708374, -6.380799770355225, -6.407899856567383, -6.462200164794922, -6.345399856567383, -6.377500057220459, -6.46589994430542, -6.719200134277344, -5.626399993896484, -5.178800106048584, -5.112299919128418, -5.60860013961792, -5.6641998291015625, -4.581999778747559, -6.386199951171875, -6.160900115966797, -5.0040998458862305, -4.773399829864502, -5.453000068664551, -5.0005998611450195, -4.9029998779296875, -5.509699821472168, -5.552599906921387, -4.8368000984191895, -4.968800067901611, -4.313300132751465, -4.802599906921387, -4.496500015258789, -4.650000095367432, -5.046800136566162, -5.244999885559082, -4.514900207519531, -5.066299915313721, -5.568699836730957, -4.681099891662598, -4.526599884033203, -4.537099838256836, -4.9440999031066895, -4.752399921417236, -5.247200012207031, -5.261300086975098, -5.349699974060059, -5.142300128936768, -5.331399917602539, -5.298600196838379, -5.369100093841553, -7.888400077819824, -8.547499656677246, -1.4368000030517578, -7.113900184631348, -8.804699897766113, -8.02280044555664, -8.367199897766113, -8.266900062561035, -8.60990047454834, -4.664100170135498, -4.9721999168396, -8.09630012512207, -7.376999855041504, -6.360300064086914, -7.024700164794922, -7.165999889373779, -8.709199905395508, -8.549099922180176, -8.66409969329834, -7.44379997253418, -8.430899620056152, -7.972300052642822, -8.462900161743164, -8.727100372314453, -7.416900157928467, -8.219799995422363, -8.432499885559082, -8.85219955444336, -8.260499954223633, -8.883500099182129, -8.644499778747559, -8.078300476074219, -8.310600280761719, -8.020099639892578, -7.2017998695373535, -6.780399799346924, -7.524400234222412, -6.611100196838379, -7.65310001373291, -7.445199966430664, -7.304599761962891, -4.268799781799316, -5.855000019073486, -5.09250020980835, -4.681399822235107, -5.385499954223633, -4.691800117492676, -4.863900184631348, -5.537899971008301, -4.997200012207031, -5.72160005569458, -5.848199844360352, -4.559999942779541, -5.056399822235107, -5.909299850463867, -5.046199798583984, -5.566100120544434, -5.756199836730957, -5.420899868011475, -5.860000133514404, -5.333000183105469, -5.414999961853027, -5.999800205230713, -5.554500102996826, -5.717400074005127, -5.782700061798096, -5.684100151062012, -5.865099906921387, -5.796599864959717, -5.877399921417236, -7.081900119781494, -7.333499908447266, -7.428599834442139, -7.131499767303467, -7.6641998291015625, -7.62060022354126, -7.38730001449585, -6.061999797821045, -7.720900058746338, -7.344200134277344, -7.689700126647949, -7.907700061798096, -6.344299793243408, -7.712200164794922, -7.597599983215332, -7.077899932861328, -7.067999839782715, -7.538899898529053, -7.589799880981445, -7.111199855804443, -8.263699531555176, -8.472100257873535, -7.610499858856201, -7.9197001457214355, -7.84689998626709, -8.421299934387207, -8.435700416564941, -6.290999889373779, -8.238200187683105, -7.894499778747559, -5.981900215148926, -6.678800106048584, -6.7829999923706055, -7.582799911499023, -4.395699977874756, -7.065700054168701, -6.898600101470947, -5.687699794769287, -7.221700191497803, -6.416100025177002, -6.25600004196167, -3.811000108718872, -3.7772998809814453, -5.244500160217285, -5.192399978637695, -4.723499774932861, -3.8991000652313232, -5.28000020980835, -3.9972000122070312, -4.728799819946289, -5.4903998374938965, -6.37470006942749, -4.836599826812744, -5.5817999839782715, -4.46589994430542, -5.02810001373291, -5.586599826812744, -4.471099853515625, -4.009500026702881, -5.223800182342529, -5.066400051116943, -4.686699867248535, -5.810100078582764, -5.067200183868408, -5.111299991607666, -5.074900150299072, -4.736400127410889, -5.035900115966797, -5.489799976348877, -5.532899856567383, -5.518899917602539, -5.526299953460693, -5.5395002365112305, -5.576900005340576, -5.862100124359131, -6.145299911499023, -6.0945000648498535, -6.314700126647949, -6.6031999588012695, -6.812900066375732, -6.932600021362305, -6.740699768066406, -6.7941999435424805, -7.106800079345703, -7.143199920654297, -7.144700050354004, -6.491000175476074, -7.238800048828125, -7.239099979400635, -7.268599987030029, -7.313600063323975, -7.191299915313721, -7.344900131225586, -7.07919979095459, -7.464099884033203, -7.519899845123291, -7.106500148773193, -5.8907999992370605, -6.170199871063232, -7.601799964904785, -7.686999797821045, -7.692999839782715, -7.572999954223633, -7.740799903869629, -3.670799970626831, -5.3933000564575195, -7.03439998626709, -5.94189977645874, -6.127999782562256, -6.306700229644775, -6.002099990844727, -5.541399955749512, -4.885700225830078, -6.162199974060059, -5.963699817657471, -4.685999870300293, -4.539700031280518, -4.376999855041504, -5.576399803161621, -4.902200222015381, -6.209700107574463, -4.590099811553955, -4.383200168609619, -4.613999843597412, -5.224599838256836, -5.031300067901611, -5.261600017547607, -4.782899856567383, -4.997300148010254, -5.402900218963623, -4.937699794769287, -4.958899974822998, -5.358699798583984, -4.884300231933594, -5.283899784088135, -5.328800201416016, -5.297299861907959, -5.270400047302246, -5.1956000328063965, -5.3769001960754395, -5.184100151062012, -5.1381001472473145, -5.411499977111816, -5.508299827575684]}, \"token.table\": {\"Topic\": [1, 2, 3, 4, 5, 6, 7, 1, 2, 3, 4, 5, 6, 7, 1, 2, 3, 4, 5, 6, 7, 1, 3, 4, 5, 6, 7, 1, 2, 3, 4, 5, 6, 7, 1, 3, 4, 5, 6, 7, 1, 2, 3, 4, 5, 3, 5, 6, 5, 1, 2, 3, 4, 5, 6, 7, 1, 2, 3, 4, 5, 6, 7, 3, 5, 6, 1, 2, 3, 4, 5, 6, 7, 3, 2, 5, 1, 2, 5, 6, 7, 6, 1, 2, 3, 4, 5, 6, 7, 2, 3, 4, 5, 6, 7, 1, 2, 3, 4, 5, 6, 7, 3, 4, 1, 5, 6, 1, 2, 3, 4, 5, 6, 7, 3, 7, 7, 3, 7, 1, 2, 1, 2, 3, 4, 5, 6, 7, 1, 2, 5, 7, 1, 2, 3, 4, 5, 6, 7, 3, 4, 6, 6, 1, 2, 3, 4, 5, 6, 1, 2, 5, 6, 1, 2, 5, 1, 2, 3, 4, 1, 2, 5, 6, 7, 1, 2, 3, 4, 5, 6, 1, 2, 3, 4, 7, 1, 2, 3, 4, 5, 6, 7, 2, 3, 4, 6, 2, 6, 7, 2, 2, 6, 1, 2, 3, 5, 6, 7, 1, 2, 5, 1, 2, 3, 4, 5, 6, 7, 1, 2, 5, 7, 6, 1, 2, 5, 4, 1, 1, 2, 3, 4, 6, 1, 2, 3, 4, 5, 6, 7, 1, 2, 5, 7, 1, 1, 2, 3, 5, 1, 2, 3, 4, 5, 6, 7, 7, 2, 3, 4, 5, 6, 7, 2, 2, 3, 4, 5, 6, 7, 2, 7, 1, 2, 3, 4, 5, 6, 7, 1, 5, 6, 1, 1, 2, 3, 4, 5, 6, 1, 2, 3, 5, 2, 2, 4, 2, 6, 7, 1, 2, 2, 3, 1, 2, 3, 4, 5, 6, 7, 3, 5, 1, 2, 5, 7, 1, 2, 3, 4, 5, 6, 7, 1, 4, 5, 7, 1, 2, 3, 4, 5, 6, 7, 1, 5, 1, 2, 3, 4, 5, 6, 7, 1, 3, 2, 5, 2, 3, 4, 5, 6, 7, 1, 2, 3, 5, 6, 7, 1, 2, 3, 4, 5, 6, 7, 2, 3, 1, 2, 3, 4, 5, 6, 7, 1, 2, 4, 5, 7, 1, 2, 3, 4, 5, 6, 7, 1, 1, 2, 5, 7, 2, 6, 7, 1, 2, 7, 1, 2, 5, 6, 7, 1, 2, 5, 6, 1, 2, 5, 7, 7, 1, 2, 5, 1, 2, 3, 4, 5, 6, 7, 6, 2, 5, 7, 1, 5, 6, 1, 2, 3, 4, 5, 6, 7, 1, 5, 7, 2, 3, 4, 2, 1, 2, 3, 4, 5, 6, 7, 1, 2, 3, 4, 5, 6, 7, 4, 1, 4, 3, 7, 2, 3, 4, 5, 4, 1, 2, 3, 4, 5, 6, 7, 3, 4, 7, 1, 2, 3, 4, 5, 6, 7, 1, 2, 4, 6, 7, 3, 4, 4, 5, 7, 1, 2, 3, 4, 5, 6, 7, 2, 2, 1, 2, 3, 4, 5, 6, 7, 4, 1, 2, 3, 5, 6, 7, 3, 1, 2, 3, 4, 5, 6, 7, 7, 1, 2, 3, 4, 5, 6, 7, 3, 7, 7, 1, 2, 4, 5, 6, 1, 2, 3, 4, 5, 6, 7, 3, 1, 2, 3, 4, 5, 6, 7, 4, 6, 1, 2, 5, 6, 4, 7, 4, 1, 1, 2, 3, 4, 5, 6, 7, 1, 2, 3, 4, 5, 7, 1, 2, 3, 4, 5, 6, 7, 1, 1, 2, 3, 4, 5, 6, 7, 1, 2, 3, 4, 5, 6, 7, 1, 2, 3, 4, 5, 6, 7, 2, 6, 1, 2, 3, 4, 5, 6, 7, 1, 2, 4, 5, 6, 1, 2, 3, 4, 5, 6, 7, 1, 2, 3, 4, 5, 6, 7, 1, 2, 3, 4, 5, 6, 7, 2, 6, 1, 2, 3, 4, 5, 6, 7, 1, 2, 3, 4, 5, 6, 7, 1, 2, 3, 4, 5, 7, 3, 4, 6, 4, 7, 1, 2, 3, 4, 5, 6, 7, 1, 2, 3, 4, 5, 6, 7, 1, 2, 1, 2, 3, 4, 5, 6, 7, 1, 2, 3, 4, 5, 6, 7, 3, 4, 1, 2, 3, 4, 5, 6, 7, 2, 3, 5, 6, 4, 1, 1, 2, 5, 6, 3, 6, 1, 2, 3, 4, 5, 6, 7, 2, 3, 4, 5, 7, 2, 3, 4, 5, 6, 7, 2, 2, 3, 5, 6, 4, 6, 1, 1, 2, 6, 7, 1, 2, 3, 4, 5, 6, 7, 1, 6, 5, 6, 2, 3, 1, 2, 3, 4, 5, 7, 1, 2, 3, 4, 5, 6, 7, 3, 1, 2, 3, 4, 5, 6, 7, 1, 2, 3, 4, 6, 7, 2, 7, 2, 5, 2, 1, 2, 3, 4, 5, 6, 7, 3, 4, 3, 6, 4, 5, 4, 6, 1, 2, 3, 4, 5, 6, 5, 7, 3, 5, 7, 3, 1, 2, 5, 7, 1, 2, 3, 4, 5, 6, 7, 7, 1, 1, 2, 3, 4, 5, 6, 7, 1, 1, 2, 3, 4, 5, 6, 7, 1, 2, 3, 4, 5, 6, 7, 4, 1, 2, 6, 4, 7, 1, 2, 3, 4, 5, 6, 7, 7, 2, 3, 5, 1, 2, 3, 4, 5, 6, 7, 1, 2, 3, 4, 5, 6, 7, 1, 2, 3, 4, 5, 6, 7, 1, 2, 5, 7, 1, 2, 3, 4, 5, 1, 2, 3, 4, 5, 6, 7, 2, 4, 5, 7, 1, 2, 3, 4, 5, 6, 7, 1, 2, 3, 4, 5, 6, 7, 1, 2, 3, 4, 5, 6, 7, 1, 2, 3, 4, 5, 6, 7, 3, 7, 3, 1, 2, 3, 4, 5, 6, 7, 1, 3, 5, 4, 4, 5, 7, 2, 7, 3, 6, 1, 2, 3, 4, 5, 6, 7, 1, 2, 3, 4, 5, 6, 7, 1, 2, 3, 4, 5, 6, 7, 1, 2, 5, 6, 2, 3, 5, 2, 4, 5, 6, 4, 1, 2, 5, 6, 1, 2, 3, 4, 5, 6, 7, 1, 2, 3, 4, 5, 6, 7, 3, 1, 2, 3, 4, 5, 7, 5, 1, 2, 3, 4, 5, 6, 1, 3, 4, 5, 7, 7, 1, 2, 3, 4, 5, 6, 7, 1, 2, 3, 4, 5, 6, 7, 1, 2, 3, 4, 5, 6, 7, 3, 6, 5, 6, 7, 1, 2, 5, 6, 7, 3, 5, 4, 5, 6, 1, 2, 3, 4, 5, 6, 7, 1, 2, 3, 4, 5, 6, 1, 2, 3, 4, 5, 6, 1, 2, 3, 6, 7, 1, 2, 3, 4, 5, 6, 7, 7, 1, 1, 2, 3, 4, 6, 7, 1, 2, 3, 4, 5, 6, 7, 1, 2, 3, 4, 5, 1, 2, 3, 4, 5, 6, 7, 4, 4, 7, 1, 2, 3, 4, 5, 6, 7, 1, 2, 5, 6, 1, 7, 2, 3, 5, 4, 1, 1, 2, 4, 6, 7, 3, 1, 2, 3, 4, 5, 6, 7, 1, 2, 1, 3, 6, 3, 4, 5, 1, 2, 3, 4, 5, 6, 7, 1, 2, 3, 4, 5, 6, 7, 3, 1, 5, 1, 4, 5, 7, 1, 2, 3, 4, 6, 1, 2, 4, 5, 7, 1, 2, 5, 6, 7, 1, 2, 3, 5, 6, 7, 1, 2, 3, 4, 5, 6, 7, 1, 2, 6, 2, 4, 5, 1, 2, 3, 4, 5, 6, 7, 2, 1, 2, 3, 4, 5, 6, 7, 1, 2, 3, 4, 5, 6, 7, 1, 2, 3, 4, 5, 6, 7, 4, 2, 4, 1, 2, 5, 1, 2, 3, 4, 5, 6, 7, 4, 3, 4, 5, 7, 1, 3, 4, 5, 7, 1, 2, 3, 6, 7, 3, 4, 6, 1, 2, 3, 4, 4, 1, 2, 3, 4, 5, 6, 7, 2, 1, 2, 3, 4, 5, 7, 1, 2, 5, 1, 2, 3, 5, 6, 7, 3, 5, 3, 4, 1, 2, 3, 4, 5, 6, 7, 1, 2, 3, 4, 5, 7, 1, 1, 2, 3, 4, 5, 6, 7, 5, 3, 1, 2, 3, 4, 5, 6, 7, 4, 7, 1, 5, 6, 1, 2, 5, 1, 2, 3, 4, 5, 6, 7, 1, 2, 5, 6, 1, 2, 3, 4, 5, 6, 7, 2, 4, 1, 2, 3, 4, 5, 6, 7, 1, 2, 5, 6, 7, 3, 4, 5, 1, 2, 3, 4, 5, 6, 7, 1, 2, 3, 4, 5, 6, 7, 1, 2, 3, 4, 5, 6, 7, 2, 4, 2, 3, 5, 1, 2, 3, 4, 5, 6, 7, 2, 3, 4, 5, 1, 1, 2, 5, 7, 1, 2, 1, 2, 3, 4, 1, 2, 3, 4, 5, 6, 7, 1, 2, 6, 7, 2, 5, 7, 7, 1, 2, 5, 7, 3, 4, 7, 1, 2, 3, 4, 5, 6, 1, 2, 5, 2, 1, 5, 1, 2, 3, 4, 5, 6, 7, 1, 2, 3, 4, 5, 6, 7, 1, 2, 3, 6, 7, 1, 2, 3, 4, 5, 6, 7, 1, 2, 3, 5, 6, 4, 1, 2, 3, 4, 5, 6, 7, 3, 3, 5, 7, 1, 2, 6, 3, 2, 1, 2, 5, 7, 1, 2, 3, 4, 5, 6, 7, 1, 2, 3, 4, 5, 7, 1, 1, 2, 3, 4, 5, 6, 7, 1, 1, 2, 3, 4, 5, 6, 1, 2, 3, 4, 5, 6, 7, 3, 1, 2, 3, 4, 5, 6, 7, 7, 1, 2, 3, 4, 7, 3, 4, 7, 4, 6, 1, 2, 3, 4, 5, 6, 7, 3, 1, 2, 3, 4, 5, 6, 7, 3, 4, 5, 4, 1, 2, 3, 4, 5, 6, 7, 4, 5, 4, 2, 1, 2, 3, 4, 5, 6, 7, 4, 4, 6, 1, 2, 5, 6, 2, 3, 2, 6, 1, 2, 3, 4, 5, 6, 7, 7, 1, 2, 5, 2, 3, 5, 2, 1, 3, 7, 7, 1, 5, 1, 2, 5, 7, 1, 2, 5, 6, 7, 1, 2, 5, 7, 1, 2, 3, 4, 5, 6, 7, 3, 5, 7, 1, 5, 6, 1, 2, 3, 4, 5, 6, 7, 1, 2, 3, 4, 5, 6, 7, 4, 1, 2, 3, 4, 5, 6, 7, 1, 2, 3, 4, 5, 6, 7, 1, 2, 3, 4, 5, 6, 7, 2, 2, 3, 4, 5, 4, 1, 2, 3, 4, 5, 6, 7, 1, 1, 2, 3, 4, 5, 6, 7, 1, 2, 3, 4, 5, 6, 7, 1, 2, 2, 7], \"Freq\": [0.4839208424091339, 0.08589205890893936, 0.2147301435470581, 0.11296673119068146, 0.013070531189441681, 0.02147301472723484, 0.06846468150615692, 0.24195148050785065, 0.39499446749687195, 0.19194045662879944, 0.09296030551195145, 0.05660969763994217, 0.00683020893484354, 0.014702314510941505, 0.006951932329684496, 0.0053537869825959206, 0.018618393689393997, 0.029965225607156754, 0.8879295587539673, 0.03811576962471008, 0.013104792684316635, 0.09123356640338898, 0.009123357012867928, 0.054740142077207565, 0.738991916179657, 0.009123357012867928, 0.09123356640338898, 0.011371446773409843, 0.039800066500902176, 0.028428617864847183, 0.013266688212752342, 0.835801362991333, 0.07012392580509186, 0.0018952412065118551, 0.007613340392708778, 0.017764460295438766, 0.11927566677331924, 0.8222407698631287, 0.025377800688147545, 0.007613340392708778, 0.07660717517137527, 0.12767861783504486, 0.05107145011425018, 0.02553572505712509, 0.6894645690917969, 0.023323876783251762, 0.8863072991371155, 0.09329550713300705, 0.8977342844009399, 0.2068783938884735, 0.17573541402816772, 0.22689887881278992, 0.14503732323646545, 0.12768623232841492, 0.014681692235171795, 0.1032167449593544, 0.26628175377845764, 0.13268019258975983, 0.27088871598243713, 0.13636574149131775, 0.052519239485263824, 0.03317004814743996, 0.10780265182256699, 0.09720693528652191, 0.19441387057304382, 0.680448591709137, 0.23626698553562164, 0.07219269126653671, 0.24939292669296265, 0.1745750606060028, 0.05512896552681923, 0.13650982081890106, 0.0761304721236229, 0.9694308042526245, 0.07019177079200745, 0.8423012495040894, 0.02110941708087921, 0.8654860854148865, 0.02110941708087921, 0.02110941708087921, 0.08443766832351685, 0.9258909225463867, 0.3113362789154053, 0.2224862426519394, 0.021670738235116005, 0.21526266634464264, 0.03756261244416237, 0.1690317541360855, 0.023115454241633415, 0.002527239266782999, 0.12383472174406052, 0.8238800168037415, 0.002527239266782999, 0.007581717800348997, 0.040435828268527985, 0.1803649216890335, 0.3253641724586487, 0.21101516485214233, 0.06601591408252716, 0.06837362796068192, 0.1284952610731125, 0.020040545612573624, 0.060583800077438354, 0.928951621055603, 0.9356978535652161, 0.019095873460173607, 0.019095873460173607, 0.2489500790834427, 0.03784041479229927, 0.32795023918151855, 0.17061379551887512, 0.05709255486726761, 0.024563075974583626, 0.13277338445186615, 0.05192357674241066, 0.934624433517456, 0.9697679281234741, 0.9356046319007874, 0.9489263892173767, 0.14414720237255096, 0.8386746048927307, 0.27910882234573364, 0.04166977107524872, 0.32706838846206665, 0.16274796426296234, 0.08805686980485916, 0.05975287780165672, 0.04166977107524872, 0.012834619730710983, 0.24385777115821838, 0.012834619730710983, 0.7315733432769775, 0.2190910130739212, 0.48821067810058594, 0.14922340214252472, 0.012075882405042648, 0.07849323749542236, 0.014663571491837502, 0.03795277327299118, 0.017701126635074615, 0.15931013226509094, 0.8142518401145935, 0.9035292863845825, 0.12057200819253922, 0.10610336810350418, 0.7186091542243958, 0.019291521981358528, 0.014468641020357609, 0.019291521981358528, 0.9034127593040466, 0.03835242986679077, 0.025568285956978798, 0.029829667881131172, 0.8759194612503052, 0.09243371337652206, 0.026409631595015526, 0.02689247764647007, 0.0053784954361617565, 0.9573721885681152, 0.0053784954361617565, 0.8753794431686401, 0.05347340553998947, 0.05149291083216667, 0.01782446913421154, 0.001980496570467949, 0.10959240794181824, 0.7369692325592041, 0.0015882957959547639, 0.0031765915919095278, 0.13182854652404785, 0.015882957726716995, 0.932684063911438, 0.010010744445025921, 0.8308917880058289, 0.15016116201877594, 0.010010744445025921, 0.4161890149116516, 0.2464582920074463, 0.07905266433954239, 0.0639396533370018, 0.14764246344566345, 0.022088242694735527, 0.02557586133480072, 0.9363985061645508, 0.049772005528211594, 0.24886003136634827, 0.647036075592041, 0.10090786963701248, 0.8793399930000305, 0.962020754814148, 0.9526152610778809, 0.19838397204875946, 0.7935358881950378, 0.7274828553199768, 0.12513554096221924, 0.004241882357746363, 0.08059576898813248, 0.05938635766506195, 0.0021209411788731813, 0.9342546463012695, 0.03460202366113663, 0.03460202366113663, 0.3479319214820862, 0.09733809530735016, 0.18017902970314026, 0.0020710232201963663, 0.12219037860631943, 0.20503130555152893, 0.04763353615999222, 0.0664842426776886, 0.9041857123374939, 0.013296849094331264, 0.013296849094331264, 0.9635896682739258, 0.9376181960105896, 0.02467416226863861, 0.02467416226863861, 0.9706310033798218, 0.9732654690742493, 0.11513615399599075, 0.2763267755508423, 0.04605446010828018, 0.04605446010828018, 0.5065990686416626, 0.741772472858429, 0.11411883682012558, 0.013916932046413422, 0.002783386269584298, 0.11272714287042618, 0.011133545078337193, 0.005566772539168596, 0.8744164705276489, 0.07020861655473709, 0.0446782112121582, 0.006382601801306009, 0.9446204900741577, 0.012259184382855892, 0.012259184382855892, 0.9316980242729187, 0.04903673753142357, 0.05584404617547989, 0.009505369700491428, 0.554875910282135, 0.28991377353668213, 0.019010739400982857, 0.02851610817015171, 0.04277416318655014, 0.9225566983222961, 0.011690165847539902, 0.8416919708251953, 0.05845082923769951, 0.011690165847539902, 0.04676066339015961, 0.035070497542619705, 0.8896534442901611, 0.002777963178232312, 0.3458563983440399, 0.6264306902885437, 0.009722870774567127, 0.012500833719968796, 0.001388981589116156, 0.09036313742399216, 0.8584498167037964, 0.0739310160279274, 0.028667127713561058, 0.18407313525676727, 0.6367120146751404, 0.03017592430114746, 0.010561573319137096, 0.03470231220126152, 0.9543075561523438, 0.01617470383644104, 0.01617470383644104, 0.9506663084030151, 0.00979552324861288, 0.27427464723587036, 0.12734179198741913, 0.09795522689819336, 0.07836418598890305, 0.4212074875831604, 0.029389623552560806, 0.004898270592093468, 0.9257731437683105, 0.03428789600729942, 0.9150921702384949, 0.012263917364180088, 0.9811133742332458, 0.07538425922393799, 0.9046111106872559, 0.9400932192802429, 0.05862098187208176, 0.9379357099533081, 0.9737811088562012, 0.9528096914291382, 0.1622413992881775, 0.1318211406469345, 0.4623880088329315, 0.13790519535541534, 0.049686431884765625, 0.04157435894012451, 0.014196122996509075, 0.9445165395736694, 0.023612912744283676, 0.9402002692222595, 0.020893339067697525, 0.020893339067697525, 0.020893339067697525, 0.7082237601280212, 0.13473525643348694, 0.0011515833903104067, 0.0011515833903104067, 0.06218549981713295, 0.00575791671872139, 0.08867191523313522, 0.10159885883331299, 0.10159885883331299, 0.5079942941665649, 0.2641570270061493, 0.8008584380149841, 0.11003098636865616, 0.0020891958847641945, 0.0006963986670598388, 0.04248031973838806, 0.018802763894200325, 0.025070352479815483, 0.9229187965393066, 0.06364957243204117, 0.7864689826965332, 0.07255248725414276, 0.002902099397033453, 0.0609440878033638, 0.008706298656761646, 0.002902099397033453, 0.06384618580341339, 0.9322010278701782, 0.9488757252693176, 0.11304724216461182, 0.8478543162345886, 0.024319825693964958, 0.7093282341957092, 0.15402556955814362, 0.004053304437547922, 0.08511938899755478, 0.024319825693964958, 0.3032398819923401, 0.05351291969418526, 0.017837639898061752, 0.07135055959224701, 0.535129189491272, 0.017837639898061752, 0.39850038290023804, 0.1117621585726738, 0.1261749267578125, 0.17573462426662445, 0.05714535713195801, 0.07636237889528275, 0.05436394736170769, 0.038875285536050797, 0.9330068230628967, 0.7173692584037781, 0.07572230696678162, 0.019926922395825386, 0.0019926922395825386, 0.13550308346748352, 0.03387577086687088, 0.01594153791666031, 0.05547823756933212, 0.7890238165855408, 0.006164248567074537, 0.0986279770731926, 0.0493139885365963, 0.0716995969414711, 0.5587623715400696, 0.18790239095687866, 0.10384079068899155, 0.07664439082145691, 0.0024723997339606285, 0.0024723997339606285, 0.9280989766120911, 0.1579882800579071, 0.7899413704872131, 0.014362570829689503, 0.028725141659379005, 0.8866621851921082, 0.0403028279542923, 0.0403028279542923, 0.9502900838851929, 0.0096968375146389, 0.029090512543916702, 0.3491199016571045, 0.5219850540161133, 0.08304308354854584, 0.001694756792858243, 0.042368918657302856, 0.2198108583688736, 0.33618131279945374, 0.40083158016204834, 0.025860100984573364, 0.33114004135131836, 0.04845951870083809, 0.1615317314863205, 0.45228883624076843, 0.9226852655410767, 0.05095508694648743, 0.8917140364646912, 0.05095508694648743, 0.039550039917230606, 0.026366693899035454, 0.41132041811943054, 0.31288477778434753, 0.023730024695396423, 0.1248023509979248, 0.061522286385297775, 0.9375984072685242, 0.1731061041355133, 0.6924244165420532, 0.08655305206775665, 0.15434910356998444, 0.6945709586143494, 0.07717455178499222, 0.11832395195960999, 0.13272316753864288, 0.28234976530075073, 0.2961229085922241, 0.06010105460882187, 0.0575968474149704, 0.05196237191557884, 0.18354392051696777, 0.0535336434841156, 0.7571186423301697, 0.01199227012693882, 0.08394589275121689, 0.8874279856681824, 0.8853875398635864, 0.35847246646881104, 0.27073925733566284, 0.04249577969312668, 0.16587062180042267, 0.0534624345600605, 0.05894576013088226, 0.05003535374999046, 0.603952169418335, 0.2717784643173218, 0.001589347841218114, 0.002384021645411849, 0.05483249947428703, 0.061189889907836914, 0.004768043290823698, 0.982975423336029, 0.9738562703132629, 0.9902123808860779, 0.9233642220497131, 0.9404799342155457, 0.023880600929260254, 0.7462688088417053, 0.21492540836334229, 0.0059701502323150635, 0.9705517888069153, 0.7342714071273804, 0.116297647356987, 0.002280346117913723, 0.004560692235827446, 0.09235401451587677, 0.04674709215760231, 0.003420518944039941, 0.056272801011800766, 0.8229897022247314, 0.11957970261573792, 0.09930169582366943, 0.06951118260622025, 0.007447626907378435, 0.6826991438865662, 0.09185406565666199, 0.01241271197795868, 0.03723813593387604, 0.8751349449157715, 0.04889021813869476, 0.004889022093266249, 0.034223154187202454, 0.034223154187202454, 0.010079000145196915, 0.9877420663833618, 0.808149516582489, 0.01909014582633972, 0.16544793546199799, 0.22724924981594086, 0.5053119659423828, 0.11362462490797043, 0.004940201062709093, 0.052224982529878616, 0.06492835283279419, 0.03175843507051468, 0.933660089969635, 0.8884954452514648, 0.6560617089271545, 0.1303047388792038, 0.016207057982683182, 0.0019448469392955303, 0.08622154593467712, 0.04343491420149803, 0.0661247968673706, 0.9261952042579651, 0.1989406943321228, 0.17683617770671844, 0.04420904442667961, 0.4862994849681854, 0.04420904442667961, 0.06631356477737427, 0.9775210618972778, 0.07173379510641098, 0.052170030772686005, 0.6162585020065308, 0.1662919819355011, 0.006521253846585751, 0.0782550498843193, 0.009781881235539913, 0.9545356035232544, 0.27814581990242004, 0.41337087750434875, 0.08905064314603806, 0.047273796051740646, 0.08355368673801422, 0.07475856691598892, 0.01319268811494112, 0.946130096912384, 0.9254606366157532, 0.988525927066803, 0.14936791360378265, 0.0995786115527153, 0.2655429542064667, 0.44810375571250916, 0.016596434637904167, 0.34514448046684265, 0.14444373548030853, 0.004561380948871374, 0.19918030500411987, 0.08818669617176056, 0.20374168455600739, 0.015204602852463722, 0.9560544490814209, 0.2116793692111969, 0.10814771056175232, 0.270369291305542, 0.2604777216911316, 0.07913247495889664, 0.049457795917987823, 0.021101992577314377, 0.9229483604431152, 0.038456182926893234, 0.06605391949415207, 0.1981617510318756, 0.06605391949415207, 0.6605391502380371, 0.9326170682907104, 0.059213779866695404, 0.9825946092605591, 0.9864852428436279, 0.22782497107982635, 0.10252123326063156, 0.05695624276995659, 0.2676943242549896, 0.05695624276995659, 0.20694100856781006, 0.08163727819919586, 0.012618470005691051, 0.04416464641690254, 0.7192528247833252, 0.05678311735391617, 0.08202005922794342, 0.08202005922794342, 0.17639662325382233, 0.16242462396621704, 0.161551371216774, 0.34493398666381836, 0.08033905923366547, 0.04453578218817711, 0.029690520837903023, 0.9799872040748596, 0.19995158910751343, 0.1679593324661255, 0.19810588657855988, 0.20302776992321014, 0.06152356415987015, 0.14273467659950256, 0.02645513415336609, 0.026585286483168602, 0.026585286483168602, 0.16482877731323242, 0.7178027033805847, 0.026585286483168602, 0.03190234303474426, 0.002658528508618474, 0.06638585031032562, 0.0873498022556305, 0.705786406993866, 0.027951937168836594, 0.03493992239236832, 0.04542189836502075, 0.031445927917957306, 0.30740225315093994, 0.645544707775116, 0.5624913573265076, 0.1871652752161026, 0.027278343215584755, 0.010154711082577705, 0.08621548861265182, 0.09617108851671219, 0.030265022069215775, 0.04922739416360855, 0.04922739416360855, 0.0984547883272171, 0.14768218994140625, 0.6399561166763306, 0.5654903054237366, 0.26020747423171997, 0.00307331676594913, 0.005122194532305002, 0.05224638432264328, 0.10039501637220383, 0.013317706063389778, 0.3056004047393799, 0.3295329809188843, 0.12426522374153137, 0.13439054787158966, 0.0598314069211483, 0.032216910272836685, 0.015648214146494865, 0.23107123374938965, 0.2507968246936798, 0.06833508610725403, 0.24304749071598053, 0.06833508610725403, 0.1211714968085289, 0.016907650977373123, 0.31561464071273804, 0.6312292814254761, 0.7852907180786133, 0.12060778588056564, 0.0017867820570245385, 0.0008933910285122693, 0.06164398044347763, 0.026801731437444687, 0.003573564114049077, 0.02655625343322754, 0.5753855109214783, 0.15491147339344025, 0.05089948698878288, 0.06860365718603134, 0.09515991061925888, 0.028769275173544884, 0.007398788817226887, 0.6288970708847046, 0.1331782042980194, 0.03329455107450485, 0.16647274792194366, 0.029595155268907547, 0.06829408556222916, 0.06829408556222916, 0.8195290565490723, 0.619952380657196, 0.37366992235183716, 0.11141066253185272, 0.36606359481811523, 0.01591580919921398, 0.023873712867498398, 0.06366323679685593, 0.3978952169418335, 0.023873712867498398, 0.30882400274276733, 0.1287890374660492, 0.24847519397735596, 0.18003495037555695, 0.06978882849216461, 0.02663438394665718, 0.037760138511657715, 0.03552844375371933, 0.923739492893219, 0.24370646476745605, 0.14444221556186676, 0.22525349259376526, 0.22811688482761383, 0.05758599191904068, 0.05440444499254227, 0.046768732368946075, 0.45764151215553284, 0.2211538851261139, 0.03382911533117294, 0.12820285558700562, 0.10338430106639862, 0.036516472697257996, 0.01928575709462166, 0.02865050733089447, 0.9454666972160339, 0.23756512999534607, 0.2791216969490051, 0.04386528208851814, 0.1895441859960556, 0.08334403485059738, 0.13898368179798126, 0.0277043879032135, 0.3032457232475281, 0.08490880578756332, 0.01212982926517725, 0.5943616628646851, 0.957772970199585, 0.9784782528877258, 0.9128378629684448, 0.040124740451574326, 0.010031185112893581, 0.03009355627000332, 0.05470586195588112, 0.8752937912940979, 0.04294699802994728, 0.04141317680478096, 0.3313054144382477, 0.43867290019989014, 0.06442049145698547, 0.04601464048027992, 0.03527788817882538, 0.08993712812662125, 0.786949872970581, 0.09743189066648483, 0.014989521354436874, 0.007494760677218437, 0.00260615861043334, 0.05212317034602165, 0.6776012182235718, 0.00521231722086668, 0.049517013132572174, 0.21370500326156616, 0.9367803931236267, 0.08295322209596634, 0.08295322209596634, 0.24885965883731842, 0.580672562122345, 0.23803730309009552, 0.7141119241714478, 0.9648146629333496, 0.0930280089378357, 0.31629523634910583, 0.5023512244224548, 0.07442240417003632, 0.19351476430892944, 0.1423976570367813, 0.009128054603934288, 0.5312528014183044, 0.04381466284394264, 0.056593939661979675, 0.02190733142197132, 0.35235679149627686, 0.5872613191604614, 0.0846022292971611, 0.8460222482681274, 0.040230169892311096, 0.9252938628196716, 0.021418072283267975, 0.01606355421245098, 0.9459648132324219, 0.0017848393181338906, 0.012493874877691269, 0.0017848393181338906, 0.10556041449308395, 0.18843026459217072, 0.396591454744339, 0.17757827043533325, 0.054260026663541794, 0.032556015998125076, 0.04538111016154289, 0.9373869895935059, 0.18358446657657623, 0.7007794380187988, 0.033558450639247894, 0.001974026672542095, 0.051324691623449326, 0.023688318207859993, 0.00394805334508419, 0.04190726950764656, 0.013969089835882187, 0.89402174949646, 0.013969089835882187, 0.013969089835882187, 0.027938179671764374, 0.9423909783363342, 0.919759213924408, 0.2642017900943756, 0.6605045199394226, 0.9667451977729797, 0.16844479739665985, 0.5377275943756104, 0.1727638989686966, 0.058307815343141556, 0.028074132278561592, 0.012957291677594185, 0.021595487371087074, 0.07158959656953812, 0.9127674102783203, 0.23564769327640533, 0.7406070232391357, 0.3620549142360687, 0.6034249067306519, 0.1699494868516922, 0.736447811126709, 0.14133486151695251, 0.722378134727478, 0.06805011630058289, 0.00523462425917387, 0.047111619263887405, 0.02093849703669548, 0.6421166062355042, 0.27519285678863525, 0.9577553272247314, 0.039906471967697144, 0.9124366641044617, 0.973331868648529, 0.1513085514307022, 0.20174473524093628, 0.6556703448295593, 0.9421777725219727, 0.027782509103417397, 0.03770483657717705, 0.07144074141979218, 0.8314908146858215, 0.019844649359583855, 0.005953394807875156, 0.005953394807875156, 0.8654250502586365, 0.9346705675125122, 0.08414217084646225, 0.1425742357969284, 0.18931987881660461, 0.10985227674245834, 0.08647945523262024, 0.007011847570538521, 0.3833143413066864, 0.9672606587409973, 0.17477436363697052, 0.1302126944065094, 0.21354882419109344, 0.3443402349948883, 0.06192336976528168, 0.02604253776371479, 0.049191463738679886, 0.15818989276885986, 0.19469526410102844, 0.036505360156297684, 0.012168454006314278, 0.0669264942407608, 0.012168454006314278, 0.5171592831611633, 0.9839066863059998, 0.028327099978923798, 0.9206307530403137, 0.042490649968385696, 0.06149917095899582, 0.9224875569343567, 0.1871468871831894, 0.050029363483190536, 0.4113525450229645, 0.19270570576190948, 0.03891173005104065, 0.04724995419383049, 0.0722646415233612, 0.968580424785614, 0.02560751885175705, 0.2048601508140564, 0.7426180839538574, 0.32981133460998535, 0.20672765374183655, 0.1514061689376831, 0.11593689024448395, 0.08364396542310715, 0.06405645608901978, 0.04817469045519829, 0.15695971250534058, 0.08008149266242981, 0.5013101100921631, 0.059260301291942596, 0.03043096512556076, 0.07527659833431244, 0.0993010476231575, 0.3597833216190338, 0.35425883531570435, 0.044886596500873566, 0.08010531216859818, 0.10220332443714142, 0.022098015993833542, 0.036599840968847275, 0.15053120255470276, 0.15053120255470276, 0.602124810218811, 0.05017706751823425, 0.00986486952751875, 0.059189215302467346, 0.8681084513664246, 0.039459478110075, 0.0197297390550375, 0.13625480234622955, 0.26658546924591064, 0.36433348059654236, 0.08096300065517426, 0.061215925961732864, 0.04739297553896904, 0.04344356060028076, 0.14628340303897858, 0.07314170151948929, 0.5851336121559143, 0.14628340303897858, 0.21375855803489685, 0.1353471279144287, 0.17929747700691223, 0.3071530759334564, 0.07691312581300735, 0.034960512071847916, 0.052440766245126724, 0.19623950123786926, 0.3405068814754486, 0.15770845115184784, 0.11290492117404938, 0.08871100842952728, 0.05914067104458809, 0.04569961130619049, 0.3051730990409851, 0.32885417342185974, 0.04110677167773247, 0.13851195573806763, 0.06344740837812424, 0.0732772946357727, 0.04914940148591995, 0.6723131537437439, 0.1410713791847229, 0.013980046845972538, 0.0012709134025499225, 0.05337836220860481, 0.05846201628446579, 0.05973292887210846, 0.9628970623016357, 0.9706698060035706, 0.9398128390312195, 0.10826841741800308, 0.009666822850704193, 0.6786109805107117, 0.16626934707164764, 0.017400281503796577, 0.0019333645468577743, 0.017400281503796577, 0.1842682659626007, 0.09213413298130035, 0.7370730638504028, 0.9693685173988342, 0.9565261006355286, 0.00601588748395443, 0.03609532490372658, 0.8797847628593445, 0.09101221710443497, 0.044311974197626114, 0.9305514693260193, 0.709026038646698, 0.1343417763710022, 0.010662045329809189, 0.0010662046261131763, 0.07036950439214706, 0.060773659497499466, 0.012794454582035542, 0.6376573443412781, 0.08343180269002914, 0.0014898536028340459, 0.0014898536028340459, 0.04171590134501457, 0.217518612742424, 0.016388388350605965, 0.5435435175895691, 0.3144403100013733, 0.003844013437628746, 0.003844013437628746, 0.07688026875257492, 0.03844013437628746, 0.01998887024819851, 0.8245204091072083, 0.004041766747832298, 0.016167066991329193, 0.15762890875339508, 0.0411854162812233, 0.9266718626022339, 0.02059270814061165, 0.16413427889347076, 0.21884571015834808, 0.05471142753958702, 0.5197585225105286, 0.9535566568374634, 0.008374632336199284, 0.820713996887207, 0.008374632336199284, 0.15911801159381866, 0.2064024806022644, 0.05091867595911026, 0.4282624125480652, 0.15366528928279877, 0.05182793736457825, 0.0063648344948887825, 0.10274661332368851, 0.0714600682258606, 0.04962504655122757, 0.4962504804134369, 0.2401852309703827, 0.07344506680965424, 0.027790026739239693, 0.041685041040182114, 0.9801933169364929, 0.07203136384487152, 0.08103527873754501, 0.3061332702636719, 0.02701175957918167, 0.477207750082016, 0.03601568192243576, 0.9683482646942139, 0.019010938704013824, 0.7452288269996643, 0.034219689667224884, 0.019010938704013824, 0.17490063607692719, 0.003802187740802765, 0.9783762097358704, 0.005414232145994902, 0.8906412124633789, 0.002707116072997451, 0.1001632958650589, 0.9342483878135681, 0.0896042063832283, 0.0924946591258049, 0.25652816891670227, 0.4024963080883026, 0.06792576611042023, 0.07226145267486572, 0.01878797821700573, 0.09697601199150085, 0.2588838040828705, 0.08095388859510422, 0.4258511960506439, 0.05228272080421448, 0.056499071419239044, 0.02867116965353489, 0.24653445184230804, 0.30639931559562683, 0.13986611366271973, 0.13714498281478882, 0.0653071403503418, 0.09034153819084167, 0.014694105833768845, 0.2873329222202301, 0.6704434752464294, 0.09719063341617584, 0.8261203765869141, 0.04859531670808792, 0.7927017211914062, 0.020325684919953346, 0.1858348250389099, 0.0029036691412329674, 0.9017863869667053, 0.0985225960612297, 0.886703372001648, 0.2988145053386688, 0.059762902557849884, 0.5976290106773376, 0.6238049268722534, 0.11054403334856033, 0.09168481826782227, 0.004642269108444452, 0.06034949794411659, 0.02988460846245289, 0.07920871675014496, 0.030044138431549072, 0.7285703420639038, 0.015022069215774536, 0.007511034607887268, 0.11266551911830902, 0.10515448451042175, 0.16699440777301788, 0.008349720388650894, 0.025049161165952682, 0.24214188754558563, 0.18369385600090027, 0.37573742866516113, 0.0901760458946228, 0.0901760458946228, 0.03607041761279106, 0.03607041761279106, 0.7214083671569824, 0.11224168539047241, 0.10533450543880463, 0.07597898691892624, 0.5232189297676086, 0.06389141827821732, 0.07597898691892624, 0.04316987842321396, 0.9355747699737549, 0.9375931620597839, 0.018581518903374672, 0.006193839479237795, 0.04955071583390236, 0.7804237604141235, 0.006193839479237795, 0.13626447319984436, 0.1642007976770401, 0.7306935787200928, 0.004105019848793745, 0.004105019848793745, 0.08210039883852005, 0.004105019848793745, 0.012315060012042522, 0.07062973082065582, 0.03531486541032791, 0.07062973082065582, 0.08828716725111008, 0.7416121959686279, 0.15429095923900604, 0.08108722418546677, 0.48201850056648254, 0.1171259880065918, 0.06644647568464279, 0.05180572718381882, 0.04617466777563095, 0.9734768867492676, 0.8201364874839783, 0.1739683449268341, 0.15855026245117188, 0.17253997921943665, 0.38771533966064453, 0.14655905961990356, 0.05595891550183296, 0.030644167214632034, 0.0472986064851284, 0.9116460084915161, 0.011613324284553528, 0.06967994570732117, 0.005806662142276764, 0.028821595013141632, 0.951112687587738, 0.3173080086708069, 0.022664858028292656, 0.6346160173416138, 0.9794366955757141, 0.9304221272468567, 0.0401996411383152, 0.0100499102845788, 0.9245917797088623, 0.0100499102845788, 0.0100499102845788, 0.9546183943748474, 0.00789107009768486, 0.0052607133984565735, 0.5523748993873596, 0.3708803057670593, 0.0052607133984565735, 0.0026303566992282867, 0.05523749068379402, 0.04321401193737984, 0.9074942469596863, 0.964106559753418, 0.9251397252082825, 0.03426443412899971, 0.13623905181884766, 0.13623905181884766, 0.6811951994895935, 0.1338752806186676, 0.05434541031718254, 0.009278484620153904, 0.005301991477608681, 0.03976493328809738, 0.02518445812165737, 0.7330002784729004, 0.2943524718284607, 0.2803085744380951, 0.06870122253894806, 0.12278920412063599, 0.08141664415597916, 0.10115401446819305, 0.05143102630972862, 0.9045037627220154, 0.289627343416214, 0.6620053648948669, 0.04492802545428276, 0.33696019649505615, 0.01123200636357069, 0.6065283417701721, 0.9384667873382568, 0.009767266921699047, 0.8855655789375305, 0.08139389753341675, 0.019534533843398094, 0.07888416945934296, 0.11832625418901443, 0.05916312709450722, 0.709957480430603, 0.01972104236483574, 0.9374449253082275, 0.015799634158611298, 0.031599268317222595, 0.007899817079305649, 0.005266544409096241, 0.781064510345459, 0.1356014758348465, 0.0027120294980704784, 0.06508871167898178, 0.005424058996140957, 0.008136088959872723, 0.058993902057409286, 0.2713719308376312, 0.011798780411481857, 0.03539634123444557, 0.07079268246889114, 0.011798780411481857, 0.5427438616752625, 0.10539105534553528, 0.21078211069107056, 0.6323463320732117, 0.08522601425647736, 0.25567805767059326, 0.6818081140518188, 0.2929169833660126, 0.369901567697525, 0.08637295663356781, 0.06571855396032333, 0.09576132148504257, 0.06947389990091324, 0.019715566188097, 0.9608190655708313, 0.21947617828845978, 0.2646288275718689, 0.06572854518890381, 0.1994718462228775, 0.10230790823698044, 0.11945448815822601, 0.02914918027818203, 0.004129885230213404, 0.1693253070116043, 0.037168968468904495, 0.3923391103744507, 0.024779312312602997, 0.3675597906112671, 0.004129885230213404, 0.01898803375661373, 0.0054251523688435555, 0.00813772901892662, 0.9249885082244873, 0.01898803375661373, 0.01898803375661373, 0.010850304737687111, 0.9717851281166077, 0.9669905304908752, 0.9623973965644836, 0.6060383915901184, 0.0288589708507061, 0.3636230528354645, 0.22414828836917877, 0.14454422891139984, 0.039802033454179764, 0.44271034002304077, 0.05935391038656235, 0.060052189975976944, 0.030026094987988472, 0.9199814200401306, 0.8252924084663391, 0.08151035755872726, 0.050943974405527115, 0.04075517877936363, 0.01089484989643097, 0.8606931567192078, 0.06536909937858582, 0.02178969979286194, 0.03268454968929291, 0.013694285415112972, 0.013694285415112972, 0.9038227796554565, 0.013694285415112972, 0.04108285531401634, 0.16040006279945374, 0.7240917086601257, 0.10998861491680145, 0.09852506220340729, 0.012315632775425911, 0.8374630212783813, 0.036946896463632584, 0.9570177793502808, 0.5560361742973328, 0.17953519523143768, 0.06507425010204315, 0.005810200702399015, 0.1243382915854454, 0.05287282541394234, 0.015687542036175728, 0.9554363489151001, 0.006787164602428675, 0.04751015082001686, 0.033935822546482086, 0.8416084051132202, 0.0271486584097147, 0.04072298854589462, 0.8794084787368774, 0.028066229075193405, 0.0888763889670372, 0.8978101015090942, 0.06663434207439423, 0.0017535353545099497, 0.014028282836079597, 0.007014141418039799, 0.010521212592720985, 0.2792341709136963, 0.5584683418273926, 0.9033591747283936, 0.08686146140098572, 0.2714482843875885, 0.6478121280670166, 0.018318595364689827, 0.004995980300009251, 0.049959804862737656, 0.001665326883085072, 0.004995980300009251, 0.031771786510944366, 0.01627335324883461, 0.9074332118034363, 0.01627335324883461, 0.02712225541472435, 0.0007749216165393591, 0.9606282114982605, 0.0054482449777424335, 0.010896489955484867, 0.694651186466217, 0.16889558732509613, 0.0027241224888712168, 0.016344735398888588, 0.09806840866804123, 0.8800522685050964, 0.9753451347351074, 0.6646260619163513, 0.23077292740345, 0.0013187024742364883, 0.0013187024742364883, 0.07516603916883469, 0.011868322268128395, 0.014505727216601372, 0.8763242959976196, 0.11967424303293228, 0.9441279768943787, 0.021457454189658165, 0.0300404354929924, 0.02008468098938465, 0.9540224075317383, 0.010042340494692326, 0.8581334352493286, 0.07011577486991882, 0.004186016507446766, 0.0010465041268616915, 0.04499967768788338, 0.005232520867139101, 0.017790570855140686, 0.9163210988044739, 0.02656003087759018, 0.01328001543879509, 0.02656003087759018, 0.12893196940422058, 0.04276768118143082, 0.44843170046806335, 0.2069201022386551, 0.058491092175245285, 0.013836602680385113, 0.1012587696313858, 0.9614099860191345, 0.9595358967781067, 0.3179425299167633, 0.2836546301841736, 0.15585418045520782, 0.017143961042165756, 0.2088446170091629, 0.007792709395289421, 0.009351251646876335, 0.05919898673892021, 0.822865903377533, 0.0532790869474411, 0.029599493369460106, 0.03551939129829407, 0.887607991695404, 0.01613832637667656, 0.0806916356086731, 0.21202637255191803, 0.5084879994392395, 0.01313437707722187, 0.03752679005265236, 0.03377411141991615, 0.1857576221227646, 0.011258037760853767, 0.6543257236480713, 0.1277545988559723, 0.02555091865360737, 0.005554547533392906, 0.12886549532413483, 0.0533236563205719, 0.004443638026714325, 0.2846469283103943, 0.09375069290399551, 0.15746982395648956, 0.21831636130809784, 0.07782090455293655, 0.1519857943058014, 0.01619092747569084, 0.06268914043903351, 0.9246648550033569, 0.8767467737197876, 0.9595730304718018, 0.023989325389266014, 0.007153749465942383, 0.18778592348098755, 0.18063217401504517, 0.2861499786376953, 0.02503812313079834, 0.2485927939414978, 0.06617218255996704, 0.017618106678128242, 0.9513777494430542, 0.017618106678128242, 0.008809053339064121, 0.9866495728492737, 0.7904778122901917, 0.13637636601924896, 0.06818818300962448, 0.0025254881475120783, 0.06378645449876785, 0.8930103778839111, 0.009768933989107609, 0.019537867978215218, 0.9280487895011902, 0.039075735956430435, 0.3327956795692444, 0.4272221326828003, 0.09788107872009277, 0.031091637909412384, 0.08982028812170029, 0.00460616871714592, 0.01612159051001072, 0.13646727800369263, 0.09097818285226822, 0.04548909142613411, 0.7126624584197998, 0.8748289942741394, 0.11288116127252579, 0.8998717069625854, 0.9431638121604919, 0.8887267708778381, 0.06335478276014328, 0.040476664900779724, 0.005279564764350653, 0.09352817386388779, 0.8511064052581787, 0.05611690506339073, 0.024005286395549774, 0.7041550874710083, 0.14003083109855652, 0.04801057279109955, 0.07601673901081085, 0.0040008812211453915, 0.8790209293365479, 0.0435158871114254, 0.06962541490793228, 0.906218945980072, 0.07901046425104141, 0.8691151142120361, 0.11555816233158112, 0.22799313068389893, 0.19301337003707886, 0.24298445880413055, 0.056217484176158905, 0.10369002819061279, 0.060589954257011414, 0.35411566495895386, 0.07364799082279205, 0.17857114970684052, 0.10794979333877563, 0.0918077677488327, 0.09382551908493042, 0.09886990487575531, 0.04211309179663658, 0.04211309179663658, 0.2105654627084732, 0.547470211982727, 0.12633927166461945, 0.03843294829130173, 0.061208028346300125, 0.7900106310844421, 0.045550160109996796, 0.03558606281876564, 0.022775080054998398, 0.007117212750017643, 0.3783959150314331, 0.032903991639614105, 0.016451995819807053, 0.032903991639614105, 0.5429158806800842, 0.9395562410354614, 0.007045745849609375, 0.13974063098430634, 0.3734245300292969, 0.03640301898121834, 0.010568618774414062, 0.38047027587890625, 0.05284309387207031, 0.9667977094650269, 0.9508082866668701, 0.03436656296253204, 0.011455520987510681, 0.19941365718841553, 0.03323560953140259, 0.7311834096908569, 0.94305819272995, 0.9296035766601562, 0.21674826741218567, 0.7694563865661621, 0.010837413370609283, 0.0018062356393784285, 0.46984583139419556, 0.26016965508461, 0.10868929326534271, 0.00941403303295374, 0.11382421851158142, 0.023962993174791336, 0.014548960141837597, 0.9668572545051575, 0.0018038380658254027, 0.0018038380658254027, 0.0018038380658254027, 0.01803838089108467, 0.009019190445542336, 0.9846491813659668, 0.22070717811584473, 0.053524792194366455, 0.27687516808509827, 0.3442767560482025, 0.04625599458813667, 0.007268799003213644, 0.0502207949757576, 0.934349775314331, 0.12095707654953003, 0.7722644209861755, 0.009304390288889408, 0.009304390288889408, 0.0558263435959816, 0.0279131717979908, 0.6583479046821594, 0.19327645003795624, 0.010354096069931984, 0.002588524017482996, 0.059536051005125046, 0.034513652324676514, 0.041416384279727936, 0.9420911073684692, 0.18695594370365143, 0.4783872663974762, 0.024744169786572456, 0.0054987045004963875, 0.024744169786572456, 0.21719881892204285, 0.0632350966334343, 0.9784075617790222, 0.02702021226286888, 0.020265160128474236, 0.06079547852277756, 0.8578917384147644, 0.02702021226286888, 0.010053233243525028, 0.9450039863586426, 0.04021293297410011, 0.9806379079818726, 0.011958998627960682, 0.1053575798869133, 0.05585221201181412, 0.41381412744522095, 0.30591779947280884, 0.039350420236587524, 0.025387369096279144, 0.05458284169435501, 0.9599355459213257, 0.07683337479829788, 0.06658892333507538, 0.07171115279197693, 0.5480780601501465, 0.04268520697951317, 0.1109815388917923, 0.08195559680461884, 0.4441203474998474, 0.01531449519097805, 0.5360073447227478, 0.9762033224105835, 0.32771095633506775, 0.15938982367515564, 0.1525195688009262, 0.1319088190793991, 0.12641261518001556, 0.047404732555150986, 0.05427498370409012, 0.9291829466819763, 0.05068270489573479, 0.9192730188369751, 0.9649900197982788, 0.2609214186668396, 0.12314941734075546, 0.21362654864788055, 0.22939150035381317, 0.06877175718545914, 0.06877175718545914, 0.03564250469207764, 0.9795771837234497, 0.834003746509552, 0.15682122111320496, 0.9748404622077942, 0.011077732779085636, 0.011077732779085636, 0.9563624858856201, 0.9665899872779846, 0.947300136089325, 0.8617932796478271, 0.1077241599559784, 0.4294842481613159, 0.23825965821743011, 0.09831102192401886, 0.09792549163103104, 0.06129981577396393, 0.03315587341785431, 0.04202314466238022, 0.9514862298965454, 0.14259736239910126, 0.7808902859687805, 0.06790350377559662, 0.2596350610256195, 0.10385403037071228, 0.5711971521377563, 0.903337836265564, 0.9637210369110107, 0.06093616411089897, 0.9140424132347107, 0.9688990116119385, 0.956251323223114, 0.0273214653134346, 0.018817011266946793, 0.7997229695320129, 0.009408505633473396, 0.1599445939064026, 0.885807454586029, 0.07158040255308151, 0.008947550319135189, 0.008947550319135189, 0.035790201276540756, 0.1983192265033722, 0.6941173076629639, 0.07082829624414444, 0.028331318870186806, 0.23857231438159943, 0.20543727278709412, 0.11265914887189865, 0.1866607517004013, 0.09277812391519547, 0.11597265303134918, 0.04859806224703789, 0.16061890125274658, 0.7495548725128174, 0.9708458185195923, 0.2287851870059967, 0.5719630122184753, 0.1525234580039978, 0.2761409878730774, 0.10580560564994812, 0.34067079424858093, 0.09127186983823776, 0.07615678012371063, 0.027323424816131592, 0.08255162090063095, 0.22254136204719543, 0.10798189043998718, 0.25816988945007324, 0.19020159542560577, 0.07893092185258865, 0.08715289831161499, 0.054813142865896225, 0.9792299866676331, 0.24812990427017212, 0.1735174059867859, 0.1847960501909256, 0.13447599112987518, 0.1327408254146576, 0.07548007369041443, 0.049452461302280426, 0.008226551115512848, 0.03290620446205139, 0.1892106682062149, 0.18098412454128265, 0.008226551115512848, 0.5429523587226868, 0.024679653346538544, 0.3509754240512848, 0.14318935573101044, 0.1065845638513565, 0.09797167032957077, 0.14534258842468262, 0.11304423213005066, 0.04414108023047447, 0.9133812189102173, 0.041121602058410645, 0.32897281646728516, 0.041121602058410645, 0.6168240308761597, 0.961438000202179, 0.21828804910182953, 0.6326311230659485, 0.004042371176183224, 0.006063557229936123, 0.11924995481967926, 0.018190670758485794, 0.002021185588091612, 0.9517720937728882, 0.06263253837823868, 0.09889348596334457, 0.1918533593416214, 0.5056753754615784, 0.08504839986562729, 0.015822958201169968, 0.03955739364027977, 0.05342048406600952, 0.09071402996778488, 0.1269996464252472, 0.5069906115531921, 0.043341148644685745, 0.08970609307289124, 0.08869816362857819, 0.08379847556352615, 0.8938503861427307, 0.9521454572677612, 0.9906060695648193], \"Term\": [\"\\n\", \"\\n\", \"\\n\", \"\\n\", \"\\n\", \"\\n\", \"\\n\", \"\\n\\n\", \"\\n\\n\", \"\\n\\n\", \"\\n\\n\", \"\\n\\n\", \"\\n\\n\", \"\\n\\n\", \" \", \" \", \" \", \" \", \" \", \" \", \" \", \" \\n\", \" \\n\", \" \\n\", \" \\n\", \" \\n\", \" \\n\", \" \\n\\n\", \" \\n\\n\", \" \\n\\n\", \" \\n\\n\", \" \\n\\n\", \" \\n\\n\", \" \\n\\n\", \"  \", \"  \", \"  \", \"  \", \"  \", \"  \", \"  \\n\\n\", \"  \\n\\n\", \"  \\n\\n\", \"  \\n\\n\", \"  \\n\\n\", \"   \", \"   \", \"   \", \"   \\n\\n\", \"$\", \"$\", \"$\", \"$\", \"$\", \"$\", \"$\", \"2\", \"2\", \"2\", \"2\", \"2\", \"2\", \"2\", \"2018\", \"2018\", \"2018\", \"5\", \"5\", \"5\", \"5\", \"5\", \"5\", \"5\", \"airline\", \"alas\", \"alas\", \"almond\", \"almond\", \"almond\", \"almond\", \"almond\", \"amanda\", \"amazing\", \"amazing\", \"amazing\", \"amazing\", \"amazing\", \"amazing\", \"amazing\", \"appointment\", \"appointment\", \"appointment\", \"appointment\", \"appointment\", \"appointment\", \"area\", \"area\", \"area\", \"area\", \"area\", \"area\", \"area\", \"arm\", \"arm\", \"asada\", \"asada\", \"asada\", \"ask\", \"ask\", \"ask\", \"ask\", \"ask\", \"ask\", \"ask\", \"attorney\", \"attorney\", \"au\", \"availability\", \"avec\", \"ayce\", \"ayce\", \"bad\", \"bad\", \"bad\", \"bad\", \"bad\", \"bad\", \"bad\", \"bagel\", \"bagel\", \"bagel\", \"bagel\", \"bar\", \"bar\", \"bar\", \"bar\", \"bar\", \"bar\", \"bar\", \"barber\", \"barber\", \"barber\", \"barbershop\", \"bathroom\", \"bathroom\", \"bathroom\", \"bathroom\", \"bathroom\", \"bathroom\", \"bbq\", \"bbq\", \"bbq\", \"bbq\", \"bean\", \"bean\", \"bean\", \"bed\", \"bed\", \"bed\", \"bed\", \"beef\", \"beef\", \"beef\", \"beef\", \"beef\", \"beer\", \"beer\", \"beer\", \"beer\", \"beer\", \"beer\", \"benny\", \"bike\", \"bike\", \"bike\", \"bike\", \"bit\", \"bit\", \"bit\", \"bit\", \"bit\", \"bit\", \"bit\", \"bitterness\", \"bob\", \"bob\", \"bob\", \"boba\", \"boba\", \"bon\", \"booze\", \"boutique\", \"boutique\", \"bread\", \"bread\", \"bread\", \"bread\", \"bread\", \"bread\", \"breading\", \"breading\", \"breading\", \"breakfast\", \"breakfast\", \"breakfast\", \"breakfast\", \"breakfast\", \"breakfast\", \"breakfast\", \"brew\", \"brew\", \"brew\", \"brew\", \"bride\", \"brisket\", \"brisket\", \"brisket\", \"brow\", \"brulee\", \"bubble\", \"bubble\", \"bubble\", \"bubble\", \"bubble\", \"burger\", \"burger\", \"burger\", \"burger\", \"burger\", \"burger\", \"burger\", \"burrito\", \"burrito\", \"burrito\", \"burrito\", \"burst\", \"bus\", \"bus\", \"bus\", \"bus\", \"call\", \"call\", \"call\", \"call\", \"call\", \"call\", \"call\", \"calzone\", \"cancel\", \"cancel\", \"cancel\", \"cancel\", \"cancel\", \"cancel\", \"captain\", \"car\", \"car\", \"car\", \"car\", \"car\", \"car\", \"carb\", \"carb\", \"care\", \"care\", \"care\", \"care\", \"care\", \"care\", \"care\", \"carne\", \"carne\", \"carne\", \"carnita\", \"carry\", \"carry\", \"carry\", \"carry\", \"carry\", \"carry\", \"casino\", \"casino\", \"casino\", \"casino\", \"cast\", \"cat\", \"cat\", \"catering\", \"catering\", \"ce\", \"celebration\", \"celebration\", \"chai\", \"channel\", \"check\", \"check\", \"check\", \"check\", \"check\", \"check\", \"check\", \"checkout\", \"checkout\", \"cheddar\", \"cheddar\", \"cheddar\", \"cheddar\", \"cheese\", \"cheese\", \"cheese\", \"cheese\", \"cheese\", \"cheese\", \"cheese\", \"chicago\", \"chicago\", \"chicago\", \"chicago\", \"chicken\", \"chicken\", \"chicken\", \"chicken\", \"chicken\", \"chicken\", \"chicken\", \"chili\", \"chili\", \"chip\", \"chip\", \"chip\", \"chip\", \"chip\", \"chip\", \"chip\", \"churro\", \"cigarette\", \"cirque\", \"cirque\", \"class\", \"class\", \"class\", \"class\", \"class\", \"class\", \"cleveland\", \"cleveland\", \"cleveland\", \"cleveland\", \"cleveland\", \"cleveland\", \"come\", \"come\", \"come\", \"come\", \"come\", \"come\", \"come\", \"construction\", \"construction\", \"cook\", \"cook\", \"cook\", \"cook\", \"cook\", \"cook\", \"cook\", \"cookie\", \"cookie\", \"cookie\", \"cookie\", \"cookie\", \"cool\", \"cool\", \"cool\", \"cool\", \"cool\", \"cool\", \"cool\", \"cornbread\", \"cozy\", \"cozy\", \"cozy\", \"cozy\", \"cracker\", \"cracker\", \"cracker\", \"crave\", \"crave\", \"crave\", \"cream\", \"cream\", \"cream\", \"cream\", \"cream\", \"crepe\", \"crepe\", \"crepe\", \"crepe\", \"crust\", \"crust\", \"crust\", \"crust\", \"curly\", \"custard\", \"custard\", \"custard\", \"customer\", \"customer\", \"customer\", \"customer\", \"customer\", \"customer\", \"customer\", \"daddy\", \"dancer\", \"dancer\", \"dancer\", \"dare\", \"dare\", \"dare\", \"day\", \"day\", \"day\", \"day\", \"day\", \"day\", \"day\", \"de\", \"de\", \"de\", \"dealership\", \"dealership\", \"dealership\", \"dear\", \"definitely\", \"definitely\", \"definitely\", \"definitely\", \"definitely\", \"definitely\", \"definitely\", \"delicious\", \"delicious\", \"delicious\", \"delicious\", \"delicious\", \"delicious\", \"delicious\", \"dental\", \"dente\", \"dentist\", \"deny\", \"des\", \"desk\", \"desk\", \"desk\", \"desk\", \"diagnose\", \"dish\", \"dish\", \"dish\", \"dish\", \"dish\", \"dish\", \"dish\", \"doctor\", \"doctor\", \"doctor\", \"dog\", \"dog\", \"dog\", \"dog\", \"dog\", \"dog\", \"dog\", \"donut\", \"donut\", \"donut\", \"donut\", \"donut\", \"dr\", \"dr\", \"dr.\", \"dr.\", \"dr.\", \"drink\", \"drink\", \"drink\", \"drink\", \"drink\", \"drink\", \"drink\", \"drinks\", \"dutch\", \"eat\", \"eat\", \"eat\", \"eat\", \"eat\", \"eat\", \"eat\", \"eddie\", \"edge\", \"edge\", \"edge\", \"edge\", \"edge\", \"edge\", \"elevator\", \"employee\", \"employee\", \"employee\", \"employee\", \"employee\", \"employee\", \"employee\", \"en\", \"enjoy\", \"enjoy\", \"enjoy\", \"enjoy\", \"enjoy\", \"enjoy\", \"enjoy\", \"escort\", \"est\", \"et\", \"example\", \"example\", \"example\", \"example\", \"example\", \"excellent\", \"excellent\", \"excellent\", \"excellent\", \"excellent\", \"excellent\", \"excellent\", \"exhibit\", \"experience\", \"experience\", \"experience\", \"experience\", \"experience\", \"experience\", \"experience\", \"expertise\", \"expertise\", \"extraordinary\", \"extraordinary\", \"extraordinary\", \"extraordinary\", \"eyebrow\", \"eyebrow\", \"facial\", \"fajita\", \"family\", \"family\", \"family\", \"family\", \"family\", \"family\", \"family\", \"fee\", \"fee\", \"fee\", \"fee\", \"fee\", \"fee\", \"feel\", \"feel\", \"feel\", \"feel\", \"feel\", \"feel\", \"feel\", \"feta\", \"find\", \"find\", \"find\", \"find\", \"find\", \"find\", \"find\", \"fix\", \"fix\", \"fix\", \"fix\", \"fix\", \"fix\", \"fix\", \"floor\", \"floor\", \"floor\", \"floor\", \"floor\", \"floor\", \"floor\", \"flower\", \"flower\", \"food\", \"food\", \"food\", \"food\", \"food\", \"food\", \"food\", \"frank\", \"frank\", \"frank\", \"frank\", \"frank\", \"fresh\", \"fresh\", \"fresh\", \"fresh\", \"fresh\", \"fresh\", \"fresh\", \"friend\", \"friend\", \"friend\", \"friend\", \"friend\", \"friend\", \"friend\", \"friendly\", \"friendly\", \"friendly\", \"friendly\", \"friendly\", \"friendly\", \"friendly\", \"frosting\", \"frosting\", \"fry\", \"fry\", \"fry\", \"fry\", \"fry\", \"fry\", \"fry\", \"fun\", \"fun\", \"fun\", \"fun\", \"fun\", \"fun\", \"fun\", \"game\", \"game\", \"game\", \"game\", \"game\", \"game\", \"gap\", \"gap\", \"gap\", \"gel\", \"gel\", \"gem\", \"gem\", \"gem\", \"gem\", \"gem\", \"gem\", \"gem\", \"get\", \"get\", \"get\", \"get\", \"get\", \"get\", \"get\", \"gnocchi\", \"gnocchi\", \"go\", \"go\", \"go\", \"go\", \"go\", \"go\", \"go\", \"good\", \"good\", \"good\", \"good\", \"good\", \"good\", \"good\", \"grateful\", \"grateful\", \"great\", \"great\", \"great\", \"great\", \"great\", \"great\", \"great\", \"grocery\", \"grocery\", \"grocery\", \"grocery\", \"groom\", \"guac\", \"guacamole\", \"guacamole\", \"guacamole\", \"guacamole\", \"gun\", \"gun\", \"guy\", \"guy\", \"guy\", \"guy\", \"guy\", \"guy\", \"guy\", \"gym\", \"gym\", \"gym\", \"gym\", \"gym\", \"hair\", \"hair\", \"hair\", \"hair\", \"hair\", \"hair\", \"hangout\", \"haunt\", \"haunt\", \"haunt\", \"haunt\", \"hesitation\", \"hesitation\", \"hibachi\", \"hidden\", \"hidden\", \"hidden\", \"hidden\", \"highly\", \"highly\", \"highly\", \"highly\", \"highly\", \"highly\", \"highly\", \"hoagie\", \"hoagie\", \"hockey\", \"hockey\", \"hollywood\", \"hollywood\", \"hotel\", \"hotel\", \"hotel\", \"hotel\", \"hotel\", \"hotel\", \"hour\", \"hour\", \"hour\", \"hour\", \"hour\", \"hour\", \"hour\", \"housekeeping\", \"ice\", \"ice\", \"ice\", \"ice\", \"ice\", \"ice\", \"ice\", \"ignore\", \"ignore\", \"ignore\", \"ignore\", \"ignore\", \"ignore\", \"ikea\", \"il\", \"imo\", \"imo\", \"indulge\", \"inside\", \"inside\", \"inside\", \"inside\", \"inside\", \"inside\", \"inside\", \"instal\", \"instal\", \"installation\", \"installation\", \"installer\", \"installer\", \"instantly\", \"instantly\", \"interesting\", \"interesting\", \"interesting\", \"interesting\", \"interesting\", \"interesting\", \"inventory\", \"inventory\", \"iphone\", \"iphone\", \"j'ai\", \"jacuzzi\", \"japan\", \"japan\", \"japan\", \"je\", \"job\", \"job\", \"job\", \"job\", \"job\", \"job\", \"job\", \"jungle\", \"kabobs\", \"kid\", \"kid\", \"kid\", \"kid\", \"kid\", \"kid\", \"kid\", \"kimchi\", \"know\", \"know\", \"know\", \"know\", \"know\", \"know\", \"know\", \"la\", \"la\", \"la\", \"la\", \"la\", \"la\", \"la\", \"lash\", \"latte\", \"latte\", \"latte\", \"le\", \"le\", \"leave\", \"leave\", \"leave\", \"leave\", \"leave\", \"leave\", \"leave\", \"les\", \"library\", \"library\", \"library\", \"like\", \"like\", \"like\", \"like\", \"like\", \"like\", \"like\", \"line\", \"line\", \"line\", \"line\", \"line\", \"line\", \"line\", \"little\", \"little\", \"little\", \"little\", \"little\", \"little\", \"little\", \"loaf\", \"loaf\", \"loaf\", \"loaf\", \"lobby\", \"lobby\", \"lobby\", \"lobby\", \"lobby\", \"location\", \"location\", \"location\", \"location\", \"location\", \"location\", \"location\", \"log\", \"log\", \"log\", \"log\", \"look\", \"look\", \"look\", \"look\", \"look\", \"look\", \"look\", \"lot\", \"lot\", \"lot\", \"lot\", \"lot\", \"lot\", \"lot\", \"love\", \"love\", \"love\", \"love\", \"love\", \"love\", \"love\", \"lunch\", \"lunch\", \"lunch\", \"lunch\", \"lunch\", \"lunch\", \"lunch\", \"maid\", \"mais\", \"maker\", \"manager\", \"manager\", \"manager\", \"manager\", \"manager\", \"manager\", \"manager\", \"manhattan\", \"manhattan\", \"manhattan\", \"mani\", \"massage\", \"massage\", \"massage\", \"matcha\", \"matcha\", \"mcdonalds\", \"mcdonalds\", \"meal\", \"meal\", \"meal\", \"meal\", \"meal\", \"meal\", \"meal\", \"meat\", \"meat\", \"meat\", \"meat\", \"meat\", \"meat\", \"meat\", \"menu\", \"menu\", \"menu\", \"menu\", \"menu\", \"menu\", \"menu\", \"mexican\", \"mexican\", \"mexican\", \"mexican\", \"mgm\", \"mgm\", \"mgm\", \"michael\", \"michael\", \"michael\", \"michael\", \"mike\", \"milk\", \"milk\", \"milk\", \"milk\", \"minute\", \"minute\", \"minute\", \"minute\", \"minute\", \"minute\", \"minute\", \"money\", \"money\", \"money\", \"money\", \"money\", \"money\", \"money\", \"motel\", \"movie\", \"movie\", \"movie\", \"movie\", \"movie\", \"movie\", \"msg\", \"music\", \"music\", \"music\", \"music\", \"music\", \"music\", \"naan\", \"nail\", \"nail\", \"nail\", \"nail\", \"ne\", \"need\", \"need\", \"need\", \"need\", \"need\", \"need\", \"need\", \"new\", \"new\", \"new\", \"new\", \"new\", \"new\", \"new\", \"nice\", \"nice\", \"nice\", \"nice\", \"nice\", \"nice\", \"nice\", \"nick\", \"nick\", \"nom\", \"nom\", \"nom\", \"noodle\", \"noodle\", \"noodle\", \"noodle\", \"nous\", \"nowadays\", \"nowadays\", \"occasionally\", \"occasionally\", \"occasionally\", \"order\", \"order\", \"order\", \"order\", \"order\", \"order\", \"order\", \"outdoor\", \"outdoor\", \"outdoor\", \"outdoor\", \"outdoor\", \"outdoor\", \"outstanding\", \"outstanding\", \"outstanding\", \"outstanding\", \"outstanding\", \"outstanding\", \"oven\", \"oven\", \"oven\", \"oven\", \"oven\", \"owner\", \"owner\", \"owner\", \"owner\", \"owner\", \"owner\", \"owner\", \"pas\", \"pastor\", \"patient\", \"patient\", \"patient\", \"patient\", \"patient\", \"patient\", \"patio\", \"patio\", \"patio\", \"patio\", \"patio\", \"patio\", \"patio\", \"paul\", \"paul\", \"paul\", \"paul\", \"paul\", \"pay\", \"pay\", \"pay\", \"pay\", \"pay\", \"pay\", \"pay\", \"pedi\", \"pedicure\", \"pedicure\", \"people\", \"people\", \"people\", \"people\", \"people\", \"people\", \"people\", \"pepper\", \"pepper\", \"pepper\", \"pepper\", \"pepperoni\", \"pepperoni\", \"performance\", \"performance\", \"performance\", \"pest\", \"pesto\", \"pet\", \"pet\", \"pet\", \"pet\", \"pet\", \"pharmacy\", \"phone\", \"phone\", \"phone\", \"phone\", \"phone\", \"phone\", \"phone\", \"picnic\", \"picnic\", \"pico\", \"piss\", \"piss\", \"pitch\", \"pitch\", \"pitch\", \"pizza\", \"pizza\", \"pizza\", \"pizza\", \"pizza\", \"pizza\", \"pizza\", \"place\", \"place\", \"place\", \"place\", \"place\", \"place\", \"place\", \"plug\", \"poach\", \"poach\", \"polish\", \"polish\", \"polish\", \"polish\", \"pollo\", \"pool\", \"pool\", \"pool\", \"pool\", \"popcorn\", \"popcorn\", \"popcorn\", \"popcorn\", \"popcorn\", \"pork\", \"pork\", \"pork\", \"pork\", \"pork\", \"potato\", \"potato\", \"potato\", \"potato\", \"potato\", \"potato\", \"pour\", \"pour\", \"pour\", \"pour\", \"pour\", \"pour\", \"pour\", \"preserve\", \"preserve\", \"preserve\", \"pretentious\", \"pretentious\", \"pretentious\", \"pretty\", \"pretty\", \"pretty\", \"pretty\", \"pretty\", \"pretty\", \"pretty\", \"pretzel\", \"price\", \"price\", \"price\", \"price\", \"price\", \"price\", \"price\", \"product\", \"product\", \"product\", \"product\", \"product\", \"product\", \"product\", \"professional\", \"professional\", \"professional\", \"professional\", \"professional\", \"professional\", \"professional\", \"pup\", \"purple\", \"quit\", \"raman\", \"raman\", \"raman\", \"recommend\", \"recommend\", \"recommend\", \"recommend\", \"recommend\", \"recommend\", \"recommend\", \"redone\", \"refund\", \"refund\", \"refund\", \"refund\", \"refuse\", \"refuse\", \"refuse\", \"refuse\", \"refuse\", \"register\", \"register\", \"register\", \"register\", \"register\", \"repair\", \"repair\", \"repair\", \"resort\", \"resort\", \"resort\", \"resort\", \"responsive\", \"restaurant\", \"restaurant\", \"restaurant\", \"restaurant\", \"restaurant\", \"restaurant\", \"restaurant\", \"restriction\", \"result\", \"result\", \"result\", \"result\", \"result\", \"result\", \"rib\", \"rib\", \"rib\", \"rice\", \"rice\", \"rice\", \"rice\", \"rice\", \"rice\", \"rival\", \"rival\", \"robert\", \"robert\", \"roll\", \"roll\", \"roll\", \"roll\", \"roll\", \"roll\", \"roll\", \"room\", \"room\", \"room\", \"room\", \"room\", \"room\", \"rubbery\", \"rude\", \"rude\", \"rude\", \"rude\", \"rude\", \"rude\", \"rude\", \"runner\", \"safety\", \"salad\", \"salad\", \"salad\", \"salad\", \"salad\", \"salad\", \"salad\", \"salon\", \"salon\", \"salsa\", \"salsa\", \"salsa\", \"sashimi\", \"sashimi\", \"sashimi\", \"sauce\", \"sauce\", \"sauce\", \"sauce\", \"sauce\", \"sauce\", \"sauce\", \"savory\", \"savory\", \"savory\", \"savory\", \"say\", \"say\", \"say\", \"say\", \"say\", \"say\", \"say\", \"scone\", \"scorpion\", \"seat\", \"seat\", \"seat\", \"seat\", \"seat\", \"seat\", \"seat\", \"seating\", \"seating\", \"seating\", \"seating\", \"seating\", \"security\", \"security\", \"security\", \"selection\", \"selection\", \"selection\", \"selection\", \"selection\", \"selection\", \"selection\", \"server\", \"server\", \"server\", \"server\", \"server\", \"server\", \"server\", \"service\", \"service\", \"service\", \"service\", \"service\", \"service\", \"service\", \"session\", \"session\", \"sf\", \"sheet\", \"sheet\", \"shop\", \"shop\", \"shop\", \"shop\", \"shop\", \"shop\", \"shop\", \"shower\", \"shower\", \"shower\", \"shower\", \"shred\", \"shrimp\", \"shrimp\", \"shrimp\", \"shrimp\", \"skimp\", \"skimp\", \"sleep\", \"sleep\", \"sleep\", \"sleep\", \"small\", \"small\", \"small\", \"small\", \"small\", \"small\", \"small\", \"smoothie\", \"smoothie\", \"smoothie\", \"smoothie\", \"snow\", \"snow\", \"society\", \"sont\", \"soup\", \"soup\", \"soup\", \"soup\", \"spa\", \"spa\", \"spa\", \"space\", \"space\", \"space\", \"space\", \"space\", \"space\", \"spinach\", \"spinach\", \"spinach\", \"splash\", \"stadium\", \"stadium\", \"staff\", \"staff\", \"staff\", \"staff\", \"staff\", \"staff\", \"staff\", \"star\", \"star\", \"star\", \"star\", \"star\", \"star\", \"star\", \"starbuck\", \"starbuck\", \"starbuck\", \"starbuck\", \"starbuck\", \"stay\", \"stay\", \"stay\", \"stay\", \"stay\", \"stay\", \"stay\", \"steakhouse\", \"steakhouse\", \"steakhouse\", \"steakhouse\", \"steakhouse\", \"steve\", \"store\", \"store\", \"store\", \"store\", \"store\", \"store\", \"store\", \"suddenly\", \"suite\", \"suite\", \"suite\", \"summerlin\", \"summerlin\", \"summerlin\", \"supervisor\", \"supper\", \"sushi\", \"sushi\", \"sushi\", \"sushi\", \"table\", \"table\", \"table\", \"table\", \"table\", \"table\", \"table\", \"taco\", \"taco\", \"taco\", \"taco\", \"taco\", \"taco\", \"tacos\", \"take\", \"take\", \"take\", \"take\", \"take\", \"take\", \"take\", \"tangy\", \"tap\", \"tap\", \"tap\", \"tap\", \"tap\", \"tap\", \"taste\", \"taste\", \"taste\", \"taste\", \"taste\", \"taste\", \"taste\", \"taxi\", \"tea\", \"tea\", \"tea\", \"tea\", \"tea\", \"tea\", \"tea\", \"teacher\", \"team\", \"team\", \"team\", \"team\", \"team\", \"tech\", \"tech\", \"tech\", \"technician\", \"technician\", \"tell\", \"tell\", \"tell\", \"tell\", \"tell\", \"tell\", \"tell\", \"tenant\", \"thank\", \"thank\", \"thank\", \"thank\", \"thank\", \"thank\", \"thank\", \"theater\", \"theater\", \"theater\", \"therapist\", \"think\", \"think\", \"think\", \"think\", \"think\", \"think\", \"think\", \"thorough\", \"thorough\", \"thread\", \"tiger\", \"time\", \"time\", \"time\", \"time\", \"time\", \"time\", \"time\", \"tint\", \"tire\", \"tire\", \"tortilla\", \"tortilla\", \"tortilla\", \"tostada\", \"trail\", \"transfer\", \"trendy\", \"trendy\", \"try\", \"try\", \"try\", \"try\", \"try\", \"try\", \"try\", \"tr\\u00e8\", \"tuna\", \"tuna\", \"tuna\", \"tune\", \"tune\", \"tune\", \"tvs\", \"tzatziki\", \"un\", \"un\", \"une\", \"veal\", \"veal\", \"vegan\", \"vegan\", \"vegan\", \"vegan\", \"vegetable\", \"vegetable\", \"vegetable\", \"vegetable\", \"vegetable\", \"vegetarian\", \"vegetarian\", \"vegetarian\", \"vegetarian\", \"visit\", \"visit\", \"visit\", \"visit\", \"visit\", \"visit\", \"visit\", \"voucher\", \"voucher\", \"vous\", \"wagyu\", \"wagyu\", \"wagyu\", \"wait\", \"wait\", \"wait\", \"wait\", \"wait\", \"wait\", \"wait\", \"want\", \"want\", \"want\", \"want\", \"want\", \"want\", \"want\", \"warranty\", \"way\", \"way\", \"way\", \"way\", \"way\", \"way\", \"way\", \"wedding\", \"wedding\", \"wedding\", \"wedding\", \"wedding\", \"wedding\", \"wedding\", \"well\", \"well\", \"well\", \"well\", \"well\", \"well\", \"well\", \"whiskey\", \"wi\", \"wi\", \"wi\", \"wi\", \"windshield\", \"wine\", \"wine\", \"wine\", \"wine\", \"wine\", \"wine\", \"wine\", \"wonton\", \"work\", \"work\", \"work\", \"work\", \"work\", \"work\", \"work\", \"year\", \"year\", \"year\", \"year\", \"year\", \"year\", \"year\", \"yellowtail\", \"yellowtail\", \"yonge\", \"\\u00e0\"]}, \"R\": 30, \"lambda.step\": 0.01, \"plot.opts\": {\"xlab\": \"PC1\", \"ylab\": \"PC2\"}, \"topic.order\": [6, 7, 4, 1, 2, 5, 3]};\n",
       "\n",
       "function LDAvis_load_lib(url, callback){\n",
       "  var s = document.createElement('script');\n",
       "  s.src = url;\n",
       "  s.async = true;\n",
       "  s.onreadystatechange = s.onload = callback;\n",
       "  s.onerror = function(){console.warn(\"failed to load library \" + url);};\n",
       "  document.getElementsByTagName(\"head\")[0].appendChild(s);\n",
       "}\n",
       "\n",
       "if(typeof(LDAvis) !== \"undefined\"){\n",
       "   // already loaded: just create the visualization\n",
       "   !function(LDAvis){\n",
       "       new LDAvis(\"#\" + \"ldavis_el1241401931798547922967618085\", ldavis_el1241401931798547922967618085_data);\n",
       "   }(LDAvis);\n",
       "}else if(typeof define === \"function\" && define.amd){\n",
       "   // require.js is available: use it to load d3/LDAvis\n",
       "   require.config({paths: {d3: \"https://cdnjs.cloudflare.com/ajax/libs/d3/3.5.5/d3.min\"}});\n",
       "   require([\"d3\"], function(d3){\n",
       "      window.d3 = d3;\n",
       "      LDAvis_load_lib(\"https://cdn.rawgit.com/bmabey/pyLDAvis/files/ldavis.v1.0.0.js\", function(){\n",
       "        new LDAvis(\"#\" + \"ldavis_el1241401931798547922967618085\", ldavis_el1241401931798547922967618085_data);\n",
       "      });\n",
       "    });\n",
       "}else{\n",
       "    // require.js not available: dynamically load d3 & LDAvis\n",
       "    LDAvis_load_lib(\"https://cdnjs.cloudflare.com/ajax/libs/d3/3.5.5/d3.min.js\", function(){\n",
       "         LDAvis_load_lib(\"https://cdn.rawgit.com/bmabey/pyLDAvis/files/ldavis.v1.0.0.js\", function(){\n",
       "                 new LDAvis(\"#\" + \"ldavis_el1241401931798547922967618085\", ldavis_el1241401931798547922967618085_data);\n",
       "            })\n",
       "         });\n",
       "}\n",
       "</script>"
      ],
      "text/plain": [
       "PreparedData(topic_coordinates=              x         y  topics  cluster       Freq\n",
       "topic                                                \n",
       "5     -0.118051  0.055522       1        1  27.299408\n",
       "6     -0.088378  0.008962       2        1  18.861214\n",
       "3      0.117629 -0.008749       3        1  17.903646\n",
       "0      0.137039 -0.044323       4        1  15.872871\n",
       "1     -0.079480 -0.055542       5        1   9.897990\n",
       "4     -0.032091 -0.075875       6        1   5.568655\n",
       "2      0.063333  0.120004       7        1   4.596215, topic_info=     Category          Freq      Term         Total  loglift  logprob\n",
       "0     Default  12514.000000            12514.000000  30.0000  30.0000\n",
       "133   Default   5022.000000      food   5022.000000  29.0000  29.0000\n",
       "185   Default   4331.000000     great   4331.000000  28.0000  28.0000\n",
       "332   Default    754.000000     pizza    754.000000  27.0000  27.0000\n",
       "119   Default   5269.000000     place   5269.000000  26.0000  26.0000\n",
       "44    Default   3829.000000   service   3829.000000  25.0000  25.0000\n",
       "326   Default   3446.000000     order   3446.000000  24.0000  24.0000\n",
       "95    Default   1290.000000      room   1290.000000  23.0000  23.0000\n",
       "628   Default    851.000000     store    851.000000  22.0000  22.0000\n",
       "36    Default   3954.000000      come   3954.000000  21.0000  21.0000\n",
       "48    Default   8638.000000      \\n\\n   8638.000000  20.0000  20.0000\n",
       "285   Default   3213.000000        \\n   3213.000000  19.0000  19.0000\n",
       "359   Default   1506.000000       ask   1506.000000  18.0000  18.0000\n",
       "1     Default   2247.000000         $   2247.000000  17.0000  17.0000\n",
       "29    Default   1589.000000       say   1589.000000  16.0000  16.0000\n",
       "39    Default   6325.000000      good   6325.000000  15.0000  15.0000\n",
       "852   Default    527.000000      \\n\\n    527.000000  14.0000  14.0000\n",
       "33    Default   4376.000000      time   4376.000000  13.0000  13.0000\n",
       "174   Default   1384.000000   amazing   1384.000000  12.0000  12.0000\n",
       "131   Default   1542.000000       eat   1542.000000  11.0000  11.0000\n",
       "375   Default   1137.000000  customer   1137.000000  10.0000  10.0000\n",
       "1331  Default    560.000000     hotel    560.000000   9.0000   9.0000\n",
       "941   Default   1435.000000   chicken   1435.000000   8.0000   8.0000\n",
       "216   Default    671.000000      meat    671.000000   7.0000   7.0000\n",
       "17    Default   3777.000000      like   3777.000000   6.0000   6.0000\n",
       "639   Default    719.000000       car    719.000000   5.0000   5.0000\n",
       "310   Default   1625.000000      find   1625.000000   4.0000   4.0000\n",
       "576   Default   2238.000000      love   2238.000000   3.0000   3.0000\n",
       "106   Default    992.000000      year    992.000000   2.0000   2.0000\n",
       "283   Default   1516.000000      work   1516.000000   1.0000   1.0000\n",
       "...       ...           ...       ...           ...      ...      ...\n",
       "297    Topic7     55.797756     crust    123.814682   2.2829  -5.9637\n",
       "359    Topic7    200.231125       ask   1506.326050   1.0620  -4.6860\n",
       "1      Topic7    231.780334         $   2247.697266   0.8081  -4.5397\n",
       "326    Topic7    272.724213     order   3446.590332   0.5433  -4.3770\n",
       "186    Topic7     82.192604      hair    383.706512   1.5391  -5.5764\n",
       "29     Topic7    161.292618       say   1589.985718   0.7917  -4.9022\n",
       "874    Topic7     43.631409       gel    117.750984   2.0871  -6.2097\n",
       "285    Topic7    220.385880        \\n   3213.335449   0.4003  -4.5901\n",
       "119    Topic7    271.032440     place   5269.192871   0.1125  -4.3832\n",
       "36     Topic7    215.166519      come   3954.826904   0.1687  -4.6140\n",
       "355    Topic7    116.841728         2   1085.316528   0.8511  -5.2246\n",
       "35     Topic7    141.758102      wait   1720.135742   0.5839  -5.0313\n",
       "24     Topic7    112.601990    minute   1099.792969   0.8009  -5.2616\n",
       "17     Topic7    181.734283      like   3777.917480   0.0456  -4.7829\n",
       "72     Topic7    146.669220        go   3143.125488   0.0151  -4.9973\n",
       "149    Topic7     97.766365      star    991.201538   0.7636  -5.4029\n",
       "33     Topic7    155.669891      time   4376.796875  -0.2564  -4.9377\n",
       "133    Topic7    152.406784      food   5022.299316  -0.4152  -4.9589\n",
       "131    Topic7    102.180031       eat   1542.537842   0.3655  -5.3587\n",
       "0      Topic7    164.207153            12514.505859  -1.2536  -4.8843\n",
       "576    Topic7    110.112900      love   2238.073975   0.0681  -5.2839\n",
       "20     Topic7    105.281357      look   2002.259033   0.1345  -5.3288\n",
       "34     Topic7    108.647919       try   2593.808838  -0.0928  -5.2973\n",
       "71     Topic7    111.615646       get   2966.090820  -0.2000  -5.2704\n",
       "185    Topic7    120.285187     great   4331.443848  -0.5039  -5.1956\n",
       "267    Topic7    100.337021      want   1824.380005   0.1795  -5.3769\n",
       "39     Topic7    121.668259      good   6325.912109  -0.8712  -5.1841\n",
       "48     Topic7    127.401428      \\n\\n   8638.095703  -1.1367  -5.1381\n",
       "45     Topic7     96.924118     staff   1600.925415   0.2755  -5.4115\n",
       "106    Topic7     87.982872      year    992.128784   0.6572  -5.5083\n",
       "\n",
       "[598 rows x 6 columns], token_table=      Topic      Freq        Term\n",
       "term                             \n",
       "285       1  0.483921          \\n\n",
       "285       2  0.085892          \\n\n",
       "285       3  0.214730          \\n\n",
       "285       4  0.112967          \\n\n",
       "285       5  0.013071          \\n\n",
       "285       6  0.021473          \\n\n",
       "285       7  0.068465          \\n\n",
       "48        1  0.241951        \\n\\n\n",
       "48        2  0.394994        \\n\\n\n",
       "48        3  0.191940        \\n\\n\n",
       "48        4  0.092960        \\n\\n\n",
       "48        5  0.056610        \\n\\n\n",
       "48        6  0.006830        \\n\\n\n",
       "48        7  0.014702        \\n\\n\n",
       "0         1  0.006952            \n",
       "0         2  0.005354            \n",
       "0         3  0.018618            \n",
       "0         4  0.029965            \n",
       "0         5  0.887930            \n",
       "0         6  0.038116            \n",
       "0         7  0.013105            \n",
       "1275      1  0.091234          \\n\n",
       "1275      3  0.009123          \\n\n",
       "1275      4  0.054740          \\n\n",
       "1275      5  0.738992          \\n\n",
       "1275      6  0.009123          \\n\n",
       "1275      7  0.091234          \\n\n",
       "852       1  0.011371        \\n\\n\n",
       "852       2  0.039800        \\n\\n\n",
       "852       3  0.028429        \\n\\n\n",
       "...     ...       ...         ...\n",
       "3888      3  0.328973          wi\n",
       "3888      4  0.041122          wi\n",
       "3888      5  0.616824          wi\n",
       "3067      4  0.961438  windshield\n",
       "269       1  0.218288        wine\n",
       "269       2  0.632631        wine\n",
       "269       3  0.004042        wine\n",
       "269       4  0.006064        wine\n",
       "269       5  0.119250        wine\n",
       "269       6  0.018191        wine\n",
       "269       7  0.002021        wine\n",
       "2226      1  0.951772      wonton\n",
       "283       1  0.062633        work\n",
       "283       2  0.098893        work\n",
       "283       3  0.191853        work\n",
       "283       4  0.505675        work\n",
       "283       5  0.085048        work\n",
       "283       6  0.015823        work\n",
       "283       7  0.039557        work\n",
       "106       1  0.053420        year\n",
       "106       2  0.090714        year\n",
       "106       3  0.127000        year\n",
       "106       4  0.506991        year\n",
       "106       5  0.043341        year\n",
       "106       6  0.089706        year\n",
       "106       7  0.088698        year\n",
       "3819      1  0.083798  yellowtail\n",
       "3819      2  0.893850  yellowtail\n",
       "2694      2  0.952145       yonge\n",
       "2355      7  0.990606           à\n",
       "\n",
       "[1734 rows x 3 columns], R=30, lambda_step=0.01, plot_opts={'xlab': 'PC1', 'ylab': 'PC2'}, topic_order=[6, 7, 4, 1, 2, 5, 3])"
      ]
     },
     "execution_count": 141,
     "metadata": {},
     "output_type": "execute_result"
    }
   ],
   "source": [
    "# Topic distance vis. using pyLDAvis\n",
    "pyLDAvis.gensim.prepare(lda, corpus, id2word)"
   ]
  },
  {
   "cell_type": "code",
   "execution_count": 142,
   "metadata": {},
   "outputs": [],
   "source": [
    "# Select optimal number of topics via gensim CoherenceModel\n",
    "def compute_coherence_values(dictionary, corpus, limit, start=2, step=3):\n",
    "    \"\"\"\n",
    "    Compute c_v coherence for various number of topics\n",
    "\n",
    "    Parameters:\n",
    "    ----------\n",
    "    dictionary : Gensim dictionary\n",
    "    corpus : Gensim corpus\n",
    "    limit : Max num of topics\n",
    "\n",
    "    Returns:\n",
    "    -------\n",
    "    model_list : List of LDA topic models\n",
    "    coherence_values : Coherence values corresponding to the LDA model with respective number of topics\n",
    "    \"\"\"\n",
    "    coherence_values = []\n",
    "    model_list = []\n",
    "    for num_topics in range(start, limit, step):\n",
    "        stream = yelp['tokens']\n",
    "        model = LdaMulticore(corpus=corpus, num_topics=num_topics, id2word=id2word, workers=4)\n",
    "        model_list.append(model)\n",
    "        coherencemodel = CoherenceModel(model=model, texts=stream, dictionary=dictionary, coherence='c_v')\n",
    "        coherence_values.append(coherencemodel.get_coherence())\n",
    "\n",
    "    return model_list, coherence_values"
   ]
  },
  {
   "cell_type": "code",
   "execution_count": 143,
   "metadata": {},
   "outputs": [],
   "source": [
    "model_list, coherence_values = compute_coherence_values(dictionary=id2word, \n",
    "                                                        corpus=corpus, \n",
    "                                                        start=2, \n",
    "                                                        limit=20, \n",
    "                                                        step=2)"
   ]
  },
  {
   "cell_type": "code",
   "execution_count": 144,
   "metadata": {},
   "outputs": [
    {
     "data": {
      "image/png": "[encoded data removed]",
      "text/plain": [
       "<Figure size 432x288 with 1 Axes>"
      ]
     },
     "metadata": {
      "needs_background": "light"
     },
     "output_type": "display_data"
    }
   ],
   "source": [
    "# Graph coherence scores\n",
    "limit=20; start=2; step=2;\n",
    "x = range(start, limit, step)\n",
    "plt.plot(x, coherence_values)\n",
    "plt.xlabel(\"Num Topics\")\n",
    "plt.ylabel(\"Coherence score\")\n",
    "plt.legend((\"coherence_values\"), loc='best')\n",
    "plt.show()"
   ]
  },
  {
   "cell_type": "code",
   "execution_count": 145,
   "metadata": {},
   "outputs": [
    {
     "name": "stdout",
     "output_type": "stream",
     "text": [
      "Num Topics = 2  has Coherence Value of 0.3288\n",
      "Num Topics = 4  has Coherence Value of 0.3379\n",
      "Num Topics = 6  has Coherence Value of 0.3344\n",
      "Num Topics = 8  has Coherence Value of 0.3366\n",
      "Num Topics = 10  has Coherence Value of 0.3346\n",
      "Num Topics = 12  has Coherence Value of 0.3369\n",
      "Num Topics = 14  has Coherence Value of 0.3302\n",
      "Num Topics = 16  has Coherence Value of 0.335\n",
      "Num Topics = 18  has Coherence Value of 0.335\n"
     ]
    }
   ],
   "source": [
    "# Print coherence scores\n",
    "for m, cv in zip(x, coherence_values):\n",
    "    print(\"Num Topics =\", m, \" has Coherence Value of\", round(cv, 4))"
   ]
  },
  {
   "cell_type": "markdown",
   "metadata": {},
   "source": [
    "### Analysis\n",
    "\n",
    "This topic modeling analysis would benefit from more preprocessing; The yelp review data requires much more cleaning than out-of-the-box tools can currently offer. A couple glaring examples are 1) the high topical importances of formatting strings such as `\\n\\n`, multiple occurences of \"  \", and 2) the use of multiple languages. I think point two may be highly affective on the model because if the dataset is _mostly_ in English that would make foreign-word vector representations \"out of context\". Such terms wouldn't have a useful distance from other English words of which the topics consist of. This would explain why foreign words aren't found in the `pyLDAvis` interactive visualization of topics and their most salient terms; Even though those reviews are _likely_ to be discussing the same topics they won't be given much weight _due to the vector representation_. I think that if the foreign language reviews are to be used they need to be preprocessed separately and then recombined with the main data."
   ]
  },
  {
   "cell_type": "markdown",
   "metadata": {},
   "source": [
    "## Stretch Goals\n",
    "\n",
    "Complete one of more of these to push your score towards a three: \n",
    "* Incorporate named entity recognition into your analysis\n",
    "* Compare vectorization methods in the classification section\n",
    "* Analyze more (or all) of the yelp dataset - this one is v. hard. \n",
    "* Use a generator object on the reviews file - this would help you with the analyzing the whole dataset.\n",
    "* Incorporate any of the other yelp dataset entities in your analysis (business, users, etc.)"
   ]
  }
 ],
 "metadata": {
  "kernelspec": {
   "display_name": "U4-S1-NLP (Python 3)",
   "language": "python",
   "name": "u4-s1-nlp"
  },
  "language_info": {
   "codemirror_mode": {
    "name": "ipython",
    "version": 3
   },
   "file_extension": ".py",
   "mimetype": "text/x-python",
   "name": "python",
   "nbconvert_exporter": "python",
   "pygments_lexer": "ipython3",
   "version": "3.7.3"
  },
  "toc-autonumbering": false
 },
 "nbformat": 4,
 "nbformat_minor": 4
}
